{
 "cells": [
  {
   "cell_type": "code",
   "execution_count": 2,
   "metadata": {
    "collapsed": false
   },
   "outputs": [
    {
     "name": "stdout",
     "output_type": "stream",
     "text": [
      "Result after map: [3, 1.0, 9, 2.0, 15, 3.0, 21, 4.0, 27, 5.0]\n",
      "Result after filter: [9, 15, 5.0]\n",
      "Result after reduce: 140.0\n"
     ]
    }
   ],
   "source": [
    "# Ramon Lawrence - 99999999\n",
    "\n",
    "import functools\n",
    "\n",
    "data = list(range(1,11))\n",
    "\n",
    "# Map function\n",
    "def modify(x):\n",
    "    if x % 2 == 0:\n",
    "        return x/2\n",
    "    else:\n",
    "        return x*3\n",
    "\n",
    "# Filter function\n",
    "def myfilter(x):\n",
    "    if x >= 5 and x <= 20:\n",
    "        return True\n",
    "    return False\n",
    "\n",
    "# Reduce function\n",
    "def condsum(x, y):\n",
    "    if x > y:\n",
    "        return x+y\n",
    "    else:\n",
    "        return x*y\n",
    "\n",
    "result = list(map(modify, data))\n",
    "print(\"Result after map:\",result)\n",
    "\n",
    "result = list(filter(myfilter, result))\n",
    "print(\"Result after filter:\",result)\n",
    "\n",
    "result = functools.reduce(condsum, result)\n",
    "print(\"Result after reduce:\",result)\n"
   ]
  },
  {
   "cell_type": "code",
   "execution_count": null,
   "metadata": {
    "collapsed": true
   },
   "outputs": [],
   "source": []
  }
 ],
 "metadata": {
  "kernelspec": {
   "display_name": "Python 3",
   "language": "python",
   "name": "python3"
  },
  "language_info": {
   "codemirror_mode": {
    "name": "ipython",
    "version": 3
   },
   "file_extension": ".py",
   "mimetype": "text/x-python",
   "name": "python",
   "nbconvert_exporter": "python",
   "pygments_lexer": "ipython3",
   "version": "3.5.1"
  }
 },
 "nbformat": 4,
 "nbformat_minor": 0
}
