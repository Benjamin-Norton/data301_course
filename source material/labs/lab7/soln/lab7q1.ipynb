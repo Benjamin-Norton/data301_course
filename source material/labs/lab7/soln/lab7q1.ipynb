{
 "cells": [
  {
   "cell_type": "code",
   "execution_count": 12,
   "metadata": {
    "collapsed": false
   },
   "outputs": [
    {
     "name": "stdout",
     "output_type": "stream",
     "text": [
      "pno\t pname \t\t dno \t dname \t\t hours \t numemp\n",
      "P4 \t Maintenance \t D2 \t Consulting \t 96 \t 2\n",
      "P3 \t Budget \t D3 \t Accounting \t 46 \t 2\n",
      "P1 \t Instruments \t D1 \t Management \t 36 \t 2\n"
     ]
    }
   ],
   "source": [
    "# Ramon Lawrence - 99999999\n",
    "\n",
    "import mysql.connector\n",
    "\n",
    "try:\n",
    "    cnx = mysql.connector.connect(user='rlawrenc', password='test', host='cosc304.ok.ubc.ca', database='WorksOn')\n",
    "    cursor = cnx.cursor()\n",
    "    query = (\"SELECT proj.pno, pname, dept.dno, dname, SUM(hours) as totalHours, COUNT(eno) as numEmployees\"\n",
    "             +\" FROM dept INNER JOIN proj ON dept.dno=proj.dno INNER JOIN workson ON proj.pno = workson.pno\"\n",
    "             +\" WHERE budget > 140000 \"\n",
    "             +\" GROUP BY proj.pno, pname, dept.dno, dname\"\n",
    "             +\" ORDER BY totalHours DESC\")\n",
    "             \n",
    "    cursor.execute(query)\n",
    "    print(\"pno\\t pname \\t\\t dno \\t dname \\t\\t hours \\t numemp\")\n",
    "    for (pno, pname, dno, dname, hours, numemp) in cursor:\n",
    "        print(pno,\"\\t\",pname,\"\\t\",dno,\"\\t\",dname,\"\\t\",hours,\"\\t\",numemp)\n",
    "    cursor.close()\n",
    "except mysql.connector.Error as err:  \n",
    "    print(err)\n",
    "finally:\n",
    "    cnx.close()\n"
   ]
  },
  {
   "cell_type": "code",
   "execution_count": null,
   "metadata": {
    "collapsed": true
   },
   "outputs": [],
   "source": []
  }
 ],
 "metadata": {
  "kernelspec": {
   "display_name": "Python 3",
   "language": "python",
   "name": "python3"
  },
  "language_info": {
   "codemirror_mode": {
    "name": "ipython",
    "version": 3
   },
   "file_extension": ".py",
   "mimetype": "text/x-python",
   "name": "python",
   "nbconvert_exporter": "python",
   "pygments_lexer": "ipython3",
   "version": "3.5.1"
  }
 },
 "nbformat": 4,
 "nbformat_minor": 0
}
