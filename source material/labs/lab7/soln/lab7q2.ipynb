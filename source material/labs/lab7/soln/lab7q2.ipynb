{
 "cells": [
  {
   "cell_type": "code",
   "execution_count": 11,
   "metadata": {
    "collapsed": false
   },
   "outputs": [
    {
     "name": "stdout",
     "output_type": "stream",
     "text": [
      "age\t salary\n",
      "49 \t 50000.00\n",
      "44 \t 50000.00\n",
      "43 \t 50000.00\n",
      "49 \t 40000.00\n",
      "38 \t 40000.00\n",
      "41 \t 30000.00\n",
      "50 \t 30000.00\n",
      "\n",
      "Formula: 11.2612612613 * x + 40923.4234234 = y\n",
      "Predicted y-values: [ 41475.22522523  41418.91891892  41407.65765766  41475.22522523\n",
      "  41351.35135135  41385.13513514  41486.48648649]\n",
      "Prediction error: [  8524.77477477   8581.08108108   8592.34234234  -1475.22522523\n",
      "  -1351.35135135 -11385.13513514 -11486.48648649]\n",
      "Residual error: 9855.94438091\n"
     ]
    },
    {
     "data": {
      "image/png": "[encoded data removed]",
      "text/plain": [
       "<matplotlib.figure.Figure at 0xacb6e48>"
      ]
     },
     "metadata": {},
     "output_type": "display_data"
    }
   ],
   "source": [
    "# Ramon Lawrence - 99999999\n",
    "%matplotlib inline \n",
    "\n",
    "from scipy import stats\n",
    "import numpy as np\n",
    "import matplotlib.pyplot as plt\n",
    "import mysql.connector\n",
    "\n",
    "try:\n",
    "    # Make a connection to the database\n",
    "    cnx = mysql.connector.connect(user='rlawrenc', password='test', host='cosc304.ok.ubc.ca', database='WorksOn')\n",
    "    \n",
    "    # Create a cursor\n",
    "    cursor = cnx.cursor()\n",
    "    \n",
    "    # Execute SQL query\n",
    "    query = (\"SELECT timestampdiff(YEAR,bdate, CURDATE()) as age, salary FROM emp WHERE salary > 20000 AND salary < 55000 ORDER BY salary DESC\")             \n",
    "    cursor.execute(query)\n",
    "    \n",
    "    # Print results and put data in lists for analysis\n",
    "    print(\"age\\t salary\")\n",
    "    ageList = []\n",
    "    salaryList = []\n",
    "    \n",
    "    for (age, salary) in cursor:\n",
    "        ageList.append(age)\n",
    "        salaryList.append(float(salary))\n",
    "        print(age,\"\\t\",salary)\n",
    "        \n",
    "    # Close database cursor\n",
    "    cursor.close()\n",
    "    \n",
    "    # Convert lists to arrays for linear regression\n",
    "    x = np.array(ageList)\n",
    "    y = np.array(salaryList)\n",
    "    \n",
    "    # Compute linear regression\n",
    "    slope, intercept, r_value, p_value, slope_std_error = stats.linregress(x, y)\n",
    "\n",
    "    # Output information on regression\n",
    "    print(\"\\nFormula:\", slope,\"* x +\",intercept,\"= y\")\n",
    "    predict_y = intercept + slope * x\n",
    "    print(\"Predicted y-values:\",predict_y)\n",
    "    pred_error = y - predict_y\n",
    "    print(\"Prediction error:\",pred_error)\n",
    "    degr_freedom = len(x) - 2\n",
    "    residual_std_error = np.sqrt(np.sum(pred_error**2) / degr_freedom)\n",
    "    print(\"Residual error:\",residual_std_error)\n",
    "    \n",
    "    # Plot regression results\n",
    "    plt.plot(x, y, 'o')\n",
    "    plt.plot(x, predict_y, 'k-')\n",
    "    plt.xlabel(\"Age\")\n",
    "    plt.ylabel(\"Salary\")\n",
    "    plt.show()\n",
    "\n",
    "except mysql.connector.Error as err:  \n",
    "    print(err)\n",
    "finally:\n",
    "    cnx.close()"
   ]
  },
  {
   "cell_type": "code",
   "execution_count": null,
   "metadata": {
    "collapsed": true
   },
   "outputs": [],
   "source": []
  }
 ],
 "metadata": {
  "kernelspec": {
   "display_name": "Python 3",
   "language": "python",
   "name": "python3"
  },
  "language_info": {
   "codemirror_mode": {
    "name": "ipython",
    "version": 3
   },
   "file_extension": ".py",
   "mimetype": "text/x-python",
   "name": "python",
   "nbconvert_exporter": "python",
   "pygments_lexer": "ipython3",
   "version": "3.5.1"
  }
 },
 "nbformat": 4,
 "nbformat_minor": 0
}
