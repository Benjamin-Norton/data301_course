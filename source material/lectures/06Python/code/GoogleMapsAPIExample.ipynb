{
 "cells": [
  {
   "cell_type": "code",
   "execution_count": 74,
   "metadata": {
    "collapsed": false
   },
   "outputs": [
    {
     "name": "stdout",
     "output_type": "stream",
     "text": [
      "Geocoding address...\n",
      "Address: 3333 University Way, Kelowna, BC, Canada Coordinates: {'lat': 49.94001600000001, 'lng': -119.3954832}\n",
      "\n",
      "Reverse geocoding...\n",
      "Coordinates:  49.2683043 -123.2489377 Address: UBC Student Recreation Centre, 6000 Student Union Blvd, Vancouver, BC V6T 1Z1, Canada\n",
      "\n",
      "Driving directions...\n",
      "Start address: 3333 University Way, Kelowna, BC V1V, Canada \n",
      "Destination address: UBC Student Recreation Centre, 6000 Student Union Blvd, Vancouver, BC V6T 1Z1, Canada\n",
      "Distance: 414 km Time: 4 hours 29 mins\n",
      "Step 1 : 1 min Head <b>northeast</b> on <b>University Way</b> toward <b>BC-97 S</b>\n",
      "Step 2 : 2 mins Turn <b>left</b> at the 1st cross street onto <b>BC-97 N</b>\n",
      "Step 3 : 1 min Turn <b>right</b> onto <b>Airport Way</b>\n",
      "Step 4 : 1 min Turn <b>left</b> toward <b>Airport Way</b>\n",
      "Step 5 : 1 min Sharp <b>right</b> onto <b>Airport Way</b>\n",
      "Step 6 : 1 min Turn <b>right</b> to stay on <b>Airport Way</b>\n",
      "Step 7 : 33 mins Turn <b>left</b> onto <b>Hwy 97 N</b>/<b>Okanagan Hwy</b>/<b>BC-97 S</b><div style=\"font-size:0.9em\">Continue to follow Hwy 97 N/Okanagan Hwy</div>\n",
      "Step 8 : 1 min Take the <b>BC-97C W</b> ramp to <b>Merritt</b>/<b>Kamloops</b>/<b>Hope</b>\n",
      "Step 9 : 55 mins Continue onto <b>BC-97C</b>\n",
      "Step 10 : 58 mins Turn <b>left</b> to merge onto <b>BC-5 S</b> toward <b>Vancouver</b>/<b>Yellowhead Highway S</b>\n",
      "Step 11 : 3 mins Continue onto <b>BC-3 W</b>\n",
      "Step 12 : 1 hour 20 mins Continue onto <b>Trans-Canada Hwy</b>/<b>BC-1 W</b><div style=\"font-size:0.9em\">Partial toll road</div>\n",
      "Step 13 : 1 min Take exit <b>27</b> for <b>First Ave</b>\n",
      "Step 14 : 1 min Keep <b>left</b> at the fork to continue toward <b>E 1st Ave</b>\n",
      "Step 15 : 8 mins Turn <b>left</b> onto <b>E 1st Ave</b>\n",
      "Step 16 : 3 mins Continue onto <b>Terminal Ave</b>\n",
      "Step 17 : 1 min Turn <b>left</b> onto <b>Quebec St</b>\n",
      "Step 18 : 3 mins Turn <b>right</b> onto <b>E 2nd Ave</b>\n",
      "Step 19 : 2 mins Continue onto <b>W 6th Ave</b>\n",
      "Step 20 : 13 mins Slight <b>right</b> onto <b>W 4th Ave</b>\n",
      "Step 21 : 2 mins Continue onto <b>Chancellor Blvd</b>\n",
      "Step 22 : 1 min Turn <b>left</b> onto <b>Wesbrook Mall</b>\n",
      "Step 23 : 1 min Turn <b>right</b> onto <b>Student Union Blvd</b>\n",
      "Step 24 : 1 min Turn <b>left</b> to stay on <b>Student Union Blvd</b><div style=\"font-size:0.9em\">Destination will be on the right</div>\n"
     ]
    }
   ],
   "source": [
    "# Example requests for Google Maps API\n",
    "import googlemaps\n",
    "from datetime import datetime\n",
    "\n",
    "# TODO: Replace the API key below with a valid API key. Will not work otherwise.\n",
    "gmaps = googlemaps.Client(key='yourkey')\n",
    "\n",
    "# Use Geocoding API to look up latitude, longitude for a place\n",
    "address = '3333 University Way, Kelowna, BC, Canada'\n",
    "geocode_result = gmaps.geocode(address)\n",
    "\n",
    "print(\"Geocoding address...\")\n",
    "print(\"Address:\",address,\"Coordinates:\",geocode_result[0][\"geometry\"][\"location\"])\n",
    "\n",
    "# Look up an address with reverse geocoding (UBC Vancouver)\n",
    "lat = 49.2683043\n",
    "lon = -123.2489377\n",
    "reverse_geocode_result = gmaps.reverse_geocode((lat, lon))\n",
    "\n",
    "print(\"\\nReverse geocoding...\")\n",
    "print(\"Coordinates: \",lat,lon,\"Address:\",reverse_geocode_result[0][\"formatted_address\"])\n",
    "\n",
    "# Request driving directions between UBC Okanagan and UBC Vancouver\n",
    "now = datetime.now()\n",
    "directions_result = gmaps.directions(address,\n",
    "                                     reverse_geocode_result[0][\"formatted_address\"],\n",
    "                                     mode=\"driving\",\n",
    "                                     departure_time=now)\n",
    "\n",
    "print(\"\\nDriving directions...\")\n",
    "leg = directions_result[0]['legs'][0]\n",
    "print(\"Start address:\",leg['start_address'],\"\\nDestination address:\",leg['end_address'])\n",
    "print(\"Distance:\",leg['distance']['text'],\"Time:\",leg['duration']['text'])\n",
    "i = 1\n",
    "for step in leg['steps']:\n",
    "    print(\"Step\",i,\":\",step['duration']['text'], step['html_instructions'])\n",
    "    i=i+1\n"
   ]
  },
  {
   "cell_type": "code",
   "execution_count": null,
   "metadata": {
    "collapsed": true
   },
   "outputs": [],
   "source": []
  }
 ],
 "metadata": {
  "kernelspec": {
   "display_name": "Python 3",
   "language": "python",
   "name": "python3"
  },
  "language_info": {
   "codemirror_mode": {
    "name": "ipython",
    "version": 3
   },
   "file_extension": ".py",
   "mimetype": "text/x-python",
   "name": "python",
   "nbconvert_exporter": "python",
   "pygments_lexer": "ipython3",
   "version": "3.5.1"
  }
 },
 "nbformat": 4,
 "nbformat_minor": 0
}
