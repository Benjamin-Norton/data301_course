{
 "cells": [
  {
   "cell_type": "code",
   "execution_count": 2,
   "metadata": {},
   "outputs": [
    {
     "name": "stdout",
     "output_type": "stream",
     "text": [
      "A\n",
      "B\n",
      "C\n",
      "D\n",
      "E\n",
      "F\n",
      "G\n",
      "H\n",
      "I\n",
      "J\n",
      "K\n",
      "L\n",
      "M\n",
      "N\n",
      "O\n",
      "P\n",
      "Q\n",
      "R\n",
      "S\n",
      "T\n",
      "U\n",
      "V\n",
      "W\n",
      "X\n",
      "Y\n",
      "Z\n"
     ]
    }
   ],
   "source": [
    "import string\n",
    "for letter in string.ascii_uppercase:\n",
    "    print(letter)"
   ]
  },
  {
   "cell_type": "code",
   "execution_count": 4,
   "metadata": {},
   "outputs": [
    {
     "name": "stdout",
     "output_type": "stream",
     "text": [
      "{'A': 0, 'B': 0, 'C': 0, 'D': 0, 'E': 0, 'F': 0, 'G': 0, 'H': 0, 'I': 0, 'J': 0, 'K': 0, 'L': 0, 'M': 0, 'N': 0, 'O': 0, 'P': 0, 'Q': 0, 'R': 0, 'S': 0, 'T': 0, 'U': 0, 'V': 0, 'W': 0, 'X': 0, 'Y': 0, 'Z': 0}\n"
     ]
    }
   ],
   "source": [
    "counts = {}\n",
    "for letter in string.ascii_uppercase:\n",
    "    counts[letter] = 0\n",
    "print(counts)"
   ]
  },
  {
   "cell_type": "code",
   "execution_count": 8,
   "metadata": {},
   "outputs": [
    {
     "name": "stdout",
     "output_type": "stream",
     "text": [
      "Enter a message: This is a message\n"
     ]
    }
   ],
   "source": [
    "from pprint import pprint\n",
    "istr = input(\"Enter a message: \")"
   ]
  },
  {
   "cell_type": "code",
   "execution_count": 10,
   "metadata": {},
   "outputs": [
    {
     "name": "stdout",
     "output_type": "stream",
     "text": [
      "{'A': 2, 'B': 0, 'C': 0, 'D': 0, 'E': 2, 'F': 0, 'G': 1, 'H': 1, 'I': 2, 'J': 0, 'K': 0, 'L': 0, 'M': 1, 'N': 0, 'O': 0, 'P': 0, 'Q': 0, 'R': 0, 'S': 4, 'T': 3, 'U': 0, 'V': 0, 'W': 0, 'X': 0, 'Y': 0, 'Z': 0}\n"
     ]
    }
   ],
   "source": [
    "istr = istr.upper()\n",
    "for c in istr:\n",
    "    if c in counts:\n",
    "        counts[c] = counts[c]+1\n",
    "print(counts)"
   ]
  },
  {
   "cell_type": "code",
   "execution_count": 6,
   "metadata": {},
   "outputs": [
    {
     "name": "stdout",
     "output_type": "stream",
     "text": [
      "istrT\n",
      "countsT\n",
      "istrh\n",
      "istri\n",
      "istrs\n",
      "istr \n",
      "istri\n",
      "istrs\n",
      "istr \n",
      "istra\n",
      "istr \n",
      "istrm\n",
      "istre\n",
      "istrs\n",
      "istrs\n",
      "istra\n",
      "istrg\n",
      "istre\n"
     ]
    }
   ],
   "source": [
    "for c in istr:\n",
    "    print(\"istr\"+c)\n",
    "    if c in counts:\n",
    "        print(\"counts\"+c)\n",
    "        counts[c] = counts[c]+1        "
   ]
  },
  {
   "cell_type": "code",
   "execution_count": null,
   "metadata": {},
   "outputs": [],
   "source": []
  },
  {
   "cell_type": "code",
   "execution_count": 7,
   "metadata": {},
   "outputs": [
    {
     "name": "stdout",
     "output_type": "stream",
     "text": [
      "istrT\n",
      "countsT\n",
      "istrh\n",
      "istri\n",
      "istrs\n",
      "istr \n",
      "istri\n",
      "istrs\n",
      "istr \n",
      "istra\n",
      "istr \n",
      "istrm\n",
      "istre\n",
      "istrs\n",
      "istrs\n",
      "istra\n",
      "istrg\n",
      "istre\n"
     ]
    }
   ],
   "source": [
    "for c in istr:\n",
    "    print(\"istr\"+c)\n",
    "    if c in counts:\n",
    "        print(\"counts\"+c)\n",
    "        counts[c] = counts[c]+1"
   ]
  },
  {
   "cell_type": "code",
   "execution_count": null,
   "metadata": {},
   "outputs": [],
   "source": []
  }
 ],
 "metadata": {
  "kernelspec": {
   "display_name": "Python 3",
   "language": "python",
   "name": "python3"
  },
  "language_info": {
   "codemirror_mode": {
    "name": "ipython",
    "version": 3
   },
   "file_extension": ".py",
   "mimetype": "text/x-python",
   "name": "python",
   "nbconvert_exporter": "python",
   "pygments_lexer": "ipython3",
   "version": "3.7.0"
  }
 },
 "nbformat": 4,
 "nbformat_minor": 2
}
