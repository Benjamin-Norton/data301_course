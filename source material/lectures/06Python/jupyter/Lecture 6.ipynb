{
 "cells": [
  {
   "cell_type": "code",
   "execution_count": null,
   "metadata": {},
   "outputs": [],
   "source": []
  },
  {
   "cell_type": "raw",
   "metadata": {},
   "source": [
    "# Lecture 6 - Python"
   ]
  },
  {
   "cell_type": "markdown",
   "metadata": {},
   "source": [
    "## Escape character \n",
    "Strings can contain most characters except enter, backspace, tab, and backslash. These special characters must be *escaped* by using the escape character:  `\\`"
   ]
  },
  {
   "cell_type": "code",
   "execution_count": 31,
   "metadata": {},
   "outputs": [
    {
     "name": "stdout",
     "output_type": "stream",
     "text": [
      "first line \n",
      " second line\n"
     ]
    }
   ],
   "source": [
    "print(\"first line \\n second line\") # note the space"
   ]
  },
  {
   "cell_type": "code",
   "execution_count": 32,
   "metadata": {},
   "outputs": [
    {
     "name": "stdout",
     "output_type": "stream",
     "text": [
      "first line \n",
      "second line\n"
     ]
    }
   ],
   "source": [
    "print(\"first line \\nsecond line\") # removes the space"
   ]
  },
  {
   "cell_type": "code",
   "execution_count": 6,
   "metadata": {},
   "outputs": [
    {
     "name": "stdout",
     "output_type": "stream",
     "text": [
      "we can print a quote (' or \") using a backslash (\\)\n"
     ]
    }
   ],
   "source": [
    "print(\"we can print a quote (\\' or \\\") using a backslash (\\\\)\")"
   ]
  },
  {
   "cell_type": "code",
   "execution_count": 1,
   "metadata": {},
   "outputs": [
    {
     "name": "stdout",
     "output_type": "stream",
     "text": [
      "name: Joseph \"Joe\" Jones\n",
      "storeName: Joe's Store\n",
      "height: 5'9\"\n",
      "\n",
      "\n",
      "String that is really long\n",
      "with multiple lines\n",
      "     and spaces is perfectly fine\n"
     ]
    }
   ],
   "source": [
    "name = 'Joseph \"Joe\" Jones'\n",
    "print(\"name:\", name)\n",
    "storeName = 'Joe\\'s Store'\n",
    "storeName = \"Joe's Store\" # alternatively\n",
    "print(\"storeName:\", storeName)\n",
    "height = '''5'9\"'''\n",
    "print(\"height:\", height)\n",
    "print(\"\\n\") # new line\n",
    "print(\"\"\"String that is really long\n",
    "with multiple lines\n",
    "     and spaces is perfectly fine\"\"\")"
   ]
  },
  {
   "cell_type": "markdown",
   "metadata": {},
   "source": [
    "## Python String Indexing\n",
    "Individual characters of a string can be accessed using square brackets `[]`. The first character indexed at 0."
   ]
  },
  {
   "cell_type": "code",
   "execution_count": 7,
   "metadata": {},
   "outputs": [
    {
     "name": "stdout",
     "output_type": "stream",
     "text": [
      "e\n",
      "A\n",
      "o\n"
     ]
    }
   ],
   "source": [
    "str = \"Hello\"\n",
    "print(str[1]) \n",
    "print(\"ABCD\"[0])\n",
    "print(str[-1])\n"
   ]
  },
  {
   "cell_type": "markdown",
   "metadata": {},
   "source": [
    "## Methods vs function\n",
    "A *method*  is similar to a function however it is attached to an object.  We use functions with the syntax `function_name(arguments)` and we use methods with the syntax `object.method(arguments)`"
   ]
  },
  {
   "cell_type": "code",
   "execution_count": 8,
   "metadata": {},
   "outputs": [],
   "source": [
    "st = \"Hello\"\n",
    "st2 = \"Goodbye\""
   ]
  },
  {
   "cell_type": "code",
   "execution_count": 11,
   "metadata": {},
   "outputs": [
    {
     "name": "stdout",
     "output_type": "stream",
     "text": [
      "5\n",
      "HELLO\n",
      "hello\n",
      "9\n",
      "HelloGoodbye\n",
      "Hel\n",
      "ello\n",
      "99\n"
     ]
    }
   ],
   "source": [
    "print(len(st))\n",
    "print(st.upper())\n",
    "print(st.lower())\n",
    "print(str(9))\n",
    "print(st+st2)\n",
    "print(st[0:3])\n",
    "print(st[1:])\n",
    "print(int(\"99\"))"
   ]
  },
  {
   "cell_type": "code",
   "execution_count": 15,
   "metadata": {},
   "outputs": [
    {
     "name": "stdout",
     "output_type": "stream",
     "text": [
      "<class 'int'>\n",
      "<class 'str'>\n",
      "<class 'str'>\n",
      "<class 'int'>\n"
     ]
    }
   ],
   "source": [
    "print(type(99))\n",
    "print(type(str(99)))\n",
    "print(type(\"99\"))\n",
    "print(type(int(\"99\")))"
   ]
  },
  {
   "cell_type": "code",
   "execution_count": 138,
   "metadata": {},
   "outputs": [
    {
     "name": "stdout",
     "output_type": "stream",
     "text": [
      "length of st: 5\n",
      "st converted to uppercase: HELLO\n",
      "st converted to lowercase: hello\n",
      "Hello\n"
     ]
    }
   ],
   "source": [
    "print(\"length of st:\", len(st))\n",
    "print(\"st converted to uppercase:\", st.upper())\n",
    "print(\"st converted to lowercase:\", st.lower())\n",
    "print(st) # st is unchanged"
   ]
  },
  {
   "cell_type": "markdown",
   "metadata": {},
   "source": [
    "Before moving the the next examples, we need to delete the variable `str` in order to make use of `str` (the function)"
   ]
  },
  {
   "cell_type": "code",
   "execution_count": 10,
   "metadata": {},
   "outputs": [],
   "source": [
    "del str"
   ]
  },
  {
   "cell_type": "code",
   "execution_count": 145,
   "metadata": {},
   "outputs": [
    {
     "name": "stdout",
     "output_type": "stream",
     "text": [
      "<class 'int'>\n",
      "<class 'str'>\n",
      "18\n",
      "9nine\n"
     ]
    }
   ],
   "source": [
    "num = 9\n",
    "nst = '9'\n",
    "nst = str(num)\n",
    "print(type(num)) #treated as an integer\n",
    "print(type(nst)) # treated as a string\n",
    "print(num + 9)\n",
    "print(nst+\"nine\")"
   ]
  },
  {
   "cell_type": "markdown",
   "metadata": {},
   "source": [
    "To convert a number back into a string:"
   ]
  },
  {
   "cell_type": "code",
   "execution_count": 34,
   "metadata": {},
   "outputs": [
    {
     "name": "stdout",
     "output_type": "stream",
     "text": [
      "<class 'int'>\n",
      "10\n"
     ]
    }
   ],
   "source": [
    "ist = int(nst)\n",
    "print(type(ist))\n",
    "print(ist + 1)"
   ]
  },
  {
   "cell_type": "markdown",
   "metadata": {},
   "source": [
    "Notice that we can't mix numbers and strings with the `+` operator:"
   ]
  },
  {
   "cell_type": "code",
   "execution_count": 39,
   "metadata": {},
   "outputs": [
    {
     "name": "stdout",
     "output_type": "stream",
     "text": [
      "HelloWorld!\n",
      "Hello World!\n",
      "Hello World!(2)\n"
     ]
    }
   ],
   "source": [
    "# print(nst + 9) # produces an error\n",
    "# print(num+\"nine\") # produces an erre\n",
    "st1 = \"Hello\"\n",
    "st2 = \"World!\"\n",
    "print(st1+st2)\n",
    "print(st1+\" \"+st2) #hardcode spaces\n",
    "print(st1+\" \"+st2+\"(\"+str(2)+\")\") # covert numbers to strings before string concatenation"
   ]
  },
  {
   "cell_type": "markdown",
   "metadata": {},
   "source": [
    "But we can mix numbers and strings with `print`"
   ]
  },
  {
   "cell_type": "code",
   "execution_count": 36,
   "metadata": {},
   "outputs": [
    {
     "name": "stdout",
     "output_type": "stream",
     "text": [
      "Hello 9 100 hi there byethere\n",
      "Hello, 9, 100, hi there\n"
     ]
    }
   ],
   "source": [
    "st1 = \"Hello\"\n",
    "st2 = \"World!\"\n",
    "print(st1,num, 100, \"hi there\", \"byethere\")  \n",
    "# can change the default separator from spaces to commas\n",
    "print(st1,num, 100, \"hi there\", sep=\", \")"
   ]
  },
  {
   "cell_type": "code",
   "execution_count": 32,
   "metadata": {},
   "outputs": [
    {
     "name": "stdout",
     "output_type": "stream",
     "text": [
      "Hel\n",
      "ello\n",
      "o\n",
      "ll\n"
     ]
    }
   ],
   "source": [
    "print(st[0:3])\n",
    "print(st[1:])\n",
    "print(st[-1])\n",
    "print(st[-3:-1])"
   ]
  },
  {
   "cell_type": "markdown",
   "metadata": {},
   "source": [
    "## Split\n",
    "The `split` function will divide a string based on a separator. \n",
    "Without any arguments, it splits on whitespace:\n"
   ]
  },
  {
   "cell_type": "code",
   "execution_count": 41,
   "metadata": {},
   "outputs": [
    {
     "name": "stdout",
     "output_type": "stream",
     "text": [
      "['Awesome', 'coding!', 'Very', 'good!']\n",
      "<class 'list'>\n"
     ]
    }
   ],
   "source": [
    "st = \"Awesome coding! Very good!\"\n",
    "st_split = st.split()\n",
    "print(st_split)\n",
    "print(type(st_split)) # returns a list"
   ]
  },
  {
   "cell_type": "code",
   "execution_count": 12,
   "metadata": {},
   "outputs": [
    {
     "name": "stdout",
     "output_type": "stream",
     "text": [
      "['data', 'csv', '100', '50', '', '25', '\"use split\"', '99']\n"
     ]
    }
   ],
   "source": [
    "st = 'data,csv,100,50,,25,\"use split\",99'\n",
    "print(st.split(\",\"))"
   ]
  },
  {
   "cell_type": "markdown",
   "metadata": {},
   "source": [
    "# Python structures\n",
    "\n",
    "## Lists\n",
    "A `list` is a collection of data items that are referenced by index."
   ]
  },
  {
   "cell_type": "code",
   "execution_count": 45,
   "metadata": {},
   "outputs": [
    {
     "name": "stdout",
     "output_type": "stream",
     "text": [
      "100\n",
      "two\n",
      "600\n",
      "600\n",
      "[300, 'one']\n"
     ]
    }
   ],
   "source": [
    "data = [100, 200, 300, 'one', 'two', 600]\n",
    "print(data[0])           # 100\n",
    "print(data[4])           # 'two'\n",
    "# print(data[6])           # error ? out of range\n",
    "print(data[len(data)-1]) # 600\n",
    "print(data[-1])          # 600\n",
    "print(data[2:4])         # [300, 'one']"
   ]
  },
  {
   "cell_type": "code",
   "execution_count": 46,
   "metadata": {},
   "outputs": [],
   "source": [
    "emptyList = []"
   ]
  },
  {
   "cell_type": "markdown",
   "metadata": {},
   "source": [
    "**N.B.** if we were following PEP8's style guide i should really be calling this `empty_list`"
   ]
  },
  {
   "cell_type": "code",
   "execution_count": 30,
   "metadata": {},
   "outputs": [
    {
     "name": "stdout",
     "output_type": "stream",
     "text": [
      "[0, 1, 2, 3, 4, 5, 6, 7, 8, 9]\n",
      "[1, 2, 3, 4, 5, 6, 7, 8, 9]\n",
      "[1, 3, 5, 7, 9]\n"
     ]
    }
   ],
   "source": [
    "print(list(range(10)))\n",
    "print(list(range(1,10)))\n",
    "print(list(range(1,10,2)))"
   ]
  },
  {
   "cell_type": "markdown",
   "metadata": {},
   "source": [
    "Modify values:"
   ]
  },
  {
   "cell_type": "code",
   "execution_count": 47,
   "metadata": {},
   "outputs": [
    {
     "name": "stdout",
     "output_type": "stream",
     "text": [
      "[1, 2, 7, 5]\n"
     ]
    }
   ],
   "source": [
    "data = [1,2,3,5]\n",
    "data[2] = 7\n",
    "print(data)"
   ]
  },
  {
   "cell_type": "markdown",
   "metadata": {},
   "source": [
    "We can also modify multiple values at a time in the following way:"
   ]
  },
  {
   "cell_type": "code",
   "execution_count": 48,
   "metadata": {},
   "outputs": [
    {
     "name": "stdout",
     "output_type": "stream",
     "text": [
      "['one', 'two', 2, 7, 5]\n"
     ]
    }
   ],
   "source": [
    "data[0:1] = [\"one\",\"two\"]\n",
    "print(data)"
   ]
  },
  {
   "cell_type": "markdown",
   "metadata": {},
   "source": [
    "Notice that when  we try to add a value to the end of the list, we get an error:"
   ]
  },
  {
   "cell_type": "code",
   "execution_count": 49,
   "metadata": {},
   "outputs": [],
   "source": [
    "# data[5] = 10 # produces an error"
   ]
  },
  {
   "cell_type": "markdown",
   "metadata": {},
   "source": [
    "To add an item to the end of the list, use the `append()` method."
   ]
  },
  {
   "cell_type": "code",
   "execution_count": 50,
   "metadata": {},
   "outputs": [
    {
     "name": "stdout",
     "output_type": "stream",
     "text": [
      "[1, 2, 3, 5, 7]\n"
     ]
    }
   ],
   "source": [
    "data = [1,2,3,5]\n",
    "data.append(7)\n",
    "print(data)"
   ]
  },
  {
   "cell_type": "markdown",
   "metadata": {},
   "source": [
    "Alternatively we could have used `+`"
   ]
  },
  {
   "cell_type": "code",
   "execution_count": 51,
   "metadata": {},
   "outputs": [
    {
     "name": "stdout",
     "output_type": "stream",
     "text": [
      "[1, 2, 3, 5, 7]\n"
     ]
    }
   ],
   "source": [
    "data = [1,2,3,5]\n",
    "data = data + [7]\n",
    "print(data)"
   ]
  },
  {
   "cell_type": "markdown",
   "metadata": {},
   "source": [
    "Iterating over lists in a loop:"
   ]
  },
  {
   "cell_type": "code",
   "execution_count": 36,
   "metadata": {},
   "outputs": [
    {
     "name": "stdout",
     "output_type": "stream",
     "text": [
      "red\n",
      "yellow\n",
      "green\n",
      "blue\n",
      "blue blue\n"
     ]
    }
   ],
   "source": [
    "colours = ['red', 'yellow', 'green', 'blue']\n",
    "for i in colours:\n",
    "    print(i)\n",
    "print(i,i)"
   ]
  },
  {
   "cell_type": "code",
   "execution_count": 37,
   "metadata": {},
   "outputs": [
    {
     "name": "stdout",
     "output_type": "stream",
     "text": [
      "[1, 2, 3, 5, 8, 13]\n"
     ]
    }
   ],
   "source": [
    "i = [1, 2, 3, 5, 8, 13]\n",
    "j = []\n",
    "for l in i:\n",
    "    j.append(l)\n",
    "print(j)"
   ]
  },
  {
   "cell_type": "markdown",
   "metadata": {},
   "source": [
    "## `append` vs `extend`\n",
    "\n",
    "`append()` adds its argument as a *single* element (eg. a number, a string or a \n",
    " another list)  to the end of an existing list."
   ]
  },
  {
   "cell_type": "code",
   "execution_count": 56,
   "metadata": {},
   "outputs": [
    {
     "name": "stdout",
     "output_type": "stream",
     "text": [
      "[1, 2, 3, [4, 5]]\n",
      "4\n"
     ]
    }
   ],
   "source": [
    "x = [1, 2, 3] # len(x) = 3\n",
    "x.append([4,5])\n",
    "print(x)\n",
    "print(len(x))"
   ]
  },
  {
   "cell_type": "markdown",
   "metadata": {},
   "source": [
    "Notice how the length of the list increases by one. If we want to add the elements one-by-one to the end of `x` we could either use a loop as we did in the previous slide of use the  `extend()` method. `extend()`  _iterates_ over its argument and adds each element to the list thereby *extending* the list."
   ]
  },
  {
   "cell_type": "code",
   "execution_count": 38,
   "metadata": {},
   "outputs": [
    {
     "name": "stdout",
     "output_type": "stream",
     "text": [
      "[1, 2, 3, 4, 5]\n",
      "5\n"
     ]
    }
   ],
   "source": [
    "x = [1, 2, 3]\n",
    "x.extend([4,5])\n",
    "print(x)\n",
    "print(len(x))"
   ]
  },
  {
   "cell_type": "markdown",
   "metadata": {},
   "source": [
    "The above code is equivalent to iterating over ``[4,5]`` and appending the items one-by-one:"
   ]
  },
  {
   "cell_type": "code",
   "execution_count": 39,
   "metadata": {},
   "outputs": [
    {
     "name": "stdout",
     "output_type": "stream",
     "text": [
      "[1, 2, 3, 4, 5]\n",
      "5\n"
     ]
    }
   ],
   "source": [
    "x = [1, 2, 3]\n",
    "q = [4,5]\n",
    "for i in q:\n",
    "    x.append(i)\n",
    "print(x)\n",
    "print(len(x))"
   ]
  },
  {
   "cell_type": "markdown",
   "metadata": {},
   "source": [
    "Alternatively, we could have used\n"
   ]
  },
  {
   "cell_type": "code",
   "execution_count": 58,
   "metadata": {},
   "outputs": [
    {
     "name": "stdout",
     "output_type": "stream",
     "text": [
      "x: [1, 2, 3]\n",
      "3\n",
      "extended x: [1, 2, 3, 4, 5]\n",
      "5\n"
     ]
    }
   ],
   "source": [
    "x = [1, 2, 3] \n",
    "print(\"x:\",x)\n",
    "print(len(x))\n",
    "x = x + [4,5]\n",
    "print(\"extended x:\", x)\n",
    "print(len(x))"
   ]
  },
  {
   "cell_type": "markdown",
   "metadata": {},
   "source": [
    "Another example:"
   ]
  },
  {
   "cell_type": "code",
   "execution_count": 59,
   "metadata": {},
   "outputs": [
    {
     "name": "stdout",
     "output_type": "stream",
     "text": [
      "[1, 2, 3, [4, 5]]\n",
      "x[3] with append: [4, 5]\n",
      "[1, 2, 3, 4, 5]\n",
      "x[3] with extend: 4\n"
     ]
    }
   ],
   "source": [
    "x = [1, 2, 3]\n",
    "x.append([4, 5])\n",
    "print(x)\n",
    "print(\"x[3] with append:\", x[3])\n",
    "\n",
    "x = [1, 2, 3]\n",
    "x.extend([4, 5])\n",
    "print (x)\n",
    "print(\"x[3] with extend:\", x[3])"
   ]
  },
  {
   "cell_type": "markdown",
   "metadata": {},
   "source": [
    "## List operators"
   ]
  },
  {
   "cell_type": "code",
   "execution_count": 40,
   "metadata": {},
   "outputs": [],
   "source": [
    "data = [1, 2, 3, 5]\n",
    "lst = []"
   ]
  },
  {
   "cell_type": "code",
   "execution_count": 18,
   "metadata": {},
   "outputs": [
    {
     "name": "stdout",
     "output_type": "stream",
     "text": [
      "[1, 2, 3, 5, 1]\n"
     ]
    }
   ],
   "source": [
    "data.append(1)\n",
    "print(data)"
   ]
  },
  {
   "cell_type": "code",
   "execution_count": 19,
   "metadata": {},
   "outputs": [
    {
     "name": "stdout",
     "output_type": "stream",
     "text": [
      "[1, 2, 3, 4, 5, 1]\n"
     ]
    }
   ],
   "source": [
    "data.insert(3,4) # arg1 = index, arg2 = value\n",
    "print(data)"
   ]
  },
  {
   "cell_type": "code",
   "execution_count": 20,
   "metadata": {},
   "outputs": [
    {
     "name": "stdout",
     "output_type": "stream",
     "text": [
      "[2, 3, 4, 5, 1]\n"
     ]
    }
   ],
   "source": [
    "data.remove(1) # arg1 = value\n",
    "print(data) # notice how it only removes the first instance of the value"
   ]
  },
  {
   "cell_type": "code",
   "execution_count": 21,
   "metadata": {},
   "outputs": [
    {
     "name": "stdout",
     "output_type": "stream",
     "text": [
      "2\n",
      "[3, 4, 5, 1]\n"
     ]
    }
   ],
   "source": [
    "print(data.pop(0)) # arg1 = index (returns the value)\n",
    "print(data)"
   ]
  },
  {
   "cell_type": "code",
   "execution_count": 22,
   "metadata": {},
   "outputs": [
    {
     "name": "stdout",
     "output_type": "stream",
     "text": [
      "[10, 4, 5, 1]\n"
     ]
    }
   ],
   "source": [
    "data[0] = 10\n",
    "print(data)"
   ]
  },
  {
   "cell_type": "code",
   "execution_count": 23,
   "metadata": {},
   "outputs": [
    {
     "name": "stdout",
     "output_type": "stream",
     "text": [
      "length of data: 4\n",
      "length of lst: 0\n"
     ]
    }
   ],
   "source": [
    "print(\"length of data:\", len(data))\n",
    "print(\"length of lst:\", len(lst))"
   ]
  },
  {
   "cell_type": "code",
   "execution_count": 26,
   "metadata": {},
   "outputs": [
    {
     "name": "stdout",
     "output_type": "stream",
     "text": [
      "[10, 4, 5, 1]\n",
      "the value 4 is at index 1 in list 'data'\n"
     ]
    }
   ],
   "source": [
    "print(data)\n",
    "ind4 = data.index(4) # arg = value to be searched for\n",
    "print(\"the value 4 is at index\", ind4, \"in list \\'data\\'\")"
   ]
  },
  {
   "cell_type": "code",
   "execution_count": 41,
   "metadata": {},
   "outputs": [
    {
     "name": "stdout",
     "output_type": "stream",
     "text": [
      "[1, 2, 3, 5]\n"
     ]
    }
   ],
   "source": [
    "data.sort()\n",
    "print(data)"
   ]
  },
  {
   "cell_type": "code",
   "execution_count": 42,
   "metadata": {},
   "outputs": [
    {
     "name": "stdout",
     "output_type": "stream",
     "text": [
      "[5, 3, 2, 1]\n"
     ]
    }
   ],
   "source": [
    "data.sort(reverse=True)\n",
    "print(data)"
   ]
  },
  {
   "cell_type": "markdown",
   "metadata": {},
   "source": [
    "## loops"
   ]
  },
  {
   "cell_type": "code",
   "execution_count": 85,
   "metadata": {},
   "outputs": [
    {
     "name": "stdout",
     "output_type": "stream",
     "text": [
      "apples\n",
      "bananas\n",
      "oranges\n"
     ]
    }
   ],
   "source": [
    "# loops for lists with strings\n",
    "data = [\"apples\", \"bananas\",\"oranges\"]\n",
    "for v in data:\n",
    "    print(v)"
   ]
  },
  {
   "cell_type": "code",
   "execution_count": 86,
   "metadata": {},
   "outputs": [
    {
     "name": "stdout",
     "output_type": "stream",
     "text": [
      "5\n",
      "9\n",
      "-2\n",
      "9\n"
     ]
    }
   ],
   "source": [
    "# loops for lists with numbers\n",
    "data = [5,9,-2,9]\n",
    "for v in data:\n",
    "   print(v)"
   ]
  },
  {
   "cell_type": "code",
   "execution_count": 87,
   "metadata": {},
   "outputs": [
    {
     "name": "stdout",
     "output_type": "stream",
     "text": [
      "b\n",
      "a\n",
      "n\n",
      "a\n",
      "n\n",
      "a\n",
      "s\n"
     ]
    }
   ],
   "source": [
    "# looping a single string:\n",
    "for v in \"bananas\":\n",
    "    print(v)"
   ]
  },
  {
   "cell_type": "markdown",
   "metadata": {},
   "source": [
    "If we want to iterate through both index and value, we could use the `enumerate` function"
   ]
  },
  {
   "cell_type": "code",
   "execution_count": 88,
   "metadata": {},
   "outputs": [
    {
     "name": "stdout",
     "output_type": "stream",
     "text": [
      "0 apple\n",
      "1 banana\n",
      "2 grapes\n",
      "3 pear\n"
     ]
    }
   ],
   "source": [
    "data = ['apple', 'banana', 'grapes', 'pear']\n",
    "for c, value in enumerate(data):\n",
    "    print(c, value)"
   ]
  },
  {
   "cell_type": "markdown",
   "metadata": {},
   "source": [
    "If we want our index to start at 1 rather than 0, we could specify that as the second argument:"
   ]
  },
  {
   "cell_type": "code",
   "execution_count": 1,
   "metadata": {},
   "outputs": [
    {
     "name": "stdout",
     "output_type": "stream",
     "text": [
      "1 apple\n",
      "2 banana\n",
      "3 grapes\n",
      "4 pear\n"
     ]
    }
   ],
   "source": [
    "data = ['apple', 'banana', 'grapes', 'pear']\n",
    "for c, value in enumerate(data, 1):\n",
    "    print(c, value)"
   ]
  },
  {
   "cell_type": "markdown",
   "metadata": {},
   "source": [
    "## List comprehensions\n",
    "\n",
    "*List comprehensions* can be used to build a list using values that satisfy a criteria."
   ]
  },
  {
   "cell_type": "code",
   "execution_count": 91,
   "metadata": {},
   "outputs": [
    {
     "name": "stdout",
     "output_type": "stream",
     "text": [
      "[0, 2, 4, 6, 8, 10, 12, 14, 16, 18, 20, 22, 24, 26, 28, 30, 32, 34, 36, 38, 40, 42, 44, 46, 48, 50, 52, 54, 56, 58, 60, 62, 64, 66, 68, 70, 72, 74, 76, 78, 80, 82, 84, 86, 88, 90, 92, 94, 96, 98, 100]\n"
     ]
    }
   ],
   "source": [
    "evenNums100 = [n for n in range(101) if n%2==0]\n",
    "print(evenNums100)"
   ]
  },
  {
   "cell_type": "markdown",
   "metadata": {},
   "source": [
    "This is equivalent to:"
   ]
  },
  {
   "cell_type": "code",
   "execution_count": 93,
   "metadata": {},
   "outputs": [
    {
     "name": "stdout",
     "output_type": "stream",
     "text": [
      "[0, 2, 4, 6, 8, 10, 12, 14, 16, 18, 20, 22, 24, 26, 28, 30, 32, 34, 36, 38, 40, 42, 44, 46, 48, 50, 52, 54, 56, 58, 60, 62, 64, 66, 68, 70, 72, 74, 76, 78, 80, 82, 84, 86, 88, 90, 92, 94, 96, 98, 100]\n"
     ]
    }
   ],
   "source": [
    "evenNums100 = []\n",
    "for n in range(101): \n",
    "    if n%2==0:\n",
    "        evenNums100.append(n)\n",
    "print(evenNums100)"
   ]
  },
  {
   "cell_type": "code",
   "execution_count": 97,
   "metadata": {},
   "outputs": [
    {
     "name": "stdout",
     "output_type": "stream",
     "text": [
      "[1, 2, 3, 4, 5, 6, 7, 8, 9, 10]\n",
      "without step: [2, 3, 4, 5, 6, 7, 8]\n",
      "with step [2, 4, 6, 8]\n",
      "without end (no step) [2, 3, 4, 5, 6, 7, 8, 9, 10]\n",
      "without end with step [2, 5, 8]\n"
     ]
    }
   ],
   "source": [
    "# more list slicing with \"step\"\n",
    "data = list(range(1,11))\n",
    "print(data)\n",
    "print(\"without step:\", data[1:8]) # see without step\n",
    "print(\"with step\", data[1:8:2])\n",
    "print(\"without end (no step)\", data[1:])\n",
    "print(\"without end with step\", data[1::3])"
   ]
  },
  {
   "cell_type": "markdown",
   "metadata": {},
   "source": [
    "In the previous example we use the `list()` function to create our list instead of the square brackets. This constructs a list using the single input.  This could be \n",
    " \n",
    "- a sequence (eg. string, tuples) or\n",
    "- a collection (set, dictionary) or\n",
    "- an iterator object (objects that can iterated over in our `for` loops)\n",
    "\n",
    "If no parameters are passed, it creates an empty list."
   ]
  },
  {
   "cell_type": "code",
   "execution_count": 98,
   "metadata": {},
   "outputs": [
    {
     "name": "stdout",
     "output_type": "stream",
     "text": [
      "[]\n"
     ]
    }
   ],
   "source": [
    "empty_list = list()\n",
    "print(empty_list)"
   ]
  },
  {
   "cell_type": "markdown",
   "metadata": {},
   "source": [
    "`list()` can also be used as function.  It takes a single object which it then iterates over to create a Python list"
   ]
  },
  {
   "cell_type": "code",
   "execution_count": 2,
   "metadata": {},
   "outputs": [
    {
     "name": "stdout",
     "output_type": "stream",
     "text": [
      "A\n",
      "B\n",
      "C\n",
      " \n",
      "1\n",
      "2\n",
      "3\n",
      "['A', 'B', 'C', ' ', '1', '2', '3']\n"
     ]
    }
   ],
   "source": [
    "word = \"ABC 123\"\n",
    "for i in word:\n",
    "    print(i)\n",
    "    \n",
    "wordlist = list(word)\n",
    "print(wordlist)"
   ]
  },
  {
   "cell_type": "markdown",
   "metadata": {},
   "source": [
    "## Tuples\n",
    " A tuple is a collection which is ordered and **unchangeable**. To create tuples we use  round brackets `()`. Tuples are useful for storing some related information that belong together."
   ]
  },
  {
   "cell_type": "code",
   "execution_count": 4,
   "metadata": {},
   "outputs": [
    {
     "name": "stdout",
     "output_type": "stream",
     "text": [
      "('apple', 'banana', 'cherry')\n"
     ]
    }
   ],
   "source": [
    "thistuple = (\"apple\", \"banana\", \"cherry\")\n",
    "print(thistuple)"
   ]
  },
  {
   "cell_type": "markdown",
   "metadata": {},
   "source": [
    "Elements in a tuple  are referenced the same way as lists (i.e. starting from 0)"
   ]
  },
  {
   "cell_type": "code",
   "execution_count": 5,
   "metadata": {},
   "outputs": [
    {
     "name": "stdout",
     "output_type": "stream",
     "text": [
      "apple\n",
      "banana\n",
      "cherry\n"
     ]
    }
   ],
   "source": [
    "print(thistuple[0])\n",
    "print(thistuple[1])\n",
    "print(thistuple[2])"
   ]
  },
  {
   "cell_type": "markdown",
   "metadata": {},
   "source": [
    "Unlike list, once a tuple is created, values **can not** be changed (i.e. tuples are *immutable*).  For that reason, tuple manipulation can be must faster than wroking with lists."
   ]
  },
  {
   "cell_type": "code",
   "execution_count": 6,
   "metadata": {},
   "outputs": [],
   "source": [
    "# thistuple[1] = \"pineapple\" # produces an error"
   ]
  },
  {
   "cell_type": "markdown",
   "metadata": {},
   "source": [
    "**Sidenote**: Using the `list()` function from before you can create a list which *can* be changed"
   ]
  },
  {
   "cell_type": "code",
   "execution_count": 7,
   "metadata": {},
   "outputs": [
    {
     "name": "stdout",
     "output_type": "stream",
     "text": [
      "['apple', 'banana', 'cherry']\n",
      "['apple', 'pineapple', 'cherry']\n"
     ]
    }
   ],
   "source": [
    "tlist = list(thistuple)\n",
    "print(tlist)\n",
    "tlist[1] = 'pineapple'\n",
    "print(tlist)"
   ]
  },
  {
   "cell_type": "markdown",
   "metadata": {},
   "source": [
    "If you want to make a tuple with a single element, you must use a comma:"
   ]
  },
  {
   "cell_type": "code",
   "execution_count": 8,
   "metadata": {},
   "outputs": [
    {
     "name": "stdout",
     "output_type": "stream",
     "text": [
      "<class 'tuple'>\n",
      "<class 'int'>\n"
     ]
    }
   ],
   "source": [
    "# a tuple with a single element\n",
    "singleton = (1,)\n",
    "# without the comma you do not get a tuple\n",
    "singletonNoComma = (1)\n",
    "print(type(singleton))\n",
    "print(type(singletonNoComma))"
   ]
  },
  {
   "cell_type": "markdown",
   "metadata": {},
   "source": [
    "Notice that tuples are also iterable, meaning we can traverse through all the values. eg,"
   ]
  },
  {
   "cell_type": "code",
   "execution_count": 105,
   "metadata": {},
   "outputs": [
    {
     "name": "stdout",
     "output_type": "stream",
     "text": [
      "apple\n",
      "banana\n",
      "cherry\n"
     ]
    }
   ],
   "source": [
    "for i in thistuple:\n",
    "    print(i)"
   ]
  },
  {
   "cell_type": "markdown",
   "metadata": {},
   "source": [
    "## Sets\n",
    "\n",
    "A *set* (like a mathematical set) is a collection which is unordered and unindexed.  They do not store duplicates.  Sets are written with curly brackets`{}`"
   ]
  },
  {
   "cell_type": "code",
   "execution_count": 13,
   "metadata": {},
   "outputs": [
    {
     "name": "stdout",
     "output_type": "stream",
     "text": [
      "{'banana', 'apple', 'cherry'}\n"
     ]
    }
   ],
   "source": [
    "thisset = {\"apple\", \"banana\", \"cherry\", \"apple\"}\n",
    "print(thisset)\n",
    "#print(thisset[1]) #error"
   ]
  },
  {
   "cell_type": "markdown",
   "metadata": {},
   "source": [
    "Since sets are unordered,  the items will appear in a random order and elements cannot be reference by index. Again  we can iterate though each item using a `for` loop"
   ]
  },
  {
   "cell_type": "code",
   "execution_count": 11,
   "metadata": {},
   "outputs": [
    {
     "name": "stdout",
     "output_type": "stream",
     "text": [
      "banana\n",
      "apple\n",
      "cherry\n"
     ]
    }
   ],
   "source": [
    "for i in thisset:\n",
    "    print(i)"
   ]
  },
  {
   "cell_type": "markdown",
   "metadata": {},
   "source": [
    "## Dictionaries"
   ]
  },
  {
   "cell_type": "markdown",
   "metadata": {},
   "source": [
    "A *dictionary* is a collection which is unordered, changeable and indexed. We create them with curly brackets and specify  their *keys* and *values*."
   ]
  },
  {
   "cell_type": "code",
   "execution_count": 2,
   "metadata": {},
   "outputs": [
    {
     "name": "stdout",
     "output_type": "stream",
     "text": [
      "{'key1': 'value1', 'key2': 'value2', 'key3': 'value3'}\n"
     ]
    }
   ],
   "source": [
    "thisdict = {\n",
    "  \"key1\": \"value1\",\n",
    "  \"key2\": \"value2\",\n",
    "  \"key3\": \"value3\"\n",
    "}\n",
    "print(thisdict)"
   ]
  },
  {
   "cell_type": "markdown",
   "metadata": {},
   "source": [
    "Note that keys must be unique"
   ]
  },
  {
   "cell_type": "code",
   "execution_count": 3,
   "metadata": {},
   "outputs": [],
   "source": [
    "nono = {'key1':'this', 'key1':'that'}"
   ]
  },
  {
   "cell_type": "code",
   "execution_count": 4,
   "metadata": {},
   "outputs": [
    {
     "name": "stdout",
     "output_type": "stream",
     "text": [
      "value1\n"
     ]
    }
   ],
   "source": [
    "# reference elements by keys:\n",
    "print(thisdict['key1'])"
   ]
  },
  {
   "cell_type": "code",
   "execution_count": 5,
   "metadata": {},
   "outputs": [
    {
     "ename": "KeyError",
     "evalue": "0",
     "output_type": "error",
     "traceback": [
      "\u001b[0;31m---------------------------------------------------------------------------\u001b[0m",
      "\u001b[0;31mKeyError\u001b[0m                                  Traceback (most recent call last)",
      "\u001b[0;32m<ipython-input-5-76781be681dc>\u001b[0m in \u001b[0;36masync-def-wrapper\u001b[0;34m()\u001b[0m\n",
      "\u001b[0;31mKeyError\u001b[0m: 0"
     ]
    }
   ],
   "source": [
    "# referencing by index won't work (remember these are unordered)\n",
    "# thisdict[0]"
   ]
  },
  {
   "cell_type": "markdown",
   "metadata": {},
   "source": [
    "Don't get confused at try to do indexing using the values rather than the keys! For instance the following would produce an error:"
   ]
  },
  {
   "cell_type": "code",
   "execution_count": 116,
   "metadata": {},
   "outputs": [],
   "source": [
    "# thisdict['value1']"
   ]
  },
  {
   "cell_type": "markdown",
   "metadata": {},
   "source": [
    "If we wanted to, we could always use integers for the keys (in that case we don't need quotes around them when indexing using square brackets).  See how we can iterate over the elements in a loop."
   ]
  },
  {
   "cell_type": "code",
   "execution_count": 6,
   "metadata": {},
   "outputs": [
    {
     "name": "stdout",
     "output_type": "stream",
     "text": [
      "one\n",
      "two\n"
     ]
    }
   ],
   "source": [
    "dict = {1:'one', 2:'two', 3:'three'}\n",
    "print(dict[1]) # one\n",
    "if 2 in dict: # check if key exists\n",
    "    print(dict[2]) # 'two'"
   ]
  },
  {
   "cell_type": "markdown",
   "metadata": {},
   "source": [
    "Unlike with tuples and lists, we *can* add new elements without the `append` or `extend` method:"
   ]
  },
  {
   "cell_type": "code",
   "execution_count": 7,
   "metadata": {},
   "outputs": [
    {
     "name": "stdout",
     "output_type": "stream",
     "text": [
      "{1: 'one', 2: 'two', 3: 'three', 4: 'four', 'key': 'value'}\n"
     ]
    }
   ],
   "source": [
    "dict[4] = 'four' # Add 4:'four'\n",
    "# more generically, add the value 'value' to key 'key' \n",
    "dict['key'] = 'value' \n",
    "print(dict)"
   ]
  },
  {
   "cell_type": "markdown",
   "metadata": {},
   "source": [
    "To delete a key/value combo, use `del`"
   ]
  },
  {
   "cell_type": "code",
   "execution_count": 3,
   "metadata": {},
   "outputs": [],
   "source": [
    "del dict[1]  # Remove key 1"
   ]
  },
  {
   "cell_type": "code",
   "execution_count": 4,
   "metadata": {},
   "outputs": [
    {
     "name": "stdout",
     "output_type": "stream",
     "text": [
      "{2: 'two', 3: 'three', 4: 'four', 'key': 'value'}\n"
     ]
    }
   ],
   "source": [
    "print(dict)"
   ]
  },
  {
   "cell_type": "markdown",
   "metadata": {},
   "source": [
    "You can always see what keys and values your list contains using:"
   ]
  },
  {
   "cell_type": "code",
   "execution_count": 6,
   "metadata": {},
   "outputs": [
    {
     "name": "stdout",
     "output_type": "stream",
     "text": [
      "keys: dict_keys([2, 3, 4, 'key'])\n",
      "values: dict_values(['two', 'three', 'four', 'value'])\n"
     ]
    }
   ],
   "source": [
    "print(\"keys:\", dict.keys()) # Returns keys\n",
    "print(\"values:\", dict.values()) # Returns values"
   ]
  },
  {
   "cell_type": "markdown",
   "metadata": {},
   "source": [
    "See how iterating over a dictionary in a for loop prints out the *keys* (not *values*)."
   ]
  },
  {
   "cell_type": "code",
   "execution_count": 8,
   "metadata": {},
   "outputs": [
    {
     "name": "stdout",
     "output_type": "stream",
     "text": [
      "4\n",
      "17\n",
      "10\n",
      "20\n"
     ]
    }
   ],
   "source": [
    "dict = {'Martha':4, 'Janet':17, 'Peter':10}\n",
    "dict['Anna'] = 20\n",
    "for i in dict:\n",
    "    print(i)\n",
    "    #print(dict[i])"
   ]
  },
  {
   "cell_type": "markdown",
   "metadata": {},
   "source": [
    "One might expect that these keys would be printed in alphabetical order, but remember, dictionaries are unordered."
   ]
  },
  {
   "cell_type": "markdown",
   "metadata": {},
   "source": [
    "To check if a key is already in your dictionary use:"
   ]
  },
  {
   "cell_type": "code",
   "execution_count": 12,
   "metadata": {},
   "outputs": [
    {
     "data": {
      "text/plain": [
       "True"
      ]
     },
     "execution_count": 12,
     "metadata": {},
     "output_type": "execute_result"
    }
   ],
   "source": [
    "'Martha' in dict "
   ]
  },
  {
   "cell_type": "code",
   "execution_count": 13,
   "metadata": {},
   "outputs": [
    {
     "data": {
      "text/plain": [
       "False"
      ]
     },
     "execution_count": 13,
     "metadata": {},
     "output_type": "execute_result"
    }
   ],
   "source": [
    "'Thomas' in dict"
   ]
  },
  {
   "cell_type": "markdown",
   "metadata": {},
   "source": [
    "To iterate through the values instead of the keys, use either of the following:"
   ]
  },
  {
   "cell_type": "code",
   "execution_count": 14,
   "metadata": {},
   "outputs": [
    {
     "name": "stdout",
     "output_type": "stream",
     "text": [
      "4\n",
      "17\n",
      "10\n",
      "20\n"
     ]
    }
   ],
   "source": [
    "# option 1\n",
    "for i in dict:\n",
    "    print(dict[i])"
   ]
  },
  {
   "cell_type": "code",
   "execution_count": 5,
   "metadata": {},
   "outputs": [
    {
     "name": "stdout",
     "output_type": "stream",
     "text": [
      "dict_values(['two', 'three', 'four', 'value'])\n"
     ]
    }
   ],
   "source": [
    "print(dict.values())"
   ]
  },
  {
   "cell_type": "code",
   "execution_count": 6,
   "metadata": {},
   "outputs": [
    {
     "name": "stdout",
     "output_type": "stream",
     "text": [
      "two\n",
      "three\n",
      "four\n",
      "value\n"
     ]
    }
   ],
   "source": [
    "# option 2:\n",
    "for i in dict.values():\n",
    "    print(i)"
   ]
  },
  {
   "cell_type": "markdown",
   "metadata": {},
   "source": [
    "To access both keys and values use:"
   ]
  },
  {
   "cell_type": "code",
   "execution_count": 13,
   "metadata": {},
   "outputs": [
    {
     "name": "stdout",
     "output_type": "stream",
     "text": [
      "key =  Martha value =  4\n",
      "key =  Janet value =  17\n",
      "key =  Peter value =  10\n",
      "key =  Anna value =  20\n"
     ]
    }
   ],
   "source": [
    "# option 1:\n",
    "# i = key, dict[i] = value\n",
    "for i in dict: \n",
    "    print(\"key = \", i, \"value = \", dict[i])"
   ]
  },
  {
   "cell_type": "code",
   "execution_count": 14,
   "metadata": {},
   "outputs": [
    {
     "name": "stdout",
     "output_type": "stream",
     "text": [
      "key =  Martha values = 4\n",
      "key =  Janet values = 17\n",
      "key =  Peter values = 10\n",
      "key =  Anna values = 20\n"
     ]
    }
   ],
   "source": [
    "# option 2:\n",
    "for key, val in dict.items():\n",
    "    print(\"key = \", key, \"values =\", val)"
   ]
  },
  {
   "cell_type": "markdown",
   "metadata": {},
   "source": [
    "## A summary \n",
    "\n",
    "**Lists** can be altered and hold different types"
   ]
  },
  {
   "cell_type": "code",
   "execution_count": 1,
   "metadata": {},
   "outputs": [
    {
     "name": "stdout",
     "output_type": "stream",
     "text": [
      "[1, 'Introduction', ['excelI', 'excelII']]\n",
      "<class 'int'>\n",
      "<class 'str'>\n",
      "<class 'list'>\n"
     ]
    }
   ],
   "source": [
    "lectures = [1,2,['excelI','excelII'],'CommandLine']\n",
    "# can delete individual items\n",
    "del lectures[3]   \n",
    "# reassign values\n",
    "lectures[1] = 'Introduction' \n",
    "print(lectures)\n",
    "print(type(lectures[0])) # <class 'int'>\n",
    "print(type(lectures[1])) # <class 'str'>\n",
    "print(type(lectures[2])) # <class 'list'>"
   ]
  },
  {
   "cell_type": "markdown",
   "metadata": {},
   "source": [
    "**Tuples** are immutable (we can't change the values)"
   ]
  },
  {
   "cell_type": "code",
   "execution_count": 15,
   "metadata": {},
   "outputs": [
    {
     "name": "stdout",
     "output_type": "stream",
     "text": [
      "<class 'list'>\n"
     ]
    }
   ],
   "source": [
    "topics= (1,2,['excel1','excel2'],'CommandLine')\n",
    "# del topics[3] # can't delete!\n",
    "# TypeError: 'tuple' object doesn't support item deletion\n",
    "print(type(topics[2])) # <class 'list'>"
   ]
  },
  {
   "cell_type": "markdown",
   "metadata": {},
   "source": [
    "**Sets** do not hold duplicate values and are unordered.  Being an unordered collection, sets do not record element position or order of insertion. Accordingly, sets do not support indexing, slicing, or other sequence-like behavior. "
   ]
  },
  {
   "cell_type": "code",
   "execution_count": 133,
   "metadata": {},
   "outputs": [
    {
     "name": "stdout",
     "output_type": "stream",
     "text": [
      "{1, 2, 3}\n"
     ]
    }
   ],
   "source": [
    "myset={3,1,2,3,2}\n",
    "print(myset)\n",
    "# myset[1] # error"
   ]
  },
  {
   "cell_type": "markdown",
   "metadata": {},
   "source": [
    "**Dictionaries** holds key-value pairs (just like real life dictionaries hold word-meaning pairs). Recall that the `\\` is used to split  statements across multiple lines.\n"
   ]
  },
  {
   "cell_type": "code",
   "execution_count": 17,
   "metadata": {},
   "outputs": [
    {
     "name": "stdout",
     "output_type": "stream",
     "text": [
      "to instigate or foster\n"
     ]
    }
   ],
   "source": [
    "wordoftheday = {\n",
    " 'persiflage':'light, bantering talk or writing' ,\n",
    " 'foment':'to instigate or foster'}\n",
    "print(wordoftheday['foment'])"
   ]
  },
  {
   "cell_type": "markdown",
   "metadata": {},
   "source": [
    "## Printing Formatting"
   ]
  },
  {
   "cell_type": "code",
   "execution_count": 1,
   "metadata": {},
   "outputs": [
    {
     "name": "stdout",
     "output_type": "stream",
     "text": [
      "Hi Amy , your age is 21\n",
      "Hi Amy, your age is 21\n",
      "Hi Amy, your age is 21\n",
      "Hi Amy, your age is 21\n"
     ]
    }
   ],
   "source": [
    "print(\"Hi\", \"Amy\", \", your age is\", 21)\n",
    "print(\"Hi {}, your age is {}\".format(\"Amy\",21))\n",
    "print(\"Hi {1}, your age is {0}\".format(21,\"Amy\"))\n",
    "print(\"Hi {name}, your age is {age}\".format(age=21,\n",
    "name=\"Amy\"))"
   ]
  },
  {
   "cell_type": "markdown",
   "metadata": {},
   "source": [
    "## Importing Modules"
   ]
  },
  {
   "cell_type": "code",
   "execution_count": 15,
   "metadata": {},
   "outputs": [
    {
     "name": "stdout",
     "output_type": "stream",
     "text": [
      "3.141592653589793\n",
      "720\n",
      "3.141592653589793\n",
      "3.141592653589793\n",
      "720\n"
     ]
    }
   ],
   "source": [
    "import math\n",
    "# imports 'math' (of class 'module')\n",
    "# access pi using dot notation\n",
    "print(math.pi)\n",
    "print(math.factorial(6))\n",
    "from math import pi\n",
    "# access pi directly\n",
    "print(pi)\n",
    "# factorial(6)\n",
    "# NameError: name 'factorial' is not defined\n",
    "from math import *\n",
    "# access pi (and anything else in the module) directly\n",
    "print(pi)\n",
    "print(factorial(6))"
   ]
  },
  {
   "cell_type": "markdown",
   "metadata": {},
   "source": [
    "### datetime "
   ]
  },
  {
   "cell_type": "code",
   "execution_count": 18,
   "metadata": {},
   "outputs": [
    {
     "name": "stdout",
     "output_type": "stream",
     "text": [
      "2019-10-18 10:04:50.922779\n"
     ]
    }
   ],
   "source": [
    "from datetime import datetime\n",
    "now = datetime.now()\n",
    "print(now)"
   ]
  },
  {
   "cell_type": "code",
   "execution_count": 20,
   "metadata": {},
   "outputs": [
    {
     "name": "stdout",
     "output_type": "stream",
     "text": [
      "2019\n",
      "10\n",
      "18\n",
      "2019-10-18 10:4:50\n"
     ]
    }
   ],
   "source": [
    "current_year = now.year\n",
    "print(current_year)\n",
    "current_month = now.month\n",
    "print(current_month)\n",
    "current_day = now.day\n",
    "print(current_day)\n",
    "print(\"{}-{}-{} {}:{}:{}\".format(now.year, now.month, \n",
    "now.day, now.hour, now.minute, now.second))"
   ]
  },
  {
   "cell_type": "code",
   "execution_count": 21,
   "metadata": {},
   "outputs": [
    {
     "name": "stdout",
     "output_type": "stream",
     "text": [
      "Start time: 1571418379.7878551\n",
      "How long will this take?\n",
      "End time: 1571418379.788189\n",
      "Time elapsed: 0.0003337860107421875\n"
     ]
    }
   ],
   "source": [
    "import time\n",
    "startTime = time.time()\n",
    "print(\"Start time:\", startTime)\n",
    "print(\"How long will this take?\")\n",
    "endTime = time.time()\n",
    "print(\"End time:\", endTime)\n",
    "print(\"Time elapsed:\", endTime-startTime)"
   ]
  },
  {
   "cell_type": "markdown",
   "metadata": {},
   "source": [
    "## Comparisons"
   ]
  },
  {
   "cell_type": "code",
   "execution_count": 8,
   "metadata": {},
   "outputs": [
    {
     "name": "stdout",
     "output_type": "stream",
     "text": [
      "False\n",
      "False\n",
      "True\n",
      "False\n",
      "True\n",
      "True\n"
     ]
    }
   ],
   "source": [
    "n=5\n",
    "v=8\n",
    "print(n > 5) #False\n",
    "print(n == v) #False\n",
    "print(n != v) # True\n",
    "print((n == v) and (n+4>v)) # False\n",
    "print((n == v) or (n+4>v)) # True\n",
    "print((n+1) == (v-2) or (not v>4)) # True print((n+1) == (v-2) or not v>4) and (n>5)) # False"
   ]
  },
  {
   "cell_type": "code",
   "execution_count": null,
   "metadata": {},
   "outputs": [],
   "source": []
  }
 ],
 "metadata": {
  "kernelspec": {
   "display_name": "Python 3",
   "language": "python",
   "name": "python3"
  },
  "language_info": {
   "codemirror_mode": {
    "name": "ipython",
    "version": 3
   },
   "file_extension": ".py",
   "mimetype": "text/x-python",
   "name": "python",
   "nbconvert_exporter": "python",
   "pygments_lexer": "ipython3",
   "version": "3.6.9"
  }
 },
 "nbformat": 4,
 "nbformat_minor": 2
}
