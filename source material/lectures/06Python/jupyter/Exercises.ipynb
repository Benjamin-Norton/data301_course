{
 "cells": [
  {
   "cell_type": "markdown",
   "metadata": {},
   "source": [
    "# Lecture 6 Exercises"
   ]
  },
  {
   "cell_type": "markdown",
   "metadata": {},
   "source": [
    "**Example 1**\n",
    " Write a python program that prints \"I can start coding!\"\n"
   ]
  },
  {
   "cell_type": "code",
   "execution_count": 1,
   "metadata": {},
   "outputs": [
    {
     "name": "stdout",
     "output_type": "stream",
     "text": [
      "I can start coding!\n"
     ]
    }
   ],
   "source": [
    "print(\"I can start coding!\")"
   ]
  },
  {
   "cell_type": "markdown",
   "metadata": {},
   "source": [
    "**Example 2** Write a Python program that prints these three lines:\n",
    "\n",
    "<p>I know that I can program in Python.<br>\n",
    "I am programming right now.</p>\n",
    "My awesome program has three lines!</p>"
   ]
  },
  {
   "cell_type": "code",
   "execution_count": 2,
   "metadata": {},
   "outputs": [
    {
     "name": "stdout",
     "output_type": "stream",
     "text": [
      "I know that I can program in Python.\n",
      "I am programming right now. \n",
      "My awesome program has three lines!\n",
      " \n",
      "I know that I can program in Python.\n",
      "I am programming right now.\n",
      "My awesome program has three lines!\n",
      " \n",
      "I know that I can program in Python.\n",
      "I am programming right now.\n",
      "My awesome program has three lines!\n"
     ]
    }
   ],
   "source": [
    "print(\"I know that I can program in Python.\")\n",
    "print(\"I am programming right now. \")\n",
    "print(\"My awesome program has three lines!\")\n",
    "\n",
    "print(\"\"\" \n",
    "I know that I can program in Python.\n",
    "I am programming right now.\n",
    "My awesome program has three lines!\"\"\")\n",
    "\n",
    "# alternative answer\n",
    "a = \"\"\" \n",
    "I know that I can program in Python.\n",
    "I am programming right now.\n",
    "My awesome program has three lines!\"\"\"\n",
    "print(a)"
   ]
  },
  {
   "cell_type": "markdown",
   "metadata": {},
   "source": [
    "**Example 6**\n",
    "Write a program that prints the result of 35 + 5*10"
   ]
  },
  {
   "cell_type": "code",
   "execution_count": 3,
   "metadata": {},
   "outputs": [
    {
     "name": "stdout",
     "output_type": "stream",
     "text": [
      "85\n"
     ]
    }
   ],
   "source": [
    "print(35 + 5 * 10)"
   ]
  },
  {
   "cell_type": "markdown",
   "metadata": {},
   "source": [
    "**Example 7** Write a program that uses at least 3 operators to end up with the value 99."
   ]
  },
  {
   "cell_type": "code",
   "execution_count": 5,
   "metadata": {},
   "outputs": [
    {
     "name": "stdout",
     "output_type": "stream",
     "text": [
      "99\n"
     ]
    }
   ],
   "source": [
    "# this answer is obviously not unique\n",
    "num = 10 ** 2 -9 % (3+1)\n",
    "print(num)"
   ]
  },
  {
   "cell_type": "markdown",
   "metadata": {},
   "source": [
    "**Example 8** Write a program that has a variable called name with the value of your  `name` and a variable called `height` storing your height in feet.  Print out your name and `height` using these variables.\n"
   ]
  },
  {
   "cell_type": "code",
   "execution_count": 5,
   "metadata": {},
   "outputs": [
    {
     "name": "stdout",
     "output_type": "stream",
     "text": [
      "Irene\n",
      "5'1\"\n",
      "name: Irene height: 5'1\"\n"
     ]
    }
   ],
   "source": [
    "name = \"Irene\"\n",
    "# height = '5'1\"'\n",
    "height = \"\"\"5'1\" \"\"\"\n",
    "height = '''5'1\"'''\n",
    "print(name)\n",
    "print(height)\n",
    "print(\"name:\",name,\"height:\", height)"
   ]
  },
  {
   "cell_type": "markdown",
   "metadata": {},
   "source": [
    "**Example 13** Write a program that puts the numbers from 1 to 10 in a list then prints them by traversing the list."
   ]
  },
  {
   "cell_type": "code",
   "execution_count": 1,
   "metadata": {},
   "outputs": [
    {
     "name": "stdout",
     "output_type": "stream",
     "text": [
      "1\n",
      "2\n",
      "3\n",
      "4\n",
      "5\n",
      "6\n",
      "7\n",
      "8\n",
      "9\n",
      "10\n"
     ]
    }
   ],
   "source": [
    "# data = [1,2,3,4,5,6,7,8,9,10]\n",
    "data = []\n",
    "for i in range(1, 11):\n",
    "    data.append(i)\n",
    "for v in data:\n",
    "    print(v)"
   ]
  },
  {
   "cell_type": "code",
   "execution_count": 4,
   "metadata": {},
   "outputs": [
    {
     "name": "stdout",
     "output_type": "stream",
     "text": [
      "1\n",
      "2\n",
      "3\n",
      "4\n",
      "5\n",
      "6\n",
      "7\n",
      "8\n",
      "9\n",
      "10\n"
     ]
    }
   ],
   "source": [
    "# alternate solution\n",
    "data = list(range(1,11))\n",
    "for i in range(0, len(data)):\n",
    "    print(data[i])"
   ]
  },
  {
   "cell_type": "markdown",
   "metadata": {},
   "source": [
    "**Example 14** Write a program that will multiply all elements in a list by 2."
   ]
  },
  {
   "cell_type": "code",
   "execution_count": 28,
   "metadata": {},
   "outputs": [
    {
     "name": "stdout",
     "output_type": "stream",
     "text": [
      "[2, 4, 6, 8, 10, 12, 14, 16, 18, 20]\n"
     ]
    }
   ],
   "source": [
    "data = list(range(1,11))\n",
    "for i in range(0,len(data)):\n",
    "    data[i] = 2*data[i]\n",
    "print(data)"
   ]
  },
  {
   "cell_type": "code",
   "execution_count": 4,
   "metadata": {},
   "outputs": [
    {
     "name": "stdout",
     "output_type": "stream",
     "text": [
      "[2, 4, 6, 8, 10, 12, 14, 16, 18, 20]\n"
     ]
    }
   ],
   "source": [
    "data = list(range(1,11))\n",
    "# by creating a new list\n",
    "data2 = []\n",
    "for i in data:\n",
    "    data2.append(2*i)\n",
    "print(data2)"
   ]
  },
  {
   "cell_type": "code",
   "execution_count": 2,
   "metadata": {},
   "outputs": [
    {
     "name": "stdout",
     "output_type": "stream",
     "text": [
      "0 1\n",
      "1 2\n",
      "2 3\n",
      "3 4\n",
      "4 5\n",
      "5 6\n",
      "6 7\n",
      "7 8\n",
      "8 9\n",
      "9 10\n",
      "[2, 4, 6, 8, 10, 12, 14, 16, 18, 20]\n"
     ]
    }
   ],
   "source": [
    "# using enumerate\n",
    "for idx, val in enumerate(data):\n",
    "    print(idx, val)\n",
    "    data[idx] = val * 2\n",
    "\n",
    "print(data)"
   ]
  },
  {
   "cell_type": "markdown",
   "metadata": {},
   "source": [
    "**Example 15** Write a program that reads in a sentence from the user and splits the sentence into words using `split()`.  Print only the words that are more than 3 characters long.  At the end print the total number of words."
   ]
  },
  {
   "cell_type": "code",
   "execution_count": 3,
   "metadata": {},
   "outputs": [
    {
     "name": "stdout",
     "output_type": "stream",
     "text": [
      "Enter a sentence: A frog and a hog cavort in the bog but not the hippopotamus\n",
      "['A', 'frog', 'and', 'a', 'hog', 'cavort', 'in', 'the', 'bog', 'but', 'not', 'the', 'hippopotamus']\n",
      "frog\n",
      "cavort\n",
      "hippopotamus\n",
      "13\n"
     ]
    }
   ],
   "source": [
    "# A frog and a hog cavort in the bog but not the hippopotamus\n",
    "sentence = input(\"Enter a sentence: \")\n",
    "# sentence = 'A frog and a hog cavort in the bog but not the hippopotamus'\n",
    "words = sentence.split()\n",
    "print(words)\n",
    "for w in words:\n",
    "    if len(w) > 3:\n",
    "        print(w)\n",
    "print(len(words))"
   ]
  },
  {
   "cell_type": "markdown",
   "metadata": {},
   "source": [
    "**Eample 17**\n",
    "Write a program that will use a dictionary to record the frequency of each letter in a sentence.  Read a sentence from the user then print out the number of each letter.\n"
   ]
  },
  {
   "cell_type": "markdown",
   "metadata": {},
   "source": [
    "Lets import a module that has a variable containing the letters of the alphabet:"
   ]
  },
  {
   "cell_type": "code",
   "execution_count": 4,
   "metadata": {},
   "outputs": [
    {
     "name": "stdout",
     "output_type": "stream",
     "text": [
      "ABCDEFGHIJKLMNOPQRSTUVWXYZ\n"
     ]
    }
   ],
   "source": [
    "import string\n",
    "print(string.ascii_uppercase)"
   ]
  },
  {
   "cell_type": "markdown",
   "metadata": {},
   "source": [
    "Now lets create an empyt dictionary:"
   ]
  },
  {
   "cell_type": "code",
   "execution_count": 5,
   "metadata": {},
   "outputs": [
    {
     "name": "stdout",
     "output_type": "stream",
     "text": [
      "{'A': 0, 'B': 0, 'C': 0, 'D': 0, 'E': 0, 'F': 0, 'G': 0, 'H': 0, 'I': 0, 'J': 0, 'K': 0, 'L': 0, 'M': 0, 'N': 0, 'O': 0, 'P': 0, 'Q': 0, 'R': 0, 'S': 0, 'T': 0, 'U': 0, 'V': 0, 'W': 0, 'X': 0, 'Y': 0, 'Z': 0}\n"
     ]
    }
   ],
   "source": [
    "counts = {}\n",
    "for letter in string.ascii_uppercase:\n",
    "    counts[letter] = 0\n",
    "print(counts)"
   ]
  },
  {
   "cell_type": "markdown",
   "metadata": {},
   "source": [
    "I'm also going to import a module to make prettier prints:"
   ]
  },
  {
   "cell_type": "code",
   "execution_count": 7,
   "metadata": {},
   "outputs": [],
   "source": [
    "from pprint import pprint"
   ]
  },
  {
   "cell_type": "markdown",
   "metadata": {},
   "source": [
    "To make life easier, let's convert all letters to uppercase:"
   ]
  },
  {
   "cell_type": "code",
   "execution_count": 9,
   "metadata": {},
   "outputs": [
    {
     "name": "stdout",
     "output_type": "stream",
     "text": [
      "Enter a message: A hog and a frog cavort in a bog but not the hippopotamus \n",
      "{'A': 12,\n",
      " 'B': 4,\n",
      " 'C': 2,\n",
      " 'D': 2,\n",
      " 'E': 2,\n",
      " 'F': 2,\n",
      " 'G': 6,\n",
      " 'H': 6,\n",
      " 'I': 4,\n",
      " 'J': 0,\n",
      " 'K': 0,\n",
      " 'L': 0,\n",
      " 'M': 2,\n",
      " 'N': 6,\n",
      " 'O': 14,\n",
      " 'P': 6,\n",
      " 'Q': 0,\n",
      " 'R': 4,\n",
      " 'S': 2,\n",
      " 'T': 10,\n",
      " 'U': 4,\n",
      " 'V': 2,\n",
      " 'W': 0,\n",
      " 'X': 0,\n",
      " 'Y': 0,\n",
      " 'Z': 0}\n"
     ]
    }
   ],
   "source": [
    "str = input(\"Enter a message: \")\n",
    "# A hog and a frog cavort in a bog but not the hippopotamus \n",
    "str = str.upper()\n",
    "for c in str:\n",
    "    if c in counts:\n",
    "        counts[c] = counts[c]+1\n",
    "#print(counts) # ugly print\n",
    "pprint(counts) # prettier prints\n"
   ]
  },
  {
   "cell_type": "markdown",
   "metadata": {},
   "source": [
    "**Example 18** Create the following two variables <br>\n",
    "`name = \"Joe\"`<br>\n",
    "`age = 25`<br>\n",
    "and write a Python program that prints the following output:<br>\n",
    "`Name: Joe` <br>\n",
    "`Age: 25` <br>\n"
   ]
  },
  {
   "cell_type": "code",
   "execution_count": 10,
   "metadata": {},
   "outputs": [
    {
     "name": "stdout",
     "output_type": "stream",
     "text": [
      "Name: Joe\n",
      "Age: 25\n"
     ]
    }
   ],
   "source": [
    "del str\n",
    "name = \"Joe\"\n",
    "age = 25\n",
    "print(\"Name: \"+name)\n",
    "print(\"Age: \"+str(age))"
   ]
  },
  {
   "cell_type": "code",
   "execution_count": 11,
   "metadata": {},
   "outputs": [
    {
     "name": "stdout",
     "output_type": "stream",
     "text": [
      "Name: Joe\n",
      "Age: 25\n"
     ]
    }
   ],
   "source": [
    "# or\n",
    "print(\"Name:\", name)\n",
    "print(\"Age:\", age)"
   ]
  },
  {
   "cell_type": "markdown",
   "metadata": {},
   "source": [
    "Define the variable:<br>\n",
    "`name = \"Steve Smith\"`<br>\n",
    "Use substring (i.e. slicing) to  write a Python program that prints out the first name and last name of `Steve Smith` like below:<br>\n",
    "`First Name: Steve`<br>\n",
    "`Last Name: Smith`<br>"
   ]
  },
  {
   "cell_type": "code",
   "execution_count": 9,
   "metadata": {},
   "outputs": [
    {
     "name": "stdout",
     "output_type": "stream",
     "text": [
      "First Name: Steve\n",
      "Last Name: Smith\n"
     ]
    }
   ],
   "source": [
    "name = \"Steve Smith\"\n",
    "print(\"First Name: \"+name[0:5])\n",
    "print(\"Last Name: \"+name[6:])"
   ]
  },
  {
   "cell_type": "markdown",
   "metadata": {},
   "source": [
    "*Bonus challenge:* Recode so that it would work with any name."
   ]
  },
  {
   "cell_type": "code",
   "execution_count": 12,
   "metadata": {},
   "outputs": [
    {
     "name": "stdout",
     "output_type": "stream",
     "text": [
      "First Name:  Alessandra\n",
      "Last Name:  Apple\n"
     ]
    }
   ],
   "source": [
    "name = \"Alessandra Apple\"\n",
    "twonames = name.split()\n",
    "#print(twonames)\n",
    "print(\"First Name: \"+twonames[0])\n",
    "print(\"Last Name: \"+twonames[1])"
   ]
  },
  {
   "cell_type": "code",
   "execution_count": 13,
   "metadata": {},
   "outputs": [
    {
     "name": "stdout",
     "output_type": "stream",
     "text": [
      "First Name: Alessandra\n",
      "Last Name: Apple\n"
     ]
    }
   ],
   "source": [
    "# Alternative answer\n",
    "# the find() function can find space so that it works with all names.\n",
    "loc = name.find(\" \") # 5\n",
    "print(\"First Name: \"+name[0:loc])\n",
    "print(\"Last Name: \"+name[loc+1:])"
   ]
  },
  {
   "cell_type": "code",
   "execution_count": 14,
   "metadata": {},
   "outputs": [
    {
     "name": "stdout",
     "output_type": "stream",
     "text": [
      "Hi Amy , your age is 21\n",
      "Hi Amy, your age is 21\n",
      "Hi Amy, your age is 21\n",
      "Hi Amy, your age is 21\n"
     ]
    }
   ],
   "source": [
    "print(\"Hi\", \"Amy\", \", your age is\", 21)\n",
    "print(\"Hi {}, your age is {}\".format(\"Amy\",21))\n",
    "print(\"Hi {1}, your age is {0}\".format(21,\"Amy\"))\n",
    "print(\"Hi {name}, your age is {age}\".format(age=21,\n",
    "name=\"Amy\"))"
   ]
  },
  {
   "cell_type": "markdown",
   "metadata": {},
   "source": [
    "**Exercise 20**  Example 20\n",
    "Write a program that reads a name and prints out the name, the length of the name, the first five characters of the name"
   ]
  },
  {
   "cell_type": "code",
   "execution_count": 12,
   "metadata": {},
   "outputs": [
    {
     "name": "stdout",
     "output_type": "stream",
     "text": [
      "What is your name?Irene\n",
      "Your name is: Irene\n",
      "Length: 5\n",
      "First five characters: Irene\n"
     ]
    }
   ],
   "source": [
    "name = input(\"What is your name?\")\n",
    "print(\"Your name is: \"+name)\n",
    "print(\"Length:\",len(name))\n",
    "print(\"First five characters: \"+name[0:5])\n",
    "\n",
    "# Note: Used comma syntax instead of concatenation.  If concatenate, then need to convert using str().\n"
   ]
  },
  {
   "cell_type": "markdown",
   "metadata": {},
   "source": [
    "**Example 21** Print out the current date in YYYY/MM/DD format."
   ]
  },
  {
   "cell_type": "code",
   "execution_count": 13,
   "metadata": {},
   "outputs": [
    {
     "name": "stdout",
     "output_type": "stream",
     "text": [
      "2020/3/3\n"
     ]
    }
   ],
   "source": [
    "from datetime import datetime\n",
    "current = datetime.now()\n",
    "print(\"{}/{}/{}\".format(current.year, current.month, current.day))\n",
    "\n",
    "# Note: To get it to have a leading zero will need to look at strftime method:"
   ]
  },
  {
   "cell_type": "code",
   "execution_count": null,
   "metadata": {},
   "outputs": [],
   "source": []
  }
 ],
 "metadata": {
  "kernelspec": {
   "display_name": "Python 3",
   "language": "python",
   "name": "python3"
  },
  "language_info": {
   "codemirror_mode": {
    "name": "ipython",
    "version": 3
   },
   "file_extension": ".py",
   "mimetype": "text/x-python",
   "name": "python",
   "nbconvert_exporter": "python",
   "pygments_lexer": "ipython3",
   "version": "3.7.0"
  }
 },
 "nbformat": 4,
 "nbformat_minor": 2
}
