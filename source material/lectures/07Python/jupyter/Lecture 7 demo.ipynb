{
 "cells": [
  {
   "cell_type": "markdown",
   "metadata": {},
   "source": [
    "# 07Python: Reading and Writing Files in Python\n",
    "## Reading Files"
   ]
  },
  {
   "cell_type": "code",
   "execution_count": 49,
   "metadata": {},
   "outputs": [
    {
     "data": {
      "text/plain": [
       "<_io.TextIOWrapper name='input.txt' mode='r' encoding='UTF-8'>"
      ]
     },
     "execution_count": 49,
     "metadata": {},
     "output_type": "execute_result"
    }
   ],
   "source": [
    "infile = open(\"input.txt\", \"r\")\n",
    "infile"
   ]
  },
  {
   "cell_type": "code",
   "execution_count": 5,
   "metadata": {},
   "outputs": [
    {
     "name": "stdout",
     "output_type": "stream",
     "text": [
      "<class '_io.TextIOWrapper'>\n"
     ]
    }
   ],
   "source": [
    "print(type(infile))"
   ]
  },
  {
   "cell_type": "code",
   "execution_count": 6,
   "metadata": {},
   "outputs": [
    {
     "data": {
      "text/plain": [
       "'1\\n2\\n3\\n4\\n5\\n6\\n7\\n8\\n9\\n10\\n'"
      ]
     },
     "execution_count": 6,
     "metadata": {},
     "output_type": "execute_result"
    }
   ],
   "source": [
    "infile.read()"
   ]
  },
  {
   "cell_type": "code",
   "execution_count": 50,
   "metadata": {},
   "outputs": [],
   "source": [
    "infile.close()"
   ]
  },
  {
   "cell_type": "code",
   "execution_count": 1,
   "metadata": {},
   "outputs": [
    {
     "data": {
      "text/plain": [
       "'1\\n2\\n'"
      ]
     },
     "execution_count": 1,
     "metadata": {},
     "output_type": "execute_result"
    }
   ],
   "source": [
    "infile = open(\"input.txt\", \"r\")\n",
    "infile.read(4)"
   ]
  },
  {
   "cell_type": "code",
   "execution_count": 2,
   "metadata": {},
   "outputs": [
    {
     "data": {
      "text/plain": [
       "'3\\n4\\n'"
      ]
     },
     "execution_count": 2,
     "metadata": {},
     "output_type": "execute_result"
    }
   ],
   "source": [
    "infile.read(4)"
   ]
  },
  {
   "cell_type": "code",
   "execution_count": 7,
   "metadata": {},
   "outputs": [
    {
     "name": "stdout",
     "output_type": "stream",
     "text": [
      "1\n",
      "\n",
      "2\n",
      "\n",
      "3\n",
      "\n",
      "4\n",
      "\n",
      "5\n",
      "\n",
      "6\n",
      "\n",
      "7\n",
      "\n",
      "8\n",
      "\n",
      "9\n",
      "\n",
      "10\n",
      "\n"
     ]
    }
   ],
   "source": [
    "infile = open(\"input.txt\", \"r\")\n",
    "for x in infile:\n",
    "  print(x)"
   ]
  },
  {
   "cell_type": "code",
   "execution_count": 8,
   "metadata": {},
   "outputs": [],
   "source": [
    "infile.close()"
   ]
  },
  {
   "cell_type": "code",
   "execution_count": 9,
   "metadata": {},
   "outputs": [
    {
     "name": "stdout",
     "output_type": "stream",
     "text": [
      "1\n",
      "2\n",
      "3\n",
      "4\n",
      "5\n",
      "6\n",
      "7\n",
      "8\n",
      "9\n",
      "10\n"
     ]
    }
   ],
   "source": [
    "with open(\"input.txt\", \"r\") as infile:\n",
    "     for line in infile:\n",
    "          print(line.strip('\\n'))"
   ]
  },
  {
   "cell_type": "markdown",
   "metadata": {},
   "source": [
    "## Writing Files"
   ]
  },
  {
   "cell_type": "code",
   "execution_count": 59,
   "metadata": {},
   "outputs": [],
   "source": [
    "# this will either create a file called output.txt or \n",
    "# overwrite it if it already exits\n",
    "outfile = open(\"output.txt\", \"w\")\n",
    "\n",
    "# writes the numbers 1 through 10 on new lines\n",
    "for n in range(1,11):\n",
    "    outfile.write(str(n) + \"\\n\")\n",
    "\n",
    "# not writen to final until we run the following:\n",
    "# outfile.close() \n"
   ]
  },
  {
   "cell_type": "code",
   "execution_count": 60,
   "metadata": {},
   "outputs": [],
   "source": [
    "outfile.close() "
   ]
  },
  {
   "cell_type": "code",
   "execution_count": null,
   "metadata": {},
   "outputs": [],
   "source": []
  },
  {
   "cell_type": "code",
   "execution_count": 21,
   "metadata": {},
   "outputs": [],
   "source": [
    "with open(\"test.txt\", \"w\") as f:\n",
    "    f.write(\"Test\")\n",
    "    f.write(\"Test again\")"
   ]
  },
  {
   "cell_type": "code",
   "execution_count": 23,
   "metadata": {},
   "outputs": [
    {
     "name": "stdout",
     "output_type": "stream",
     "text": [
      "Test\n",
      " Test again\n"
     ]
    }
   ],
   "source": [
    "with open(\"test.txt\", \"w\") as f:\n",
    "    f.write(\"Test\")\n",
    "    f.write(\"\\n Test again\")\n",
    "\n",
    "with open(\"test.txt\", \"r\") as infile:\n",
    "     for line in infile:\n",
    "          print(line.strip('\\n'))"
   ]
  },
  {
   "cell_type": "code",
   "execution_count": 61,
   "metadata": {},
   "outputs": [],
   "source": [
    "with open('output.txt', 'w') as f:\n",
    "    for n in range(1,11):\n",
    "        f.write(str(n) + \"\\n\")\n",
    "    #lets write some more stuff before we close:\n",
    "    for n in 'bananas':\n",
    "        f.write(n + \"\\n\")\n",
    "    #lets write bananas on one line:\n",
    "    for n in 'bananas':\n",
    "        f.write(n)"
   ]
  },
  {
   "cell_type": "code",
   "execution_count": 62,
   "metadata": {},
   "outputs": [
    {
     "name": "stdout",
     "output_type": "stream",
     "text": [
      "1\n",
      "2\n",
      "3\n",
      "4\n",
      "5\n",
      "6\n",
      "7\n",
      "8\n",
      "9\n",
      "10\n",
      "b\n",
      "a\n",
      "n\n",
      "a\n",
      "n\n",
      "a\n",
      "s\n",
      "bananas\n"
     ]
    }
   ],
   "source": [
    "# lets see what it looks like:\n",
    "with open(\"output.txt\", \"r\") as infile:\n",
    "     for line in infile:\n",
    "          print(line.strip('\\n'))\n"
   ]
  },
  {
   "cell_type": "markdown",
   "metadata": {},
   "source": [
    "## Appending to files"
   ]
  },
  {
   "cell_type": "code",
   "execution_count": 25,
   "metadata": {},
   "outputs": [],
   "source": [
    "outfile = open(\"output.txt\", \"a\")\n",
    "\n",
    "for n in range(11,20):\n",
    "    outfile.write(str(n) + \"\\n\")"
   ]
  },
  {
   "cell_type": "markdown",
   "metadata": {},
   "source": [
    "!Warning!"
   ]
  },
  {
   "cell_type": "code",
   "execution_count": 26,
   "metadata": {},
   "outputs": [],
   "source": [
    "# N.B. written to final until we run the following:\n",
    "outfile.close() "
   ]
  },
  {
   "cell_type": "markdown",
   "metadata": {},
   "source": [
    "## CSV files"
   ]
  },
  {
   "cell_type": "code",
   "execution_count": 63,
   "metadata": {},
   "outputs": [
    {
     "name": "stdout",
     "output_type": "stream",
     "text": [
      "['2.3358', '0.0044', '0.3163', '0.8698', '1.4817']\n",
      "['3.1387', '-0.1494', '1.1793', '2.1482', '-0.2141']\n",
      "['0.0501', '0.6111', '-0.892', '1.0971', '-2.6557']\n",
      "['-0.029', '-1.7519', '-0.5098', '-0.5294', '0.2512']\n",
      "['-0.0012', '-0.8835', '3.1745', '3.6743', '2.9339']\n",
      "['1.3228', '0.1419', '0.6433', '2.5167', '0.9105']\n",
      "['0.9066', '-0.7031', '-0.9839', '-0.0551', '0.049']\n",
      "['-1.5817', '-1.332', '1.0518', '-1.1584', '-0.9183']\n",
      "['2.9412', '-1.9048', '-1.328', '0.3225', '-0.2039']\n",
      "['-1.5636', '-1.506', '1.6153', '1.8511', '0.9356']\n",
      "['-0.5645', '-0.7889', '1.136', '1.9609', '2.5086']\n",
      "['-0.802', '-0.3495', '-1.6138', '-0.4514', '-0.5998']\n",
      "['0.7878', '0.8931', '0.3226', '-1.0011', '1.4319']\n",
      "['-2.375', '-0.6369', '-0.5691', '-1.3663', '-1.7005']\n",
      "['-0.2379', '0.4552', '-0.0294', '-0.5558', '1.4641']\n",
      "['-1.3576', '-0.1541', '0.2684', '-2.3244', '-1.2963']\n",
      "['0.9799', '0.219', '-2.0489', '-3.1371', '-1.0562']\n",
      "['1.5379', '2.7226', '-0.0049', '-3.8528', '-0.4739']\n",
      "['-0.8352', '-0.8438', '-0.4886', '0.8641', '-1.2653']\n",
      "['1.3476', '-0.0039', '-0.8244', '0.2143', '0.0362']\n",
      "['0.3315', '-0.2731', '-0.2188', '-2.3388', '-0.3962']\n",
      "['-0.2723', '0.6647', '-0.2893', '0.0999', '-0.8111']\n",
      "['-0.1344', '0.695', '0.6257', '-0.283', '-0.5913']\n",
      "['-2.2572', '-1.5057', '1.3967', '0.471', '0.0997']\n",
      "['1.0519', '-1.3884', '1.0226', '-1.0947', '1.3978']\n",
      "['1.7878', '1.8082', '-0.694', '0.6162', '-0.9046']\n",
      "['0.5601', '0.8636', '0.4449', '0.6998', '1.0791']\n",
      "['-0.2156', '1.4126', '2.0064', '0.3332', '0.0751']\n",
      "['-1.2607', '-1.2132', '-0.0598', '-1.693', '-1.0813']\n",
      "['0.7107', '1.9284', '1.2093', '-0.0175', '1.0042']\n",
      "['0.0362', '1.7571', '-0.0752', '1.8337', '2.6863']\n",
      "['2.1175', '0.8949', '-1.765', '0.6082', '0.8375']\n",
      "['-1.0219', '0.2911', '-0.727', '0.2553', '-1.6644']\n",
      "['2.653', '0.0148', '0.4559', '-0.0419', '1.2743']\n",
      "['-0.3103', '0.4724', '-0.6975', '0.3755', '3.4604']\n",
      "['-1.7467', '0.4565', '-1.7263', '0.9031', '0.1875']\n",
      "['-0.574', '-2.3953', '-0.8059', '1.5461', '-0.8906']\n",
      "['-1.5758', '1.8004', '-1.3741', '0.9648', '0.0344']\n",
      "['-1.2976', '-0.6741', '2.0647', '2.1778', '1.5391']\n",
      "['0.6771', '2.042', '0.3806', '-2.4027', '-2.3492']\n",
      "['-1.0357', '0.5604', '0.2532', '-1.6972', '-0.4285']\n",
      "['-0.17', '-0.0818', '-2.5097', '-1.4429', '-0.8825']\n",
      "['-0.9111', '-0.5983', '-1.3297', '0.5678', '2.5338']\n",
      "['0.0865', '2.3449', '-1.9526', '0.16', '0.4645']\n",
      "['0.7475', '-0.5134', '-0.598', '0.5344', '0.0727']\n",
      "['-2.298', '-0.8431', '0.2371', '-0.7896', '-1.7017']\n",
      "['3.008', '-0.271', '0.4868', '0.4959', '0.1369']\n",
      "['0.376', '1.0972', '-1.4817', '0.1465', '0.8261']\n",
      "['-0.2943', '-1.9401', '-0.4638', '1.8092', '0.9328']\n",
      "['0.131', '-0.8266', '-1.4767', '-0.5936', '-2.0493']\n",
      "['-0.1', '0.265', '0.4371', '1.1967', '1.8712']\n",
      "['0.8886', '0.945', '-0.1471', '-0.1363', '-0.9092']\n",
      "['0.1406', '-0.5044', '-1.3068', '1.441', '-3.8205']\n",
      "['1.896', '1.0309', '1.1718', '2.3715', '1.6846']\n",
      "['-2.3731', '0.3547', '-2.5275', '0.3097', '-1.4761']\n",
      "['-0.5936', '-1.5261', '-1.0773', '1.417', '1.3027']\n",
      "['-2.4798', '-1.5857', '-0.6344', '-2.1682', '-0.002']\n",
      "['0.7588', '0.0225', '1.2982', '0.01', '1.1708']\n",
      "['-0.0718', '1.9237', '1.3538', '1.4318', '1.4835']\n",
      "['1.1017', '-0.5897', '-0.3399', '1.2663', '1.6784']\n",
      "['-0.7308', '0.6094', '-0.7773', '0.2373', '1.013']\n",
      "['1.0155', '-0.2549', '1.2958', '0.6724', '0.484']\n",
      "['-0.4901', '0.92', '0.4208', '0.2325', '1.6677']\n",
      "['0.6138', '1.4609', '0.3375', '-0.8655', '-1.2248']\n",
      "['0.3232', '-0.2704', '2.8568', '-0.7418', '1.2925']\n",
      "['1.1547', '0.2841', '0.3959', '-0.2621', '1.2498']\n",
      "['-0.8148', '-0.1754', '-0.6326', '-2.8309', '-3.0651']\n",
      "['-2.6977', '-1.9161', '-1.1292', '-1.4923', '0.3646']\n",
      "['-3.1057', '-0.2471', '0.3585', '-1.0263', '-0.1043']\n",
      "['0.666', '0.368', '0.0196', '-1.1868', '0.2599']\n",
      "['-1.0735', '-1.3328', '-0.9537', '-0.2594', '-1.2733']\n",
      "['-0.0316', '2.3285', '1.872', '0.1398', '3.1739']\n",
      "['-0.495', '-0.245', '-2.0064', '-1.315', '-1.4454']\n",
      "['-1.1888', '-1.0905', '1.0745', '1.2094', '1.4798']\n",
      "['-2.7048', '-0.9399', '-1.1409', '-1.3737', '-1.2151']\n",
      "['1.2275', '2.3317', '-1.3622', '-0.9929', '-1.5922']\n",
      "['-2.659', '-1.18', '-1.6486', '-0.2288', '0.4164']\n",
      "['-0.5639', '2.0618', '-1.9634', '0.1514', '1.6458']\n",
      "['-1.8483', '-0.4639', '0.6209', '-0.0183', '2.4059']\n",
      "['-0.4303', '-0.1728', '-0.3347', '-0.3546', '-0.7524']\n",
      "['1.9564', '-0.6527', '0.4776', '1.3519', '-0.9619']\n",
      "['-1.5531', '-1.2717', '1.4032', '0.9843', '0.3788']\n",
      "['2.0049', '-0.6503', '0.0042', '-0.3649', '1.1627']\n",
      "['-0.1315', '0.5443', '0.5422', '0.8582', '0.4374']\n",
      "['0.5894', '-0.2894', '0.8457', '0.641', '0.3239']\n",
      "['1.7067', '-0.4797', '-0.2498', '1.1692', '0.5081']\n",
      "['-3.2533', '1.3689', '1.0815', '1.6946', '0.8739']\n",
      "['2.8036', '0.5355', '0.0828', '-0.7673', '-1.0338']\n",
      "['-1.0385', '-0.6787', '0.8265', '-1.7571', '-3.1357']\n",
      "['-2.1853', '0.2404', '-0.5056', '-1.7177', '0.6123']\n",
      "['2.2815', '0.5445', '1.2507', '0.6492', '-0.6182']\n",
      "['0.247', '0.1745', '0.8681', '-1.4099', '1.3582']\n",
      "['0.1303', '0.9697', '0.6633', '0.3373', '-0.5746']\n",
      "['-0.6143', '-0.3428', '1.3671', '-1.5012', '-2.0953']\n",
      "['3.2129', '0.5585', '0.0043', '0.9622', '-1.0555']\n",
      "['-1.3977', '-0.1699', '-2.4553', '-1.2764', '-1.0301']\n",
      "['-1.1966', '-0.6408', '-1.0887', '-1.4875', '-0.4743']\n",
      "['-1.7013', '0.2085', '0.2438', '-1.2822', '-1.4098']\n",
      "['-0.6957', '-1.055', '-0.6753', '-0.3784', '-1.9997']\n",
      "['1.7702', '1.1211', '-0.6032', '-0.6982', '0.4066']\n"
     ]
    }
   ],
   "source": [
    "with open(\"data.csv\", \"r\") as infile:\n",
    "    for line in infile:\n",
    "        line = line.strip(\" \\n\")\n",
    "        fields = line.split(\",\")\n",
    "        for i in range(0,len(fields)):\n",
    "            fields[i] = fields[i].strip()\n",
    "        print(fields)"
   ]
  },
  {
   "cell_type": "code",
   "execution_count": 64,
   "metadata": {},
   "outputs": [
    {
     "name": "stdout",
     "output_type": "stream",
     "text": [
      "<class '_csv.reader'>\n",
      "['2.3358', '0.0044', '0.3163', '0.8698', '1.4817']\n",
      "['3.1387', '-0.1494', '1.1793', '2.1482', '-0.2141']\n",
      "['1.3228', '0.1419', '0.6433', '2.5167', '0.9105']\n",
      "['2.9412', '-1.9048', '-1.328', '0.3225', '-0.2039']\n",
      "['1.5379', '2.7226', '-0.0049', '-3.8528', '-0.4739']\n",
      "['1.3476', '-0.0039', '-0.8244', '0.2143', '0.0362']\n",
      "['1.0519', '-1.3884', '1.0226', '-1.0947', '1.3978']\n",
      "['1.7878', '1.8082', '-0.694', '0.6162', '-0.9046']\n",
      "['2.1175', '0.8949', '-1.765', '0.6082', '0.8375']\n",
      "['2.653', '0.0148', '0.4559', '-0.0419', '1.2743']\n",
      "['3.008', '-0.271', '0.4868', '0.4959', '0.1369']\n",
      "['1.896', '1.0309', '1.1718', '2.3715', '1.6846']\n",
      "['1.1017', '-0.5897', '-0.3399', '1.2663', '1.6784']\n",
      "['1.0155', '-0.2549', '1.2958', '0.6724', '0.484']\n",
      "['1.1547', '0.2841', '0.3959', '-0.2621', '1.2498']\n",
      "['1.2275', '2.3317', '-1.3622', '-0.9929', '-1.5922']\n",
      "['1.9564', '-0.6527', '0.4776', '1.3519', '-0.9619']\n",
      "['2.0049', '-0.6503', '0.0042', '-0.3649', '1.1627']\n",
      "['1.7067', '-0.4797', '-0.2498', '1.1692', '0.5081']\n",
      "['2.8036', '0.5355', '0.0828', '-0.7673', '-1.0338']\n",
      "['2.2815', '0.5445', '1.2507', '0.6492', '-0.6182']\n",
      "['3.2129', '0.5585', '0.0043', '0.9622', '-1.0555']\n",
      "['1.7702', '1.1211', '-0.6032', '-0.6982', '0.4066']\n"
     ]
    }
   ],
   "source": [
    "import csv\n",
    "\n",
    "# only print the rows that start with a number> 1 \n",
    "with open(\"data.csv\", \"r\") as infile:\n",
    "    csvfile = csv.reader(infile)\n",
    "    print(type(csvfile))\n",
    "\n",
    "    for row in csvfile:\n",
    "        if float(row[0]) > 1:\n",
    "            print(row)\n"
   ]
  },
  {
   "cell_type": "code",
   "execution_count": 31,
   "metadata": {},
   "outputs": [
    {
     "name": "stdout",
     "output_type": "stream",
     "text": [
      "['sequence.fasta.rtf', '.DS_Store', 'PythonDA.ipynb', 'Untitled.ipynb', 'province_population.csv', 'random.fasta.rtf', 'data.csv', 'ls_orchid.fasta.rtf', 'provincepop.csv', 'input.txt', 'Lecture 7 demo.ipynb', 'rocketman.txt', 'ls_orchid.fasta', 'PythonRW.ipynb', 'test.txt', '.ipynb_checkpoints', 'whatever.csv', 'output.txt']\n"
     ]
    }
   ],
   "source": [
    "# to print all the files in our working directory:\n",
    "import os\n",
    "print(os.listdir(\".\"))"
   ]
  },
  {
   "cell_type": "code",
   "execution_count": 65,
   "metadata": {},
   "outputs": [
    {
     "name": "stdout",
     "output_type": "stream",
     "text": [
      "['sequence.fasta.rtf',\n",
      " '.DS_Store',\n",
      " 'PythonDA.ipynb',\n",
      " 'Untitled.ipynb',\n",
      " 'province_population.csv',\n",
      " 'random.fasta.rtf',\n",
      " 'clickersols.ipynb',\n",
      " 'data.csv',\n",
      " 'ls_orchid.fasta.rtf',\n",
      " 'provincepop.csv',\n",
      " 'input.txt',\n",
      " 'Lecture 7 demo.ipynb',\n",
      " 'rocketman.txt',\n",
      " 'ls_orchid.fasta',\n",
      " 'PythonRW.ipynb',\n",
      " 'test.txt',\n",
      " '.ipynb_checkpoints',\n",
      " 'whatever.csv',\n",
      " 'output.txt']\n"
     ]
    }
   ],
   "source": [
    "# use pretty print ot make this a bit neater:\n",
    "from pprint import pprint\n",
    "pprint(os.listdir(\".\"))"
   ]
  },
  {
   "cell_type": "code",
   "execution_count": 36,
   "metadata": {},
   "outputs": [
    {
     "name": "stdout",
     "output_type": "stream",
     "text": [
      "['sequence.fasta.rtf',\n",
      " '.DS_Store',\n",
      " 'PythonDA.ipynb',\n",
      " 'Untitled.ipynb',\n",
      " 'province_population.csv',\n",
      " 'random.fasta.rtf',\n",
      " 'data.csv',\n",
      " 'ls_orchid.fasta.rtf',\n",
      " 'provincepop.csv',\n",
      " 'input.txt',\n",
      " 'Lecture 7 demo.ipynb',\n",
      " 'rocketman.txt',\n",
      " 'ls_orchid.fasta',\n",
      " 'PythonRW.ipynb',\n",
      " 'test.txt',\n",
      " '.ipynb_checkpoints',\n",
      " 'whatever.csv',\n",
      " 'output.txt']\n"
     ]
    }
   ],
   "source": [
    "\n"
   ]
  },
  {
   "cell_type": "markdown",
   "metadata": {},
   "source": [
    "## Try It!"
   ]
  },
  {
   "cell_type": "markdown",
   "metadata": {},
   "source": [
    "1. Write a Python program that writes to the file test.txt the numbers from 20 to 10 on its own line in descending order."
   ]
  },
  {
   "cell_type": "code",
   "execution_count": 66,
   "metadata": {},
   "outputs": [],
   "source": [
    "with open(\"test.txt\", \"w\") as outfile:\n",
    "    for n in range(20,9,-1):\n",
    "        outfile.write(str(n)+\"\\n\")"
   ]
  },
  {
   "cell_type": "markdown",
   "metadata": {},
   "source": [
    "2. Write a Python program that reads your newly created test.txt file line by line and only prints out the value if it is even."
   ]
  },
  {
   "cell_type": "code",
   "execution_count": 67,
   "metadata": {},
   "outputs": [
    {
     "name": "stdout",
     "output_type": "stream",
     "text": [
      "20\n",
      "18\n",
      "16\n",
      "14\n",
      "12\n",
      "10\n"
     ]
    }
   ],
   "source": [
    "with open(\"test.txt\", \"r\") as infile:\n",
    "    for line in infile:\n",
    "        if int(line) % 2 == 0:\n",
    "            print(line.strip(\"\\n\"))"
   ]
  },
  {
   "cell_type": "markdown",
   "metadata": {},
   "source": [
    "3. Print out the contents of the CSV census file from: provinces.csv available on Canvas."
   ]
  },
  {
   "cell_type": "code",
   "execution_count": 40,
   "metadata": {},
   "outputs": [
    {
     "name": "stdout",
     "output_type": "stream",
     "text": [
      "['', '2013', '2014', '2015', '2016', '2017']\n",
      "['Canada', '35,152,370', '35,535,348', '35,832,513', '36,264,604', '36,708,083']\n",
      "['Newfoundland and Labrador', '527,399', '528,386', '528,815', '530,305', '528,817']\n",
      "['Prince Edward Island', '145,198', '145,915', '146,791', '149,472', '152,021']\n",
      "['Nova Scotia', '943,049', '942,209', '941,545', '948,618', '953,869']\n",
      "['New Brunswick', '755,710', '754,700', '753,944', '757,384', '759,655']\n",
      "['Quebec', '8,151,331', '8,210,533', '8,254,912', '8,321,888', '8,394,034']\n",
      "['Ontario', '13,555,754', '13,680,425', '13,789,597', '13,976,320', '14,193,384']\n",
      "['Manitoba', '1,265,588', '1,280,912', '1,295,422', '1,318,115', '1,338,109']\n",
      "['Saskatchewan', '1,104,825', '1,120,639', '1,131,150', '1,148,588', '1,163,925']\n",
      "['Alberta', '3,997,950', '4,108,416', '4,177,527', '4,236,376', '4,286,134']\n",
      "['British Columbia', '4,590,081', '4,646,462', '4,694,699', '4,757,658', '4,817,160']\n",
      "['Yukon', '36,298', '36,817', '37,289', '38,086', '38,459']\n",
      "['Northwest Territories', '43,773', '43,867', '44,214', '44,617', '44,520']\n",
      "['Nunavut', '35,414', '36,067', '36,608', '37,177', '37,996']\n"
     ]
    }
   ],
   "source": [
    "import csv\n",
    "\n",
    "with open(\"provincepop.csv\", \"r\") as infile:\n",
    "    csvfile = csv.reader(infile)\n",
    "    for row in csvfile:   \n",
    "        # row is a vector\n",
    "        print(row)"
   ]
  },
  {
   "cell_type": "markdown",
   "metadata": {},
   "source": [
    "4. Try to print out only the provinces with population> 1 million people in 2015 from the data in 3. Hint: You will need to remove the commas from the numbers (eg. 44214 instead of 44,214) using the replace() function."
   ]
  },
  {
   "cell_type": "code",
   "execution_count": 68,
   "metadata": {},
   "outputs": [
    {
     "name": "stdout",
     "output_type": "stream",
     "text": [
      "Canada 35,832,513\n",
      "Quebec 8,254,912\n",
      "Ontario 13,789,597\n",
      "Manitoba 1,295,422\n",
      "Saskatchewan 1,131,150\n",
      "Alberta 4,177,527\n",
      "British Columbia 4,694,699\n"
     ]
    }
   ],
   "source": [
    "with open(\"provincepop.csv\", \"r\") as infile:\n",
    "    csvfile = csv.reader(infile)\n",
    "    for row in csvfile:   \n",
    "        # need to remove the commas before feeding to int\n",
    "       if row[0] != '' and int(row[3].replace(\",\",\"\")) > 1000000:\n",
    "           print(row[0],row[3])\n",
    "            # or print(row[0],int(row[3].replace(\",\",\"\")))\n"
   ]
  },
  {
   "cell_type": "markdown",
   "metadata": {},
   "source": [
    "## Try-except"
   ]
  },
  {
   "cell_type": "code",
   "execution_count": 69,
   "metadata": {},
   "outputs": [
    {
     "name": "stdout",
     "output_type": "stream",
     "text": [
      "Could not read file: nonexistingfile.txt\n"
     ]
    }
   ],
   "source": [
    "filename = 'nonexistingfile.txt'\n",
    "try:\n",
    "    with open(filename, 'r') as f:\n",
    "        for line in f:\n",
    "            print(line)\n",
    "    \n",
    "except FileNotFoundError:\n",
    "    print(\"Could not read file:\", filename)"
   ]
  },
  {
   "cell_type": "code",
   "execution_count": 70,
   "metadata": {},
   "outputs": [
    {
     "ename": "FileNotFoundError",
     "evalue": "[Errno 2] No such file or directory: 'nonexistingfile.txt'",
     "output_type": "error",
     "traceback": [
      "\u001b[0;31m---------------------------------------------------------------------------\u001b[0m",
      "\u001b[0;31mFileNotFoundError\u001b[0m                         Traceback (most recent call last)",
      "\u001b[0;32m<ipython-input-70-b9389c2eb9d3>\u001b[0m in \u001b[0;36m<module>\u001b[0;34m\u001b[0m\n\u001b[1;32m      1\u001b[0m \u001b[0;31m# without the try-except our program would error out\u001b[0m\u001b[0;34m\u001b[0m\u001b[0;34m\u001b[0m\u001b[0;34m\u001b[0m\u001b[0m\n\u001b[1;32m      2\u001b[0m \u001b[0mfilename\u001b[0m \u001b[0;34m=\u001b[0m \u001b[0;34m'nonexistingfile.txt'\u001b[0m\u001b[0;34m\u001b[0m\u001b[0;34m\u001b[0m\u001b[0m\n\u001b[0;32m----> 3\u001b[0;31m \u001b[0;32mwith\u001b[0m \u001b[0mopen\u001b[0m\u001b[0;34m(\u001b[0m\u001b[0mfilename\u001b[0m\u001b[0;34m,\u001b[0m \u001b[0;34m'r'\u001b[0m\u001b[0;34m)\u001b[0m \u001b[0;32mas\u001b[0m \u001b[0mf\u001b[0m\u001b[0;34m:\u001b[0m\u001b[0;34m\u001b[0m\u001b[0;34m\u001b[0m\u001b[0m\n\u001b[0m\u001b[1;32m      4\u001b[0m     \u001b[0;32mfor\u001b[0m \u001b[0mline\u001b[0m \u001b[0;32min\u001b[0m \u001b[0mf\u001b[0m\u001b[0;34m:\u001b[0m\u001b[0;34m\u001b[0m\u001b[0;34m\u001b[0m\u001b[0m\n\u001b[1;32m      5\u001b[0m         \u001b[0mprint\u001b[0m\u001b[0;34m(\u001b[0m\u001b[0mline\u001b[0m\u001b[0;34m)\u001b[0m\u001b[0;34m\u001b[0m\u001b[0;34m\u001b[0m\u001b[0m\n",
      "\u001b[0;31mFileNotFoundError\u001b[0m: [Errno 2] No such file or directory: 'nonexistingfile.txt'"
     ]
    }
   ],
   "source": [
    "# without the try-except our program would error out\n",
    "filename = 'nonexistingfile.txt'\n",
    "with open(filename, 'r') as f:\n",
    "    for line in f:\n",
    "        print(line)\n"
   ]
  },
  {
   "cell_type": "markdown",
   "metadata": {},
   "source": [
    "1. Write a Python program that reads two numbers and converts them to integers, prints both numbers, and then divides the first number by the second number and prints the result."
   ]
  },
  {
   "cell_type": "code",
   "execution_count": 73,
   "metadata": {},
   "outputs": [
    {
     "name": "stdout",
     "output_type": "stream",
     "text": [
      "Enter a number:hat\n",
      "Invalid\n"
     ]
    }
   ],
   "source": [
    "try:\n",
    "    num1 = int(input(\"Enter a number:\"))\n",
    "    print(num1)\n",
    "    num2 = int(input(\"Enter a number:\"))\n",
    "    print(num2)\n",
    "    print(num1,\"/\",num2,\"=\",(num1/num2))\n",
    "except ValueError:\n",
    "    print(\"Invalid\")\n",
    "except ZeroDivisionError:\n",
    "    print(\"Cannot divide by 0!\")"
   ]
  },
  {
   "cell_type": "markdown",
   "metadata": {},
   "source": [
    "The demos for Lecture 7 continue to PythonRW.ipynb"
   ]
  },
  {
   "cell_type": "markdown",
   "metadata": {},
   "source": [
    "# Getting and reading URLs"
   ]
  },
  {
   "cell_type": "code",
   "execution_count": 7,
   "metadata": {},
   "outputs": [],
   "source": [
    "## GETs"
   ]
  },
  {
   "cell_type": "code",
   "execution_count": 4,
   "metadata": {},
   "outputs": [
    {
     "name": "stdout",
     "output_type": "stream",
     "text": [
      "b'<!doctype html><html itemscope=\"\" itemtype=\"http://schema.org/WebPage\" lang=\"en-CA\"><head><meta content=\"text/html; charset=UTF-8\" http-equiv=\"Content-Type\"><meta content=\"/logos/doodles/2019/celebrating-50-years-of-pride-6537357791592448.2-l.png\" itemprop=\"image\"><meta content=\"Celebrating 50 Years Of Pride\" property=\"twitter:title\"><meta content=\"Celebrating 50 Years Of Pride! #GoogleDoodle\" property=\"twitter:description\"><meta content=\"Celebrating 50 Years Of Pride! #GoogleDoodle\" property=\"og:description\"><meta content=\"summary_large_image\" property=\"twitter:card\"><meta content=\"@GoogleDoodles\" property=\"twitter:site\"><meta content=\"https://www.google.com/logos/doodles/2019/celebrating-50-years-of-pride-6537357791592448.2-2xa.gif\" property=\"twitter:image\"><meta content=\"https://www.google.com/logos/doodles/2019/celebrating-50-years-of-pride-6537357791592448.2-2xa.gif\" property=\"og:image\"><meta content=\"1065\" property=\"og:image:width\"><meta content=\"460\" property=\"og:image:height\"><meta content=\"https://www.google.com/logos/doodles/2019/celebrating-50-years-of-pride-6537357791592448.2-2xa.gif\" property=\"og:url\"><meta content=\"video.other\" property=\"og:type\"><title>Google</title><script nonce=\"5EaXxNI9AMR9yCkh0wtXng==\">(function(){window.google={kEI:\\'CqD2XK6QGOqX0wKpjKb4Bg\\',kEXPI:\\'0,1353804,51,1906,1641,782,697,528,730,224,1575,1257,824,1070,57,322,30,176,1017,1348,168,2332130,329428,1344,12383,4855,32692,15247,867,12163,5281,1100,3335,2,2,4609,2192,364,3319,5505,224,2218,260,5107,575,835,284,2,578,728,2431,59,2,4,1297,283,4040,4967,774,2256,1401,3337,1146,5,2,2,1495,3063,3602,668,1050,1808,1397,81,7,3,488,620,29,1395,8909,1288,2,4007,516,280,1220,38,920,754,1336,1364,1611,1580,1156,1828,1239,2,625,1159,1403,2,4,2,670,44,2374,2409,434,726,1449,10,620,1139,1089,655,338,1593,388,143,86,2,961,198,777,1,369,1016,302,703,756,98,36,2,354,29,401,261,730,1107,10,168,8,109,187,831,139,96,780,1,479,174,885,84,46,553,11,14,10,1659,839,602,381,25,177,325,3,1252,298,542,324,153,12,28,531,8,255,4,104,274,24,227,39,18,21,17,141,1587,101,652,237,1,632,89,153,182,483,260,46,6,1136,3,7,7,3,513,637,342,554,606,452,326,186,542,1,323,9,158,26,32,563,511,997,194,21,339,250,76,64,308,9,9,232,36,114,1,5,1,76,69,206,51,324,309,194,29,131,77,8,73,339,918,328,1284,31,405,721,3,1783,71,1312,5927388,1873,1012,76,5,8797374,4,1572,549,333,444,1,2,80,1,900,583,9,304,1,8,1,2,2132,1,1,1,1,1,414,1,748,141,59,726,3,7,563,1,2303,55,7,21,1,30,6,55,22304660\\',authuser:0,kscs:\\'c9c918f0_CqD2XK6QGOqX0wKpjKb4Bg\\',kGL:\\'CA\\'};google.sn=\\'webhp\\';google.kHL=\\'en-CA\\';})();(function(){google.lc=[];google.li=0;google.getEI=function(a){for(var b;a&&(!a.getAttribute||!(b=a.getAttribute(\"eid\")));)a=a.parentNode;return b||google.kEI};google.getLEI=function(a){for(var b=null;a&&(!a.getAttribute||!(b=a.getAttribute(\"leid\")));)a=a.parentNode;return b};google.https=function(){return\"https:\"==window.location.protocol};google.ml=function(){return null};google.time=function(){return(new Date).getTime()};google.log=function(a,b,e,c,g){if(a=google.logUrl(a,b,e,c,g)){b=new Image;var d=google.lc,f=google.li;d[f]=b;b.onerror=b.onload=b.onabort=function(){delete d[f]};google.vel&&google.vel.lu&&google.vel.lu(a);b.src=a;google.li=f+1}};google.logUrl=function(a,b,e,c,g){var d=\"\",f=google.ls||\"\";e||-1!=b.search(\"&ei=\")||(d=\"&ei=\"+google.getEI(c),-1==b.search(\"&lei=\")&&(c=google.getLEI(c))&&(d+=\"&lei=\"+c));c=\"\";!e&&google.cshid&&-1==b.search(\"&cshid=\")&&\"slh\"!=a&&(c=\"&cshid=\"+google.cshid);a=e||\"/\"+(g||\"gen_204\")+\"?atyp=i&ct=\"+a+\"&cad=\"+b+d+f+\"&zx=\"+google.time()+c;/^http:/i.test(a)&&google.https()&&(google.ml(Error(\"a\"),!1,{src:a,glmm:1}),a=\"\");return a};}).call(this);(function(){google.y={};google.x=function(a,b){if(a)var c=a.id;else{do c=Math.random();while(google.y[c])}google.y[c]=[a,b];return!1};google.lm=[];google.plm=function(a){google.lm.push.apply(google.lm,a)};google.lq=[];google.load=function(a,b,c){google.lq.push([[a],b,c])};google.loadAll=function(a,b){google.lq.push([a,b])};}).call(this);google.f={};var a=window.location,b=a.href.indexOf(\"#\");if(0<=b){var c=a.href.substring(b+1);/(^|&)q=/.test(c)&&-1==c.indexOf(\"#\")&&a.replace(\"/search?\"+c.replace(/(^|&)fp=[^&]*/g,\"\")+\"&cad=h\")};</script><style>#gbar,#guser{font-size:13px;padding-top:1px !important;}#gbar{height:22px}#guser{padding-bottom:7px !important;text-align:right}.gbh,.gbd{border-top:1px solid #c9d7f1;font-size:1px}.gbh{height:0;position:absolute;top:24px;width:100%}@media all{.gb1{height:22px;margin-right:.5em;vertical-align:top}#gbar{float:left}}a.gb1,a.gb4{text-decoration:underline !important}a.gb1,a.gb4{color:#00c !important}.gbi .gb4{color:#dd8e27 !important}.gbf .gb4{color:#900 !important}\\n</style><style>body,td,a,p,.h{font-family:arial,sans-serif}body{margin:0;overflow-y:scroll}#gog{padding:3px 8px 0}td{line-height:.8em}.gac_m td{line-height:17px}form{margin-bottom:20px}.h{color:#36c}.q{color:#00c}.ts td{padding:0}.ts{border-collapse:collapse}em{font-weight:bold;font-style:normal}.lst{height:25px;width:496px}.gsfi,.lst{font:18px arial,sans-serif}.gsfs{font:17px arial,sans-serif}.ds{display:inline-box;display:inline-block;margin:3px 0 4px;margin-left:4px}input{font-family:inherit}a.gb1,a.gb2,a.gb3,a.gb4{color:#11c !important}body{background:#fff;color:black}a{color:#11c;text-decoration:none}a:hover,a:active{text-decoration:underline}.fl a{color:#36c}a:visited{color:#551a8b}a.gb1,a.gb4{text-decoration:underline}a.gb3:hover{text-decoration:none}#ghead a.gb2:hover{color:#fff !important}.sblc{padding-top:5px}.sblc a{display:block;margin:2px 0;margin-left:13px;font-size:11px}.lsbb{background:#eee;border:solid 1px;border-color:#ccc #999 #999 #ccc;height:30px}.lsbb{display:block}.ftl,#fll a{display:inline-block;margin:0 12px}.lsb{background:url(/images/nav_logo229.png) 0 -261px repeat-x;border:none;color:#000;cursor:pointer;height:30px;margin:0;outline:0;font:15px arial,sans-serif;vertical-align:top}.lsb:active{background:#ccc}.lst:focus{outline:none}</style><script nonce=\"5EaXxNI9AMR9yCkh0wtXng==\"></script></head><body bgcolor=\"#fff\"><script nonce=\"5EaXxNI9AMR9yCkh0wtXng==\">(function(){var src=\\'/images/nav_logo229.png\\';var iesg=false;document.body.onload = function(){window.n && window.n();if (document.images){new Image().src=src;}\\nif (!iesg){document.f&&document.f.q.focus();document.gbqf&&document.gbqf.q.focus();}\\n}\\n})();</script><div id=\"mngb\"> <div id=gbar><nobr><b class=gb1>Search</b> <a class=gb1 href=\"http://www.google.ca/imghp?hl=en&tab=wi\">Images</a> <a class=gb1 href=\"http://maps.google.ca/maps?hl=en&tab=wl\">Maps</a> <a class=gb1 href=\"https://play.google.com/?hl=en&tab=w8\">Play</a> <a class=gb1 href=\"http://www.youtube.com/?gl=CA&tab=w1\">YouTube</a> <a class=gb1 href=\"http://news.google.ca/nwshp?hl=en&tab=wn\">News</a> <a class=gb1 href=\"https://mail.google.com/mail/?tab=wm\">Gmail</a> <a class=gb1 href=\"https://drive.google.com/?tab=wo\">Drive</a> <a class=gb1 style=\"text-decoration:none\" href=\"https://www.google.ca/intl/en/about/products?tab=wh\"><u>More</u> &raquo;</a></nobr></div><div id=guser width=100%><nobr><span id=gbn class=gbi></span><span id=gbf class=gbf></span><span id=gbe></span><a href=\"http://www.google.ca/history/optout?hl=en\" class=gb4>Web History</a> | <a  href=\"/preferences?hl=en\" class=gb4>Settings</a> | <a target=_top id=gb_70 href=\"https://accounts.google.com/ServiceLogin?hl=en&passive=true&continue=http://www.google.com/\" class=gb4>Sign in</a></nobr></div><div class=gbh style=left:0></div><div class=gbh style=right:0></div> </div><center><br clear=\"all\" id=\"lgpd\"><div id=\"lga\"><a href=\"/search?ie=UTF-8&amp;q=Celebrating+Pride&amp;oi=ddle&amp;ct=122916781&amp;hl=en&amp;kgmid=/m/0btk9&amp;sa=X&amp;ved=0ahUKEwiuvZqco9DiAhXqy1QKHSmGCW8QPQgD\"><img alt=\"Celebrating 50 Years Of Pride\" border=\"0\" height=\"220\" src=\"/logos/doodles/2019/celebrating-50-years-of-pride-6537357791592448.2-l.png\" title=\"Celebrating 50 Years Of Pride\" width=\"509\" id=\"hplogo\" onload=\"window.lol&&lol()\"><br></a><br></div><form action=\"/search\" name=\"f\"><table cellpadding=\"0\" cellspacing=\"0\"><tr valign=\"top\"><td width=\"25%\">&nbsp;</td><td align=\"center\" nowrap=\"\"><input name=\"ie\" value=\"ISO-8859-1\" type=\"hidden\"><input value=\"en-CA\" name=\"hl\" type=\"hidden\"><input name=\"source\" type=\"hidden\" value=\"hp\"><input name=\"biw\" type=\"hidden\"><input name=\"bih\" type=\"hidden\"><div class=\"ds\" style=\"height:32px;margin:4px 0\"><input style=\"color:#000;margin:0;padding:5px 8px 0 6px;vertical-align:top\" autocomplete=\"off\" class=\"lst\" value=\"\" title=\"Google Search\" maxlength=\"2048\" name=\"q\" size=\"57\"></div><br style=\"line-height:0\"><span class=\"ds\"><span class=\"lsbb\"><input class=\"lsb\" value=\"Google Search\" name=\"btnG\" type=\"submit\"></span></span><span class=\"ds\"><span class=\"lsbb\"><input class=\"lsb\" value=\"I\\'m Feeling Lucky\" name=\"btnI\" onclick=\"if(this.form.q.value)this.checked=1; else top.location=\\'/doodles/\\'\" type=\"submit\"></span></span></td><td class=\"fl sblc\" align=\"left\" nowrap=\"\" width=\"25%\"><a href=\"/advanced_search?hl=en-CA&amp;authuser=0\">Advanced search</a><a href=\"/language_tools?hl=en-CA&amp;authuser=0\">Language tools</a></td></tr></table><input id=\"gbv\" name=\"gbv\" type=\"hidden\" value=\"1\"><script nonce=\"5EaXxNI9AMR9yCkh0wtXng==\">(function(){var a,b=\"1\";if(document&&document.getElementById)if(\"undefined\"!=typeof XMLHttpRequest)b=\"2\";else if(\"undefined\"!=typeof ActiveXObject){var c,d,e=[\"MSXML2.XMLHTTP.6.0\",\"MSXML2.XMLHTTP.3.0\",\"MSXML2.XMLHTTP\",\"Microsoft.XMLHTTP\"];for(c=0;d=e[c++];)try{new ActiveXObject(d),b=\"2\"}catch(h){}}a=b;if(\"2\"==a&&-1==location.search.indexOf(\"&gbv=2\")){var f=google.gbvu,g=document.getElementById(\"gbv\");g&&(g.value=a);f&&window.setTimeout(function(){location.href=f},0)};}).call(this);</script></form><div id=\"gac_scont\"></div><div style=\"font-size:83%;min-height:3.5em\"><br><div id=\"prm\"><style>.szppmdbYutt__middle-slot-promo{font-size:small;margin-bottom:32px}.szppmdbYutt__middle-slot-promo a.ZIeIlb{display:inline-block;text-decoration:none}.szppmdbYutt__middle-slot-promo img{border:none;margin-right:5px;vertical-align:middle}</style><div class=\"szppmdbYutt__middle-slot-promo\" data-ved=\"0ahUKEwiuvZqco9DiAhXqy1QKHSmGCW8QnIcBCAQ\"><img height=\"72\" src=\"https://www.google.com/images/hpp/pride_hpp_flagemojis_v1.jpg\" width=\"72\"><a class=\"NKcBbd\" href=\"https://www.google.com/url?q=https://pride.google/%3Futm_source%3Dhpp%26utm_medium%3Ddesktop%26utm_campaign%3Dprideforever&amp;source=hpp&amp;id=19012404&amp;ct=3&amp;usg=AFQjCNH4_LTHA7Phr1-KRyoqNpbbINXXzQ&amp;sa=X&amp;ved=0ahUKEwiuvZqco9DiAhXqy1QKHSmGCW8Q8IcBCAU\" rel=\"nofollow\">Celebrating 50 Years of LGBTQ+ history</a></div></div><div id=\"gws-output-pages-elements-homepage_additional_languages__als\"><style>#gws-output-pages-elements-homepage_additional_languages__als{font-size:small;margin-bottom:24px}#SIvCob{display:inline-block;line-height:28px;}#SIvCob a{padding:0 3px;}.H6sW5{display:inline-block;margin:0 2px;white-space:nowrap}.z4hgWe{display:inline-block;margin:0 2px}</style><div id=\"SIvCob\">Google offered in:  <a href=\"http://www.google.com/setprefs?sig=0_fNpUbDU48BXi99g9cpuljp4brno%3D&amp;hl=fr&amp;source=homepage&amp;sa=X&amp;ved=0ahUKEwiuvZqco9DiAhXqy1QKHSmGCW8Q2ZgBCAc\">Fran\\xe7ais</a>  </div></div></div><span id=\"footer\"><div style=\"font-size:10pt\"><div style=\"margin:19px auto;text-align:center\" id=\"fll\"><a href=\"/intl/en/ads/\">Advertising\\xa0Programs</a><a href=\"/services/\">Business Solutions</a><a href=\"/intl/en/about.html\">About Google</a><a href=\"http://www.google.com/setprefdomain?prefdom=CA&amp;prev=http://www.google.ca/&amp;sig=K_r7Ab4_6PARnqS9wNSjFzfd58j5U%3D\">Google.ca</a></div></div><p style=\"color:#767676;font-size:8pt\">&copy; 2019 - <a href=\"/intl/en/policies/privacy/\">Privacy</a> - <a href=\"/intl/en/policies/terms/\">Terms</a></p></span></center><script nonce=\"5EaXxNI9AMR9yCkh0wtXng==\">(function(){window.google.cdo={height:0,width:0};(function(){var a=window.innerWidth,b=window.innerHeight;if(!a||!b){var c=window.document,d=\"CSS1Compat\"==c.compatMode?c.documentElement:c.body;a=d.clientWidth;b=d.clientHeight}a&&b&&(a!=google.cdo.width||b!=google.cdo.height)&&google.log(\"\",\"\",\"/client_204?&atyp=i&biw=\"+a+\"&bih=\"+b+\"&ei=\"+google.kEI);}).call(this);})();(function(){var u=\\'/xjs/_/js/k\\\\x3dxjs.hp.en.NzsLpzidpiA.O/m\\\\x3dsb_he,d/am\\\\x3d4KAW/d\\\\x3d1/rs\\\\x3dACT90oG0riJakyWM403MSVFqm1p2_vskww\\';setTimeout(function(){var a=document.createElement(\"script\");a.src=u;google.timers&&google.timers.load&&google.tick&&google.tick(\"load\",\"xjsls\");document.body.appendChild(a)},0);})();(function(){window.google.xjsu=\\'/xjs/_/js/k\\\\x3dxjs.hp.en.NzsLpzidpiA.O/m\\\\x3dsb_he,d/am\\\\x3d4KAW/d\\\\x3d1/rs\\\\x3dACT90oG0riJakyWM403MSVFqm1p2_vskww\\';})();function _DumpException(e){throw e;}\\nfunction _F_installCss(c){}\\n(function(){google.spjs=false;google.snet=true;google.em=[];google.emw=false;})();google.sm=1;(function(){var pmc=\\'{\\\\x22Qnk92g\\\\x22:{},\\\\x22RWGcrA\\\\x22:{},\\\\x22U5B21g\\\\x22:{},\\\\x22YFCs/g\\\\x22:{},\\\\x22ZI/YVQ\\\\x22:{},\\\\x22d\\\\x22:{},\\\\x22mVopag\\\\x22:{},\\\\x22sb_he\\\\x22:{\\\\x22agen\\\\x22:true,\\\\x22cgen\\\\x22:true,\\\\x22client\\\\x22:\\\\x22heirloom-hp\\\\x22,\\\\x22dh\\\\x22:true,\\\\x22dhqt\\\\x22:true,\\\\x22ds\\\\x22:\\\\x22\\\\x22,\\\\x22ffql\\\\x22:\\\\x22en\\\\x22,\\\\x22fl\\\\x22:true,\\\\x22host\\\\x22:\\\\x22google.com\\\\x22,\\\\x22isbh\\\\x22:28,\\\\x22jsonp\\\\x22:true,\\\\x22msgs\\\\x22:{\\\\x22cibl\\\\x22:\\\\x22Clear Search\\\\x22,\\\\x22dym\\\\x22:\\\\x22Did you mean:\\\\x22,\\\\x22lcky\\\\x22:\\\\x22I\\\\\\\\u0026#39;m Feeling Lucky\\\\x22,\\\\x22lml\\\\x22:\\\\x22Learn more\\\\x22,\\\\x22oskt\\\\x22:\\\\x22Input tools\\\\x22,\\\\x22psrc\\\\x22:\\\\x22This search was removed from your \\\\\\\\u003Ca href\\\\x3d\\\\\\\\\\\\x22/history\\\\\\\\\\\\x22\\\\\\\\u003EWeb History\\\\\\\\u003C/a\\\\\\\\u003E\\\\x22,\\\\x22psrl\\\\x22:\\\\x22Remove\\\\x22,\\\\x22sbit\\\\x22:\\\\x22Search by image\\\\x22,\\\\x22srch\\\\x22:\\\\x22Google Search\\\\x22},\\\\x22ovr\\\\x22:{},\\\\x22pq\\\\x22:\\\\x22\\\\x22,\\\\x22refpd\\\\x22:true,\\\\x22rfs\\\\x22:[],\\\\x22sbpl\\\\x22:24,\\\\x22sbpr\\\\x22:24,\\\\x22scd\\\\x22:10,\\\\x22sce\\\\x22:5,\\\\x22stok\\\\x22:\\\\x22zWnthS6Ft69MsrE7Lp_qYiYLYJ8\\\\x22,\\\\x22uhde\\\\x22:false}}\\';google.pmc=JSON.parse(pmc);})();</script>        </body></html>'\n"
     ]
    }
   ],
   "source": [
    "import urllib.request\n",
    "loc=\"http://google.com\"\n",
    "# dont forget the http://\n",
    "site = urllib.request.urlopen(loc)\n",
    "contents = site.read()\n",
    "print(contents)\n",
    "site.close()"
   ]
  },
  {
   "cell_type": "markdown",
   "metadata": {},
   "source": [
    "The above is not very useful.  We will need to parse (more on this soon)."
   ]
  },
  {
   "cell_type": "code",
   "execution_count": null,
   "metadata": {},
   "outputs": [],
   "source": [
    "The ulrlib.parse module has useful functions that allows us to encode multiple *parameters*"
   ]
  },
  {
   "cell_type": "code",
   "execution_count": 6,
   "metadata": {},
   "outputs": [
    {
     "name": "stdout",
     "output_type": "stream",
     "text": [
      "b'\\n\\n<!DOCTYPE html>\\n<html lang=\"en\">\\n<head>\\n    <meta charset=\"UTF-8\"/>\\n    <meta name=\"viewport\" content=\"width=device-width,initial-scale=1\"/>\\n    \\n\\n    \\n\\n\\n<meta property=\"og:image\" content=\"//www.ask.com/logo.png\" />\\n    <meta property=\"og:description\" content=\"Ask.com is the #1 question answering service that delivers the best answers from the web and real people - all in one place.\"/>\\n    <meta property=\"og:title\" content=\"Ask.com - What\\'s Your Question?\"/>\\n    <meta property=\"og:url\" content=\"www.ask.com\"/>\\n    <meta property=\"og:site_name\" content=\"Ask.com\"/>\\n    <meta property=\"fb:page_id\" content=\"123118179545\" />\\n    <meta name=\"twitter:card\" content=\"summary\" />\\n    <meta name=\"twitter:site\" content=\"@askdotcom\" />\\n\\n    <link rel=\"canonical\" href=\"//www.ask.com\"/>\\n\\n\\n<link REL=\"search\" type=\"application/opensearchdescription+xml\" HREF=\"//www.ask.com/ask-search.xml\" title=\"Ask Search\">\\n\\n<title>Ask.com - What\\'s Your Question?</title>\\n\\n\\n\\n\\n\\n    \\n\\n<link rel=\"stylesheet\" type=\"text/css\" href=\"/s/0-3-27/site-ask-sites-askus-home-page.css\"/>\\n    \\n    <script>\\n        var App = {};\\n        App.events = [];\\n        \\n        function loadEvent(fn,partial) {\\n            App.events.push({\\n                partial:partial || \"\",\\n                contextSelector: document,\\n                elementSelector: null,\\n                type: \"ready\",\\n                handler:fn\\n            });\\n        }\\n        var $ = window.$||loadEvent;\\n    </script>\\n    \\n\\n    \\n\\n</head>\\n<body>\\n\\n<div class=\"l-header\">\\n    <div class=\"l-header-container\">\\n        \\n\\n\\n</div>\\n</div>\\n\\n<div class=\"main\">\\n    <div class=\"l-mid-content content-visible\">\\n        <div class=\"l-mid-container\">\\n            \\n\\n\\n\\n<script>\\n        var isDataLayerDefined = (typeof dataLayer !== \"undefined\");\\n\\n        var dataObj = {\\n            \"ldid\": \"\",\\n            \"channel\": \"home\",\\n            \"affiliateid\": \"0\",\\n            \"sessionid\": \"1955530955\",\\n            \"acquisitiondivision\": \"dirN\"\\n        };\\n\\n            \\nif (isDataLayerDefined) {\\n            dataLayer.push(dataObj);\\n        } else {\\n            var dataLayer = [dataObj];\\n        }\\n\\n    </script>\\n\\n    \\n    <noscript><iframe src=\"//www.googletagmanager.com/ns.html?id=GTM-T3KVMC\" height=\"0\" width=\"0\" style=\"display:none;visibility:hidden\"></iframe></noscript>\\n    <script>(function(w,d,s,l,i){w[l]=w[l]||[];w[l].push({\\'gtm.start\\': new Date().getTime(),event:\\'gtm.js\\'});var f=d.getElementsByTagName(s)[0], j=d.createElement(s),dl=l!=\\'dataLayer_temp\\'?\\'&l=\\'+l:\\'\\';j.async=true;j.src=\\'//www.googletagmanager.com/gtm.js?id=\\'+i+dl;f.parentNode.insertBefore(j,f);\\n    })(window,document,\\'script\\',\\'dataLayer\\',\\'GTM-T3KVMC\\');</script>\\n    \\n\\n\\n\\n\\n\\n\\n<div class=\"wrap-sides\">\\n    <div class=\"PartialHome-wrapper\" data-zen=\"true\">\\n        \\n<div class=\"PartialHome-wrapper-logo\"></div>\\n        <div class=\"search-bar\">\\n            <form accept-charset=\"UTF-8\" action=\"/web\" id=\"PartialHome-form\" class=\"js-PartialHome-form\" data-ordinal=\"0\"\\n                  data-unified=\"{&quot;resultType&quot;:&quot;navigation&quot;,&quot;providerSource&quot;:&quot;navigation&quot;,&quot;zoneName&quot;:&quot;center&quot;,&quot;moduleName&quot;:&quot;searchBox&quot;,&quot;moduleInZone&quot;:1,&quot;resultInModule&quot;:1}\">\\n                <input class=\"search-box-input\" autocomplete=\"off\" id=\"search-box\" maxlength=\"2048\" name=\"q\" type=\"text\" data-modulenumber=\"1\">\\n                <button class=\"sb-button\" value=\"\" type=\"submit\">\\n                    <span id=\"sbut\" class=\"s-but\"></span>\\n                </button>\\n                <input id=\"header-origin\" type=\"hidden\" value=\"0\" name=\"o\">\\n                <input id=\"header-qo\" type=\"hidden\" value=\"homepageSearchBox\" name=\"qo\">\\n            </form>\\n            <div class=\"PartialHome-clear search-clear js-PartialHome-clear\"></div>\\n        </div>\\n    </div>\\n</div>\\n<script>\\n    if (App) {\\n        (function () {\\n            App.events = App.events || [];\\n            App.events.push(\\n                    {\\n                        partial: \"PartialHome\",\\n                        contextSelector: \".PartialHome-wrapper\",\\n                        elementSelector: \".js-PartialHome-form\",\\n                        type: \"submit\",\\n                        handler: function (e) {\\n                            var $searchTextInputBox = $(\".search-box-input\", this);\\n                            if (!$searchTextInputBox.val()) {\\n                                return false;\\n                            }\\n                        }\\n                    },\\n                    {\\n                        partial: \"PartialHome\",\\n                        contextSelector: \".search-bar\",\\n                        elementSelector: \"#PartialHome-form\",\\n                        type: \"submit\",\\n                        handler: function (e) {\\n                            var searchForm = $(this);\\n\\n                            searchForm.unbind(e);\\n                            e.preventDefault();\\n\\n                            var appPayload = {\\n                                actionType: \"click\",\\n                                assetType: \"searchBox\"\\n                            };\\n\\n                            $.extend(appPayload, searchForm.data(\"unified\"));\\n\\n                            if (ask && ask.unified){\\n                                ask.unified.sendAction(appPayload, function () {\\n                                    searchForm.submit();\\n                                });\\n                            } else {\\n                                searchForm.submit();\\n                            }\\n                        }\\n                    },\\n                    {\\n                        partial: \"PartialHome\",\\n                        contextSelector: \".PartialHome-wrapper\",\\n                        elementSelector: null,\\n                        type: \"ready\",\\n                        handler: function () {\\n                            var input = $(\".search-box-input\", this),\\n                                    clear = $(\".js-PartialHome-clear\", this);\\n                            if (clear) {\\n                                _searchUtil.searchBoxClear(input, clear);\\n                            }\\n                        }\\n                    }\\n            );\\n        })();\\n    }\\n</script>\\n\\n\\n\\n\\n\\n</div>\\n    </div>\\n    <div class=\"l-right-content content-visible\">\\n\\n</div>\\n</div>\\n<div class=\"l-footer content-visible\">\\n    <div class=\"l-footer-container\">\\n        \\n\\n    \\n\\n<div class=\"PartialFooter-body\">\\n    <ul class=\"PartialFooter-list\">\\n        \\n\\n<li class=\"PartialFooter-item\">\\n                \\n<a class=\"PartialFooter-item-link\" target=_blank href=\\'https://about.ask.com/\\' data-unified=\\'{\"moduleName\":\"navBottom\",\"providerSource\":\"navigation\",\"resultType\":\"navigation\",\"zone\":\"footer\",\"moduleInZone\":1,\"resultInModule\":1}\\' data-qo=\\'footerLinks\\'>About</a>\\n                \\n</li>\\n        \\n<li class=\"PartialFooter-item\">\\n                \\n<a class=\"PartialFooter-item-link\"  href=\\'/privacy\\' data-unified=\\'{\"moduleName\":\"navBottom\",\"providerSource\":\"navigation\",\"resultType\":\"navigation\",\"zone\":\"footer\",\"moduleInZone\":1,\"resultInModule\":1}\\' data-qo=\\'footerLinks\\'>Privacy</a>\\n                \\n</li>\\n        \\n<li class=\"PartialFooter-item\">\\n                \\n<a class=\"PartialFooter-item-link\"  href=\\'/terms\\' data-unified=\\'{\"moduleName\":\"navBottom\",\"providerSource\":\"navigation\",\"resultType\":\"navigation\",\"zone\":\"footer\",\"moduleInZone\":1,\"resultInModule\":1}\\' data-qo=\\'footerLinks\\'>Terms</a>\\n                \\n</li>\\n        \\n<li class=\"PartialFooter-item\">\\n                \\n<a class=\"PartialFooter-item-link\"  href=\\'/cookies\\' data-unified=\\'{\"moduleName\":\"navBottom\",\"providerSource\":\"navigation\",\"resultType\":\"navigation\",\"zone\":\"footer\",\"moduleInZone\":1,\"resultInModule\":1}\\' data-qo=\\'footerLinks\\'>Cookie Policy</a>\\n                \\n</li>\\n        \\n<li class=\"PartialFooter-item\">\\n                \\n<a class=\"PartialFooter-item-link\" target=_blank href=\\'https://www.askmediagroup.com/careers/\\' data-unified=\\'{\"moduleName\":\"navBottom\",\"providerSource\":\"navigation\",\"resultType\":\"navigation\",\"zone\":\"footer\",\"moduleInZone\":1,\"resultInModule\":1}\\' data-qo=\\'footerLinks\\'>Careers</a>\\n                \\n</li>\\n        \\n<li class=\"PartialFooter-item\">\\n                \\n<a class=\"PartialFooter-item-link\" target=_blank href=\\'https://help.ask.com/\\' data-unified=\\'{\"moduleName\":\"navBottom\",\"providerSource\":\"navigation\",\"resultType\":\"navigation\",\"zone\":\"footer\",\"moduleInZone\":1,\"resultInModule\":1}\\' data-qo=\\'footerLinks\\'>Help</a>\\n                \\n</li>\\n        \\n<li class=\"PartialFooter-item\">\\n                \\n<a class=\"PartialFooter-item-link\" target=_blank href=\\'https://help.ask.com/hc/en-us/requests/new?ticket_form_id=360000032173\\' data-unified=\\'{\"moduleName\":\"navBottom\",\"providerSource\":\"navigation\",\"resultType\":\"navigation\",\"zone\":\"footer\",\"moduleInZone\":1,\"resultInModule\":1}\\' data-qo=\\'footerLinks\\'>Feedback</a>\\n                \\n</li>\\n        \\n<li class=\"PartialFooter-item\">\\n            <span class=\"PartialFooter-item-label copyright\">\\xc2\\xa9 2019 IAC Publishing, LLC</span>\\n        </li>\\n    </ul>\\n</div>\\n\\n\\n\\n    \\n\\n</div>\\n</div>\\n<script src=\"/s/0-3-27/ask-page.min.js\"></script>\\n<script>\\n    $(document).ready(function ($) {\\n        var i, k, event, readyElementList;\\n        if (typeof App.events === \"object\" && App.events.length) {\\n            for (i = 0, k = App.events.length; i < k; i += 1) {\\n                event = App.events[i];\\n                if (event.type === \"ready\") {\\n                    try {\\n                        readyElementList = (event.elementSelector) ?\\n                                $(event.elementSelector, event.contextSelector) :\\n                                $(event.contextSelector);\\n                        readyElementList.each(function (index) {\\n                            event.handler.apply(this);\\n                        });\\n                    } catch (e) {\\n                        console.error(\"Failed to run a \\'ready\\' event handler.\");\\n                        console.error(e);\\n                    }\\n                } else {\\n                    $(event.contextSelector).on(event.type, event.elementSelector || null, event.handler);\\n                }\\n            }\\n        }\\n    });\\n</script>\\n    \\n\\n    \\n\\n\\n<script>\\n        var _UnifiedApiParams = {\"uniqueUser\":\"7428CD54-6638-416D-A3EB-4444CEE7B4BD\",\"appId\":\"Archie_Askus\",\"appVersion\":\"40b9bbd\",\"appDate\":\"2019-06-03T21:39:22Z\",\"logPageView\":false,\"updateSession\":false,\"domain\":\"ask.com\",\"url\":\"www.ask.com/log/browser/event\",\"backFillRequired\":false,\"eventId\":\"B080D1BA-3231-45FA-BA17-126B41003C40\",\"maxSession\":30,\"suppressCookies\":false,\"cookieExpirationMinutes\":129600,\"newSessionOnDomainChange\":false,\"cookieName\":\"uc\"};\\n        _UnifiedApiParams.url = ((\"https:\" === window.location.protocol)? \"https://\" : \"http://\" ) + _UnifiedApiParams.url;\\n    </script>\\n\\n    <script src=\"/s/0-3-27/unified-api.min.js\"></script>\\n    <script>\\n    if(App) {\\n        (function () {\\n            App.events = App.events || [];\\n            App.events.push({\\n                partial: \"partial-unified-footer\",\\n                contextSelector: document,\\n                elementSelector: null,\\n                type: \"ready\",\\n                handler: function () {\\n                        window.ask = window.ask || {};\\n                        var ask = window.ask;\\n                        ask.unified = ask.unified || {};\\n                        ask.unified.pageContext = {\"anuaaf\":\"Archie\",\"anxut\":\"UNIFIED\",\"anuaci\":\"206.87.46.128\",\"anuaafl\":\"0\",\"anxsn\":\"ask-sites-1876681885-f4cxq\",\"anuahm\":\"GET\",\"anuadc\":\"usw2\",\"anuaqs\":\"\",\"anxu\":\"http://www.ask.com/\",\"anuaad\":\"dirN\",\"anuapbr\":\"\",\"anuaan\":\"\",\"anuaamt\":\"\",\"anuaagc\":\"\",\"anuaadid\":\"\",\"ucctr\":\"\",\"ucctn\":\"\",\"ucs\":\"\",\"ucdm\":\"\",\"uccnt\":\"\",\"ucpc\":\"\",\"anuadtp\":\"desktop\",\"anxbt\":\"\",\"anxbv\":\"\",\"anxpt\":\"\",\"anxpv\":\"\",\"anxcd\":\"\",\"anxw\":\"\",\"anxh\":\"\",\"anxv\":\"40b9bbd\",\"anxd\":\"2019-06-03T21:39:22.919Z\",\"anuaptp\":\"homePage\",\"anuachl\":\"home\",\"anuaprdd\":\"search\",\"anxa\":\"Archie_Askus\",\"anxp\":\"ask.com\",\"anualcl\":\"us\",\"anuasv\":\"1\",\"anuaapp\":\"{\\\\\"pageViewId\\\\\":\\\\\"e0b37a81535fbb3ead9535ffe1977ea2\\\\\",\\\\\"queryOrigination\\\\\":\\\\\"\\\\\",\\\\\"templateId\\\\\":\\\\\"desktop\\\\\"}\",\"anuapn\":1,\"anuaptl\":\"Ask.com - What\\'s Your Question?\"};\\n                        ask.unified.payload = {\\n                            pageResults: [],\\n                            providers: ask.unified.pendingProviders || {}\\n                        };\\n\\n                        if (ask.unified.pendingParams) {\\n                            for (var key in ask.unified.pendingParams) {\\n                                ask.unified.payload[key] = ask.unified.pendingParams[key];\\n                            }\\n                            ask.unified.pendingParams = {};\\n                        }\\n\\n                        ask.unified.pendingProviders = {};\\n                        ask.unified.events = [];\\n\\n                        \\n                        ask.unified.addPresentation = function (zoneName, moduleName, moduleOrdinal, resultTemplate, count) {\\n                            for (var i = 0; i < count; i++) {\\n                                var nextResult = {};\\n                                $.extend(nextResult, resultTemplate);\\n                                nextResult.resultInModule = i + 1;\\n                                nextResult.zoneName = zoneName;\\n                                nextResult.moduleName = moduleName;\\n                                nextResult.moduleInZone = moduleOrdinal;\\n                                ask.unified.payload.pageResults.push(nextResult);\\n                            }\\n                        };\\n\\n                        ask.unified.addPresentationResult = function (results) {\\n                            ask.unified.payload.pageResults = ask.unified.payload.pageResults.concat(results);\\n                        };\\n\\n                        \\n                        ask.unified.addProvider = function (providerName, providerPayload) {\\n                            if (!ask.unified.payload.providers[providerName]) {\\n                                ask.unified.payload.providers[providerName] = providerPayload;\\n                            } else {\\n                                $.extend(providerPayload, ask.unified.payload.providers[providerName]);\\n                                ask.unified.payload.providers[providerName] = providerPayload;\\n                            }\\n                        };\\n\\n                        \\n                        ask.unified.sendAction = function (actionPayload, cb) {\\n                            var payload = {};\\n                            $.extend(payload, ask.unified.pageContext);\\n\\n                            if(ask.unified.pageContext.anuaapp) {\\n                                $.extend(actionPayload, JSON.parse(ask.unified.pageContext.anuaapp));\\n                            }\\n                            payload.anuaapp = JSON.stringify(actionPayload);\\n\\n                            if (!cb) {\\n                                _UnifiedApi.logEvent(\"Action\", payload, ask.unified.apiHandler);\\n                            } else {\\n                                var callback = function (success, response) {\\n                                    ask.unified.apiHandler(success, response, function () {\\n                                        cb();\\n                                    });\\n                                };\\n                                _UnifiedApi.logEvent(\"Action\", payload, callback);\\n                            }\\n                        };\\n\\n                        ask.unified.sendBackFill = function () {\\n                            var navInfo = getNavigationTimingInfo(window);\\n                            if(navInfo) {\\n                                \\n                                if (isNavInfoAvailableInUnifiedPayload()) {\\n                                    if(isPageLoadComplete(navInfo)) {\\n                                        \\n                                        if(ask.unified.payload.externalData.navInfo.loadEventEnd === 0) {\\n                                            \\n                                            ask.unified.payload.externalData.navInfo = navInfo;\\n                                        } else {\\n                                            \\n                                            return;\\n                                        }\\n                                    } else {\\n                                        \\n                                        \\n                                        registerSendBackFillOnPageLoadComplete();\\n                                    }\\n                                } else {\\n                                    if(ask.unified.payload.externalData) {\\n                                        ask.unified.payload.externalData.navInfo = navInfo;\\n                                    } else {\\n                                        ask.unified.payload.externalData = { \"navInfo\": navInfo };\\n                                    }\\n\\n                                    if(!isPageLoadComplete(navInfo)) {\\n                                        \\n                                        \\n                                        registerSendBackFillOnPageLoadComplete();\\n                                    }\\n                                }\\n                            }\\n\\n                            var payload = { anxi: _UnifiedApiParams.eventId};\\n                            $.extend(payload, ask.unified.pageContext);\\n\\n                            if ($.isEmptyObject(ask.unified.payload.providers)) {\\n                                delete ask.unified.payload.providers;\\n                            }\\n                            payload.anuaapp = JSON.stringify(ask.unified.payload);\\n\\n                            _UnifiedApi.logEvent(\"BackFill\", payload, ask.unified.apiHandler);\\n\\n                            \\n                            ask.unified.payload = {\\n                                pageResults: [],\\n                                providers: {}\\n                            };\\n                        };\\n\\n                        function isPageLoadComplete(navInfo) {\\n                            return navInfo.loadEventEnd > 0;\\n                        }\\n\\n                        function isNavInfoAvailableInUnifiedPayload() {\\n                            return !!ask.unified.payload.externalData && !!ask.unified.payload.externalData.navInfo;\\n                        }\\n\\n                        function registerSendBackFillOnPageLoadComplete() {\\n                            $(window).load(function(){\\n                                setTimeout(function(){\\n                                    ask.unified.sendBackFill();\\n                                }, 0);\\n                            });\\n                        }\\n\\n                        \\n                        ask.unified.cancelPending = function (key) {\\n                            var length = ask.unified.pending.length;\\n                            for (var i = 0; i < length; i++) {\\n                                if (ask.unified.pending[i] === key) {\\n                                    ask.unified.pending.splice(i, 1);\\n                                    break;\\n                                }\\n                            }\\n                        };\\n\\n                        \\n                        ask.unified.apiHandler = function (success, responseText, cb) {\\n                            \\nif (cb) {\\n                                cb();\\n                            }\\n                        };\\n\\n                        var _timedOut = false,\\n                                _timeFromSerpStart = null,\\n                                _adsLoggingTimeout = null,\\n                                _dynamicLoggingTimeout = null;\\n\\n\\n                        try {\\n                            _timeFromSerpStart = ((new Date() - ask.CSA.startTime) - ask.CSA.showSerpStartTime);\\n                            _adsLoggingTimeout = 5000 - _timeFromSerpStart;\\n                            _dynamicLoggingTimeout = Math.max(_adsLoggingTimeout, 1);\\n                        } catch (e) {\\n                            _dynamicLoggingTimeout = 2000;\\n                        }\\n\\n                        function mixinCSAAdData(payload) {\\n                            var externalData = {\\n                                csaInfo: {\\n                                    domTime: ask.CSA.domReadyTime ? ask.CSA.domReadyTime : 0,\\n                                    adsResponseTime: ask.CSA.responseTime ? ask.CSA.responseTime : 0,\\n                                    adsShownTime: ask.CSA.adsShownTime ? ask.CSA.adsShownTime : 0,\\n                                    serpShownTime: ask.CSA.serpShownTime ? ask.CSA.serpShownTime : 0,\\n                                    supplement: _timedOut,\\n                                    serpTimedOut: !!ask.CSA.showSerpTimeoutFired,\\n                                    serpTimeoutStartTime: ask.CSA.showSerpStartTime ? ask.CSA.showSerpStartTime : 0,\\n                                    dynamicTimeout: _dynamicLoggingTimeout,\\n                                    viewportHeight: ask.CSA.viewportHeight ? ask.CSA.viewportHeight : 0,\\n                                    viewportWidth: ask.CSA.viewportWidth ? ask.CSA.viewportWidth : 0,\\n                                    adContentRatio: ask.CSA.adContentRatio ? ask.CSA.adContentRatio : 0,\\n                                    csaHeight: ask.CSA.csaHeight ? ask.CSA.csaHeight : 0,\\n                                    csaWidth: ask.CSA.csaWidth ? ask.CSA.csaWidth : 0,\\n                                    centerRailHeight: ask.CSA.centerRailHeight ? ask.CSA.centerRailHeight : 0,\\n                                    centerRailWidth: ask.CSA.centerRailWidth ? ask.CSA.centerRailWidth : 0,\\n                                    rightRailHeight: ask.CSA.rightRailHeight ? ask.CSA.rightRailHeight : 0,\\n                                    rightRailWidth: ask.CSA.rightRailWidth ? ask.CSA.rightRailWidth : 0\\n                                }\\n                            };\\n\\n                              var totalAds = 0,\\n                                  topCount = 0,\\n                                  botCount = 0,\\n                                  uniqueResultsDisplayed = 0,\\n                                  csaTopModule = \"\" || \"csaTop\",\\n                                  csaBottomModule = \"\" || \"csaBottom\",\\n                                  csaZone = \"\" || \"primary\";\\n\\n                            if(ask.CSA.adModules){\\n                                for(var i= 0; i < ask.CSA.adModules.length; i++){\\n                                    var m = ask.CSA.adModules[i];\\n                                    totalAds =+ m.count();\\n                                    ask.unified.addPresentation(m.zoneName, m.moduleName, m.ordinal, {resultType: m.resultType, providerSource: m.providerSource}, m.count());\\n                                }\\n                                uniqueResultsDisplayed = ask.CSA.pageOptions.numRepeated ? ask.CSA.adModules[0].count() : totalAds;\\n                            }\\n                            else {\\n                                topCount = ask.CSA.numTopAds ? ask.CSA.numTopAds : 0;\\n                                botCount = ask.CSA.numBottomAds ? ask.CSA.numBottomAds : 0;\\n                                totalAds = topCount + botCount;\\n                                ask.unified.addPresentation(csaZone, csaTopModule, ask.moduleOrdinals[0], { resultType: \"gsl\", providerSource: \"csa\"}, topCount);\\n                                ask.unified.addPresentation(csaZone, csaBottomModule, ask.moduleOrdinals[1], {resultType: \"gsl\", providerSource: \"csa\"}, botCount);\\n                                uniqueResultsDisplayed = ask.CSA.pageOptions.numRepeated ? botCount : totalAds;\\n                            }\\n\\n                            if(csaZone === \"center\") {\\n                                ask.unified.addProvider(\"gsl\", {\\n                                    zoneCenterResults: totalAds\\n                                });\\n                            } else {\\n                                ask.unified.addProvider(\"gsl\", {\\n                                    zonePrimaryResults: totalAds\\n                                });\\n                            }\\n\\n                            ask.unified.addProvider(\"gsl\", {\\n                                responseTime: ask.CSA.responseTime ? ask.CSA.responseTime : 0,\\n                                resultsDisplayed: totalAds,\\n                                uniqueResultsDisplayed: uniqueResultsDisplayed\\n                            });\\n\\n                            try {\\n                                mixinNavigationTimingInfo(externalData);\\n\\n                                ask.unified.payload.externalData = externalData;\\n                            } catch (e) {\\n                            }\\n                        };\\n\\n                        \\n                        function mixinNavigationTimingInfo(eData) {\\n                            var navInfo = getNavigationTimingInfo(window);\\n                            if(navInfo) {\\n                                eData[\"csaInfo\"].csaStartTime = (ask.CSA.startTime.getTime() - navInfo.navigationStart);\\n                            }\\n                        };\\n\\n                        $(document).on(\"unified:BackFill\", function (evt, data) {\\n                            var ask = window.ask;\\n                            if (data && data.payload) {\\n                                ask.unified.addPresentationResult(data.payload);\\n                                ask.unified.sendBackFill();\\n                            }\\n                        });\\n\\n                        if (\"1\" !== CookieUtil.getChipValue(\"uc\", \"nv\")) {\\n                            \\n                            return;\\n                        }\\n\\n                        if (ask.afc) {\\n                            ask.unified.addProvider(\"gsl\", ask.afc.provider);\\n                            ask.unified.addPresentation.apply(null, ask.afc.presentation.top);\\n                            ask.unified.addPresentation.apply(null, ask.afc.presentation.bottom);\\n                            ask.unified.sendBackFill();\\n                        } else if (!ask.unified.pending || ask.unified.pending.length == 0) {\\n                            if(ask.unified.payload) {\\n                                ask.unified.payload.suspectBackFill = true;\\n                            } else {\\n                                ask.unified.payload = { \"suspectBackFill\": true };\\n                            }\\n                            ask.unified.sendBackFill();\\n                        } else if (ask.CSA && typeof ask.CSA.addCSALoadCallback === \"function\") {\\n                            ask.CSA.addCSALoadCallback(function () {\\n                                var payload = _timedOut ? { pl_supplement: true } : {};\\n\\n                                if (typeof ask.CSA.calculateAdContentMetrics === \"function\") {\\n                                    ask.CSA.calculateAdContentMetrics();\\n                                }\\n\\n                                mixinCSAAdData(payload);\\n\\n                                ask.unified.sendBackFill();\\n                            }, function () {\\n                                _timedOut = true;\\n\\n                                if (ask.CSA && typeof ask.CSA.showSerp === \"function\") {\\n                                    ask.CSA.showSerp();\\n                                }\\n\\n                                ask.unified.sendBackFill();\\n                            }, _dynamicLoggingTimeout);\\n                        }\\n                    }\\n                });\\n\\n                App.events.push({\\n                    partial: \"partial-unified-footer\",\\n                    contextSelector: document,\\n                    elementSelector: \"a\",\\n                    type: \"click\",\\n                    handler: function(evt) {\\n                        var ask = window.ask;\\n                        var target = $(this);\\n\\n                        var unifiedData = target.data(\"unified\");\\n                        if(!unifiedData) {\\n                            return; \\n                        }\\n\\n                        var isImage = \"img\" === evt.target.tagName.toLowerCase();\\n                        var assetType = target.data(\"unified-assettype\") || (isImage ? \"image\" : \"primaryTextLink\");\\n                        var destUrl = target.attr(\"href\");\\n                        var qoParam = target.data(\"qo\");\\n\\n                        var appPayload = {\\n                            actionType: \"click\",\\n                            assetType: assetType,\\n                            text: $.trim(target.text()).replace(/\\\\s+/g, \" \"),\\n                            url: destUrl\\n                        };\\n\\n                        \\n                        if(ask.unified.pageContext.metaInfo) {\\n                            unifiedData.metaInfo = unifiedData.metaInfo || {};\\n                            unifiedData.metaInfo.client = ask.unified.pageContext.metaInfo.client || \"\";\\n                            unifiedData.metaInfo.clientChannel = ask.unified.pageContext.metaInfo.clientChannel || \"\";\\n                        }\\n\\n                        \\n                        if(unifiedData.imagePresent) {\\n                            unifiedData.metaInfo = unifiedData.metaInfo || {};\\n                            unifiedData.metaInfo.imagePresent = unifiedData.imagePresent;\\n                            delete unifiedData.imagePresent;\\n                        }\\n\\n                        $.extend(appPayload, unifiedData);\\n\\n                        \\nvar payload = {};\\n                        $.extend(payload, ask.unified.pageContext);\\n\\n                        if(ask.unified.pageContext.anuaapp) {\\n                            $.extend(appPayload, JSON.parse(ask.unified.pageContext.anuaapp));\\n                        }\\n\\n                        var targetAttr = target.attr(\"target\");\\n                        var nonNav = assetType === \"carouselClick\" || assetType === \"loadMore\";\\n\\n                        \\npayload.anuaapp = JSON.stringify(appPayload);\\n\\n                        if(targetAttr || nonNav) {\\n                            _UnifiedApi.logEvent(\"Action\", payload, ask.unified.apiHandler);\\n                        } else {\\n                            var callback = ask.unified.apiHandler;\\n                            if (destUrl) {\\n                                callback = function (success, response) {\\n                                    ask.unified.apiHandler(success, response, function() {\\n                                        destUrl = _UnifiedApi.addURLParam(destUrl, \"qo\", qoParam);\\n                                        document.location = destUrl;\\n                                    });\\n                                };\\n                            }\\n                            _UnifiedApi.logEvent(\"Action\", payload, callback);\\n                            return false;\\n                        }\\n                    }\\n                });\\n        })();\\n        }\\n    </script>\\n\\n\\n\\n<script>\\n\\n    var lssCfg = (function(){\\n        return {\\n            \"topOffset\": 3,\\n            \"leftOffset\": 0,\\n            \"channel\": \"home\",\\n            \"path\": \"web\",\\n            \"disableTurnOffLink\": \"\\'true\\'\",\\n            \"disableSS\": false,\\n            \"server\": \"amg-ss.ask.com\",\\n            \"serverPath\": \"/query\",\\n            \"ldomain\": \"/\",\\n            \"locale\" : \"en-US\",\\n            \"limit\" : 10,\\n            \"ssBold\": \"\\'false\\'\",\\n            \"clearSearchHistory\": \"Clear search history\",\\n            \"max\": \"\",\\n            \"ssFromQueryHistory\": \"true\",\\n            \"queryHistory\": \"\",\\n            \"queryHistoryContentColor\": \"\",\\n            \"ssContentColor\": \"\\'false\\'\",\\n            \"ssContentColorCode\": \"\",\\n            \"matchingTextUnBold\": \"\",\\n            \"suggestionTextUnBold\": \"\",\\n            \"ssItems\": \"\",\\n            \"containerClass\" : \"ac_results\",\\n            \"onSelect\": function(data) {\\n                if( ask && ask.unified && ask.unified.sendAction ){\\n                    var assetType = (data.url.indexOf(\"searchHistory\") !== -1)? \"searchHistory\" : \"searchSuggestions\",\\n                            searchPayload = JSON.parse(\\'{\"resultType\":\"navigation\",\"providerSource\":\"navigation\",\"assetType\":\"searchBar\",\"actionType\":\"click\",\"zoneName\":\"header\",\"moduleName\":\"searchBox\"}\\');\\n                    searchPayload.assetType = assetType;\\n                    ask.unified.sendAction(searchPayload, function () {\\n                        window.location.href = data.url;\\n                    });\\n                    return;\\n                }\\n                window.location.href = data.url;\\n            }\\n        };\\n    })();\\n\\n    if(App) {\\n        (function () {\\n            App.events = App.events || [];\\n            App.events.push({\\n                partial: \"PartialLss\",\\n                contextSelector: document,\\n                elementSelector: null,\\n                type: \"ready\",\\n                handler: function () {\\n                    if (!lssCfg.disableSS) {\\n                        $(\"input[name=q]:first:not(:hidden)\").lssSuggestions(lssCfg);\\n                    }\\n                }\\n            });\\n        })();\\n    }\\n</script>\\n\\n\\n\\n<div id=\"shadow\" style=\"height: 100%; display: none;\"></div>\\n</body>\\n</html>\\n\\n\\n\\n\\n\\n\\n\\n\\n\\n\\n\\n\\n\\n\\n\\n\\n\\n\\n\\n\\n\\n\\n\\n'\n"
     ]
    }
   ],
   "source": [
    "import urllib.parse\n",
    "import urllib.request\n",
    "\n",
    "url = 'https://www.ask.com/web'\n",
    "# Build and encode data\n",
    "values = {'q':'data analysis'}\n",
    "\n",
    "data = urllib.parse.urlencode(values)\n",
    "data = data.encode('utf-8') \n",
    "req = urllib.request.Request(url, data)\n",
    "with urllib.request.urlopen(req) as response:\n",
    "    page = response.read()\n",
    "    print(page)"
   ]
  },
  {
   "cell_type": "markdown",
   "metadata": {},
   "source": [
    "### TRY IT! Questions:"
   ]
  },
  {
   "cell_type": "markdown",
   "metadata": {},
   "source": [
    "#### Question 1"
   ]
  },
  {
   "cell_type": "markdown",
   "metadata": {},
   "source": [
    "Write a Python program that connects to any web page\n",
    "and prints its contents."
   ]
  },
  {
   "cell_type": "code",
   "execution_count": 8,
   "metadata": {},
   "outputs": [
    {
     "name": "stdout",
     "output_type": "stream",
     "text": [
      "b'<!DOCTYPE html>\\n<html>\\n\\n<head>\\n<title>Irene Vrbik</title>\\n<link rel=\"stylesheet\" type=\"text/css\" href=\"css/global.css\"></link>\\n<link href=\\'https://fonts.googleapis.com/css?family=Open+Sans:400,300,600,800,700,100\\' rel=\\'stylesheet\\' type=\\'text/css\\'></link>\\n<link href=\\'https://fonts.googleapis.com/css?family=Ovo\\' rel=\\'stylesheet\\' type=\\'text/css\\'></link> \\n<link href=\\'https://fonts.googleapis.com/css?family=Vollkorn:400,700\\' rel=\\'stylesheet\\' type=\\'text/css\\'>\\n\\n<meta name=\"description\" content=\"Irene Vrbik\\'s personal website.\">\\n<meta name=\"keywords\" content=\"Irene Vrbik, Classification, Clustering, Biostatistics\">\\n<meta name=\"author\" content=\"Irene Vrbik\">\\n</head>\\n\\n<body>\\n\\n    <div id=\"Wrapper\">\\n        <div id=\"Logo\"></div>\\n        <div id=\"Name\">Irene Vrbik</div><br>\\n        <div id=\"Uni\">>>University of British Columbia Okanagan</div>\\n        <div id=\"NavBar\">\\n            <ul>\\n                <li><a href=\"index.html\">home</a></li>\\n                <li><a href=\"publications.html\">research</a></li>\\n                <li><a href=\"teaching.html\">teaching</a></li>\\n                <li><a href=\"contact.html\">contact</a></li>\\n            </ul> \\n        </div>\\n        <div style=\"clear: both;\">&nbsp;</div>\\n        \\n        <div id=\"Shore\"></div>\\n        \\n        <div id=\"FrontPage\">\\n            \\n            <p>\\n            I am currently holding a Postdoctoral Fellowship with \\n            Natural Sciences and Engineering Research Council of Canada (NSERC)\\n            under the supervison of Professor \\n            <a href=\"http://stat.ok.ubc.ca/faculty/loeppky.html\">\\n            Jason Loeppky  </a>.  In collaboration with \\n            researchers in the \\n             <a href=\"http://ikbsas.ok.ubc.ca/welcome.html\">\\n               Irving K. Barber School of Arts and Sciences\\n               </a>\\n                I have recently been exploring\\n              some statistical methods for detecting response to radiation on Raman spectroscopy data.\\n            </p> \\n            \\n            <p>\\n            Prior to this, I was a post doctoral fellow working with  \\n            <a href=\"http://www.math.mcgill.ca/dstephens/\">\\n            Professor David Stephens\\n            </a> at McGill University at the \\n             <a href=\"http://www.math.mcgill.ca/\">\\n             Department of Mathematics and Statistics\\n            </a>.  My post-doctoral work focused on \\n            the statistical and computational challenges associated with the \\n            analysis of genetic data.  \\n            </p>\\n            \\n            <p>\\n            I completed my PhD at the \\n             <a href=\"http://www.uoguelph.ca/\">\\n            University of Guelph\\n            </a>\\n        \\tand was supervised by \\n            <a href=\"http://ms.mcmaster.ca/~paul/\">\\n            Professor Paul McNicholas\\n            </a>.  The topic of my PhD thesis was model-based classification and clustering \\n            with a particular emphasis on non-elliptical distributions.  This research \\n            included the development of a \"Fractionally-Supervised Classification\" approach \\n            which unites the species of unsupervised, semi-supervised, and supervised \\n            classification under a single weighted-likelihood framework.\\n             under the supervision of \\n            <a href=\"https://vet.ucalgary.ca/node/2232\">\\n            Professor Rob Deardon\\n            </a> and co-supervision of \\n             <a href=\"http://www.uoguelph.ca/~zfeng/\">\\n            Professor Zeny Feng\\n            </a>.  My masters thesis involved modelling the spatio-temporal combustion \\n            dynamics of fire in a Bayesian framework.\\n            </p>\\n            \\n            \\n            <p>My office is located in the Arts and Sciences Centre building, room 306.</p>\\n            \\n        </div>\\n        <div style=\"clear: both;\">&nbsp;</div>\\n        \\n    </div>\\n    \\n</body>\\n\\n</html>\\n\\n\\n'\n"
     ]
    }
   ],
   "source": [
    "import urllib.request\n",
    "loc=\"https://people.ok.ubc.ca/ivrbik/\"\n",
    "site = urllib.request.urlopen(loc)\n",
    "contents = site.read()\n",
    "print(contents)\n",
    "site.close()"
   ]
  },
  {
   "cell_type": "markdown",
   "metadata": {},
   "source": [
    "#### Question 2"
   ]
  },
  {
   "cell_type": "markdown",
   "metadata": {},
   "source": [
    "Write a Python program that connects to: https: //raw.githubusercontent.com/ubco-mds-2018/ data531_public/master/province_population.csv and outputs the CSV data. Modify your program to print each province and its 2015 population in descending sorted order."
   ]
  },
  {
   "cell_type": "code",
   "execution_count": 2,
   "metadata": {},
   "outputs": [
    {
     "data": {
      "text/plain": [
       "',2011,2012,2013,2014,2015,\\r\\nCanada,\"34,342.80\",\"34,751.50\",\"35,155.50\",\"35,543.70\",\"35,851.80\",\\r\\nNewfoundland and Labrador,525,526.9,528,529.1,527.8,\\r\\nPrince Edward Island,144,145.3,145.4,146.2,146.4,\\r\\nNova Scotia,944.5,944.8,943,942.4,943,\\r\\nNew Brunswick,755.5,756.8,755.7,754.6,753.9,\\r\\nQuebec,\"8,007.70\",\"8,084.80\",\"8,154.80\",\"8,214.90\",\"8,263.60\",\\r\\nOntario,\"13,263.50\",\"13,409.60\",\"13,551.00\",\"13,677.70\",\"13,792.10\",\\r\\nManitoba,\"1,233.70\",\"1,250.40\",\"1,265.30\",\"1,280.20\",\"1,293.40\",\\r\\nSaskatchewan,\"1,066.30\",\"1,087.20\",\"1,106.10\",\"1,122.30\",\"1,133.60\",\\r\\nAlberta,\"3,790.20\",\"3,888.60\",\"4,007.70\",\"4,120.90\",\"4,196.50\",\\r\\nBritish Columbia,\"4,499.10\",\"4,542.60\",\"4,582.60\",\"4,638.40\",\"4,683.10\",\\r\\nYukon,35.4,36.2,36.4,37,37.4,\\r\\nNorthwest Territories,43.5,43.6,43.9,44,44.1,\\r\\nNunavut,34.2,34.7,35.4,36.1,36.9,\\r\\n'"
      ]
     },
     "execution_count": 2,
     "metadata": {},
     "output_type": "execute_result"
    }
   ],
   "source": [
    "import urllib.request\n",
    "import csv\n",
    "\n",
    "url = \"https://raw.githubusercontent.com/ubco-mds-2018/data531_public/master/province_population.csv\"\n",
    "\n",
    "with urllib.request.urlopen(url) as site:\n",
    "    # data is a long string containing all the data (includes newline character)\n",
    "    # site.read is similar to calling .read() on a regular txt file\n",
    "    data = site.read().decode() # Convert from Unicode to ASCII \n",
    "\n",
    "data    "
   ]
  },
  {
   "cell_type": "code",
   "execution_count": 3,
   "metadata": {},
   "outputs": [],
   "source": [
    "# write the data to a csv file using the csv module\n",
    "outfile = open(\"province_population.csv\", \"w\")\n",
    "outfile.write(data)\n",
    "outfile.close()"
   ]
  },
  {
   "cell_type": "markdown",
   "metadata": {},
   "source": [
    "Now we can manipulate this csv data within python:"
   ]
  },
  {
   "cell_type": "code",
   "execution_count": 4,
   "metadata": {},
   "outputs": [
    {
     "name": "stdout",
     "output_type": "stream",
     "text": [
      "Ontario  13792100.0\n",
      "Quebec  8263600.0\n",
      "British Columbia  4683100.0\n",
      "Alberta  4196500.0\n",
      "Manitoba  1293400.0\n",
      "Saskatchewan  1133600.0\n",
      "Nova Scotia  943000.0\n",
      "New Brunswick  753900.0\n",
      "Newfoundland and Labrador  527800.0\n",
      "Prince Edward Island  146400.0\n",
      "Northwest Territories  44100.0\n",
      "Yukon  37400.0\n",
      "Nunavut  36900.0\n"
     ]
    }
   ],
   "source": [
    "provinces = [] \n",
    "with open(\"province_population.csv\", \"r\") as infile:\n",
    "    csvfile = csv.reader(infile)\n",
    "    for row in csvfile:         \n",
    "        if (len(row) > 0 and row[0] != '' and row[0] != 'Canada'):                          \n",
    "            val = row[5].replace(\",\",\"\")\n",
    "            # since the population is stored in thousands, we will multiply by\n",
    "            # 1000 to store the population in \"ones\"\n",
    "            provinces.append([float(val)*1000, row[0]])\n",
    "\n",
    "# each element in provinces list is a list containing the province's population and name\n",
    "# calling .sort on this list will sort according to that first element (population)\n",
    "provinces.sort(reverse=True)\n",
    "for row in provinces:\n",
    "    print(row[1], \"\", row[0])\n"
   ]
  },
  {
   "cell_type": "code",
   "execution_count": null,
   "metadata": {},
   "outputs": [],
   "source": []
  }
 ],
 "metadata": {
  "kernelspec": {
   "display_name": "Python 3",
   "language": "python",
   "name": "python3"
  },
  "language_info": {
   "codemirror_mode": {
    "name": "ipython",
    "version": 3
   },
   "file_extension": ".py",
   "mimetype": "text/x-python",
   "name": "python",
   "nbconvert_exporter": "python",
   "pygments_lexer": "ipython3",
   "version": "3.7.0"
  }
 },
 "nbformat": 4,
 "nbformat_minor": 2
}
