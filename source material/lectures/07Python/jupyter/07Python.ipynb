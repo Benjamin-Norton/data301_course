{
 "cells": [
  {
   "cell_type": "markdown",
   "metadata": {},
   "source": [
    "# 07 Python: Reading and Writing Files\n",
    "\n",
    "Many data processing tasks require reading and writing to files. `open()` is a built-in function for creating, writing and reading files.  This function takes two parameters; `filename`, and `mode`.  N.B. there are other optional paramters, which we can see by typing `help(open)`\n"
   ]
  },
  {
   "cell_type": "markdown",
   "metadata": {},
   "source": [
    "# Reading text files into Python"
   ]
  },
  {
   "cell_type": "code",
   "execution_count": 2,
   "metadata": {},
   "outputs": [
    {
     "name": "stdout",
     "output_type": "stream",
     "text": [
      "<_io.TextIOWrapper name='input.txt' mode='r' encoding='UTF-8'>\n",
      "<class '_io.TextIOWrapper'>\n"
     ]
    }
   ],
   "source": [
    "infile = open(\"input.txt\", \"r\")\n",
    "print(infile)\n",
    "print(type(infile))"
   ]
  },
  {
   "cell_type": "markdown",
   "metadata": {},
   "source": [
    "`open()` returns a *file object* which we have saved to the variable called `infile`.  Common naming conventions for file input/file output objects are `fin` and `fout`, respectively. This object has methods to read and write data. To read the entire contents of the file, use the `read` method.  Notice that the `read` method returns a *string*:"
   ]
  },
  {
   "cell_type": "code",
   "execution_count": 3,
   "metadata": {},
   "outputs": [
    {
     "name": "stdout",
     "output_type": "stream",
     "text": [
      "<class 'str'>\n",
      "1\n",
      "2\n",
      "3\n",
      "4\n",
      "5\n",
      "6\n",
      "7\n",
      "8\n",
      "9\n",
      "10\n",
      "\n"
     ]
    }
   ],
   "source": [
    "this = infile.read()\n",
    "print(type(this))\n",
    "print(this)"
   ]
  },
  {
   "cell_type": "markdown",
   "metadata": {},
   "source": [
    "Alternatively we can specify the the number characters you want to return as an argument:"
   ]
  },
  {
   "cell_type": "code",
   "execution_count": 10,
   "metadata": {},
   "outputs": [
    {
     "data": {
      "text/plain": [
       "'1\\n2\\n'"
      ]
     },
     "execution_count": 10,
     "metadata": {},
     "output_type": "execute_result"
    }
   ],
   "source": [
    "infile = open(\"input.txt\", \"r\")\n",
    "infile.read(4) # if we use 'print(infile.read)' the \\n will be represented as newlines"
   ]
  },
  {
   "cell_type": "markdown",
   "metadata": {},
   "source": [
    "`read` will keep track of where we are in the file so if we call it again it will read the *next* 4 characters.  We can repeatedly call this function until there are no more characters to be read:"
   ]
  },
  {
   "cell_type": "code",
   "execution_count": 11,
   "metadata": {
    "scrolled": true
   },
   "outputs": [
    {
     "name": "stdout",
     "output_type": "stream",
     "text": [
      "3\n",
      "4\n",
      "\n"
     ]
    }
   ],
   "source": [
    "print(infile.read(4)) # since we are using print() the \\n get converted to new lines."
   ]
  },
  {
   "cell_type": "code",
   "execution_count": 12,
   "metadata": {},
   "outputs": [
    {
     "name": "stdout",
     "output_type": "stream",
     "text": [
      "5\n",
      "6\n",
      "\n",
      "7\n",
      "8\n",
      "\n",
      "9\n",
      "10\n",
      "\n"
     ]
    }
   ],
   "source": [
    "print(infile.read(4)) \n",
    "print(infile.read(4))\n",
    "print(infile.read(5)) # this reaches to the end of the file"
   ]
  },
  {
   "cell_type": "code",
   "execution_count": 50,
   "metadata": {},
   "outputs": [
    {
     "data": {
      "text/plain": [
       "''"
      ]
     },
     "execution_count": 50,
     "metadata": {},
     "output_type": "execute_result"
    }
   ],
   "source": [
    "infile.read(1) # there are no characters left to be read"
   ]
  },
  {
   "cell_type": "markdown",
   "metadata": {},
   "source": [
    "Alternatively we can specify the the number characters you want to return as an argument:"
   ]
  },
  {
   "cell_type": "code",
   "execution_count": 51,
   "metadata": {},
   "outputs": [
    {
     "name": "stdout",
     "output_type": "stream",
     "text": [
      "1\n",
      "\n"
     ]
    }
   ],
   "source": [
    "infile = open(\"input.txt\", \"r\")\n",
    "print(infile.readline())"
   ]
  },
  {
   "cell_type": "markdown",
   "metadata": {},
   "source": [
    "As before, `readline` will keep track of where we are in the file until there are no more lines to be read. "
   ]
  },
  {
   "cell_type": "code",
   "execution_count": 52,
   "metadata": {},
   "outputs": [
    {
     "name": "stdout",
     "output_type": "stream",
     "text": [
      "2\n",
      "\n",
      "3\n",
      "\n",
      "4\n",
      "\n",
      "5\n",
      "\n",
      "6\n",
      "\n",
      "7\n",
      "\n",
      "8\n",
      "\n",
      "9\n",
      "\n",
      "10\n",
      "\n",
      "\n"
     ]
    }
   ],
   "source": [
    "print(infile.readline()) # 2\n",
    "print(infile.readline()) # 3\n",
    "print(infile.readline()) # 4\n",
    "print(infile.readline()) # 5\n",
    "print(infile.readline()) # 6\n",
    "print(infile.readline()) # 7\n",
    "print(infile.readline()) # 8\n",
    "print(infile.readline()) # 9\n",
    "print(infile.readline()) # 10\n",
    "print(infile.readline()) # no more lines to be read"
   ]
  },
  {
   "cell_type": "code",
   "execution_count": 53,
   "metadata": {},
   "outputs": [
    {
     "data": {
      "text/plain": [
       "''"
      ]
     },
     "execution_count": 53,
     "metadata": {},
     "output_type": "execute_result"
    }
   ],
   "source": [
    "infile.readline() # nothing left to print"
   ]
  },
  {
   "cell_type": "markdown",
   "metadata": {},
   "source": [
    "It is good practice to close a file once you no longer need it to free up resources.  Once the file is closed, any further attempts to use the file object"
   ]
  },
  {
   "cell_type": "code",
   "execution_count": 55,
   "metadata": {},
   "outputs": [
    {
     "name": "stdout",
     "output_type": "stream",
     "text": [
      "1\n",
      "2\n",
      "3\n"
     ]
    }
   ],
   "source": [
    "fin = open(\"input.txt\", \"r\") \n",
    "print(fin.read(5))\n",
    "fin.close() # close the file\n",
    "#fin.read(5)# we will no longer be able to access this file once closed"
   ]
  },
  {
   "cell_type": "markdown",
   "metadata": {},
   "source": [
    "Notice how we can save the entire file as a string object to a variable.  If we do that, we can access the information regardless of whether or not the file object has been closed:"
   ]
  },
  {
   "cell_type": "code",
   "execution_count": 1,
   "metadata": {
    "scrolled": true
   },
   "outputs": [
    {
     "name": "stdout",
     "output_type": "stream",
     "text": [
      "1\n",
      "2\n",
      "3\n",
      "4\n",
      "5\n",
      "6\n",
      "7\n",
      "8\n",
      "9\n",
      "10\n",
      "\n"
     ]
    }
   ],
   "source": [
    "fin = open(\"input.txt\", \"r\") \n",
    "val = fin.read() # read file as one string\n",
    "fin.close()\n",
    "print(val)"
   ]
  },
  {
   "cell_type": "markdown",
   "metadata": {},
   "source": [
    "To get the first 4 characters for characters in `val` we need to use slicing as we would for any other string."
   ]
  },
  {
   "cell_type": "code",
   "execution_count": 61,
   "metadata": {
    "scrolled": true
   },
   "outputs": [
    {
     "name": "stdout",
     "output_type": "stream",
     "text": [
      "1\n",
      "2\n",
      "\n",
      "3\n",
      "4\n",
      "\n"
     ]
    }
   ],
   "source": [
    "print(val[0:4]) # first 4 characters\n",
    "print(val[4:8]) # next 4 characters"
   ]
  },
  {
   "cell_type": "markdown",
   "metadata": {},
   "source": [
    "You can check whether the file is close using `<filename>.closed` which returns `True` or `False`."
   ]
  },
  {
   "cell_type": "code",
   "execution_count": null,
   "metadata": {},
   "outputs": [],
   "source": []
  },
  {
   "cell_type": "markdown",
   "metadata": {},
   "source": [
    "Notice how we can save the entire file as a string object to a variable.  If we do that, we can access the information regardless of whether or not the file object has been closed:"
   ]
  },
  {
   "cell_type": "code",
   "execution_count": 58,
   "metadata": {
    "scrolled": true
   },
   "outputs": [
    {
     "name": "stdout",
     "output_type": "stream",
     "text": [
      "1\n",
      "2\n",
      "3\n",
      "4\n",
      "5\n",
      "6\n",
      "7\n",
      "8\n",
      "9\n",
      "10\n",
      "\n"
     ]
    }
   ],
   "source": [
    "fin = open(\"input.txt\", \"r\") \n",
    "val = fin.read() # read file as one string\n",
    "fin.close()\n",
    "print(val)"
   ]
  },
  {
   "cell_type": "markdown",
   "metadata": {},
   "source": [
    "To get the first 4 characters for characters in `val` we need to use slicing as we would for any other string."
   ]
  },
  {
   "cell_type": "code",
   "execution_count": 83,
   "metadata": {},
   "outputs": [
    {
     "name": "stdout",
     "output_type": "stream",
     "text": [
      "True\n"
     ]
    }
   ],
   "source": [
    "print(fin.closed)"
   ]
  },
  {
   "cell_type": "code",
   "execution_count": 61,
   "metadata": {
    "scrolled": true
   },
   "outputs": [
    {
     "name": "stdout",
     "output_type": "stream",
     "text": [
      "1\n",
      "2\n",
      "\n",
      "3\n",
      "4\n",
      "\n"
     ]
    }
   ],
   "source": [
    "print(val[0:4]) # first 4 characters\n",
    "print(val[4:8]) # next 4 characters"
   ]
  },
  {
   "cell_type": "markdown",
   "metadata": {},
   "source": [
    "## Iteration with files"
   ]
  },
  {
   "cell_type": "markdown",
   "metadata": {},
   "source": [
    "Alternatively, we could read every line using the `readlines` method.  Notice that this method returns a Python list.  We know that we can iterate through a Python list in a `for` loop:"
   ]
  },
  {
   "cell_type": "code",
   "execution_count": 62,
   "metadata": {},
   "outputs": [
    {
     "name": "stdout",
     "output_type": "stream",
     "text": [
      "<class 'list'>\n",
      "['1\\n', '2\\n', '3\\n', '4\\n', '5\\n', '6\\n', '7\\n', '8\\n', '9\\n', '10\\n']\n"
     ]
    }
   ],
   "source": [
    "fin = open(\"input.txt\", \"r\")\n",
    "alllines = fin.readlines()\n",
    "print(type(alllines))\n",
    "print(alllines) "
   ]
  },
  {
   "cell_type": "code",
   "execution_count": 65,
   "metadata": {},
   "outputs": [
    {
     "name": "stdout",
     "output_type": "stream",
     "text": [
      "1\n",
      "\n",
      "2\n",
      "\n",
      "3\n",
      "\n",
      "4\n",
      "\n",
      "5\n",
      "\n",
      "6\n",
      "\n",
      "7\n",
      "\n",
      "8\n",
      "\n",
      "9\n",
      "\n",
      "10\n",
      "\n"
     ]
    }
   ],
   "source": [
    "for lines in alllines:\n",
    "    print(lines)"
   ]
  },
  {
   "cell_type": "markdown",
   "metadata": {},
   "source": [
    "We may have noticed how we get an extra whitespace between lines.nl\n",
    "This is because the  `print` function has a newline character printed by default, so we are actually printing `1\\n\\n` for the first line for example.  To remedy this, we can use the `strip` function.  \n",
    "[strip()](https://www.geeksforgeeks.org/python-string-strip-2/) removes any characters specified as arguments from both left and right of a string.  If no argument is specified, then all whitespace from starting from the left (resp. right) is removed until we reach the first non-match.\n"
   ]
  },
  {
   "cell_type": "code",
   "execution_count": 67,
   "metadata": {},
   "outputs": [
    {
     "name": "stdout",
     "output_type": "stream",
     "text": [
      "bbaaccbb\n"
     ]
    }
   ],
   "source": [
    "# example ussage of strip()\n",
    "print(\"acabbaaccbbcac\".strip(\"ac\"))"
   ]
  },
  {
   "cell_type": "code",
   "execution_count": 69,
   "metadata": {},
   "outputs": [
    {
     "name": "stdout",
     "output_type": "stream",
     "text": [
      "1\n",
      "2\n",
      "3\n",
      "4\n",
      "5\n",
      "6\n",
      "7\n",
      "8\n",
      "9\n",
      "10\n"
     ]
    }
   ],
   "source": [
    "for lines in alllines:\n",
    "    print(lines.strip('\\n'))"
   ]
  },
  {
   "cell_type": "code",
   "execution_count": 13,
   "metadata": {},
   "outputs": [
    {
     "name": "stdout",
     "output_type": "stream",
     "text": [
      "1\n",
      "\n",
      "2\n",
      "\n",
      "3\n",
      "\n",
      "4\n",
      "\n",
      "5\n",
      "\n",
      "6\n",
      "\n",
      "7\n",
      "\n",
      "8\n",
      "\n",
      "9\n",
      "\n",
      "10\n",
      "\n"
     ]
    }
   ],
   "source": [
    "fin = open(\"input.txt\", \"r\")\n",
    "for x in fin:\n",
    "    print(x)"
   ]
  },
  {
   "cell_type": "code",
   "execution_count": 14,
   "metadata": {},
   "outputs": [
    {
     "name": "stdout",
     "output_type": "stream",
     "text": [
      "1\n",
      "2\n",
      "3\n",
      "4\n"
     ]
    }
   ],
   "source": [
    "fin = open(\"input.txt\", \"r\")\n",
    "for x in fin:\n",
    "    line = x.strip('\\n')\n",
    "    print(line)\n",
    "    if (int(line) == 4):\n",
    "        break\n",
    "fin.close()"
   ]
  },
  {
   "cell_type": "code",
   "execution_count": 75,
   "metadata": {},
   "outputs": [
    {
     "name": "stdout",
     "output_type": "stream",
     "text": [
      "1\n",
      "2\n",
      "3\n",
      "4\n"
     ]
    }
   ],
   "source": [
    "fin = open(\"input.txt\", \"r\")\n",
    "for x in fin:\n",
    "    print(x.strip('\\n'))\n",
    "    if '4' in x:\n",
    "        break\n",
    "fin.close()"
   ]
  },
  {
   "cell_type": "markdown",
   "metadata": {},
   "source": [
    "### for and while loops for iterations\n",
    "We can accomplish similar things using either the `for` or `while` loops:"
   ]
  },
  {
   "cell_type": "code",
   "execution_count": 78,
   "metadata": {},
   "outputs": [
    {
     "name": "stdout",
     "output_type": "stream",
     "text": [
      "1\n",
      "2\n",
      "3\n",
      "4\n",
      "5\n",
      "6\n",
      "7\n",
      "8\n",
      "9\n",
      "10\n"
     ]
    }
   ],
   "source": [
    "# iterate through input.txt line by line using a for loop:\n",
    "infile = open(\"input.txt\", \"r\")\n",
    "for line in infile:\n",
    "    print(line.strip('\\n'))\n",
    "infile.close()"
   ]
  },
  {
   "cell_type": "code",
   "execution_count": 79,
   "metadata": {},
   "outputs": [
    {
     "name": "stdout",
     "output_type": "stream",
     "text": [
      "2\n",
      "3\n",
      "4\n",
      "5\n",
      "6\n",
      "7\n",
      "8\n",
      "9\n",
      "10\n",
      "\n"
     ]
    }
   ],
   "source": [
    "# iterate through input.txt line by line using a while loop:\n",
    "infile = open(\"input.txt\", \"r\")\n",
    "line = infile.readline()\n",
    "while line != \"\":\n",
    "    line = infile.readline()\n",
    "    print(line.strip('\\n'))\n",
    "infile.close()\n"
   ]
  },
  {
   "cell_type": "markdown",
   "metadata": {},
   "source": [
    "## with for closing files\n",
    "To avoid writing programs which forget to close the file, we could also use [`with`](https://effbot.org/zone/python-with-statement.htm). The `with` statement will automatically close the file after the suite is exited.  Hence we never have to write `infile.close()`."
   ]
  },
  {
   "cell_type": "code",
   "execution_count": 84,
   "metadata": {},
   "outputs": [
    {
     "name": "stdout",
     "output_type": "stream",
     "text": [
      "1\n",
      "2\n",
      "3\n",
      "4\n",
      "5\n",
      "6\n",
      "7\n",
      "8\n",
      "9\n",
      "10\n",
      "True\n"
     ]
    }
   ],
   "source": [
    "# The following will auto-close file\n",
    "with open(\"input.txt\", \"r\") as infile:\n",
    "    for line in infile:\n",
    "        print(line.strip('\\n'))\n",
    "print(infile.closed)"
   ]
  },
  {
   "cell_type": "markdown",
   "metadata": {},
   "source": [
    "# Writing Text to a File"
   ]
  },
  {
   "cell_type": "markdown",
   "metadata": {},
   "source": [
    "Selecting the write `'w'` mode will allow us to *write* (rather than read) text to a file."
   ]
  },
  {
   "cell_type": "code",
   "execution_count": 6,
   "metadata": {},
   "outputs": [],
   "source": [
    "outfile = open(\"output.txt\", \"w\")\n",
    "# writes the numbers 1 through 10 on new lines\n",
    "for n in range(1,11):\n",
    "    # notice how we need to convert numbers to strings before we write them to files\n",
    "    outfile.write(str(n)+\"\\n\")"
   ]
  },
  {
   "cell_type": "markdown",
   "metadata": {},
   "source": [
    "**Warning 1**: The above method will try to overwrite the file {\\tt output.txt} if it exists, otherwise, the file will be created.<br>\n",
    "**Warning 2**: The contents are not written to file until we close it. <br>\n",
    "**Warning 3**: Numbers need to be converted to strings before writing."
   ]
  },
  {
   "cell_type": "code",
   "execution_count": 7,
   "metadata": {},
   "outputs": [],
   "source": [
    "# not written to final until we run the following:\n",
    "outfile.close() "
   ]
  },
  {
   "cell_type": "markdown",
   "metadata": {},
   "source": [
    "The preferred method is to use the `with` clause: (this way it is impossible for us to forget to close the file)"
   ]
  },
  {
   "cell_type": "code",
   "execution_count": 19,
   "metadata": {},
   "outputs": [],
   "source": [
    "with open('output.txt', 'w') as fout:\n",
    "    for n in range(1,11):\n",
    "        fout.write(str(n) + \"\\n\")"
   ]
  },
  {
   "cell_type": "markdown",
   "metadata": {},
   "source": [
    "Notice how `output.txt` gets overwritten after the following chunk is run:"
   ]
  },
  {
   "cell_type": "code",
   "execution_count": 91,
   "metadata": {},
   "outputs": [],
   "source": [
    "with open(\"output.txt\", \"w\") as f:\n",
    "    f.write(\"Test\")"
   ]
  },
  {
   "cell_type": "markdown",
   "metadata": {},
   "source": [
    "### creating an empty file:\n",
    "There is a few different ways we can do this:"
   ]
  },
  {
   "cell_type": "code",
   "execution_count": 89,
   "metadata": {},
   "outputs": [],
   "source": [
    "# creates an empty file with \"pass\"\n",
    "with open(\"test2.txt\", \"w\") as f:\n",
    "    pass"
   ]
  },
  {
   "cell_type": "code",
   "execution_count": 90,
   "metadata": {},
   "outputs": [],
   "source": [
    "# creats an empty file named \"filename.txt\"\n",
    "open(\"filename.txt\", 'w').close()"
   ]
  },
  {
   "cell_type": "markdown",
   "metadata": {},
   "source": [
    "Like the `read` functions, `write` will remember its place within the document and will pick up where it left off:"
   ]
  },
  {
   "cell_type": "code",
   "execution_count": 92,
   "metadata": {},
   "outputs": [],
   "source": [
    "with open(\"test.txt\", \"w\") as fout:\n",
    "    fout.write(\"Test\")\n",
    "    fout.write(\"Test again\")"
   ]
  },
  {
   "cell_type": "code",
   "execution_count": 94,
   "metadata": {},
   "outputs": [],
   "source": [
    "# this overwrites the file created above\n",
    "with open(\"test.txt\", \"w\") as fout:\n",
    "    fout.write(\"Test\\n\")\n",
    "    fout.write(\"Test again\")"
   ]
  },
  {
   "cell_type": "markdown",
   "metadata": {},
   "source": [
    "## appending to an existing file\n",
    "To add text to the end of an exisiting file we need to use `open` with the mode `a` (for append)."
   ]
  },
  {
   "cell_type": "code",
   "execution_count": 8,
   "metadata": {},
   "outputs": [],
   "source": [
    "outfile = open(\"output.txt\", \"a\")\n",
    "for n in range(11,20):\n",
    "    outfile.write(str(n) + \"\\n\")\n",
    "outfile.close() \n"
   ]
  },
  {
   "cell_type": "code",
   "execution_count": 9,
   "metadata": {},
   "outputs": [],
   "source": [
    "# if newfile.txt doesn't exist already, the following code will create it\n",
    "outfile = open(\"newfile.txt\", \"a\")\n",
    "for n in range(11,20):\n",
    "    outfile.write(str(n) + \"\\n\")\n",
    "outfile.close() "
   ]
  },
  {
   "cell_type": "markdown",
   "metadata": {},
   "source": [
    "## reading CSV files\n",
    "A common type of file you may want to read into your program is a comma separated value (CSV) file.\n",
    "We can read csv files by iterating over the file object and using `strip` and `split`."
   ]
  },
  {
   "cell_type": "code",
   "execution_count": null,
   "metadata": {},
   "outputs": [],
   "source": []
  },
  {
   "cell_type": "code",
   "execution_count": 10,
   "metadata": {},
   "outputs": [],
   "source": [
    "with open(\"data.csv\", \"r\") as infile:\n",
    "    for line in infile:\n",
    "        #print(line)\n",
    "        line = line.strip(\" \\n\")\n",
    "        #print(fields)\n",
    "        fields = line.split(\",\")\n",
    "        #for i in range(0,len(fields)):\n",
    "            #fields[i] = fields[i].strip()\n",
    "        #print(fields)"
   ]
  },
  {
   "cell_type": "code",
   "execution_count": 11,
   "metadata": {},
   "outputs": [
    {
     "data": {
      "text/plain": [
       "['1.7702', '1.1211', '-0.6032', '-0.6982', '0.4066']"
      ]
     },
     "execution_count": 11,
     "metadata": {},
     "output_type": "execute_result"
    }
   ],
   "source": [
    "fields"
   ]
  },
  {
   "cell_type": "markdown",
   "metadata": {},
   "source": [
    "* `line` is a string (with the end of line character `\\n` removed)\n",
    "* `fields` is a list containing the individual cell values for the corresponding row.\n"
   ]
  },
  {
   "cell_type": "code",
   "execution_count": 103,
   "metadata": {},
   "outputs": [
    {
     "name": "stdout",
     "output_type": "stream",
     "text": [
      "<class 'str'>\n",
      "1.7702,1.1211,-0.6032,-0.6982,0.4066\n",
      "<class 'list'>\n",
      "['1.7702', '1.1211', '-0.6032', '-0.6982', '0.4066']\n"
     ]
    }
   ],
   "source": [
    "print(type(line))\n",
    "print(line)\n",
    "print(type(fields))\n",
    "print(fields)"
   ]
  },
  {
   "cell_type": "markdown",
   "metadata": {},
   "source": [
    "Alternatively, you could use the `csv` module for reading in CSV files.  In an effort to reduce the number of lines printed, lets filter the results to only rows having the first element greater than 1.  Remember that each element in this list is currently being treated as a string.  Before we do any calculations on this numeric values, we need to convert them using `float`."
   ]
  },
  {
   "cell_type": "code",
   "execution_count": 3,
   "metadata": {},
   "outputs": [
    {
     "name": "stdout",
     "output_type": "stream",
     "text": [
      "['2.3358', '0.0044', '0.3163', '0.8698', '1.4817']\n",
      "['3.1387', '-0.1494', '1.1793', '2.1482', '-0.2141']\n",
      "['1.3228', '0.1419', '0.6433', '2.5167', '0.9105']\n",
      "['2.9412', '-1.9048', '-1.328', '0.3225', '-0.2039']\n",
      "['1.5379', '2.7226', '-0.0049', '-3.8528', '-0.4739']\n",
      "['1.3476', '-0.0039', '-0.8244', '0.2143', '0.0362']\n",
      "['1.0519', '-1.3884', '1.0226', '-1.0947', '1.3978']\n",
      "['1.7878', '1.8082', '-0.694', '0.6162', '-0.9046']\n",
      "['2.1175', '0.8949', '-1.765', '0.6082', '0.8375']\n",
      "['2.653', '0.0148', '0.4559', '-0.0419', '1.2743']\n",
      "['3.008', '-0.271', '0.4868', '0.4959', '0.1369']\n",
      "['1.896', '1.0309', '1.1718', '2.3715', '1.6846']\n",
      "['1.1017', '-0.5897', '-0.3399', '1.2663', '1.6784']\n",
      "['1.0155', '-0.2549', '1.2958', '0.6724', '0.484']\n",
      "['1.1547', '0.2841', '0.3959', '-0.2621', '1.2498']\n",
      "['1.2275', '2.3317', '-1.3622', '-0.9929', '-1.5922']\n",
      "['1.9564', '-0.6527', '0.4776', '1.3519', '-0.9619']\n",
      "['2.0049', '-0.6503', '0.0042', '-0.3649', '1.1627']\n",
      "['1.7067', '-0.4797', '-0.2498', '1.1692', '0.5081']\n",
      "['2.8036', '0.5355', '0.0828', '-0.7673', '-1.0338']\n",
      "['2.2815', '0.5445', '1.2507', '0.6492', '-0.6182']\n",
      "['3.2129', '0.5585', '0.0043', '0.9622', '-1.0555']\n",
      "['1.7702', '1.1211', '-0.6032', '-0.6982', '0.4066']\n"
     ]
    }
   ],
   "source": [
    "import csv\n",
    "# only print the rows that start with a number> 1 \n",
    "with open(\"data.csv\", \"r\") as infile:\n",
    "    csvfile = csv.reader(infile)\n",
    "    for row in csvfile:\n",
    "        if float(row[0]) > 1:\n",
    "            print(row)"
   ]
  },
  {
   "cell_type": "code",
   "execution_count": 4,
   "metadata": {},
   "outputs": [
    {
     "name": "stdout",
     "output_type": "stream",
     "text": [
      "<class '_csv.reader'>\n",
      "<class 'list'>\n",
      "['1.7702', '1.1211', '-0.6032', '-0.6982', '0.4066']\n"
     ]
    }
   ],
   "source": [
    "print(type(csvfile))\n",
    "print(type(row))\n",
    "print(row)"
   ]
  },
  {
   "cell_type": "code",
   "execution_count": 5,
   "metadata": {},
   "outputs": [
    {
     "name": "stdout",
     "output_type": "stream",
     "text": [
      "[['2.3358', '0.0044', '0.3163', '0.8698', '1.4817'], ['3.1387', '-0.1494', '1.1793', '2.1482', '-0.2141'], ['1.3228', '0.1419', '0.6433', '2.5167', '0.9105'], ['2.9412', '-1.9048', '-1.328', '0.3225', '-0.2039'], ['1.5379', '2.7226', '-0.0049', '-3.8528', '-0.4739'], ['1.3476', '-0.0039', '-0.8244', '0.2143', '0.0362'], ['1.0519', '-1.3884', '1.0226', '-1.0947', '1.3978'], ['1.7878', '1.8082', '-0.694', '0.6162', '-0.9046'], ['2.1175', '0.8949', '-1.765', '0.6082', '0.8375'], ['2.653', '0.0148', '0.4559', '-0.0419', '1.2743'], ['3.008', '-0.271', '0.4868', '0.4959', '0.1369'], ['1.896', '1.0309', '1.1718', '2.3715', '1.6846'], ['1.1017', '-0.5897', '-0.3399', '1.2663', '1.6784'], ['1.0155', '-0.2549', '1.2958', '0.6724', '0.484'], ['1.1547', '0.2841', '0.3959', '-0.2621', '1.2498'], ['1.2275', '2.3317', '-1.3622', '-0.9929', '-1.5922'], ['1.9564', '-0.6527', '0.4776', '1.3519', '-0.9619'], ['2.0049', '-0.6503', '0.0042', '-0.3649', '1.1627'], ['1.7067', '-0.4797', '-0.2498', '1.1692', '0.5081'], ['2.8036', '0.5355', '0.0828', '-0.7673', '-1.0338'], ['2.2815', '0.5445', '1.2507', '0.6492', '-0.6182'], ['3.2129', '0.5585', '0.0043', '0.9622', '-1.0555'], ['1.7702', '1.1211', '-0.6032', '-0.6982', '0.4066']]\n"
     ]
    }
   ],
   "source": [
    "# only print the rows that start with a number> 1 \n",
    "# save it to a new list\n",
    "data = []\n",
    "with open(\"data.csv\", \"r\") as infile:\n",
    "    csvfile = csv.reader(infile)\n",
    "    for row in csvfile:\n",
    "        if float(row[0]) > 1:\n",
    "            data.append(row)\n",
    "            \n",
    "print(data)"
   ]
  },
  {
   "cell_type": "code",
   "execution_count": 7,
   "metadata": {},
   "outputs": [],
   "source": [
    "with open(\"data2.csv\", \"w\") as writeFile:\n",
    "    writer = csv.writer(writeFile)\n",
    "    writer.writerows(data)"
   ]
  },
  {
   "cell_type": "markdown",
   "metadata": {},
   "source": [
    "### Sidenote: other useful modules\n",
    "A useful module/function in case you forget the name of your file is to list all files in a directory.  "
   ]
  },
  {
   "cell_type": "code",
   "execution_count": 108,
   "metadata": {},
   "outputs": [
    {
     "name": "stdout",
     "output_type": "stream",
     "text": [
      "['.DS_Store', '.ipynb_checkpoints', '07Python.ipynb', '07PythonII.ipynb', 'clickersols.ipynb', 'data.csv', 'filename.txt', 'input.txt', 'Lecture 7 demo.ipynb', 'ls_orchid.fasta', 'ls_orchid.fasta.rtf', 'output.txt', 'province_population.csv', 'provincepop.csv', 'PythonDA.ipynb', 'PythonRW.ipynb', 'random.fasta.rtf', 'rocketman.txt', 'sequence.fasta.rtf', 'test.txt', 'whatever.csv']\n"
     ]
    }
   ],
   "source": [
    "import os\n",
    "print(os.listdir(\".\"))"
   ]
  },
  {
   "cell_type": "markdown",
   "metadata": {},
   "source": [
    "We can also use the module `pprint (for pretty print) to make this output a little neater:"
   ]
  },
  {
   "cell_type": "code",
   "execution_count": 109,
   "metadata": {},
   "outputs": [
    {
     "name": "stdout",
     "output_type": "stream",
     "text": [
      "['.DS_Store',\n",
      " '.ipynb_checkpoints',\n",
      " '07Python.ipynb',\n",
      " '07PythonII.ipynb',\n",
      " 'clickersols.ipynb',\n",
      " 'data.csv',\n",
      " 'filename.txt',\n",
      " 'input.txt',\n",
      " 'Lecture 7 demo.ipynb',\n",
      " 'ls_orchid.fasta',\n",
      " 'ls_orchid.fasta.rtf',\n",
      " 'output.txt',\n",
      " 'province_population.csv',\n",
      " 'provincepop.csv',\n",
      " 'PythonDA.ipynb',\n",
      " 'PythonRW.ipynb',\n",
      " 'random.fasta.rtf',\n",
      " 'rocketman.txt',\n",
      " 'sequence.fasta.rtf',\n",
      " 'test.txt',\n",
      " 'whatever.csv']\n"
     ]
    }
   ],
   "source": [
    "from pprint import pprint\n",
    "pprint(os.listdir(\".\"))"
   ]
  },
  {
   "cell_type": "markdown",
   "metadata": {},
   "source": [
    "#### Example 1\n",
    "Write a Python program that writes to the file `test.txt` the numbers from 20 to 10 on its own line in descending order."
   ]
  },
  {
   "cell_type": "code",
   "execution_count": 10,
   "metadata": {},
   "outputs": [],
   "source": [
    "with open(\"test.txt\", \"w\") as outfile:\n",
    "    for n in range(20,9,-1):\n",
    "        outfile.write(str(n)+\"\\n\")"
   ]
  },
  {
   "cell_type": "markdown",
   "metadata": {},
   "source": [
    "#### Example 2\n",
    "Write a Python program that reads your newly created `test.txt` file line by line and only prints out the value if it is even."
   ]
  },
  {
   "cell_type": "code",
   "execution_count": 12,
   "metadata": {},
   "outputs": [
    {
     "name": "stdout",
     "output_type": "stream",
     "text": [
      "20\n",
      "18\n",
      "16\n",
      "14\n",
      "12\n",
      "10\n"
     ]
    }
   ],
   "source": [
    "with open(\"test.txt\", \"r\") as infile:\n",
    "    for line in infile:\n",
    "        if int(line) % 2 == 0:\n",
    "            #print(line)\n",
    "            print(line.strip(\"\\n\"))"
   ]
  },
  {
   "cell_type": "markdown",
   "metadata": {},
   "source": [
    "#### Example 3\n",
    "Print out the contents of the census file  [provinces.csv](https://www150.statcan.gc.ca/t1/tbl1/en/tv.action?pid=1710000501) available on Canvas.  You may use the `csv` module if you wish."
   ]
  },
  {
   "cell_type": "code",
   "execution_count": 23,
   "metadata": {},
   "outputs": [
    {
     "name": "stdout",
     "output_type": "stream",
     "text": [
      "['', '2013', '2014', '2015', '2016', '2017']\n",
      "['Canada', '35,152,370', '35,535,348', '35,832,513', '36,264,604', '36,708,083']\n",
      "['Newfoundland and Labrador', '527,399', '528,386', '528,815', '530,305', '528,817']\n",
      "['Prince Edward Island', '145,198', '145,915', '146,791', '149,472', '152,021']\n",
      "['Nova Scotia', '943,049', '942,209', '941,545', '948,618', '953,869']\n",
      "['New Brunswick', '755,710', '754,700', '753,944', '757,384', '759,655']\n",
      "['Quebec', '8,151,331', '8,210,533', '8,254,912', '8,321,888', '8,394,034']\n",
      "['Ontario', '13,555,754', '13,680,425', '13,789,597', '13,976,320', '14,193,384']\n",
      "['Manitoba', '1,265,588', '1,280,912', '1,295,422', '1,318,115', '1,338,109']\n",
      "['Saskatchewan', '1,104,825', '1,120,639', '1,131,150', '1,148,588', '1,163,925']\n",
      "['Alberta', '3,997,950', '4,108,416', '4,177,527', '4,236,376', '4,286,134']\n",
      "['British Columbia', '4,590,081', '4,646,462', '4,694,699', '4,757,658', '4,817,160']\n",
      "['Yukon', '36,298', '36,817', '37,289', '38,086', '38,459']\n",
      "['Northwest Territories', '43,773', '43,867', '44,214', '44,617', '44,520']\n",
      "['Nunavut', '35,414', '36,067', '36,608', '37,177', '37,996']\n"
     ]
    }
   ],
   "source": [
    "import csv\n",
    "\n",
    "with open(\"provinces.csv\", \"r\") as infile:\n",
    "    csvfile = csv.reader(infile)\n",
    "    for row in csvfile:   \n",
    "        # row is a list\n",
    "        print(row)"
   ]
  },
  {
   "cell_type": "markdown",
   "metadata": {},
   "source": [
    "#### Example 4\n",
    "Try to print out only the provinces with population > 1  million people in 2015 from the data in **Example 3**.  Hint: You will need to remove the commas from the numbers (eg. 44214 instead of 44,214) using the `replace()` function."
   ]
  },
  {
   "cell_type": "code",
   "execution_count": 26,
   "metadata": {},
   "outputs": [
    {
     "data": {
      "text/plain": [
       "36608"
      ]
     },
     "execution_count": 26,
     "metadata": {},
     "output_type": "execute_result"
    }
   ],
   "source": [
    "int(row[3].replace(\",\",\"\"))"
   ]
  },
  {
   "cell_type": "code",
   "execution_count": 27,
   "metadata": {},
   "outputs": [
    {
     "name": "stdout",
     "output_type": "stream",
     "text": [
      "Quebec 8,254,912\n",
      "Ontario 13,789,597\n",
      "Manitoba 1,295,422\n",
      "Saskatchewan 1,131,150\n",
      "Alberta 4,177,527\n",
      "British Columbia 4,694,699\n"
     ]
    }
   ],
   "source": [
    "with open(\"provinces.csv\", \"r\") as infile:\n",
    "    csvfile = csv.reader(infile)\n",
    "    for row in csvfile:   \n",
    "        # need to remove the commas before feeding to int\n",
    "        if (row[0] != '' and row[0] != 'Canada') and int(row[3].replace(\",\",\"\")) > 1000000:\n",
    "            print(row[0],row[3])\n",
    "            #print(row[0],int(row[3].replace(\",\",\"\")))\n"
   ]
  },
  {
   "cell_type": "markdown",
   "metadata": {},
   "source": [
    "# Handling Exceptions in Python\n",
    "An **exception** is an error situation that must be handled or the program will fail. **Exception handling** is how your program deals with these errors.\n"
   ]
  },
  {
   "cell_type": "code",
   "execution_count": 28,
   "metadata": {},
   "outputs": [
    {
     "ename": "ZeroDivisionError",
     "evalue": "division by zero",
     "output_type": "error",
     "traceback": [
      "\u001b[0;31m---------------------------------------------------------------------------\u001b[0m",
      "\u001b[0;31mZeroDivisionError\u001b[0m                         Traceback (most recent call last)",
      "\u001b[0;32m<ipython-input-28-6096677a725a>\u001b[0m in \u001b[0;36m<module>\u001b[0;34m\u001b[0m\n\u001b[0;32m----> 1\u001b[0;31m \u001b[0;36m10\u001b[0m \u001b[0;34m*\u001b[0m \u001b[0;34m(\u001b[0m\u001b[0;36m1\u001b[0m\u001b[0;34m/\u001b[0m\u001b[0;36m0\u001b[0m\u001b[0;34m)\u001b[0m \u001b[0;31m# ZeroDivisionError: division by zero\u001b[0m\u001b[0;34m\u001b[0m\u001b[0;34m\u001b[0m\u001b[0m\n\u001b[0m",
      "\u001b[0;31mZeroDivisionError\u001b[0m: division by zero"
     ]
    }
   ],
   "source": [
    "10 * (1/0) # ZeroDivisionError: division by zero"
   ]
  },
  {
   "cell_type": "code",
   "execution_count": 2,
   "metadata": {},
   "outputs": [
    {
     "ename": "NameError",
     "evalue": "name 'spam' is not defined",
     "output_type": "error",
     "traceback": [
      "\u001b[0;31m---------------------------------------------------------------------------\u001b[0m",
      "\u001b[0;31mNameError\u001b[0m                                 Traceback (most recent call last)",
      "\u001b[0;32m<ipython-input-2-d9728154e785>\u001b[0m in \u001b[0;36m<module>\u001b[0;34m()\u001b[0m\n\u001b[0;32m----> 1\u001b[0;31m \u001b[0;36m4\u001b[0m \u001b[0;34m+\u001b[0m \u001b[0mspam\u001b[0m\u001b[0;34m*\u001b[0m\u001b[0;36m3\u001b[0m \u001b[0;31m# NameError: name 'spam' is not defined\u001b[0m\u001b[0;34m\u001b[0m\u001b[0m\n\u001b[0m",
      "\u001b[0;31mNameError\u001b[0m: name 'spam' is not defined"
     ]
    }
   ],
   "source": [
    "4 + spam*3 # NameError: name 'spam' is not defined"
   ]
  },
  {
   "cell_type": "code",
   "execution_count": 3,
   "metadata": {},
   "outputs": [
    {
     "ename": "TypeError",
     "evalue": "can only concatenate str (not \"int\") to str",
     "output_type": "error",
     "traceback": [
      "\u001b[0;31m---------------------------------------------------------------------------\u001b[0m",
      "\u001b[0;31mTypeError\u001b[0m                                 Traceback (most recent call last)",
      "\u001b[0;32m<ipython-input-3-fefd1bec1908>\u001b[0m in \u001b[0;36m<module>\u001b[0;34m()\u001b[0m\n\u001b[0;32m----> 1\u001b[0;31m \u001b[0;34m'2'\u001b[0m \u001b[0;34m+\u001b[0m \u001b[0;36m2\u001b[0m \u001b[0;31m# TypeError: Can't convert 'int' object to str implicitly\u001b[0m\u001b[0;34m\u001b[0m\u001b[0m\n\u001b[0m",
      "\u001b[0;31mTypeError\u001b[0m: can only concatenate str (not \"int\") to str"
     ]
    }
   ],
   "source": [
    "'2' + 2 # TypeError: Can't convert 'int' object to str implicitly"
   ]
  },
  {
   "cell_type": "markdown",
   "metadata": {},
   "source": [
    "For example, this could be useful in the context of reading files: If we try to read a file that does not exist, we need not have our entire program fail, and try to catch this exception in the following manner:"
   ]
  },
  {
   "cell_type": "code",
   "execution_count": 4,
   "metadata": {},
   "outputs": [
    {
     "name": "stdout",
     "output_type": "stream",
     "text": [
      "Could not read file: nonexistingfile.txt\n"
     ]
    }
   ],
   "source": [
    "filename = 'nonexistingfile.txt'\n",
    "try:\n",
    "    with open(filename, 'r') as f:\n",
    "        for line in f:\n",
    "            print(line)\n",
    "    \n",
    "except FileNotFoundError:\n",
    "    print(\"Could not read file:\", filename)"
   ]
  },
  {
   "cell_type": "markdown",
   "metadata": {},
   "source": [
    "Note that without the try-except our program would error out:"
   ]
  },
  {
   "cell_type": "code",
   "execution_count": 5,
   "metadata": {},
   "outputs": [
    {
     "ename": "FileNotFoundError",
     "evalue": "[Errno 2] No such file or directory: 'nonexistingfile.txt'",
     "output_type": "error",
     "traceback": [
      "\u001b[0;31m---------------------------------------------------------------------------\u001b[0m",
      "\u001b[0;31mFileNotFoundError\u001b[0m                         Traceback (most recent call last)",
      "\u001b[0;32m<ipython-input-5-f36829d4d153>\u001b[0m in \u001b[0;36m<module>\u001b[0;34m()\u001b[0m\n\u001b[1;32m      1\u001b[0m \u001b[0mfilename\u001b[0m \u001b[0;34m=\u001b[0m \u001b[0;34m'nonexistingfile.txt'\u001b[0m\u001b[0;34m\u001b[0m\u001b[0m\n\u001b[0;32m----> 2\u001b[0;31m \u001b[0;32mwith\u001b[0m \u001b[0mopen\u001b[0m\u001b[0;34m(\u001b[0m\u001b[0mfilename\u001b[0m\u001b[0;34m,\u001b[0m \u001b[0;34m'r'\u001b[0m\u001b[0;34m)\u001b[0m \u001b[0;32mas\u001b[0m \u001b[0mf\u001b[0m\u001b[0;34m:\u001b[0m\u001b[0;34m\u001b[0m\u001b[0m\n\u001b[0m\u001b[1;32m      3\u001b[0m     \u001b[0;32mfor\u001b[0m \u001b[0mline\u001b[0m \u001b[0;32min\u001b[0m \u001b[0mf\u001b[0m\u001b[0;34m:\u001b[0m\u001b[0;34m\u001b[0m\u001b[0m\n\u001b[1;32m      4\u001b[0m         \u001b[0mprint\u001b[0m\u001b[0;34m(\u001b[0m\u001b[0mline\u001b[0m\u001b[0;34m)\u001b[0m\u001b[0;34m\u001b[0m\u001b[0m\n",
      "\u001b[0;31mFileNotFoundError\u001b[0m: [Errno 2] No such file or directory: 'nonexistingfile.txt'"
     ]
    }
   ],
   "source": [
    "filename = 'nonexistingfile.txt'\n",
    "with open(filename, 'r') as f:\n",
    "    for line in f:\n",
    "        print(line)"
   ]
  },
  {
   "cell_type": "code",
   "execution_count": 7,
   "metadata": {},
   "outputs": [
    {
     "name": "stdout",
     "output_type": "stream",
     "text": [
      "Enter a number:5\n",
      "You entered: 5\n",
      "Thank you for the number\n",
      "Always do finally block\n"
     ]
    }
   ],
   "source": [
    " try:\n",
    "    # try block, exit if error\n",
    "    num = int(input(\"Enter a number:\"))\n",
    "    print(\"You entered:\",num)\n",
    "except ValueError:\n",
    "    # only executed if exception\n",
    "    print(\"Error: Invalid number\")\n",
    "else:\n",
    "    # only executed if no exception\n",
    "    print(\"Thank you for the number\")\n",
    "finally:\n",
    "    # always executed\n",
    "    print(\"Always do finally block\")"
   ]
  },
  {
   "cell_type": "markdown",
   "metadata": {},
   "source": [
    "Note that we can always generate an error using the `raise` statement."
   ]
  },
  {
   "cell_type": "code",
   "execution_count": 8,
   "metadata": {},
   "outputs": [],
   "source": [
    "def raiseHell():\n",
    "    try:\n",
    "        raise ValueError\n",
    "    except ValueError:\n",
    "        print(\"You raised Hell!\")"
   ]
  },
  {
   "cell_type": "code",
   "execution_count": 9,
   "metadata": {},
   "outputs": [
    {
     "name": "stdout",
     "output_type": "stream",
     "text": [
      "You raised Hell!\n"
     ]
    }
   ],
   "source": [
    "raiseHell()"
   ]
  },
  {
   "cell_type": "markdown",
   "metadata": {},
   "source": [
    "**Example** Write a Python program that reads two numbers and converts them to integers, prints both numbers, and then divides the first number by the second number and prints the result."
   ]
  },
  {
   "cell_type": "code",
   "execution_count": 31,
   "metadata": {},
   "outputs": [
    {
     "name": "stdout",
     "output_type": "stream",
     "text": [
      "Enter a number:8\n",
      "8\n",
      "Enter a number:0\n",
      "0\n",
      "Cannot divide by 0!\n"
     ]
    }
   ],
   "source": [
    "try:\n",
    "    num1 = int(input(\"Enter a number:\"))\n",
    "    print(num1)\n",
    "    num2 = int(input(\"Enter a number:\"))\n",
    "    print(num2)\n",
    "    print(num1,\"/\",num2,\"=\",(num1/num2))\n",
    "except ValueError:\n",
    "    print(\"Invalid\")\n",
    "except ZeroDivisionError:\n",
    "    print(\"Cannot divide by 0!\")"
   ]
  },
  {
   "cell_type": "markdown",
   "metadata": {},
   "source": [
    "# Reading URLs with Python\n",
    "`urllib` is a package that collects several modules for working with\n",
    "URLs:\n",
    "\n",
    "- `urllib.request` for opening and reading URLs [read more about it here](https://docs.python.org/3/library/urllib.request.html#module-urllib.request)\n",
    "- `urllib.parse` for parsing URLs [read more about it here](https://docs.python.org/3/library/urllib.parse.html#module-urllib.parse)"
   ]
  },
  {
   "cell_type": "code",
   "execution_count": 13,
   "metadata": {},
   "outputs": [
    {
     "name": "stdout",
     "output_type": "stream",
     "text": [
      "<class 'http.client.HTTPResponse'>\n",
      "<class 'bytes'>\n",
      "b'<!doctype html><html itemscope=\"\" itemtype=\"http://schema.org/WebPage\" lang=\"en-CA\"><head><meta content=\"text/html; charset=UTF-8\" http-equiv=\"Content-Type\"><meta content=\"/images/branding/googleg/1x/googleg_standard_color_128dp.png\" itemprop=\"image\"><title>Google</title><script nonce=\"Ud5Xf0FW85LJsQXM1D3tSg==\">(function(){window.google={kEI:\\'5yizXbz7EcXy-gTojKeIBQ\\',kEXPI:\\'0,18167,1335580,5662,731,223,510,1065,3152,377,207,904,113,53,1884,250,10,713,271,67,97,93,24,325,890,11,40,13,66,154,236,25,4,95,1130393,143,1197698,462,302802,26305,1294,12383,4855,32692,15247,864,18547,854,2481,2,2,6801,364,3319,5505,224,2215,5945,1119,2,204,375,727,2431,1362,4323,4968,773,2256,1401,3337,1146,9,1966,6193,1719,1496,312,1978,2042,8911,5295,897,1121,956,873,37,1180,2975,2736,3061,2,631,3240,7446,620,1139,1744,21,317,1119,904,1150,975,1,368,2778,919,992,1285,8,2142,1,653,967,601,25,1279,2212,202,323,5,1252,840,324,193,1263,203,8,48,820,3438,108,152,52,1136,3,2063,606,789,1050,184,544,51,1182,143,377,502,184,1260,245,503,219,210,44,207,1,801,93,328,1284,17,83,336,83,772,985,667,42,2205,428,45,1339,29,702,17,208,831,3094,133,773,908,640,524,7,728,592,523,925,126,1880,825,569,1465,770,1842,3148,1,11,1,24,664,52,937,163,956,532,501,289,293,1041,516,312,214,109,1067,282,995,5,80,690,246,43,558,417,654,50,94,698,1588,206,199,19,711,183,230,552,626,203,685,66,7,340,106,26,51,7,422,290,25,182,24,566,15,72,200,3,278,447,142,218,2,1756,6,182,770,172,770,225,105,348,250,316,5877367,1805894,4194154,419,281,2799592,4,1572,549,333,444,1,2,80,1,900,577,11,308,1,8,1,2,2551,1,748,141,59,736,563,1,4264,1,1,1,1,1,74,2,4,38,19,1,7,1,9,1,2,18905669,3397042,1662865\\',authuser:0,kscs:\\'c9c918f0_5yizXbz7EcXy-gTojKeIBQ\\',kGL:\\'CA\\',kBL:\\'gxf_\\'};google.sn=\\'webhp\\';google.kHL=\\'en-CA\\';google.jsfs=\\'Ffpdje\\';})();(function(){google.lc=[];google.li=0;google.getEI=function(a){for(var b;a&&(!a.getAttribute||!(b=a.getAttribute(\"eid\")));)a=a.parentNode;return b||google.kEI};google.getLEI=function(a){for(var b=null;a&&(!a.getAttribute||!(b=a.getAttribute(\"leid\")));)a=a.parentNode;return b};google.https=function(){return\"https:\"==window.location.protocol};google.ml=function(){return null};google.time=function(){return(new Date).getTime()};google.log=function(a,b,e,c,g){if(a=google.logUrl(a,b,e,c,g)){b=new Image;var d=google.lc,f=google.li;d[f]=b;b.onerror=b.onload=b.onabort=function(){delete d[f]};google.vel&&google.vel.lu&&google.vel.lu(a);b.src=a;google.li=f+1}};google.logUrl=function(a,b,e,c,g){var d=\"\",f=google.ls||\"\";e||-1!=b.search(\"&ei=\")||(d=\"&ei=\"+google.getEI(c),-1==b.search(\"&lei=\")&&(c=google.getLEI(c))&&(d+=\"&lei=\"+c));c=\"\";!e&&google.cshid&&-1==b.search(\"&cshid=\")&&\"slh\"!=a&&(c=\"&cshid=\"+google.cshid);a=e||\"/\"+(g||\"gen_204\")+\"?atyp=i&ct=\"+a+\"&cad=\"+b+d+f+\"&zx=\"+google.time()+c;/^http:/i.test(a)&&google.https()&&(google.ml(Error(\"a\"),!1,{src:a,glmm:1}),a=\"\");return a};}).call(this);(function(){google.y={};google.x=function(a,b){if(a)var c=a.id;else{do c=Math.random();while(google.y[c])}google.y[c]=[a,b];return!1};google.lm=[];google.plm=function(a){google.lm.push.apply(google.lm,a)};google.lq=[];google.load=function(a,b,c){google.lq.push([[a],b,c])};google.loadAll=function(a,b){google.lq.push([a,b])};}).call(this);google.f={};var a=window.location,b=a.href.indexOf(\"#\");if(0<=b){var c=a.href.substring(b+1);/(^|&)q=/.test(c)&&-1==c.indexOf(\"#\")&&a.replace(\"/search?\"+c.replace(/(^|&)fp=[^&]*/g,\"\")+\"&cad=h\")};</script><style>#gbar,#guser{font-size:13px;padding-top:1px !important;}#gbar{height:22px}#guser{padding-bottom:7px !important;text-align:right}.gbh,.gbd{border-top:1px solid #c9d7f1;font-size:1px}.gbh{height:0;position:absolute;top:24px;width:100%}@media all{.gb1{height:22px;margin-right:.5em;vertical-align:top}#gbar{float:left}}a.gb1,a.gb4{text-decoration:underline !important}a.gb1,a.gb4{color:#00c !important}.gbi .gb4{color:#dd8e27 !important}.gbf .gb4{color:#900 !important}\\n</style><style>body,td,a,p,.h{font-family:arial,sans-serif}body{margin:0;overflow-y:scroll}#gog{padding:3px 8px 0}td{line-height:.8em}.gac_m td{line-height:17px}form{margin-bottom:20px}.h{color:#36c}.q{color:#00c}.ts td{padding:0}.ts{border-collapse:collapse}em{font-weight:bold;font-style:normal}.lst{height:25px;width:496px}.gsfi,.lst{font:18px arial,sans-serif}.gsfs{font:17px arial,sans-serif}.ds{display:inline-box;display:inline-block;margin:3px 0 4px;margin-left:4px}input{font-family:inherit}a.gb1,a.gb2,a.gb3,a.gb4{color:#11c !important}body{background:#fff;color:black}a{color:#11c;text-decoration:none}a:hover,a:active{text-decoration:underline}.fl a{color:#36c}a:visited{color:#551a8b}a.gb1,a.gb4{text-decoration:underline}a.gb3:hover{text-decoration:none}#ghead a.gb2:hover{color:#fff !important}.sblc{padding-top:5px}.sblc a{display:block;margin:2px 0;margin-left:13px;font-size:11px}.lsbb{background:#eee;border:solid 1px;border-color:#ccc #999 #999 #ccc;height:30px}.lsbb{display:block}.ftl,#fll a{display:inline-block;margin:0 12px}.lsb{background:url(/images/nav_logo229.png) 0 -261px repeat-x;border:none;color:#000;cursor:pointer;height:30px;margin:0;outline:0;font:15px arial,sans-serif;vertical-align:top}.lsb:active{background:#ccc}.lst:focus{outline:none}</style><script nonce=\"Ud5Xf0FW85LJsQXM1D3tSg==\"></script></head><body bgcolor=\"#fff\"><script nonce=\"Ud5Xf0FW85LJsQXM1D3tSg==\">(function(){var src=\\'/images/nav_logo229.png\\';var iesg=false;document.body.onload = function(){window.n && window.n();if (document.images){new Image().src=src;}\\nif (!iesg){document.f&&document.f.q.focus();document.gbqf&&document.gbqf.q.focus();}\\n}\\n})();</script><div id=\"mngb\"> <div id=gbar><nobr><b class=gb1>Search</b> <a class=gb1 href=\"http://www.google.ca/imghp?hl=en&tab=wi\">Images</a> <a class=gb1 href=\"http://maps.google.ca/maps?hl=en&tab=wl\">Maps</a> <a class=gb1 href=\"https://play.google.com/?hl=en&tab=w8\">Play</a> <a class=gb1 href=\"http://www.youtube.com/?gl=CA&tab=w1\">YouTube</a> <a class=gb1 href=\"http://news.google.ca/nwshp?hl=en&tab=wn\">News</a> <a class=gb1 href=\"https://mail.google.com/mail/?tab=wm\">Gmail</a> <a class=gb1 href=\"https://drive.google.com/?tab=wo\">Drive</a> <a class=gb1 style=\"text-decoration:none\" href=\"https://www.google.ca/intl/en/about/products?tab=wh\"><u>More</u> &raquo;</a></nobr></div><div id=guser width=100%><nobr><span id=gbn class=gbi></span><span id=gbf class=gbf></span><span id=gbe></span><a href=\"http://www.google.ca/history/optout?hl=en\" class=gb4>Web History</a> | <a  href=\"/preferences?hl=en\" class=gb4>Settings</a> | <a target=_top id=gb_70 href=\"https://accounts.google.com/ServiceLogin?hl=en&passive=true&continue=http://www.google.com/\" class=gb4>Sign in</a></nobr></div><div class=gbh style=left:0></div><div class=gbh style=right:0></div> </div><center><br clear=\"all\" id=\"lgpd\"><div id=\"lga\"><img alt=\"Google\" height=\"92\" src=\"/images/branding/googlelogo/1x/googlelogo_white_background_color_272x92dp.png\" style=\"padding:28px 0 14px\" width=\"272\" id=\"hplogo\"><br><br></div><form action=\"/search\" name=\"f\"><table cellpadding=\"0\" cellspacing=\"0\"><tr valign=\"top\"><td width=\"25%\">&nbsp;</td><td align=\"center\" nowrap=\"\"><input name=\"ie\" value=\"ISO-8859-1\" type=\"hidden\"><input value=\"en-CA\" name=\"hl\" type=\"hidden\"><input name=\"source\" type=\"hidden\" value=\"hp\"><input name=\"biw\" type=\"hidden\"><input name=\"bih\" type=\"hidden\"><div class=\"ds\" style=\"height:32px;margin:4px 0\"><input style=\"color:#000;margin:0;padding:5px 8px 0 6px;vertical-align:top\" autocomplete=\"off\" class=\"lst\" value=\"\" title=\"Google Search\" maxlength=\"2048\" name=\"q\" size=\"57\"></div><br style=\"line-height:0\"><span class=\"ds\"><span class=\"lsbb\"><input class=\"lsb\" value=\"Google Search\" name=\"btnG\" type=\"submit\"></span></span><span class=\"ds\"><span class=\"lsbb\"><input class=\"lsb\" id=\"tsuid1\" value=\"I\\'m Feeling Lucky\" name=\"btnI\" type=\"submit\"><script nonce=\"Ud5Xf0FW85LJsQXM1D3tSg==\">(function(){var id=\\'tsuid1\\';document.getElementById(id).onclick = function(){if (this.form.q.value){this.checked = 1;if (this.form.iflsig)this.form.iflsig.disabled = false;}\\nelse top.location=\\'/doodles/\\';};})();</script><input value=\"AAP1E1EAAAAAXbM29_OOrcMfi2Hi36jczsLh_-ecapZM\" name=\"iflsig\" type=\"hidden\"></span></span></td><td class=\"fl sblc\" align=\"left\" nowrap=\"\" width=\"25%\"><a href=\"/advanced_search?hl=en-CA&amp;authuser=0\">Advanced search</a><a href=\"/language_tools?hl=en-CA&amp;authuser=0\">Language tools</a></td></tr></table><input id=\"gbv\" name=\"gbv\" type=\"hidden\" value=\"1\"><script nonce=\"Ud5Xf0FW85LJsQXM1D3tSg==\">(function(){var a,b=\"1\";if(document&&document.getElementById)if(\"undefined\"!=typeof XMLHttpRequest)b=\"2\";else if(\"undefined\"!=typeof ActiveXObject){var c,d,e=[\"MSXML2.XMLHTTP.6.0\",\"MSXML2.XMLHTTP.3.0\",\"MSXML2.XMLHTTP\",\"Microsoft.XMLHTTP\"];for(c=0;d=e[c++];)try{new ActiveXObject(d),b=\"2\"}catch(h){}}a=b;if(\"2\"==a&&-1==location.search.indexOf(\"&gbv=2\")){var f=google.gbvu,g=document.getElementById(\"gbv\");g&&(g.value=a);f&&window.setTimeout(function(){location.href=f},0)};}).call(this);</script></form><div id=\"gac_scont\"></div><div style=\"font-size:83%;min-height:3.5em\"><br><div id=\"gws-output-pages-elements-homepage_additional_languages__als\"><style>#gws-output-pages-elements-homepage_additional_languages__als{font-size:small;margin-bottom:24px}#SIvCob{display:inline-block;line-height:28px;}#SIvCob a{padding:0 3px;}.H6sW5{display:inline-block;margin:0 2px;white-space:nowrap}.z4hgWe{display:inline-block;margin:0 2px}</style><div id=\"SIvCob\">Google offered in:  <a href=\"http://www.google.com/setprefs?sig=0_ytdwYLNCtmcKOG0ovCp59BtlSSA%3D&amp;hl=fr&amp;source=homepage&amp;sa=X&amp;ved=0ahUKEwj8io2X8LflAhVFuZ4KHWjGCVEQ2ZgBCAU\">Fran\\xe7ais</a>  </div></div></div><span id=\"footer\"><div style=\"font-size:10pt\"><div style=\"margin:19px auto;text-align:center\" id=\"fll\"><a href=\"/intl/en/ads/\">Advertising\\xa0Programs</a><a href=\"/services/\">Business Solutions</a><a href=\"/intl/en/about.html\">About Google</a><a href=\"http://www.google.com/setprefdomain?prefdom=CA&amp;prev=http://www.google.ca/&amp;sig=K_aCck5x75ngYAfAM4Yz9eDNEkC4s%3D\">Google.ca</a></div></div><p style=\"color:#767676;font-size:8pt\">&copy; 2019 - <a href=\"/intl/en/policies/privacy/\">Privacy</a> - <a href=\"/intl/en/policies/terms/\">Terms</a></p></span></center><script nonce=\"Ud5Xf0FW85LJsQXM1D3tSg==\">(function(){window.google.cdo={height:0,width:0};(function(){var a=window.innerWidth,b=window.innerHeight;if(!a||!b){var c=window.document,d=\"CSS1Compat\"==c.compatMode?c.documentElement:c.body;a=d.clientWidth;b=d.clientHeight}a&&b&&(a!=google.cdo.width||b!=google.cdo.height)&&google.log(\"\",\"\",\"/client_204?&atyp=i&biw=\"+a+\"&bih=\"+b+\"&ei=\"+google.kEI);}).call(this);})();(function(){var u=\\'/xjs/_/js/k\\\\x3dxjs.hp.en.6FnfsSH3UPc.O/m\\\\x3dsb_he,d/am\\\\x3dwAlsBg/d\\\\x3d1/rs\\\\x3dACT90oEruPI8Yz_sfeNozmTdIWdg1n_C-Q\\';setTimeout(function(){var a=document.createElement(\"script\");a.src=u;google.timers&&google.timers.load&&google.tick&&google.tick(\"load\",\"xjsls\");document.body.appendChild(a)},0);})();(function(){window.google.xjsu=\\'/xjs/_/js/k\\\\x3dxjs.hp.en.6FnfsSH3UPc.O/m\\\\x3dsb_he,d/am\\\\x3dwAlsBg/d\\\\x3d1/rs\\\\x3dACT90oEruPI8Yz_sfeNozmTdIWdg1n_C-Q\\';})();function _DumpException(e){throw e;}\\nfunction _F_installCss(c){}\\n(function(){google.spjs=false;google.snet=true;google.em=[];google.emw=false;})();(function(){var pmc=\\'{\\\\x22d\\\\x22:{},\\\\x22sb_he\\\\x22:{\\\\x22agen\\\\x22:true,\\\\x22cgen\\\\x22:true,\\\\x22client\\\\x22:\\\\x22heirloom-hp\\\\x22,\\\\x22dh\\\\x22:true,\\\\x22dhqt\\\\x22:true,\\\\x22ds\\\\x22:\\\\x22\\\\x22,\\\\x22ffql\\\\x22:\\\\x22en\\\\x22,\\\\x22fl\\\\x22:true,\\\\x22host\\\\x22:\\\\x22google.com\\\\x22,\\\\x22isbh\\\\x22:28,\\\\x22jsonp\\\\x22:true,\\\\x22msgs\\\\x22:{\\\\x22cibl\\\\x22:\\\\x22Clear Search\\\\x22,\\\\x22dym\\\\x22:\\\\x22Did you mean:\\\\x22,\\\\x22lcky\\\\x22:\\\\x22I\\\\\\\\u0026#39;m Feeling Lucky\\\\x22,\\\\x22lml\\\\x22:\\\\x22Learn more\\\\x22,\\\\x22oskt\\\\x22:\\\\x22Input tools\\\\x22,\\\\x22psrc\\\\x22:\\\\x22This search was removed from your \\\\\\\\u003Ca href\\\\x3d\\\\\\\\\\\\x22/history\\\\\\\\\\\\x22\\\\\\\\u003EWeb History\\\\\\\\u003C/a\\\\\\\\u003E\\\\x22,\\\\x22psrl\\\\x22:\\\\x22Remove\\\\x22,\\\\x22sbit\\\\x22:\\\\x22Search by image\\\\x22,\\\\x22srch\\\\x22:\\\\x22Google Search\\\\x22},\\\\x22ovr\\\\x22:{},\\\\x22pq\\\\x22:\\\\x22\\\\x22,\\\\x22refpd\\\\x22:true,\\\\x22rfs\\\\x22:[],\\\\x22sbpl\\\\x22:24,\\\\x22sbpr\\\\x22:24,\\\\x22scd\\\\x22:10,\\\\x22sce\\\\x22:5,\\\\x22stok\\\\x22:\\\\x227MysFeCEqHLuK1cm2fcdSyJA-jE\\\\x22,\\\\x22uhde\\\\x22:false}}\\';google.pmc=JSON.parse(pmc);})();</script>        </body></html>'\n"
     ]
    }
   ],
   "source": [
    "import urllib.request\n",
    "# don't forget the protocol http://\n",
    "loc=\"http://google.com\"\n",
    "site = urllib.request.urlopen(loc)\n",
    "contents = site.read()\n",
    "print(type(site))\n",
    "print(type(contents))\n",
    "print(contents)\n",
    "site.close()"
   ]
  },
  {
   "cell_type": "code",
   "execution_count": 14,
   "metadata": {},
   "outputs": [
    {
     "name": "stdout",
     "output_type": "stream",
     "text": [
      "b'<!DOCTYPE html>\\n<html lang=\"en\">\\n<head>\\n    <meta charset=\"UTF-8\"/>\\n    <meta name=\"viewport\" content=\"width=device-width,initial-scale=1\"/>\\n\\n    \\n\\n\\n<meta property=\"og:image\" content=\"//www.ask.com/logo.png\" />\\n    <meta property=\"og:description\" content=\"Ask.com is the #1 question answering service that delivers the best answers from the web and real people - all in one place.\"/>\\n    <meta property=\"og:title\" content=\"Ask.com - What\\'s Your Question?\"/>\\n    <meta property=\"og:url\" content=\"www.ask.com\"/>\\n    <meta property=\"og:site_name\" content=\"Ask.com\"/>\\n    <meta property=\"fb:page_id\" content=\"123118179545\" />\\n    <meta name=\"twitter:card\" content=\"summary\" />\\n    <meta name=\"twitter:site\" content=\"@askdotcom\" />\\n\\n    <link rel=\"canonical\" href=\"//www.ask.com\"/>\\n\\n\\n<link REL=\"search\" type=\"application/opensearchdescription+xml\" HREF=\"//www.ask.com/ask-search.xml\" title=\"Ask Search\">\\n\\n<title>Ask.com - What\\'s Your Question?</title>\\n\\n\\n\\n<link rel=\"stylesheet\" type=\"text/css\" href=\"/s/0-4-27/site-ask-sites-askus-home-page.css\"/>\\n    <script>\\n        var App = {};\\n    </script>\\n    \\n\\n\\n<script>\\n        var isDataLayerDefined = (typeof dataLayer !== \"undefined\");\\n\\n        var dataObj = {\\n            \"ldid\": \"\",\\n            \"channel\": \"home\",\\n            \"affiliateid\": \"\",\\n            \"sessionid\": \"\",\\n            \"acquisitiondivision\": \"\"\\n        };\\n\\n            \\nif (isDataLayerDefined) {\\n            dataLayer.push(dataObj);\\n        } else {\\n            var dataLayer = [dataObj];\\n        }\\n\\n    </script>\\n\\n    \\n    <noscript><iframe src=\"//www.googletagmanager.com/ns.html?id=GTM-T3KVMC\" height=\"0\" width=\"0\" style=\"display:none;visibility:hidden\"></iframe></noscript>\\n    <script>(function(w,d,s,l,i){w[l]=w[l]||[];w[l].push({\\'gtm.start\\': new Date().getTime(),event:\\'gtm.js\\'});var f=d.getElementsByTagName(s)[0], j=d.createElement(s),dl=l!=\\'dataLayer_temp\\'?\\'&l=\\'+l:\\'\\';j.async=true;j.src=\\'//www.googletagmanager.com/gtm.js?id=\\'+i+dl;f.parentNode.insertBefore(j,f);\\n    })(window,document,\\'script\\',\\'dataLayer\\',\\'GTM-T3KVMC\\');</script>\\n    \\n\\n\\n\\n\\n\\n\\n\\n\\n<script>\\n        !function(f,b,e,v,n,t,s){if(f.fbq)return;n=f.fbq=function(){n.callMethod?\\n                n.callMethod.apply(n,arguments):n.queue.push(arguments)};if(!f._fbq)f._fbq=n;\\n            n.push=n;n.loaded=!0;n.version=\\'2.0\\';n.queue=[];t=b.createElement(e);t.async=!0;\\n            t.src=v;s=b.getElementsByTagName(e)[0];s.parentNode.insertBefore(t,s)}(window,\\n                document,\\'script\\',\\'https://connect.facebook.net/en_US/fbevents.js\\');\\n\\n            \\n\\nfbq(\\'init\\', \\'1236983599798824\\');\\n            \\nfbq(\\'track\\', \\'PageView\\');\\n        fbq(\\'track\\', \\'ViewContent\\');\\n\\n    </script>\\n\\n\\n\\n\\n\\n\\n\\n\\n\\n\\n\\n\\n\\n\\n\\n\\n\\n\\n\\n\\n\\n\\n\\n\\n\\n\\n</head>\\n<body>\\n<div class=\"row\">\\n    <div class=\"col col-12\">\\n        <header class=\"l-header\">\\n            <div class=\"l-header-container\">\\n                \\n\\n<div class=\"PartialLogo js-PartialLogo\">\\n\\n    \\n\\n<div class=\"PartialLogo-image\">\\n            <a class=\"PartialLogo-link\" href=\\'/\\' data-unified=\\'{\"moduleName\":\"logo\",\"resultType\":\"navigation\",\"providerSource\":\"navigation\",\"zoneName\":\"header\",\"moduleInZone\":1,\"resultInModule\":1}\\' data-qo=\\'logo\\'>Ask.com</a></div>\\n    \\n</div>\\n\\n\\n<div class=\"PartialSearchBox  \">\\n    <div class=\"PartialSearchBox-wrapper\">\\n        <div class=\"PartialSearchBox-container\" name=\"searchBoxContainer\" >\\n            <form target=\"_top\" action=\"/web\" method=\"get\" class=\"PartialSearchBox-form js-PartialSearchBox-form\"\\n                  data-unified=\"{&quot;resultType&quot;:&quot;navigation&quot;,&quot;providerSource&quot;:&quot;navigation&quot;,&quot;zoneName&quot;:&quot;header&quot;,&quot;moduleName&quot;:&quot;searchBox&quot;,&quot;moduleInZone&quot;:2,&quot;resultInModule&quot;:1}\">\\n                <input type=\"hidden\" id=\"qsrc\">\\n                <input type=\"hidden\" id=\"origin\" name=\"o\" value=\"0\">\\n                <input type=\"hidden\" id=\"partnerID\" name=\"l\" value=\"dir\">\\n                <input type=\"hidden\" id=\"qo\" name=\"qo\" value=\"serpSearchTopBox\">\\n                <input class=\"PartialSearchBox-input js-PartialSearchBox-input \"\\n                       data-zone=\"header\" validate=\"required\" value=\"\" name=\"q\" autocomplete=\"off\" maxlength=\"2048\"\\n                       placeholder=\"Search...\">\\n            </form>\\n            <button class=\"PartialSearchBox-button js-PartialSearchBox-button\" type=\"submit\">\\n                <div class=\"PartialSearchBox-button-magnifier\">\\n                    <?xml version=\"1.0\" encoding=\"UTF-8\"?>\\n<svg viewBox=\"0 0 25 24\" version=\"1.1\" xml:space=\"preserve\">\\n    <!-- Generator: Sketch 55 (78076) - https://sketchapp.com -->\\n    <title></title>\\n    <g id=\"Page-2\" stroke=#FFFFFF stroke-width=1.75 fill=\"none\" fill-rule=\"evenodd\">\\n        <g id=\"pronto-int-new-magnify-glass\" transform=\"translate(-770.000000, -15.000000)\" fill=#FFFFFF fill-rule=\"nonzero\">\\n            <path d=\"M794.048828,37.0527344 L794.022461,37.0527344 C794.215821,37.2636729 794.3125,37.4921863 794.3125,37.7382812 C794.3125,37.9843762 794.215821,38.2041006 794.022461,38.3974609 C793.829101,38.5908213 793.609376,38.6875 793.363281,38.6875 C793.117186,38.6875 792.897462,38.5908213 792.704102,38.3974609 L787.272461,32.9921875 C786.39355,33.7128942 785.404791,34.2797831 784.306152,34.6928711 C783.207514,35.1059591 782.042975,35.3125 780.8125,35.3125 C777.947251,35.2421871 775.561045,34.2534275 773.653809,32.3461914 C771.746572,30.4389553 770.757813,28.0527487 770.6875,25.1875 C770.757813,22.3222513 771.746572,19.9360447 773.653809,18.0288086 C775.561045,16.1215725 777.947251,15.1328129 780.8125,15.0625 C783.677749,15.1328129 786.063955,16.1215725 787.971191,18.0288086 C789.878428,19.9360447 790.867187,22.3222513 790.9375,25.1875 C790.9375,26.4179749 790.730959,27.582514 790.317871,28.6811523 C789.904783,29.7797906 789.337894,30.7685503 788.617188,31.6474609 L794.048828,37.0527344 Z M784.00293,32.7548828 C784.98731,32.3505839 785.861813,31.7661171 786.626465,31.0014648 C787.391117,30.2368126 787.984373,29.3579151 788.40625,28.3647461 C788.828127,27.3715771 789.039062,26.3125056 789.039062,25.1875 C789.039062,24.0624944 788.828127,23.0034229 788.40625,22.0102539 C787.984373,21.0170849 787.391117,20.1381874 786.626465,19.3735352 C785.861813,18.6088829 784.982915,18.0156271 783.989746,17.59375 C782.996577,17.1718729 781.937506,16.9609375 780.8125,16.9609375 C779.687494,16.9609375 778.628423,17.1718729 777.635254,17.59375 C776.642085,18.0156271 775.763187,18.6088829 774.998535,19.3735352 C774.233883,20.1381874 773.640627,21.0170849 773.21875,22.0102539 C772.796873,23.0034229 772.585938,24.0624944 772.585938,25.1875 C772.585938,26.3125056 772.796873,27.3715771 773.21875,28.3647461 C773.640627,29.3579151 774.233883,30.2368126 774.998535,31.0014648 C775.763187,31.7661171 776.642085,32.3593729 777.635254,32.78125 C778.628423,33.2031271 779.687494,33.4140625 780.8125,33.4140625 C781.937506,33.4140625 783.000972,33.1943381 784.00293,32.7548828 Z\" id=\"\\xee\\x99\\xb0\"></path>\\n        </g>\\n    </g>\\n</svg>\\n</div>\\n            </button>\\n        </div>\\n    </div>\\n</div>\\n\\n<script>\\n    \\'use strict\\';\\n    if (App) {\\n        (function () {\\n            App.events = App.events || [];\\n            App.events.push (\\n                    {\\n                        partial: \"PartialSearchBox\",\\n                        contextSelector: \".PartialSearchBox-wrapper\",\\n                        elementSelector: \".js-PartialSearchBox-form\",\\n                        type: \"submit\",\\n                        handler: function (e) {\\n                            var $searchTextInputBox = $(\".js-PartialSearchBox-input\", this);\\n                            if (!$searchTextInputBox.val()) {\\n                                return false;\\n                            }\\n                        }\\n                    },\\n                    {\\n                        partial: \"PartialSearchBox\",\\n                        contextSelector: \".PartialSearchBox-wrapper\",\\n                        elementSelector: null,\\n                        type: \"ready\",\\n                        handler: function () {\\n                            var searchButton = $(\".js-PartialSearchBox-button\", this),\\n                                    searchForm = $(\".js-PartialSearchBox-form\", this);\\n\\n                            //Attach submit under searchButton click event.\\n                            searchButton.click(function(e) {\\n                                searchForm.submit();\\n                            });\\n\\n                        }\\n                    },\\n                    {\\n                        partial: \"PartialSearchBox\",\\n                        contextSelector: \".PartialSearchBox-wrapper\",\\n                        elementSelector: \".js-PartialSearchBox-top-form\",\\n                        type: \"submit\",\\n                        handler: function (e) {\\n                            var topForm = $(\".js-PartialSearchBox-top-form\"),\\n                                    searchPayload = topForm.data(\"unified\");\\n\\n                            if (!searchPayload) {\\n                                return;\\n                            }\\n                            searchPayload.actionType = \"click\";\\n                            searchPayload.assetType = \"searchBox\";\\n\\n                            topForm.unbind(e);\\n                            e.preventDefault();\\n                            ask.unified.sendAction(searchPayload, function () {\\n                                topForm.submit();\\n                            });\\n                        }\\n                    },\\n                    {\\n                        partial: \"PartialSearchBox\",\\n                        contextSelector: \".PartialSearchBox-wrapper\",\\n                        elementSelector: \".js-PartialSearchBox-top-input\",\\n                        type: \"keydown\",\\n                        handler: function (e) {\\n                            e.stopPropagation();\\n                        }\\n                    },\\n                    //append query in search box\\n                    {\\n                        partial: \"PartialSearchBox\",\\n                        contextSelector: document,\\n                        elementSelector: \"body\",\\n                        type: \"keydown\",\\n                        handler: function (e) {\\n                            var element = document.getElementById(\\'js-PartialSearchBox-top-input\\');\\n                            if (element) {\\n                                if (_searchQuery.isEligibleKey(e)) {\\n                                    if (_searchQuery.isSAClick(elementID, e)) {\\n                                        return;\\n                                    }\\n                                    if (_searchQuery.isDeleteKey(e) || _searchQuery.isBackspaceKey(e)) {\\n                                        //delete & back button click functionality\\n                                        _searchQuery.deleteBackButtonClickEvent(e, element);\\n                                    } else {\\n                                        //appends space after the current query\\n                                        _searchQuery.appendSpaceAfterQuery(element);\\n                                    }\\n\\n                                    //get cursor position\\n                                    _searchQuery.getCursorPosition(element);\\n\\n                                    element.focus();\\n                                }\\n                            }\\n                        }\\n                    }\\n            );\\n        })();\\n    }\\n\\n    var _searchQuery = {\\n        //Keys 0 - 9\\n        isNumberKey: function (target) {\\n            return (target.which >= 48 && target.which <= 57);\\n        },\\n        //Keys a - z\\n        isLetterKey: function (target) {\\n            return (target.which >= 65 && target.which <= 90);\\n        },\\n        //Keys numpad0 - numpad9\\n        isNumPadKey: function (target) {\\n            return (target.which >= 96 && target.which <= 105);\\n        },\\n        // Keys *,+,-,/,decimal point\\n        isMathKey: function (target) {\\n            return (target.which >= 106 && target.which <= 111);\\n        },\\n        //Keys :,=,,,dash,.,/,[,],\\',\\\\\\n        isOperatorKey: function (target) {\\n            return (target.which >= 186 && target.which <= 192) || (target.which >= 219 && target.which <= 222);\\n        },\\n        //Keys Backspace\\n        isBackspaceKey: function (target) {\\n            return (target.which === 8);\\n        },\\n        //Keys delete\\n        isDeleteKey: function (target) {\\n            return (target.which === 46);\\n        },\\n        //SA click events\\n        isSAClick: function (elementID, e) {\\n            return ((e.target.tagName === \"INPUT\" || e.target.tagName === \"TEXTAREA\") && e.target.id !== elementID);\\n        },\\n        //Click event for delete & back button\\n        deleteBackButtonClickEvent: function (e, element) {\\n            e.preventDefault();\\n            element.value = element.value.substring(0, element.value.length - 1);\\n            if (typeof element.selectionStart === \"number\") {\\n                var textLen = element.value.length;\\n                element.setSelectionRange(textLen, textLen);\\n            }\\n            element.focus();\\n        },\\n\\n        //Appends space after query in search box\\n        appendSpaceAfterQuery: function (element) {\\n            element.value = element.value + \" \";\\n            /*Append space to the query once focus is out of text box*/\\n            element.focus();\\n        },\\n\\n        //Gets cursor position inside search box\\n        getCursorPosition: function (element) {\\n            /*get cursor position in input box if browser supports selectionStart */\\n            if (typeof element.selectionStart === \"number\") {\\n                if (element.selectionStart === 0 && element.selectionEnd === element.value.length) {\\n                    element.value = \"\";\\n                    element.focus();\\n                } else {\\n                    if (element.selectionStart === 0 || element.selectionStart >= element.value.length) {\\n                        var len = element.value.length;\\n                        element.setSelectionRange(len, len);\\n                    }\\n                }\\n            } else {\\n                /*get the cursor position in the input box if the browser does not have a support for selectionStart*/\\n                var cursorPos = 0;\\n                if (document.selection) {\\n                    var oSel = document.selection.createRange();\\n                    oSel.moveStart(\"character\", -element.value.length);\\n                    cursorPos = oSel.text.length;\\n                }\\n                if (cursorPos === 0 || cursorPos >= element.value.length) {\\n                    element.value = element.value;\\n                    /*setSelectionRange will not work for IE version < 9*/\\n                }\\n            }\\n        },\\n\\n        //Checks whether pressed key is eligible for the functionality\\n        isEligibleKey: function (e) {\\n            return ((e.which !== 0 && !e.ctrlKey && !e.metaKey && !e.altKey) &&\\n                    (_searchQuery.isNumberKey(e) || _searchQuery.isLetterKey(e) || _searchQuery.isNumPadKey(e) ||\\n                            _searchQuery.isMathKey(e) || _searchQuery.isOperatorKey(e) || (_searchQuery.isBackspaceKey(e) ||\\n                                    _searchQuery.isDeleteKey(e))));\\n        }\\n    };\\n</script>\\n\\n\\n\\n</div>\\n        </header>\\n    </div>\\n</div>\\n\\n<div class=\"row\">\\n    <div class=\"col col-12\">\\n        <main class=\"main\">\\n            \\n<div class=\"row row-nowrap \">\\n                \\n<div class=\"col col-sm-12 col-fix-200 hidden-mm\">\\n                        <aside class=\"l-left content-visible\">\\n                            <div class=\"l-left-container\">\\n                                \\n\\n<nav class=\"PartialCategoryNavigation\">\\n    \\n\\n\\n            <div class=\"PartialCategoryNavigation-body\">\\n    <ul class=\"PartialCategoryNavigation-categories\">\\n        \\n<li class=\"PartialCategoryNavigation-category\">\\n                <div class=\"PartialCategoryNavigation-category-item \">\\n                    \\n\\n<div class=\"PartialCategoryNavigation-category-logo\">\\n                            <svg xmlns=\"http://www.w3.org/2000/svg\" xmlns:xlink=\"http://www.w3.org/1999/xlink\" viewBox=\"0 0 18 16.681\" preserveAspectRatio=\"xMidYMid meet\">\\n    <defs>\\n        <style>\\n            .b-culture {\\n                clip-path: url(#a-culture);\\n            }\\n        </style>\\n        <clipPath id=\"a-culture\">\\n            <rect class=\"svg-a\" width=\"18\" height=\"16.681\" />\\n        </clipPath>\\n    </defs>\\n    <g class=\"b-culture\" transform=\"translate(0 0)\">\\n        <path class=\"svg-c\" d=\"M5.623,13.665a6.469,6.469,0,0,1-1.815-.24l-.015,0a9.381,9.381,0,0,0,.771-2.466c.391-.058.736-.1,1.057-.117.1-.006.2-.01.31-.01a8.288,8.288,0,0,1,1.631.195c.144.03.286.061.371.08l.014,0a3.93,3.93,0,0,0,.634.112c.074,0,.11-.018.11-.055a2.979,2.979,0,0,0-.9-1.435,4.06,4.06,0,0,0-.976-.739,2.551,2.551,0,0,0-1.2-.319,2.393,2.393,0,0,0-.823.152c.017-.324.026-.623.033-.841V7.948l0-.063c0-.047,0-.093,0-.136.064-1.889,0-4.521,0-4.546h0c-.062.025-.628.255-1.451.494-.515.149-1.034.275-1.543.374A14.363,14.363,0,0,1,0,4.313V.66H0C.077.642.768.483,1.741.33,2.353.234,2.958.157,3.54.1,4.272.035,4.973,0,5.623,0S6.97.035,7.694.1C8.272.158,8.868.234,9.467.33c.993.159,1.673.323,1.7.33h0v0c.006.276.061,2.745,0,4.542,0,.06,0,.122-.006.184h0v.033h0a14.758,14.758,0,0,1-.81,4.938,6.53,6.53,0,0,1-.669,1.27,4.789,4.789,0,0,1-.972,1.052,4.362,4.362,0,0,1-1.334.716A5.56,5.56,0,0,1,5.623,13.665ZM7.533,3.977h0a.055.055,0,0,0-.028.007.872.872,0,0,0-.254.3,2.457,2.457,0,0,0-.233.554,1.769,1.769,0,0,0,.088,1.334,1.564,1.564,0,0,0,.785.636,2.513,2.513,0,0,0,.915.183.892.892,0,0,0,.4-.069c.044-.025.046-.111.008-.255a7.773,7.773,0,0,0-.8-1.616C8.1,4.532,7.7,3.977,7.534,3.977Z\" transform=\"translate(6.803)\"/>\\n        <path class=\"svg-c\" d=\"M5.623,13.005A4.823,4.823,0,0,1,.757,9.9,14.625,14.625,0,0,1,0,4.546V0A17.315,17.315,0,0,0,5.623,1.131,16.583,16.583,0,0,0,11.169,0a.159.159,0,0,1,0,.018V.085c.035,1.79.034,3.374,0,4.46l0,.081c0,.019,0,.039,0,.059s0,.044,0,.067v.014A14.751,14.751,0,0,1,10.351,9.7,4.766,4.766,0,0,1,5.623,13.005ZM2.73,8.011c-.121,0-.179.024-.179.074a3.767,3.767,0,0,0,3.071,2.492A3.767,3.767,0,0,0,8.692,8.085c0-.037-.036-.055-.111-.055a3.976,3.976,0,0,0-.639.113c-.117.026-.244.054-.379.082a8.222,8.222,0,0,1-1.633.2c-.105,0-.209,0-.309-.01a17.777,17.777,0,0,1-1.955-.267A6.928,6.928,0,0,0,2.73,8.011Zm5.112-3.77a2.015,2.015,0,0,0-1.7,1.439c0,.177.882.257,1.7.257s1.7-.081,1.7-.257A2.016,2.016,0,0,0,7.842,4.241Zm-4.535,0a2.015,2.015,0,0,0-1.7,1.439c0,.177.881.257,1.7.257s1.7-.081,1.7-.257A2.016,2.016,0,0,0,3.307,4.241Z\" transform=\"translate(0 3.675)\"/>\\n    </g>\\n</svg>\\n\\n</div>\\n                    \\n<a href=\\'/culture\\' data-unified=\\'{\"moduleName\":\"taxonomyLeft\",\"providerSource\":\"taxonomy\",\"resultType\":\"taxonomy\",\"zoneName\":\"left\",\"moduleInZone\":1,\"resultInModule\":1}\\' data-qo=\\'homePageTaxonomyLeft\\'>\\n                        Culture\\n</a>\\n                </div>\\n                <ul class=\"PartialCategoryNavigation-subcategories\">\\n                    \\n</ul>\\n            </li>\\n        \\n<li class=\"PartialCategoryNavigation-category\">\\n                <div class=\"PartialCategoryNavigation-category-item \">\\n                    \\n\\n<div class=\"PartialCategoryNavigation-category-logo\">\\n                            <svg xmlns=\"http://www.w3.org/2000/svg\" xmlns:xlink=\"http://www.w3.org/1999/xlink\" viewBox=\"0 0 21.082 18\" preserveAspectRatio=\"xMidYMid meet\">\\n    <defs>\\n        <style>\\n            .b-travel {\\n                clip-path: url(#a-travel);\\n            }\\n        </style>\\n        <clipPath id=\"a-travel\">\\n            <rect class=\"svg-a\" width=\"21.082\" height=\"18\"/>\\n        </clipPath>\\n    </defs>\\n    <g class=\"b-travel\" transform=\"translate(0 0)\">\\n        <path class=\"svg-c\" d=\"M9.985,12.9H1.667v-1.66H7.493L6.016,5.708l.723-.194,1.529,5.728h.814L12.42,7.891l1.173,1.178L10.361,12.7l-.342.19V12.9H10l-.009.005ZM.159,6.863c-.078,0-.124-.015-.133-.048a6.3,6.3,0,0,1,.82-3.553A6.54,6.54,0,0,1,4.8.315C6.387-.111,8.6-.234,10.05.786A9.684,9.684,0,0,1,12.573,3.44c.074.276-2.988.8-6.165,1.658C3.58,5.859.794,6.863.159,6.863Z\" transform=\"translate(7.489 5.093)\"/>\\n        <path class=\"svg-c\" d=\"M3.329,8.294h0l-.377-1.3-1.231.6.191-1.344L.544,6.289l.727-1.15L0,4.631l1.136-.758L.184,2.9l1.349-.235L1.064,1.387l1.329.329L2.488.362,3.566,1.2,4.209,0l.642,1.2L5.93.362l.095,1.354,1.329-.329L6.885,2.662,8.234,2.9l-.952.976,1.136.758-1.27.508.727,1.15L6.505,6.241,6.7,7.585l-1.231-.6-.377,1.3-.88-1.04-.88,1.04ZM4.195,1.8a2.531,2.531,0,0,0-.494.049,2.472,2.472,0,0,0-.877.36,2.458,2.458,0,0,0-.363.292,2.423,2.423,0,0,0-.3.354,2.374,2.374,0,0,0-.226.406,2.341,2.341,0,0,0,0,1.862,2.374,2.374,0,0,0,.226.406,2.423,2.423,0,0,0,.3.354,2.461,2.461,0,0,0,.78.513,2.485,2.485,0,0,0,.46.139,2.538,2.538,0,0,0,.988,0,2.472,2.472,0,0,0,.877-.36,2.458,2.458,0,0,0,.363-.292,2.423,2.423,0,0,0,.3-.354,2.374,2.374,0,0,0,.226-.406,2.341,2.341,0,0,0,0-1.862,2.374,2.374,0,0,0-.226-.406,2.423,2.423,0,0,0-.3-.354,2.461,2.461,0,0,0-.78-.513,2.485,2.485,0,0,0-.46-.139A2.531,2.531,0,0,0,4.195,1.8Z\" transform=\"translate(0)\"/>\\n    </g>\\n</svg>\\n\\n</div>\\n                    \\n<a href=\\'/travel\\' data-unified=\\'{\"moduleName\":\"taxonomyLeft\",\"providerSource\":\"taxonomy\",\"resultType\":\"taxonomy\",\"zoneName\":\"left\",\"moduleInZone\":1,\"resultInModule\":2}\\' data-qo=\\'homePageTaxonomyLeft\\'>\\n                        Travel\\n</a>\\n                </div>\\n                <ul class=\"PartialCategoryNavigation-subcategories\">\\n                    \\n</ul>\\n            </li>\\n        \\n<li class=\"PartialCategoryNavigation-category\">\\n                <div class=\"PartialCategoryNavigation-category-item \">\\n                    \\n\\n<div class=\"PartialCategoryNavigation-category-logo\">\\n                            <svg xmlns=\"http://www.w3.org/2000/svg\" xmlns:xlink=\"http://www.w3.org/1999/xlink\" width=\"18\" height=\"15\" viewBox=\"0 0 18 15\">\\n    <defs>\\n        <style>\\n            .b-entertainment {\\n                clip-path:url(#a-entertainment);\\n            }\\n        </style>\\n        <clipPath id=\"a-entertainment\">\\n            <rect class=\"svg-a\" width=\"18\" height=\"15\"/>\\n        </clipPath>\\n    </defs>\\n    <g class=\"b-entertainment\">\\n        <path class=\"svg-c\" d=\"M14.543,15H3.743a.938.938,0,0,1,0-1.875h4.5v-.937H1.35A1.381,1.381,0,0,1,0,10.781V1.406A1.38,1.38,0,0,1,1.35,0h15.3A1.381,1.381,0,0,1,18,1.406v9.375a1.381,1.381,0,0,1-1.351,1.407H10.043v.937h4.5a.938.938,0,0,1,0,1.875ZM1.8,1.875v8.438H16.2V1.875Z\"/>\\n    </g>\\n</svg>\\n\\n</div>\\n                    \\n<a href=\\'/entertainment\\' data-unified=\\'{\"moduleName\":\"taxonomyLeft\",\"providerSource\":\"taxonomy\",\"resultType\":\"taxonomy\",\"zoneName\":\"left\",\"moduleInZone\":1,\"resultInModule\":3}\\' data-qo=\\'homePageTaxonomyLeft\\'>\\n                        Entertainment\\n</a>\\n                </div>\\n                <ul class=\"PartialCategoryNavigation-subcategories\">\\n                    \\n<li class=\"PartialCategoryNavigation-subcategory\">\\n                            <div class=\"PartialCategoryNavigation-subcategory-item \">\\n                                \\n\\n<a href=\\'/entertainment/music\\' data-unified=\\'{\"moduleName\":\"taxonomyLeft\",\"providerSource\":\"taxonomy\",\"resultType\":\"taxonomy\",\"zoneName\":\"left\",\"moduleInZone\":1,\"resultInModule\":4}\\' data-qo=\\'homePageTaxonomyLeft\\'>\\n                                    Music\\n</a>\\n                            </div>\\n                        </li>\\n                    \\n<li class=\"PartialCategoryNavigation-subcategory\">\\n                            <div class=\"PartialCategoryNavigation-subcategory-item \">\\n                                \\n\\n<a href=\\'/entertainment/movies\\' data-unified=\\'{\"moduleName\":\"taxonomyLeft\",\"providerSource\":\"taxonomy\",\"resultType\":\"taxonomy\",\"zoneName\":\"left\",\"moduleInZone\":1,\"resultInModule\":5}\\' data-qo=\\'homePageTaxonomyLeft\\'>\\n                                    Movies\\n</a>\\n                            </div>\\n                        </li>\\n                    \\n<li class=\"PartialCategoryNavigation-subcategory\">\\n                            <div class=\"PartialCategoryNavigation-subcategory-item \">\\n                                \\n\\n<a href=\\'/entertainment/tv\\' data-unified=\\'{\"moduleName\":\"taxonomyLeft\",\"providerSource\":\"taxonomy\",\"resultType\":\"taxonomy\",\"zoneName\":\"left\",\"moduleInZone\":1,\"resultInModule\":6}\\' data-qo=\\'homePageTaxonomyLeft\\'>\\n                                    TV\\n</a>\\n                            </div>\\n                        </li>\\n                    \\n<li class=\"PartialCategoryNavigation-subcategory\">\\n                            <div class=\"PartialCategoryNavigation-subcategory-item \">\\n                                \\n\\n<a href=\\'/entertainment/celebrities\\' data-unified=\\'{\"moduleName\":\"taxonomyLeft\",\"providerSource\":\"taxonomy\",\"resultType\":\"taxonomy\",\"zoneName\":\"left\",\"moduleInZone\":1,\"resultInModule\":7}\\' data-qo=\\'homePageTaxonomyLeft\\'>\\n                                    Celebrities\\n</a>\\n                            </div>\\n                        </li>\\n                    \\n</ul>\\n            </li>\\n        \\n</ul>\\n</div>\\n\\n\\n\\n</nav>\\n\\n\\n\\n\\n\\n\\n</div>\\n                        </aside>\\n                    </div>\\n                \\n<div class=\"col col-fill\">\\n                    <section class=\"l-mid content-visible expand\">\\n                        <div class=\"l-mid-container\">\\n                            \\n\\n\\n\\n<div class=\"PartialCategoryArticleTiles\">    \\n    <div class=\"PartialCategoryArticleTiles-hero-categories \">\\n    \\n\\n<div>\\n            \\n<a href=\\'/slideshow/game-changing-women-sports\\' data-unified=\\'{\"resultType\":\"content\",\"providerSource\":\"content\",\"slug\":\"game-changing-women-sports\",\"zoneName\":\"center\",\"moduleInZone\":1,\"resultInModule\":1}\\' data-qo=\\'articleNav\\' class=\"PartialCategoryArticleTiles-hero-tile\">\\n            \\n<img src=\"https://images.ask.com/amg-cms-images/media/8ctkjwczixfz0phibep3j4hhfulmjvk4cgykeh8vdlarqg6akhvcdff5-hujjb3ceqt13qtf-amjm2ttwsommqpj2nitcy8kzsq-r2f48-hkia8jiqiovlful2yahncsc8s7nq0xiaidlxrj2w.jpeg?width=380&height=210&fit=crop\" alt=\"8ctkjwczixfz0phibep3j4hhfulmjvk4cgykeh8vdlarqg6akhvcdff5 Hujjb3ceqt13qtf Amjm2ttwsommqpj2nitcy8kzsq R2f48 Hkia8jiqiovlful2yahncsc8s7nq0xiaidlxrj2w\"/>\\n                    <div class=\"PartialCategoryArticleTiles-hero-category\">Culture</div>\\n                    <div class=\"PartialCategoryArticleTiles-hero-title\">Game-Changing Women in Sports</div>\\n            \\n</a>\\n            \\n</div>\\n    \\n\\n<div>\\n            \\n<a href=\\'/slideshow/unique-hotels\\' data-unified=\\'{\"resultType\":\"content\",\"providerSource\":\"content\",\"slug\":\"unique-hotels\",\"zoneName\":\"center\",\"moduleInZone\":1,\"resultInModule\":2}\\' data-qo=\\'articleNav\\' class=\"PartialCategoryArticleTiles-hero-tile\">\\n            \\n<img src=\"https://images.ask.com/amg-cms-images/media/x0j08ua1-ucnqfzd7ormy6twbuotwp3-nntgwojb7s74vwe6ghbnxb6iaijwqhyeqwblxiwef-lh7kv-fvpc3rbfn9wq1z4aavatfjs2zu0son-joasn7dxzhjxc-u5tfm88coieo0pgbk9t2w.jpeg?width=380&height=210&fit=crop\" alt=\"X0j08ua1 Ucnqfzd7ormy6twbuotwp3 Nntgwojb7s74vwe6ghbnxb6iaijwqhyeqwblxiwef Lh7kv Fvpc3rbfn9wq1z4aavatfjs2zu0son Joasn7dxzhjxc U5tfm88coieo0pgbk9t2w\"/>\\n                    <div class=\"PartialCategoryArticleTiles-hero-category\">Travel</div>\\n                    <div class=\"PartialCategoryArticleTiles-hero-title\">These Are the World\\xe2\\x80\\x99s Most Unique Hotels</div>\\n            \\n</a>\\n            \\n</div>\\n    \\n</div>\\n\\n    <div class=\"PartialCategoryArticleTiles-categories\">\\n    \\n\\n<div>\\n            \\n<a href=\\'/slideshow/iconic-stars-awesome-twins\\' data-unified=\\'{\"resultType\":\"content\",\"providerSource\":\"content\",\"slug\":\"iconic-stars-awesome-twins\",\"zoneName\":\"center\",\"moduleInZone\":1,\"resultInModule\":3}\\' data-qo=\\'articleNav\\' class=\"PartialCategoryArticleTiles-tile\">\\n            \\n<img src=\"https://images.ask.com/amg-cms-images/media/yp66z3qhtulfzdo3q-5jcoriu72zsjm0ho9sk2fnfpelhrqjsop91twxqtzsagk-r-buhr7xqkpvcbxqhzupfzr5cjmbrql-haifxr-r3ctznhwyunb5lt6sgnqwpllp3uu60bd-8e0-zryzbw.jpeg?width=240&height=165&fit=crop\" alt=\"Yp66z3qhtulfzdo3q 5jcoriu72zsjm0ho9sk2fnfpelhrqjsop91twxqtzsagk R Buhr7xqkpvcbxqhzupfzr5cjmbrql Haifxr R3ctznhwyunb5lt6sgnqwpllp3uu60bd 8e0 Zryzbw\"/>\\n                    <div class=\"PartialCategoryArticleTiles-category\">Celebrities</div>\\n                    <div class=\"PartialCategoryArticleTiles-title\">29 Iconic Celebrities You Never Knew Had A Twin</div>\\n            \\n</a>\\n            \\n</div>\\n    \\n\\n<div>\\n            \\n<a href=\\'/slideshow/most-iconic-music-videos-of-all-time\\' data-unified=\\'{\"resultType\":\"content\",\"providerSource\":\"content\",\"slug\":\"most-iconic-music-videos-of-all-time\",\"zoneName\":\"center\",\"moduleInZone\":1,\"resultInModule\":4}\\' data-qo=\\'articleNav\\' class=\"PartialCategoryArticleTiles-tile\">\\n            \\n<img src=\"https://images.ask.com/amg-cms-images/media/je565orwf7omqviroquv7kohexc6ppxxxnwk34fxjgxlgrafqqsgzirvdrr9b0wi-jvtuvps-n-67qnsykf0slxplwx9tl7-alxjg3ncynxaerapgevge0-pfdzodchdsusqolafw-dcdrfumg.png?width=240&height=165&fit=crop\" alt=\"Je565orwf7omqviroquv7kohexc6ppxxxnwk34fxjgxlgrafqqsgzirvdrr9b0wi Jvtuvps N 67qnsykf0slxplwx9tl7 Alxjg3ncynxaerapgevge0 Pfdzodchdsusqolafw Dcdrfumg\"/>\\n                    <div class=\"PartialCategoryArticleTiles-category\">Music</div>\\n                    <div class=\"PartialCategoryArticleTiles-title\">The Most Iconic Music Videos of All Time</div>\\n            \\n</a>\\n            \\n</div>\\n    \\n\\n<div>\\n            \\n<a href=\\'/slideshow/greatest-singers-all-time\\' data-unified=\\'{\"resultType\":\"content\",\"providerSource\":\"content\",\"slug\":\"greatest-singers-all-time\",\"zoneName\":\"center\",\"moduleInZone\":1,\"resultInModule\":5}\\' data-qo=\\'articleNav\\' class=\"PartialCategoryArticleTiles-tile\">\\n            \\n<img src=\"https://images.ask.com/amg-cms-images/media/0ee828fd9ae5b20420bfa570ff4e7e31.png?width=240&height=165&fit=crop\" alt=\"0ee828fd9ae5b20420bfa570ff4e7e31\"/>\\n                    <div class=\"PartialCategoryArticleTiles-category\">Music</div>\\n                    <div class=\"PartialCategoryArticleTiles-title\">The Greatest Singers of All Time, Ranked</div>\\n            \\n</a>\\n            \\n</div>\\n    \\n\\n<div>\\n            \\n<a href=\\'/slideshow/worst-movie-remakes\\' data-unified=\\'{\"resultType\":\"content\",\"providerSource\":\"content\",\"slug\":\"worst-movie-remakes\",\"zoneName\":\"center\",\"moduleInZone\":1,\"resultInModule\":6}\\' data-qo=\\'articleNav\\' class=\"PartialCategoryArticleTiles-tile\">\\n            \\n<img src=\"https://images.ask.com/amg-cms-images/media/f6a10f3cad65b2d121c11e2a4b0862d9.jpg?width=240&height=165&fit=crop\" alt=\"MV5BMjEyMDk4MDAwOF5BMl5BanBnXkFtZTcwOTU4MTM3Mg@@. V1 \"/>\\n                    <div class=\"PartialCategoryArticleTiles-category\">Movies</div>\\n                    <div class=\"PartialCategoryArticleTiles-title\">The Worst Movie Remakes, Ranked</div>\\n            \\n</a>\\n            \\n</div>\\n    \\n\\n<div>\\n            \\n<a href=\\'/slideshow/historic-moments-defined-1960s\\' data-unified=\\'{\"resultType\":\"content\",\"providerSource\":\"content\",\"slug\":\"historic-moments-defined-1960s\",\"zoneName\":\"center\",\"moduleInZone\":1,\"resultInModule\":7}\\' data-qo=\\'articleNav\\' class=\"PartialCategoryArticleTiles-tile\">\\n            \\n<img src=\"https://images.ask.com/amg-cms-images/media/23a20fcd3a7d806264b259d0c8b30adc.png?width=240&height=165&fit=crop\" alt=\"23a20fcd3a7d806264b259d0c8b30adc\"/>\\n                    <div class=\"PartialCategoryArticleTiles-category\">Culture</div>\\n                    <div class=\"PartialCategoryArticleTiles-title\">These Historic Moments Defined the 1960s</div>\\n            \\n</a>\\n            \\n</div>\\n    \\n\\n<div>\\n            \\n<a href=\\'/slideshow/innovative-tv-decade\\' data-unified=\\'{\"resultType\":\"content\",\"providerSource\":\"content\",\"slug\":\"innovative-tv-decade\",\"zoneName\":\"center\",\"moduleInZone\":1,\"resultInModule\":8}\\' data-qo=\\'articleNav\\' class=\"PartialCategoryArticleTiles-tile\">\\n            \\n<img src=\"https://images.ask.com/amg-cms-images/media/c7a2b4a54b190f73977396389e413b13.jpeg?width=240&height=165&fit=crop\" alt=\"C7a2b4a54b190f73977396389e413b13\"/>\\n                    <div class=\"PartialCategoryArticleTiles-category\">TV</div>\\n                    <div class=\"PartialCategoryArticleTiles-title\">30 Innovative TV Shows That Shaped the Last Decade</div>\\n            \\n</a>\\n            \\n</div>\\n    \\n\\n<div>\\n            \\n<a href=\\'/slideshow/biggest-cultural-trends-2000s\\' data-unified=\\'{\"resultType\":\"content\",\"providerSource\":\"content\",\"slug\":\"biggest-cultural-trends-2000s\",\"zoneName\":\"center\",\"moduleInZone\":1,\"resultInModule\":9}\\' data-qo=\\'articleNav\\' class=\"PartialCategoryArticleTiles-tile\">\\n            \\n<img src=\"https://images.ask.com/amg-cms-images/media/382e20b5859e740cb1c46f8f5b0d9710.png?width=240&height=165&fit=crop\" alt=\"382e20b5859e740cb1c46f8f5b0d9710\"/>\\n                    <div class=\"PartialCategoryArticleTiles-category\">Culture</div>\\n                    <div class=\"PartialCategoryArticleTiles-title\">These Were The Biggest Cultural Trends of the 2000s</div>\\n            \\n</a>\\n            \\n</div>\\n    \\n\\n<div>\\n            \\n<a href=\\'/slideshow/stars-and-their-cars\\' data-unified=\\'{\"resultType\":\"content\",\"providerSource\":\"content\",\"slug\":\"stars-and-their-cars\",\"zoneName\":\"center\",\"moduleInZone\":1,\"resultInModule\":10}\\' data-qo=\\'articleNav\\' class=\"PartialCategoryArticleTiles-tile\">\\n            \\n<img src=\"https://images.ask.com/amg-cms-images/media/8fbcda5967b27e903c9b7f395ae18062.jpeg?width=240&height=165&fit=crop\" alt=\"8fbcda5967b27e903c9b7f395ae18062\"/>\\n                    <div class=\"PartialCategoryArticleTiles-category\">Celebrities</div>\\n                    <div class=\"PartialCategoryArticleTiles-title\">Stars and Their Cars - 30 Vintage and Classic Cars Owned by Pop Culture Icons</div>\\n            \\n</a>\\n            \\n</div>\\n    \\n\\n<div>\\n            \\n<a href=\\'/slideshow/greatest-guitarists-of-all-time\\' data-unified=\\'{\"resultType\":\"content\",\"providerSource\":\"content\",\"slug\":\"greatest-guitarists-of-all-time\",\"zoneName\":\"center\",\"moduleInZone\":1,\"resultInModule\":11}\\' data-qo=\\'articleNav\\' class=\"PartialCategoryArticleTiles-tile\">\\n            \\n<img src=\"https://images.ask.com/amg-cms-images/media/f1480a8f545d7f0c3a741bdbd823f3fc.jpeg?width=240&height=165&fit=crop\" alt=\"F1480a8f545d7f0c3a741bdbd823f3fc\"/>\\n                    <div class=\"PartialCategoryArticleTiles-category\">Music</div>\\n                    <div class=\"PartialCategoryArticleTiles-title\">The Greatest Guitarists of All Time, Ranked</div>\\n            \\n</a>\\n            \\n</div>\\n    \\n</div>\\n\\n    \\n<div class=\"PartialCategoryArticleTiles-load-more-div\">\\n            <button class=\"PartialCategoryArticleTiles-load-more\">View More</button>\\n        </div>\\n    \\n</div>\\n\\n<script>\\n    (function () {\\n        if (App) {\\n            App.events = App.events || [];\\n            App.events.push(\\n                {\\n                    partial: \"PartialCategoryArticleTiles\",\\n                    contextSelector: \".PartialCategoryArticleTiles\",\\n                    elementSelector: \".PartialCategoryArticleTiles-load-more\",\\n                    type: \"click\",\\n                    handler: function (evt) {\\n                        \\n                        var totalLength = parseInt(\"21\"),\\n                            fragOffset =  $(\".PartialCategoryArticleTiles-categories > div\").length,\\n                            currentHref = (\"\" + window.location.href).replace(/\\\\?.*?$/, \"\").replace(/\\\\/$/, \"\"),\\n                            slashCount = (currentHref.match(/\\\\//g) || []).length,\\n                            fragmentUrl = currentHref + \"/fragment?section=main&partial=./node_modules/ask-archie-shared/components/partials/partial-category-article-tiles&offset=\" + fragOffset;\\n\\n                        App[\"PartialCategoryArticleTilesFragOffset\"] = fragOffset;\\n\\n                        \\n                        if (!currentHref) {\\n                            return;\\n                        }\\n                        $.get(fragmentUrl).then(\\n                            function (html) {\\n                                if (html) {\\n                                    $(\".PartialCategoryArticleTiles-categories > div:last\").after(html);\\n                                    \\n                                    if ($(\"html\").hasClass(\"ie8\")) {\\n                                        $(\".main\").addClass(\"forceRefresh\").removeClass(\"forceRefresh\");\\n                                    }\\n                                    var $item = $(\".PartialCategoryArticleTiles-categories > div\");\\n                                    if ($item.length >= totalLength) {\\n                                        $(\".PartialCategoryArticleTiles-load-more\").remove();\\n                                    }\\n                                } else {\\n                                    $(\".PartialCategoryArticleTiles-load-more\").remove();\\n                                }\\n\\n                                var morePayLoad = $(\"#PartialCategoryArticleTiles-categories a\").attr(\\'data-unified\\') || {};\\n\\n                                morePayLoad.actionType = \"click\";\\n                                morePayLoad.assetType = \"viewmore\";\\n                                if (ask && ask.unified !== undefined) {\\n                                    ask.unified.sendAction(morePayLoad);\\n                                }\\n\\n                                \\n                                $(document).trigger(\"pageChange\");\\n                            }\\n                        );\\n                    }\\n                }\\n            );\\n        }\\n    })();\\n</script>\\n\\n\\n</div>\\n                    </section>\\n                </div>\\n            </div>\\n        </main>\\n    </div>\\n</div>\\n\\n<div class=\"row\">\\n    <div class=\"col col-12\">\\n        <footer class=\"l-footer content-visible\">\\n            <div class=\"l-footer-container\">\\n                \\n\\n<div class=\"PartialFooter-body\">\\n    <ul class=\"PartialFooter-list\">\\n        \\n\\n<li class=\"PartialFooter-item\">\\n                \\n<a class=\"PartialFooter-item-link\"  href=\\'/about\\' data-unified=\\'{\"moduleName\":\"navBottom\",\"providerSource\":\"navigation\",\"resultType\":\"navigation\",\"zone\":\"footer\",\"moduleInZone\":1,\"resultInModule\":1}\\' data-qo=\\'footerLinks\\'>About</a>\\n                \\n</li>\\n        \\n<li class=\"PartialFooter-item\">\\n                \\n<a class=\"PartialFooter-item-link\"  href=\\'/privacy\\' data-unified=\\'{\"moduleName\":\"navBottom\",\"providerSource\":\"navigation\",\"resultType\":\"navigation\",\"zone\":\"footer\",\"moduleInZone\":1,\"resultInModule\":1}\\' data-qo=\\'footerLinks\\'>Privacy</a>\\n                \\n</li>\\n        \\n<li class=\"PartialFooter-item\">\\n                \\n<a class=\"PartialFooter-item-link\"  href=\\'/terms\\' data-unified=\\'{\"moduleName\":\"navBottom\",\"providerSource\":\"navigation\",\"resultType\":\"navigation\",\"zone\":\"footer\",\"moduleInZone\":1,\"resultInModule\":1}\\' data-qo=\\'footerLinks\\'>Terms</a>\\n                \\n</li>\\n        \\n<li class=\"PartialFooter-item\">\\n                \\n<a class=\"PartialFooter-item-link\"  href=\\'/cookies\\' data-unified=\\'{\"moduleName\":\"navBottom\",\"providerSource\":\"navigation\",\"resultType\":\"navigation\",\"zone\":\"footer\",\"moduleInZone\":1,\"resultInModule\":1}\\' data-qo=\\'footerLinks\\'>Cookie Policy</a>\\n                \\n</li>\\n        \\n<li class=\"PartialFooter-item\">\\n                \\n<a class=\"PartialFooter-item-link\" target=_blank href=\\'https://www.askmediagroup.com/careers/\\' data-unified=\\'{\"moduleName\":\"navBottom\",\"providerSource\":\"navigation\",\"resultType\":\"navigation\",\"zone\":\"footer\",\"moduleInZone\":1,\"resultInModule\":1}\\' data-qo=\\'footerLinks\\'>Careers</a>\\n                \\n</li>\\n        \\n<li class=\"PartialFooter-item\">\\n                \\n<a class=\"PartialFooter-item-link\" target=_blank href=\\'https://help.askmediagroup.com/hc/en-us\\' data-unified=\\'{\"moduleName\":\"navBottom\",\"providerSource\":\"navigation\",\"resultType\":\"navigation\",\"zone\":\"footer\",\"moduleInZone\":1,\"resultInModule\":1}\\' data-qo=\\'footerLinks\\'>Help</a>\\n                \\n</li>\\n        \\n<li class=\"PartialFooter-item\">\\n                \\n<a class=\"PartialFooter-item-link\" target=_blank href=\\'https://help.askmediagroup.com/hc/en-us\\' data-unified=\\'{\"moduleName\":\"navBottom\",\"providerSource\":\"navigation\",\"resultType\":\"navigation\",\"zone\":\"footer\",\"moduleInZone\":1,\"resultInModule\":1}\\' data-qo=\\'footerLinks\\'>Feedback</a>\\n                \\n</li>\\n        \\n<li class=\"PartialFooter-item\">\\n            <span class=\"PartialFooter-item-label copyright\">\\xc2\\xa9 2019 Ask Media Group, LLC</span>\\n        </li>\\n    </ul>\\n</div>\\n\\n\\n</div>\\n        </footer>\\n    </div>\\n</div>\\n<script src=\"/s/0-4-27/site-ask-sites.min.js\"></script>\\n<script>\\n    $(document).ready(function ($) {\\n        var i, k, event, readyElementList;\\n        if (typeof App.events === \"object\" && App.events.length) {\\n            for (i = 0, k = App.events.length; i < k; i += 1) {\\n                event = App.events[i];\\n                if (event.type === \"ready\") {\\n                    try {\\n                        readyElementList = (event.elementSelector) ?\\n                                $(event.elementSelector, event.contextSelector) :\\n                                $(event.contextSelector);\\n                        readyElementList.each(function (index) {\\n                            event.handler.apply(this);\\n                        });\\n                    } catch (e) {\\n                        console.error(\"Failed to run a \\'ready\\' event handler.\");\\n                        console.error(e);\\n                    }\\n                } else {\\n                    $(event.contextSelector).on(event.type, event.elementSelector || null, event.handler);\\n                }\\n            }\\n        }\\n    });\\n</script>\\n    \\n\\n\\n<script>\\n        var _UnifiedApiParams = {\"uniqueUser\":\"808446CD-ED2C-4BB0-B1A6-5F188C44503E\",\"appId\":\"Archie_Askus\",\"appVersion\":\"11fa805\",\"appDate\":\"2019-10-21T22:46:16Z\",\"logPageView\":false,\"updateSession\":false,\"domain\":\"ask.com\",\"url\":\"www.ask.com/log/browser/event\",\"backFillRequired\":false,\"eventId\":\"E4287D25-D373-495E-B665-C5BA3D88E553\",\"maxSession\":30,\"suppressCookies\":false,\"cookieExpirationMinutes\":129600,\"newSessionOnDomainChange\":false,\"cookieName\":\"uc\"};\\n        _UnifiedApiParams.url = ((\"https:\" === window.location.protocol)? \"https://\" : \"http://\" ) + _UnifiedApiParams.url;\\n    </script>\\n\\n    <script src=\"/s/0-4-27/unified-api.min.js\"></script>\\n    <script>\\n    if(App) {\\n        (function () {\\n            App.events = App.events || [];\\n            App.events.push({\\n                partial: \"partial-unified-footer\",\\n                contextSelector: document,\\n                elementSelector: null,\\n                type: \"ready\",\\n                handler: function () {\\n                        window.ask = window.ask || {};\\n                        var ask = window.ask;\\n                        ask.unified = ask.unified || {};\\n                        ask.unified.pageContext = {\"anuaaf\":\"Archie\",\"anxut\":\"UNIFIED\",\"anuaci\":\"206.87.46.128\",\"anuaafl\":\"0\",\"anxsn\":\"ask-sites-2140433412-z6tbw\",\"anuahm\":\"GET\",\"anuadc\":\"usw2\",\"anuaqs\":\"\",\"anxu\":\"http://www.ask.com/\",\"anuaad\":\"dirN\",\"anuapbr\":\"\",\"anuaan\":\"\",\"anuaamt\":\"\",\"anuaagc\":\"\",\"anuaadid\":\"\",\"ucctr\":\"\",\"ucctn\":\"\",\"ucs\":\"\",\"ucdm\":\"\",\"uccnt\":\"\",\"ucpc\":\"\",\"anuadtp\":\"desktop\",\"anxbt\":\"\",\"anxbv\":\"\",\"anxpt\":\"\",\"anxpv\":\"\",\"anxcd\":\"\",\"anxw\":\"\",\"anxh\":\"\",\"anxv\":\"11fa805\",\"anxd\":\"2019-10-21T22:46:16.648Z\",\"anuaptp\":\"homePage\",\"anuachl\":\"home\",\"anuaprdd\":\"search\",\"anxa\":\"Archie_Askus\",\"anxp\":\"ask.com\",\"anualcl\":\"us\",\"anuasv\":\"1\",\"anuaapp\":\"{\\\\\"pageViewId\\\\\":\\\\\"355bed6c5633dee72a11cf7f58649d8e\\\\\",\\\\\"queryOrigination\\\\\":\\\\\"\\\\\",\\\\\"templateId\\\\\":\\\\\"desktop\\\\\"}\",\"anuapn\":1,\"anuaptl\":\"Ask.com - What\\'s Your Question?\"};\\n                        ask.unified.payload = {\\n                            pageResults: [],\\n                            providers: ask.unified.pendingProviders || {}\\n                        };\\n\\n                        if (ask.unified.pendingParams) {\\n                            for (var key in ask.unified.pendingParams) {\\n                                ask.unified.payload[key] = ask.unified.pendingParams[key];\\n                            }\\n                            ask.unified.pendingParams = {};\\n                        }\\n\\n                        ask.unified.pendingProviders = {};\\n                        ask.unified.events = [];\\n\\n                        \\n                        ask.unified.addPresentation = function (zoneName, moduleName, moduleOrdinal, resultTemplate, count) {\\n                            for (var i = 0; i < count; i++) {\\n                                var nextResult = {};\\n                                $.extend(nextResult, resultTemplate);\\n                                nextResult.resultInModule = i + 1;\\n                                nextResult.zoneName = zoneName;\\n                                nextResult.moduleName = moduleName;\\n                                nextResult.moduleInZone = moduleOrdinal;\\n                                ask.unified.payload.pageResults.push(nextResult);\\n                            }\\n                        };\\n\\n                        ask.unified.addPresentationResult = function (results) {\\n                            ask.unified.payload.pageResults = ask.unified.payload.pageResults.concat(results);\\n                        };\\n\\n                        \\n                        ask.unified.addProvider = function (providerName, providerPayload) {\\n                            if (!ask.unified.payload.providers[providerName]) {\\n                                ask.unified.payload.providers[providerName] = providerPayload;\\n                            } else {\\n                                $.extend(providerPayload, ask.unified.payload.providers[providerName]);\\n                                ask.unified.payload.providers[providerName] = providerPayload;\\n                            }\\n                        };\\n\\n                        \\n                        ask.unified.sendAction = function (actionPayload, cb) {\\n                            var payload = {};\\n                            $.extend(payload, ask.unified.pageContext);\\n\\n                            if(ask.unified.pageContext.anuaapp) {\\n                                $.extend(actionPayload, JSON.parse(ask.unified.pageContext.anuaapp));\\n                            }\\n                            payload.anuaapp = JSON.stringify(actionPayload);\\n\\n                            if (!cb) {\\n                                _UnifiedApi.logEvent(\"Action\", payload, ask.unified.apiHandler);\\n                            } else {\\n                                var callback = function (success, response) {\\n                                    ask.unified.apiHandler(success, response, function () {\\n                                        cb();\\n                                    });\\n                                };\\n                                _UnifiedApi.logEvent(\"Action\", payload, callback);\\n                            }\\n                        };\\n\\n                        ask.unified.sendBackFill = function () {\\n                            var navInfo = getNavigationTimingInfo(window);\\n                            if(navInfo) {\\n                                \\n                                if (isNavInfoAvailableInUnifiedPayload()) {\\n                                    if(isPageLoadComplete(navInfo)) {\\n                                        \\n                                        if(ask.unified.payload.externalData.navInfo.loadEventEnd === 0) {\\n                                            \\n                                            ask.unified.payload.externalData.navInfo = navInfo;\\n                                        } else {\\n                                            \\n                                            return;\\n                                        }\\n                                    } else {\\n                                        \\n                                        \\n                                        registerSendBackFillOnPageLoadComplete();\\n                                    }\\n                                } else {\\n                                    if(ask.unified.payload.externalData) {\\n                                        ask.unified.payload.externalData.navInfo = navInfo;\\n                                    } else {\\n                                        ask.unified.payload.externalData = { \"navInfo\": navInfo };\\n                                    }\\n\\n                                    if(!isPageLoadComplete(navInfo)) {\\n                                        \\n                                        \\n                                        registerSendBackFillOnPageLoadComplete();\\n                                    }\\n                                }\\n                            }\\n\\n                            var payload = { anxi: _UnifiedApiParams.eventId};\\n                            $.extend(payload, ask.unified.pageContext);\\n\\n                            if ($.isEmptyObject(ask.unified.payload.providers)) {\\n                                delete ask.unified.payload.providers;\\n                            }\\n                            payload.anuaapp = JSON.stringify(ask.unified.payload);\\n\\n                            _UnifiedApi.logEvent(\"BackFill\", payload, ask.unified.apiHandler);\\n\\n                            \\n                            ask.unified.payload = {\\n                                pageResults: [],\\n                                providers: {}\\n                            };\\n                        };\\n\\n                        function isPageLoadComplete(navInfo) {\\n                            return navInfo.loadEventEnd > 0;\\n                        }\\n\\n                        function isNavInfoAvailableInUnifiedPayload() {\\n                            return !!ask.unified.payload.externalData && !!ask.unified.payload.externalData.navInfo;\\n                        }\\n\\n                        function registerSendBackFillOnPageLoadComplete() {\\n                            $(window).load(function(){\\n                                setTimeout(function(){\\n                                    ask.unified.sendBackFill();\\n                                }, 0);\\n                            });\\n                        }\\n\\n                        \\n                        ask.unified.cancelPending = function (key) {\\n                            var length = ask.unified.pending.length;\\n                            for (var i = 0; i < length; i++) {\\n                                if (ask.unified.pending[i] === key) {\\n                                    ask.unified.pending.splice(i, 1);\\n                                    break;\\n                                }\\n                            }\\n                        };\\n\\n                        \\n                        ask.unified.apiHandler = function (success, responseText, cb) {\\n                            \\nif (cb) {\\n                                cb();\\n                            }\\n                        };\\n\\n                        var _timedOut = false,\\n                                _timeFromSerpStart = null,\\n                                _adsLoggingTimeout = null,\\n                                _dynamicLoggingTimeout = null;\\n\\n\\n                        try {\\n                            _timeFromSerpStart = ((new Date() - ask.CSA.startTime) - ask.CSA.showSerpStartTime);\\n                            _adsLoggingTimeout = 5000 - _timeFromSerpStart;\\n                            _dynamicLoggingTimeout = Math.max(_adsLoggingTimeout, 1);\\n                        } catch (e) {\\n                            _dynamicLoggingTimeout = 2000;\\n                        }\\n\\n                        function mixinCSAAdData(payload) {\\n                            var externalData = {\\n                                csaInfo: {\\n                                    domTime: ask.CSA.domReadyTime ? ask.CSA.domReadyTime : 0,\\n                                    adsResponseTime: ask.CSA.responseTime ? ask.CSA.responseTime : 0,\\n                                    adsShownTime: ask.CSA.adsShownTime ? ask.CSA.adsShownTime : 0,\\n                                    serpShownTime: ask.CSA.serpShownTime ? ask.CSA.serpShownTime : 0,\\n                                    supplement: _timedOut,\\n                                    serpTimedOut: !!ask.CSA.showSerpTimeoutFired,\\n                                    serpTimeoutStartTime: ask.CSA.showSerpStartTime ? ask.CSA.showSerpStartTime : 0,\\n                                    dynamicTimeout: _dynamicLoggingTimeout,\\n                                    viewportHeight: ask.CSA.viewportHeight ? ask.CSA.viewportHeight : 0,\\n                                    viewportWidth: ask.CSA.viewportWidth ? ask.CSA.viewportWidth : 0,\\n                                    adContentRatio: ask.CSA.adContentRatio ? ask.CSA.adContentRatio : 0,\\n                                    csaHeight: ask.CSA.csaHeight ? ask.CSA.csaHeight : 0,\\n                                    csaWidth: ask.CSA.csaWidth ? ask.CSA.csaWidth : 0,\\n                                    centerRailHeight: ask.CSA.centerRailHeight ? ask.CSA.centerRailHeight : 0,\\n                                    centerRailWidth: ask.CSA.centerRailWidth ? ask.CSA.centerRailWidth : 0,\\n                                    rightRailHeight: ask.CSA.rightRailHeight ? ask.CSA.rightRailHeight : 0,\\n                                    rightRailWidth: ask.CSA.rightRailWidth ? ask.CSA.rightRailWidth : 0\\n                                }\\n                            };\\n\\n                              var totalAds = 0,\\n                                  topCount = 0,\\n                                  midCount = 0,\\n                                  botCount = 0,\\n                                  uniqueResultsDisplayed = 0,\\n                                  csaTopModule = \"\" || \"csaTop\",\\n                                  csaMiddleModule = \"\" || \"csaMiddle\",\\n                                  csaBottomModule = \"\" || \"csaBottom\",\\n                                  csaZone = \"\" || \"primary\";\\n\\n                            if(ask.CSA.adModules){\\n                                for(var i= 0; i < ask.CSA.adModules.length; i++){\\n                                    var m = ask.CSA.adModules[i];\\n                                    totalAds =+ m.count();\\n                                    ask.unified.addPresentation(m.zoneName, m.moduleName, m.ordinal, {resultType: m.resultType, providerSource: m.providerSource}, m.count());\\n                                }\\n                                uniqueResultsDisplayed = ask.CSA.pageOptions.numRepeated ? ask.CSA.adModules[0].count() : totalAds;\\n                            }\\n                            else {\\n                                topCount = ask.CSA.numTopAds ? ask.CSA.numTopAds : 0;\\n                                midCount = ask.CSA.numMiddleAds ? ask.CSA.numMiddleAds : 0;\\n                                botCount = ask.CSA.numBottomAds ? ask.CSA.numBottomAds : 0;\\n                                totalAds = topCount + midCount + botCount;\\n                                ask.unified.addPresentation(csaZone, csaTopModule, ask.moduleOrdinals[0], { resultType: \"gsl\", providerSource: \"csa\"}, topCount);\\n                                ask.unified.addPresentation(csaZone, csaMiddleModule, ask.moduleOrdinals[1], {resultType: \"gsl\", providerSource: \"csa\"}, midCount);\\n                                ask.unified.addPresentation(csaZone, csaBottomModule, ask.moduleOrdinals[2], {resultType: \"gsl\", providerSource: \"csa\"}, botCount);\\n                                uniqueResultsDisplayed = ask.CSA.pageOptions.numRepeated ? (midCount + botCount) : totalAds;\\n                            }\\n\\n                            if(csaZone === \"center\") {\\n                                ask.unified.addProvider(\"gsl\", {\\n                                    zoneCenterResults: totalAds\\n                                });\\n                            } else {\\n                                ask.unified.addProvider(\"gsl\", {\\n                                    zonePrimaryResults: totalAds\\n                                });\\n                            }\\n\\n                            ask.unified.addProvider(\"gsl\", {\\n                                responseTime: ask.CSA.responseTime ? ask.CSA.responseTime : 0,\\n                                resultsDisplayed: totalAds,\\n                                uniqueResultsDisplayed: uniqueResultsDisplayed\\n                            });\\n\\n                            try {\\n                                mixinNavigationTimingInfo(externalData);\\n\\n                                ask.unified.payload.externalData = externalData;\\n                            } catch (e) {\\n                            }\\n                        };\\n\\n                        \\n                        function mixinNavigationTimingInfo(eData) {\\n                            var navInfo = getNavigationTimingInfo(window);\\n                            if(navInfo) {\\n                                eData[\"csaInfo\"].csaStartTime = (ask.CSA.startTime.getTime() - navInfo.navigationStart);\\n                            }\\n                        };\\n\\n                        $(document).on(\"unified:BackFill\", function (evt, data) {\\n                            var ask = window.ask;\\n                            if (data && data.payload) {\\n                                ask.unified.addPresentationResult(data.payload);\\n                                ask.unified.sendBackFill();\\n                            }\\n                        });\\n\\n                        if (\"1\" !== CookieUtil.getChipValue(\"uc\", \"nv\")) {\\n                            \\n                            return;\\n                        }\\n\\n                        if (ask.afc) {\\n                            ask.unified.addProvider(\"gsl\", ask.afc.provider);\\n                            ask.unified.addPresentation.apply(null, ask.afc.presentation.top);\\n                            ask.unified.addPresentation.apply(null, ask.afc.presentation.bottom);\\n                            ask.unified.sendBackFill();\\n                        } else if (!ask.unified.pending || ask.unified.pending.length == 0) {\\n                            if(ask.unified.payload) {\\n                                ask.unified.payload.suspectBackFill = true;\\n                            } else {\\n                                ask.unified.payload = { \"suspectBackFill\": true };\\n                            }\\n                            ask.unified.sendBackFill();\\n                        } else if (ask.CSA && typeof ask.CSA.addCSALoadCallback === \"function\") {\\n                            ask.CSA.addCSALoadCallback(function () {\\n                                var payload = _timedOut ? { pl_supplement: true } : {};\\n\\n                                if (typeof ask.CSA.calculateAdContentMetrics === \"function\") {\\n                                    ask.CSA.calculateAdContentMetrics();\\n                                }\\n\\n                                mixinCSAAdData(payload);\\n\\n                                ask.unified.sendBackFill();\\n                            }, function () {\\n                                _timedOut = true;\\n\\n                                if (ask.CSA && typeof ask.CSA.showSerp === \"function\") {\\n                                    ask.CSA.showSerp();\\n                                }\\n\\n                                ask.unified.sendBackFill();\\n                            }, _dynamicLoggingTimeout);\\n                        }\\n                    }\\n                });\\n\\n                App.events.push({\\n                    partial: \"partial-unified-footer\",\\n                    contextSelector: document,\\n                    elementSelector: \"a\",\\n                    type: \"click\",\\n                    handler: function(evt) {\\n                        var ask = window.ask;\\n                        var target = $(this);\\n\\n                        var unifiedData = target.data(\"unified\");\\n                        if(!unifiedData) {\\n                            return; \\n                        }\\n\\n                        var isImage = \"img\" === evt.target.tagName.toLowerCase();\\n                        var assetType = target.data(\"unified-assettype\") || (isImage ? \"image\" : \"primaryTextLink\");\\n                        var destUrl = target.attr(\"href\");\\n                        var qoParam = target.data(\"qo\");\\n\\n                        var appPayload = {\\n                            actionType: \"click\",\\n                            assetType: assetType,\\n                            text: $.trim(target.text()).replace(/\\\\s+/g, \" \"),\\n                            url: destUrl\\n                        };\\n\\n                        \\n                        if(ask.unified.pageContext.metaInfo) {\\n                            unifiedData.metaInfo = unifiedData.metaInfo || {};\\n                            unifiedData.metaInfo.client = ask.unified.pageContext.metaInfo.client || \"\";\\n                            unifiedData.metaInfo.clientChannel = ask.unified.pageContext.metaInfo.clientChannel || \"\";\\n                        }\\n\\n                        \\n                        if(unifiedData.imagePresent) {\\n                            unifiedData.metaInfo = unifiedData.metaInfo || {};\\n                            unifiedData.metaInfo.imagePresent = unifiedData.imagePresent;\\n                            delete unifiedData.imagePresent;\\n                        }\\n\\n                        $.extend(appPayload, unifiedData);\\n\\n                        \\nvar payload = {};\\n                        $.extend(payload, ask.unified.pageContext);\\n\\n                        if(ask.unified.pageContext.anuaapp) {\\n                            $.extend(appPayload, JSON.parse(ask.unified.pageContext.anuaapp));\\n                        }\\n\\n                        var targetAttr = target.attr(\"target\");\\n                        var nonNav = assetType === \"carouselClick\" || assetType === \"loadMore\";\\n\\n                        \\npayload.anuaapp = JSON.stringify(appPayload);\\n\\n                        if(targetAttr || nonNav) {\\n                            _UnifiedApi.logEvent(\"Action\", payload, ask.unified.apiHandler);\\n                        } else {\\n                            var callback = ask.unified.apiHandler;\\n                            if (destUrl) {\\n                                callback = function (success, response) {\\n                                    ask.unified.apiHandler(success, response, function() {\\n                                        destUrl = _UnifiedApi.addURLParam(destUrl, \"qo\", qoParam);\\n                                        document.location = destUrl;\\n                                    });\\n                                };\\n                            }\\n                            _UnifiedApi.logEvent(\"Action\", payload, callback);\\n                            return false;\\n                        }\\n                    }\\n                });\\n        })();\\n        }\\n    </script>\\n\\n\\n\\n<script>\\n\\n    var lssCfg = (function(){\\n        return {\\n            \"topOffset\": 3,\\n            \"leftOffset\": 0,\\n            \"channel\": \"home\",\\n            \"path\": \"web\",\\n            \"disableTurnOffLink\": \"\\'true\\'\",\\n            \"disableSS\": false,\\n            \"server\": \"amg-ss.ask.com\",\\n            \"serverPath\": \"/query\",\\n            \"ldomain\": \"/\",\\n            \"locale\" : \"en-US\",\\n            \"limit\" : 10,\\n            \"ssBold\": \"\\'false\\'\",\\n            \"clearSearchHistory\": \"Clear search history\",\\n            \"max\": \"\",\\n            \"ssFromQueryHistory\": \"true\",\\n            \"queryHistory\": \"\",\\n            \"queryHistoryContentColor\": \"\",\\n            \"ssContentColor\": \"\\'false\\'\",\\n            \"ssContentColorCode\": \"\",\\n            \"matchingTextUnBold\": \"\",\\n            \"suggestionTextUnBold\": \"\",\\n            \"ssItems\": \"\",\\n            \"containerClass\" : \"ac_results\",\\n            \"onSelect\": function(data) {\\n                if( ask && ask.unified && ask.unified.sendAction ){\\n                    var assetType = (data.url.indexOf(\"searchHistory\") !== -1)? \"searchHistory\" : \"searchSuggestions\",\\n                            searchPayload = JSON.parse(\\'{\"resultType\":\"navigation\",\"providerSource\":\"navigation\",\"assetType\":\"searchBar\",\"actionType\":\"click\",\"zoneName\":\"header\",\"moduleName\":\"searchBox\"}\\');\\n                    searchPayload.assetType = assetType;\\n                    ask.unified.sendAction(searchPayload, function () {\\n                        window.location.href = data.url;\\n                    });\\n                    return;\\n                }\\n                window.location.href = data.url;\\n            }\\n        };\\n    })();\\n\\n    if(App) {\\n        (function () {\\n            App.events = App.events || [];\\n            App.events.push({\\n                partial: \"PartialLss\",\\n                contextSelector: document,\\n                elementSelector: null,\\n                type: \"ready\",\\n                handler: function () {\\n                    if (!lssCfg.disableSS) {\\n                        $(\"input[name=q]:first:not(:hidden)\").lssSuggestions(lssCfg);\\n                    }\\n                }\\n            });\\n        })();\\n    }\\n</script>\\n\\n\\n\\n    <script>\\n        var _comscore = _comscore || [];\\n        _comscore.push(\\n                { c1: \"2\", c2: \"6034776\" }\\n        );\\n        (function()\\n                { var s = document.createElement(\"script\"), el = document.getElementsByTagName(\"script\")[0]; s.async = true; s.src = (document.location.protocol == \"https:\" ? \"https://sb\" : \"http://b\") + \".scorecardresearch.com/beacon.js\"; el.parentNode.insertBefore(s, el); }\\n        )();\\n    </script>\\n    <noscript>\\n        <img src=\"//b.scorecardresearch.com/p?c1=2&c2=6034776&cv=2.0&cj=1\" />\\n    </noscript>\\n\\n\\n\\n\\n\\n</body>\\n</html>\\n\\n\\n'\n"
     ]
    }
   ],
   "source": [
    "url = 'https://www.ask.com/web'\n",
    "# Build and encode data\n",
    "values = {'q' : 'data analysis'}\n",
    "\n",
    "# converts to a language the internet understands\n",
    "data = urllib.parse.urlencode(values)\n",
    "data = data.encode('utf-8')\n",
    "req = urllib.request.Request(url, data)\n",
    "with urllib.request.urlopen(req) as response:\n",
    "    page = response.read()\n",
    "    print(page)"
   ]
  },
  {
   "cell_type": "markdown",
   "metadata": {},
   "source": [
    "## Example \n",
    "**Question 1** Write a Python program that connects to any web page\n",
    "and prints its contents."
   ]
  },
  {
   "cell_type": "code",
   "execution_count": 16,
   "metadata": {
    "scrolled": true
   },
   "outputs": [
    {
     "name": "stdout",
     "output_type": "stream",
     "text": [
      "b'<!DOCTYPE html>\\n<html>\\n\\n<head>\\n<title>Irene Vrbik</title>\\n<link rel=\"stylesheet\" type=\"text/css\" href=\"css/global.css\"></link>\\n<link href=\\'https://fonts.googleapis.com/css?family=Open+Sans:400,300,600,800,700,100\\' rel=\\'stylesheet\\' type=\\'text/css\\'></link>\\n<link href=\\'https://fonts.googleapis.com/css?family=Ovo\\' rel=\\'stylesheet\\' type=\\'text/css\\'></link> \\n<link href=\\'https://fonts.googleapis.com/css?family=Vollkorn:400,700\\' rel=\\'stylesheet\\' type=\\'text/css\\'>\\n\\n<meta name=\"description\" content=\"Irene Vrbik\\'s personal website.\">\\n<meta name=\"keywords\" content=\"Irene Vrbik, Classification, Clustering, Biostatistics\">\\n<meta name=\"author\" content=\"Irene Vrbik\">\\n</head>\\n\\n<body>\\n\\n    <div id=\"Wrapper\">\\n        <div id=\"Logo\"></div>\\n        <div id=\"Name\">Irene Vrbik</div><br>\\n        <div id=\"Uni\">>>University of British Columbia Okanagan</div>\\n        <div id=\"NavBar\">\\n            <ul>\\n                <li><a href=\"index.html\">home</a></li>\\n                <li><a href=\"publications.html\">research</a></li>\\n                <li><a href=\"teaching.html\">teaching</a></li>\\n                <li><a href=\"contact.html\">contact</a></li>\\n            </ul> \\n        </div>\\n        <div style=\"clear: both;\">&nbsp;</div>\\n        \\n        <div id=\"Shore\"></div>\\n        \\n        <div id=\"FrontPage\">\\n            \\n            <p>\\n            I am currently holding a Postdoctoral Fellowship with \\n            Natural Sciences and Engineering Research Council of Canada (NSERC)\\n            under the supervison of Professor \\n            <a href=\"http://stat.ok.ubc.ca/faculty/loeppky.html\">\\n            Jason Loeppky  </a>.  In collaboration with \\n            researchers in the \\n             <a href=\"http://ikbsas.ok.ubc.ca/welcome.html\">\\n               Irving K. Barber School of Arts and Sciences\\n               </a>\\n                I have recently been exploring\\n              some statistical methods for detecting response to radiation on Raman spectroscopy data.\\n            </p> \\n            \\n            <p>\\n            Prior to this, I was a post doctoral fellow working with  \\n            <a href=\"http://www.math.mcgill.ca/dstephens/\">\\n            Professor David Stephens\\n            </a> at McGill University at the \\n             <a href=\"http://www.math.mcgill.ca/\">\\n             Department of Mathematics and Statistics\\n            </a>.  My post-doctoral work focused on \\n            the statistical and computational challenges associated with the \\n            analysis of genetic data.  \\n            </p>\\n            \\n            <p>\\n            I completed my PhD at the \\n             <a href=\"http://www.uoguelph.ca/\">\\n            University of Guelph\\n            </a>\\n        \\tand was supervised by \\n            <a href=\"http://ms.mcmaster.ca/~paul/\">\\n            Professor Paul McNicholas\\n            </a>.  The topic of my PhD thesis was model-based classification and clustering \\n            with a particular emphasis on non-elliptical distributions.  This research \\n            included the development of a \"Fractionally-Supervised Classification\" approach \\n            which unites the species of unsupervised, semi-supervised, and supervised \\n            classification under a single weighted-likelihood framework.\\n             under the supervision of \\n            <a href=\"https://vet.ucalgary.ca/node/2232\">\\n            Professor Rob Deardon\\n            </a> and co-supervision of \\n             <a href=\"http://www.uoguelph.ca/~zfeng/\">\\n            Professor Zeny Feng\\n            </a>.  My masters thesis involved modelling the spatio-temporal combustion \\n            dynamics of fire in a Bayesian framework.\\n            </p>\\n            \\n            \\n            <p>My office is located in the Arts and Sciences Centre building, room 306.</p>\\n            \\n        </div>\\n        <div style=\"clear: both;\">&nbsp;</div>\\n        \\n    </div>\\n    \\n</body>\\n\\n</html>\\n\\n\\n'\n"
     ]
    }
   ],
   "source": [
    "import urllib.request\n",
    "loc=\"https://people.ok.ubc.ca/ivrbik/\"\n",
    "site = urllib.request.urlopen(loc)\n",
    "contents = site.read()\n",
    "print(contents)\n",
    "site.close()"
   ]
  },
  {
   "cell_type": "markdown",
   "metadata": {},
   "source": [
    "**Question 2** Write a Python program that connects to: http://www.sharecsv.com/dl/ab69f200ce5071b27e4af626da293d27/province_population.csv and outputs the CSV data.\n",
    "Modify your program to print each province and its 2015 population in descending sorted order. (See next slide for hint)"
   ]
  },
  {
   "cell_type": "code",
   "execution_count": 34,
   "metadata": {},
   "outputs": [
    {
     "data": {
      "text/plain": [
       "',2011,2012,2013,2014,2015,\\r\\nCanada,\"34,342.80\",\"34,751.50\",\"35,155.50\",\"35,543.70\",\"35,851.80\",\\r\\nNewfoundland and Labrador,525,526.9,528,529.1,527.8,\\r\\nPrince Edward Island,144,145.3,145.4,146.2,146.4,\\r\\nNova Scotia,944.5,944.8,943,942.4,943,\\r\\nNew Brunswick,755.5,756.8,755.7,754.6,753.9,\\r\\nQuebec,\"8,007.70\",\"8,084.80\",\"8,154.80\",\"8,214.90\",\"8,263.60\",\\r\\nOntario,\"13,263.50\",\"13,409.60\",\"13,551.00\",\"13,677.70\",\"13,792.10\",\\r\\nManitoba,\"1,233.70\",\"1,250.40\",\"1,265.30\",\"1,280.20\",\"1,293.40\",\\r\\nSaskatchewan,\"1,066.30\",\"1,087.20\",\"1,106.10\",\"1,122.30\",\"1,133.60\",\\r\\nAlberta,\"3,790.20\",\"3,888.60\",\"4,007.70\",\"4,120.90\",\"4,196.50\",\\r\\nBritish Columbia,\"4,499.10\",\"4,542.60\",\"4,582.60\",\"4,638.40\",\"4,683.10\",\\r\\nYukon,35.4,36.2,36.4,37,37.4,\\r\\nNorthwest Territories,43.5,43.6,43.9,44,44.1,\\r\\nNunavut,34.2,34.7,35.4,36.1,36.9,\\r\\n'"
      ]
     },
     "execution_count": 34,
     "metadata": {},
     "output_type": "execute_result"
    }
   ],
   "source": [
    "# extract the information\n",
    "import urllib.request\n",
    "import csv\n",
    "\n",
    "url = \"http://www.sharecsv.com/dl/ab69f200ce5071b27e4af626da293d27/province_population.csv\"\n",
    "\n",
    "with urllib.request.urlopen(url) as site:\n",
    "    data = site.read().decode()\n",
    "\n",
    "data"
   ]
  },
  {
   "cell_type": "code",
   "execution_count": 35,
   "metadata": {},
   "outputs": [],
   "source": [
    "# write the data to a csv file using the csv module\n",
    "outfile = open(\"province_population.csv\", \"w\")\n",
    "outfile.write(data)\n",
    "outfile.close()"
   ]
  },
  {
   "cell_type": "markdown",
   "metadata": {},
   "source": [
    "Now we can manipulate this csv data within Python:"
   ]
  },
  {
   "cell_type": "code",
   "execution_count": 36,
   "metadata": {},
   "outputs": [
    {
     "name": "stdout",
     "output_type": "stream",
     "text": [
      "['', '2011', '2012', '2013', '2014', '2015', '']\n",
      "['Canada', '34,342.80', '34,751.50', '35,155.50', '35,543.70', '35,851.80', '']\n",
      "['Newfoundland and Labrador', '525', '526.9', '528', '529.1', '527.8', '']\n",
      "['Prince Edward Island', '144', '145.3', '145.4', '146.2', '146.4', '']\n",
      "['Nova Scotia', '944.5', '944.8', '943', '942.4', '943', '']\n",
      "['New Brunswick', '755.5', '756.8', '755.7', '754.6', '753.9', '']\n",
      "['Quebec', '8,007.70', '8,084.80', '8,154.80', '8,214.90', '8,263.60', '']\n",
      "['Ontario', '13,263.50', '13,409.60', '13,551.00', '13,677.70', '13,792.10', '']\n",
      "['Manitoba', '1,233.70', '1,250.40', '1,265.30', '1,280.20', '1,293.40', '']\n",
      "['Saskatchewan', '1,066.30', '1,087.20', '1,106.10', '1,122.30', '1,133.60', '']\n",
      "['Alberta', '3,790.20', '3,888.60', '4,007.70', '4,120.90', '4,196.50', '']\n",
      "['British Columbia', '4,499.10', '4,542.60', '4,582.60', '4,638.40', '4,683.10', '']\n",
      "['Yukon', '35.4', '36.2', '36.4', '37', '37.4', '']\n",
      "['Northwest Territories', '43.5', '43.6', '43.9', '44', '44.1', '']\n",
      "['Nunavut', '34.2', '34.7', '35.4', '36.1', '36.9', '']\n"
     ]
    }
   ],
   "source": [
    "# read in the csv document and save it to a list\n",
    "provinces = [] \n",
    "with open(\"province_population.csv\", \"r\") as infile:\n",
    "    csvfile = csv.reader(infile)\n",
    "    for row in csvfile:         \n",
    "        print(row)\n",
    "        if (len(row) > 0 and row[0] != '' and row[0] != 'Canada'):                          \n",
    "            val = row[5].replace(\",\",\"\")\n",
    "            # since the population is stored in thousands, we will multiply by\n",
    "            # 1000 to store the population in \"ones\"\n",
    "            provinces.append([float(val)*1000, row[0]])"
   ]
  },
  {
   "cell_type": "code",
   "execution_count": 37,
   "metadata": {},
   "outputs": [
    {
     "name": "stdout",
     "output_type": "stream",
     "text": [
      "[527800.0, 'Newfoundland and Labrador']\n",
      "[146400.0, 'Prince Edward Island']\n",
      "[943000.0, 'Nova Scotia']\n",
      "[753900.0, 'New Brunswick']\n",
      "[8263600.0, 'Quebec']\n",
      "[13792100.0, 'Ontario']\n",
      "[1293400.0, 'Manitoba']\n",
      "[1133600.0, 'Saskatchewan']\n",
      "[4196500.0, 'Alberta']\n",
      "[4683100.0, 'British Columbia']\n",
      "[37400.0, 'Yukon']\n",
      "[44100.0, 'Northwest Territories']\n",
      "[36900.0, 'Nunavut']\n"
     ]
    }
   ],
   "source": [
    "# each element in provinces list is a list containing the province's population and name\n",
    "for row in provinces:\n",
    "    print(row)"
   ]
  },
  {
   "cell_type": "code",
   "execution_count": 39,
   "metadata": {},
   "outputs": [
    {
     "name": "stdout",
     "output_type": "stream",
     "text": [
      "Ontario  13792100.0\n",
      "Quebec  8263600.0\n",
      "British Columbia  4683100.0\n",
      "Alberta  4196500.0\n",
      "Manitoba  1293400.0\n",
      "Saskatchewan  1133600.0\n",
      "Nova Scotia  943000.0\n",
      "New Brunswick  753900.0\n",
      "Newfoundland and Labrador  527800.0\n",
      "Prince Edward Island  146400.0\n",
      "Northwest Territories  44100.0\n",
      "Yukon  37400.0\n",
      "Nunavut  36900.0\n"
     ]
    }
   ],
   "source": [
    "# calling .sort on this list will sort according to that first element (population)\n",
    "provinces.sort(reverse=True)\n",
    "for row in provinces:\n",
    "    #print(row)\n",
    "    print(row[1], \"\", row[0])"
   ]
  },
  {
   "cell_type": "code",
   "execution_count": null,
   "metadata": {},
   "outputs": [],
   "source": []
  }
 ],
 "metadata": {
  "kernelspec": {
   "display_name": "Python 3",
   "language": "python",
   "name": "python3"
  },
  "language_info": {
   "codemirror_mode": {
    "name": "ipython",
    "version": 3
   },
   "file_extension": ".py",
   "mimetype": "text/x-python",
   "name": "python",
   "nbconvert_exporter": "python",
   "pygments_lexer": "ipython3",
   "version": "3.6.9"
  }
 },
 "nbformat": 4,
 "nbformat_minor": 2
}
