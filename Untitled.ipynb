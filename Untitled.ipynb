{
 "cells": [
  {
   "cell_type": "code",
   "execution_count": 2,
   "metadata": {},
   "outputs": [],
   "source": [
    "import pandas as pd"
   ]
  },
  {
   "cell_type": "code",
   "execution_count": 9,
   "metadata": {},
   "outputs": [],
   "source": [
    "temp = {'Fruits':['apple','banana','grapefruit'],\n",
    "        'Mass (g)':[50,30,45]}"
   ]
  },
  {
   "cell_type": "code",
   "execution_count": 11,
   "metadata": {},
   "outputs": [
    {
     "data": {
      "text/html": [
       "<div>\n",
       "<style scoped>\n",
       "    .dataframe tbody tr th:only-of-type {\n",
       "        vertical-align: middle;\n",
       "    }\n",
       "\n",
       "    .dataframe tbody tr th {\n",
       "        vertical-align: top;\n",
       "    }\n",
       "\n",
       "    .dataframe thead th {\n",
       "        text-align: right;\n",
       "    }\n",
       "</style>\n",
       "<table border=\"1\" class=\"dataframe\">\n",
       "  <thead>\n",
       "    <tr style=\"text-align: right;\">\n",
       "      <th></th>\n",
       "      <th>Fruits</th>\n",
       "      <th>Mass (g)</th>\n",
       "    </tr>\n",
       "  </thead>\n",
       "  <tbody>\n",
       "    <tr>\n",
       "      <th>0</th>\n",
       "      <td>apple</td>\n",
       "      <td>50</td>\n",
       "    </tr>\n",
       "    <tr>\n",
       "      <th>1</th>\n",
       "      <td>banana</td>\n",
       "      <td>30</td>\n",
       "    </tr>\n",
       "    <tr>\n",
       "      <th>2</th>\n",
       "      <td>grapefruit</td>\n",
       "      <td>45</td>\n",
       "    </tr>\n",
       "  </tbody>\n",
       "</table>\n",
       "</div>"
      ],
      "text/plain": [
       "       Fruits  Mass (g)\n",
       "0       apple        50\n",
       "1      banana        30\n",
       "2  grapefruit        45"
      ]
     },
     "execution_count": 11,
     "metadata": {},
     "output_type": "execute_result"
    }
   ],
   "source": [
    "df = pd.DataFrame.from_dict(temp)\n",
    "df"
   ]
  },
  {
   "cell_type": "code",
   "execution_count": 17,
   "metadata": {},
   "outputs": [
    {
     "data": {
      "text/plain": [
       "[['apple', 50], ['banana', 30], ['grapefruit', 45]]"
      ]
     },
     "execution_count": 17,
     "metadata": {},
     "output_type": "execute_result"
    }
   ],
   "source": []
  },
  {
   "cell_type": "code",
   "execution_count": 19,
   "metadata": {},
   "outputs": [
    {
     "data": {
      "text/html": [
       "<div>\n",
       "<style scoped>\n",
       "    .dataframe tbody tr th:only-of-type {\n",
       "        vertical-align: middle;\n",
       "    }\n",
       "\n",
       "    .dataframe tbody tr th {\n",
       "        vertical-align: top;\n",
       "    }\n",
       "\n",
       "    .dataframe thead th {\n",
       "        text-align: right;\n",
       "    }\n",
       "</style>\n",
       "<table border=\"1\" class=\"dataframe\">\n",
       "  <thead>\n",
       "    <tr style=\"text-align: right;\">\n",
       "      <th></th>\n",
       "      <th>0</th>\n",
       "      <th>1</th>\n",
       "    </tr>\n",
       "  </thead>\n",
       "  <tbody>\n",
       "    <tr>\n",
       "      <th>0</th>\n",
       "      <td>apple</td>\n",
       "      <td>50</td>\n",
       "    </tr>\n",
       "    <tr>\n",
       "      <th>1</th>\n",
       "      <td>banana</td>\n",
       "      <td>30</td>\n",
       "    </tr>\n",
       "    <tr>\n",
       "      <th>2</th>\n",
       "      <td>grapefruit</td>\n",
       "      <td>45</td>\n",
       "    </tr>\n",
       "  </tbody>\n",
       "</table>\n",
       "</div>"
      ],
      "text/plain": [
       "            0   1\n",
       "0       apple  50\n",
       "1      banana  30\n",
       "2  grapefruit  45"
      ]
     },
     "execution_count": 19,
     "metadata": {},
     "output_type": "execute_result"
    }
   ],
   "source": [
    "pd.DataFrame.from_records(df.values.tolist())"
   ]
  },
  {
   "cell_type": "code",
   "execution_count": 21,
   "metadata": {},
   "outputs": [],
   "source": [
    "import random\n",
    "import pandas as pd\n",
    "import math\n",
    "import problem_bank_helpers as pbh\n",
    "\n",
    "data2 = pbh.create_data2()\n",
    "\n",
    "# store phrases etc\n",
    "data2[\"params\"][\"vars\"][\"title\"] = \"Space velocity\"\n",
    "data2[\"params\"][\"vars\"][\"units\"] = \"m/s\"\n",
    "\n",
    "# define bounds of the variables\n",
    "m = 100\n",
    "left_arm = 6\n",
    "head = 12\n",
    "V_L_i = 12\n",
    "V_L_j = 6\n",
    "V_H_i = -24\n",
    "V_H_j = 12\n",
    "t = 0.8\n",
    "a_vf_i = (left_arm/(m-left_arm))*V_L_i\n",
    "a_vf_j = (left_arm/(m-left_arm))*V_L_j\n",
    "i = (((m-left_arm)*(a_vf_i))-(head*V_H_i))/((m-left_arm)-head)\n",
    "j = (((m-left_arm)*(a_vf_j))-(head*V_H_j))/((m-left_arm)-head)\n",
    "\n",
    "\n",
    "# store the variables in the dictionary \"params\"\n",
    "data2[\"params\"][\"m\"] = m\n",
    "data2[\"params\"][\"left_arm\"] = left_arm\n",
    "data2[\"params\"][\"head\"] = head\n",
    "data2[\"params\"][\"V_L_i\"] = V_L_i\n",
    "data2[\"params\"][\"V_L_j\"] = V_L_j\n",
    "data2[\"params\"][\"V_H_i\"] = V_H_i\n",
    "data2[\"params\"][\"V_H_j\"] = V_H_j\n",
    "data2[\"params\"][\"t\"] = t\n",
    "\n",
    "## Part 1\n",
    "\n",
    "# define correct answer\n",
    "data2[\"correct_answers\"][\"part1_ans\"] = pbh.roundp(i,sigfigs=3)\n",
    "\n",
    "## Part 2\n",
    "\n",
    "# define correct answer\n",
    "data2[\"correct_answers\"][\"part2_ans\"] = pbh.roundp(j,sigfigs=3)\n",
    "\n",
    "## Part 3\n",
    "\n",
    "# define correct answer\n",
    "data2[\"correct_answers\"][\"part3_ans\"] = pbh.roundp(left_arm/2*((math.pow(V_L_i,2))+(math.pow(V_L_j,2)))+((m-left_arm)/2)*((math.pow(a_vf_i,2))+math.pow(a_vf_j,2)),sigfigs=1)\n",
    "\n",
    "## Part 4\n",
    "\n",
    "# define correct answer\n",
    "data2[\"correct_answers\"][\"part4_ans\"] = pbh.roundp((head/2)*((math.pow(V_H_i,2))+(math.pow(V_H_j,2)))+(((m-left_arm)-head))/2*((math.pow(i,2))+(math.pow(j,2)))-(m-left_arm)/2*(math.pow(a_vf_i,2)+math.pow(a_vf_j,2)),sigfigs=1)\n",
    "\n",
    "## Part 5\n",
    "\n",
    "# define possible answers\n",
    "Favg_L = (left_arm*(math.sqrt(math.pow(V_L_i,2)+math.pow(V_L_j,2))))/t\n",
    "\n",
    "Favg_H = (head*(math.sqrt(math.pow(V_H_i,2)+math.pow(V_H_j,2))))/t\n",
    "\n",
    "if(Favg_L > Favg_H):\n",
    "    data2[\"params\"][\"part5\"][\"ans1\"][\"value\"] = 'His head required more force'\n",
    "    data2[\"params\"][\"part5\"][\"ans1\"][\"correct\"] = False\n",
    "\n",
    "    data2[\"params\"][\"part5\"][\"ans2\"][\"value\"] = 'His left arm required more force'\n",
    "    data2[\"params\"][\"part5\"][\"ans2\"][\"correct\"] = True\n",
    "elif(Favg_H > Favg_L):\n",
    "    data2[\"params\"][\"part5\"][\"ans1\"][\"value\"] = 'His head required more force'\n",
    "    data2[\"params\"][\"part5\"][\"ans1\"][\"correct\"] = False\n",
    "\n",
    "    data2[\"params\"][\"part5\"][\"ans2\"][\"value\"] = 'His left arm required more force'\n",
    "    data2[\"params\"][\"part5\"][\"ans2\"][\"correct\"] = True\n",
    "\n",
    "data2[\"params\"][\"part5\"][\"ans3\"][\"value\"] = 'There is not enough information.'\n",
    "data2[\"params\"][\"part5\"][\"ans3\"][\"correct\"] = False \n",
    "\n",
    "# Update the data object with a new dict\n",
    "#data.update(data2)"
   ]
  },
  {
   "cell_type": "code",
   "execution_count": 23,
   "metadata": {},
   "outputs": [
    {
     "data": {
      "text/plain": [
       "{'params': defaultdict(<function problem_bank_helpers.problem_bank_helpers.create_data2.<locals>.<lambda>()>,\n",
       "             {'vars': defaultdict(<function problem_bank_helpers.problem_bank_helpers.create_data2.<locals>.<lambda>()>,\n",
       "                          {'title': 'Space velocity', 'units': 'm/s'}),\n",
       "              'm': 100,\n",
       "              'left_arm': 6,\n",
       "              'head': 12,\n",
       "              'V_L_i': 12,\n",
       "              'V_L_j': 6,\n",
       "              'V_H_i': -24,\n",
       "              'V_H_j': 12,\n",
       "              't': 0.8,\n",
       "              'part5': defaultdict(<function problem_bank_helpers.problem_bank_helpers.create_data2.<locals>.<lambda>()>,\n",
       "                          {'ans1': defaultdict(<function problem_bank_helpers.problem_bank_helpers.create_data2.<locals>.<lambda>()>,\n",
       "                                       {'value': 'His head required more force',\n",
       "                                        'correct': False}),\n",
       "                           'ans2': defaultdict(<function problem_bank_helpers.problem_bank_helpers.create_data2.<locals>.<lambda>()>,\n",
       "                                       {'value': 'His left arm required more force',\n",
       "                                        'correct': True}),\n",
       "                           'ans3': defaultdict(<function problem_bank_helpers.problem_bank_helpers.create_data2.<locals>.<lambda>()>,\n",
       "                                       {'value': 'There is not enough information.',\n",
       "                                        'correct': False})})}),\n",
       " 'correct_answers': defaultdict(<function problem_bank_helpers.problem_bank_helpers.create_data2.<locals>.<lambda>()>,\n",
       "             {'part1_ans': 4.39,\n",
       "              'part2_ans': -1.32,\n",
       "              'part3_ans': 600.0,\n",
       "              'part4_ans': 5000.0})}"
      ]
     },
     "execution_count": 23,
     "metadata": {},
     "output_type": "execute_result"
    }
   ],
   "source": [
    "pbs.defdict_to_dict(data2,dá)"
   ]
  },
  {
   "cell_type": "code",
   "execution_count": null,
   "metadata": {},
   "outputs": [],
   "source": []
  }
 ],
 "metadata": {
  "kernelspec": {
   "display_name": "Python 3",
   "language": "python",
   "name": "python3"
  },
  "language_info": {
   "codemirror_mode": {
    "name": "ipython",
    "version": 3
   },
   "file_extension": ".py",
   "mimetype": "text/x-python",
   "name": "python",
   "nbconvert_exporter": "python",
   "pygments_lexer": "ipython3",
   "version": "3.8.3"
  }
 },
 "nbformat": 4,
 "nbformat_minor": 4
}
