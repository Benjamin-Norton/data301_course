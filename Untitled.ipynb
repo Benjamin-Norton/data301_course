{
 "cells": [
  {
   "cell_type": "code",
   "execution_count": null,
   "metadata": {},
   "outputs": [],
   "source": [
    "<input type=\"checkbox\" id=\"week03_video12\" class=\"box\"><label>Video 12 (Optional) </input></label>\n"
   ]
  },
  {
   "cell_type": "code",
   "execution_count": 13,
   "metadata": {},
   "outputs": [
    {
     "name": "stdout",
     "output_type": "stream",
     "text": [
      "<input type=\"checkbox\" id=\"week04_video1\" class=\"box\"><label>Video 1</input></label> \n",
      "\n",
      "<input type=\"checkbox\" id=\"week04_video2\" class=\"box\"><label>(Optional) Video 2</input></label> \n",
      "\n",
      "<input type=\"checkbox\" id=\"week04_video3\" class=\"box\"><label>(Optional) Video 3</input></label> \n",
      "\n",
      "<input type=\"checkbox\" id=\"week04_video4\" class=\"box\"><label>Video 4</input></label> \n",
      "\n",
      "<input type=\"checkbox\" id=\"week04_video5\" class=\"box\"><label>(Optional) Video 5</input></label> \n",
      "\n",
      "<input type=\"checkbox\" id=\"week04_video6\" class=\"box\"><label>(Optional) Video 6</input></label> \n",
      "\n",
      "<input type=\"checkbox\" id=\"week04_video7\" class=\"box\"><label>Video 7</input></label> \n",
      "\n",
      "<input type=\"checkbox\" id=\"week04_video8\" class=\"box\"><label>(Optional) Video 8</input></label> \n",
      "\n",
      "<input type=\"checkbox\" id=\"week04_video9\" class=\"box\"><label>(Optional) Video 9</input></label> \n",
      "\n",
      "<input type=\"checkbox\" id=\"week04_video10\" class=\"box\"><label>(Optional) Video 10</input></label> \n",
      "\n",
      "<input type=\"checkbox\" id=\"week04_video11\" class=\"box\"><label>(Optional) Video 11</input></label> \n",
      "\n",
      "<input type=\"checkbox\" id=\"week04_video12\" class=\"box\"><label>Video 12</input></label> \n",
      "\n",
      "<input type=\"checkbox\" id=\"week04_video13\" class=\"box\"><label>(Optional) Video 13</input></label> \n",
      "\n",
      "<input type=\"checkbox\" id=\"week04_video14\" class=\"box\"><label>(Optional) Video 14</input></label> \n",
      "\n",
      "<input type=\"checkbox\" id=\"week04_video15\" class=\"box\"><label>(Optional) Video 15</input></label> \n",
      "\n",
      "<input type=\"checkbox\" id=\"week04_video16\" class=\"box\"><label>Video 16</input></label> \n",
      "\n",
      "<input type=\"checkbox\" id=\"week04_video17\" class=\"box\"><label>(Optional) Video 17</input></label> \n",
      "\n",
      "<input type=\"checkbox\" id=\"week04_video18\" class=\"box\"><label>(Optional) Video 18</input></label> \n",
      "\n",
      "<input type=\"checkbox\" id=\"week04_video19\" class=\"box\"><label>(Optional) Video 19</input></label> \n",
      "\n",
      "<input type=\"checkbox\" id=\"week04_video20\" class=\"box\"><label>(Optional) Video 20</input></label> \n",
      "\n",
      "<input type=\"checkbox\" id=\"week04_video21\" class=\"box\"><label>(Optional) Video 21</input></label> \n",
      "\n",
      "<input type=\"checkbox\" id=\"week04_video22\" class=\"box\"><label>(Optional) Video 22</input></label> \n",
      "\n",
      "<input type=\"checkbox\" id=\"week04_video23\" class=\"box\"><label>Video 23</input></label> \n",
      "\n",
      "<input type=\"checkbox\" id=\"week04_video24\" class=\"box\"><label>(Optional) Video 24</input></label> \n",
      "\n",
      "<input type=\"checkbox\" id=\"week04_video25\" class=\"box\"><label>Video 25</input></label> \n",
      "\n",
      "<input type=\"checkbox\" id=\"week04_video26\" class=\"box\"><label>(Optional) Video 26</input></label> \n",
      "\n",
      "<input type=\"checkbox\" id=\"week04_video27\" class=\"box\"><label>Video 27</input></label> \n",
      "\n",
      "<input type=\"checkbox\" id=\"week04_video28\" class=\"box\"><label>(Optional) Video 28</input></label> \n",
      "\n",
      "<input type=\"checkbox\" id=\"week04_video29\" class=\"box\"><label>Video 29</input></label> \n",
      "\n",
      "<input type=\"checkbox\" id=\"week04_video30\" class=\"box\"><label>(Optional) Video 30</input></label> \n",
      "\n",
      "<input type=\"checkbox\" id=\"week04_video31\" class=\"box\"><label>Video 31</input></label> \n",
      "\n",
      "<input type=\"checkbox\" id=\"week04_video32\" class=\"box\"><label>(Optional) Video 32</input></label> \n",
      "\n",
      "<input type=\"checkbox\" id=\"week04_video33\" class=\"box\"><label>(Optional) Video 33</input></label> \n",
      "\n",
      "<input type=\"checkbox\" id=\"week04_video34\" class=\"box\"><label>(Optional) Video 34</input></label> \n",
      "\n"
     ]
    }
   ],
   "source": [
    "template = \"\"\"<input type=\"checkbox\" id=\"week04_video{0}\" class=\"box\"><label>Video {0}</input></label>\"\"\"\n",
    "template_optional = \"\"\"<input type=\"checkbox\" id=\"week04_video{0}\" class=\"box\"><label>(Optional) Video {0}</input></label>\"\"\"\n",
    "\n",
    "reqd = [1, 4, 7, 12, 16, 23, 25, 27, 29, 31]\n",
    "for i in range(1,35):\n",
    "    if i in reqd:\n",
    "        print(template.format(i),\"\\n\")\n",
    "    else:\n",
    "        print(template_optional.format(i),\"\\n\")\n",
    "    \n",
    "    "
   ]
  },
  {
   "cell_type": "code",
   "execution_count": null,
   "metadata": {},
   "outputs": [],
   "source": [
    "<input type=\"checkbox\" id=\"week03_video12\" class=\"box\"><label>Video 12 (Optional) </input></label>\n"
   ]
  }
 ],
 "metadata": {
  "kernelspec": {
   "display_name": "Python 3",
   "language": "python",
   "name": "python3"
  },
  "language_info": {
   "codemirror_mode": {
    "name": "ipython",
    "version": 3
   },
   "file_extension": ".py",
   "mimetype": "text/x-python",
   "name": "python",
   "nbconvert_exporter": "python",
   "pygments_lexer": "ipython3",
   "version": "3.8.3"
  }
 },
 "nbformat": 4,
 "nbformat_minor": 4
}
