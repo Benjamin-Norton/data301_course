{
 "cells": [
  {
   "cell_type": "markdown",
   "id": "f0ca7d50-212c-42f6-bba4-e1085e729841",
   "metadata": {},
   "source": [
    "# List of Review topics\n",
    "\n",
    "- functions\n",
    "- Using assert\n",
    "- dictionary comprehension\n",
    "- method chaining\n",
    "- assign and lambda for dataframes\n",
    "- coming up with EDA and questions\n"
   ]
  },
  {
   "cell_type": "markdown",
   "id": "9fcba6a0-9cde-4d80-b298-1d9be4b6a5a9",
   "metadata": {},
   "source": [
    "Task:\n",
    "Create a function named `remove_middle` which has three parameters named `lst`, `start`, and `end`. \n",
    "The function should return a list where all elements in `lst` with an index between `start` and `end` (inclusive) have been removed.\n",
    "\n",
    "For example, the following code: \n",
    "\n",
    "```\n",
    "lst = [4, 8 , 15, 16, 23, 42] \n",
    "remove_middle(lst, start=1, end=3)\n",
    "``` \n",
    "\n",
    "should return `[4, 23, 42]` because elements at indices 1, 2, and 3 have been removed.\n",
    "\n",
    "Make sure that you test your function with at least two different inputs (`test1` and `test2`), and use `assert` statements to confirm your function works correctly."
   ]
  },
  {
   "cell_type": "code",
   "execution_count": 47,
   "id": "8707ca05-75a2-4768-ad50-429382030b7a",
   "metadata": {},
   "outputs": [],
   "source": [
    "def remove_middle(lst, start, end):\n",
    "\n",
    "    # Check to make sure the input is actually a list\n",
    "    # for now, pretend it is a list.\n",
    "\n",
    "    assert type(lst) == list, \"This is not the expected form, please enter a list!\"\n",
    "\n",
    "    # Remove all elements between start and end\n",
    "    new_list = []\n",
    "\n",
    "    for i in range(len(lst)):\n",
    "        # print(i)\n",
    "        if i <= start:\n",
    "            new_list.append(lst[i])\n",
    "\n",
    "        elif i > end:\n",
    "            new_list.append(lst[i])\n",
    "\n",
    "    # Returns a list\n",
    "\n",
    "    return new_list"
   ]
  },
  {
   "cell_type": "code",
   "execution_count": 48,
   "id": "e3ba5cb8-b3bf-423c-ac90-324b7510d478",
   "metadata": {},
   "outputs": [
    {
     "data": {
      "text/plain": [
       "[4, 8, 23, 42]"
      ]
     },
     "execution_count": 48,
     "metadata": {},
     "output_type": "execute_result"
    }
   ],
   "source": [
    "sample_list = [4, 8, 15, 16, 23, 42]\n",
    "\n",
    "remove_middle(sample_list, 1, 3)"
   ]
  },
  {
   "cell_type": "code",
   "execution_count": 49,
   "id": "5190f976-5303-4a0e-ba59-16f66ddb933a",
   "metadata": {},
   "outputs": [
    {
     "data": {
      "text/plain": [
       "[4, 8, 15, 16, 23, 42]"
      ]
     },
     "execution_count": 49,
     "metadata": {},
     "output_type": "execute_result"
    }
   ],
   "source": [
    "sample_list"
   ]
  },
  {
   "cell_type": "code",
   "execution_count": 50,
   "id": "47b3d0aa-1b6e-48f0-9e5a-644ac1411fab",
   "metadata": {},
   "outputs": [
    {
     "data": {
      "text/plain": [
       "list"
      ]
     },
     "execution_count": 50,
     "metadata": {},
     "output_type": "execute_result"
    }
   ],
   "source": [
    "type(sample_list)"
   ]
  },
  {
   "cell_type": "code",
   "execution_count": 51,
   "id": "552312a7-4822-4bfd-9aa7-d185403ebd5d",
   "metadata": {},
   "outputs": [
    {
     "ename": "AssertionError",
     "evalue": "This is not the expected form, please enter a list!",
     "output_type": "error",
     "traceback": [
      "\u001b[0;31m---------------------------------------------------------------------------\u001b[0m",
      "\u001b[0;31mAssertionError\u001b[0m                            Traceback (most recent call last)",
      "Input \u001b[0;32mIn [51]\u001b[0m, in \u001b[0;36m<cell line: 2>\u001b[0;34m()\u001b[0m\n\u001b[1;32m      1\u001b[0m \u001b[38;5;66;03m# This will return an error because of the assert statement\u001b[39;00m\n\u001b[0;32m----> 2\u001b[0m \u001b[43mremove_middle\u001b[49m\u001b[43m(\u001b[49m\u001b[43m(\u001b[49m\u001b[38;5;241;43m5\u001b[39;49m\u001b[43m,\u001b[49m\u001b[43m \u001b[49m\u001b[38;5;241;43m4\u001b[39;49m\u001b[43m,\u001b[49m\u001b[43m \u001b[49m\u001b[38;5;241;43m6\u001b[39;49m\u001b[43m,\u001b[49m\u001b[43m \u001b[49m\u001b[38;5;241;43m7\u001b[39;49m\u001b[43m,\u001b[49m\u001b[43m \u001b[49m\u001b[38;5;241;43m10\u001b[39;49m\u001b[43m)\u001b[49m\u001b[43m,\u001b[49m\u001b[43m \u001b[49m\u001b[38;5;241;43m1\u001b[39;49m\u001b[43m,\u001b[49m\u001b[43m \u001b[49m\u001b[38;5;241;43m3\u001b[39;49m\u001b[43m)\u001b[49m\n",
      "Input \u001b[0;32mIn [47]\u001b[0m, in \u001b[0;36mremove_middle\u001b[0;34m(lst, start, end)\u001b[0m\n\u001b[1;32m      1\u001b[0m \u001b[38;5;28;01mdef\u001b[39;00m \u001b[38;5;21mremove_middle\u001b[39m(lst, start, end):\n\u001b[1;32m      2\u001b[0m \n\u001b[1;32m      3\u001b[0m     \u001b[38;5;66;03m# Check to make sure the input is actually a list\u001b[39;00m\n\u001b[1;32m      4\u001b[0m     \u001b[38;5;66;03m# for now, pretend it is a list.\u001b[39;00m\n\u001b[0;32m----> 6\u001b[0m     \u001b[38;5;28;01massert\u001b[39;00m \u001b[38;5;28mtype\u001b[39m(lst) \u001b[38;5;241m==\u001b[39m \u001b[38;5;28mlist\u001b[39m, \u001b[38;5;124m\"\u001b[39m\u001b[38;5;124mThis is not the expected form, please enter a list!\u001b[39m\u001b[38;5;124m\"\u001b[39m\n\u001b[1;32m      8\u001b[0m     \u001b[38;5;66;03m# Remove all elements between start and end\u001b[39;00m\n\u001b[1;32m      9\u001b[0m     new_list \u001b[38;5;241m=\u001b[39m []\n",
      "\u001b[0;31mAssertionError\u001b[0m: This is not the expected form, please enter a list!"
     ]
    }
   ],
   "source": [
    "# This will return an error because of the assert statement\n",
    "remove_middle((5, 4, 6, 7, 10), 1, 3)"
   ]
  },
  {
   "cell_type": "code",
   "execution_count": 54,
   "id": "ffd67fb3-2bcb-42d2-8e2f-a6fe48a753e2",
   "metadata": {},
   "outputs": [
    {
     "ename": "AssertionError",
     "evalue": "There is something wrong with your function, please fix it!",
     "output_type": "error",
     "traceback": [
      "\u001b[0;31m---------------------------------------------------------------------------\u001b[0m",
      "\u001b[0;31mAssertionError\u001b[0m                            Traceback (most recent call last)",
      "Input \u001b[0;32mIn [54]\u001b[0m, in \u001b[0;36m<cell line: 5>\u001b[0;34m()\u001b[0m\n\u001b[1;32m      1\u001b[0m \u001b[38;5;66;03m# Assert statement to check output\u001b[39;00m\n\u001b[1;32m      3\u001b[0m remove_middle(sample_list, \u001b[38;5;241m1\u001b[39m, \u001b[38;5;241m3\u001b[39m)\n\u001b[0;32m----> 5\u001b[0m \u001b[38;5;28;01massert\u001b[39;00m remove_middle(sample_list, \u001b[38;5;241m1\u001b[39m, \u001b[38;5;241m3\u001b[39m) \u001b[38;5;241m==\u001b[39m [\u001b[38;5;241m4\u001b[39m,\u001b[38;5;241m23\u001b[39m,\u001b[38;5;241m42\u001b[39m], \u001b[38;5;124m\"\u001b[39m\u001b[38;5;124mThere is something wrong with your function, please fix it!\u001b[39m\u001b[38;5;124m\"\u001b[39m\n",
      "\u001b[0;31mAssertionError\u001b[0m: There is something wrong with your function, please fix it!"
     ]
    }
   ],
   "source": [
    "# Assert statement to check output\n",
    "\n",
    "remove_middle(sample_list, 1, 3)\n",
    "\n",
    "assert remove_middle(sample_list, 1, 3) == [\n",
    "    4,\n",
    "    23,\n",
    "    42,\n",
    "], \"There is something wrong with your function, please fix it!\""
   ]
  },
  {
   "cell_type": "code",
   "execution_count": 53,
   "id": "0a525593-b5c0-4526-b4cd-f228d76b2e49",
   "metadata": {},
   "outputs": [
    {
     "data": {
      "text/plain": [
       "[4, 8, 23, 42]"
      ]
     },
     "execution_count": 53,
     "metadata": {},
     "output_type": "execute_result"
    }
   ],
   "source": [
    "remove_middle(sample_list, 1, 3)"
   ]
  },
  {
   "cell_type": "code",
   "execution_count": null,
   "id": "efc9c015-bdc2-4965-a87a-e79999120d63",
   "metadata": {},
   "outputs": [],
   "source": []
  },
  {
   "cell_type": "markdown",
   "id": "cee5e9e6-1989-48a3-9390-ec1389270d39",
   "metadata": {},
   "source": [
    "## Another function:\n",
    "\n",
    "- Take in a list, return only numbers between 5 and 20 (not inclusive)\n",
    "- Call the function `exclude_numbers()`\n",
    "- return a list"
   ]
  },
  {
   "cell_type": "code",
   "execution_count": 70,
   "id": "6a36047f-a6da-4474-a184-6a40d9d14fe5",
   "metadata": {},
   "outputs": [
    {
     "data": {
      "text/plain": [
       "[4, 8, 15, 16, 23, 42]"
      ]
     },
     "execution_count": 70,
     "metadata": {},
     "output_type": "execute_result"
    }
   ],
   "source": [
    "sample_list"
   ]
  },
  {
   "cell_type": "code",
   "execution_count": 73,
   "id": "1929f595-c649-408b-84ad-1259dc33a7d1",
   "metadata": {},
   "outputs": [
    {
     "name": "stdout",
     "output_type": "stream",
     "text": [
      "The number 8 were between 5 and 20 and were excluded\n",
      "The number 15 were between 5 and 20 and were excluded\n",
      "The number 16 were between 5 and 20 and were excluded\n"
     ]
    },
    {
     "data": {
      "text/plain": [
       "[4, 23, 42]"
      ]
     },
     "execution_count": 73,
     "metadata": {},
     "output_type": "execute_result"
    }
   ],
   "source": [
    "exclude_numbers(sample_list)"
   ]
  },
  {
   "cell_type": "code",
   "execution_count": 71,
   "id": "f09043e2-a638-4a98-819d-7669082c7182",
   "metadata": {},
   "outputs": [
    {
     "name": "stdout",
     "output_type": "stream",
     "text": [
      "The number 8 were between 5 and 20 and were excluded\n",
      "The number 15 were between 5 and 20 and were excluded\n",
      "The number 16 were between 5 and 20 and were excluded\n"
     ]
    }
   ],
   "source": [
    "def exclude_numbers(lst):\n",
    "\n",
    "    new_list = []\n",
    "\n",
    "    for i in range(len(lst)):\n",
    "        if lst[i] < 5:\n",
    "            new_list.append(lst[i])\n",
    "        elif lst[i] > 20:\n",
    "            new_list.append(lst[i])\n",
    "        else:\n",
    "            print(f\"The number {lst[i]} were between 5 and 20 and were excluded\")\n",
    "    return new_list\n",
    "\n",
    "\n",
    "assert exclude_numbers(sample_list) == [\n",
    "    4,\n",
    "    23,\n",
    "    42,\n",
    "], \"There is something wrong with your function!\""
   ]
  },
  {
   "cell_type": "code",
   "execution_count": 60,
   "id": "97f5641a-6c19-4baa-b40c-5435d4294f59",
   "metadata": {},
   "outputs": [
    {
     "name": "stdout",
     "output_type": "stream",
     "text": [
      "The number 8 were between 5 and 20 and were excluded\n",
      "The number 15 were between 5 and 20 and were excluded\n",
      "The number 16 were between 5 and 20 and were excluded\n"
     ]
    },
    {
     "data": {
      "text/plain": [
       "[4, 23, 42]"
      ]
     },
     "execution_count": 60,
     "metadata": {},
     "output_type": "execute_result"
    }
   ],
   "source": [
    "exclude_numbers(sample_list)"
   ]
  },
  {
   "cell_type": "code",
   "execution_count": 72,
   "id": "4038f549-472b-429b-b40c-b31215f6d281",
   "metadata": {},
   "outputs": [
    {
     "name": "stdout",
     "output_type": "stream",
     "text": [
      "The number 4 were between 5 and 20 and were excluded\n",
      "The number 23 were between 5 and 20 and were excluded\n",
      "The number 42 were between 5 and 20 and were excluded\n"
     ]
    }
   ],
   "source": [
    "def exclude_numbers2(lst):\n",
    "\n",
    "    new_list = []\n",
    "\n",
    "    for i in range(len(lst)):\n",
    "        # this bit came from this SO answer: https://stackoverflow.com/a/13628825\n",
    "        if 5 < lst[i] < 20:\n",
    "            new_list.append(lst[i])\n",
    "\n",
    "        else:\n",
    "            print(f\"The number {lst[i]} were between 5 and 20 and were excluded\")\n",
    "    return new_list\n",
    "\n",
    "\n",
    "assert exclude_numbers2(sample_list) == [\n",
    "    8,\n",
    "    15,\n",
    "    16,\n",
    "], \"There is something wrong with your function!\""
   ]
  },
  {
   "cell_type": "code",
   "execution_count": 74,
   "id": "a33285e1-164b-48d3-88d9-91496109a919",
   "metadata": {},
   "outputs": [],
   "source": [
    "# Attempt 3: using list comprehension\n",
    "\n",
    "\n",
    "def exclude_numbers3(lst):\n",
    "\n",
    "    return [l for l in lst if 5 < l < 20]"
   ]
  },
  {
   "cell_type": "code",
   "execution_count": 75,
   "id": "4fd4a772-7ecb-47b3-8657-333b4ef3e95c",
   "metadata": {},
   "outputs": [
    {
     "data": {
      "text/plain": [
       "[8, 15, 16]"
      ]
     },
     "execution_count": 75,
     "metadata": {},
     "output_type": "execute_result"
    }
   ],
   "source": [
    "exclude_numbers3(sample_list)"
   ]
  },
  {
   "cell_type": "markdown",
   "id": "228a44f1-6b08-42db-9695-40e75b7d45ad",
   "metadata": {},
   "source": [
    "## Dictionary Comprehensions"
   ]
  },
  {
   "cell_type": "code",
   "execution_count": 80,
   "id": "269b14e5-ec0c-4afc-b234-c3f4b5561887",
   "metadata": {},
   "outputs": [],
   "source": [
    "sample = {\n",
    "    \"key1\": 5,\n",
    "    \"key2\": 10,\n",
    "    \"key3\": 15,\n",
    "    \"key4\": 20,\n",
    "    \"key5\": 10,\n",
    "    \"key6\": 5,\n",
    "    \"key7\": 0,\n",
    "}"
   ]
  },
  {
   "cell_type": "code",
   "execution_count": 81,
   "id": "9a44a3e3-6996-48be-ae20-20147996f2d4",
   "metadata": {},
   "outputs": [
    {
     "data": {
      "text/plain": [
       "{'key3': 1500, 'key4': 2000}"
      ]
     },
     "execution_count": 81,
     "metadata": {},
     "output_type": "execute_result"
    }
   ],
   "source": [
    "{jack: blue * 100 for (jack, blue) in sample.items() if blue > 10}"
   ]
  },
  {
   "cell_type": "code",
   "execution_count": 82,
   "id": "c322606b-d614-4c6e-b596-6d2af97e0e36",
   "metadata": {},
   "outputs": [
    {
     "name": "stdout",
     "output_type": "stream",
     "text": [
      "key1 5\n",
      "key2 10\n",
      "key3 15\n",
      "key4 20\n",
      "key5 10\n",
      "key6 5\n",
      "key7 0\n"
     ]
    }
   ],
   "source": [
    "# items iterates over the dictionary\n",
    "\n",
    "for k, v in sample.items():\n",
    "    print(k, v)"
   ]
  },
  {
   "cell_type": "markdown",
   "id": "c16a7044-2130-436f-a3e5-06734697b3ad",
   "metadata": {},
   "source": [
    "## Method Chaining"
   ]
  },
  {
   "cell_type": "code",
   "execution_count": 83,
   "id": "15709a89-1870-4fff-81f0-a0f5b365ecdd",
   "metadata": {},
   "outputs": [],
   "source": [
    "import seaborn as sns"
   ]
  },
  {
   "cell_type": "code",
   "execution_count": 86,
   "id": "6a8ac594-d806-4d99-b5ed-3a9abbd778e8",
   "metadata": {},
   "outputs": [
    {
     "data": {
      "text/html": [
       "<div>\n",
       "<style scoped>\n",
       "    .dataframe tbody tr th:only-of-type {\n",
       "        vertical-align: middle;\n",
       "    }\n",
       "\n",
       "    .dataframe tbody tr th {\n",
       "        vertical-align: top;\n",
       "    }\n",
       "\n",
       "    .dataframe thead th {\n",
       "        text-align: right;\n",
       "    }\n",
       "</style>\n",
       "<table border=\"1\" class=\"dataframe\">\n",
       "  <thead>\n",
       "    <tr style=\"text-align: right;\">\n",
       "      <th></th>\n",
       "      <th>method</th>\n",
       "      <th>number</th>\n",
       "      <th>orbital_period</th>\n",
       "      <th>mass</th>\n",
       "      <th>distance</th>\n",
       "      <th>year</th>\n",
       "    </tr>\n",
       "  </thead>\n",
       "  <tbody>\n",
       "    <tr>\n",
       "      <th>0</th>\n",
       "      <td>Radial Velocity</td>\n",
       "      <td>1</td>\n",
       "      <td>269.300</td>\n",
       "      <td>7.10</td>\n",
       "      <td>77.40</td>\n",
       "      <td>2006</td>\n",
       "    </tr>\n",
       "    <tr>\n",
       "      <th>1</th>\n",
       "      <td>Radial Velocity</td>\n",
       "      <td>1</td>\n",
       "      <td>874.774</td>\n",
       "      <td>2.21</td>\n",
       "      <td>56.95</td>\n",
       "      <td>2008</td>\n",
       "    </tr>\n",
       "    <tr>\n",
       "      <th>2</th>\n",
       "      <td>Radial Velocity</td>\n",
       "      <td>1</td>\n",
       "      <td>763.000</td>\n",
       "      <td>2.60</td>\n",
       "      <td>19.84</td>\n",
       "      <td>2011</td>\n",
       "    </tr>\n",
       "    <tr>\n",
       "      <th>3</th>\n",
       "      <td>Radial Velocity</td>\n",
       "      <td>1</td>\n",
       "      <td>326.030</td>\n",
       "      <td>19.40</td>\n",
       "      <td>110.62</td>\n",
       "      <td>2007</td>\n",
       "    </tr>\n",
       "    <tr>\n",
       "      <th>4</th>\n",
       "      <td>Radial Velocity</td>\n",
       "      <td>1</td>\n",
       "      <td>516.220</td>\n",
       "      <td>10.50</td>\n",
       "      <td>119.47</td>\n",
       "      <td>2009</td>\n",
       "    </tr>\n",
       "  </tbody>\n",
       "</table>\n",
       "</div>"
      ],
      "text/plain": [
       "            method  number  orbital_period   mass  distance  year\n",
       "0  Radial Velocity       1         269.300   7.10     77.40  2006\n",
       "1  Radial Velocity       1         874.774   2.21     56.95  2008\n",
       "2  Radial Velocity       1         763.000   2.60     19.84  2011\n",
       "3  Radial Velocity       1         326.030  19.40    110.62  2007\n",
       "4  Radial Velocity       1         516.220  10.50    119.47  2009"
      ]
     },
     "execution_count": 86,
     "metadata": {},
     "output_type": "execute_result"
    }
   ],
   "source": [
    "df = sns.load_dataset(\"planets\")\n",
    "\n",
    "df.head()"
   ]
  },
  {
   "cell_type": "code",
   "execution_count": 91,
   "id": "79842a2b-7aa3-4484-babf-9ad0c15f7f12",
   "metadata": {},
   "outputs": [
    {
     "data": {
      "text/plain": [
       "[1989,\n",
       " 1992,\n",
       " 1994,\n",
       " 1995,\n",
       " 1996,\n",
       " 1997,\n",
       " 1998,\n",
       " 1999,\n",
       " 2000,\n",
       " 2001,\n",
       " 2002,\n",
       " 2003,\n",
       " 2004,\n",
       " 2005,\n",
       " 2006,\n",
       " 2007,\n",
       " 2008,\n",
       " 2009,\n",
       " 2010,\n",
       " 2011,\n",
       " 2012,\n",
       " 2013,\n",
       " 2014]"
      ]
     },
     "execution_count": 91,
     "metadata": {},
     "output_type": "execute_result"
    }
   ],
   "source": [
    "sorted(df[\"year\"].unique())"
   ]
  },
  {
   "cell_type": "code",
   "execution_count": 96,
   "id": "5897c063-82d4-487d-a576-e0660db175cc",
   "metadata": {},
   "outputs": [
    {
     "data": {
      "text/html": [
       "<div>\n",
       "<style scoped>\n",
       "    .dataframe tbody tr th:only-of-type {\n",
       "        vertical-align: middle;\n",
       "    }\n",
       "\n",
       "    .dataframe tbody tr th {\n",
       "        vertical-align: top;\n",
       "    }\n",
       "\n",
       "    .dataframe thead th {\n",
       "        text-align: right;\n",
       "    }\n",
       "</style>\n",
       "<table border=\"1\" class=\"dataframe\">\n",
       "  <thead>\n",
       "    <tr style=\"text-align: right;\">\n",
       "      <th></th>\n",
       "      <th>method</th>\n",
       "      <th>number</th>\n",
       "      <th>orbital_period</th>\n",
       "      <th>mass</th>\n",
       "      <th>distance</th>\n",
       "      <th>year</th>\n",
       "    </tr>\n",
       "  </thead>\n",
       "  <tbody>\n",
       "    <tr>\n",
       "      <th>0</th>\n",
       "      <td>Radial Velocity</td>\n",
       "      <td>1</td>\n",
       "      <td>269.300000</td>\n",
       "      <td>7.10</td>\n",
       "      <td>77.40</td>\n",
       "      <td>2006</td>\n",
       "    </tr>\n",
       "    <tr>\n",
       "      <th>1</th>\n",
       "      <td>Radial Velocity</td>\n",
       "      <td>1</td>\n",
       "      <td>874.774000</td>\n",
       "      <td>2.21</td>\n",
       "      <td>56.95</td>\n",
       "      <td>2008</td>\n",
       "    </tr>\n",
       "    <tr>\n",
       "      <th>2</th>\n",
       "      <td>Radial Velocity</td>\n",
       "      <td>1</td>\n",
       "      <td>763.000000</td>\n",
       "      <td>2.60</td>\n",
       "      <td>19.84</td>\n",
       "      <td>2011</td>\n",
       "    </tr>\n",
       "    <tr>\n",
       "      <th>3</th>\n",
       "      <td>Radial Velocity</td>\n",
       "      <td>1</td>\n",
       "      <td>326.030000</td>\n",
       "      <td>19.40</td>\n",
       "      <td>110.62</td>\n",
       "      <td>2007</td>\n",
       "    </tr>\n",
       "    <tr>\n",
       "      <th>4</th>\n",
       "      <td>Radial Velocity</td>\n",
       "      <td>1</td>\n",
       "      <td>516.220000</td>\n",
       "      <td>10.50</td>\n",
       "      <td>119.47</td>\n",
       "      <td>2009</td>\n",
       "    </tr>\n",
       "    <tr>\n",
       "      <th>...</th>\n",
       "      <td>...</td>\n",
       "      <td>...</td>\n",
       "      <td>...</td>\n",
       "      <td>...</td>\n",
       "      <td>...</td>\n",
       "      <td>...</td>\n",
       "    </tr>\n",
       "    <tr>\n",
       "      <th>1030</th>\n",
       "      <td>Transit</td>\n",
       "      <td>1</td>\n",
       "      <td>3.941507</td>\n",
       "      <td>NaN</td>\n",
       "      <td>172.00</td>\n",
       "      <td>2006</td>\n",
       "    </tr>\n",
       "    <tr>\n",
       "      <th>1031</th>\n",
       "      <td>Transit</td>\n",
       "      <td>1</td>\n",
       "      <td>2.615864</td>\n",
       "      <td>NaN</td>\n",
       "      <td>148.00</td>\n",
       "      <td>2007</td>\n",
       "    </tr>\n",
       "    <tr>\n",
       "      <th>1032</th>\n",
       "      <td>Transit</td>\n",
       "      <td>1</td>\n",
       "      <td>3.191524</td>\n",
       "      <td>NaN</td>\n",
       "      <td>174.00</td>\n",
       "      <td>2007</td>\n",
       "    </tr>\n",
       "    <tr>\n",
       "      <th>1033</th>\n",
       "      <td>Transit</td>\n",
       "      <td>1</td>\n",
       "      <td>4.125083</td>\n",
       "      <td>NaN</td>\n",
       "      <td>293.00</td>\n",
       "      <td>2008</td>\n",
       "    </tr>\n",
       "    <tr>\n",
       "      <th>1034</th>\n",
       "      <td>Transit</td>\n",
       "      <td>1</td>\n",
       "      <td>4.187757</td>\n",
       "      <td>NaN</td>\n",
       "      <td>260.00</td>\n",
       "      <td>2008</td>\n",
       "    </tr>\n",
       "  </tbody>\n",
       "</table>\n",
       "<p>987 rows × 6 columns</p>\n",
       "</div>"
      ],
      "text/plain": [
       "               method  number  orbital_period   mass  distance  year\n",
       "0     Radial Velocity       1      269.300000   7.10     77.40  2006\n",
       "1     Radial Velocity       1      874.774000   2.21     56.95  2008\n",
       "2     Radial Velocity       1      763.000000   2.60     19.84  2011\n",
       "3     Radial Velocity       1      326.030000  19.40    110.62  2007\n",
       "4     Radial Velocity       1      516.220000  10.50    119.47  2009\n",
       "...               ...     ...             ...    ...       ...   ...\n",
       "1030          Transit       1        3.941507    NaN    172.00  2006\n",
       "1031          Transit       1        2.615864    NaN    148.00  2007\n",
       "1032          Transit       1        3.191524    NaN    174.00  2007\n",
       "1033          Transit       1        4.125083    NaN    293.00  2008\n",
       "1034          Transit       1        4.187757    NaN    260.00  2008\n",
       "\n",
       "[987 rows x 6 columns]"
      ]
     },
     "execution_count": 96,
     "metadata": {},
     "output_type": "execute_result"
    }
   ],
   "source": [
    "# only look at data from 2000 onwards:\n",
    "df[df[\"year\"] > 2000]\n",
    "\n",
    "# to verify:\n",
    "# df[df['year']>2000]['year'].unique()"
   ]
  },
  {
   "cell_type": "code",
   "execution_count": 99,
   "id": "14312a45-20f4-4828-a8c8-e84a6870ddc1",
   "metadata": {},
   "outputs": [
    {
     "data": {
      "text/plain": [
       "count       992.000000\n",
       "mean       2002.917596\n",
       "std       26014.728304\n",
       "min           0.090706\n",
       "25%           5.442540\n",
       "50%          39.979500\n",
       "75%         526.005000\n",
       "max      730000.000000\n",
       "Name: orbital_period, dtype: float64"
      ]
     },
     "execution_count": 99,
     "metadata": {},
     "output_type": "execute_result"
    }
   ],
   "source": [
    "df[\"orbital_period\"].describe()"
   ]
  },
  {
   "cell_type": "code",
   "execution_count": 103,
   "id": "72802412-021d-4ca0-b1f4-e047e711dc4f",
   "metadata": {},
   "outputs": [
    {
     "data": {
      "text/html": [
       "<div>\n",
       "<style scoped>\n",
       "    .dataframe tbody tr th:only-of-type {\n",
       "        vertical-align: middle;\n",
       "    }\n",
       "\n",
       "    .dataframe tbody tr th {\n",
       "        vertical-align: top;\n",
       "    }\n",
       "\n",
       "    .dataframe thead th {\n",
       "        text-align: right;\n",
       "    }\n",
       "</style>\n",
       "<table border=\"1\" class=\"dataframe\">\n",
       "  <thead>\n",
       "    <tr style=\"text-align: right;\">\n",
       "      <th></th>\n",
       "      <th>method</th>\n",
       "      <th>number</th>\n",
       "      <th>orbital_period</th>\n",
       "      <th>mass</th>\n",
       "      <th>distance</th>\n",
       "      <th>year</th>\n",
       "    </tr>\n",
       "  </thead>\n",
       "  <tbody>\n",
       "    <tr>\n",
       "      <th>16</th>\n",
       "      <td>Radial Velocity</td>\n",
       "      <td>1</td>\n",
       "      <td>4.230785</td>\n",
       "      <td>0.472</td>\n",
       "      <td>15.36</td>\n",
       "      <td>1995</td>\n",
       "    </tr>\n",
       "    <tr>\n",
       "      <th>17</th>\n",
       "      <td>Radial Velocity</td>\n",
       "      <td>5</td>\n",
       "      <td>14.651000</td>\n",
       "      <td>0.800</td>\n",
       "      <td>12.53</td>\n",
       "      <td>1996</td>\n",
       "    </tr>\n",
       "    <tr>\n",
       "      <th>20</th>\n",
       "      <td>Radial Velocity</td>\n",
       "      <td>5</td>\n",
       "      <td>0.736540</td>\n",
       "      <td>NaN</td>\n",
       "      <td>12.53</td>\n",
       "      <td>2011</td>\n",
       "    </tr>\n",
       "    <tr>\n",
       "      <th>22</th>\n",
       "      <td>Radial Velocity</td>\n",
       "      <td>3</td>\n",
       "      <td>4.215000</td>\n",
       "      <td>0.016</td>\n",
       "      <td>8.52</td>\n",
       "      <td>2009</td>\n",
       "    </tr>\n",
       "    <tr>\n",
       "      <th>23</th>\n",
       "      <td>Radial Velocity</td>\n",
       "      <td>3</td>\n",
       "      <td>38.021000</td>\n",
       "      <td>0.057</td>\n",
       "      <td>8.52</td>\n",
       "      <td>2009</td>\n",
       "    </tr>\n",
       "    <tr>\n",
       "      <th>...</th>\n",
       "      <td>...</td>\n",
       "      <td>...</td>\n",
       "      <td>...</td>\n",
       "      <td>...</td>\n",
       "      <td>...</td>\n",
       "      <td>...</td>\n",
       "    </tr>\n",
       "    <tr>\n",
       "      <th>1030</th>\n",
       "      <td>Transit</td>\n",
       "      <td>1</td>\n",
       "      <td>3.941507</td>\n",
       "      <td>NaN</td>\n",
       "      <td>172.00</td>\n",
       "      <td>2006</td>\n",
       "    </tr>\n",
       "    <tr>\n",
       "      <th>1031</th>\n",
       "      <td>Transit</td>\n",
       "      <td>1</td>\n",
       "      <td>2.615864</td>\n",
       "      <td>NaN</td>\n",
       "      <td>148.00</td>\n",
       "      <td>2007</td>\n",
       "    </tr>\n",
       "    <tr>\n",
       "      <th>1032</th>\n",
       "      <td>Transit</td>\n",
       "      <td>1</td>\n",
       "      <td>3.191524</td>\n",
       "      <td>NaN</td>\n",
       "      <td>174.00</td>\n",
       "      <td>2007</td>\n",
       "    </tr>\n",
       "    <tr>\n",
       "      <th>1033</th>\n",
       "      <td>Transit</td>\n",
       "      <td>1</td>\n",
       "      <td>4.125083</td>\n",
       "      <td>NaN</td>\n",
       "      <td>293.00</td>\n",
       "      <td>2008</td>\n",
       "    </tr>\n",
       "    <tr>\n",
       "      <th>1034</th>\n",
       "      <td>Transit</td>\n",
       "      <td>1</td>\n",
       "      <td>4.187757</td>\n",
       "      <td>NaN</td>\n",
       "      <td>260.00</td>\n",
       "      <td>2008</td>\n",
       "    </tr>\n",
       "  </tbody>\n",
       "</table>\n",
       "<p>496 rows × 6 columns</p>\n",
       "</div>"
      ],
      "text/plain": [
       "               method  number  orbital_period   mass  distance  year\n",
       "16    Radial Velocity       1        4.230785  0.472     15.36  1995\n",
       "17    Radial Velocity       5       14.651000  0.800     12.53  1996\n",
       "20    Radial Velocity       5        0.736540    NaN     12.53  2011\n",
       "22    Radial Velocity       3        4.215000  0.016      8.52  2009\n",
       "23    Radial Velocity       3       38.021000  0.057      8.52  2009\n",
       "...               ...     ...             ...    ...       ...   ...\n",
       "1030          Transit       1        3.941507    NaN    172.00  2006\n",
       "1031          Transit       1        2.615864    NaN    148.00  2007\n",
       "1032          Transit       1        3.191524    NaN    174.00  2007\n",
       "1033          Transit       1        4.125083    NaN    293.00  2008\n",
       "1034          Transit       1        4.187757    NaN    260.00  2008\n",
       "\n",
       "[496 rows x 6 columns]"
      ]
     },
     "execution_count": 103,
     "metadata": {},
     "output_type": "execute_result"
    }
   ],
   "source": [
    "# Task: exclude all the orbital periods over 40\n",
    "\n",
    "df[df[\"orbital_period\"] <= 40]\n",
    "\n",
    "# to verify:df[df['orbital_period']<=40]['orbital_period'].max()"
   ]
  },
  {
   "cell_type": "code",
   "execution_count": 106,
   "id": "3edd741d-3f34-44ae-869c-aee55f3fd993",
   "metadata": {},
   "outputs": [
    {
     "data": {
      "text/plain": [
       "Index(['method', 'number', 'orbital_period', 'mass', 'distance', 'year'], dtype='object')"
      ]
     },
     "execution_count": 106,
     "metadata": {},
     "output_type": "execute_result"
    }
   ],
   "source": [
    "# Task: rename column to something else\n",
    "\n",
    "df.columns"
   ]
  },
  {
   "cell_type": "code",
   "execution_count": 108,
   "id": "0c4d7d83-5aea-4d4f-8459-e8e1f59e34d7",
   "metadata": {},
   "outputs": [
    {
     "data": {
      "text/plain": [
       "['METHOD', 'NUMBER', 'ORBITAL_PERIOD', 'MASS', 'DISTANCE', 'YEAR']"
      ]
     },
     "execution_count": 108,
     "metadata": {},
     "output_type": "execute_result"
    }
   ],
   "source": [
    "# turns everything into upper case\n",
    "[c.upper() for c in df.columns]"
   ]
  },
  {
   "cell_type": "code",
   "execution_count": 112,
   "id": "d3c857f9-02ed-468d-9e3c-059a26a573ad",
   "metadata": {},
   "outputs": [
    {
     "data": {
      "text/plain": [
       "{'method': 'METHOD',\n",
       " 'number': 'NUMBER',\n",
       " 'orbital_period': 'ORBITAL_PERIOD',\n",
       " 'mass': 'MASS',\n",
       " 'distance': 'DISTANCE',\n",
       " 'year': 'YEAR'}"
      ]
     },
     "execution_count": 112,
     "metadata": {},
     "output_type": "execute_result"
    }
   ],
   "source": [
    "# dictionary comprehension\n",
    "{c: c.upper() for c in df.columns}"
   ]
  },
  {
   "cell_type": "code",
   "execution_count": 113,
   "id": "df7c1168-5561-466d-995d-077c038a7c65",
   "metadata": {},
   "outputs": [
    {
     "data": {
      "text/html": [
       "<div>\n",
       "<style scoped>\n",
       "    .dataframe tbody tr th:only-of-type {\n",
       "        vertical-align: middle;\n",
       "    }\n",
       "\n",
       "    .dataframe tbody tr th {\n",
       "        vertical-align: top;\n",
       "    }\n",
       "\n",
       "    .dataframe thead th {\n",
       "        text-align: right;\n",
       "    }\n",
       "</style>\n",
       "<table border=\"1\" class=\"dataframe\">\n",
       "  <thead>\n",
       "    <tr style=\"text-align: right;\">\n",
       "      <th></th>\n",
       "      <th>METHOD</th>\n",
       "      <th>NUMBER</th>\n",
       "      <th>ORBITAL_PERIOD</th>\n",
       "      <th>MASS</th>\n",
       "      <th>DISTANCE</th>\n",
       "      <th>YEAR</th>\n",
       "    </tr>\n",
       "  </thead>\n",
       "  <tbody>\n",
       "    <tr>\n",
       "      <th>0</th>\n",
       "      <td>Radial Velocity</td>\n",
       "      <td>1</td>\n",
       "      <td>269.300000</td>\n",
       "      <td>7.10</td>\n",
       "      <td>77.40</td>\n",
       "      <td>2006</td>\n",
       "    </tr>\n",
       "    <tr>\n",
       "      <th>1</th>\n",
       "      <td>Radial Velocity</td>\n",
       "      <td>1</td>\n",
       "      <td>874.774000</td>\n",
       "      <td>2.21</td>\n",
       "      <td>56.95</td>\n",
       "      <td>2008</td>\n",
       "    </tr>\n",
       "    <tr>\n",
       "      <th>2</th>\n",
       "      <td>Radial Velocity</td>\n",
       "      <td>1</td>\n",
       "      <td>763.000000</td>\n",
       "      <td>2.60</td>\n",
       "      <td>19.84</td>\n",
       "      <td>2011</td>\n",
       "    </tr>\n",
       "    <tr>\n",
       "      <th>3</th>\n",
       "      <td>Radial Velocity</td>\n",
       "      <td>1</td>\n",
       "      <td>326.030000</td>\n",
       "      <td>19.40</td>\n",
       "      <td>110.62</td>\n",
       "      <td>2007</td>\n",
       "    </tr>\n",
       "    <tr>\n",
       "      <th>4</th>\n",
       "      <td>Radial Velocity</td>\n",
       "      <td>1</td>\n",
       "      <td>516.220000</td>\n",
       "      <td>10.50</td>\n",
       "      <td>119.47</td>\n",
       "      <td>2009</td>\n",
       "    </tr>\n",
       "    <tr>\n",
       "      <th>...</th>\n",
       "      <td>...</td>\n",
       "      <td>...</td>\n",
       "      <td>...</td>\n",
       "      <td>...</td>\n",
       "      <td>...</td>\n",
       "      <td>...</td>\n",
       "    </tr>\n",
       "    <tr>\n",
       "      <th>1030</th>\n",
       "      <td>Transit</td>\n",
       "      <td>1</td>\n",
       "      <td>3.941507</td>\n",
       "      <td>NaN</td>\n",
       "      <td>172.00</td>\n",
       "      <td>2006</td>\n",
       "    </tr>\n",
       "    <tr>\n",
       "      <th>1031</th>\n",
       "      <td>Transit</td>\n",
       "      <td>1</td>\n",
       "      <td>2.615864</td>\n",
       "      <td>NaN</td>\n",
       "      <td>148.00</td>\n",
       "      <td>2007</td>\n",
       "    </tr>\n",
       "    <tr>\n",
       "      <th>1032</th>\n",
       "      <td>Transit</td>\n",
       "      <td>1</td>\n",
       "      <td>3.191524</td>\n",
       "      <td>NaN</td>\n",
       "      <td>174.00</td>\n",
       "      <td>2007</td>\n",
       "    </tr>\n",
       "    <tr>\n",
       "      <th>1033</th>\n",
       "      <td>Transit</td>\n",
       "      <td>1</td>\n",
       "      <td>4.125083</td>\n",
       "      <td>NaN</td>\n",
       "      <td>293.00</td>\n",
       "      <td>2008</td>\n",
       "    </tr>\n",
       "    <tr>\n",
       "      <th>1034</th>\n",
       "      <td>Transit</td>\n",
       "      <td>1</td>\n",
       "      <td>4.187757</td>\n",
       "      <td>NaN</td>\n",
       "      <td>260.00</td>\n",
       "      <td>2008</td>\n",
       "    </tr>\n",
       "  </tbody>\n",
       "</table>\n",
       "<p>1035 rows × 6 columns</p>\n",
       "</div>"
      ],
      "text/plain": [
       "               METHOD  NUMBER  ORBITAL_PERIOD   MASS  DISTANCE  YEAR\n",
       "0     Radial Velocity       1      269.300000   7.10     77.40  2006\n",
       "1     Radial Velocity       1      874.774000   2.21     56.95  2008\n",
       "2     Radial Velocity       1      763.000000   2.60     19.84  2011\n",
       "3     Radial Velocity       1      326.030000  19.40    110.62  2007\n",
       "4     Radial Velocity       1      516.220000  10.50    119.47  2009\n",
       "...               ...     ...             ...    ...       ...   ...\n",
       "1030          Transit       1        3.941507    NaN    172.00  2006\n",
       "1031          Transit       1        2.615864    NaN    148.00  2007\n",
       "1032          Transit       1        3.191524    NaN    174.00  2007\n",
       "1033          Transit       1        4.125083    NaN    293.00  2008\n",
       "1034          Transit       1        4.187757    NaN    260.00  2008\n",
       "\n",
       "[1035 rows x 6 columns]"
      ]
     },
     "execution_count": 113,
     "metadata": {},
     "output_type": "execute_result"
    }
   ],
   "source": [
    "df.rename(columns={c: c.upper() for c in df.columns})"
   ]
  },
  {
   "cell_type": "code",
   "execution_count": 137,
   "id": "24e7b929-e78c-4b1c-a8c4-b5714b775427",
   "metadata": {},
   "outputs": [],
   "source": [
    "import numpy as np"
   ]
  },
  {
   "cell_type": "code",
   "execution_count": 142,
   "id": "375c88f6-86f1-4599-9374-69682bd02cf3",
   "metadata": {},
   "outputs": [
    {
     "data": {
      "text/plain": [
       "array([47, 25, 12, 47, 25,  5,  5, 39, 33,  2, 46, 49,  5,  2, 20, 44, 37,\n",
       "       15, 37, 45, 41, 22, 32, 38, 16, 47, 49, 49, 14, 17, 15, 44, 48, 34,\n",
       "       46, 37, 13, 32, 32, 44, 20, 20, 10, 45, 16, 47,  9, 25, 42,  6])"
      ]
     },
     "execution_count": 142,
     "metadata": {},
     "output_type": "execute_result"
    }
   ],
   "source": [
    "a = np.random.randint(50, size=50)\n",
    "a"
   ]
  },
  {
   "cell_type": "code",
   "execution_count": 145,
   "id": "f6ad78c6-3e98-415f-9db5-8825d22090d5",
   "metadata": {},
   "outputs": [
    {
     "data": {
      "text/plain": [
       "array(['Odd', 'Odd', 'Even', 'Odd', 'Odd', 'Odd', 'Odd', 'Odd', 'Odd',\n",
       "       'Even', 'Even', 'Odd', 'Odd', 'Even', 'Even', 'Even', 'Odd', 'Odd',\n",
       "       'Odd', 'Odd', 'Odd', 'Even', 'Even', 'Even', 'Even', 'Odd', 'Odd',\n",
       "       'Odd', 'Even', 'Odd', 'Odd', 'Even', 'Even', 'Even', 'Even', 'Odd',\n",
       "       'Odd', 'Even', 'Even', 'Even', 'Even', 'Even', 'Even', 'Odd',\n",
       "       'Even', 'Odd', 'Odd', 'Odd', 'Even', 'Even'], dtype='<U4')"
      ]
     },
     "execution_count": 145,
     "metadata": {},
     "output_type": "execute_result"
    }
   ],
   "source": [
    "np.where(a % 2 == 0, \"Even\", \"Odd\")"
   ]
  },
  {
   "cell_type": "code",
   "execution_count": 156,
   "id": "9bdbc08e-f04c-40aa-9a1c-cf1a2824e275",
   "metadata": {},
   "outputs": [
    {
     "data": {
      "text/html": [
       "<div>\n",
       "<style scoped>\n",
       "    .dataframe tbody tr th:only-of-type {\n",
       "        vertical-align: middle;\n",
       "    }\n",
       "\n",
       "    .dataframe tbody tr th {\n",
       "        vertical-align: top;\n",
       "    }\n",
       "\n",
       "    .dataframe thead th {\n",
       "        text-align: right;\n",
       "    }\n",
       "</style>\n",
       "<table border=\"1\" class=\"dataframe\">\n",
       "  <thead>\n",
       "    <tr style=\"text-align: right;\">\n",
       "      <th></th>\n",
       "      <th>METHOD</th>\n",
       "      <th>ORBITAL_PERIOD</th>\n",
       "      <th>MASS</th>\n",
       "      <th>DISTANCE</th>\n",
       "      <th>YEAR</th>\n",
       "      <th>test_column</th>\n",
       "    </tr>\n",
       "  </thead>\n",
       "  <tbody>\n",
       "    <tr>\n",
       "      <th>20</th>\n",
       "      <td>Radial Velocity</td>\n",
       "      <td>0.73654</td>\n",
       "      <td>NaN</td>\n",
       "      <td>12.53</td>\n",
       "      <td>2011</td>\n",
       "      <td>big</td>\n",
       "    </tr>\n",
       "    <tr>\n",
       "      <th>22</th>\n",
       "      <td>Radial Velocity</td>\n",
       "      <td>4.21500</td>\n",
       "      <td>0.0160</td>\n",
       "      <td>8.52</td>\n",
       "      <td>2009</td>\n",
       "      <td>small</td>\n",
       "    </tr>\n",
       "    <tr>\n",
       "      <th>23</th>\n",
       "      <td>Radial Velocity</td>\n",
       "      <td>38.02100</td>\n",
       "      <td>0.0570</td>\n",
       "      <td>8.52</td>\n",
       "      <td>2009</td>\n",
       "      <td>small</td>\n",
       "    </tr>\n",
       "    <tr>\n",
       "      <th>46</th>\n",
       "      <td>Radial Velocity</td>\n",
       "      <td>3.23570</td>\n",
       "      <td>0.0036</td>\n",
       "      <td>1.35</td>\n",
       "      <td>2012</td>\n",
       "      <td>small</td>\n",
       "    </tr>\n",
       "    <tr>\n",
       "      <th>79</th>\n",
       "      <td>Radial Velocity</td>\n",
       "      <td>5.60000</td>\n",
       "      <td>0.0450</td>\n",
       "      <td>42.09</td>\n",
       "      <td>2009</td>\n",
       "      <td>big</td>\n",
       "    </tr>\n",
       "  </tbody>\n",
       "</table>\n",
       "</div>"
      ],
      "text/plain": [
       "             METHOD  ORBITAL_PERIOD    MASS  DISTANCE  YEAR test_column\n",
       "20  Radial Velocity         0.73654     NaN     12.53  2011         big\n",
       "22  Radial Velocity         4.21500  0.0160      8.52  2009       small\n",
       "23  Radial Velocity        38.02100  0.0570      8.52  2009       small\n",
       "46  Radial Velocity         3.23570  0.0036      1.35  2012       small\n",
       "79  Radial Velocity         5.60000  0.0450     42.09  2009         big"
      ]
     },
     "execution_count": 156,
     "metadata": {},
     "output_type": "execute_result"
    }
   ],
   "source": [
    "df = sns.load_dataset(\"planets\")\n",
    "\n",
    "\n",
    "df = (\n",
    "    df.loc[lambda x: x[\"year\"] > 2000]\n",
    "    .loc[lambda x: x[\"orbital_period\"] < 40]\n",
    "    .assign(test_column=lambda x: np.where(x[\"distance\"] > 12, \"big\", \"small\"))\n",
    "    .drop([\"number\"], axis=1)\n",
    "    .rename(columns={c: c.upper() for c in df.columns})\n",
    ")\n",
    "\n",
    "df.head()"
   ]
  },
  {
   "cell_type": "code",
   "execution_count": null,
   "id": "39a07d84-d704-4995-853a-b63bc26e82c3",
   "metadata": {},
   "outputs": [],
   "source": []
  }
 ],
 "metadata": {
  "kernelspec": {
   "display_name": "Python 3 (ipykernel)",
   "language": "python",
   "name": "python3"
  },
  "language_info": {
   "codemirror_mode": {
    "name": "ipython",
    "version": 3
   },
   "file_extension": ".py",
   "mimetype": "text/x-python",
   "name": "python",
   "nbconvert_exporter": "python",
   "pygments_lexer": "ipython3",
   "version": "3.10.2"
  }
 },
 "nbformat": 4,
 "nbformat_minor": 5
}
