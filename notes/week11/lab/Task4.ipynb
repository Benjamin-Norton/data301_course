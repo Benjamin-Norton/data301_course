{
 "cells": [
  {
   "cell_type": "markdown",
   "metadata": {},
   "source": [
    "# Task 4: Method Chaining"
   ]
  },
  {
   "cell_type": "code",
   "execution_count": 3,
   "metadata": {},
   "outputs": [],
   "source": [
    "import pandas as pd\n",
    "import numpy as np\n",
    "import matplotlib.pyplot as plt\n",
    "import seaborn as sns"
   ]
  },
  {
   "cell_type": "markdown",
   "metadata": {},
   "source": [
    "## Method Chaining"
   ]
  },
  {
   "cell_type": "markdown",
   "metadata": {},
   "source": [
    "Method chaining allows you to apply multiple processing steps to your dataframe in a fewer lines of code so it is more readable. You should avoid having too many methods in your chain, as the more you have in a single chain, the harder it is to debug or troubleshoot. I would target about 5 methods in a chain, though this is a flexible suggestion and you should do what makes your analysis the most readable and group your chains based on their purpose (e.g., loading/cleaning, processing, etc…).\n",
    "\n",
    "**Note: See Milestone 3 for a more thorough description of method chaining.**"
   ]
  },
  {
   "cell_type": "markdown",
   "metadata": {},
   "source": [
    "## Load Dataset from Task 2 \n",
    "Since we are working in a new Jupyter Notebook, the first task is to import the CSV dataset (**data/task2.csv**) we saved in Task 2. "
   ]
  },
  {
   "cell_type": "code",
   "execution_count": 4,
   "metadata": {},
   "outputs": [],
   "source": [
    "# Your Solution here"
   ]
  },
  {
   "cell_type": "markdown",
   "metadata": {},
   "source": [
    "### 4.1. Create a Method Chain on the cleaning/wrangling/processing steps from sections Task 2.5.1, 2.5.2, 2.5.3, 2.5.4, 2.5.5.\n",
    "\n",
    "You should write \"one method chain\" that does all these commands:\n",
    "\n",
    "- 2.5.1. Drop the 'Generation', 'Sp. Atk', 'Sp. Def', 'Total', and the '#' columns\n",
    "- 2.5.2. Drop any NaN values in HP, Attack, Defense, Speed\n",
    "- 2.5.3. Reset the index to get a new index without missing values\n",
    "- 2.5.4. A new column was added called `index`; remove it. \n",
    "- 2.5.5. Calculate a new column called \"Weighted Score\" that computes an aggregate score comprising:\n",
    "    - 20% 'HP'\n",
    "    - 40% 'Attack'\n",
    "    - 30% 'Defense'\n",
    "    - 10% 'Speed'"
   ]
  },
  {
   "cell_type": "code",
   "execution_count": 5,
   "metadata": {},
   "outputs": [],
   "source": [
    "# Your Solution here"
   ]
  },
  {
   "cell_type": "markdown",
   "metadata": {},
   "source": [
    "### 4.2. Create a second Method Chain to do the tasks below:\n",
    "\n",
    "1. Remove all Pokémon 6th generation and above.\n",
    "2. Remove the Legendary column.\n",
    "3. Remove all rows that contain \"Forme\", a special form of Pokémon.\n",
    "4. Remove all rows that contain \"Mega\", another weird special form of Pokémon.\n",
    "\n",
    "**Hint: You will need to use the [.loc](https://towardsdatascience.com/effective-data-filtering-in-pandas-using-loc-40eb815455b6) in combination with the anonymous function lambda.**"
   ]
  },
  {
   "cell_type": "code",
   "execution_count": 18,
   "metadata": {},
   "outputs": [],
   "source": [
    "# Your Solution here"
   ]
  }
 ],
 "metadata": {
  "kernelspec": {
   "display_name": "Python 3 (ipykernel)",
   "language": "python",
   "name": "python3"
  },
  "language_info": {
   "codemirror_mode": {
    "name": "ipython",
    "version": 3
   },
   "file_extension": ".py",
   "mimetype": "text/x-python",
   "name": "python",
   "nbconvert_exporter": "python",
   "pygments_lexer": "ipython3",
   "version": "3.9.7"
  },
  "nteract": {
   "version": "0.28.0"
  }
 },
 "nbformat": 4,
 "nbformat_minor": 4
}
