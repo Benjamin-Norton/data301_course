{
 "cells": [
  {
   "cell_type": "markdown",
   "metadata": {
    "slideshow": {
     "slide_type": "slide"
    }
   },
   "source": [
    "# Class 1A - Introduction to Data 301\n",
    "\n",
    "Welcome!\n",
    "\n",
    "<img src=\"https://64.media.tumblr.com/bc724cad58146233fcac4071dd2ff0c5/tumblr_nornfbfo8E1qhub34o1_400.gifv\" width=1000>"
   ]
  },
  {
   "cell_type": "markdown",
   "metadata": {
    "slideshow": {
     "slide_type": "slide"
    }
   },
   "source": [
    "## About Me"
   ]
  },
  {
   "cell_type": "markdown",
   "metadata": {
    "slideshow": {
     "slide_type": "subslide"
    }
   },
   "source": [
    "<img src=\"images/about1.png\">"
   ]
  },
  {
   "cell_type": "markdown",
   "metadata": {
    "slideshow": {
     "slide_type": "subslide"
    }
   },
   "source": [
    "<img src=\"images/thesis.png\">"
   ]
  },
  {
   "cell_type": "markdown",
   "metadata": {
    "slideshow": {
     "slide_type": "subslide"
    }
   },
   "source": [
    "<img src=\"images/about2.png\">"
   ]
  },
  {
   "cell_type": "markdown",
   "metadata": {
    "slideshow": {
     "slide_type": "slide"
    }
   },
   "source": [
    "## Essence of this course"
   ]
  },
  {
   "cell_type": "markdown",
   "metadata": {
    "slideshow": {
     "slide_type": "fragment"
    }
   },
   "source": [
    "The overall goal of this course is for you to: \n",
    "> Understand data analytics and be able to apply data analysis to data sets using a variety of software tools and techniques."
   ]
  },
  {
   "cell_type": "markdown",
   "metadata": {
    "slideshow": {
     "slide_type": "fragment"
    }
   },
   "source": [
    "* The most exciting aspect of data analytics is discovering and presenting useful data/information that can have an impact on business, society, etc."
   ]
  },
  {
   "cell_type": "markdown",
   "metadata": {
    "slideshow": {
     "slide_type": "fragment"
    }
   },
   "source": [
    "* This course will provide the tools and skills for you to perform your own data analysis when encountering problems in the real-world."
   ]
  },
  {
   "cell_type": "markdown",
   "metadata": {
    "slideshow": {
     "slide_type": "fragment"
    }
   },
   "source": [
    "* As an introductory course, the goal is to get exposure to the skills and techniques as there will not be time for mastery."
   ]
  },
  {
   "cell_type": "markdown",
   "metadata": {
    "slideshow": {
     "slide_type": "slide"
    }
   },
   "source": [
    "## An Introduction to Data Analytics"
   ]
  },
  {
   "cell_type": "markdown",
   "metadata": {
    "slideshow": {
     "slide_type": "subslide"
    }
   },
   "source": [
    "### Data Analysis vs Data Analytics"
   ]
  },
  {
   "cell_type": "markdown",
   "metadata": {
    "slideshow": {
     "slide_type": "subslide"
    }
   },
   "source": [
    "> **Data Analysis**:\\\n",
    "*Data analysis* is the processing of data to yield useful insights or knowledge."
   ]
  },
  {
   "cell_type": "markdown",
   "metadata": {
    "slideshow": {
     "slide_type": "fragment"
    }
   },
   "source": [
    "> **Data Analytics**:\\\n",
    "*Data Analytics* is the science of examining raw data with the purpose of drawing conclusions about that information."
   ]
  },
  {
   "cell_type": "markdown",
   "metadata": {
    "slideshow": {
     "slide_type": "fragment"
    }
   },
   "source": [
    "- The distinction between data analysis and analytics is blurry to say the least  (even [Wikipedia](https://en.wikipedia.org/wiki/Analytics#Analytics_vs._analysis) is confused)."
   ]
  },
  {
   "cell_type": "markdown",
   "metadata": {
    "slideshow": {
     "slide_type": "fragment"
    }
   },
   "source": [
    "- [One source](https://www.getsmarter.com/blog/career-advice/difference-data-analytics-data-analysis/) \n",
    "might say that data analysis is a subcomponent of data analytics, while [another source](https://www.quora.com/What-is-the-difference-between-Analytics-and-analysis-data-analytics) says data analytics is a sub-component of data analysis."
   ]
  },
  {
   "cell_type": "markdown",
   "metadata": {
    "slideshow": {
     "slide_type": "fragment"
    }
   },
   "source": [
    "- I like to think of data analysis as the method (ie action) whereas data analytics are tools used to do so.\n",
    "Analytics is supported by many tools such as Git, Python, Tableau, Microsoft Excel all of which we will talk about in this course."
   ]
  },
  {
   "cell_type": "markdown",
   "metadata": {
    "slideshow": {
     "slide_type": "fragment"
    }
   },
   "source": [
    "- There are many other popular tools in Data Analytics such as Microsoft Access, SQL, Docker, and others which we won't talk much about in this course, but I will provide you some resources and references if you would like to learn more about this."
   ]
  },
  {
   "cell_type": "markdown",
   "metadata": {
    "slideshow": {
     "slide_type": "subslide"
    }
   },
   "source": [
    "### Why is Data Analytics important?\n",
    "***Data analytics*** is important as society is collecting more and larger data sets all the time:\n",
    "\n",
    "- **Web** All web pages visited and links clicked, searches made, images and posts\n",
    "- **Business** Items purchased by date, supply chain/customers, industrial sensors\n",
    "- **Science** Massive data sets (biological/genomic, astronomy, physics, healthcare)\n",
    "- **Environmental** Sensors and monitors (temperature, etc.)"
   ]
  },
  {
   "cell_type": "markdown",
   "metadata": {
    "slideshow": {
     "slide_type": "fragment"
    }
   },
   "source": [
    "Transforming this raw data into useful insights has major value:\n",
    "- **Web** Online advertising driven by understanding customer behaviour; \n",
    "[tailored google searches](https://microarts.com/insights/why-googles-search-results-vary-from-person-to-person/), \n",
    "[Google Analytics](https://analytics.google.com/analytics/web/provision/?authuser=0#/provision)\n",
    "- **Business** [Sales predictions](https://channels.theinnovationenterprise.com/articles/how-sales-teams-are-using-predictive-analytics), marketing promotions, manufacturing improvement\n",
    "- **Science** Scientific discoveries, new medical treatments and drugs; see some [examples](https://www.datapine.com/blog/big-data-examples-in-healthcare/) in healthcare.\n",
    "- **Environmental** Understanding of environmental processes to allow for changing policies and behaviours, eg [Institute of Environmental Analytics](https://www.the-iea.org/what-we-do/)"
   ]
  },
  {
   "cell_type": "markdown",
   "metadata": {
    "slideshow": {
     "slide_type": "subslide"
    }
   },
   "source": [
    "### What is a Data Analyst?\n",
    "\n",
    "> **Data analyst** \\\n",
    "A *data analyst* is a person who uses tools and applications to transform raw data into a form that will be useful."
   ]
  },
  {
   "cell_type": "markdown",
   "metadata": {
    "slideshow": {
     "slide_type": "fragment"
    }
   },
   "source": [
    "- Vital in a “data-driven” world with larger and more critical data sets.\n",
    "- The first step in data analysis is often ***data collection/ munging/ processing*** which involves finding, loading, cleaning,\n",
    "manipulating, transforming, and visualizing the data.\n",
    "- The knowledge may be used for scientific discovery, business decision-making, or a variety of other applications."
   ]
  },
  {
   "cell_type": "markdown",
   "metadata": {
    "slideshow": {
     "slide_type": "subslide"
    }
   },
   "source": [
    "### Data Analytics Toolkit\n",
    "- A data analyst has expertise in programming, statistics, data munging (transformation), and data visualization.\n",
    "- In this course, you will be introduced to severals tools for gaining competency in each of these skills.\n",
    "- As an introductory course, the goal is to get exposure to the skills and techniques as there will not be time for mastery.\n",
    "- This toolkit of systems and techniques will be useful in many jobs even if they are not considered data analyst positions."
   ]
  },
  {
   "cell_type": "markdown",
   "metadata": {
    "slideshow": {
     "slide_type": "subslide"
    }
   },
   "source": [
    "### Why is Data Analytics important?\n",
    "- 90% of the worlds data have been generated over the last two years \n",
    "[Forbes Magazine](https://www.forbes.com/sites/louiscolumbus/2017/12/11/linkedins-fastest-growing-jobs-today-are-in-data-science-machine-learning/#6f8d4d7b51bd).\n",
    "- In 2017, Machine Learning Engineers, Data Scientists, and Big Data Engineers ranked among the top emerging jobs on LinkedIn \n",
    "[Forbes Magazine](https://www.forbes.com/sites/louiscolumbus/2017/12/11/linkedins-fastest-growing-jobs-today-are-in-data-science-machine-learning/#4e8d9a9251bd).\n",
    "- In 2012 was Data Scientist dubbed the sexiest job of the 21st Century by \n",
    "[Harvard Business Review](https://hbr.org/2012/10/data-scientist-the-sexiest-job-of-the-21st-century).\n",
    "- An estimated 2.7 million job postings for Data Analytics and Data Science are projected in the United States by 2020 [IBM](https://www.ibm.com/downloads/cas/3RL3VXGA)."
   ]
  },
  {
   "cell_type": "markdown",
   "metadata": {
    "slideshow": {
     "slide_type": "subslide"
    }
   },
   "source": [
    "### Massive Growth of Data - “Big Data”\n",
    "Data facts from Forbes Magazine, May 21, 2018 \n",
    "[Forbes](https://www.forbes.com/sites/bernardmarr/2018/05/21/how-much-data-do-we-create-every-day-the-mind-blowing-stats-everyone-should-read/#27ff4eec60ba)\n",
    "- An estimated 2.5 quintillion bytes (2.5 EB) generated per day.\n",
    "- Google processes about 3.5 billion requests/day and stores about 10 EB of data.\n",
    "- Facebook collects 500 TBs/day (⇠2.5 billion items) and stores 100+ PB of photos.\n",
    "\n",
    "See [here](https://web-assets.domo.com/blog/wp-content/uploads/2017/07/17_domo_data-never-sleeps-5-01.png) on how much data is generated every minute\n",
    "- Users watch 4,146,600 videos every minute on YouTube\n",
    "- Intagram users post 46,740 photos every minute."
   ]
  },
  {
   "cell_type": "markdown",
   "metadata": {
    "slideshow": {
     "slide_type": "subslide"
    }
   },
   "source": [
    "### Related terms\n",
    "\n",
    "Other terms that may add confusion to these definitions are...\n",
    "\n",
    "- ***Data Science*** is a field comprising everything relating to data cleansing, preparation, and analysis. This umbrella term encompasses data analytics, data mining, machine learning, and several other related disciplines."
   ]
  },
  {
   "cell_type": "markdown",
   "metadata": {
    "slideshow": {
     "slide_type": "fragment"
    }
   },
   "source": [
    "- ***Big Data*** usually refers to immense volumes of data that inhibits the use of traditional data-processing applications."
   ]
  },
  {
   "cell_type": "markdown",
   "metadata": {
    "slideshow": {
     "slide_type": "fragment"
    }
   },
   "source": [
    "- See [this](https://www.simplilearn.com/data-science-vs-big-data-vs-data-analytics-article) article for more on the differences between Data Science, Big Data, and Data Analytics. "
   ]
  },
  {
   "cell_type": "markdown",
   "metadata": {
    "slideshow": {
     "slide_type": "fragment"
    }
   },
   "source": [
    "- I wouldn't worry about terms and definitions too much! Just learn the skills, and let others worry about the labels...\n",
    "\n",
    "<img src=\"https://thejenkinscomic.files.wordpress.com/2020/11/screenshot-1044.png\" width=800>\n",
    "\n",
    "Source: [The Jenkins Comic](https://thejenkinscomic.wordpress.com/2020/11/19/labels/)"
   ]
  },
  {
   "cell_type": "markdown",
   "metadata": {
    "slideshow": {
     "slide_type": "subslide"
    }
   },
   "source": [
    "## Why is this course important?\n",
    "- For many of you, this will be your first exposure to programming and data analytics.\n",
    "- Regardless of your discipline, the tools you develop throughout this course will train you to think analytically and creatively.\n",
    "- Beyond University, many professional jobs of the future will involve collecting, manipulating, and analyzing data.\n",
    "- People who can understand how data can be used will have better employment opportunities."
   ]
  },
  {
   "cell_type": "markdown",
   "metadata": {
    "slideshow": {
     "slide_type": "fragment"
    }
   },
   "source": [
    "Important skills you may learn in this course:\n",
    "- **Excel Proficiency**: for general data analysis and productivity.\n",
    "- **Programming and Computational Thinking**: Critical thinking and the ability to clearly articulate a problem in a systematic way has applications beyond data analytics.\n",
    "- **Data visualization**: how to display and convey information in a meaningful way.\n",
    "- **Real-world problem solving**: learn to tackle real-world data analysis problems and understand when to use what tool."
   ]
  },
  {
   "cell_type": "markdown",
   "metadata": {
    "slideshow": {
     "slide_type": "fragment"
    }
   },
   "source": [
    "**Optional, resources provided if you're interested**\n",
    "- **Databases**: Understand how they work and how to use them.\n",
    "- **Applied Statistics**: Using R and other software makes your statistics training useful for real-world problems."
   ]
  },
  {
   "cell_type": "markdown",
   "metadata": {
    "slideshow": {
     "slide_type": "subslide"
    }
   },
   "source": [
    "## What will I learn in this course?"
   ]
  },
  {
   "cell_type": "markdown",
   "metadata": {
    "slideshow": {
     "slide_type": "fragment"
    }
   },
   "source": [
    "1. Understand data representation formats and techniques and how to use them."
   ]
  },
  {
   "cell_type": "markdown",
   "metadata": {
    "slideshow": {
     "slide_type": "fragment"
    }
   },
   "source": [
    "2. Work with large datasets and learn to manipulate them programmatically."
   ]
  },
  {
   "cell_type": "markdown",
   "metadata": {
    "slideshow": {
     "slide_type": "fragment"
    }
   },
   "source": [
    "3. Experience using a wide-range of data analytics tools including Excel, Git, Python, Pandas, Tableau, and other visualization packages and software."
   ]
  },
  {
   "cell_type": "markdown",
   "metadata": {
    "slideshow": {
     "slide_type": "fragment"
    }
   },
   "source": [
    "4. Develop a computational thinking approach to problem-solving and use programs to solve data tasks."
   ]
  },
  {
   "cell_type": "markdown",
   "metadata": {
    "slideshow": {
     "slide_type": "subslide"
    }
   },
   "source": [
    "## Why should You take this course?"
   ]
  },
  {
   "cell_type": "markdown",
   "metadata": {
    "slideshow": {
     "slide_type": "fragment"
    }
   },
   "source": [
    "- This course is one of my favourite courses to teach at UBCO!\n",
    "\n",
    "\n",
    "\n",
    "- It was initially created by Dr. Ramon Lawrence, and has since been updated by various folks including Dr. Patricia Lasserre, Dr. Firas Moosvi, Dr. Irene Vrbik, Dr. Scott Fazackerley, and others.\n",
    "\n",
    "\n",
    "\n",
    "- It is a fantastic introduction to the field of Data Science and in this one course, you will be equipped to handle most of the common Data wrangling, processing, and analysis tasks.\n",
    "\n",
    "\n",
    "\n",
    "- You will also be introduced to a variety of tools (tech stack) that are common in the industry, and we hope you use this course as a spring board to launch your interest in Data Science!"
   ]
  },
  {
   "cell_type": "markdown",
   "metadata": {
    "slideshow": {
     "slide_type": "fragment"
    }
   },
   "source": [
    "![](images/why_course.png)"
   ]
  },
  {
   "cell_type": "markdown",
   "metadata": {
    "slideshow": {
     "slide_type": "slide"
    }
   },
   "source": [
    "## Course Introduction"
   ]
  },
  {
   "cell_type": "markdown",
   "metadata": {
    "slideshow": {
     "slide_type": "subslide"
    }
   },
   "source": [
    "### Grading Scheme"
   ]
  },
  {
   "cell_type": "markdown",
   "metadata": {
    "slideshow": {
     "slide_type": "fragment"
    }
   },
   "source": [
    "<img src=\"images/scheme.png\" width=1200>"
   ]
  },
  {
   "cell_type": "markdown",
   "metadata": {
    "slideshow": {
     "slide_type": "slide"
    }
   },
   "source": [
    "## My philosophy on Grading\n",
    "\n",
    "Brace yourselves..."
   ]
  },
  {
   "cell_type": "markdown",
   "metadata": {
    "slideshow": {
     "slide_type": "subslide"
    }
   },
   "source": [
    "![](images/grading.png)\n",
    "\n",
    "Source: [Alfie Kohn, \"From Degrading to De-Grading\"](https://www.alfiekohn.org/article/degrading-de-grading/)"
   ]
  },
  {
   "cell_type": "markdown",
   "metadata": {
    "slideshow": {
     "slide_type": "subslide"
    }
   },
   "source": [
    "![](https://www.jessestommel.com/content/images/2017/10/Assessment-Warwick.004.jpeg)\n",
    "\n",
    "Source: [Jesse Stommel, \"Why I don't Grade\"](https://www.jessestommel.com/why-i-dont-grade/)"
   ]
  },
  {
   "cell_type": "markdown",
   "metadata": {
    "slideshow": {
     "slide_type": "subslide"
    }
   },
   "source": [
    "### What we are doing about this in this course"
   ]
  },
  {
   "cell_type": "markdown",
   "metadata": {},
   "source": [
    "- You will receive LOTS of feedback on how things are going...\n",
    "    - Do not be scared, and do not panic!\n",
    "    - Focus on the learning; most people that put the work in will do quite well in this course"
   ]
  },
  {
   "cell_type": "markdown",
   "metadata": {
    "slideshow": {
     "slide_type": "fragment"
    }
   },
   "source": [
    "- For each lab, I will ask you to submit what your deserved grade is."
   ]
  },
  {
   "cell_type": "markdown",
   "metadata": {
    "slideshow": {
     "slide_type": "fragment"
    }
   },
   "source": [
    "- Each week, I will ask you to to submit what your deserved grade is for everything in that week, as well as some justification. \n",
    "    - You are the best judge of how much you're learning!\n",
    "    - Try to avoid doing a \"weighted averaging\" of any grades you received in this course \n",
    "    - I reserve the right to use your grades as-is, or adjust it as needed"
   ]
  },
  {
   "cell_type": "markdown",
   "metadata": {
    "slideshow": {
     "slide_type": "fragment"
    }
   },
   "source": [
    "- The Gradebook for this course will be de-emphasized..."
   ]
  },
  {
   "cell_type": "markdown",
   "metadata": {
    "slideshow": {
     "slide_type": "subslide"
    }
   },
   "source": [
    "### Teaching Team"
   ]
  },
  {
   "cell_type": "markdown",
   "metadata": {
    "slideshow": {
     "slide_type": "fragment"
    }
   },
   "source": [
    "![](images/team.png)"
   ]
  },
  {
   "cell_type": "markdown",
   "metadata": {
    "slideshow": {
     "slide_type": "subslide"
    }
   },
   "source": [
    "### Course Website\n",
    "\n",
    "<img src=\"images/JupyterBook.png\" width=1600>"
   ]
  },
  {
   "cell_type": "markdown",
   "metadata": {
    "cell_style": "split",
    "slideshow": {
     "slide_type": "subslide"
    }
   },
   "source": [
    "### Research on Learning"
   ]
  },
  {
   "cell_type": "markdown",
   "metadata": {
    "cell_style": "split",
    "slideshow": {
     "slide_type": "fragment"
    }
   },
   "source": [
    "<img src=\"images/masterymodel1.png\" width=1200>"
   ]
  },
  {
   "cell_type": "markdown",
   "metadata": {
    "cell_style": "split",
    "slideshow": {
     "slide_type": "fragment"
    }
   },
   "source": [
    "### Learning in this course"
   ]
  },
  {
   "cell_type": "markdown",
   "metadata": {
    "cell_style": "split",
    "slideshow": {
     "slide_type": "fragment"
    }
   },
   "source": [
    "<img src=\"images/masterymodel2.png\">"
   ]
  },
  {
   "cell_type": "markdown",
   "metadata": {
    "slideshow": {
     "slide_type": "subslide"
    }
   },
   "source": [
    "### Course features"
   ]
  },
  {
   "cell_type": "markdown",
   "metadata": {
    "slideshow": {
     "slide_type": "fragment"
    }
   },
   "source": [
    "- 48 hour grace-period on all due dates and deadlines.\n",
    "- Lab attendance is not mandatory (attend any and all sections that work for you).\n",
    "- Classes are recorded\n",
    "- Many opportunities to demonstrate your learning.\n",
    "- Long testing window so you can start the tests whenever you’re comfortable.\n",
    "- Weekly learning logs and reflections to make you think about your learning (metacognition).\n",
    "- Each test has a “bonus test” available one week later; for each test, we will take the better score of the pair.\n",
    "- No high-stakes exams (the single largest assessment item is the final exam).\n",
    "- All course assessments are completely open book, open notes, and open web (except for cheating websites like Chegg, CourseHero, Slader, Bartleby, etc...)\n",
    "- Plenty of TA and instructor student hours and several outside of normal business hours.\n",
    "- Class website that outlines exactly what you should do when to help you manage your time.\n",
    "- Tonnes of supplemental materials including other - instructional videos in case you want a different perspective.\n",
    "- Weekly prompt to accept the integrity pledge to keep you accountable.\n",
    "- A true willingness from the instructor (me) to help you learn and succeed in this course!"
   ]
  },
  {
   "cell_type": "markdown",
   "metadata": {
    "slideshow": {
     "slide_type": "subslide"
    }
   },
   "source": [
    "## Introduction to Ed Discussion\n",
    "\n",
    "- To manage student support requests and help everyone as efficiently as possible, we will be using Ed Discussion.\n",
    "    - This is a tool being piloted at UBC and we're on the cutting edge!\n",
    "\n",
    "\n",
    "- It is **essential** that you get on Ed Discussion ASAP!\n",
    "\n",
    "\n",
    "- I will not be able to answer student emails or Canvas messages\n",
    "    - If you email me accidentally, that's okay! I have set up a script that auto-replies reminding you to post on Ed Discussion :-)"
   ]
  },
  {
   "cell_type": "markdown",
   "metadata": {
    "slideshow": {
     "slide_type": "fragment"
    }
   },
   "source": [
    "<img src=\"images/interface.png\" width=1000>"
   ]
  },
  {
   "cell_type": "markdown",
   "metadata": {
    "slideshow": {
     "slide_type": "fragment"
    }
   },
   "source": [
    "<img src=\"images/tips.png\" width=800>"
   ]
  },
  {
   "cell_type": "markdown",
   "metadata": {
    "slideshow": {
     "slide_type": "fragment"
    }
   },
   "source": [
    "<img src=\"images/post.png\" width=800>"
   ]
  },
  {
   "cell_type": "markdown",
   "metadata": {
    "slideshow": {
     "slide_type": "fragment"
    }
   },
   "source": [
    "<img src=\"images/private.png\" width=800>"
   ]
  },
  {
   "cell_type": "markdown",
   "metadata": {
    "slideshow": {
     "slide_type": "fragment"
    }
   },
   "source": [
    "<img src=\"images/editor.png\" width=800>"
   ]
  },
  {
   "cell_type": "markdown",
   "metadata": {
    "slideshow": {
     "slide_type": "fragment"
    }
   },
   "source": [
    "<img src=\"images/notifications.png\" width=800>"
   ]
  },
  {
   "cell_type": "markdown",
   "metadata": {
    "slideshow": {
     "slide_type": "slide"
    }
   },
   "source": [
    "## Introduction to Gradescope\n",
    "\n",
    "In a course like this, it is essential for us to have a smooth process to deliver feedback to you as quickly and efficiently as possible."
   ]
  },
  {
   "cell_type": "markdown",
   "metadata": {
    "slideshow": {
     "slide_type": "subslide"
    }
   },
   "source": [
    "### Why are we using Gradescope?"
   ]
  },
  {
   "cell_type": "markdown",
   "metadata": {
    "slideshow": {
     "slide_type": "fragment"
    }
   },
   "source": [
    "- Tried Canvas last year, it has HUGE efficiency issues for grading.\n",
    "- Gradescope has GitHub integration, Canvas does not.\n",
    "- Gradescope is better for providing feedback to students.\n",
    "- Students don't seem to mind it 🤷🏽‍♂️."
   ]
  },
  {
   "cell_type": "markdown",
   "metadata": {
    "slideshow": {
     "slide_type": "subslide"
    }
   },
   "source": [
    "## Introduction to GitHub\n",
    "\n",
    "GitHub and version control is **core** to this course, and to Data Science.\n",
    "We will be using it all term long."
   ]
  },
  {
   "cell_type": "markdown",
   "metadata": {
    "slideshow": {
     "slide_type": "fragment"
    }
   },
   "source": [
    "### GitHub 101"
   ]
  },
  {
   "cell_type": "markdown",
   "metadata": {
    "slideshow": {
     "slide_type": "fragment"
    }
   },
   "source": [
    "- For now, the only commands you need to use are:\n",
    "\n",
    "    \n",
    "```\n",
    "git clone <url>\n",
    "git add .\n",
    "git commit -m \"A sample message describing your change.\"\n",
    "git push\n",
    "git pull\n",
    "```\n",
    "\n",
    "More to come next week..."
   ]
  },
  {
   "cell_type": "markdown",
   "metadata": {
    "slideshow": {
     "slide_type": "subslide"
    }
   },
   "source": [
    "### Why are we using GitHub and GitHub Classroom?"
   ]
  },
  {
   "cell_type": "markdown",
   "metadata": {
    "slideshow": {
     "slide_type": "fragment"
    }
   },
   "source": [
    "- Regardless of what programming language someone is using in Data Science (R, Python, something else), version control with Git is probably the most essential tool!\n",
    "\n",
    "- Students **want** to learn GitHub early in the programs and practice it throughout undergrad.\n",
    "\n",
    "- Git and GitHub is useful for other parts of your life also!\n",
    "\n",
    "- My goal is to equip you with the tools that I think you will need to be successful, GitHub is definitely one of them!"
   ]
  },
  {
   "cell_type": "markdown",
   "metadata": {
    "slideshow": {
     "slide_type": "slide"
    }
   },
   "source": [
    "## That's it!\n",
    "\n",
    "See you Tomorrow!"
   ]
  },
  {
   "cell_type": "code",
   "execution_count": 23,
   "metadata": {
    "slideshow": {
     "slide_type": "skip"
    },
    "tags": [
     "remove-cell"
    ]
   },
   "outputs": [],
   "source": [
    "## RISE settings \n",
    "\n",
    "from IPython.display import IFrame\n",
    "\n",
    "from traitlets.config.manager import BaseJSONConfigManager\n",
    "from pathlib import Path\n",
    "path = Path.home() / \".jupyter\" / \"nbconfig\"\n",
    "cm = BaseJSONConfigManager(config_dir=str(path))\n",
    "tmp = cm.update(\n",
    "        \"rise\",\n",
    "        {\n",
    "            \"theme\": \"blood\", #blood is dark, nice\n",
    "            \"transition\": \"fade\",\n",
    "            \"start_slideshow_at\": \"selected\",\n",
    "            \"autolaunch\": False,\n",
    "            \"width\": \"100%\",\n",
    "            \"height\": \"100%\",\n",
    "            \"header\": \"\",\n",
    "            \"footer\":\"\",\n",
    "            \"scroll\": True,\n",
    "            \"enable_chalkboard\": True,\n",
    "            \"slideNumber\": True,\n",
    "            \"center\": False,\n",
    "            \"controlsLayout\": \"edges\",\n",
    "            \"slideNumber\": True,\n",
    "            \"hash\": True,\n",
    "        }\n",
    "    )"
   ]
  }
 ],
 "metadata": {
  "celltoolbar": "Slideshow",
  "kernelspec": {
   "display_name": "Python 3",
   "language": "python",
   "name": "python3"
  },
  "language_info": {
   "codemirror_mode": {
    "name": "ipython",
    "version": 3
   },
   "file_extension": ".py",
   "mimetype": "text/x-python",
   "name": "python",
   "nbconvert_exporter": "python",
   "pygments_lexer": "ipython3",
   "version": "3.8.3"
  }
 },
 "nbformat": 4,
 "nbformat_minor": 4
}
