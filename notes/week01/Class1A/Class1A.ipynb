{
 "cells": [
  {
   "cell_type": "markdown",
   "metadata": {
    "slideshow": {
     "slide_type": "slide"
    }
   },
   "source": [
    "# Class 1A - Introduction to COSC 301\n",
    "\n",
    "Welcome!\n",
    "\n",
    "<img src=\"https://64.media.tumblr.com/bc724cad58146233fcac4071dd2ff0c5/tumblr_nornfbfo8E1qhub34o1_400.gifv\" width=1000>"
   ]
  },
  {
   "cell_type": "markdown",
   "metadata": {
    "slideshow": {
     "slide_type": "slide"
    }
   },
   "source": [
    "## About Me"
   ]
  },
  {
   "cell_type": "markdown",
   "metadata": {
    "slideshow": {
     "slide_type": "subslide"
    }
   },
   "source": [
    "<img src=\"images/about2.png\">"
   ]
  },
  {
   "cell_type": "markdown",
   "metadata": {
    "slideshow": {
     "slide_type": "slide"
    }
   },
   "source": [
    "## Essence of this course"
   ]
  },
  {
   "cell_type": "markdown",
   "metadata": {
    "slideshow": {
     "slide_type": "fragment"
    }
   },
   "source": [
    "The overall goal of this course is for you to: \n",
    "> Understand data analytics and be able to apply data analysis to data sets using a variety of software tools and techniques."
   ]
  },
  {
   "cell_type": "markdown",
   "metadata": {
    "slideshow": {
     "slide_type": "fragment"
    }
   },
   "source": [
    "* The most exciting aspect of data analytics is discovering and presenting useful data/information that can have an impact on business, society, etc."
   ]
  },
  {
   "cell_type": "markdown",
   "metadata": {
    "slideshow": {
     "slide_type": "fragment"
    }
   },
   "source": [
    "* This course will provide the tools and skills for you to perform your own data analysis when encountering problems in the real-world."
   ]
  },
  {
   "cell_type": "markdown",
   "metadata": {
    "slideshow": {
     "slide_type": "fragment"
    }
   },
   "source": [
    "* As an introductory course, the goal is to get exposure to the skills and techniques as there will not be time for mastery."
   ]
  },
  {
   "cell_type": "markdown",
   "metadata": {
    "slideshow": {
     "slide_type": "slide"
    }
   },
   "source": [
    "## An Introduction to Data Analytics"
   ]
  },
  {
   "cell_type": "markdown",
   "metadata": {
    "slideshow": {
     "slide_type": "subslide"
    }
   },
   "source": [
    "### Data Analysis vs Data Analytics"
   ]
  },
  {
   "cell_type": "markdown",
   "metadata": {
    "slideshow": {
     "slide_type": "subslide"
    }
   },
   "source": [
    "> **Data Analysis**:\\\n",
    "*Data analysis* is the processing of data to yield useful insights or knowledge."
   ]
  },
  {
   "cell_type": "markdown",
   "metadata": {
    "slideshow": {
     "slide_type": "fragment"
    }
   },
   "source": [
    "> **Data Analytics**:\\\n",
    "*Data Analytics* is the science of examining raw data with the purpose of drawing conclusions about that information."
   ]
  },
  {
   "cell_type": "markdown",
   "metadata": {
    "slideshow": {
     "slide_type": "fragment"
    }
   },
   "source": [
    "- The distinction between data analysis and analytics is blurry to say the least  (even [Wikipedia](https://en.wikipedia.org/wiki/Analytics#Analytics_vs._analysis) is confused)."
   ]
  },
  {
   "cell_type": "markdown",
   "metadata": {
    "slideshow": {
     "slide_type": "fragment"
    }
   },
   "source": [
    "- [One source](https://www.getsmarter.com/blog/career-advice/difference-data-analytics-data-analysis/) \n",
    "might say that data analysis is a subcomponent of data analytics, while [another source](https://www.quora.com/What-is-the-difference-between-Analytics-and-analysis-data-analytics) says data analytics is a sub-component of data analysis."
   ]
  },
  {
   "cell_type": "markdown",
   "metadata": {
    "slideshow": {
     "slide_type": "fragment"
    }
   },
   "source": [
    "- I like to think of data analysis as the method (ie action) whereas data analytics are tools used to do so.\n",
    "Analytics is supported by many tools such as Git, Python, Tableau, Microsoft Excel all of which we will talk about in this course."
   ]
  },
  {
   "cell_type": "markdown",
   "metadata": {
    "slideshow": {
     "slide_type": "fragment"
    }
   },
   "source": [
    "- There are many other popular tools in Data Analytics such as Microsoft Access, SQL, Docker, and others which we won't talk much about in this course, but I will provide you some resources and references if you would like to learn more about this."
   ]
  },
  {
   "cell_type": "markdown",
   "metadata": {
    "slideshow": {
     "slide_type": "subslide"
    }
   },
   "source": [
    "### Why is Data Analytics important?\n",
    "***Data analytics*** is important as society is collecting more and larger data sets all the time:\n",
    "\n",
    "- **Web** All web pages visited and links clicked, searches made, images and posts\n",
    "- **Business** Items purchased by date, supply chain/customers, industrial sensors\n",
    "- **Science** Massive data sets (biological/genomic, astronomy, physics, healthcare)\n",
    "- **Environmental** Sensors and monitors (temperature, etc.)"
   ]
  },
  {
   "cell_type": "markdown",
   "metadata": {
    "slideshow": {
     "slide_type": "fragment"
    }
   },
   "source": [
    "Transforming this raw data into useful insights has major value:\n",
    "- **Web** Online advertising driven by understanding customer behaviour; \n",
    "[tailored google searches](https://microarts.com/insights/why-googles-search-results-vary-from-person-to-person/), \n",
    "[Google Analytics](https://analytics.google.com/analytics/web/provision/?authuser=0#/provision)\n",
    "- **Business** [Sales predictions](https://channels.theinnovationenterprise.com/articles/how-sales-teams-are-using-predictive-analytics), marketing promotions, manufacturing improvement\n",
    "- **Science** Scientific discoveries, new medical treatments and drugs; see some [examples](https://www.datapine.com/blog/big-data-examples-in-healthcare/) in healthcare.\n",
    "- **Environmental** Understanding of environmental processes to allow for changing policies and behaviours, eg [Institute of Environmental Analytics](https://www.the-iea.org/what-we-do/)"
   ]
  },
  {
   "cell_type": "markdown",
   "metadata": {
    "slideshow": {
     "slide_type": "subslide"
    }
   },
   "source": [
    "## Why is this course important?\n",
    "- For many of you, this will be your first exposure to programming and data analytics.\n",
    "- Regardless of your discipline, the tools you develop throughout this course will train you to think analytically and creatively.\n",
    "- Beyond University, many professional jobs of the future will involve collecting, manipulating, and analyzing data.\n",
    "- People who can understand how data can be used will have better employment opportunities."
   ]
  },
  {
   "cell_type": "markdown",
   "metadata": {
    "slideshow": {
     "slide_type": "fragment"
    }
   },
   "source": [
    "Important skills you may learn in this course:\n",
    "- **Excel Proficiency**: for general data analysis and productivity.\n",
    "- **Programming and Computational Thinking**: Critical thinking and the ability to clearly articulate a problem in a systematic way has applications beyond data analytics.\n",
    "- **Data visualization**: how to display and convey information in a meaningful way.\n",
    "- **Real-world problem solving**: learn to tackle real-world data analysis problems and understand when to use what tool."
   ]
  },
  {
   "cell_type": "markdown",
   "metadata": {
    "slideshow": {
     "slide_type": "fragment"
    }
   },
   "source": [
    "**Optional, resources provided if you're interested**\n",
    "- **Databases**: Understand how they work and how to use them.\n",
    "- **Applied Statistics**: Using software makes your statistics training useful for real-world problems."
   ]
  },
  {
   "cell_type": "markdown",
   "metadata": {
    "slideshow": {
     "slide_type": "subslide"
    }
   },
   "source": [
    "## What will I learn in this course?"
   ]
  },
  {
   "cell_type": "markdown",
   "metadata": {
    "slideshow": {
     "slide_type": "fragment"
    }
   },
   "source": [
    "- Understand data representation formats and techniques and how to use them."
   ]
  },
  {
   "cell_type": "markdown",
   "metadata": {
    "slideshow": {
     "slide_type": "fragment"
    }
   },
   "source": [
    "- Work with large datasets and learn to manipulate them programmatically."
   ]
  },
  {
   "cell_type": "markdown",
   "metadata": {
    "slideshow": {
     "slide_type": "fragment"
    }
   },
   "source": [
    "- Experience using a wide-range of data analytics tools including Excel, Git, Python, Pandas, Tableau, and other visualization packages and software."
   ]
  },
  {
   "cell_type": "markdown",
   "metadata": {
    "slideshow": {
     "slide_type": "fragment"
    }
   },
   "source": [
    "- Develop a computational thinking approach to problem-solving and use programs to solve data tasks."
   ]
  },
  {
   "cell_type": "markdown",
   "metadata": {
    "slideshow": {
     "slide_type": "subslide"
    }
   },
   "source": [
    "## Why should You take this course?"
   ]
  },
  {
   "cell_type": "markdown",
   "metadata": {
    "slideshow": {
     "slide_type": "fragment"
    }
   },
   "source": [
    "- This course is one of my favourite courses to teach at UBCO!\n",
    "\n",
    "\n",
    "\n",
    "- It was initially created by Dr. Ramon Lawrence, and has since been updated by various folks including Dr. Patricia Lasserre, Dr. Firas Moosvi, Dr. Irene Vrbik, Dr. Scott Fazackerley, and others.\n",
    "\n",
    "\n",
    "\n",
    "- It is a fantastic introduction to the field of Data Science and in this one course, you will be equipped to handle most of the common Data wrangling, processing, and analysis tasks.\n",
    "\n",
    "\n",
    "\n",
    "- You will also be introduced to a variety of tools (tech stack) that are common in the industry, and we hope you use this course as a spring board to launch your interest in Data Science!"
   ]
  },
  {
   "cell_type": "markdown",
   "metadata": {
    "slideshow": {
     "slide_type": "slide"
    }
   },
   "source": [
    "## Course Introduction"
   ]
  },
  {
   "cell_type": "markdown",
   "metadata": {
    "slideshow": {
     "slide_type": "subslide"
    }
   },
   "source": [
    "### Grading Scheme"
   ]
  },
  {
   "cell_type": "markdown",
   "metadata": {
    "slideshow": {
     "slide_type": "subslide"
    }
   },
   "source": [
    "### Course Website\n",
    "\n",
    "<img src=\"images/JupyterBook.png\" width=1600>"
   ]
  },
  {
   "cell_type": "markdown",
   "metadata": {
    "cell_style": "split",
    "slideshow": {
     "slide_type": "subslide"
    }
   },
   "source": [
    "### Research on Learning"
   ]
  },
  {
   "cell_type": "markdown",
   "metadata": {
    "cell_style": "split",
    "slideshow": {
     "slide_type": "fragment"
    }
   },
   "source": [
    "<img src=\"images/masterymodel1.png\" width=1200>"
   ]
  },
  {
   "cell_type": "markdown",
   "metadata": {
    "cell_style": "split",
    "slideshow": {
     "slide_type": "fragment"
    }
   },
   "source": [
    "### Learning in this course"
   ]
  },
  {
   "cell_type": "markdown",
   "metadata": {
    "cell_style": "split",
    "slideshow": {
     "slide_type": "fragment"
    }
   },
   "source": [
    "<img src=\"images/masterymodel2.png\">"
   ]
  },
  {
   "cell_type": "markdown",
   "metadata": {
    "slideshow": {
     "slide_type": "subslide"
    }
   },
   "source": [
    "### Course features"
   ]
  },
  {
   "cell_type": "markdown",
   "metadata": {
    "slideshow": {
     "slide_type": "fragment"
    }
   },
   "source": [
    "- 48 hour grace-period on all due dates and deadlines.\n",
    "- Lab attendance is not mandatory (attend any and all sections that work for you).\n",
    "- Classes are recorded\n",
    "- Many opportunities to demonstrate your learning.\n",
    "- Long testing window so you can start the tests whenever you’re comfortable.\n",
    "- Weekly learning logs and reflections to make you think about your learning (metacognition).\n",
    "- Each test has a “bonus test” available one week later; for each test, we will take the better score of the pair.\n",
    "- No high-stakes exams (the single largest assessment item is the final exam).\n",
    "- All course assessments are completely open book, open notes, and open web (except for cheating websites like Chegg, CourseHero, Slader, Bartleby, etc...)\n",
    "- Plenty of TA and instructor student hours and several outside of normal business hours.\n",
    "- Class website that outlines exactly what you should do when to help you manage your time.\n",
    "- Tonnes of supplemental materials including other - instructional videos in case you want a different perspective.\n",
    "- Weekly prompt to accept the integrity pledge to keep you accountable.\n",
    "- A true willingness from the instructor (me) to help you learn and succeed in this course!"
   ]
  },
  {
   "cell_type": "markdown",
   "metadata": {
    "slideshow": {
     "slide_type": "subslide"
    }
   },
   "source": [
    "## Introduction to Ed Discussion\n",
    "\n",
    "- To manage student support requests and help everyone as efficiently as possible, we will be using Ed Discussion.\n",
    "    - This is a tool being piloted at UBC and we're on the cutting edge!\n",
    "\n",
    "\n",
    "- It is **essential** that you get on Ed Discussion ASAP!\n",
    "\n",
    "\n",
    "- I will not be able to answer student emails or Canvas messages\n",
    "    - If you email me accidentally, that's okay! I have set up a script that auto-replies reminding you to post on Ed Discussion :-)"
   ]
  },
  {
   "cell_type": "markdown",
   "metadata": {
    "slideshow": {
     "slide_type": "fragment"
    }
   },
   "source": [
    "<img src=\"images/interface.png\" width=1000>"
   ]
  },
  {
   "cell_type": "markdown",
   "metadata": {
    "slideshow": {
     "slide_type": "fragment"
    }
   },
   "source": [
    "<img src=\"images/tips.png\" width=800>"
   ]
  },
  {
   "cell_type": "markdown",
   "metadata": {
    "slideshow": {
     "slide_type": "fragment"
    }
   },
   "source": [
    "<img src=\"images/post.png\" width=800>"
   ]
  },
  {
   "cell_type": "markdown",
   "metadata": {
    "slideshow": {
     "slide_type": "fragment"
    }
   },
   "source": [
    "<img src=\"images/private.png\" width=800>"
   ]
  },
  {
   "cell_type": "markdown",
   "metadata": {
    "slideshow": {
     "slide_type": "fragment"
    }
   },
   "source": [
    "<img src=\"images/editor.png\" width=800>"
   ]
  },
  {
   "cell_type": "markdown",
   "metadata": {
    "slideshow": {
     "slide_type": "fragment"
    }
   },
   "source": [
    "<img src=\"images/notifications.png\" width=800>"
   ]
  },
  {
   "cell_type": "markdown",
   "metadata": {
    "slideshow": {
     "slide_type": "slide"
    }
   },
   "source": [
    "## Introduction to Gradescope\n",
    "\n",
    "In a course like this, it is essential for us to have a smooth process to deliver feedback to you as quickly and efficiently as possible."
   ]
  },
  {
   "cell_type": "markdown",
   "metadata": {
    "slideshow": {
     "slide_type": "subslide"
    }
   },
   "source": [
    "### Why are we using Gradescope?"
   ]
  },
  {
   "cell_type": "markdown",
   "metadata": {
    "slideshow": {
     "slide_type": "fragment"
    }
   },
   "source": [
    "- Tried Canvas last year, it has HUGE efficiency issues for grading.\n",
    "- Gradescope has GitHub integration, Canvas does not.\n",
    "- Gradescope is better for providing feedback to students.\n",
    "- Students don't seem to mind it 🤷🏽‍♂️."
   ]
  },
  {
   "cell_type": "markdown",
   "metadata": {
    "slideshow": {
     "slide_type": "slide"
    }
   },
   "source": [
    "## That's it!\n",
    "\n",
    "See you next class!"
   ]
  },
  {
   "cell_type": "code",
   "execution_count": 1,
   "metadata": {
    "slideshow": {
     "slide_type": "skip"
    },
    "tags": [
     "remove-cell"
    ]
   },
   "outputs": [],
   "source": [
    "## RISE settings \n",
    "\n",
    "from IPython.display import IFrame\n",
    "\n",
    "from traitlets.config.manager import BaseJSONConfigManager\n",
    "from pathlib import Path\n",
    "path = Path.home() / \".jupyter\" / \"nbconfig\"\n",
    "cm = BaseJSONConfigManager(config_dir=str(path))\n",
    "tmp = cm.update(\n",
    "        \"rise\",\n",
    "        {\n",
    "            \"theme\": \"blood\", #blood is dark, nice\n",
    "            \"transition\": \"fade\",\n",
    "            \"start_slideshow_at\": \"selected\",\n",
    "            \"autolaunch\": False,\n",
    "            \"width\": \"100%\",\n",
    "            \"height\": \"100%\",\n",
    "            \"header\": \"\",\n",
    "            \"footer\":\"\",\n",
    "            \"scroll\": True,\n",
    "            \"enable_chalkboard\": True,\n",
    "            \"slideNumber\": True,\n",
    "            \"center\": False,\n",
    "            \"controlsLayout\": \"edges\",\n",
    "            \"slideNumber\": True,\n",
    "            \"hash\": True,\n",
    "        }\n",
    "    )"
   ]
  }
 ],
 "metadata": {
  "celltoolbar": "Slideshow",
  "kernelspec": {
   "display_name": "Python 3.9.7 64-bit ('shims': pyenv)",
   "language": "python",
   "name": "python3"
  },
  "language_info": {
   "codemirror_mode": {
    "name": "ipython",
    "version": 3
   },
   "file_extension": ".py",
   "mimetype": "text/x-python",
   "name": "python",
   "nbconvert_exporter": "python",
   "pygments_lexer": "ipython3",
   "version": "3.10.2"
  },
  "vscode": {
   "interpreter": {
    "hash": "4a3006030bc8f073e17f416a7c98291111bc2dc23e3286a5e86c679c75d3e5ba"
   }
  }
 },
 "nbformat": 4,
 "nbformat_minor": 4
}
