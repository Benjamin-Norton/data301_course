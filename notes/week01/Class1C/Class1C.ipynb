{
 "cells": [
  {
   "cell_type": "code",
   "execution_count": 3,
   "metadata": {
    "slideshow": {
     "slide_type": "skip"
    },
    "tags": [
     "remove-cell"
    ]
   },
   "outputs": [
    {
     "data": {
      "text/html": [
       "<style>/*.container { width:100% !important; }*/\n",
       "\n",
       "div.prompt {display:none}\n",
       "\n",
       "div.output_subarea {max-width:100%}\n",
       "\n",
       "/* These below are from the altair_talk css */\n",
       "\n",
       "/* ---------- markdown cells\n",
       " */\n",
       "body.rise-enabled div.inner_cell>div.text_cell_render.rendered_html {\n",
       "    font-size: 100%;\n",
       "}\n",
       "\n",
       "\n",
       "/* ---------- code blocks inside markdown\n",
       "   i.e. within ``` lines, or 4-space indented\n",
       " */\n",
       "div.inner_cell>div.text_cell_render.rendered_html>pre {\n",
       "    margin: 0px;\n",
       "}\n",
       "\n",
       "/* ----------- code to remove space above markdown headers\n",
       " */\n",
       "div.inner_cell>div.text_cell_render.rendered_html h1 {\n",
       "    margin-top: 0px;\n",
       "}\n",
       "div.inner_cell>div.text_cell_render.rendered_html h2 {\n",
       "    margin-top: 0px;\n",
       "}\n",
       "div.inner_cell>div.text_cell_render.rendered_html h3 {\n",
       "    margin-top: 0px;\n",
       "}\n",
       "div.inner_cell>div.text_cell_render.rendered_html h4 {\n",
       "    margin-top: 0px;\n",
       "}\n",
       "\n",
       "div.inner_cell>div.text_cell_render.rendered_html>pre>code {\n",
       "    font-size: 70%;\n",
       "}\n",
       "\n",
       "/* ---------- tables (from SO)\n",
       " */\n",
       ".rendered_html table, .rendered_html th, .rendered_html tr, .rendered_html td {\n",
       "     font-size: 120%;\n",
       "}\n",
       "\n",
       "/* ---------- Left part of code cells\n",
       "    from this SO answer: https://stackoverflow.com/a/47263575;\n",
       " /* Narrow the prompts */\n",
       "div.prompt_container {\n",
       "    min-width: 5ex;\n",
       "}\n",
       "/* Hide prompts altogether for non-conda cells */\n",
       ".cell:not(.code_cell) .prompt {\n",
       "    display: none;\n",
       "}\n",
       "/* ---------- Width of cells\n",
       " */\n",
       ".container {\n",
       "    width:95% !important;\n",
       "}\n",
       "\n",
       "</style>"
      ],
      "text/plain": [
       "<IPython.core.display.HTML object>"
      ]
     },
     "execution_count": 3,
     "metadata": {},
     "output_type": "execute_result"
    }
   ],
   "source": [
    "from IPython.display import IFrame\n",
    "from IPython.display import Markdown\n",
    "# Additional styling ; should be moved into helpers\n",
    "from IPython.core.display import display, HTML\n",
    "HTML('<style>{}</style>'.format(open('rise.css').read()))"
   ]
  },
  {
   "cell_type": "markdown",
   "metadata": {
    "slideshow": {
     "slide_type": "slide"
    }
   },
   "source": [
    "# Version Control with Git and Representing Data\n",
    "\n",
    "<img src=\"http://www.phdcomics.com/comics/archive/phd101212s.gif\">"
   ]
  },
  {
   "cell_type": "markdown",
   "metadata": {
    "slideshow": {
     "slide_type": "slide"
    }
   },
   "source": [
    "## Version Control with Git"
   ]
  },
  {
   "cell_type": "markdown",
   "metadata": {
    "slideshow": {
     "slide_type": "subslide"
    }
   },
   "source": [
    "### Why Git?\n",
    "\n",
    "<img src=\"http://www.phdcomics.com/comics/archive/phd101212s.gif\">"
   ]
  },
  {
   "cell_type": "markdown",
   "metadata": {
    "slideshow": {
     "slide_type": "subslide"
    }
   },
   "source": [
    "### What is Git?\n",
    "\n",
    "<img src=\"https://www.nobledesktop.com/image/blog/git-branches-merge.png\">\n",
    "\n",
    "Image Source: [Noble Desktop](https://www.nobledesktop.com/blog/what-is-git-and-why-should-you-use-it)."
   ]
  },
  {
   "cell_type": "markdown",
   "metadata": {
    "slideshow": {
     "slide_type": "subslide"
    }
   },
   "source": [
    "### The GitHub Flow"
   ]
  },
  {
   "cell_type": "code",
   "execution_count": 5,
   "metadata": {
    "slideshow": {
     "slide_type": "fragment"
    },
    "tags": [
     "hide-input"
    ]
   },
   "outputs": [
    {
     "data": {
      "text/html": [
       "\n",
       "        <iframe\n",
       "            width=\"1200\"\n",
       "            height=\"800\"\n",
       "            src=\"https://guides.github.com/introduction/flow/\"\n",
       "            frameborder=\"0\"\n",
       "            allowfullscreen\n",
       "        ></iframe>\n",
       "        "
      ],
      "text/plain": [
       "<IPython.lib.display.IFrame at 0x109345ac0>"
      ]
     },
     "execution_count": 5,
     "metadata": {},
     "output_type": "execute_result"
    }
   ],
   "source": [
    "IFrame('https://guides.github.com/introduction/flow/',width=1200,height=800)\n",
    "\n"
   ]
  },
  {
   "cell_type": "markdown",
   "metadata": {
    "slideshow": {
     "slide_type": "fragment"
    }
   },
   "source": [
    "Markdown('Source: [GitHub Guides](https://guides.github.com/introduction/flow/)')"
   ]
  },
  {
   "cell_type": "code",
   "execution_count": null,
   "metadata": {},
   "outputs": [],
   "source": []
  },
  {
   "cell_type": "markdown",
   "metadata": {},
   "source": [
    "## Data Representation"
   ]
  },
  {
   "cell_type": "markdown",
   "metadata": {},
   "source": [
    "### Objectives\n",
    "\n",
    "- Define: computer, software, memory, data, memory size/data size, cloud\n",
    "- Explain \"Big Data\" and describe data growth in the coming years.\n",
    "- Explain the role of metadata for interpreting data.\n",
    "- Define: file, file encoding, text file, binary file"
   ]
  },
  {
   "cell_type": "markdown",
   "metadata": {},
   "source": [
    "### Computer Terminology\n",
    "\n",
    "There is a tremendous amount of terminology related to technology.\n",
    "Using terminology precisely and correctly demonstrates understanding of a domain and simplifies communication.\n",
    "We will introduce terminology as needed."
   ]
  },
  {
   "cell_type": "markdown",
   "metadata": {},
   "source": [
    "### Basic Computer Terminology\n",
    "\n",
    "- A **computer** is a device that can be programmed to solve problems.\n",
    "- **Harware** includes the physical components of computer\n",
    "    - (eg. central processing unit, monitor, keyboard, computer data storage, graphic card, speakers).\n",
    "- **Software** programs that a computer follows to perform\n",
    "functions\n",
    "    - (eg. operating system, internet browser).\n",
    "- **Memory** is a piece of technology which allows the computer to store data either temporarily (lost when computer reboots, eg.\n",
    "RAM) or permanently (data is preserved even if power is lost, eg. hard drive).\n",
    "- There are many different technologies for storing data with varying performance.\n",
    "- Some live inside your computer while others are portable and can be used on difference devices (e.g. USB drives)."
   ]
  },
  {
   "cell_type": "markdown",
   "metadata": {},
   "source": [
    "### \"The Cloud\"\n",
    "\n",
    "“The Cloud\" is not part of your computer but rather a network\n",
    "of distributed computers on the Internet that provides storage,\n",
    "applications, and services for your computer.\n",
    "\n",
    "Examples:\n",
    "- **Dropbox** is a cloud service that allows you to store your files on machines distributed on the Internet.\n",
    "Automatically synchronizes any files in folder with all your machines.\n",
    "- **iCloud** is an Apple service that stores and synchronizes your data, music, apps, and other content across Apple devices.\n",
    "- [**Google Docs**](https://www.google.com/docs/about/) you can write, edit, and collaborate wherever you are. For free."
   ]
  },
  {
   "cell_type": "markdown",
   "metadata": {},
   "source": [
    "\n",
    "### What is data?\n",
    "\n",
    "> **Data**: information, especially facts or numbers, collected to be examined and considered and used to\n",
    "help decision-making, or information in an electronic form that can be stored and used by a computer.\n",
    "\n",
    "– [Cambridge Dictionary](https://dictionary.cambridge.org/dictionary/english/data)\n",
    "\n",
    "However, is can be argued (see [this article](https://siliconangle.com/2014/03/05/data-does-not-equal-information-bigdatasv/) for example) that data != information.\n",
    "In addition, one might refer to *raw* data as a collection of number/facts that don’t have meaning until it has been analyzed or has been given meaning."
   ]
  },
  {
   "cell_type": "markdown",
   "metadata": {},
   "source": [
    "### How is data measured?\n",
    "\n",
    "- Computers represent data [digitally](https://homepage.cs.uri.edu/faculty/wolfe/book/Readings/Reading02.htm)\n",
    "meaning that data is represented using discrete units called as bits (Binary Digits).\n",
    "- The real-world is *analog* where the information is encoded on a continuous signal (spectrum of values, ie. infinite sounds/colours).\n",
    "\n",
    "> “Like with the artist’s abstract composition, the trick is to take all of the real-world sound, picture, number, etc. data that we want in the computer and convert it into the kind of data that can be represented in (on/off) switches.” – [University of Rhode Island](https://computing-concepts.cs.uri.edu/wiki/Data_Representation_For_Computing)\n",
    "\n",
    "These \"on/off\" switches are called \"bits\" and a \"bit\" can have a state of 1 (on) or 0 (off).\n",
    "All data is represented at its essence, as collections of bits.\n",
    "A *byte* contains 8 *bits* .\n",
    "Your internet speed is measured in either kilo/mega/giga bits per second (bps) or kilo/mega/giga Bytes per second (Bps)."
   ]
  },
  {
   "cell_type": "markdown",
   "metadata": {},
   "source": [
    "### Units of Data\n",
    "\n",
    "| Unit | Size |\n",
    "| ---- | ---- | \n",
    "| byte (B) | 8 bits |\n",
    "| kilobyte (KB) | 1000 bytes  |\n",
    "| megabyte (MB) | 10^6 bytes (or 1000 KB)  |\n",
    "| gigabyte (GB) | 10^9 bytes (or 1000 MB)  |\n",
    "| terabyte (TB) | 10^12 bytes (or 1000 GB)  |\n",
    "| petabyte (PB) | 10^15 bytes (or 1000 TB)  |\n",
    "| exabyte (EB) | 10^18 bytes (or 1000 PB)  |\n",
    "| zettabyte (ZB) | 10^21 bytes (or 1000 EB)  |"
   ]
  },
  {
   "cell_type": "markdown",
   "metadata": {},
   "source": [
    "### Encoding other data\n",
    "\n",
    "Documents, music, and videos that we commonly use are encoded in a much more complex way, but the principles is the same: everything boils down to bits and bytes.\n",
    "\n",
    "As we learn more about representing information, always remember that everything is stored as **bits**, it is by interpreting the context that we have information.\n",
    "\n",
    "Let's go through a few more definitions of types of data."
   ]
  },
  {
   "cell_type": "markdown",
   "metadata": {},
   "source": [
    "### Metadata\n",
    "*Metadata* is data that describes other data.\n",
    "> **Examples of metadata include:**  \n",
    "    - names of files  \n",
    "    - column names in a spreadsheet  \n",
    "    - table and column names and types in a database  \n",
    "\n",
    "Metadata helps you understand how to interpret and manipulate the data."
   ]
  },
  {
   "cell_type": "markdown",
   "metadata": {},
   "source": [
    "### Files\n",
    "A *file* is a sequence of bytes on a storage device.\n",
    "- A file has a name.\n",
    "- A computer reads the file from a storage device into memory to use it.\n",
    "\n",
    "The operating system manages how to store and retrieve the file bytes from the device.\n",
    "\n",
    "The program using the file must know how to interpret those bytes based on its information (e.g. metadata) on what is stored in the file."
   ]
  },
  {
   "cell_type": "markdown",
   "metadata": {},
   "source": [
    "### File Encoding\n",
    "A file *encoding* is how the bytes represent data in a file.\n",
    "\n",
    "A file encoding is determined from the file extension (e.g. .txt or .xlsx) which allows the operating system (OS) to know how to process the file.\n",
    "\n",
    "The extension allows the OS to select the program to use.  \n",
    "The program understands how to process the file in its format."
   ]
  },
  {
   "cell_type": "markdown",
   "metadata": {},
   "source": [
    "### [Binary vs Text files](https://www.nayuki.io/page/what-are-binary-and-text-files)\n",
    "\n",
    "- At a generic level of description, there are two kinds of computer files: text files and binary files.\n",
    "- The difference between binary and text files is in how these bytes are interpreted.\n",
    "- A text file is a file encoded in a character format such as ASCII or Unicode. These files are readable by humans.\n",
    "- Data analytics will often involve processing text files.\n",
    "- We can usually tell if a file is binary or text based on its file extension."
   ]
  },
  {
   "cell_type": "markdown",
   "metadata": {},
   "source": [
    "### File Encodings: Text Files\n",
    "There are many different text file encodings:\n",
    "- *Web standards*: html, xml, css, svg, json, ...\n",
    "        - *JSON file* data encoded in JSON (JavaScript Object Notation) format\n",
    "        - *XML file* data encoded in XML (Extensible Markup Language) format\n",
    "- *Tabular data*: csv, tsv, . . .\n",
    "        - *CSV comma-separate file* each line is a record, fields separated by commas\n",
    "        - *tab-separated file* each line is a record, fields separated by tabs\n",
    "- *Documents*: txt, tex, markdown, asciidoc, rtf, ps, ...\n",
    "\n",
    "**Question**:  \n",
    "In these file encodings, what is data and what is metadata?  \n",
    "<img src=\"images/metadataQA1.PNG\" alt=\"metadataQA1\" width=\"475\" align=\"left\">\n",
    "<img src=\"images/metadataQA2.PNG\" alt=\"metadataQA2\" width=\"485\" align=\"left\">"
   ]
  },
  {
   "cell_type": "markdown",
   "metadata": {},
   "source": [
    "### File Encodings: Binary File\n",
    "A *binary file* encodes data in a format that is not designed to be human-readable and is in the format used by the computer.\n",
    "\n",
    "Binary files are often faster to process as they do not require translation from text form and may also be smaller.\n",
    "\n",
    "Processing a binary file requires the user to understand its encoding so that the bytes can be read and interpreted properly.\n",
    "\n",
    "There are many different text file encodings:\n",
    "- *Image*: jpg, png, gif, bmp, tiff, psd, . . .\n",
    "- *Videos*: mp4, mkv, avi, mov, mpg, vob, . . .\n",
    "- *Audio*: mp3, aac, wav, flac, ogg, mka, wma, . . .\n",
    "- *Documents*: pdf, doc, xls, ppt, docx, odt, . . .\n",
    "- *Archive*: zip, rar, 7z, tar, iso, . . .\n",
    "- *Database*: mdb, accde, frm, sqlite, . . .\n",
    "- *Executable*: exe, dll, so, class, .. . .\n",
    "\n",
    "> **Exercise**:  \n",
    "Use the **[fileEncodings.xlsx](fileEncodings.xlsx)** file and save the file as:\n",
    "\n",
    "- **CSV**, \n",
    "- **tab-separated**, and \n",
    "- **XML**. \n",
    "\n",
    "Look at each file using VS Code.  "
   ]
  },
  {
   "cell_type": "markdown",
   "metadata": {},
   "source": [
    "**Try It:File Encodings**  \n",
    "<img src=\"images/TryItFileEncoding.png\" alt=\"TryItFileEncoding\" width=\"800\" >"
   ]
  },
  {
   "cell_type": "markdown",
   "metadata": {},
   "source": [
    "**Opening xlsx in Excel**  \n",
    "<img src=\"images/inExcel.png\" alt=\"inExcel\" width=\"800\" >"
   ]
  },
  {
   "cell_type": "markdown",
   "metadata": {},
   "source": [
    "**Opening csv in text editor**  \n",
    "<img src=\"images/csv.png\" alt=\"csv\" width=\"800\" >"
   ]
  },
  {
   "cell_type": "markdown",
   "metadata": {},
   "source": [
    "**Opening tab-separated in text editor**  \n",
    "<img src=\"images/tabdelimit.png\" alt=\"tabdelimit\" width=\"800\" >"
   ]
  },
  {
   "cell_type": "markdown",
   "metadata": {},
   "source": [
    "**Opening xml in text editor**  \n",
    "<img src=\"images/xml.png\" alt=\"xml\" width=\"800\" >"
   ]
  },
  {
   "cell_type": "markdown",
   "metadata": {},
   "source": [
    "### UPC Barcodes\n",
    "*Universal Product Codes (UPC)* encode manufacturer on left side and product on right side. Each digit uses 7 bits with different bit combinations for each side (can tell if upside down).  \n",
    "<img src=\"images/UPCbarcode.png\" alt=\"UPCbarcode\" width=\"400\" >"
   ]
  },
  {
   "cell_type": "markdown",
   "metadata": {},
   "source": [
    "### QR code\n",
    "A *QR* (*Q*uick *R*esponse) code is a 2D optical encoding developed in 1994 by Toyota with support for error correction.\n",
    "\n",
    "<img src=\"images/QR1.png\" alt=\"QR1\" width=\"200\" >  \n",
    "Make your own codes at: [www.qrstuff.com](https://www.qrstuff.com/). "
   ]
  },
  {
   "cell_type": "markdown",
   "metadata": {},
   "source": [
    "### NATO Broadcast Alphabet\n",
    "The code for broadcast communication is purposefully inefficient, to be distinctive when spoken amid noise.  \n",
    "\n",
    "| Letter | Meaning |  | Letter | Meaning  |  | Letter | Meaning |\n",
    "|--------|---------|--|--------|----------|--|--------|---------|\n",
    "| A      | Alpha   |  | J      | Juliet   |  | S      | Sierra  |\n",
    "| B      | Bravo   |  | K      | Kilo     |  | T      | Tango   |\n",
    "| C      | Charlie |  | L      | Lima     |  | U      | Uniform |\n",
    "| D      | Delta   |  | M      | Mike     |  | V      | Victor  |\n",
    "| E      | Echo    |  | N      | November |  | W      | Whiskey |\n",
    "| F      | Foxtrot |  | O      | Oscar    |  | X      | X-ray   |\n",
    "| G      | Golf    |  | P      | Papa     |  | Y      | Yankee  |\n",
    "| H      | Hotel   |  | Q      | Quebec   |  | Z      | Zulu    |\n",
    "| I      | India   |  | R      | Rom      |  |        |         |"
   ]
  },
  {
   "cell_type": "markdown",
   "metadata": {},
   "source": [
    "### Clicker Question: Memory Size\n",
    "\n",
    "**Example 1**  \n",
    "Which is bigger?  \n",
    "A) 10 TB  \n",
    "B) 100 GB  \n",
    "C) 1,000,000,000,000 bytes  \n",
    "D) 1 PB"
   ]
  },
  {
   "cell_type": "markdown",
   "metadata": {
    "tags": [
     "remove-cell"
    ]
   },
   "source": [
    "### START SOLUTIONS HERE\n",
    "**Example 1**  \n",
    "Which is bigger?  \n",
    "A) 10 TB =10,000 GB  \n",
    "B) 100 GB  \n",
    "C) 1,000,000,000,000 bytes = 1000 GB  \n",
    "**D) 1 PB = 1,000,000 GB**\n",
    "\n",
    "### END SOLUTIONS HERE"
   ]
  },
  {
   "cell_type": "markdown",
   "metadata": {
    "tags": []
   },
   "source": [
    "### Clicker Question: Metadata vs. Data\n",
    "**Example 2**  \n",
    "How many of the following are TRUE?   \n",
    "- It is possible to have data without metadata.\n",
    "- Growth rates of data generation are decreasing.\n",
    "- It is possible to represent all decimal numbers precisely on a computer.\n",
    "- A character encoded in Unicode uses twice as much space as ASCII.   \n",
    "A) 0  B) 1  C) 2  D) 3  E) 4 "
   ]
  },
  {
   "cell_type": "markdown",
   "metadata": {
    "tags": [
     "remove-cell"
    ]
   },
   "source": [
    "### START SOLUTIONS HERE\n",
    "**Example 2**  \n",
    "How many of the following are TRUE?   \n",
    "- It is possible to have data without metadata. :heavy_check_mark:  \n",
    "- Growth rates of data generation are decreasing. :x:  \n",
    "- It is possible to represent all decimal numbers precisely on a computer. :x:  \n",
    "- A character encoded in Unicode uses twice as much space as ASCII. :heavy_check_mark:    \n",
    "A) 0  B) 1  **C) 2**  D) 3  E) 4 \n",
    "\n",
    "### END SOLUTIONS HERE"
   ]
  },
  {
   "cell_type": "markdown",
   "metadata": {},
   "source": [
    "## Conclusion\n",
    "- All *data* is encoded as bits on a computer.\n",
    "- *Metadata* provides the context to understand how to interpret the data to make it useful.\n",
    "- Memory capacity and data sizes are measured in bytes.\n",
    "- *Files* are sequences of bytes stored on a device. A *file encoding* is how the bytes are organized to represent data\n",
    "        - Text files (comma/tab separated, JSON, XML) are often processed during data analytics tasks.\n",
    "        - Binary files are usually only processed by the program that creates them.\n",
    "As a data analyst, understanding the different ways of representing data is critical as it is often necessary to transform data from one format to another."
   ]
  }
 ],
 "metadata": {
  "celltoolbar": "Slideshow",
  "interpreter": {
   "hash": "852908b3e087535644df2dcfc2c8e2e0756fb3e8a4901f95330a1b5c587ff934"
  },
  "kernelspec": {
   "display_name": "Python 3.8.3 64-bit ('3.8.3': pyenv)",
   "name": "python3"
  },
  "language_info": {
   "name": "python",
   "version": ""
  }
 },
 "nbformat": 4,
 "nbformat_minor": 4
}