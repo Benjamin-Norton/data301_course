{
 "cells": [
  {
   "cell_type": "code",
   "execution_count": 4,
   "metadata": {
    "slideshow": {
     "slide_type": "skip"
    },
    "tags": [
     "remove-cell"
    ]
   },
   "outputs": [
    {
     "data": {
      "text/html": [
       "<style>/*.container { width:100% !important; }*/\n",
       "\n",
       "div.prompt {display:none}\n",
       "\n",
       "div.output_subarea {max-width:100%}\n",
       "\n",
       "/* These below are from the altair_talk css */\n",
       "\n",
       "/* ---------- markdown cells\n",
       " */\n",
       "body.rise-enabled div.inner_cell>div.text_cell_render.rendered_html {\n",
       "    font-size: 100%;\n",
       "}\n",
       "\n",
       "\n",
       "/* ---------- code blocks inside markdown\n",
       "   i.e. within ``` lines, or 4-space indented\n",
       " */\n",
       "div.inner_cell>div.text_cell_render.rendered_html>pre {\n",
       "    margin: 0px;\n",
       "}\n",
       "\n",
       "/* ----------- code to remove space above markdown headers\n",
       " */\n",
       "div.inner_cell>div.text_cell_render.rendered_html h1 {\n",
       "    margin-top: 0px;\n",
       "}\n",
       "div.inner_cell>div.text_cell_render.rendered_html h2 {\n",
       "    margin-top: 0px;\n",
       "}\n",
       "div.inner_cell>div.text_cell_render.rendered_html h3 {\n",
       "    margin-top: 0px;\n",
       "}\n",
       "div.inner_cell>div.text_cell_render.rendered_html h4 {\n",
       "    margin-top: 0px;\n",
       "}\n",
       "\n",
       "div.inner_cell>div.text_cell_render.rendered_html>pre>code {\n",
       "    font-size: 70%;\n",
       "}\n",
       "\n",
       "/* ---------- tables (from SO)\n",
       " */\n",
       ".rendered_html table, .rendered_html th, .rendered_html tr, .rendered_html td {\n",
       "     font-size: 120%;\n",
       "}\n",
       "\n",
       "/* ---------- Left part of code cells\n",
       "    from this SO answer: https://stackoverflow.com/a/47263575;\n",
       " /* Narrow the prompts */\n",
       "div.prompt_container {\n",
       "    min-width: 5ex;\n",
       "}\n",
       "/* Hide prompts altogether for non-conda cells */\n",
       ".cell:not(.code_cell) .prompt {\n",
       "    display: none;\n",
       "}\n",
       "/* ---------- Width of cells\n",
       " */\n",
       ".container {\n",
       "    width:95% !important;\n",
       "}\n",
       "\n",
       "</style>"
      ],
      "text/plain": [
       "<IPython.core.display.HTML object>"
      ]
     },
     "execution_count": 4,
     "metadata": {},
     "output_type": "execute_result"
    }
   ],
   "source": [
    "from IPython.display import IFrame\n",
    "from IPython.display import Markdown\n",
    "# Additional styling ; should be moved into helpers\n",
    "from IPython.core.display import display, HTML\n",
    "HTML('<style>{}</style>'.format(open('rise.css').read()))"
   ]
  },
  {
   "cell_type": "markdown",
   "metadata": {
    "slideshow": {
     "slide_type": "slide"
    }
   },
   "source": [
    "# Class 1B - Command line and Jupyter Lab"
   ]
  },
  {
   "cell_type": "markdown",
   "metadata": {
    "cell_style": "center",
    "slideshow": {
     "slide_type": "fragment"
    }
   },
   "source": [
    "<img src=\"images/Terminal.png\" alt=\"CommandPrompt\" width=\"450px\" >\n",
    "\n"
   ]
  },
  {
   "cell_type": "markdown",
   "metadata": {
    "cell_style": "center",
    "slideshow": {
     "slide_type": "fragment"
    }
   },
   "source": [
    "<img src=\"https://gitforwindows.org/img/gw1.png\" alt=\"CommandPrompt\" width=\"450px\" >"
   ]
  },
  {
   "cell_type": "markdown",
   "metadata": {
    "slideshow": {
     "slide_type": "slide"
    }
   },
   "source": [
    "## Lecture Outline"
   ]
  },
  {
   "cell_type": "markdown",
   "metadata": {
    "slideshow": {
     "slide_type": "fragment"
    }
   },
   "source": [
    "**1. Announcements (10 mins)**"
   ]
  },
  {
   "cell_type": "markdown",
   "metadata": {
    "slideshow": {
     "slide_type": "fragment"
    }
   },
   "source": [
    "**2. The Command Line (45 mins)**"
   ]
  },
  {
   "cell_type": "markdown",
   "metadata": {
    "slideshow": {
     "slide_type": "fragment"
    }
   },
   "source": [
    "**3. JupyterLab (30 mins)**"
   ]
  },
  {
   "cell_type": "markdown",
   "metadata": {
    "slideshow": {
     "slide_type": "slide"
    }
   },
   "source": [
    "## Announcements"
   ]
  },
  {
   "cell_type": "markdown",
   "metadata": {
    "slideshow": {
     "slide_type": "fragment"
    }
   },
   "source": [
    "- Lab 1 will be due **Saturday July 10, 2021 at 6 PM**"
   ]
  },
  {
   "cell_type": "markdown",
   "metadata": {
    "slideshow": {
     "slide_type": "fragment"
    }
   },
   "source": [
    "- GitHub Classroom and GitHub accounts\n",
    "    - [Please click this link and complete the survey if you haven't already](https://ubc.ca1.qualtrics.com/jfe/form/SV_1BTAIXiMPvBRR2K)"
   ]
  },
  {
   "cell_type": "markdown",
   "metadata": {
    "slideshow": {
     "slide_type": "fragment"
    }
   },
   "source": [
    "- My office hours will be the last 30 minutes of every class on Tuesday, Wednesday, and Friday 14:00 - 14:30"
   ]
  },
  {
   "cell_type": "markdown",
   "metadata": {
    "slideshow": {
     "slide_type": "fragment"
    }
   },
   "source": [
    "- Lab sessions will be on Zoom, find the link to your Zoom link on Canvas.\n",
    "\n",
    "<img src=\"images/zoom.png\">\n"
   ]
  },
  {
   "cell_type": "markdown",
   "metadata": {
    "slideshow": {
     "slide_type": "slide"
    }
   },
   "source": [
    "## The Command Line (Terminal)"
   ]
  },
  {
   "cell_type": "markdown",
   "metadata": {
    "slideshow": {
     "slide_type": "fragment"
    }
   },
   "source": [
    "If you would like some additional notes and a much deeper explanation of the command line (also known as the Terminal), I suggest the notes from [Software Carpentry](https://swcarpentry.github.io/shell-novice/)! \n",
    "They are excellent.\n",
    "\n",
    "In particular, I suggest \"Introducing the shell\", \"Navigating Files and Directories\", and \"Working with Files and Directories\""
   ]
  },
  {
   "cell_type": "markdown",
   "metadata": {
    "slideshow": {
     "slide_type": "subslide"
    }
   },
   "source": [
    "### What is the Command Line?\n",
    "\n",
    "The <b>command line </b>is the text interface to the computer that accepts commands that the computer will execute. These commands include:\n",
    "- starting programs\n",
    "- navigating directories and manipulating files \n",
    "- searching, sorting, and editing text files \n",
    "- system and environment configuration"
   ]
  },
  {
   "cell_type": "markdown",
   "metadata": {
    "slideshow": {
     "slide_type": "subslide"
    }
   },
   "source": [
    "### Why learn command line?\n",
    "\n",
    "The command line is the text interface to the computer.\n",
    "Understanding the command line allows you to interact with the computer in ways that you often cannot with the graphical user interface (GUI).\n",
    "\n",
    "The command line is commonly used for scripting and automation of tasks and when accessing remote systems.\n",
    "It will also be useful to run programs that make use of the command line (eg. github)."
   ]
  },
  {
   "cell_type": "markdown",
   "metadata": {
    "slideshow": {
     "slide_type": "subslide"
    }
   },
   "source": [
    "### Why use command line?\n",
    "The command line is part of the operating system (OS), which is software that manages your computer including all devices and programs.\n",
    "\n",
    "- Common operating systems include Windows, Mac OS, and Linux/Unix.\n",
    "- Some commands will be OS specific\n",
    "\n",
    "You might be wondering why we would ever prefer command line over using the graphical user interface (GUI).\n",
    "- Certain tools may only be available to command line. \n",
    "- Sometimes command line is faster.\n",
    " "
   ]
  },
  {
   "cell_type": "markdown",
   "metadata": {
    "slideshow": {
     "slide_type": "subslide"
    }
   },
   "source": [
    "### Command Line on Windows\n",
    "\n",
    "The command line on Windows dates back to the original Microsoft operating system called DOS (Disk Operating System) in 1981.\n",
    "\n",
    "This command line interface is still part of all modern Windows operating systems and is accessible as the \"Command Prompt\".\n",
    "\n",
    "**I am requiring you use GitBash instead of the default Windows Command Prompt.**\n",
    "\n"
   ]
  },
  {
   "cell_type": "markdown",
   "metadata": {
    "slideshow": {
     "slide_type": "subslide"
    }
   },
   "source": [
    "### Windows Terminal\n",
    "\n",
    "This is what the GitBash \"Terminal\" looks like. From here on out, whenever we say \"Terminal\", we mean \"GitBash on Windows\", \"Terminal on macOS and Ubuntu\"\n",
    "\n",
    "<img src=\"https://gitforwindows.org/img/gw1.png\" alt=\"CommandPrompt\" width=\"900px\" >"
   ]
  },
  {
   "cell_type": "markdown",
   "metadata": {
    "slideshow": {
     "slide_type": "subslide"
    }
   },
   "source": [
    "- The directory separator is a forward slash `/` for Macs/Ubuntu, and the opposite pointing slash on Windows `\\`\n",
    "- However if you use GitBash, this should preserve your sanity and you should be able to use forward slash on Windows as well\n",
    "- In fact, many of the macOS/Ubuntu commands will also work in GitBash, but for completeness we will also share the other commands\n",
    "\n",
    "Image source: [Git for windows](https://gitforwindows.org)"
   ]
  },
  {
   "cell_type": "markdown",
   "metadata": {
    "slideshow": {
     "slide_type": "subslide"
    }
   },
   "source": [
    "### Mac OS Command Line\n",
    "The command line for Mac OS uses the same commands as Linux. It can be opened using Finder then Utilities then Terminal.\n",
    "\n",
    "<img src=\"images/Terminal.png\" alt=\"CommandPrompt\" width=\"900px\" >\n",
    "\n",
    "Alternatively, we could type Cmd + spacebar, then type “Terminal\" and press ENTER"
   ]
  },
  {
   "cell_type": "markdown",
   "metadata": {
    "slideshow": {
     "slide_type": "subslide"
    }
   },
   "source": [
    "### Entering Commands\n",
    "Enter a command at a prompt. The prompt may be a > or a $ or customized by the user.\n",
    "\n",
    "Press ENTER to execute the command.\n",
    "\n",
    "On Windows, commands are mostly case-insensitive while on Mac/Linux they are case-sensitive.\n",
    "\n",
    "<img src=\"images/running_commands.png\" alt=\"Running commands CommandPrompt\" width=\"900px\" >\n"
   ]
  },
  {
   "cell_type": "markdown",
   "metadata": {
    "slideshow": {
     "slide_type": "slide"
    }
   },
   "source": [
    "## Tips and Tricks with the Terminal"
   ]
  },
  {
   "cell_type": "markdown",
   "metadata": {
    "slideshow": {
     "slide_type": "fragment"
    }
   },
   "source": [
    "- Use \"Up\" and \"Down\" arrow keys to cycle through previously used commands"
   ]
  },
  {
   "cell_type": "markdown",
   "metadata": {
    "slideshow": {
     "slide_type": "fragment"
    }
   },
   "source": [
    "- Use Tab completion!!\n",
    "    - Press tab to see available options"
   ]
  },
  {
   "cell_type": "markdown",
   "metadata": {
    "slideshow": {
     "slide_type": "fragment"
    }
   },
   "source": [
    "- Use `*` to autocomplete partial matches"
   ]
  },
  {
   "cell_type": "markdown",
   "metadata": {
    "slideshow": {
     "slide_type": "subslide"
    }
   },
   "source": [
    "### File System\n",
    "\n",
    "The file system organizes data on a device as a hierarchy of directories and files (like a tree).\n",
    "Each folder (AKA directory) has a name and can contain any number of files or subdirectories.\n",
    "Each file has a name.\n",
    "The user can change (navigate) directories in the hierarchy.\n",
    "\n",
    "<img src=\"images/filesystem.png\" alt=\"File System\" width=\"500px\" >\n"
   ]
  },
  {
   "cell_type": "markdown",
   "metadata": {
    "slideshow": {
     "slide_type": "subslide"
    }
   },
   "source": [
    "### File System\n",
    "The tree is rooted at, well, the root.\n",
    "- There is only one root of a directory hierarchy.\n",
    "Every item in the tree is either a file or a directory (AKA folder).\n",
    "- You can think of a directory as a container that may contains files and/or other directories.\n",
    "- Files on the other hand hold information (and cannot contain other files or directories) .\n",
    "\n",
    "If directoryC is contained in directoryP, then directoryC is a child of directoryP and directoryP is said to be the parent to directoryC.\n",
    "- A directory may have many children, but can only have one parent."
   ]
  },
  {
   "cell_type": "markdown",
   "metadata": {
    "slideshow": {
     "slide_type": "subslide"
    }
   },
   "source": [
    "### Absolute versus Relative Path\n",
    "\n",
    "- The root of the file system is the directory \"/\" \n",
    "- There is only one root of a directory hierarchy.\n",
    "- A path to a new location (from your current location) can be specified as an absolute path from the root (this will work no matter where we are in the file system):\n",
    "\n"
   ]
  },
  {
   "cell_type": "markdown",
   "metadata": {
    "slideshow": {
     "slide_type": "subslide"
    }
   },
   "source": [
    "### Navigating relative paths\n",
    "\n",
    "- `.` is the short-form for the current directory\n",
    "- `..` signifies the parent directory (akin to pressing Cmnd + ↑ on a Mac)\n",
    "- For example, to navigate (i.e. change directories) to the parent directory of the current directory, use the command:\n",
    "     `cd ..`\n",
    "- Note that this command is dependant on your current directory (i.e. the folder you are currently in).\n",
    "- To print the current working directory, type in `pwd`"
   ]
  },
  {
   "cell_type": "markdown",
   "metadata": {
    "cell_style": "split",
    "slideshow": {
     "slide_type": "subslide"
    }
   },
   "source": [
    "#### Absolute versus Relative Path Question\n",
    "\n",
    "Consider this directory hierarchy.\n",
    "\n",
    "- The user is currently in the directory `level2`\n",
    "- The `level1` directory contains a file called `test.txt`. \n",
    "\n",
    "Which of the following statements are TRUE?\n",
    "\n",
    "1. A relative path to change to directory 301 is `..`\n",
    "2. Absolute path to `test.txt` is `/Users/ivrbik/301/level1/test.txt`\n",
    "3. Relative path to `test.txt` is ../test.txt\n",
    "4. Relative path to `test.txt` is different if user was currently in `level3` directory.\n",
    "5. There is only one root of the directory hierarchy."
   ]
  },
  {
   "cell_type": "markdown",
   "metadata": {
    "cell_style": "split",
    "slideshow": {
     "slide_type": "fragment"
    }
   },
   "source": [
    "<img src=\"images/relativepath.png\" width=\"700px\">"
   ]
  },
  {
   "cell_type": "markdown",
   "metadata": {
    "slideshow": {
     "slide_type": "subslide"
    }
   },
   "source": [
    "### Activity: Let's try to re-create that directory and file structure "
   ]
  },
  {
   "cell_type": "markdown",
   "metadata": {
    "slideshow": {
     "slide_type": "fragment"
    }
   },
   "source": [
    "You will need the following commands:\n",
    "\n",
    "- [`cd`](https://man7.org/linux/man-pages/man1/cd.1p.html) : change directory\n",
    "- [`pwd`](https://man7.org/linux/man-pages/man1/pwd.1.html) : print working directory\n",
    "- [`mkdir`](https://man7.org/linux/man-pages/man1/mkdir.1.html): make directory\n",
    "- [`ls`](https://man7.org/linux/man-pages/man1/ls.1.html): list directory contents\n",
    "- [`touch`](https://man7.org/linux/man-pages/man1/touch.1.html): create an empty file with a specific name\n",
    "- `code`/`pico`/`nano`/`vim`: edit the file in a text editor"
   ]
  },
  {
   "cell_type": "code",
   "execution_count": 7,
   "metadata": {
    "slideshow": {
     "slide_type": "subslide"
    }
   },
   "outputs": [
    {
     "data": {
      "text/markdown": [
       "#### Supplementary video on absolute vs. relative paths"
      ],
      "text/plain": [
       "<IPython.core.display.Markdown object>"
      ]
     },
     "metadata": {},
     "output_type": "display_data"
    },
    {
     "data": {
      "text/html": [
       "\n",
       "        <iframe\n",
       "            width=\"100%\"\n",
       "            height=\"500px\"\n",
       "            src=\"https://www.youtube-nocookie.com/embed/sqX6hu7oEew\"\n",
       "            frameborder=\"0\"\n",
       "            allowfullscreen\n",
       "        ></iframe>\n",
       "        "
      ],
      "text/plain": [
       "<IPython.lib.display.IFrame at 0x109a53a00>"
      ]
     },
     "execution_count": 7,
     "metadata": {},
     "output_type": "execute_result"
    }
   ],
   "source": [
    "display(Markdown('#### Supplementary video on absolute vs. relative paths'))\n",
    "\n",
    "IFrame('https://www.youtube-nocookie.com/embed/sqX6hu7oEew',width=\"100%\",height=\"500px\")"
   ]
  },
  {
   "cell_type": "markdown",
   "metadata": {
    "slideshow": {
     "slide_type": "subslide"
    }
   },
   "source": [
    "### Conclusion\n",
    "\n",
    "- The command line is the text interface to the computer that accepts commands that the computer will execute including running programs, manipulating files, and running scripts."
   ]
  },
  {
   "cell_type": "markdown",
   "metadata": {
    "slideshow": {
     "slide_type": "fragment"
    }
   },
   "source": [
    "- The command line allows for automation and more control than may be available in the user interface. It may also be the only way to interact with the machine if connecting via SSH."
   ]
  },
  {
   "cell_type": "markdown",
   "metadata": {
    "slideshow": {
     "slide_type": "fragment"
    }
   },
   "source": [
    "- The command environment allows for redirecting the standard input and output using input/output redirection and pipes."
   ]
  },
  {
   "cell_type": "markdown",
   "metadata": {
    "slideshow": {
     "slide_type": "fragment"
    }
   },
   "source": [
    "- You need to **PRACTICE PRACTICE PRACTICE** working in the Terminal: to get yourself used to it, I suggest not using the Finder/Explorer on your computer and use the Terminal for everything.\n",
    "\n",
    "    - `open` will open a file in the default application"
   ]
  },
  {
   "cell_type": "markdown",
   "metadata": {
    "slideshow": {
     "slide_type": "slide"
    }
   },
   "source": [
    "## Starting and Submitting a Lab on GitHub Classroom and Canvas\n",
    "\n",
    "We didn't get to this in class so here is a video about the whole process:"
   ]
  },
  {
   "cell_type": "markdown",
   "metadata": {
    "slideshow": {
     "slide_type": "fragment"
    }
   },
   "source": [
    "And here it is in text:\n",
    "\n",
    "- Step 1: Accept lab\n",
    "    - [You can find the link to accept the lab here](https://firas.moosvi.com/courses/2021_ST2/data301/notes/labs.html)\n",
    "    "
   ]
  },
  {
   "cell_type": "markdown",
   "metadata": {
    "slideshow": {
     "slide_type": "fragment"
    }
   },
   "source": [
    "- Step 2: Open a Terminal and navigate to the location you want to clone lab1\n",
    "    - `cd school/year1/data301`"
   ]
  },
  {
   "cell_type": "markdown",
   "metadata": {
    "slideshow": {
     "slide_type": "fragment"
    }
   },
   "source": [
    "- Step 3: Clone the repo on your local computer\n",
    "    - `git clone https://...`"
   ]
  },
  {
   "cell_type": "markdown",
   "metadata": {
    "slideshow": {
     "slide_type": "fragment"
    }
   },
   "source": [
    "- Step 4: A new directory will be created inside the `data301` directory\n",
    "    - Path: `school/year1/data301/lab1-demoFiras/`"
   ]
  },
  {
   "cell_type": "markdown",
   "metadata": {
    "slideshow": {
     "slide_type": "fragment"
    }
   },
   "source": [
    "- Step 5: Start working on Lab1A and Lab1B"
   ]
  },
  {
   "cell_type": "markdown",
   "metadata": {
    "slideshow": {
     "slide_type": "fragment"
    }
   },
   "source": [
    "- Step 6: Making changes to the `activity.md` in Lab1A\n",
    "    - `code lab1A/activity.md` and then make changes"
   ]
  },
  {
   "cell_type": "markdown",
   "metadata": {
    "slideshow": {
     "slide_type": "fragment"
    }
   },
   "source": [
    "- Step 6: Commit your changes to the repository\n",
    "    - `git add -A` or `git add .`\n",
    "    - `git commit -m \"Halfway through lab1A\"`\n",
    "    - You can commit changes to your repository AS MANY TIMES AS YOU LIKE BEFORE THE DEADLINE\n",
    "    - You should have a minimum of 5 commits in this repository (for each lab)\n",
    "    "
   ]
  },
  {
   "cell_type": "markdown",
   "metadata": {
    "slideshow": {
     "slide_type": "fragment"
    }
   },
   "source": [
    "- Step 7: Pushing the changes above to GitHub.com\n",
    "    - `git push`\n",
    "    "
   ]
  },
  {
   "cell_type": "markdown",
   "metadata": {
    "slideshow": {
     "slide_type": "fragment"
    }
   },
   "source": [
    "- Step 8: Submit your lab on Gradescope"
   ]
  },
  {
   "cell_type": "markdown",
   "metadata": {
    "slideshow": {
     "slide_type": "slide"
    }
   },
   "source": [
    "## Command-line Summary\n",
    "\n",
    "- Briefly explain components of the Install Stack\n",
    "- Define command line and list some of its uses \n",
    "- Explain the purpose of an operating system\n",
    "- Know how to open the command line window on macOS and Windows\n",
    "- Enter commands in the Terminal and stop them\n",
    "- Define: file system, folder, file\n",
    "- Explain the difference between an absolute and relative path \n",
    "- Use command line shortcuts to save time\n",
    "- Be able to cancel a command (Ctrl+C)\n",
    "- Describe the full process of submitting a lab using GitHub and GitHub Classroom"
   ]
  },
  {
   "cell_type": "markdown",
   "metadata": {
    "slideshow": {
     "slide_type": "slide"
    }
   },
   "source": [
    "## Jupyter Lab\n",
    "\n",
    "<img src=\"images/JupyterBook.png\">"
   ]
  },
  {
   "cell_type": "markdown",
   "metadata": {
    "slideshow": {
     "slide_type": "slide"
    }
   },
   "source": [
    "### Demo of JupyterLab"
   ]
  },
  {
   "cell_type": "markdown",
   "metadata": {
    "slideshow": {
     "slide_type": "fragment"
    }
   },
   "source": [
    "- Open JupyterLab"
   ]
  },
  {
   "cell_type": "markdown",
   "metadata": {
    "slideshow": {
     "slide_type": "fragment"
    }
   },
   "source": [
    "- Close JupyterLab"
   ]
  },
  {
   "cell_type": "markdown",
   "metadata": {
    "slideshow": {
     "slide_type": "fragment"
    }
   },
   "source": [
    "- Create new notebooks"
   ]
  },
  {
   "cell_type": "markdown",
   "metadata": {
    "slideshow": {
     "slide_type": "fragment"
    }
   },
   "source": [
    "- What is a cell?"
   ]
  },
  {
   "cell_type": "markdown",
   "metadata": {
    "slideshow": {
     "slide_type": "fragment"
    }
   },
   "source": [
    "- Entering and exiting \"Command mode\""
   ]
  },
  {
   "cell_type": "markdown",
   "metadata": {
    "slideshow": {
     "slide_type": "fragment"
    }
   },
   "source": [
    "- Converting cells to \"markdown format\""
   ]
  },
  {
   "cell_type": "markdown",
   "metadata": {
    "slideshow": {
     "slide_type": "fragment"
    }
   },
   "source": [
    "- Using JupyterLab for Markdown files"
   ]
  },
  {
   "cell_type": "markdown",
   "metadata": {
    "slideshow": {
     "slide_type": "slide"
    }
   },
   "source": [
    "## That's it!\n",
    "\n",
    "See you on Friday for an overview of Git!"
   ]
  },
  {
   "cell_type": "code",
   "execution_count": 1,
   "metadata": {
    "slideshow": {
     "slide_type": "skip"
    },
    "tags": [
     "remove-cell"
    ]
   },
   "outputs": [],
   "source": [
    "## Code required for Jupyter RISE\n",
    "### RISE Template\n",
    "\n",
    "from traitlets.config.manager import BaseJSONConfigManager\n",
    "from pathlib import Path\n",
    "path = Path.home() / \".jupyter\" / \"nbconfig\"\n",
    "cm = BaseJSONConfigManager(config_dir=str(path))\n",
    "tmp = cm.update(\n",
    "        \"rise\",\n",
    "        {\n",
    "            \"theme\": \"blood\", # https://revealjs.com/themes/\n",
    "            \"transition\": \"fade\",\n",
    "            \"start_slideshow_at\": \"selected\",\n",
    "            \"autolaunch\": False,\n",
    "            \"width\": \"100%\",\n",
    "            \"height\": \"100%\",\n",
    "            \"header\": \"\",\n",
    "            \"footer\":\"\",\n",
    "            \"scroll\": True,\n",
    "            \"enable_chalkboard\": True,\n",
    "            \"slideNumber\": True,\n",
    "            \"center\": False,\n",
    "            \"controlsLayout\": \"edges\",\n",
    "            \"slideNumber\": True,\n",
    "            \"hash\": True,\n",
    "        }\n",
    "    )"
   ]
  }
 ],
 "metadata": {
  "celltoolbar": "Slideshow",
  "interpreter": {
   "hash": "852908b3e087535644df2dcfc2c8e2e0756fb3e8a4901f95330a1b5c587ff934"
  },
  "kernelspec": {
   "display_name": "Python 3",
   "language": "python",
   "name": "python3"
  },
  "language_info": {
   "codemirror_mode": {
    "name": "ipython",
    "version": 3
   },
   "file_extension": ".py",
   "mimetype": "text/x-python",
   "name": "python",
   "nbconvert_exporter": "python",
   "pygments_lexer": "ipython3",
   "version": "3.8.3"
  }
 },
 "nbformat": 4,
 "nbformat_minor": 4
}
