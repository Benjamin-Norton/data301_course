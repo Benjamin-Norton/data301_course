{
 "cells": [
  {
   "cell_type": "markdown",
   "metadata": {},
   "source": [
    "# DATA 301"
   ]
  },
  {
   "cell_type": "markdown",
   "metadata": {},
   "source": [
    " ### Try it: Decisions\n",
    "\n",
    "```text\n",
    "Example 21\n",
    "Write a Python program that asks the user for a number then prints out if it is even or odd.\n",
    "```\n",
    "```text\n",
    "Example 22\n",
    "Write a Python program that asks the user for an integer. If that number is between 1 and 5, prints out the word for that number (e.g. 1 is one). If the number is not in that range, print out error. \n",
    "```\n",
    " \n",
    "### Loops and Iteration\n",
    "\n",
    "A loop repeats a set of statements multiple times until some condition is satisfied.\n",
    "  - Each time a loop is executed is called an iteration.\n",
    "A for loop repeats statements a certain number of times.\n",
    "  -It will iterate over asequence, eg.1,2,....10\n",
    "  - or it could iterate over group/collection elements, eg. lines in a document, elements in a list\n",
    "A while loop repeats statements while a condition is True.\n",
    "  - At each iteration we will check this condition. \n",
    "  - If its True we complete another iteration \n",
    "  - If its False we exit the loop.\n",
    "  \n",
    " ### while loops\n",
    "The most basic looping structure is the while loop.\n",
    "A while loop continually executes a set of statements while a condition is true. Syntax:\n",
    "\n",
    "```\n",
    " while condition :\n",
    "                   statement1\n",
    "                   statement2\n",
    "                       .\n",
    "                       .\n",
    "```\n",
    "Example:"
   ]
  },
  {
   "cell_type": "code",
   "execution_count": null,
   "metadata": {},
   "outputs": [],
   "source": [
    "n=1\n",
    "while n <= 5:\n",
    "     print(n)\n",
    "     n=n+1"
   ]
  },
  {
   "cell_type": "markdown",
   "metadata": {},
   "source": [
    "### while loops\n",
    "\n",
    "## put an flow chart \n",
    "\n",
    "### Shorthand\n",
    "In addition to the = operator for assigning a value to a variable, Python also supports a shorthand version that compounds various mathematical operators with the assignment operator:\n",
    "Table: Table taken from [this](https://www.programiz.com/python-programming/operators) source\n",
    "\n",
    "|Operator| Example| Equivalent to|\n",
    "|:-------------|:-------------|:-------------|\n",
    "|= |x=5| x=5|\n",
    "|+=| x+=5| x=x+5|\n",
    "|-=| x-=5| x=x-5|\n",
    "|*=| x*=5| x=x*5|\n",
    "|/=| x/=5| x=x/5|\n",
    "|%=| x%=5| x=x%5|\n",
    "\n",
    "Hence the program from 2 slides ago can be written:\n",
    "```\n",
    "n=1\n",
    "while n <= 5:\n",
    "print(n) n += 1\n",
    "```\n",
    "Output:\n",
    "```\n",
    "1 \n",
    "2\n",
    "3\n",
    "4\n",
    "5\n",
    "```\n",
    "\n",
    "### Question: while loop\n",
    "\n",
    "```\n",
    " Example 23\n",
    "What is the output of the following code:\n",
    "    n=4\n",
    "   while n >= 0:\n",
    "         n=n-1 \n",
    "         print(n)\n",
    "A)numbers 3 to -1\n",
    "B)numbers 3 to 0 \n",
    "c) numbers 4 to 0\n",
    "D) numbers 4 to -1 \n",
    "E)numbers 4 to infinity\n",
    "```\n",
    "<pre><code>\n",
    "Answer\n",
    "What is the output of the following code:\n",
    "    n=4\n",
    "   while n >= 0:\n",
    "         n=n-1 \n",
    "         print(n)\n",
    "<b>A)numbers 3 to -1</b>\n",
    "B)numbers 3 to 0 \n",
    "c) numbers 4 to 0\n",
    "D) numbers 4 to -1 \n",
    "E)numbers 4 to infinity\n",
    "</pre></code> \n",
    "\n",
    "### Question: while loop 2\n",
    " Example 24\n",
    "What is the output of the following code:\n",
    "```\n",
    "n=1\n",
    "while n <= 5:\n",
    "      print(n) \n",
    "      n=n+1\n",
    "A) nothing\n",
    "B) numbers 1 to 5 \n",
    "C) numbers 1 to 6 \n",
    "D) lots of 1s\n",
    "\n",
    "```\n",
    "\n",
    "<pre><code>\n",
    "Question: while loop\n",
    "answer\n",
    "What is the output of the following code:\n",
    "n=1\n",
    "while n <= 5:\n",
    "print(n) n=n+1\n",
    "A) nothing\n",
    "B) numbers 1 to 5\n",
    "C) numbers 1 to 6\n",
    "<b>D) lots of 1s Infinite loop without the fourth line indented</b>\n",
    " \n",
    "</pre></code>\n",
    "   \n",
    "### The for loop\n",
    "- A for loop repeats statements a given number of times.\n",
    "- One way of building a for loop is to iterate over a sequence which we create using range()\n",
    "   ```for i in range(1,6): \n",
    "               print(i)\n",
    "   ```\n",
    " - The above prints the numbers 1 through 5. \n",
    " ```text\n",
    " range(start, end)\n",
    "  In range(start, end), the start number in inclusive and the start number is exclusive.\n",
    "  ```\n",
    "  ### Using range()\n",
    "- The general form of range is: \n",
    "    range(start, end, step)\n",
    "- Thedefaultstep(i.eincrement)is1 \n",
    "- We may also specify an increment:"
   ]
  },
  {
   "cell_type": "code",
   "execution_count": null,
   "metadata": {},
   "outputs": [],
   "source": [
    "# prints the numbers: 1,3,5,7,9 \n",
    "for i in range(1, 10, 2):\n",
    "    print(i)\n",
    "    "
   ]
  },
  {
   "cell_type": "code",
   "execution_count": null,
   "metadata": {},
   "outputs": [],
   "source": [
    "# prints the numbers: 2,4,6,8 \n",
    "for i in range(2, 10, 2):\n",
    "    print(i)\n"
   ]
  },
  {
   "cell_type": "code",
   "execution_count": null,
   "metadata": {},
   "outputs": [],
   "source": [
    "# prints the numbers 5 to 1\n",
    "for i in range(5,0, -1):\n",
    "    print(i)\n",
    "    "
   ]
  },
  {
   "cell_type": "markdown",
   "metadata": {},
   "source": [
    "### Using range()\n",
    "- It is only required that the end argument be provided for the\n",
    "range() function.\n",
    "- Ifthestartargumentisnotprovided,itissetasitsdefault\n",
    "value of 0 (not 1)."
   ]
  },
  {
   "cell_type": "code",
   "execution_count": null,
   "metadata": {},
   "outputs": [],
   "source": [
    " for i in range(4):\n",
    "    print(i)"
   ]
  },
  {
   "cell_type": "markdown",
   "metadata": {},
   "source": [
    "The above prints the numbers: 0,1,2,3 (remember, end is not inclusive)\n",
    "  \n",
    "### the for and while loop\n",
    "The for loop is like a short-hand for the while loop:"
   ]
  },
  {
   "cell_type": "code",
   "execution_count": null,
   "metadata": {},
   "outputs": [],
   "source": [
    "i=0\n",
    "while i < 10:\n",
    "    print(i)\n",
    "    i += 1\n",
    "   "
   ]
  },
  {
   "cell_type": "code",
   "execution_count": null,
   "metadata": {},
   "outputs": [],
   "source": [
    "   \n",
    "for i in range(0, 10, 1): \n",
    "     print(i)   "
   ]
  },
  {
   "cell_type": "markdown",
   "metadata": {},
   "source": [
    "### Common problems – Infinite Loops\n",
    "Infinite loops are caused by an incorrect loop condition or not updating values within the loop so that the loop condition will eventually be false.\n",
    "\n",
    "- Example:"
   ]
  },
  {
   "cell_type": "code",
   "execution_count": null,
   "metadata": {
    "scrolled": true
   },
   "outputs": [],
   "source": [
    "n=1\n",
    "while n <= 5:\n",
    "    print(n)"
   ]
  },
  {
   "cell_type": "markdown",
   "metadata": {},
   "source": [
    " \n",
    "Here we forgot to increase n->infinite loop.\n",
    "\n",
    "N.B. to exit from an infinite loop while running Python in the\n",
    "console, press Ctrl + C (press the stop icon in Jupyter Notebook).  \n",
    "\n",
    "\n",
    "### Common Problems – Off-by-one Error\n",
    "The most common error is to be \"off-by-one\". This occurs when you stop the loop one iteration too early or too late.\n",
    "- Example:"
   ]
  },
  {
   "cell_type": "code",
   "execution_count": null,
   "metadata": {},
   "outputs": [],
   "source": [
    "for i in range(0,10):\n",
    "    print(i)\n",
    "        "
   ]
  },
  {
   "cell_type": "markdown",
   "metadata": {},
   "source": [
    "This loop was supposed to print 0 to 10, but it does not.\n",
    "```text\n",
    "Example 25\n",
    "Question: How can we fix this code to print 0 to 10?\n",
    "```\n",
    "Question: for loop\n",
    "```text\n",
    "Example 26\n",
    "How many numbers are printed in this loop\n",
    "for i in range(1,10): print(i)\n",
    "A) 0\n",
    "B) 9\n",
    "C) 10\n",
    "D) 11\n",
    "E) error\n",
    "```\n",
    "```\n",
    "Answer:\n",
    "How many numbers are printed in this loop\n",
    "for i in range(1,10): print(i)\n",
    "A) 0\n",
    "**B) 9**\n",
    "C) 10\n",
    "D) 11\n",
    "E) error\n",
    "```\n",
    "Question: for loop Example 27\n",
    "```text\n",
    "How many numbers are printed in this loop\n",
    "for i in range(11,0): print(i)\n",
    "A) 0\n",
    "B) 9\n",
    "C) 10\n",
    "D) 11\n",
    "E) error\n",
    "```\n",
    "```text\n",
    "Answer:\n",
    "How many numbers are printed in this loop\n",
    "for i in range(11,0): print(i)\n",
    "**A) 0**\n",
    "B) 9\n",
    "C) 10\n",
    "D) 11\n",
    "E) error\n",
    "```\n",
    "### Try it: for loops\n",
    "```text \n",
    " Example 28\n",
    "Write a program that prints the numbers from 1 to 10 then 10 to 1.\n",
    "```\n",
    "```text \n",
    "Example 29\n",
    "Write a program that prints the numbers from 1 to 100 that are divisible by 3 and 5.\n",
    "```\n",
    "```text \n",
    "Example 30\n",
    "Write a program that asks the user for 5 numbers and prints the maximum, sum, and average of the numbers.\n",
    "``` \n",
    "### Functions and Procedures\n",
    "\n",
    "- A procedure is a sequence of program statements that have a specific task that they perform.\n",
    "- A function is a procedure that returns a value after it is executed. \n",
    "- Loosely speaking, functions are a special type of procedure for which we do not immediately know the result.\n",
    "- A procedure is a set of command which can be executed in order. A function returns a value and a procedure just executes commands. \n",
    "- While there are many built in functions at our disposal in Python,we can also create own user-defined functions.\n",
    " \n",
    "### Defining and Calling Functions and Procedures\n",
    "- Creating a function involves writing the statements and providing a function declaration with:\n",
    "    - a name (follows the same naming rules as variables) \n",
    "    - list of the inputs (called parameters)\n",
    "    - the output (return value) if any\n",
    "- Calling (or executing) a function involves:\n",
    "     - providing the name of the function\n",
    "     - providing the values for all arguments (inputs) if any \n",
    "     - providing space (variable name) to store the output (if any)\n",
    "     \n",
    "### Defining and Calling a Function\n",
    "- Consider a function that returns a number doubled:\n",
    "\n",
    "![alt text](../../images/06Python/callfunction2.png)\n",
    "\n",
    "### Defining and Calling a Function\n",
    "- Function “blocks\"2 begin with the keyword def (short for define) followed by the function name.\n",
    "- Regardless of whether or not the function has any parameters, we need to follow the function name with parentheses ()\n",
    "       - Inside the parentheses, separate as many parameters as you need by commas (no parameters should have the same name).\n",
    "       - A function may have 0 parameter inputs.\n",
    "- The code block within every function starts with a colon :\n",
    "- The statements that form the body of the function starts from the next line of function definition and must be indented.\n",
    "\n",
    "2 A block is a piece of Python program text that is executed as a unit.\n",
    "\n",
    "### Functions and Procedures\n",
    "See this procedure called hi that prints out Hi!"
   ]
  },
  {
   "cell_type": "code",
   "execution_count": null,
   "metadata": {},
   "outputs": [],
   "source": [
    "def hi(): \n",
    "    print(\"Hi!\")"
   ]
  },
  {
   "cell_type": "markdown",
   "metadata": {},
   "source": [
    "- Calling this procedure twice (we know exactly what to expect each time):"
   ]
  },
  {
   "cell_type": "code",
   "execution_count": null,
   "metadata": {},
   "outputs": [],
   "source": [
    "hi()"
   ]
  },
  {
   "cell_type": "markdown",
   "metadata": {},
   "source": [
    "- See this function called addf which adds two numbers (or concatenates two strings)\n",
    "   "
   ]
  },
  {
   "cell_type": "code",
   "execution_count": null,
   "metadata": {},
   "outputs": [],
   "source": [
    "def addf(x, y): \n",
    "    return x + y"
   ]
  },
  {
   "cell_type": "markdown",
   "metadata": {},
   "source": [
    "- Calling the function with integers vs. strings:"
   ]
  },
  {
   "cell_type": "code",
   "execution_count": null,
   "metadata": {},
   "outputs": [],
   "source": [
    "addf(2,5)\n"
   ]
  },
  {
   "cell_type": "code",
   "execution_count": null,
   "metadata": {},
   "outputs": [],
   "source": [
    "addf(\"2\",\"5\")"
   ]
  },
  {
   "cell_type": "markdown",
   "metadata": {},
   "source": [
    "### Defining and Calling a Function\n",
    "- Functionbodiescancontainoneormorereturnstatement. \n",
    "- The return statement exits a function and returns the value of the expression following the keyword.\n",
    "- Afunction without an explicit return statement returns None (usually suppressed by the interpreter).\n",
    "- Example:"
   ]
  },
  {
   "cell_type": "code",
   "execution_count": null,
   "metadata": {},
   "outputs": [],
   "source": [
    "def plus2(x):\n",
    "    x+2"
   ]
  },
  {
   "cell_type": "markdown",
   "metadata": {},
   "source": [
    "- Since we didn’t specify a return statement, the calculation is not provided as output."
   ]
  },
  {
   "cell_type": "code",
   "execution_count": null,
   "metadata": {},
   "outputs": [],
   "source": [
    "plus2(3)\n",
    "nothing = plus2(3)\n",
    "print(nothing)\n"
   ]
  },
  {
   "cell_type": "markdown",
   "metadata": {},
   "source": [
    "### Defining and Calling a Function\n",
    "-  A function can return exactly one object.\n",
    "-  If we want to return multiple values, we can return a list or a tuple, for example.\n",
    "\n",
    "- The following returns x and x + 2"
   ]
  },
  {
   "cell_type": "code",
   "execution_count": null,
   "metadata": {},
   "outputs": [],
   "source": [
    "# returning multiple values in a function using a list\n",
    "def plus2(x):\n",
    "    out = x + 2 \n",
    "    return [x,out]\n",
    "# returning multiple values in a function using a tuple\n",
    "def plus2(x):\n",
    "    out = x + 2\n",
    "    return (x,out)"
   ]
  },
  {
   "cell_type": "markdown",
   "metadata": {},
   "source": [
    "###   Functions and Procedures"
   ]
  },
  {
   "cell_type": "code",
   "execution_count": null,
   "metadata": {},
   "outputs": [],
   "source": [
    "def gradeLetter(pgrade):\n",
    "    if (pgrade >= 80):\n",
    "        return \"A\"\n",
    "    elif (pgrade >= 68):\n",
    "        return \"B\"\n",
    "    elif (pgrade >= 55):\n",
    "        return \"C\"\n",
    "    elif (pgrade >= 50):\n",
    "        return \"D\" \n",
    "    else:\n",
    "        return \"F\""
   ]
  },
  {
   "cell_type": "code",
   "execution_count": null,
   "metadata": {},
   "outputs": [],
   "source": [
    "gradeLetter(81)\n"
   ]
  },
  {
   "cell_type": "code",
   "execution_count": null,
   "metadata": {},
   "outputs": [],
   "source": [
    "gradeLetter(45)"
   ]
  },
  {
   "cell_type": "code",
   "execution_count": null,
   "metadata": {},
   "outputs": [],
   "source": [
    "def grade(pgrade): \n",
    "    if (pgrade >= 80):\n",
    "        grade = \"A\"\n",
    "    elif (pgrade >= 68):\n",
    "        grade = \"B\"\n",
    "    elif (pgrade >= 55):\n",
    "        grade = \"C\"\n",
    "    elif (pgrade >= 50):\n",
    "        grade = \"D\"\n",
    "    else:\n",
    "        grade = \"F\"\n",
    "    return [grade, pgrade]"
   ]
  },
  {
   "cell_type": "code",
   "execution_count": null,
   "metadata": {},
   "outputs": [],
   "source": [
    "grade(81)"
   ]
  },
  {
   "cell_type": "markdown",
   "metadata": {},
   "source": [
    "### unctions and Procedures\n",
    "We will often save our return value(s) to an object defined within the function to be returned."
   ]
  },
  {
   "cell_type": "code",
   "execution_count": null,
   "metadata": {},
   "outputs": [],
   "source": [
    "def testfun(x,y,z):\n",
    "    out = x+y/z\n",
    "    return out"
   ]
  },
  {
   "cell_type": "markdown",
   "metadata": {},
   "source": [
    "- Notice that the variables we define within our functions will not be defined outside of that function."
   ]
  },
  {
   "cell_type": "code",
   "execution_count": null,
   "metadata": {},
   "outputs": [],
   "source": [
    "testfun(3,8,4)"
   ]
  },
  {
   "cell_type": "code",
   "execution_count": null,
   "metadata": {},
   "outputs": [],
   "source": [
    "out"
   ]
  },
  {
   "cell_type": "markdown",
   "metadata": {},
   "source": [
    "- Traceback (most recent call last):\n",
    "    - File \"<stdin>\", line 1, in <module> \n",
    "- NameError: name 'out' is not defined\n",
    " "
   ]
  },
  {
   "cell_type": "markdown",
   "metadata": {},
   "source": [
    "### Python Built-in Math Functions\n",
    "\n",
    "- Last class we had to calculate the max and average value of 5 numbers inputted by the user. There are many useful mathematical functions available in the math module that can help us with such calculations."
   ]
  },
  {
   "cell_type": "code",
   "execution_count": null,
   "metadata": {},
   "outputs": [],
   "source": [
    "# Math\n",
    "import math \n",
    "print(math.sqrt(25))\n",
    "    \n",
    "# Import only a function\n",
    "from math import sqrt\n",
    "print(sqrt(25))\n",
    "\n",
    "# Print all math functions\n",
    "print(dir(math))"
   ]
  },
  {
   "cell_type": "markdown",
   "metadata": {},
   "source": [
    "### Other Python Built-in Functions"
   ]
  },
  {
   "cell_type": "code",
   "execution_count": null,
   "metadata": {},
   "outputs": [],
   "source": [
    "#max, min, abs:\n",
    "print(max(3, 5, 2)) # 5 \n",
    "print(min(3, 5, 2)) # 2 \n",
    "print(abs(-4)) # 4\n",
    "# type() returns the argument data type:\n",
    "print(type(42)) # <class 'int'> \n",
    "print(type(4.2)) # <class 'float'> \n",
    "print(type('spam')) # <class 'str'>"
   ]
  },
  {
   "cell_type": "markdown",
   "metadata": {},
   "source": [
    "### Python Random Numbers\n",
    "- Use random numbers to make the program have different behaviour when it runs."
   ]
  },
  {
   "cell_type": "code",
   "execution_count": 13,
   "metadata": {},
   "outputs": [
    {
     "name": "stdout",
     "output_type": "stream",
     "text": [
      "1\n",
      "2\n"
     ]
    }
   ],
   "source": [
    "from random import randint \n",
    "coin = randint(0, 1) # 0 or 1\n",
    "die = randint(1, 6) # 1 to 6 \n",
    "print(coin)\n",
    "print(die)"
   ]
  },
  {
   "cell_type": "markdown",
   "metadata": {},
   "source": [
    "### Advanced: Python Functions\n",
    "- Python supports functional programming allowing functions to be passed like variables to other functions.\n",
    "     - Lambda functions are functions that do not have a name. \n",
    "     - Example:"
   ]
  },
  {
   "cell_type": "code",
   "execution_count": 14,
   "metadata": {},
   "outputs": [],
   "source": [
    "def doFunc(func, val): \n",
    "    return func(val)\n"
   ]
  },
  {
   "cell_type": "code",
   "execution_count": 15,
   "metadata": {},
   "outputs": [
    {
     "ename": "NameError",
     "evalue": "name 'doubleNum' is not defined",
     "output_type": "error",
     "traceback": [
      "\u001b[0;31m---------------------------------------------------------------------------\u001b[0m",
      "\u001b[0;31mNameError\u001b[0m                                 Traceback (most recent call last)",
      "\u001b[0;32m<ipython-input-15-8b9ee754b4c1>\u001b[0m in \u001b[0;36m<module>\u001b[0;34m\u001b[0m\n\u001b[0;32m----> 1\u001b[0;31m \u001b[0mprint\u001b[0m\u001b[0;34m(\u001b[0m\u001b[0mdoFunc\u001b[0m\u001b[0;34m(\u001b[0m\u001b[0mdoubleNum\u001b[0m\u001b[0;34m,\u001b[0m\u001b[0;36m10\u001b[0m\u001b[0;34m)\u001b[0m\u001b[0;34m)\u001b[0m \u001b[0;31m# 20\u001b[0m\u001b[0;34m\u001b[0m\u001b[0;34m\u001b[0m\u001b[0m\n\u001b[0m\u001b[1;32m      2\u001b[0m \u001b[0mprint\u001b[0m\u001b[0;34m(\u001b[0m\u001b[0mdoFunc\u001b[0m\u001b[0;34m(\u001b[0m\u001b[0;32mlambda\u001b[0m \u001b[0mx\u001b[0m\u001b[0;34m:\u001b[0m \u001b[0mx\u001b[0m \u001b[0;34m*\u001b[0m \u001b[0;36m3\u001b[0m\u001b[0;34m,\u001b[0m \u001b[0;36m5\u001b[0m\u001b[0;34m)\u001b[0m\u001b[0;34m)\u001b[0m \u001b[0;31m# 15\u001b[0m\u001b[0;34m\u001b[0m\u001b[0;34m\u001b[0m\u001b[0m\n",
      "\u001b[0;31mNameError\u001b[0m: name 'doubleNum' is not defined"
     ]
    }
   ],
   "source": [
    "print(doFunc(doubleNum,10)) # 20\n",
    "print(doFunc(lambda x: x * 3, 5)) # 15"
   ]
  },
  {
   "cell_type": "markdown",
   "metadata": {},
   "source": [
    "```text\n",
    "Example 31\n",
    "What is the value printed:\n",
    "def triple(num):\n",
    "    return num * 3\n",
    "n=5 \n",
    "print(triple(n)+triple(2))\n",
    "A) 0 B) 6 C) 15 D) 21 E) error\n",
    "```"
   ]
  },
  {
   "cell_type": "markdown",
   "metadata": {},
   "source": [
    "```text\n",
    "Answer \n",
    "Example 31\n",
    "What is the value printed:\n",
    "def triple(num):\n",
    "    return num * 3\n",
    "n=5 \n",
    "print(triple(n)+triple(2))\n",
    "```\n",
    "A) 0  B) 6  C) 15  **D)21**  E) error"
   ]
  },
  {
   "cell_type": "markdown",
   "metadata": {},
   "source": [
    "### Practice Questions: Functions\n",
    "```text\n",
    "Example 32\n",
    "1) Write a function that returns the largest of two numbers.\n",
    "2) Write a function that prints the numbers from 1 to N where N is its input parameter.\n",
    "Call your functions several times to test that they work.\n",
    "```"
   ]
  },
  {
   "cell_type": "markdown",
   "metadata": {},
   "source": [
    "### Conclusion\n",
    "- Python is a general, high-level programming language designed for code readability and simplicity.\n",
    "- Programming concepts covered:\n",
    "    - variables, assignment, expressions, strings, string functions\n",
    "    - making decisions with conditions and if/elif/else\n",
    "    - repeating statements (loops) using for and while loops\n",
    "    - reading input with input() and printing with print()\n",
    "    - data structures including lists and dictionaries\n",
    "    - creating and calling functions, using built-in functions (math, random)\n",
    "\n",
    "- Python is a powerful tool for data analysis and automation."
   ]
  },
  {
   "cell_type": "markdown",
   "metadata": {},
   "source": [
    "### Objectives\n",
    "- Explain what is Python and note the difference between Python 2 and 3\n",
    "- Define: algorithm, program, language, programming \n",
    "- Follow Python basic syntax rules including indentation \n",
    "- Define and use variables and assignment\n",
    "- Apply Python variable naming rules\n",
    "- Perform math expressions and understand operator precedence \n",
    "- Use strings, character indexing, string functions\n",
    "- String functions: split, substr, concatenation\n",
    "- Use Python datetime and clock functions\n",
    "- Read input from standard input (keyboard)\n",
    "- Create comparisons and use them for decisions with if \n",
    "- Combine conditions with and, or, not\n",
    "- Use if/elif/else syntax\n",
    "- Looping with for and while\n",
    "- Create and use lists and list functions \n",
    "- Advanced: list comprehensions, list slicing Create and use dictionaries\n",
    "- Create and use Python functions\n",
    "- Use built-in functions in math library\n",
    "- Create random numbers\n",
    "- Advanced: passing functions, lambda functions"
   ]
  },
  {
   "cell_type": "markdown",
   "metadata": {},
   "source": [
    "### Intoduction\n",
    "Recall:\n",
    "- A Python module or library is code written by others for a specific purpose.\n",
    "- Whenever coding, make sure to look for modules that are already written for you to make your development faster! - Modules are imported using the import command:\n",
    "```\n",
    "    import <modulename>\n",
    "```\n",
    "\n",
    "### Useful Python Modules\n",
    "- Today we be discuss some useful Python modules for data analytics:\n",
    "-     NumPy (http://www.numpy.org/) - N-dimensional arrays, integrating C/C++ and Fortran code, linear algebra, Fourier transform, and random numbers\n",
    "-     SciPy (http://www.scipy.org/) - numerical integration and optimization\n",
    "-     pandas (http://pandas.pydata.org/) - data structures, reading/writing data, data merging/joining/slicing/grouping, time series\n",
    "-     scikit-learn (https://scikit-learn.org/stable/) - machine learning (built on NumPy, SciPy, and matplotlib)\n",
    "\n",
    "### Charts\n",
    "- In addition, we will also explore a useful module for creating visualizations in Python.\n",
    "-    matplotlib http://matplotlib.org/ - foundational 2D plotting\n",
    "\n",
    "N.B. here are numerous graphing and chart libraries:\n",
    "\n",
    "- ggplot http://ggplot.yhathq.com/ - based on R’s ggplot2 \n",
    "- pygal http://pygal.org/en/stable/ - dynamic chart library\n",
    "- Bokeh http://bokeh.pydata.org/ - goal is to produce charts similar to D3.js for browsers\n",
    "- Seaborn http://stanford.edu/ mwaskom/software/seaborn/ - based on matplotlib and designed for statistical graphics\n",
    "- NVD3 https://github.com/areski/python-nvd3\n",
    "\n",
    "### SciPy\n",
    "- [SciPy](https://www.scipy.org) (pronounced “Sigh Pie\") is group of Python libraries for scientific computing.\n",
    "- SciPy includes functions for some advanced math problems as listed on this slide, as well as data visualization.\n",
    "- Using data visualization methods is the best way to communicate with others. Showing them meaningful results of analysis. These libraries enable you to create graphs, charts and maps.\n",
    "\n",
    "### matplotlib\n",
    "- [matplotlib](https://matplotlib.org) is the most widely used plotting library in Python.\n",
    "- N.B. to have plots appear in Jupyter Notebook will use the command:\n",
    "```\n",
    "  %matplotlib inline\n",
    "```\n",
    "- (if you are not using Jupyter notebook, you don’t need this)\n",
    "\n",
    "### pyplot\n",
    "- [matplotlib.pyplot](https://matplotlib.org/api/pyplot_api.html) is a commonly used sub-library.\n",
    "- It is standard practice to shorten matplotlib.pyplot to plt:"
   ]
  },
  {
   "cell_type": "code",
   "execution_count": null,
   "metadata": {},
   "outputs": [],
   "source": [
    "import matplotlib.pyplot as plt"
   ]
  },
  {
   "cell_type": "markdown",
   "metadata": {},
   "source": [
    "- This will save us some typing (eg. we can type plt.bar)\n",
    "- instead of matplotlib.pyplot.bar)\n",
    "- See a helpful [pyplot tutorial](https://matplotlib.org/3.1.0/tutorials/introductory/pyplot.html)\n",
    "```text\n",
    "dotted module names\n",
    "Packages are a way of structuring Python’s module namespace by using dotted module names. For example, the module name A.B designates a submodule named B in a package named A.\n",
    "```  \n",
    "- As a very simple first example (from [pyplot tutorial](https://matplotlib.org/3.1.0/tutorials/introductory/pyplot.html)), lets create a line chart:"
   ]
  },
  {
   "cell_type": "code",
   "execution_count": null,
   "metadata": {},
   "outputs": [],
   "source": [
    "# x-values = 1,2,3,4\n",
    "# y-values = 1,4,9,16\n",
    "plt.plot([1, 2, 3, 4], [1, 4, 9, 16]) \n",
    "# plot wont be shown until we call: \n",
    "plt.show()"
   ]
  },
  {
   "cell_type": "markdown",
   "metadata": {},
   "source": [
    "- We can change the plot from lines - to points o and from blue (b) to red (r)."
   ]
  },
  {
   "cell_type": "code",
   "execution_count": null,
   "metadata": {},
   "outputs": [],
   "source": [
    "plt.plot([1, 2, 3, 4], [1, 4, 9, 16], 'ro')"
   ]
  },
  {
   "cell_type": "markdown",
   "metadata": {},
   "source": [
    "- Additionally we can change the axis ranges:"
   ]
  },
  {
   "cell_type": "code",
   "execution_count": null,
   "metadata": {},
   "outputs": [],
   "source": [
    "# x-axis from 0--6, y-axis from 0--20 \n",
    "plt.axis([0, 6, 0, 20])\n",
    "plt.show()\n"
   ]
  },
  {
   "cell_type": "markdown",
   "metadata": {},
   "source": [
    "See [here](https://matplotlib.org/3.1.0/api/_as_gen/matplotlib.pyplot.plot.html%23matplotlib.pyplot.plot) for more plotting options."
   ]
  },
  {
   "cell_type": "markdown",
   "metadata": {},
   "source": [
    "### numpy\n",
    "- In matplotlib were limited to working with lists.\n",
    "- To get over this limitation, we will generally also import the numpy module (pronounced num-pie) to make use of numpy arrays.\n",
    "- These arrays can be used for both input and output objects and perform fast array calculations.\n",
    "- Common practice is to shorten this module name to np using "
   ]
  },
  {
   "cell_type": "code",
   "execution_count": null,
   "metadata": {},
   "outputs": [],
   "source": [
    "import numpy as np"
   ]
  },
  {
   "cell_type": "markdown",
   "metadata": {},
   "source": [
    "- See a helpful [numpy tutorial](https://cs231n.github.io/python-numpy-tutorial/)\n",
    "### numpy arrays\n",
    "- A numpy array is a grid of values, all of the same type, and is indexed by a tuple of nonnegative integers.\n",
    "- rank The number of dimensions is the rank of the array\n",
    "- shape the shape of an array is a tuple of integers giving the size of the array along each dimension.\n",
    "- Consider the following examples taken from the [pyplot tutorial](https://matplotlib.org/3.1.0/tutorials/introductory/pyplot.html)"
   ]
  },
  {
   "cell_type": "code",
   "execution_count": null,
   "metadata": {},
   "outputs": [],
   "source": [
    "# Create a rank 1 array\n",
    "a = np.array([1, 2, 3])\n",
    "a[0] = 5 # Change an element of the array \n",
    "print(a.shape) # Prints \"(3,)\"\n",
    "a"
   ]
  },
  {
   "cell_type": "markdown",
   "metadata": {},
   "source": [
    "### numpy arrays\n",
    "Create a rank 2 array using Python nested lists, and access elements using square brackets:"
   ]
  },
  {
   "cell_type": "code",
   "execution_count": null,
   "metadata": {},
   "outputs": [],
   "source": [
    "b = np.array([[1,2,3],[4,5,6]])\n",
    "print(b.shape) # Prints \"(2, 3)\" \n"
   ]
  },
  {
   "cell_type": "code",
   "execution_count": null,
   "metadata": {},
   "outputs": [],
   "source": [
    "b\n"
   ]
  },
  {
   "cell_type": "code",
   "execution_count": null,
   "metadata": {},
   "outputs": [],
   "source": [
    "# extract element in row 1 (index 1) and column 3 (index 2) \n",
    "b[1,2]\n"
   ]
  },
  {
   "cell_type": "code",
   "execution_count": null,
   "metadata": {},
   "outputs": [],
   "source": [
    "b[(1,2)] # can also index using a tuple\n"
   ]
  },
  {
   "cell_type": "code",
   "execution_count": null,
   "metadata": {},
   "outputs": [],
   "source": [
    "# more examples:\n",
    "print(b[0,2],b[1,0])"
   ]
  },
  {
   "cell_type": "markdown",
   "metadata": {},
   "source": [
    "### numpy arrays indexing\n",
    "- Similar to Python lists, numpy arrays can be sliced. Since arrays may be multidimensional, you must specify a slice for each dimension of the array:"
   ]
  },
  {
   "cell_type": "code",
   "execution_count": null,
   "metadata": {},
   "outputs": [],
   "source": [
    "b\n"
   ]
  },
  {
   "cell_type": "code",
   "execution_count": null,
   "metadata": {},
   "outputs": [],
   "source": [
    "# first row:\n",
    "b[0, :]\n"
   ]
  },
  {
   "cell_type": "code",
   "execution_count": null,
   "metadata": {},
   "outputs": [],
   "source": [
    "# second column\n",
    "b[:,1]\n"
   ]
  },
  {
   "cell_type": "code",
   "execution_count": null,
   "metadata": {},
   "outputs": [],
   "source": [
    "# first 2 rows and columns 1 and 2\n",
    "b[:2, 1:3]"
   ]
  },
  {
   "cell_type": "markdown",
   "metadata": {},
   "source": [
    "### numpy arrays\n",
    "[np.arrange](https://numpy.org/doc/stable/reference/generated/numpy.arange.html%23numpy.arange) return evenly spaced values within a given interval. Eg, evenly sampled points between 0 and 5 at 0.2 intervals\n"
   ]
  },
  {
   "cell_type": "code",
   "execution_count": null,
   "metadata": {},
   "outputs": [],
   "source": [
    "t = np.arange(0, 1, 0.2)\n",
    "# array([0. , 0.2, 0.4, 0.6, 0.8])"
   ]
  },
  {
   "cell_type": "markdown",
   "metadata": {},
   "source": [
    "- General usage: np.arrange(start,stop,step).\n",
    "-  as before start and step defaults to 0 and 1, resp.\n",
    "- There are a number of [other methods](https://numpy.org/doc/stable/user/basics.creation.html%23arrays-creation) for array creation as well:"
   ]
  },
  {
   "cell_type": "code",
   "execution_count": null,
   "metadata": {},
   "outputs": [],
   "source": [
    "a = np.zeros((2,2)) # Create a 2x2 array of zeros\n",
    "b = np.ones((1,2)) # Create a 1x2 array of ones\n",
    "c = np.full((2,2), 7) # Creates 2x2 a array of 7s"
   ]
  },
  {
   "cell_type": "markdown",
   "metadata": {},
   "source": [
    "### matplotlib - Bar Chart Example\n"
   ]
  },
  {
   "cell_type": "code",
   "execution_count": null,
   "metadata": {},
   "outputs": [],
   "source": [
    "import matplotlib.pyplot as plt #[1] \n",
    "import numpy as np\n",
    "# number of dogs/group\n",
    "data1 = [25,45,35,20]\n",
    "# number of cats/group\n",
    "data2 = [35,40,25,30]\n",
    "index = np.arange(len(data1))\n",
    "bar_width = 0.35\n",
    "opacity = 0.4\n",
    "# cont'd on next slide\n",
    "# to create arrays for rect position \n",
    "index = np.arange(len(data1))\n",
    "index"
   ]
  },
  {
   "cell_type": "markdown",
   "metadata": {},
   "source": [
    "### matplotlib - Bar Chart Example"
   ]
  },
  {
   "cell_type": "code",
   "execution_count": null,
   "metadata": {},
   "outputs": [],
   "source": [
    "# continued from previous slide\n",
    "rects1 = plt.bar(index, data1, bar_width, alpha=opacity,color='b', label='Dogs')\n",
    "rects2 = plt.bar(index + bar_width, data2, bar_width,alpha=opacity, color='r', label='Cats') \n",
    "plt.xlabel('Group')\n",
    "plt.ylabel('Count')\n",
    "plt.title('Dogs versus Cats')\n",
    "plt.xticks(index + bar_width, ('1', '2', '3', '4')) \n",
    "plt.legend()\n",
    "plt.tight_layout() # to remove whitespace plt.show()\n"
   ]
  },
  {
   "cell_type": "code",
   "execution_count": null,
   "metadata": {},
   "outputs": [],
   "source": [
    "# NB\n",
    "index + bar_width "
   ]
  },
  {
   "cell_type": "markdown",
   "metadata": {},
   "source": [
    "### matplotlib - Bar Chart Example"
   ]
  },
  {
   "cell_type": "code",
   "execution_count": null,
   "metadata": {},
   "outputs": [],
   "source": [
    "# continued from previous slide\n",
    "rects1 = plt.bar(index, data1, bar_width, alpha=opacity,color='b', label='Dogs')\n",
    "rects2 = plt.bar(index + bar_width, data2, bar_width,alpha=opacity, color='r', label='Cats')\n",
    "plt.xlabel('Group')\n",
    "plt.ylabel('Count')\n",
    "plt.title('Dogs versus Cats')\n",
    "plt.xticks(index + bar_width, ('1', '2', '3', '4')) \n",
    "plt.legend()\n",
    "plt.tight_layout() # to remove whitespace plt.show()\n",
    "## NB\n",
    "index + bar_width"
   ]
  },
  {
   "cell_type": "markdown",
   "metadata": {},
   "source": [
    "### Some comments\n",
    "- Python starts plotting everything in the background and wont display the graph until plot.show() is called.\n",
    "- matplotlib colours are given here\n",
    "-    eg. rforredcforcyankforblack\n",
    "-    you can also use full names ('green'), hex strings('#008000'), or RGB/RGBA tuples ((0,1,0,1)).\n",
    "- Thelabelargumentwillbeusedwhenwecallplt.legend() 􏰀 the colours, and labels will be generated automatically (using the plt.x/ylabel)"
   ]
  },
  {
   "cell_type": "markdown",
   "metadata": {},
   "source": [
    "### matplotlib - Histograms\n",
    "Python [histograms](https://matplotlib.org/3.1.0/api/_as_gen/matplotlib.pyplot.hist.html)"
   ]
  },
  {
   "cell_type": "code",
   "execution_count": null,
   "metadata": {},
   "outputs": [],
   "source": [
    "import numpy as np\n",
    "import matplotlib.pyplot as plt\n",
    "num_bins = 5\n",
    "x = [5,3,8,5,2,7,2,4,6,2]\n",
    "# saves output to variables\n",
    "# (eg of tuple unpacking!)\n",
    "n, bins, patches = plt.hist(x, num_bins,density=False, facecolor='blue', alpha=0.5)\n",
    "plt.xlabel('Number') \n",
    "plt.ylabel('Count')\n",
    "plt.title('Histogram') \n",
    "plt.show()"
   ]
  },
  {
   "cell_type": "markdown",
   "metadata": {},
   "source": [
    "### matplotlib - Histograms comments\n",
    "- bins partition our range of values into a subsets\n",
    "- Histograms count the number of observations falling into each bin n: is the number of counts in each bin of the histogram\n",
    "- bins: is the left hand edge of each bin, example:"
   ]
  },
  {
   "cell_type": "code",
   "execution_count": null,
   "metadata": {},
   "outputs": [],
   "source": [
    "bins"
   ]
  },
  {
   "cell_type": "markdown",
   "metadata": {},
   "source": [
    "- patches: is the individual patches used to create the histogram, e.g a collection of rectangles:"
   ]
  },
  {
   "cell_type": "code",
   "execution_count": null,
   "metadata": {},
   "outputs": [],
   "source": [
    "print(patches[1])"
   ]
  },
  {
   "cell_type": "markdown",
   "metadata": {},
   "source": [
    "- density:  is a logical object that is False (or 0) if you want the y-axis to be in terms of counts, and True (or 1) when plotting the probability densities"
   ]
  },
  {
   "cell_type": "markdown",
   "metadata": {},
   "source": [
    "### SciPy stats\n",
    "- Another helpful module is [scipy.stats](https://docs.scipy.org/doc/scipy/reference/stats.html)\n",
    "- This module contains a large number of probability distributions as well as a growing library of statistical functions.\n",
    "- We will use the norm.pdf compare the probability density function (pdf) or a normal distribution with random data generated from a normal distribution.\n",
    " -    The [normal distribution](https://en.wikipedia.org/wiki/Normal_distribution) is a bell shaped distribution with a mean (i.e. center) given my μ (or mu in the code) and a standard deviation of σ (or sigma in the code).\n",
    " -    We generate random normal data using the [numpy.random.randn](https://numpy.org/doc/stable/reference/generated/numpy.random.randn.html) function (which return samples from the \"standard normal\"1 distribution).\n",
    "􏰀\n",
    "- N.B. we use [TeX markup](https://matplotlib.org/tutorials/text/mathtext.html) in the title eg. $\\mu$ appears μ\n",
    "\n",
    "- 1 Normal distribution with a μ=0, σ = 1"
   ]
  },
  {
   "cell_type": "markdown",
   "metadata": {},
   "source": [
    "### matplotlib - Histogram Example (2)"
   ]
  },
  {
   "cell_type": "code",
   "execution_count": null,
   "metadata": {},
   "outputs": [],
   "source": [
    "import numpy as np\n",
    "import matplotlib.pyplot as plt \n",
    "import scipy.stats\n",
    "mu = 100\n",
    "sigma = 15\n",
    "x = mu+sigma*np.random.randn(10000)\n",
    "num_bins = 50\n",
    "n, bins, patches = plt.hist(x, num_bins, edgecolor=\"k\",density=1, facecolor='green', alpha=0.5)\n",
    "y = scipy.stats.norm.pdf(bins, mu, sigma)\n",
    "plt.plot(bins, y, 'r--')\n",
    "plt.xlabel('Smarts')\n",
    "plt.ylabel('Probability')\n",
    "plt.title(r'Histogram of IQ: $\\mu=100$, $\\sigma=15$')\n",
    "plt.subplots_adjust(left=0.15)\n",
    "plt.show()"
   ]
  },
  {
   "cell_type": "markdown",
   "metadata": {},
   "source": [
    "```text\n",
    " Exercise\n",
    "1. How does your plot change when you update the number of bins from the previous example from 50 to 10.\n",
    "2. How does your plot change when you delete the edgecolor = \"k\"? (remember k stands for black)\n",
    "3. How does your plot change when you set density to False? \n",
    "4. How does your plot change when you set the facecolor to 'g'?\n",
    "5. How does your plot change when you set alpha to 0.1?\n",
    "```"
   ]
  },
  {
   "cell_type": "markdown",
   "metadata": {},
   "source": [
    "### Try in Charts\n",
    "```text\n",
    "Example 16\n",
    "Write a program to create a bar chart for this data:\n",
    "series1 = [40, 50, 60, 70, 80] \n",
    "series2 = [70, 50, 40, 90, 30] \n",
    "Output:\n",
    "```"
   ]
  },
  {
   "cell_type": "markdown",
   "metadata": {},
   "source": [
    "### SciPy stats\n",
    "- In addition the scipy.stats module has the linregress function for performing linear regression.\n",
    "- The gerenal syntax is:\n",
    "```\n",
    "scipy.stats.linregress(x, y)\n",
    "```\n",
    "- The above calculate a linear least-squares regression for two sets of measurements: the explanatory variable x and the response variable y."
   ]
  },
  {
   "cell_type": "markdown",
   "metadata": {},
   "source": [
    "### SciPy [Linear Regression](https://docs.scipy.org/doc/scipy/reference/generated/scipy.stats.linregress.html) Example"
   ]
  },
  {
   "cell_type": "code",
   "execution_count": null,
   "metadata": {},
   "outputs": [],
   "source": [
    "from scipy import stats\n",
    "import numpy as np\n",
    "import matplotlib.pyplot as plt\n",
    "x = np.array([5, 7, 9, 11, 13, 15])\n",
    "y = np.array([11, 14, 20, 24, 29, 31])\n",
    "slope, intercept, r_value, p_value,slope_std_error = stats.linregress(x, y)\n",
    "#Save the resulting tuple to variables that we can use later,. . ."
   ]
  },
  {
   "cell_type": "markdown",
   "metadata": {},
   "source": [
    "### SciPy [Linear Regression](https://docs.scipy.org/doc/scipy/reference/generated/scipy.stats.linregress.html) Example\n",
    "\n",
    "- Find the residuals, (observed y values minus the predicted y values produced by our fitted model):"
   ]
  },
  {
   "cell_type": "code",
   "execution_count": null,
   "metadata": {},
   "outputs": [],
   "source": [
    "predict_y = intercept + slope * x \n",
    "print(\"Predicted y-values:\",predict_y) \n",
    "pred_error = y - predict_y \n",
    "print(\"Prediction error:\",pred_error)"
   ]
  },
  {
   "cell_type": "markdown",
   "metadata": {},
   "source": [
    "- Compute the [residual standard error](https://www.investopedia.com/terms/r/residual-standard-deviation.asp) (a measure of prediction error)"
   ]
  },
  {
   "cell_type": "code",
   "execution_count": null,
   "metadata": {},
   "outputs": [],
   "source": [
    "degr_freedom = len(x) - 2\n",
    "residual_std_error = np.sqrt(np.sum(pred_error**2)/degr_freedom)\n",
    "print(\"Residual error:\",residual_std_error)"
   ]
  },
  {
   "cell_type": "markdown",
   "metadata": {},
   "source": [
    "### SciPy [Linear Regression](https://docs.scipy.org/doc/scipy/reference/generated/scipy.stats.linregress.html)Example\n",
    "- Plot the raw data with the fitted regression line:"
   ]
  },
  {
   "cell_type": "code",
   "execution_count": null,
   "metadata": {},
   "outputs": [],
   "source": [
    "plt.plot(x, y, 'o') # o for points\n",
    "plt.plot(x, predict_y, 'k-') # - for line, k for black \n",
    "plt.show()\n",
    "  "
   ]
  },
  {
   "cell_type": "markdown",
   "metadata": {},
   "source": [
    "### SciPy - K-means Clustering\n",
    "- Scipy also provides routines for conducting k-means clustering and vector quantization.\n",
    "- The input of k-means algorithm:\n",
    " - k the number of clusters to generate\n",
    " - x the set of observations to cluster\n",
    "- The output of k-means algorithm:\n",
    " - a set of centroids, one for each of the k clusters.\n",
    " - a classification vector: an observation is assigned to the cluster whose centroid is closest to it."
   ]
  },
  {
   "cell_type": "markdown",
   "metadata": {},
   "source": [
    "SciPy - [K-means Clustering](https://glowingpython.blogspot.com/2012/04/k-means-clustering-with-scipy.html)"
   ]
  },
  {
   "cell_type": "code",
   "execution_count": null,
   "metadata": {},
   "outputs": [],
   "source": [
    "from numpy import vstack,array\n",
    "from numpy.random import rand\n",
    "from scipy.cluster.vq import kmeans,vq\n",
    "# creates a 300x2 array of data\n",
    "data = vstack((rand(150,2) + array([.5,.5]),rand(150,2)))\n",
    "# computing K-Means with K = 2 (2 clusters)\n",
    "centroids,_ = kmeans(data,2)\n",
    "# assign each sample to a cluster\n",
    "idx,_ = vq(data,centroids)"
   ]
  },
  {
   "cell_type": "markdown",
   "metadata": {},
   "source": [
    "### Some comments\n",
    "rand(150,2) generates an np.array with 150 rows and 2 columns with random numbers from the interval (0, 1) more[here](https://docs.scipy.org/doc/numpy-1.15.1/reference/generated/numpy.random.rand.html)\n",
    "\n",
    "Alternatively, we could have used a loop and See [numpy.asarray](https://numpy.org/doc/stable/reference/generated/numpy.asarray.html)\n"
   ]
  },
  {
   "cell_type": "code",
   "execution_count": null,
   "metadata": {
    "scrolled": true
   },
   "outputs": [],
   "source": [
    "import random as rnd \n",
    "import numpy as np \n",
    "data = []\n",
    "for i in range(0,100):\n",
    "    data.append([rnd.random(), rnd.random()])\n",
    "# need to convert to array for kmeans \n",
    "data = np.asarray(data)\n",
    "# looks like:\n",
    "data"
   ]
  },
  {
   "cell_type": "markdown",
   "metadata": {},
   "source": [
    "### Some comments\n",
    "[vstack](https://numpy.org/doc/stable/reference/generated/numpy.vstack.html) stack arrays in sequence vertically (row wise).\n"
   ]
  },
  {
   "cell_type": "code",
   "execution_count": null,
   "metadata": {},
   "outputs": [],
   "source": [
    "a = np.array([1, 2, 3])\n",
    "b = np.array([[2, 3, 4], [5,6,7]])\n",
    "np.vstack((a,b))"
   ]
  },
  {
   "cell_type": "markdown",
   "metadata": {},
   "source": [
    "```text\n",
    "Tip:\n",
    "When you import a function named myfunction from a module named mymodule via import mymodule you need to use the dot notation, i.e. mymodule.myfunction to use it. If you import the function via from mymodule import myfunction, you can access the function by calling it directly, i.e myfunction\n",
    "\n",
    "```"
   ]
  },
  {
   "cell_type": "markdown",
   "metadata": {},
   "source": [
    "### Some comments\n",
    "The notation ,_ means we’ll be taking the first element of the tuple outputed from kmeans() (i.e. the k × N centroid array) and ignore the second argument."
   ]
  },
  {
   "cell_type": "code",
   "execution_count": null,
   "metadata": {},
   "outputs": [],
   "source": [
    "# a simple example (2 gets thrown away) \n",
    "A,_ = [1,2] # A = 1\n",
    "_,B = [1,2] # B=2\n",
    "A,_,_ = [1,2,3] # A = 1"
   ]
  },
  {
   "cell_type": "markdown",
   "metadata": {},
   "source": [
    "- Alternatively, we may think of this notation as doing the following:"
   ]
  },
  {
   "cell_type": "code",
   "execution_count": null,
   "metadata": {},
   "outputs": [],
   "source": [
    "km = kmeans(data,2)\n",
    "type(km)"
   ]
  },
  {
   "cell_type": "code",
   "execution_count": null,
   "metadata": {},
   "outputs": [],
   "source": [
    "centroids = km[0]\n",
    "centroids "
   ]
  },
  {
   "cell_type": "markdown",
   "metadata": {},
   "source": [
    "### SciPy - K means Clustering (2)\n"
   ]
  },
  {
   "cell_type": "code",
   "execution_count": null,
   "metadata": {},
   "outputs": [],
   "source": [
    "# Move data into individual lists based on clustering \n",
    "numclusters=5\n",
    "clusters = []\n",
    "for i in range(0, numclusters):\n",
    "    clusters.append([[],[]])\n",
    "clusters\n",
    "  \n",
    "\n"
   ]
  },
  {
   "cell_type": "markdown",
   "metadata": {},
   "source": [
    "- Creates a nested Pyhon list. First element is of clusters contains the data points from members assigned to group 0, the second elements contains the data pairs assigned to group 1."
   ]
  },
  {
   "cell_type": "code",
   "execution_count": null,
   "metadata": {},
   "outputs": [],
   "source": [
    "# run after the code from the next slide:\n",
    "clusters[0][0] # x values from cluster 0 (blue)\n",
    "clusters[0][1] # y values from cluster 0 (blue)\n",
    "clusters[1][0] # x values from cluster 1 (red)\n",
    "clusters[1][1] # y values from cluster 1 (red)"
   ]
  },
  {
   "cell_type": "markdown",
   "metadata": {},
   "source": [
    "### SciPy - K means Clustering (3)"
   ]
  },
  {
   "cell_type": "code",
   "execution_count": null,
   "metadata": {
    "scrolled": true
   },
   "outputs": [],
   "source": [
    "for i in range(0,len(idx)):\n",
    "    clusterIdx = idx[i]\n",
    "    # saving the x values for cluster = clusterIdx \n",
    "    clusters[clusterIdx][0].append(data[i][0])\n",
    "    # saving the y values for cluster = clusterIdx\n",
    "    clusters[clusterIdx][1].append(data[i][1])\n",
    "# Plot data points and cluster centroids\n",
    "# 'ob' for blue points (group index 0)\n",
    "# 'or' for red points (group index 1) \n",
    "plt.plot(clusters[0][0],clusters[0][1],'ob',clusters[1][0],clusters[1][1],'or')\n",
    "# centroids[:,0] = first column for centroid of group 0\n",
    "# centroids[:,1] = second column for centroid of group 1\n",
    "plt.plot(centroids[:,0],centroids[:,1],'sg',markersize=8)\n",
    "plt.show()"
   ]
  },
  {
   "cell_type": "markdown",
   "metadata": {},
   "source": [
    "### SciPy - K means Clustering\n",
    "- The plot argument ob/or stands for blue and red circle markers, resp. See more on plot formatting [here](https://www.python-course.eu/matplotlib.php)."
   ]
  },
  {
   "cell_type": "markdown",
   "metadata": {},
   "source": [
    "```text\n",
    "Example 17\n",
    "Write a program that uses SciPy to perform a linear regression on this data set:\n",
    "x = [1, 5, 10, 15, 20, 25]\n",
    "y = [-1, -12, -26, -40, -60, -73]\n",
    "Output:\n",
    "```\n",
    "put an image here "
   ]
  },
  {
   "cell_type": "markdown",
   "metadata": {},
   "source": [
    "### scikit-learn and BeautifulSoup\n",
    "- scikit-learn (http://scikit-learn.org/) is a machine learning library for Python.\n",
    " - Features:\n",
    " - classification\n",
    " - regression\n",
    " - clustering\n",
    " - dimensionality reduction\n",
    "BeautifulSoup \n",
    "(http://www.crummy.com/software/BeautifulSoup/) is a library to make it easy to search, navigate, and extract data from HTML and XML documents.\n"
   ]
  },
  {
   "cell_type": "markdown",
   "metadata": {},
   "source": [
    "### Python -Databases\n",
    "- [MySQL](https://www.mysql.com) is a popular open source relational database management system.\n",
    "- We can access this data via Python using the mysql.connector module. See the [developer guide](https://dev.mysql.com/doc/connector-python/en/) and [W3schools](https://www.w3schools.com/python/python_mysql_getstarted.asp) tutorial for more details\n",
    " - [notes](https://dev.mysql.com/doc/connector-python/en/connector-python-example-connecting.html) on connecting\n",
    " - [notes](https://dev.mysql.com/doc/connector-python/en/connector-python-example-ddl.html) on creating tables\n",
    " - [notes](https://dev.mysql.com/doc/connector-python/en/connector-python-example-cursor-select.html) on querying\n",
    "- Note that this code will require that we are on UBC secure wifi (off campus we must connect with VPN)."
   ]
  },
  {
   "cell_type": "markdown",
   "metadata": {},
   "source": [
    "### Try it - Databases\n",
    "```text \n",
    "Example 18\n",
    "Write a program that queries the WorksOn database and returns the employees grouped by title where the employee name is after 'J'. The output should display their title and the average salary for that title. Connection info:\n",
    "cnx = mysql.connector.connect(user='data301', password='ubc', host='cosc304.ok.ubc.ca', database='WorksOn')\n",
    "```\n",
    "  "
   ]
  },
  {
   "cell_type": "markdown",
   "metadata": {},
   "source": [
    "```\n",
    "# answer\n",
    "import mysql.connector try:\n",
    "cnx=mysql.connector.connect(user='data301', password='ubc', host='cosc304.ok.ubc.ca',database='WorksOn')\n",
    "cursor = cnx.cursor()\n",
    "query = (\"SELECT title, AVG(salary) as avgSalary\n",
    "FROM emp WHERE ename >= 'J' GROUP BY title\") cursor.execute(query)\n",
    "for (title, avgSalary) in cursor:\n",
    "         print(title, avgSalary) cursor.close()\n",
    "except mysql.connector.Error as err:\n",
    "         print(err)\n",
    "finally:\n",
    "         cnx.close()\n",
    "```"
   ]
  },
  {
   "cell_type": "markdown",
   "metadata": {},
   "source": [
    "### MapReduce\n",
    "- Map-Reduce is a technique for processing large data sets in a functional manner. See the [Wikipedia article](https://en.wikipedia.org/wiki/MapReduce)\n",
    "- The technique was invented by Google and is implemented in a variety of systems including Python, NoSQL databases, and a Big Data system called Hadoop.\n",
    "- In Hadoop, map takes as input key-value pairs and outputs key-value pairs. The shuffle step will move pairs to particular machines based on keys. The reduce step takes a list of key-value pairs (with same key) and reduces to one value.\n",
    "- It is possible to code map/reduce functions in Python for use in Hadoop cluster."
   ]
  },
  {
   "cell_type": "markdown",
   "metadata": {},
   "source": [
    "### MapReduce\n",
    "- Simpler version of Map-Reduce in Python without a cluster:\n",
    "- ***Map function*** takes as input a list and a function then applies function to each element of the list to produce a new list as output\n",
    "- ***Filter function*** only keeps list elements where filter function is True\n",
    "- ***Reduce function*** takes result of map/filter and produces single value from list\n",
    "\n",
    "- N.B. The reduce function has been moved to the functools module for Python3 with creator noting “99% of the time an explicit for loop is more readable\""
   ]
  },
  {
   "cell_type": "markdown",
   "metadata": {},
   "source": [
    "### map\n",
    "- General usage: map(function_to_apply, list_of_inputs) \n",
    "- Data: a1, a2, . . . , an (could be elements in a tuple or a list)\n",
    "- Function: f (x)\n",
    "- Calling map(f (x), Data) would return\n",
    " - f(a1),f(a2),...f(an)"
   ]
  },
  {
   "cell_type": "markdown",
   "metadata": {},
   "source": [
    "### filter\n",
    "- General usage: filter(function_to_apply, list_of_inputs)\n",
    "- Data: a1, a2, . . . , an (could be elements in a tuple or a list)\n",
    "- Function: f (x ) (this function should return True or False \n",
    "- Calling map(f (x), Data) would return:\n",
    " - all ai s for which f (ai ) returns True"
   ]
  },
  {
   "cell_type": "markdown",
   "metadata": {},
   "source": [
    "### reduce\n",
    "- General usage: reduce(function_to_apply, list_of_inputs) \n",
    "- Data: a1, a2, . . . , an (could be elements in a tuple or a list)\n",
    "- Function: f(x,y)\n",
    "- Calling reduce(f(x,y), Data) would perform: \n",
    " - Step 1: val1 = f (a1, a2)\n",
    " - Step 2: val2 = f (val1, a3)\n",
    " - Step 3: val3 = f (val2, a4)\n",
    " - ...\n",
    " - Step n-1 valn−1 = f (valn−2, an) and return: valn−1"
   ]
  },
  {
   "cell_type": "markdown",
   "metadata": {},
   "source": [
    "### Python - MapReduce Example"
   ]
  },
  {
   "cell_type": "code",
   "execution_count": null,
   "metadata": {},
   "outputs": [],
   "source": [
    "import functools     # For Reduce\n",
    "data = [1, 2, 3, 4, 5, 6]\n",
    "def triple(x):  # function to be used with map\n",
    "    return x*3\n",
    "def myfilter(x): # function to be used with filter \n",
    "    if x % 2 == 0:\n",
    "        return True\n",
    "    return False\n",
    "def sum(x, y):      # function to be used with reduce\n",
    "    return x+y"
   ]
  },
  {
   "cell_type": "markdown",
   "metadata": {},
   "source": [
    "### Python - map Example"
   ]
  },
  {
   "cell_type": "code",
   "execution_count": null,
   "metadata": {},
   "outputs": [],
   "source": [
    "result = list(map(triple, data)) \n",
    "print(\"Result after map:\",result) \n",
    "##Result after map:"
   ]
  },
  {
   "cell_type": "markdown",
   "metadata": {},
   "source": [
    "### To see this using a for loop:"
   ]
  },
  {
   "cell_type": "code",
   "execution_count": null,
   "metadata": {},
   "outputs": [],
   "source": [
    "items = [1, 2, 3, 4, 5, 6]\n",
    "output = []\n",
    "for i in items:\n",
    "    val = triple(i)\n",
    "    output.append(val)\n",
    "print(output)"
   ]
  },
  {
   "cell_type": "markdown",
   "metadata": {},
   "source": [
    "### Python - filter Example"
   ]
  },
  {
   "cell_type": "code",
   "execution_count": null,
   "metadata": {},
   "outputs": [],
   "source": [
    "result = list(filter(myfilter, result))\n",
    "print(\"Result after filter:\",result) \n",
    "### Result after filter: [6, 12, 18]"
   ]
  },
  {
   "cell_type": "code",
   "execution_count": null,
   "metadata": {},
   "outputs": [],
   "source": [
    "## Alternatively using a for loop:\n",
    "items = [3, 6, 9, 12, 15, 18]\n",
    "output = []\n",
    "for i in items:\n",
    "    val = myfilter(i)\n",
    "    if val:\n",
    "        output.append(i)\n",
    "print(output) # returns all the even numbers"
   ]
  },
  {
   "cell_type": "code",
   "execution_count": null,
   "metadata": {},
   "outputs": [],
   "source": [
    "### Python - reduce Example\n",
    "result = functools.reduce(sum, result)\n",
    "print(\"Result after reduce:\",result)\n",
    "# Result after reduce: 36\n"
   ]
  },
  {
   "cell_type": "code",
   "execution_count": null,
   "metadata": {},
   "outputs": [],
   "source": [
    "### To see this using a loop:\n",
    "\n",
    "items = [6, 12, 18]\n",
    "val = items[0]\n",
    "item2 = items[1:] \n",
    "for a in item2:\n",
    "    val = sum(val,a)\n",
    "    \n",
    "print(val)"
   ]
  },
  {
   "cell_type": "markdown",
   "metadata": {},
   "source": [
    "􏰀- Notice that when using map, the items in the result are values returned by the function triple.\n",
    "􏰀- In contrast, the values returned by myfilter in filter(f, ...) are not outputted results themselves, but rather an index of the values that returned True.\n",
    "􏰀- The values returned by the reduce function returns a single result."
   ]
  },
  {
   "cell_type": "markdown",
   "metadata": {},
   "source": [
    "### Try It - MapReduce\n",
    "```text\n",
    "Example 19\n",
    "Write a map-reduce program that during the map step will sub- tract 2 from each element. The reduce step should return the product of all the elements in the list.\n",
    "```"
   ]
  },
  {
   "cell_type": "markdown",
   "metadata": {},
   "source": [
    "### Pandas\n",
    "- Pandas is a very popular Python library for data analysis.\n",
    "- The library provides “high-performance, easy-to-use data analysis tools for the Python programming language” [Source: pandas.pydata.org]\n",
    "- By importing this module, you can create data frame which are two dimensional tables consisting of column and row labels (like a spreadsheet).\n",
    "- It is designed to provided easy indexing functionality.\n",
    "### Installing pandas\n",
    "- The easiest way to install pandas is to use the [Anaconda](https://www.anaconda.com/products/individual) distribution.\n",
    "- With Anaconda you can install pandas and any dependencies by typing the following in Terminal/Command Prompt:"
   ]
  },
  {
   "cell_type": "code",
   "execution_count": null,
   "metadata": {},
   "outputs": [],
   "source": [
    "conda install pandas"
   ]
  },
  {
   "cell_type": "code",
   "execution_count": null,
   "metadata": {},
   "outputs": [],
   "source": [
    "## Check to see if you have installed pandas properly in Python:\n",
    "import pandas\n",
    "pandas.__version__ "
   ]
  },
  {
   "cell_type": "markdown",
   "metadata": {},
   "source": [
    "Read more on pandas install using other methods [here](https://pandas.pydata.org/pandas-docs/stable/getting_started/install.html)."
   ]
  },
  {
   "cell_type": "markdown",
   "metadata": {},
   "source": [
    "### 􏰀                               At the core of pandas are three data structures:"
   ]
  },
  {
   "cell_type": "markdown",
   "metadata": {},
   "source": [
    "### Conclusion\n",
    "- Python has many libraries to help with data analysis tasks:\n",
    " - reading and write to files\n",
    " - csv module for processing CSV files\n",
    " - Biopython for bioinformatics\n",
    " - numerous chart libraries including matplotlib and ggplot 􏰀 \n",
    " - SciPy - collection of libraries for scientific computing\n",
    " - libraries for web access and parsing (BeautifulSoup)\n",
    " - database access libraries and connectors\n",
    "- The try-except statement is used to handle exceptions so that the program may continue when an error condition occurs."
   ]
  },
  {
   "cell_type": "markdown",
   "metadata": {},
   "source": [
    "### Objectives􏰀 􏰀 􏰀 􏰀 􏰀\n",
    "- Open, read, write, and close text files\n",
    "- Process CSV files including using the csv module\n",
    "- Define: IPv4/IPv6 address, domain, domain name, URL\n",
    "- Read URLs using urllib.request.\n",
    "- Define: exception, exception handling\n",
    "- Use try-except statement to handle exceptions and understand how each of try, except, else, finally blocks are used\n",
    "- Import Python modules\n",
    "- Use Biopython module to retrieve NCBI data and perform BLAST\n",
    "- Build charts using matplotlib\n",
    "- Perform linear regression and k-means clustering using SciPy \n",
    "- Connect to and query the MySQL database using Python\n",
    "- Write simple Map-Reduce programs"
   ]
  },
  {
   "cell_type": "code",
   "execution_count": null,
   "metadata": {},
   "outputs": [],
   "source": []
  },
  {
   "cell_type": "code",
   "execution_count": null,
   "metadata": {},
   "outputs": [],
   "source": []
  },
  {
   "cell_type": "code",
   "execution_count": null,
   "metadata": {},
   "outputs": [],
   "source": []
  }
 ],
 "metadata": {
  "kernelspec": {
   "display_name": "Python 3",
   "language": "python",
   "name": "python3"
  },
  "language_info": {
   "codemirror_mode": {
    "name": "ipython",
    "version": 3
   },
   "file_extension": ".py",
   "mimetype": "text/x-python",
   "name": "python",
   "nbconvert_exporter": "python",
   "pygments_lexer": "ipython3",
   "version": "3.8.3"
  }
 },
 "nbformat": 4,
 "nbformat_minor": 4
}
