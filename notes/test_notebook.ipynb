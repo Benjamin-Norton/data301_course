{
 "cells": [
  {
   "cell_type": "markdown",
   "metadata": {},
   "source": [
    "# Content with notebooks\n",
    "\n",
    "You can also create content with Jupyter Notebooks. This means that you can include\n",
    "code blocks and their outputs in your book."
   ]
  },
  {
   "cell_type": "code",
   "execution_count": 4,
   "metadata": {
    "execution": {
     "iopub.execute_input": "2020-07-15T07:59:12.200Z",
     "iopub.status.busy": "2020-07-15T07:59:12.194Z",
     "iopub.status.idle": "2020-07-15T07:59:12.210Z",
     "shell.execute_reply": "2020-07-15T07:59:12.213Z"
    }
   },
   "outputs": [
    {
     "name": "stdout",
     "output_type": "stream",
     "text": [
      "5\n"
     ]
    }
   ],
   "source": [
    "print(5)"
   ]
  },
  {
   "cell_type": "markdown",
   "metadata": {},
   "source": [
    "## Course Outline\n",
    "\n",
    "### The Essence of the Course\n",
    "\n",
    "The overall goal of this course is for you to: \n",
    "> Understand data analytics and be able to apply data analysis to data sets using a variety of software tools and techniques.\n",
    "\n",
    "<img src=\"../images/01Intro/excel.png\" alt=\"excel\" height=\"48\"> <img src=\"../images/01Intro/python.png\" alt=\"python\" height=\"48\">\n",
    "<img src=\"../images/01Intro/sql.png\" alt=\"sql\" height=\"48\"> <img src=\"../images/01Intro/Rlogo.png\" alt=\"Rlogo\" height=\"48\">\n",
    "<img src=\"../images/01Intro/Tableau.png\" alt=\"Tableau\" height=\"48\">\n",
    "\n",
    "\n",
    "* The most exciting aspect of data analytics is discovering and presenting useful data/information that can have an impact on business, society, etc.\n",
    "* This course will provide the tools and skills for you to perform your own data analysis when encountering problems in the real-world.\n",
    "* As an introductory course, the goal is to get exposure to the skills and techniques as there will not be time for mastery.\n"
   ]
  },
  {
   "cell_type": "markdown",
   "metadata": {},
   "source": [
    "## Section"
   ]
  },
  {
   "cell_type": "code",
   "execution_count": null,
   "metadata": {
    "collapsed": true,
    "jupyter": {
     "outputs_hidden": false,
     "source_hidden": false
    },
    "nteract": {
     "transient": {
      "deleting": false
     }
    }
   },
   "outputs": [],
   "source": []
  }
 ],
 "metadata": {
  "kernelspec": {
   "display_name": "Python 3",
   "language": "python",
   "name": "python3"
  },
  "language_info": {
   "codemirror_mode": {
    "name": "ipython",
    "version": 3
   },
   "file_extension": ".py",
   "mimetype": "text/x-python",
   "name": "python",
   "nbconvert_exporter": "python",
   "pygments_lexer": "ipython3",
   "version": "3.7.7"
  },
  "nteract": {
   "version": "0.24.0"
  },
  "widgets": {
   "application/vnd.jupyter.widget-state+json": {
    "state": {},
    "version_major": 2,
    "version_minor": 0
   }
  }
 },
 "nbformat": 4,
 "nbformat_minor": 4
}