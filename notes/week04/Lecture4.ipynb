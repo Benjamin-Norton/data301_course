{
 "cells": [
  {
   "cell_type": "markdown",
   "metadata": {},
   "source": [
    "# DATA 301"
   ]
  },
  {
   "cell_type": "markdown",
   "metadata": {},
   "source": [
    "### Why learn Python?\n",
    "Python is increasingly the most popular choice of programming language for data analysts because it is designed to be simple, efficient, and easy to read and write.\n",
    "There are many open source software and libraries that use Python and data analysis tools built on them.\n",
    "We will use Python to learn programming and explore fundamental programming concepts of commands, variables, decisions, repetition, and events.\n",
    " "
   ]
  },
  {
   "cell_type": "markdown",
   "metadata": {},
   "source": [
    " ### What is Python?\n",
    "Python is a general, high-level programming language designed for code readability and simplicity.\n",
    "Python is available for free as open source and has a large community supporting its development and associated tools.\n",
    "Python was developed by Guido van Rossum and first released in 1991. Python 2.0 was released in 2000 (latest version 2.7), and a backwards-incompatible release Python 3 was in 2008.\n",
    "\n",
    "􏰀 - Our coding style will be Python 3 but most code will also work for Python 2.\n",
    "􏰀 - (P.S. the name comes from Monty Python)"
   ]
  },
  {
   "cell_type": "markdown",
   "metadata": {},
   "source": [
    "### Python Language Characteristics\n",
    "## Python supports:\n",
    "- [dynamic typing](https://pythonconquerstheuniverse.wordpress.com/2009/10/03/static-vs-dynamic-typing-of-programming-languages/) - types can change at run-time\n",
    "- [multi-paradigm](https://blog.newrelic.com/engineering/python-programming-styles/ ) – flexible in that is supports both procedural, object-oriented, and functional styles, for example.\n",
    "- automatic [memory management](https://www.youtube.com/watch?v=URNdRl97q_0) and [garbage collection](https://rushter.com/blog/python-garbage-collector/)\n",
    "- extensible – other languages such as C/C++ can be used to compile the code.\n",
    "- and [more](https://data-flair.training/blogs/features-of-python/) ...\n",
    " "
   ]
  },
  {
   "cell_type": "markdown",
   "metadata": {},
   "source": [
    "### Python Language Characteristics\n",
    "- Python core philosophies [(by Tim Peters)](https://www.python.org/dev/peps/pep-0020/) 􏰀 \n",
    "- Beautiful is better than ugly\n",
    "- Explicit is better than implicit\n",
    "- Simple is better than complex\n",
    "- Complex is better than complicated 􏰀 Readability counts\n",
    " \n",
    "###  Some Quotes\n",
    "If you can’t write it down in English, you can’t code it.\n",
    "- Peter Halpern\n",
    "I really hate this damn machine. I wish that I could sell it.\n",
    "I never does quite what I want. Just only what I tell it.\n",
    "- programmers lament\n",
    " "
   ]
  },
  {
   "cell_type": "markdown",
   "metadata": {},
   "source": [
    "### Introduction to Programming\n",
    "- Recall. . .\n",
    "- An algorithm is a precise sequence of steps to produce a result. A program is an encoding of an algorithm in a language to solve a particular problem.\n",
    "- There are numerous languages that programmers can use to specify instructions. Each language has its different features, benefits, and usefulness.\n",
    "- The goal is to understand fundamental programming concepts that apply to all languages."
   ]
  },
  {
   "cell_type": "markdown",
   "metadata": {},
   "source": [
    "### Python: Basic Rules\n",
    "􏰀\n",
    "- To program in Python you must follow a set of rules for specifying your commands. This set of rules is called a syntax.\n",
    "- Just like any other language, there are rules that you must follow if you are to communicate correctly and precisely.\n",
    "- For a more thorough overview of Python, you may have a look at [Python Essential Reference by David Beazley](https://www.bogotobogo.com/python/files/pytut/Python%20Essential%20Reference,%20Fourth%20Edition%20(2009).pdf )as well as countless website online, eg [w3schools](https://www.w3schools.com/python/), [codeacademy](https://www.codecademy.com/learn/learn-python-3), . . .\n",
    "- Other useful resources include: [documentation for Python 3.7.3](https://docs.python.org/3/),[Python.org (getting started)](https://www.python.org/about/gettingstarted/), and the [Pep 8 style guide](https://www.python.org/dev/peps/pep-0008/).\n",
    "􏰀"
   ]
  },
  {
   "cell_type": "markdown",
   "metadata": {},
   "source": [
    "### Python: Basic Rules\n",
    "- Important general rules of Python syntax:\n",
    "- Python is case-sensitive.\n",
    "- Python is particular on whitespace and indentation.\n",
    "- The end of command is the end of line (i.e semi-colons are not a required terminator).\n",
    "- Use four spaces for indentation whenever in a block.\n",
    "    - Spaces are the preferred indentation method.\n",
    "    - Tabs should be used solely to remain consistent with code that is already indented with tabs.\n",
    "    - Python 3 disallows mixing tabs and spaces for indentation.\n",
    "```text\n",
    " def spam(): \n",
    "   eggs = 12\n",
    "   return eggs\n",
    "print spam()\n",
    "```"
   ]
  },
  {
   "cell_type": "markdown",
   "metadata": {},
   "source": [
    "### Comments\n",
    "Comments are used by the programmer to document and explain the code. Comments are ignored by the computer.\n",
    "Type # before the comment and any characters to the end of line are ignored by the computer. Example:"
   ]
  },
  {
   "cell_type": "code",
   "execution_count": 1,
   "metadata": {},
   "outputs": [
    {
     "name": "stdout",
     "output_type": "stream",
     "text": [
      "1\n"
     ]
    }
   ],
   "source": [
    " # Single line comment\n",
    "print (1)  # Comment at end of line\n",
    " "
   ]
  },
  {
   "cell_type": "markdown",
   "metadata": {},
   "source": [
    "### Python Programming\n",
    "A Python program, like a book, is read left to right and top to bottom. Each command is on its own line."
   ]
  },
  {
   "cell_type": "code",
   "execution_count": 2,
   "metadata": {},
   "outputs": [
    {
     "name": "stdout",
     "output_type": "stream",
     "text": [
      "Hello\n",
      "Name: Joe\n"
     ]
    }
   ],
   "source": [
    "# Sample Python program\n",
    "name = \"Joe\" \n",
    "print(\"Hello\") \n",
    "print(\"Name: \"+name)"
   ]
  },
  {
   "cell_type": "markdown",
   "metadata": {},
   "source": [
    "A user types in a Python program in a text editor (some examples) or integrated development environment (IDE examples).\n",
    "To run the program we need a Python interpreter (i.e. a program that reads Python programs and carries out their instructions)."
   ]
  },
  {
   "cell_type": "markdown",
   "metadata": {},
   "source": [
    "### Installing and Using Python\n",
    "\n",
    "You may already have a version of python on your computer. You can check by opening the command window/terminal and\n",
    "typing py/python (Windows/Mac).\n",
    "To exit using Python in the console type Ctrl + keystrokeZ then\n",
    "ENTER (if using Windows) or Ctrl + keystrokeD on a Mac.\n",
    "Alternatively, you could also run the python command exit().\n",
    "Read more about running python through the console [here](https://opentechschool.github.io/python-beginners/en/getting_started.html).\n",
    "You could also use one of the various online [Python 3 compilers](https://www.tutorialspoint.com/execute_python3_online.php) for example."
   ]
  },
  {
   "cell_type": "markdown",
   "metadata": {},
   "source": [
    "### Installing and Using Python\n",
    "Python version\n",
    "If you haven’t done any of the installations above, this is probably going to be Python 2.\n",
    "![alt text](../../images/06Python/pythonshell.png)\n",
    "You can find out which version of Python you have by typing python -V in your console."
   ]
  },
  {
   "cell_type": "markdown",
   "metadata": {},
   "source": [
    "### Python Editor - Jupyter\n",
    "- “[Project Jupyter](https://jupyter.org) exists to develop open-source software, open-standards, and services for interactive computing across dozens of programming languages.”\n",
    "- Jupyter notebook is a graphical, browser-based application for editing and running Python. Follow the instructions [here](https://jupyter.org/install) to install.\n",
    "- To run, type jupyter notebook in your Command Prompt. \n",
    "- This action will start the notebook server in your default browser and echo information about the notebook server in your terminal. Read more about it by clicking Try Jupyter for Python [here](https://jupyter.org/try)"
   ]
  },
  {
   "cell_type": "markdown",
   "metadata": {},
   "source": [
    "### Python Editor - Jupyter\n",
    "- The Notebook Dashboard will list all of the notebooks (.ipynb), files, and subdirectories stored in the local working directory (i.e. the directory from which you launched jupyter)\n",
    "![alt text](../../images/06Python/jnote.png)"
   ]
  },
  {
   "cell_type": "markdown",
   "metadata": {},
   "source": [
    "### Python Editor - Jupyter\n",
    "To create anew notebook, select New, Python3.\n",
    "\n",
    "![alt text](../../images/06Python/jupyter.png)"
   ]
  },
  {
   "cell_type": "markdown",
   "metadata": {},
   "source": [
    "### Python Editor - Jupyter\n",
    "To close this program, navigate the the <b> Running</b> tab and click the orange Shutdown button. Closing the notebook's page is  not sufficient to shutdown.\n",
    "![alt text](../../images/06Python/shutdown.png)"
   ]
  },
  {
   "cell_type": "markdown",
   "metadata": {},
   "source": [
    "### Python Editor - Jupyter\n",
    "\n",
    "![alt text](../../images/06Python/jupyterbutton.png)"
   ]
  },
  {
   "cell_type": "markdown",
   "metadata": {},
   "source": [
    "### Python Editor – jupyter notebook\n",
    "\n",
    "- The body of the notbook is comprised of cells:\n",
    "   - Markdown cells are used to build write regular (non-code)\n",
    "  􏰀 text. More markdown [here](https://github.com/adam-p/markdown-here/wiki/Markdown-Cheatsheet) and see helpful [cheatsheet](https://guides.github.com/pdfs/markdown-cheatsheet-online.pdf). \n",
    "    - Code cells (default) are used to define the code which will be compiled (after pressing   or pressing Shift + Enter ) to produce output.\n",
    "- You can inserts cells (either code/markdown) anywhere by clicking Insert > Insert Cell Above (or Insert Cell Below)\n",
    "- Same thing goes for deleting/copying/pasting/undoing cells: see the Edit drop down menu bar."
   ]
  },
  {
   "cell_type": "markdown",
   "metadata": {},
   "source": [
    "### Python Editor – jupyter notebook\n",
    "- You can create regular text and headings in markdown mode. Headings are indicated using # (subheadings use ##)"
   ]
  },
  {
   "cell_type": "markdown",
   "metadata": {},
   "source": [
    "![alt text](../../images/06Python/textbefore.png)\n",
    "### Python Editor – jupyter notebook\n",
    "\n",
    "- This is what the markdown looks like after it is run:\n",
    "\n",
    "![alt text](../../images/06Python/textafter.png)"
   ]
  },
  {
   "cell_type": "markdown",
   "metadata": {},
   "source": [
    "### Python Editor – jupyter notebook\n",
    "- After a cell is run, a number will appear in the square parenthesis (an asterisk * will appear for cells that are currently running). Every time we run that cell, this number will increase.\n",
    "\n",
    "![alt text](../../images/06Python/runnum.png)"
   ]
  },
  {
   "cell_type": "markdown",
   "metadata": {},
   "source": [
    "### Python Editor – jupyter notebook\n",
    "- While jupyter notebook does autosave periodically, it is a good to save your work upon exiting (go to File > Save and Checkpoint or click the save icon).\n",
    "- When we open the file again, it is not guaranteed that everything we need is in memory.\n",
    "- It is good practice to “reset\" the session by clicking Kernel > Restart and Run all Cells to ensure everything we need has been loaded into our working session (note that this will reset all of our numbers in the square brackets)."
   ]
  },
  {
   "cell_type": "markdown",
   "metadata": {},
   "source": [
    "### Python: Hello World!\n",
    "A [traditional introduction](https://en.wikipedia.org/wiki/%22Hello,_World!%22_program) into programming involves outputting the message \"Hello World!\"\n",
    "In Python3, this is a simple as typing:"
   ]
  },
  {
   "cell_type": "code",
   "execution_count": 3,
   "metadata": {},
   "outputs": [
    {
     "name": "stdout",
     "output_type": "stream",
     "text": [
      "Hello World!\n"
     ]
    }
   ],
   "source": [
    "print(\"Hello World!\")"
   ]
  },
  {
   "cell_type": "markdown",
   "metadata": {},
   "source": [
    "The print function will print to the terminal (standard output)\n",
    "whatever data (number, string, variable) it is given.\n",
    "\n",
    "You can use double quotes (\"Hello world\") or single quotes ('Hello world') just be consistent! E.g. 'Hello World!\" will produce a error.\n",
    "\n",
    "\n",
    "### Tripple Quotes\n",
    "- If your message runs across multiple lines, you can use 3 quotations to denote multi-line strings.\n",
    "- The sting begins with a ''' (or \"\"\") and ends with a (or \"\"\").\n",
    "- Note that in this environment, we can use linebreaks (ie we can start a new line by pressing ENTER) and include the single and double quotes with our string.\n",
    "\n",
    "![alt text](../../images/06Python/tripplequotes.png)\n",
    "### Try It: Python Printing\n",
    "```text\n",
    " Example 1\n",
    "Write a Python program that prints \"I can start coding!\"\n",
    "```\n",
    "```text\n",
    "Example 2\n",
    "Write a Python program that prints these three lines:\n",
    "I know that I can program in Python. I am programming right now.\n",
    "My awesome program has three lines!\n",
    "```\n",
    "``` text\n",
    " Example 3\n",
    "How many of the following statements are TRUE?\n",
    "1. Python is case-sensitive.\n",
    "2. A command in Python must be terminated by a semi-colon. 3. Indentation does not matter in Python.\n",
    "4. A single line comment starts with \"\"\".\n",
    "5. The print command prints to standard input.\n",
    "A) 0 B) 1 C) 2 D) 3 E) 4\n",
    "```\n",
    "```text\n",
    " Answer:\n",
    "How many of the following statements are TRUE?\n",
    "1. Python is case-sensitive.\n",
    "2. A command in Python must be terminated by a semi-colon. 3. Indentation does not matter in Python.\n",
    "4. A single line comment starts with \"\"\"\"\".\n",
    "5. The print command prints to standard input.\n",
    "A) 0 B) 1 C) 2 D) 3 E) 4\n",
    "```\n",
    "``` text\n",
    " Answer:\n",
    "How many of the following statements are TRUE?\n",
    "1. Python is case-sensitive.\n",
    "2. A command in Python must be terminated by a semi-colon. 3. Indentation does not matter in Python.\n",
    "4. A single line comment starts with \"\"\"\"\".\n",
    "5. The print command prints to standard input.\n",
    "A) 0  B) 1  C) 2 D) 3 E) 4\n",
    "```\n",
    "### Variables\n",
    "\n",
    "Recall. . .\n",
    "A variable is a name that refers to a location that stores a data value.\n",
    "IMPORTANT: The value at a location can change using initialization or assignment.\n",
    "\n",
    "### Variable Assignment\n",
    "In python the assignment operator is “=\".\n",
    "We will use it to (re)set value of a variable.\n",
    "![alt text](../../images/06Python/variables.png)\n",
    "\n",
    "\n",
    "   - Example: \n",
    "   "
   ]
  },
  {
   "cell_type": "code",
   "execution_count": 4,
   "metadata": {},
   "outputs": [],
   "source": [
    "num = 10\n",
    "message = \"Hello world!\"\n",
    "      "
   ]
  },
  {
   "cell_type": "markdown",
   "metadata": {},
   "source": [
    "### Python Variables\n",
    "Variables are created when first assigned.\n",
    "A variable type is dynamic and do not need to be declared.\n",
    "It can store any particular type (e.g. int, float, strings, or Boolean) at any given time.\n",
    "   - Example:\n",
    "   "
   ]
  },
  {
   "cell_type": "code",
   "execution_count": 5,
   "metadata": {},
   "outputs": [],
   "source": [
    "val = 5\n",
    "val = \"Hello\" \n",
    "isAwesome = True\n",
    "        "
   ]
  },
  {
   "cell_type": "markdown",
   "metadata": {},
   "source": [
    "Recall: Boolean values can be either True or False. N.B. in Python case matters.\n",
    "The type (string, int, float etc.) of the variable is determined by Python.\n",
    "\n",
    "### Variable Rules\n",
    "Variables are a name that must begin with a letter or an underscore and cannot contain spaces. All subsequent characters must be letters, numbers or underscores.\n",
    "Variables are created when they are first used. There is no special syntax to declare (create) a variable.\n",
    "Variable names are case-sensitive.\n",
    "A programmer picks the names for variables, but try to make the\n",
    "names meaningful and explain their purpose.\n",
    "Avoid naming variables as reserved words (e.g. if, for, else). A reserved word has special meaning in the language.\n",
    "```text\n",
    " Example 4\n",
    "How many of the following variable names are valid? 1. name\n",
    "2. string2\n",
    "3. 2cool\n",
    " 4. under_score 5. space name 6. else\n",
    "A) 0 B) 1\n",
    "C) 2\n",
    "D) 3\n",
    "E) ≥ 4\n",
    "\n",
    "```\n",
    "``` text\n",
    " Answer:\n",
    "How many of the following variable names are valid?\n",
    " 1. name\n",
    "2. string2\n",
    "3. 2cool\n",
    "4. under_score 5. space name 6. else\n",
    "A) 0 B) 1\n",
    "C) 2\n",
    "D) 3\n",
    "E) ≥ 4\n",
    "```\n",
    "### Python Math Expressions\n",
    "\n",
    "| Operation       | Syntax    | Example | Output   |\n",
    "| :------------- | :----------: | -----------:  | -----------: |\n",
    "|  Add |+  |5+3 |8  |\n",
    "|Subtract|-| 10 - 2 |8|\n",
    "|Multiply|* |5 * 3| 15|\n",
    "|Divide|/| 8/4| 2|\n",
    "|Modulus|% |9%4| 1|\n",
    "|Exponent|**|5 ** 2|25|\n",
    "\n",
    "### Expressions - Operator Precedence\n",
    "Each operator has its own priority similar to their priority in regular math expressions:\n",
    "1. Any expression in parentheses is evaluated first starting with the inner most nesting of parentheses.\n",
    "2. Exponents\n",
    "3. Multiplication and division (*, /, %)\n",
    "4. Addition and subtraction (+,-)\n",
    " Recall:BEDMAS Brackets Exponents Division, Multiplication, (modulus), Addition and Subtraction\n",
    " Example: 20 - ((4 + 5) - (3 * (6 - 2))) * 4 = 32\n",
    "### Python Expression Question\n",
    "``` text\n",
    " Example 5\n",
    "What is the value of this expression\n",
    "                       8∗∗2+12/4∗(3−1)%5\n",
    "```\n",
    "HINT: Modulo is executed after multiplication and division; more on this [here](https://en.wikipedia.org/wiki/Order_of_operations#Programming_languages).\n",
    "\n",
    "\n",
    "\n",
    "A) 69    B) 65   C) 36    D) 16    E) 70\n",
    "\n",
    "### Python Expression Question\n",
    "```text\n",
    "Answer:\n",
    "What is the value of this expression\n",
    "            8∗∗2+12/4∗(3−1)%5\n",
    "```            \n",
    "            \n",
    "HINT: Modulo is executed after multiplication and division; more on this [here](https://en.wikipedia.org/wiki/Order_of_operations#Programming_languages).\n",
    "\n",
    "A) 69 B) 65 C) 36 D) 16 E) 70\n",
    "I think it’s good practice to be explicit with brackets. I.e., I might have written the above as:\n",
    "```text\n",
    "            8**2 + ((12/4)*(3-1))%5\n",
    "```\n",
    "### Try it: Python Variables and Expressions\n",
    "```text\n",
    " Example 6\n",
    "Write a program that prints the result of 35 + 5*10 \n",
    "```\n",
    "```text\n",
    "Example 7\n",
    "Write a program that uses at least 3 operators to end up with the value 99.\n",
    "```\n",
    "```text\n",
    "Example 8\n",
    "Write a program that has a variable called name with the value of your name and a variable called height storing your height in feet. Print out your name and height using these variables.\n",
    "```\n",
    "### Rules for Stings in Python\n",
    "Strings are sequences of characters that must be surrounded by single or double quotes.\n",
    "Any number of characters is allowed. The minimum number of characters is zero \"\", which is called the empty string.\n",
    "Strings can contain most characters except enter, backspace, tab, and backslash. These special characters must be escaped by using the escape character: \\\n",
    "- Example:\n",
    "    new line \\n\n",
    "    single quote \\' \n",
    "    backslash \\\\ \n",
    "    double quote \\''\n",
    "### Strings\n",
    "As mentioned previously, we can use triple quotes \"\"\" for a strings that contain single/double quotes and/or line breaks.\n",
    "In addition, double quoted strings can contain single quoted strings and vice versa. \n",
    "Example:"
   ]
  },
  {
   "cell_type": "code",
   "execution_count": 6,
   "metadata": {},
   "outputs": [
    {
     "name": "stdout",
     "output_type": "stream",
     "text": [
      "String that is really long\n",
      "with multiple lines\n",
      "     and spaces is perfectly fine\n"
     ]
    }
   ],
   "source": [
    "name = 'Joseph \"Joe\" Jones'\n",
    "storeName = 'Joe\\'s Store'\n",
    "storeName = \"Joe's Store\" # alternatively height = '''5'9\"'''\n",
    "print(\"\"\"String that is really long\n",
    "with multiple lines\n",
    "     and spaces is perfectly fine\"\"\")\n",
    "     "
   ]
  },
  {
   "cell_type": "markdown",
   "metadata": {},
   "source": [
    "### Python String Indexing\n",
    "Individual characters of a string can be accessed using square brackets ([]); the first character indexed at 0.\n",
    "􏰀 - Example:"
   ]
  },
  {
   "cell_type": "code",
   "execution_count": 7,
   "metadata": {},
   "outputs": [
    {
     "name": "stdout",
     "output_type": "stream",
     "text": [
      "e\n",
      "A\n",
      "o\n"
     ]
    }
   ],
   "source": [
    "str = \"Hello\" \n",
    "print(str[1]) # e \n",
    "print(\"ABCD\"[0]) # A \n",
    "print(str[-1]) # o\n",
    "# Negative values start at end and go backward\n",
    "    "
   ]
  },
  {
   "cell_type": "markdown",
   "metadata": {},
   "source": [
    "Read all more about strings [here](https://www.python.org/dev/peps/pep-0498/).\n",
    "```text\n",
    " Example 9\n",
    "How many of the following are valid Python strings?\n",
    "1. \"\"\n",
    "2. ''\n",
    "3. \"a\"\n",
    "4. \" \"\n",
    "5. \"\"\"\n",
    "6. \"Joe\\' Smith\\\"\"\n",
    "A) 1 B) 2 C) 4 D) 5 E) 6\n",
    "```\n",
    "\n",
    "```text\n",
    "    Answer:\n",
    "How many of the following are valid Python strings?\n",
    "1. \"\"\n",
    "2. ''\n",
    "3. \"a\"\n",
    "4. \" \"\n",
    "5. \"\"\"\n",
    "6. \"Joe\\' Smith\\\"\"\n",
    "A) 1 B) 2 C) 4 D) 5 E) 6\n",
    "```\n",
    "### Python String Functions and Methods\n",
    "Suppose:\n",
    "    st = \"Hello\" \n",
    "    st2 = \"Goodbye\"\n",
    "| Operation       | Syntax    | Example | Output   |\n",
    "| :------------- | :----------: | -----------:  | -----------: |\n",
    "|  Length |len()  |len(st) |5 |\n",
    "|Upper case|upper()| st.upper() |HELLO|\n",
    "|Lower case|lower() |st.lower()|hello|\n",
    "|Convert to a string|str()| str(9)|\"9\"|\n",
    "|Concatenation|+ |st1 + st2|HelloGoodbye|\n",
    "|Substring|[]|st[0:3] st[1:]|Hel ello|\n",
    "|String to int|int()|int(\"99\")|99|\n",
    "## Dot Notation\n",
    "- Like VBA, you will notice that python uses the dot operator to perform methods on objects (read more [here](https://python4astronomers.github.io/python/objects.html)).\n",
    "- Every constant, variable, or function in Python is actually a object with a type and associated attributes and methods.\n",
    "- A method is a function that is attached to an object (read more about this [here](https://data-flair.training/blogs/python-method-and-function/))\n",
    "- [Here](https://www.w3schools.com/python/python_ref_string.asp) are some more examples of string methods.\n",
    "\n",
    "## String Operators: Concatenation\n",
    "The concatenation operator is used to combine two strings into a single string. The notation is a plus sign “+\".\n",
    "􏰀 - Example:"
   ]
  },
  {
   "cell_type": "code",
   "execution_count": 8,
   "metadata": {},
   "outputs": [
    {
     "name": "stdout",
     "output_type": "stream",
     "text": [
      "HelloHello\n",
      "HelloWorld!\n"
     ]
    }
   ],
   "source": [
    "st1 = \"Hello\"\n",
    "st2 = \"World!\"\n",
    "st3 = st1 + st2 # HelloWorld! \n",
    "print(st1+st1)\n",
    "print(st3)"
   ]
  },
  {
   "cell_type": "markdown",
   "metadata": {},
   "source": [
    " ### String Operators: Concatenation\n",
    " Note that we must hard code spaces if we want them:"
   ]
  },
  {
   "cell_type": "code",
   "execution_count": 9,
   "metadata": {},
   "outputs": [
    {
     "name": "stdout",
     "output_type": "stream",
     "text": [
      "Hello World!\n"
     ]
    }
   ],
   "source": [
    "st4 = st1 +\" \"+ st2 \n",
    "print(st4)\n"
   ]
  },
  {
   "cell_type": "markdown",
   "metadata": {},
   "source": [
    " ```text\n",
    " Concatenate with numbers and strings\n",
    "We must convert numbers to strings before concatenation.\n",
    "\n",
    " ```"
   ]
  },
  {
   "cell_type": "code",
   "execution_count": 10,
   "metadata": {},
   "outputs": [
    {
     "ename": "TypeError",
     "evalue": "'str' object is not callable",
     "output_type": "error",
     "traceback": [
      "\u001b[0;31m---------------------------------------------------------------------------\u001b[0m",
      "\u001b[0;31mTypeError\u001b[0m                                 Traceback (most recent call last)",
      "\u001b[0;32m<ipython-input-10-cba2fe5c7a62>\u001b[0m in \u001b[0;36m<module>\u001b[0;34m\u001b[0m\n\u001b[1;32m      1\u001b[0m \u001b[0mnum\u001b[0m \u001b[0;34m=\u001b[0m \u001b[0;36m5\u001b[0m\u001b[0;34m\u001b[0m\u001b[0;34m\u001b[0m\u001b[0m\n\u001b[0;32m----> 2\u001b[0;31m \u001b[0mprint\u001b[0m\u001b[0;34m(\u001b[0m\u001b[0mst1\u001b[0m\u001b[0;34m+\u001b[0m\u001b[0mstr\u001b[0m\u001b[0;34m(\u001b[0m\u001b[0mnum\u001b[0m\u001b[0;34m)\u001b[0m\u001b[0;34m)\u001b[0m\u001b[0;34m\u001b[0m\u001b[0;34m\u001b[0m\u001b[0m\n\u001b[0m",
      "\u001b[0;31mTypeError\u001b[0m: 'str' object is not callable"
     ]
    }
   ],
   "source": [
    "num = 5\n",
    "print(st1+str(num)) "
   ]
  },
  {
   "cell_type": "markdown",
   "metadata": {},
   "source": [
    " N.B. we can mix types in the print() function, i.e. without concatenation. Notice how print() inserts spaces between inputs:"
   ]
  },
  {
   "cell_type": "code",
   "execution_count": null,
   "metadata": {},
   "outputs": [],
   "source": [
    "print(st1,num, 100, \"hi there\", \"byethere\")"
   ]
  },
  {
   "cell_type": "markdown",
   "metadata": {},
   "source": [
    "### String Operators: Deleting objects\n",
    "If you have been following along with me, you will find that the code on the previous slide does not work.\n",
    "This is because str is no longer treated as a function because I assigned \"Hello\" to this object on slide ??.\n",
    "To delete this object we can type:\n",
    "```text\n",
    "del str\n",
    "```\n",
    "Now we are free to use the function str() as desired.\n",
    "\n",
    "```text\n",
    " Example 10\n",
    "What is the output of this code?\n",
    "st1 = \"Hello\"\n",
    "st2 = \"World!\"\n",
    "num = 5\n",
    "print(st1 + str(num) + \" \" + st2)\n",
    "A) Error\n",
    "B) Hello5World! C) Hello5 World D) Hello 5 World\n",
    "```\n",
    "```text\n",
    " Answer:\n",
    "What is the output of this code?\n",
    "st1 = \"Hello\"\n",
    "st2 = \"World!\"\n",
    "num = 5\n",
    "print(st1 + str(num) + \" \" + st2)\n",
    "A) Error\n",
    "B) Hello5World! C) Hello5 World! D) Hello 5 World!\n",
    "```\n",
    "### Substrings (slicing)\n",
    "The substring function will return a range of characters from a string. The general syntax is st[start:end]\n",
    "```text\n",
    "Substring indexing/slicing\n",
    "􏰀 - The start is inclusive the end is exclusive.\n",
    "􏰀 - If start is not provided, it defaults to 0.\n",
    "􏰀 - If end is not provided, it defaults to the end of the string.\n",
    " \n",
    "```\n",
    " Example:\n",
    "```text\n",
    "st = \"Fantastic\" \n",
    "print(st[1])  # a\n",
    "print(st[0:6]) # Fantas\n",
    "print(st[4:]) # astic\n",
    "print(st[:5]) # Fanta\n",
    "print(st[-6:-2])# tast\n",
    "```\n",
    "```text\n",
    " Example 11\n",
    "What is the output of this code:\n",
    "st = \"ABCDEFG\"\n",
    "print(st[1] + st[2:4] + st[3:] + st[:4])\n",
    "A) ABCDCDEFGABCD \n",
    "B) ABCDEFGABC\n",
    "C) BCDDEFGABCDE\n",
    "D) BCDDEFGABCD \n",
    "E) BCDECDEFGABC\n",
    "```\n",
    "```text\n",
    " Answer:\n",
    "What is the output of this code:\n",
    "st = \"ABCDEFG\"\n",
    "print(st[1] + st[2:4] + st[3:] + st[:4])\n",
    "A) ABCDCDEFGABCD\n",
    "B) ABCDEFGABC\n",
    "C) BCDDEFGABCDE \n",
    "D) BCDDEFGABCD \n",
    "E) BCDECDEFGABC\n",
    "```\n",
    "### Split\n",
    "The split function will divide a string based on a separator. Without any arguments, it splits on whitespace,"
   ]
  },
  {
   "cell_type": "code",
   "execution_count": null,
   "metadata": {
    "scrolled": true
   },
   "outputs": [],
   "source": [
    "st = \"Awesome coding! Very good!\" \n",
    "print(st.split())"
   ]
  },
  {
   "cell_type": "markdown",
   "metadata": {},
   "source": [
    "```\n",
    "otherwise is splits where ever it sees the inputted separator:\n",
    "```"
   ]
  },
  {
   "cell_type": "code",
   "execution_count": null,
   "metadata": {},
   "outputs": [],
   "source": [
    "print(st.split(\"!\"))"
   ]
  },
  {
   "cell_type": "markdown",
   "metadata": {},
   "source": [
    "['Awesome coding', ' Very good', '']\n",
    "\n",
    "### Split\n",
    "This is very useful when we have, for example, comma separated values (csv):\n",
    "```text\n",
    ">>> st = 'data,csv,100,50,,25,\"use split\",99' \n",
    ">>> print(st.split(\",\"))\n",
    "['data', 'csv', '100', '50',\n",
    "'', '25', '\"use split\"', '99']\n",
    "```\n",
    "Note that the returned object is a Python [list](https://www.w3schools.com/python/python_lists.asp%7C) (more on these later).\n",
    "```text\n",
    " Example 12\n",
    "Assume:\n",
    "􏰀 - name = \"Joe\" \n",
    "     age = 25\n",
    "Write a Python program that prints out your name and age stored in variables like this:\n",
    "```\n",
    "```text\n",
    "Example 13\n",
    "Assume:\n",
    "􏰀 - name = \"Steve Smith\"\n",
    "Use substring, write a Python program that prints out the first\n",
    "name and last name of Steve Smith like below. 􏰀\n",
    "         - First Name: Steve\n",
    "            Last Name: Smith\n",
    "Bonus challenge: Recode so that it would work with any name.\n",
    "```\n",
    "### Print Formatting\n",
    "One of the most obvious changes between Python 2 and Python 3 is how they use print:\n",
    "            print \"Hello\"\n",
    "and Python 3:\n",
    "           print(\"Hello\")\n",
    "In Python3, the print method can accept parameters for formatting. See some examples on the next slide . . .\n",
    "### Print Formatting\n",
    "```text\n",
    "print(\"Hi\", \"Amy\", \", your age is\", 21)\n",
    "print(\"Hi {}, your age is {}\".format(\"Amy\",21)) \n",
    "print(\"Hi {1}, your age is {0}\".format(21,\"Amy\")) print(\"Hi {name}, your age is {age}\".format(age=21, name=\"Amy\"))\n",
    "```\n",
    "- We can think of {} as placeholder arguments for the inputs given in format\n",
    "- By default, these inputs will be added in the string in order (the input0 will appear in the first place holder, input1 in the second place holder, etc.\n",
    "- If we want to read input1 before input0, we need to refer to it by its integer index via {1} or by its name if we have provided one {age}\n",
    "\n",
    "### List Overview\n",
    "\n",
    "- A list is a collection of data items that are referenced by index. I Lists in Python are similar to arrays in other programming languages\n",
    "    - A list allows multiple data items to be referenced by one name and retrieved by index.\n",
    "- I Python list:\n",
    "        ![alt text](../../images/06Python/pythonlist.png)\n",
    " "
   ]
  },
  {
   "cell_type": "markdown",
   "metadata": {},
   "source": [
    "### Retrieving Items from a list\n",
    "- Items are retrieved by index (starting from 0) using square brackets:"
   ]
  },
  {
   "cell_type": "code",
   "execution_count": null,
   "metadata": {},
   "outputs": [],
   "source": [
    "\n",
    "data = [100, 200, 300, 'one', 'two', 600]\n",
    "print(data[0])# 100\n",
    "print(data[4])# 'two'\n",
    "print(data[len(data)-1]) # 600\n",
    "print(data[-1])# 600\n",
    "print(data[2:4])# [300, 'one']\n",
    "print(data[6]) # error ? out of range\n",
    "\n"
   ]
  },
  {
   "cell_type": "markdown",
   "metadata": {},
   "source": [
    "- You can create an empty list using:"
   ]
  },
  {
   "cell_type": "code",
   "execution_count": null,
   "metadata": {},
   "outputs": [],
   "source": [
    "\n",
    "emptyList = []\n"
   ]
  },
  {
   "cell_type": "markdown",
   "metadata": {},
   "source": [
    "### List manipulation\n",
    "- We can modify a single value by use of indices and the assignment operator ="
   ]
  },
  {
   "cell_type": "code",
   "execution_count": null,
   "metadata": {},
   "outputs": [],
   "source": [
    "\n",
    "data = [1,2,3,5] \n",
    "data[2] = 7\n",
    "print(data)\n"
   ]
  },
  {
   "cell_type": "markdown",
   "metadata": {},
   "source": [
    "- We can also modify multiple values at a time in the following way:"
   ]
  },
  {
   "cell_type": "code",
   "execution_count": null,
   "metadata": {},
   "outputs": [],
   "source": [
    "\n",
    "data[0:1] = [\"one\",\"two\"]  \n",
    "print(data)\n"
   ]
  },
  {
   "cell_type": "markdown",
   "metadata": {},
   "source": [
    "### Appending to a list\n",
    "- I Notice that when we try to add a value to the end of the list, we get an error:"
   ]
  },
  {
   "cell_type": "code",
   "execution_count": null,
   "metadata": {},
   "outputs": [],
   "source": [
    "\n",
    "data[5] = 10\n"
   ]
  },
  {
   "cell_type": "markdown",
   "metadata": {},
   "source": [
    "-  To add an item to the end of the list, use append().\n",
    "### Appending to a list\n",
    "- Notice how append()doesn’t return a new list; rather it modifies the original list."
   ]
  },
  {
   "cell_type": "code",
   "execution_count": null,
   "metadata": {},
   "outputs": [],
   "source": [
    "data = [1,2,3,5] \n",
    "data.append(7) \n",
    "print(data)"
   ]
  },
  {
   "cell_type": "markdown",
   "metadata": {},
   "source": [
    "- I Alternatively we could have used"
   ]
  },
  {
   "cell_type": "code",
   "execution_count": null,
   "metadata": {},
   "outputs": [],
   "source": [
    "data = [1,2,3,5]\n",
    "data = data + [7]\n",
    "data"
   ]
  },
  {
   "cell_type": "markdown",
   "metadata": {},
   "source": [
    "### List in loops\n",
    "- We can iterate over a list in a for loop."
   ]
  },
  {
   "cell_type": "markdown",
   "metadata": {},
   "source": [
    "colours = ['red', 'yellow', 'green', 'blue'] \n",
    "for colour in colours:\n",
    "        print(colour)\n"
   ]
  },
  {
   "cell_type": "markdown",
   "metadata": {},
   "source": [
    "- Thefollowingcodeappendsthevaluesinione-by-onetothe empty list j."
   ]
  },
  {
   "cell_type": "code",
   "execution_count": null,
   "metadata": {},
   "outputs": [],
   "source": [
    "\n",
    "i = [1, 2, 3, 5, 8, 13] \n",
    "j = []\n",
    "for l in i:\n",
    "    j.append(l)\n"
   ]
  },
  {
   "cell_type": "markdown",
   "metadata": {},
   "source": [
    "### List append vs extend\n",
    "- append() adds its argument as a single element (eg. a number, a string or a another list) to the end of an existing list."
   ]
  },
  {
   "cell_type": "code",
   "execution_count": null,
   "metadata": {},
   "outputs": [],
   "source": [
    "x = [1, 2, 3] # len(x) = 3 \n",
    "x.append([4,5])\n",
    "x"
   ]
  },
  {
   "cell_type": "code",
   "execution_count": null,
   "metadata": {},
   "outputs": [],
   "source": [
    "len(x)"
   ]
  },
  {
   "cell_type": "markdown",
   "metadata": {},
   "source": [
    "- Notice how the length of the list increases by one.\n",
    "- If we want to add the elements one-by-one to the end of x we could either use a loop as we did in the previous slide of use the extend() function.\n",
    "\n",
    "### List extend\n",
    "- extend() iterates over its argument and adds each element to the list thereby extending the list.\n",
    "- The length of the list increases by number of elements in it’s argument."
   ]
  },
  {
   "cell_type": "code",
   "execution_count": null,
   "metadata": {},
   "outputs": [],
   "source": [
    "\n",
    "x = [1, 2, 3] # len(x) = 3 \n",
    "x.extend([4,5])\n",
    "x # len(x) = 5\n"
   ]
  },
  {
   "cell_type": "markdown",
   "metadata": {},
   "source": [
    "- Alternatively, we could have used"
   ]
  },
  {
   "cell_type": "code",
   "execution_count": null,
   "metadata": {},
   "outputs": [],
   "source": [
    "\n",
    "x = [1, 2, 3] # len(x) = 3\n",
    "x = x + [4,5]\n",
    "print(x)\n"
   ]
  },
  {
   "cell_type": "markdown",
   "metadata": {},
   "source": [
    "### List extend vs append example\n",
    "- Read more about the difference between the two [here](https://www.geeksforgeeks.org/append-extend-python/)"
   ]
  },
  {
   "cell_type": "code",
   "execution_count": null,
   "metadata": {},
   "outputs": [],
   "source": [
    "\n",
    "x = [1, 2, 3]\n",
    "x.append([4, 5]) \n",
    "print (x)\n"
   ]
  },
  {
   "cell_type": "code",
   "execution_count": null,
   "metadata": {},
   "outputs": [],
   "source": [
    "\n",
    "x[3]\n"
   ]
  },
  {
   "cell_type": "markdown",
   "metadata": {},
   "source": [
    "- where x[3] returns [4, 5] and x[4] returns an error."
   ]
  },
  {
   "cell_type": "code",
   "execution_count": null,
   "metadata": {},
   "outputs": [],
   "source": [
    "\n",
    "x = [1, 2, 3]\n",
    "x.extend([4, 5])\n",
    "print (x)\n",
    "\n",
    "x[3]    \n"
   ]
  },
  {
   "cell_type": "markdown",
   "metadata": {},
   "source": [
    "### List Operations\n",
    "- If data = [1, 2, 3, 5] and lst = []\n",
    "\n",
    "| Operation       | Syntax    | Example | Output   |\n",
    "| :------------- | :----------: | -----------:  | -----------: |\n",
    "|  Add item |<list>.append(val)  |data.append(1) |[1, 2, 3, 5, 1]  |\n",
    "|Insert item|<list>.insert(idx,val)| data.insert(3,4) |[1, 2, 3, 4, 5]|\n",
    "|Remove item|<list>.remove(val)|data.remove(5)|[1, 2, 3]|\n",
    "|Update item|list[idx]=val|data[0]=10|[10, 2, 3, 5]|\n",
    "|Length of list|len(<list>)|len(data)|4|\n",
    "|Slice of list|list[x:y]|data[0:3]|[1, 2, 3]|\n",
    "|Find index|<list>.index(val)|data.index(5)|3|\n",
    "|Sort list|<list>.sort()|data.sort()|[1, 2,3,5]|\n",
    "|Add|lst = []|lst.append(1)|[1]|\n",
    "\n",
    "- See more [here](https://www.programiz.com/python-programming/methods/list/insert)\n",
    "\n",
    "### List details\n",
    "- It was mentioned already but its worth repeating...\n",
    "- For loops that are used to iterate though items in a list:\n",
    "    "
   ]
  },
  {
   "cell_type": "code",
   "execution_count": null,
   "metadata": {},
   "outputs": [],
   "source": [
    "\n",
    "data = [5,9,-2,9] \n",
    "for v in data:\n",
    "    print(v)\n"
   ]
  },
  {
   "cell_type": "markdown",
   "metadata": {},
   "source": [
    "### List details\n",
    "\n",
    "- Note that this is not restricted to numbers:"
   ]
  },
  {
   "cell_type": "code",
   "execution_count": null,
   "metadata": {},
   "outputs": [],
   "source": [
    "data = [\"apples\", \"bananas\",\"oranges\"] \n",
    "for v in data:\n",
    "    print(v)\n"
   ]
  },
  {
   "cell_type": "markdown",
   "metadata": {},
   "source": [
    "- prints apples, bananas, oranges (each on a separate line).\n",
    "- We could even iterate through characters in a string:"
   ]
  },
  {
   "cell_type": "code",
   "execution_count": null,
   "metadata": {},
   "outputs": [],
   "source": [
    "\n",
    "for v in \"bananas\": \n",
    "    print(v)\n",
    "\n"
   ]
  },
  {
   "cell_type": "markdown",
   "metadata": {},
   "source": [
    "- prints b, a, n, a, n, a, s (each letter on a separate line)\n",
    "\n",
    "### List details\n",
    "- If we want to iterate through both index and value, we could use the [enumerate()](https://book.pythontips.com/en/latest/enumerate.html) function."
   ]
  },
  {
   "cell_type": "code",
   "execution_count": null,
   "metadata": {},
   "outputs": [],
   "source": [
    "\n",
    "data = ['apple', 'banana', 'grapes', 'pear'] \n",
    "for c, value in enumerate(data):\n",
    "        print(c, value)"
   ]
  },
  {
   "cell_type": "markdown",
   "metadata": {},
   "source": [
    "If we want our index to start at 1 rather than 0, we could specify that as the second argument: [enumerate()](https://book.pythontips.com/en/latest/enumerate.html) function."
   ]
  },
  {
   "cell_type": "code",
   "execution_count": null,
   "metadata": {},
   "outputs": [],
   "source": [
    "\n",
    "data = ['apple', 'banana', 'grapes', 'pear']\n",
    "for c, value in enumerate(data, 1):\n",
    "      print(c, value)\n"
   ]
  },
  {
   "cell_type": "markdown",
   "metadata": {},
   "source": [
    "### Advanced: Python List Comprehensions\n",
    "- [List comprehensions](https://docs.python.org/3/tutorial/datastructures.html%23list-comprehensions) build a list using values that satisfy a criteria. \n",
    "- Example:"
   ]
  },
  {
   "cell_type": "code",
   "execution_count": null,
   "metadata": {},
   "outputs": [],
   "source": [
    "\n",
    "evenNums100 = [n for n in range(101) if n%2==0]\n"
   ]
  },
  {
   "cell_type": "markdown",
   "metadata": {},
   "source": [
    "- Equivalent to:"
   ]
  },
  {
   "cell_type": "code",
   "execution_count": null,
   "metadata": {},
   "outputs": [],
   "source": [
    "\n",
    "evenNums100 = [] \n",
    "for n in range(101):\n",
    "      if n%2==0: \n",
    "        evenNums100.append(n)\n"
   ]
  },
  {
   "cell_type": "markdown",
   "metadata": {},
   "source": [
    "### Advanced: Python List Slicing\n",
    "- List slicing allows for using range notation to retrieve only certain elements in the list by index.\n",
    "- Syntax:\n",
    "-  list[start:end:step]\n",
    "- Example:"
   ]
  },
  {
   "cell_type": "code",
   "execution_count": null,
   "metadata": {},
   "outputs": [],
   "source": [
    "\n",
    "data = list(range(1,11))\n",
    "print(data) # [1, 2, 3, 4, 5, 6, 7, 8, 9, 10]\n",
    "print(data[1:8:2]) # [2, 4, 6, 8] \n",
    "print(data[1::3]) # [2, 5, 8]\n"
   ]
  },
  {
   "cell_type": "markdown",
   "metadata": {},
   "source": [
    "```\n",
    " Example 12\n",
    "At what index is item with value 3?\n",
    " data = [1, 2, 3, 4, 5]\n",
    " data.remove(3) \n",
    " data.insert(1, 3)\n",
    " data.append(2) \n",
    " data.sort()\n",
    " data = data[1:4]\n",
    "A) 0 B) 1 C) 2 D) 3E) not there\n",
    "```\n",
    "\n",
    "```\n",
    " Answer:\n",
    "At what index is item with value 3?\n",
    " data = [1, 2, 3, 4, 5] \n",
    " data.remove(3) \n",
    " data.insert(1, 3)\n",
    " data.append(2)\n",
    " data.sort()\n",
    " data = data[1:4]\n",
    "```\n",
    "A) 0 B) 1  ***C) 2***  D) 3E) not there\n",
    "\n",
    "### Try it: Lists\n",
    "```\n",
    "Example 13 (Question 1)\n",
    "Write a program that puts the numbers from 1 to 10 in a list then prints them by traversing the list.\n",
    "```\n",
    "```\n",
    "Example 14 (Question 2)\n",
    "Write a program that will multiply all elements in a list by 2. Bonus: try doing this using the enumerate() function.\n",
    "```\n",
    "```\n",
    "Example 15 (Question 3)\n",
    "Write a program that reads in a sentence from the user and splits the sentence into words using split(). Print only the words that are more than 3 characters long. At the end print the total num- ber of words.\n",
    "```    \n",
    "### Lists\n",
    "- In the previous example we use the list() function to create our list instead of the square brackets.\n",
    "- This constructs a list using the single input. This could be\n",
    "-  a sequence (eg. string, tuples) or\n",
    "-  a collection (set, dictionary) or\n",
    "-  a iterator object (like the objects iterated over in our for loops)\n",
    "- If no parameters are passed, it creates an empty list.\n",
    "\n",
    "### Tuples\n",
    "- A tuple is a collection which is ordered and unchangeable. To create tuples we use round brackets ()."
   ]
  },
  {
   "cell_type": "code",
   "execution_count": null,
   "metadata": {},
   "outputs": [],
   "source": [
    "\n",
    "thistuple = (\"apple\", \"banana\", \"cherry\") \n",
    "print(thistuple)\n"
   ]
  },
  {
   "cell_type": "markdown",
   "metadata": {},
   "source": [
    "- Elements in a tuple are referenced the same way as lists:"
   ]
  },
  {
   "cell_type": "code",
   "execution_count": null,
   "metadata": {},
   "outputs": [],
   "source": [
    "print(thistuple) \n",
    "thistuple[1]"
   ]
  },
  {
   "cell_type": "markdown",
   "metadata": {},
   "source": [
    "- Tuples are useful for storing some related information that belong together.\n",
    "\n",
    "- Unlike list, once a tuple is created, values can not be changed."
   ]
  },
  {
   "cell_type": "code",
   "execution_count": null,
   "metadata": {},
   "outputs": [],
   "source": [
    "\n",
    "thistuple[1]=\"pineapple\"\n"
   ]
  },
  {
   "cell_type": "markdown",
   "metadata": {},
   "source": [
    "- Notice that tuples are also iterable, meaning we can traverse through all the values. eg,"
   ]
  },
  {
   "cell_type": "code",
   "execution_count": null,
   "metadata": {},
   "outputs": [],
   "source": [
    "\n",
    "for i in thistuple:\n",
    "        print(i)\n",
    "# The above prints:\n"
   ]
  },
  {
   "cell_type": "markdown",
   "metadata": {},
   "source": [
    "### Python Sets\n",
    "- A set (like a mathematical set) is a collection which is unordered and unindexed.\n",
    "- Setsarewrittenwithcurlybrackets{}."
   ]
  },
  {
   "cell_type": "code",
   "execution_count": null,
   "metadata": {},
   "outputs": [],
   "source": [
    "# N.B they do not carry duplicates\n",
    "thisset = {\"apple\", \"banana\", \"cherry\", \"apple\"}\n",
    "print(thisset)\n"
   ]
  },
  {
   "cell_type": "markdown",
   "metadata": {},
   "source": [
    "- Since sets are unordered, the items will appear in a random order and elements cannot be reference by index.\n",
    "- Againwecaniteratethougheachitemusingaforloop.\n",
    "- Read more about these [here](https://www.programiz.com/python-programming/set).\n",
    "\n",
    "### Python Dictionary\n",
    "- A [dictionary](https://www.w3schools.com/python/python_dictionaries.asp) is a collection which is unordered, changeable and indexed. We create them with curly brackets and specify their keys and values."
   ]
  },
  {
   "cell_type": "code",
   "execution_count": null,
   "metadata": {},
   "outputs": [],
   "source": [
    "thisdict = {\n",
    "    \"key1\":\"value1\",\n",
    "    \"key2\":\"value2\",\n",
    "    \"key3\":\"value3\",\n",
    "}\n",
    "print(thisdict)\n"
   ]
  },
  {
   "cell_type": "markdown",
   "metadata": {},
   "source": [
    "- N.B Keys should be unique. If you create different values with the same key, Python will just overwrite the value of the duplicate keys."
   ]
  },
  {
   "cell_type": "code",
   "execution_count": null,
   "metadata": {},
   "outputs": [],
   "source": [
    "nono = {'key1':'this', 'key1':'that'} \n",
    "nono\n"
   ]
  },
  {
   "cell_type": "markdown",
   "metadata": {},
   "source": [
    "### Python Dictionary\n",
    "- We can now reference elements by a given name (i.e key) rather than the standard integers index."
   ]
  },
  {
   "cell_type": "code",
   "execution_count": null,
   "metadata": {},
   "outputs": [],
   "source": [
    "\n",
    "thisdict['key1']\n"
   ]
  },
  {
   "cell_type": "markdown",
   "metadata": {},
   "source": [
    "- Referencing by index won’t work (remember these are unordered)"
   ]
  },
  {
   "cell_type": "code",
   "execution_count": null,
   "metadata": {},
   "outputs": [],
   "source": [
    "thisdict[0]"
   ]
  },
  {
   "cell_type": "markdown",
   "metadata": {},
   "source": [
    "- Don’t get confused at try to do indexing using the values rather than the keys! For instance the following would produce an error:"
   ]
  },
  {
   "cell_type": "code",
   "execution_count": null,
   "metadata": {},
   "outputs": [],
   "source": [
    "\n",
    "thisdict['value1']\n"
   ]
  },
  {
   "cell_type": "markdown",
   "metadata": {},
   "source": [
    "### Python Dictionary\n",
    "- If we wanted to, we could always use integers for the keys (in that case we don’t need quotes around them when indexing using square brackets)."
   ]
  },
  {
   "cell_type": "code",
   "execution_count": null,
   "metadata": {},
   "outputs": [],
   "source": [
    "dict = {1:'one', 2:'two', 3:'three'}\n",
    "print(dict[1]) # one\n",
    "print(dict['one']) # error - key not found\n",
    "if 2 in dict:# check if key exists \n",
    "print(dict[2])# 'two'"
   ]
  },
  {
   "cell_type": "markdown",
   "metadata": {},
   "source": [
    "- We can add/delete and view keys/values using the following:"
   ]
  },
  {
   "cell_type": "code",
   "execution_count": null,
   "metadata": {},
   "outputs": [],
   "source": [
    "\n",
    "dict[4] = 'four' # Add 4:'four'\n",
    "del dict[1] # Remove key 1\n",
    "dict.keys() # Returns keys\n",
    "dict.values()# Returns values"
   ]
  },
  {
   "cell_type": "markdown",
   "metadata": {},
   "source": [
    "### Python Dictionary\n",
    "- Iterating over a dictionary will return the keys"
   ]
  },
  {
   "cell_type": "code",
   "execution_count": null,
   "metadata": {},
   "outputs": [],
   "source": [
    "dict = {'Martha':4, 'Janet':17, 'Peter':10}\n",
    "dict['Anna'] = 20 \n",
    "for i in dict:\n",
    "      print(i)"
   ]
  },
  {
   "cell_type": "markdown",
   "metadata": {},
   "source": [
    "- To get the values use:"
   ]
  },
  {
   "cell_type": "code",
   "execution_count": null,
   "metadata": {},
   "outputs": [],
   "source": [
    "for i in dict: \n",
    "      print(dict[i]) # or \n",
    "for i in dict.values(): \n",
    "      print(i)"
   ]
  },
  {
   "cell_type": "markdown",
   "metadata": {},
   "source": [
    "### Python Dictionary\n",
    "- To access both keys and values use:"
   ]
  },
  {
   "cell_type": "code",
   "execution_count": null,
   "metadata": {},
   "outputs": [],
   "source": [
    "\n",
    "# option 1:\n",
    "# i = key, dict[i] = value \n",
    "for i in dict:\n",
    "    print(\"key = \", i, \"value = \", dict[i])\n"
   ]
  },
  {
   "cell_type": "code",
   "execution_count": null,
   "metadata": {},
   "outputs": [],
   "source": [
    "\n",
    "# option 2:\n",
    "for key, val in dict.items():\n",
    "    print(\"key = \", key, \"values =\", val)\n"
   ]
  },
  {
   "cell_type": "markdown",
   "metadata": {},
   "source": [
    "### Summary of Python Structures\n",
    "- Lists can be altered and hold different data types:"
   ]
  },
  {
   "cell_type": "code",
   "execution_count": 11,
   "metadata": {},
   "outputs": [
    {
     "name": "stdout",
     "output_type": "stream",
     "text": [
      "<class 'int'>\n",
      "<class 'str'>\n",
      "<class 'list'>\n"
     ]
    }
   ],
   "source": [
    "lectures = [1,2,['excelI','excelII'],'CommandLine']\n",
    " # can delete individual items\n",
    "del lectures[3]\n",
    "# reassign values\n",
    "lectures[1] = 'Introduction' \n",
    "print(type(lectures[0])) # <class 'int'> \n",
    "print(type(lectures[1])) # <class 'str'> \n",
    "print(type(lectures[2])) # <class 'list'>"
   ]
  },
  {
   "cell_type": "markdown",
   "metadata": {},
   "source": [
    "- Tuples are immutable (we can’t change the values):"
   ]
  },
  {
   "cell_type": "code",
   "execution_count": 12,
   "metadata": {},
   "outputs": [
    {
     "ename": "TypeError",
     "evalue": "'tuple' object doesn't support item deletion",
     "output_type": "error",
     "traceback": [
      "\u001b[0;31m---------------------------------------------------------------------------\u001b[0m",
      "\u001b[0;31mTypeError\u001b[0m                                 Traceback (most recent call last)",
      "\u001b[0;32m<ipython-input-12-1998bcebb9c7>\u001b[0m in \u001b[0;36m<module>\u001b[0;34m\u001b[0m\n\u001b[1;32m      1\u001b[0m \u001b[0mtopics\u001b[0m\u001b[0;34m=\u001b[0m \u001b[0;34m(\u001b[0m\u001b[0;36m1\u001b[0m\u001b[0;34m,\u001b[0m\u001b[0;36m2\u001b[0m\u001b[0;34m,\u001b[0m\u001b[0;34m[\u001b[0m\u001b[0;34m'excel1'\u001b[0m\u001b[0;34m,\u001b[0m\u001b[0;34m'excel2'\u001b[0m\u001b[0;34m]\u001b[0m\u001b[0;34m,\u001b[0m\u001b[0;34m'CommandLine'\u001b[0m\u001b[0;34m)\u001b[0m\u001b[0;34m\u001b[0m\u001b[0;34m\u001b[0m\u001b[0m\n\u001b[0;32m----> 2\u001b[0;31m \u001b[0;32mdel\u001b[0m \u001b[0mtopics\u001b[0m\u001b[0;34m[\u001b[0m\u001b[0;36m3\u001b[0m\u001b[0;34m]\u001b[0m\u001b[0;34m\u001b[0m\u001b[0;34m\u001b[0m\u001b[0m\n\u001b[0m",
      "\u001b[0;31mTypeError\u001b[0m: 'tuple' object doesn't support item deletion"
     ]
    }
   ],
   "source": [
    "topics= (1,2,['excel1','excel2'],'CommandLine')\n",
    "del topics[3]"
   ]
  },
  {
   "cell_type": "code",
   "execution_count": null,
   "metadata": {},
   "outputs": [],
   "source": [
    "type(topics[2])"
   ]
  },
  {
   "cell_type": "markdown",
   "metadata": {},
   "source": [
    "- Sets do not hold duplicate values and are unordered."
   ]
  },
  {
   "cell_type": "code",
   "execution_count": null,
   "metadata": {},
   "outputs": [],
   "source": [
    "myset={3,1,2,3,2}\n",
    "myset"
   ]
  },
  {
   "cell_type": "code",
   "execution_count": null,
   "metadata": {},
   "outputs": [],
   "source": [
    "myset[1]"
   ]
  },
  {
   "cell_type": "markdown",
   "metadata": {},
   "source": [
    "- Dictionaries hold key-value pairs (just like real life dictionaries hold word-meaning pairs)."
   ]
  },
  {
   "cell_type": "code",
   "execution_count": null,
   "metadata": {},
   "outputs": [],
   "source": [
    "\n",
    "wordoftheday = {'persiflage':'light, bantering talk or writing' , 'foment':'to instigate or foster'}\n",
    "wordoftheday['foment']\n"
   ]
  },
  {
   "cell_type": "code",
   "execution_count": null,
   "metadata": {},
   "outputs": [],
   "source": [
    "\n",
    "wordoftheday[1] # produces an error\n"
   ]
  },
  {
   "cell_type": "markdown",
   "metadata": {},
   "source": [
    "```\n",
    "Example 16\n",
    "What value is printed?\n",
    "data = {'one':1, 'two':2, 'three':3} data['four'] = 4\n",
    "sum = 0\n",
    "for k in data.keys():\n",
    "if len(k) > 3:\n",
    "sum = sum + data[k]\n",
    "print(sum)\n",
    "A) 7 B) 0 C) 10 D) 6 E) error\n",
    "```\n",
    "```\n",
    "Answer:\n",
    "At what index is item with value 3?\n",
    "data['four'] = 4\n",
    "sum = 0\n",
    "for k in data.keys():\n",
    "if len(k) > 3:\n",
    "sum = sum + data[k]\n",
    "print(sum)\n",
    "```\n",
    "***A)*** 7 B) 0 C) 10 D) 6 E) error\n",
    "\n",
    "### Try it: Dictionary\n",
    "```\n",
    "Example 17\n",
    "Write a program that will use a dictionary to record the frequency of each letter in a sentence. Read a sentence from the user then print out the number of each letter.\n",
    "```\n",
    "- Code to create the dictionary of letters:\n",
    "```\n",
    "import string\n",
    "counts = {}\n",
    "for letter in string.ascii_uppercase:\n",
    "      counts[letter] = 0 \n",
    "print(counts)\n",
    "```\n",
    "```\n",
    "Example 18\n",
    "Create the following two variables and write a Python program that prints the following output:\n",
    " name = \"Joe\" age = 25\n",
    " \n",
    " output\n",
    " Name: Joe\n",
    " Age: 25\n",
    "```\n",
    "```\n",
    " Example 19\n",
    "Define the variable:\n",
    "name = \"Steve Smith\"\n",
    "Use substring to write a Python program that prints out the first name and last name of Steve Smith like below.\n",
    "\n",
    "OUTPUT\n",
    "\n",
    "First Name: Steve\n",
    "Last Name: Smith\n",
    "```"
   ]
  },
  {
   "cell_type": "markdown",
   "metadata": {},
   "source": [
    "    \n",
    "### Python Modules\n",
    "- A Python module or library is code written by others for a specific purpose. Whenever coding, make sure to look for modules that are already written for you to make your development faster! Modules are imported using the import command:\n",
    "```\n",
    "                 import <modulename>\n",
    "```\n",
    "- Useful modules for data analytics:\n",
    "- Biopython (bioinformatics),\n",
    "- NumPy (scientific computing/linear algebra),\n",
    "- scikit-learn (machine learning), pandas (data structures), 􏰀 \n",
    "- BeautifulSoup (HTML/Web)\n",
    " \n",
    "### Python Date and Time\n",
    "Python supports date and time data types and functions. To use, import the datetime module using the following:\n",
    " ```text\n",
    " import datetime\n",
    " ```\n",
    "The general syntax to import the module named mymodule is:\n",
    "```text\n",
    "import mymodule\n",
    "```\n",
    "You can choose to import only parts from a module, by using the from keyword. For example, if we just want the object person1 from mymodule type:\n",
    "```text\n",
    "from mymodule import person1\n",
    "```\n",
    "Read more about this [here](https://www.w3schools.com/python/python_modules.asp[).\n",
    "\n",
    "### Python Date and Time\n",
    "We may choose to only import the datetime object from the datetime module (which happens to be the same name) using the following:"
   ]
  },
  {
   "cell_type": "code",
   "execution_count": null,
   "metadata": {},
   "outputs": [],
   "source": [
    "\n",
    "from datetime import datetime\n"
   ]
  },
  {
   "cell_type": "markdown",
   "metadata": {},
   "source": [
    "The datetime object has a method for formatting date objects\n",
    "into readable strings. Read more [here](https://www.w3schools.com/python/python_datetime.asp).\n",
    "\n",
    "### Python Date and Time\n",
    "Methods:"
   ]
  },
  {
   "cell_type": "code",
   "execution_count": null,
   "metadata": {},
   "outputs": [],
   "source": [
    "now = datetime.now()\n",
    "now = datetime.now()\n",
    "print(now)"
   ]
  },
  {
   "cell_type": "code",
   "execution_count": null,
   "metadata": {},
   "outputs": [],
   "source": [
    "current_year = now.year\n",
    "current_month = now.month\n",
    "current_day = now.day\n",
    "print(\"{}-{}-{} {}:{}:{}\".format(now.year, now.month, now.day, now.hour, now.minute, now.second))\n",
    "print(\"{}-{}-{} {}:{}:{}\".format(now.year, now.month, now.day, now.hour, now.minute, now.second))\n"
   ]
  },
  {
   "cell_type": "markdown",
   "metadata": {},
   "source": [
    "### Python Clock\n",
    "- The time module, is another useful module for handle time-related tasks.\n",
    "- The time() function for example, returns the current time in seconds.\n",
    "- On Linux machines, this is an integer counting the number of seconds passed since January 1, 1970, 00:00:00 (recall from Lecture 2).\n",
    "- This function can be useful when we want to time how long a process takes within our program. See an example on the next slide."
   ]
  },
  {
   "cell_type": "markdown",
   "metadata": {},
   "source": [
    "### Python Clock\n",
    "- Example:"
   ]
  },
  {
   "cell_type": "code",
   "execution_count": null,
   "metadata": {},
   "outputs": [],
   "source": [
    "import time\n",
    "startTime = time.time()\n",
    "print(\"Start time:\", startTime)\n",
    "print(\"How long will this take?\")\n",
    "endTime = time.time()\n",
    "print(\"End time:\", endTime)\n",
    "print(\"Time elapsed:\", endTime-startTime) \n"
   ]
  },
  {
   "cell_type": "markdown",
   "metadata": {},
   "source": [
    "### Python Input\n",
    "To read from the keyboard (standard input), use the method input:1\n",
    "􏰀 - Example:\n",
    "  name = input(\"What's your name?\") \n",
    "  print(name)\n",
    "  age = input(\"What's your age?\") \n",
    "  print(age)\n",
    "  \n",
    "### Try it: Python Input, Output, and Dates\n",
    "```text\n",
    "Example 14\n",
    "Write a program that reads a name and prints out the name, the length of the name, the first five characters of the name.\n",
    "```\n",
    "\n",
    "```text\n",
    "Example 15\n",
    "Print out the current date in YYYY/MM/DD format.\n",
    "\n",
    "```\n",
    "### Comparisons \n",
    "- A comparison operator compares two values. 􏰀 􏰀 \n",
    "- Examples:"
   ]
  },
  {
   "cell_type": "code",
   "execution_count": null,
   "metadata": {},
   "outputs": [],
   "source": [
    "N=10  \n",
    "5 < 10\n",
    "N > 5 # N is a variable. Answer depends on N."
   ]
  },
  {
   "cell_type": "markdown",
   "metadata": {},
   "source": [
    " Comparison Operators in Python: \n",
    "\n",
    "| Syntax      |Description|\n",
    "| :-------------  |:-------------  |\n",
    "|> |Greater than|\n",
    "|>=| Greater than or equal|\n",
    "|< |Less than|\n",
    "|<=| Less than or equal|\n",
    "|==| Equal (Note: Not \"=\" which is used for assignment!)|\n",
    "|!=| Not equal|\n",
    "\n",
    "\n",
    "### The result of a comparison is a Boolean value which is either True or False.\n",
    "\n",
    "Conditions with and, or, not\n",
    "A condition is an expression that is either True or False and may contain one or more comparisons. Conditions may be combined using: and, or, not.\n",
    "Order of evaluation: not, and, or. May change order with parentheses.\n",
    "\n",
    " | True if:      |Syntax| Examples      |Outpu|\n",
    "| :-------------  |:-------------  |:-------------  |:-------------  |\n",
    "| both are true|and|True and True False and True|True False|\n",
    "| either or both are T|or|True or True False or True False or False|True True False|\n",
    "| false|not|not True not False| False True|\n",
    "\n",
    "### Condition Examples"
   ]
  },
  {
   "cell_type": "code",
   "execution_count": null,
   "metadata": {},
   "outputs": [],
   "source": [
    "n=5\n",
    "v=8\n",
    "print(n > 5) #False\n",
    "print(n == v) #False\n",
    "print(n != v) # True\n",
    "print((n == v) and (n+4>v)) # False\n",
    "print((n == v) or (n+4>v)) # True\n",
    "print((n+1) == (v-2) or (not v>4)) # True print((n+1) == (v-2) or not v>4) and (n>5)) # False"
   ]
  },
  {
   "cell_type": "markdown",
   "metadata": {},
   "source": [
    "### Order of Operations\n",
    "Table: The order of operations for logicals. See complete list here\n",
    "\n",
    "\n",
    "\n",
    "| Syntax      |Description|\n",
    "| :-------------  |:-------------  |\n",
    "|()|brackets|\n",
    "|**|exponents|\n",
    "|* / % MOD|Multiplication, division, modulo|\n",
    "|+ -|Addition and subtraction|\n",
    "|< <= > >=|Comparisons: less-than and greater-than|\n",
    "|== !=|Comparisons: equal and not equal|\n",
    "|and|and|\n",
    "|or|or|\n",
    "|nots always bind to the condition immediate next to it|\n",
    "\n",
    "```text\n",
    "### Tip:\n",
    "I recommend always using brackets to avoid confusion.\n",
    "```\n",
    "```text\n",
    " Example 16\n",
    "How many of the following conditions are TRUE? \n",
    "1. True and False\n",
    "2. not True or not False\n",
    "3. 3 + 2 == 5 or 5 > 3 and 4 != 4\n",
    "4. (1 < 2 or 3 > 5) and (2 == 2 and 4 != 5)\n",
    "5. not (True or False) or True and (not False)\n",
    "\n",
    "A) 1 B) 2 C) 3 D) 4 E) 5\n",
    "```"
   ]
  },
  {
   "cell_type": "markdown",
   "metadata": {},
   "source": [
    "Python Flow Control\n",
    "### Decisions\n",
    "- Decisions are used in programming to specify one or more conditions to be tested, along with statement(s) to execute if the condition is true.\n",
    "- Acondit\n",
    "ion is an expression that is either True or False.\n",
    "- These conditions control the flow of you program and different statements will be carried out depending on the outcome of these conditions.\n",
    "- To build conditional statements we need to be able to write Boolean expressions.\n",
    "### Boolean Expressions\n",
    "- A Boolean expression is an expression that evaluates to a Boolean value <sup>1 </sup>.\n",
    "- A Boolean value is either True or False.\n",
    "Boolean values\n",
    "Boolean values are not strings. The Python type for storing True and False values is called bool."
   ]
  },
  {
   "cell_type": "code",
   "execution_count": null,
   "metadata": {},
   "outputs": [],
   "source": [
    "print(type(True)) "
   ]
  },
  {
   "cell_type": "code",
   "execution_count": null,
   "metadata": {},
   "outputs": [],
   "source": [
    "print(type(\"True\"))"
   ]
  },
  {
   "cell_type": "markdown",
   "metadata": {},
   "source": [
    "1. The name comes from George Boole, who first defined an algebraic system of logic in the mid 19th century\n",
    "\n",
    "### Boolean Expressions\n",
    "We can create Boolean expressions using:\n",
    "Relational operators/Comparisons: used to compare two values\n",
    "- Examples:"
   ]
  },
  {
   "cell_type": "code",
   "execution_count": null,
   "metadata": {},
   "outputs": [],
   "source": [
    "5 < 10 # returns True "
   ]
  },
  {
   "cell_type": "code",
   "execution_count": null,
   "metadata": {},
   "outputs": [],
   "source": [
    "N > 5  # N is a variable. Answer depends on N."
   ]
  },
  {
   "cell_type": "markdown",
   "metadata": {},
   "source": [
    "Logical operators: the logical operators and, or and not are used to combine relational operators.\n",
    "- Example: "
   ]
  },
  {
   "cell_type": "code",
   "execution_count": null,
   "metadata": {},
   "outputs": [],
   "source": [
    "n=1\n",
    "(n>5)and(v!=n)"
   ]
  },
  {
   "cell_type": "markdown",
   "metadata": {},
   "source": [
    "- The result these expressions are a Boolean value which is either True or False\n",
    "\n",
    "### Comparisons\n",
    "A condition is a Boolean expression that is either True or False and may contain one or more comparisons.\n",
    "\n",
    "The comparison operators in Python are summarized below:\n",
    "\n",
    "\n",
    "|Syntax|Description|\n",
    "| :------------- | :----------: |\n",
    "|>| Greater than|\n",
    "|>= |Greater than or equal|\n",
    "|<| Less than|\n",
    "|<=| Less than or equal|\n",
    "|==| Equal (Note: Not \"=\" which is used for assignment!)|\n",
    "|!=| Not equal|\n",
    "\n",
    "### Conditions with and, or, not\n",
    "Conditions may be combined using the relational operators and, or, not.\n",
    "\n",
    "|Syntax|Description|Examples|Output|\n",
    "| :------------- | :----------: | :------------- | :----------: |\n",
    "|both are true|and|True and True <br>False and True|True <br>False|\n",
    "|either or both are T|or|True or True <br>False or True<br>False or False|True <brTrue<br>FLase|\n",
    "|false|not|not True <br>not False|False <br> True|\n",
    "\n",
    "### Condition Examples"
   ]
  },
  {
   "cell_type": "code",
   "execution_count": null,
   "metadata": {
    "scrolled": true
   },
   "outputs": [],
   "source": [
    "n=5\n",
    "v=8\n",
    "print(n > 5) #False\n",
    "print(n == v) #False\n",
    "print(n != v) # True\n",
    "print((n == v) and (n+4>v)) # False\n",
    "print((n == v) or (n+4>v)) # True\n",
    "print((n+1) == (v-2) or (not v>4)) # True print((n+1) == (v-2) or not v>4) and (n>5)) # False"
   ]
  },
  {
   "cell_type": "markdown",
   "metadata": {},
   "source": [
    "### Order of Operations\n",
    "Table: The order of operations; see complete list [here](https://en.wikipedia.org/wiki/Order_of_operations#Programming_languages).\n",
    "\n",
    "|||\n",
    "| :------------- | :----------: | \n",
    "|()<br>**<br>* / % MOD<br>+ -<br>< <= > >=<br>== != <br>and<br> or|brackets <br>exponents Multiplication, division, modulo <br>Addition and subtraction<br>Comparisons: less-than and greater-than <br>Comparisons: equal and not equal<br>and<br>or|nots always bind to the condition immediate next to it|\n",
    "```text\n",
    "Tip:\n",
    "I recommend always using brackets to avoid confusion.\n",
    "```\n",
    "\n",
    "```text\n",
    "Example 16\n",
    "How many of the following conditions are TRUE?\n",
    "1. True and False\n",
    "2. not True or not False\n",
    "3. 3+2==5or5>3and4!=4\n",
    "4. (1<2or3>5)and(2==2and4!=5)\n",
    "5. not (True or False) or True and (not False)\n",
    "A) 1 B) 2 C) 3 D) 4 E) 5\n",
    "```\n",
    "```text \n",
    "Answer:\n",
    "How many of the following conditions are TRUE?\n",
    "1. True and False = True or False\n",
    "2. not True or not False = (not True) or (not False)\n",
    "3. 3+2==5or5>3and4!=4\n",
    "= (5 == 5) or (5 > 3) and (4 != 4) =(5==5)or((5>3)and(4!=4))# and first\n",
    "4. (1<2or3>5)and(2==2and4!=5) (1 < 2 or 3 > 5) and (2 == 2 and 4 != 5) (1 < 2 or 3 > 5) and (2 == 2 and 4 != 5)\n",
    "5. not (True or False) or True and (not False) not (True or False) or True and (not False) not (True or False) or True and (not False)\n",
    "```\n",
    "A) 1 B) 2 C) 3 D) **4** E) 5 "
   ]
  },
  {
   "cell_type": "markdown",
   "metadata": {},
   "source": [
    "### Decisions\n",
    "In Python decision syntax:\n",
    "## put an image here\n",
    "\n",
    "- Thestatement(s)aftertheifconditionisonlyperformedif the condition (i.e. Boolean expression) returns True.\n",
    "- Anystatement(s)followingthe(optional)else:conditionis only performed if the condition is False.\n",
    "\n",
    "```text\n",
    "Python syntax\n",
    "Remember that the indentation and colons are not optional!\n",
    "```\n",
    "### Decision Block Syntax\n",
    "- Statementslistedafteranif/elif/esleclausearenotonly indented for readability.\n",
    "- These indentation is also how Python knows which statements are part of the group of statements to be executed.\n",
    "- Statements with the same indentation belong to the same group called a suite.\n",
    "- Be consistent with either using tabs or spaces (no mixing)\n",
    "```text\n",
    "Tip: one-line if clause\n",
    "If the suite of an if clause consists of a single line, it may go on the same line as the header statement.\n",
    "```"
   ]
  },
  {
   "cell_type": "code",
   "execution_count": null,
   "metadata": {},
   "outputs": [],
   "source": [
    "if (n > 100): \n",
    "    print(\"n is large\")"
   ]
  },
  {
   "cell_type": "markdown",
   "metadata": {},
   "source": [
    "### Decisions if/elif Syntax\n",
    "Check out the difference for age = 20:"
   ]
  },
  {
   "cell_type": "code",
   "execution_count": null,
   "metadata": {},
   "outputs": [],
   "source": [
    "age = 20\n",
    "if age > 19:\n",
    "    print(\"Not a teenager\")\n",
    "    print(\"Sorry\") \n",
    "else:\n",
    "    print(\"You're young\") \n",
    "    print(\"ID checked\")"
   ]
  },
  {
   "cell_type": "code",
   "execution_count": null,
   "metadata": {},
   "outputs": [],
   "source": [
    "age = 20\n",
    "if age > 19:\n",
    "    print(\"Not a teenager\")\n",
    "    print(\"Sorry\") \n",
    "else:\n",
    "    print(\"You're young\") \n",
    "print(\"ID checked\")"
   ]
  },
  {
   "cell_type": "markdown",
   "metadata": {},
   "source": [
    "### Generic code:\n",
    "\n",
    "```\n",
    "    if (cond1):\n",
    "          Process 1\n",
    "          \n",
    "```\n",
    "          \n",
    " Example 1: \n",
    " "
   ]
  },
  {
   "cell_type": "code",
   "execution_count": null,
   "metadata": {},
   "outputs": [],
   "source": [
    "n=5\n",
    "if (n < 10):\n",
    "    n = 10"
   ]
  },
  {
   "cell_type": "markdown",
   "metadata": {},
   "source": [
    "n is now 10\n",
    "\n",
    "Example 2:"
   ]
  },
  {
   "cell_type": "code",
   "execution_count": null,
   "metadata": {},
   "outputs": [],
   "source": [
    "   n=5\n",
    "if (n > 10):\n",
    "     n = 10"
   ]
  },
  {
   "cell_type": "markdown",
   "metadata": {},
   "source": [
    "- Generic code:\n",
    "```\n",
    " if (cond1):\n",
    "     Process 1\n",
    " else:\n",
    "     Process 2\n",
    "```\n",
    "- Example 3:"
   ]
  },
  {
   "cell_type": "code",
   "execution_count": null,
   "metadata": {},
   "outputs": [],
   "source": [
    "n=5\n",
    "if (n > 10):\n",
    "    n = 10 \n",
    "else:\n",
    "    n=3 \n",
    " ### n is now 3"
   ]
  },
  {
   "cell_type": "markdown",
   "metadata": {},
   "source": [
    "### Decisions if/elif Syntax\n",
    "If there are more than two choices, use if/elif/else statements.<br> N.B. once a condition is met, no subsequent conditions are checked\n",
    "```\n",
    "if condition1:\n",
    "     Process 1\n",
    " elif condition2:\n",
    "     Process 2\n",
    " elif condition3:\n",
    "     Process 3\n",
    " else:\n",
    "     Process 4\n",
    "```"
   ]
  },
  {
   "cell_type": "code",
   "execution_count": null,
   "metadata": {},
   "outputs": [],
   "source": [
    "if n == 1: \n",
    "    print(\"one\")\n",
    "elif n == 2: \n",
    "    print(\"two\")\n",
    "elif n == 3: \n",
    "    print(\"three\")\n",
    "else:\n",
    "    print(\"Too big!\")\n",
    "print(\"Done!\")"
   ]
  },
  {
   "cell_type": "markdown",
   "metadata": {},
   "source": [
    "```text\n",
    "else\n",
    "Again, the else statement is an optional. There could be at most one else statement following an if\n",
    "```\n",
    "### if, elif, else\n",
    "\n",
    "## need a flow chart \n",
    "\n",
    "\n",
    "### Decisions if/elif Syntax"
   ]
  },
  {
   "cell_type": "code",
   "execution_count": null,
   "metadata": {},
   "outputs": [],
   "source": [
    "n=1 \n",
    "if n==1:\n",
    "    print(\"one\")\n",
    "elif n>0: # this condition is never checked since the\n",
    "# condition on line 2 has already been satisfied\n",
    "    print(\"positive number\")\n",
    "elif n==3:\n",
    "    print(\"three\")\n",
    "else:\n",
    "      print(\"Too big!\")\n",
    "print(\"and Done!\") # not part of the if statement"
   ]
  },
  {
   "cell_type": "markdown",
   "metadata": {},
   "source": [
    "The above returns:\n",
    "```text\n",
    "one <br>\n",
    "and Done!\n",
    "```\n",
    "### Decisions if/elif Syntax"
   ]
  },
  {
   "cell_type": "code",
   "execution_count": null,
   "metadata": {},
   "outputs": [],
   "source": [
    "n=3 \n",
    "if n==1:\n",
    "    print(\"one\") \n",
    "elif n>0:\n",
    "   print(\"positive number\")\n",
    "elif n == 3: # this condition is never checked since\n",
    "     # condition on line 4 has already been satisfied\n",
    "     print(\"three\")\n",
    "else:\n",
    "     print(\"Too big!\")\n",
    "print(\"and Done!\") # not part of the if statement"
   ]
  },
  {
   "cell_type": "markdown",
   "metadata": {},
   "source": [
    "The above returns:\n",
    "```text\n",
    "positive number<br>\n",
    " and Done!\n",
    "```\n",
    "### Decisions Multiple if statements\n",
    "I As mentioned previously, once a condition is met in an if/elif\n",
    "statement, no subsequent conditions are checked.\n",
    "I If we want all conditions to be checked we could use multiple\n",
    "if statements:\n",
    "\n",
    "```\n",
    "if condition1:\n",
    "    Process 1\n",
    "if condition2:\n",
    "    Process 2\n",
    "if condition3:\n",
    "    Process 3\n",
    "if condition4:\n",
    "    Process 4\n",
    "```"
   ]
  },
  {
   "cell_type": "markdown",
   "metadata": {},
   "source": [
    "n=3 \n",
    "if n>0:\n",
    "   print(\"positive number\")\n",
    "if n==3:\n",
    "   print(\"three\") \n",
    "if n<10:\n",
    "   print(\"single digit\")"
   ]
  },
  {
   "cell_type": "markdown",
   "metadata": {},
   "source": [
    "```\n",
    " Example 17\n",
    "What is the output of the following code?\n",
    "n=3\n",
    "if n < 1:\n",
    "  print(\"one\") \n",
    "elif n > 2:\n",
    "  print(\"two\") \n",
    "elif n == 3:\n",
    "  print(\"three\")\n",
    "A) nothing\n",
    "B) one\n",
    "C) two\n",
    "D) three\n",
    "E) error\n",
    "```\n",
    "```\n",
    " Answer:\n",
    "What is the output of the following code?\n",
    "n=3\n",
    "if n < 1:\n",
    "print(\"one\") elif n > 2:\n",
    "print(\"two\") elif n == 3:\n",
    "print(\"three\")\n",
    "A) nothing\n",
    "B) one\n",
    "**C) two**\n",
    "D) three\n",
    "E) error\n",
    "```\n",
    "\n",
    "```\n",
    " Example 18\n",
    "What is the output of the following code?\n",
    "n=3\n",
    "if n < 1:\n",
    "  print(\"one\") \n",
    "elif n > 2\n",
    "  print(\"two\")\n",
    "else:\n",
    "  print(\"three\")\n",
    "A) nothing\n",
    "B) one\n",
    "C) two\n",
    "D) three\n",
    "E) error\n",
    "```\n",
    "```\n",
    " Answer:\n",
    "What is the output of the following code?\n",
    "n=3\n",
    "if n < 1:\n",
    "print(\"one\") elif n > 2\n",
    "print(\"two\") else:\n",
    "print(\"three\")\n",
    "```\n",
    "1. nothing\n",
    "2. one\n",
    "3. two\n",
    "4. three<br>\n",
    "**5. error (missing colon)**\n",
    "\n",
    "```\n",
    "Example 19\n",
    "What is the output of the following code?\n",
    "n=1\n",
    "if n < 1:\n",
    "  print(\"one\") \n",
    "elif n > 2:\n",
    "  print(\"two\")\n",
    "else:\n",
    "  print(\"three\") \n",
    "print(\"four\")\n",
    "A)nothing\n",
    "B) one  four\n",
    "C) three\n",
    "D) three four\n",
    "E) error\n",
    "```\n",
    "\n",
    "```\n",
    "Answer:\n",
    "What is the output of the following code?\n",
    "n=1\n",
    "if n < 1:\n",
    "  print(\"one\") \n",
    "elif n > 2:\n",
    "  print(\"two\")\n",
    "else:\n",
    "  print(\"three\") \n",
    "print(\"four\")\n",
    "```\n",
    "A)nothing\n",
    "B) one  four\n",
    "C) three\n",
    "**D) three four**\n",
    "E) error\n",
    "\n",
    "```\n",
    " Example 20\n",
    "What is the output of the following code?\n",
    "n=0\n",
    "if n < 1:\n",
    "   print(\"one\")\n",
    "   print(\"five\") \n",
    "elif n == 0:\n",
    "   print(\"zero\")\n",
    "else:\n",
    "   print(\"three\") \n",
    "print(\"four\")\n",
    "\n",
    "A)nothing \n",
    "B) one \n",
    "   four\n",
    "C) one \n",
    "   four\n",
    "   five\n",
    "D) one \n",
    "  five\n",
    "  zero \n",
    "  four\n",
    "E) error\n",
    "  \n",
    "```\n",
    "\n",
    "<pre><code>\n",
    " Example 20\n",
    "What is the output of the following code?\n",
    "n=0\n",
    "if n < 1:\n",
    "   print(\"one\")\n",
    "   print(\"five\") \n",
    "elif n == 0:\n",
    "   print(\"zero\")\n",
    "else:\n",
    "   print(\"three\") \n",
    "print(\"four\")\n",
    "\n",
    "A)nothing \n",
    "B) one \n",
    "   four\n",
    "<b>C) one \n",
    "   four\n",
    "   five</b>\n",
    "D) one \n",
    "  five\n",
    "  zero \n",
    "  four\n",
    "E) error\n",
    " </pre></code> \n",
    " \n",
    " ### Try it: Decisions\n",
    "\n",
    "```text\n",
    "Example 21\n",
    "Write a Python program that asks the user for a number then prints out if it is even or odd.\n",
    "```\n",
    "```text\n",
    "Example 22\n",
    "Write a Python program that asks the user for an integer. If that number is between 1 and 5, prints out the word for that number (e.g. 1 is one). If the number is not in that range, print out error. \n",
    "```\n",
    " \n",
    "### Loops and Iteration\n",
    "\n",
    "A loop repeats a set of statements multiple times until some condition is satisfied.\n",
    "  - Each time a loop is executed is called an iteration.\n",
    "A for loop repeats statements a certain number of times.\n",
    "  -It will iterate over asequence, eg.1,2,....10\n",
    "  - or it could iterate over group/collection elements, eg. lines in a document, elements in a list\n",
    "A while loop repeats statements while a condition is True.\n",
    "  - At each iteration we will check this condition. \n",
    "  - If its True we complete another iteration \n",
    "  - If its False we exit the loop.\n",
    "  \n",
    " ### while loops\n",
    "The most basic looping structure is the while loop.\n",
    "A while loop continually executes a set of statements while a condition is true. Syntax:\n",
    "\n",
    "```\n",
    " while condition :\n",
    "                   statement1\n",
    "                   statement2\n",
    "                       .\n",
    "                       .\n",
    "```\n",
    "Example:"
   ]
  },
  {
   "cell_type": "code",
   "execution_count": null,
   "metadata": {},
   "outputs": [],
   "source": [
    "n=1\n",
    "while n <= 5:\n",
    "     print(n)\n",
    "     n=n+1"
   ]
  },
  {
   "cell_type": "markdown",
   "metadata": {},
   "source": [
    "### while loops\n",
    "\n",
    "## put an flow chart \n",
    "\n",
    "### Shorthand\n",
    "In addition to the = operator for assigning a value to a variable, Python also supports a shorthand version that compounds various mathematical operators with the assignment operator:\n",
    "Table: Table taken from [this](https://www.programiz.com/python-programming/operators) source\n",
    "\n",
    "|Operator| Example| Equivalent to|\n",
    "|:-------------|:-------------|:-------------|\n",
    "|= |x=5| x=5|\n",
    "|+=| x+=5| x=x+5|\n",
    "|-=| x-=5| x=x-5|\n",
    "|*=| x*=5| x=x*5|\n",
    "|/=| x/=5| x=x/5|\n",
    "|%=| x%=5| x=x%5|\n",
    "\n",
    "Hence the program from 2 slides ago can be written:\n",
    "```\n",
    "n=1\n",
    "while n <= 5:\n",
    "print(n) n += 1\n",
    "```\n",
    "Output:\n",
    "```\n",
    "1 \n",
    "2\n",
    "3\n",
    "4\n",
    "5\n",
    "```\n",
    "\n",
    "### Question: while loop\n",
    "\n",
    "```\n",
    " Example 23\n",
    "What is the output of the following code:\n",
    "    n=4\n",
    "   while n >= 0:\n",
    "         n=n-1 \n",
    "         print(n)\n",
    "A)numbers 3 to -1\n",
    "B)numbers 3 to 0 \n",
    "c) numbers 4 to 0\n",
    "D) numbers 4 to -1 \n",
    "E)numbers 4 to infinity\n",
    "```\n",
    "<pre><code>\n",
    "Answer\n",
    "What is the output of the following code:\n",
    "    n=4\n",
    "   while n >= 0:\n",
    "         n=n-1 \n",
    "         print(n)\n",
    "<b>A)numbers 3 to -1</b>\n",
    "B)numbers 3 to 0 \n",
    "c) numbers 4 to 0\n",
    "D) numbers 4 to -1 \n",
    "E)numbers 4 to infinity\n",
    "</pre></code> \n",
    "\n",
    "### Question: while loop 2\n",
    " Example 24\n",
    "What is the output of the following code:\n",
    "```\n",
    "n=1\n",
    "while n <= 5:\n",
    "      print(n) \n",
    "      n=n+1\n",
    "A) nothing\n",
    "B) numbers 1 to 5 \n",
    "C) numbers 1 to 6 \n",
    "D) lots of 1s\n",
    "\n",
    "```\n",
    "\n",
    "<pre><code>\n",
    "Question: while loop\n",
    "answer\n",
    "What is the output of the following code:\n",
    "n=1\n",
    "while n <= 5:\n",
    "print(n) n=n+1\n",
    "A) nothing\n",
    "B) numbers 1 to 5\n",
    "C) numbers 1 to 6\n",
    "<b>D) lots of 1s Infinite loop without the fourth line indented</b>\n",
    " \n",
    "</pre></code>\n",
    "   \n",
    "### The for loop\n",
    "- A for loop repeats statements a given number of times.\n",
    "- One way of building a for loop is to iterate over a sequence which we create using range()\n",
    "   ```for i in range(1,6): \n",
    "               print(i)\n",
    "   ```\n",
    " - The above prints the numbers 1 through 5. \n",
    " ```text\n",
    " range(start, end)\n",
    "  In range(start, end), the start number in inclusive and the start number is exclusive.\n",
    "  ```\n",
    "  ### Using range()\n",
    "- The general form of range is: \n",
    "    range(start, end, step)\n",
    "- Thedefaultstep(i.eincrement)is1 \n",
    "- We may also specify an increment:"
   ]
  },
  {
   "cell_type": "code",
   "execution_count": null,
   "metadata": {},
   "outputs": [],
   "source": [
    "# prints the numbers: 1,3,5,7,9 \n",
    "for i in range(1, 10, 2):\n",
    "    print(i)\n",
    "    "
   ]
  },
  {
   "cell_type": "code",
   "execution_count": null,
   "metadata": {},
   "outputs": [],
   "source": [
    "# prints the numbers: 2,4,6,8 \n",
    "for i in range(2, 10, 2):\n",
    "    print(i)\n"
   ]
  },
  {
   "cell_type": "code",
   "execution_count": null,
   "metadata": {},
   "outputs": [],
   "source": [
    "# prints the numbers 5 to 1\n",
    "for i in range(5,0, -1):\n",
    "    print(i)\n",
    "    "
   ]
  },
  {
   "cell_type": "markdown",
   "metadata": {},
   "source": [
    "### Using range()\n",
    "- It is only required that the end argument be provided for the\n",
    "range() function.\n",
    "- Ifthestartargumentisnotprovided,itissetasitsdefault\n",
    "value of 0 (not 1)."
   ]
  },
  {
   "cell_type": "code",
   "execution_count": null,
   "metadata": {},
   "outputs": [],
   "source": [
    " for i in range(4):\n",
    "    print(i)"
   ]
  },
  {
   "cell_type": "markdown",
   "metadata": {},
   "source": [
    "The above prints the numbers: 0,1,2,3 (remember, end is not inclusive)\n",
    "  \n",
    "### the for and while loop\n",
    "The for loop is like a short-hand for the while loop:"
   ]
  },
  {
   "cell_type": "code",
   "execution_count": null,
   "metadata": {},
   "outputs": [],
   "source": [
    "i=0\n",
    "while i < 10:\n",
    "    print(i)\n",
    "    i += 1\n",
    "   "
   ]
  },
  {
   "cell_type": "code",
   "execution_count": null,
   "metadata": {},
   "outputs": [],
   "source": [
    "   \n",
    "for i in range(0, 10, 1): \n",
    "     print(i)   "
   ]
  },
  {
   "cell_type": "markdown",
   "metadata": {},
   "source": [
    "### Common problems – Infinite Loops\n",
    "Infinite loops are caused by an incorrect loop condition or not updating values within the loop so that the loop condition will eventually be false.\n",
    "\n",
    "- Example:"
   ]
  },
  {
   "cell_type": "code",
   "execution_count": null,
   "metadata": {
    "scrolled": true
   },
   "outputs": [],
   "source": [
    "n=1\n",
    "while n <= 5:\n",
    "    print(n)"
   ]
  },
  {
   "cell_type": "markdown",
   "metadata": {},
   "source": [
    " \n",
    "Here we forgot to increase n->infinite loop.\n",
    "\n",
    "N.B. to exit from an infinite loop while running Python in the\n",
    "console, press Ctrl + C (press the stop icon in Jupyter Notebook).  \n",
    "\n",
    "\n",
    "### Common Problems – Off-by-one Error\n",
    "The most common error is to be \"off-by-one\". This occurs when you stop the loop one iteration too early or too late.\n",
    "- Example:"
   ]
  },
  {
   "cell_type": "code",
   "execution_count": null,
   "metadata": {},
   "outputs": [],
   "source": [
    "for i in range(0,10):\n",
    "    print(i)\n",
    "        "
   ]
  },
  {
   "cell_type": "markdown",
   "metadata": {},
   "source": [
    "This loop was supposed to print 0 to 10, but it does not.\n",
    "```text\n",
    "Example 25\n",
    "Question: How can we fix this code to print 0 to 10?\n",
    "```\n",
    "Question: for loop\n",
    "```text\n",
    "Example 26\n",
    "How many numbers are printed in this loop\n",
    "for i in range(1,10): print(i)\n",
    "A) 0\n",
    "B) 9\n",
    "C) 10\n",
    "D) 11\n",
    "E) error\n",
    "```\n",
    "```\n",
    "Answer:\n",
    "How many numbers are printed in this loop\n",
    "for i in range(1,10): print(i)\n",
    "A) 0\n",
    "**B) 9**\n",
    "C) 10\n",
    "D) 11\n",
    "E) error\n",
    "```\n",
    "Question: for loop Example 27\n",
    "```text\n",
    "How many numbers are printed in this loop\n",
    "for i in range(11,0): print(i)\n",
    "A) 0\n",
    "B) 9\n",
    "C) 10\n",
    "D) 11\n",
    "E) error\n",
    "```\n",
    "```text\n",
    "Answer:\n",
    "How many numbers are printed in this loop\n",
    "for i in range(11,0): print(i)\n",
    "**A) 0**\n",
    "B) 9\n",
    "C) 10\n",
    "D) 11\n",
    "E) error\n",
    "```\n",
    "### Try it: for loops\n",
    "```text \n",
    " Example 28\n",
    "Write a program that prints the numbers from 1 to 10 then 10 to 1.\n",
    "```\n",
    "```text \n",
    "Example 29\n",
    "Write a program that prints the numbers from 1 to 100 that are divisible by 3 and 5.\n",
    "```\n",
    "```text \n",
    "Example 30\n",
    "Write a program that asks the user for 5 numbers and prints the maximum, sum, and average of the numbers.\n",
    "``` \n",
    "### Functions and Procedures\n",
    "\n",
    "- A procedure is a sequence of program statements that have a specific task that they perform.\n",
    "- A function is a procedure that returns a value after it is executed. \n",
    "- Loosely speaking, functions are a special type of procedure for which we do not immediately know the result.\n",
    "- A procedure is a set of command which can be executed in order. A function returns a value and a procedure just executes commands. \n",
    "- While there are many built in functions at our disposal in Python,we can also create own user-defined functions.\n",
    " \n",
    "### Defining and Calling Functions and Procedures\n",
    "- Creating a function involves writing the statements and providing a function declaration with:\n",
    "    - a name (follows the same naming rules as variables) \n",
    "    - list of the inputs (called parameters)\n",
    "    - the output (return value) if any\n",
    "- Calling (or executing) a function involves:\n",
    "     - providing the name of the function\n",
    "     - providing the values for all arguments (inputs) if any \n",
    "     - providing space (variable name) to store the output (if any)\n",
    "     \n",
    "### Defining and Calling a Function\n",
    "- Consider a function that returns a number doubled:\n",
    "\n",
    "![alt text](../../images/06Python/callfunction2.png)\n",
    "\n",
    "### Defining and Calling a Function\n",
    "- Function “blocks\"2 begin with the keyword def (short for define) followed by the function name.\n",
    "- Regardless of whether or not the function has any parameters, we need to follow the function name with parentheses ()\n",
    "       - Inside the parentheses, separate as many parameters as you need by commas (no parameters should have the same name).\n",
    "       - A function may have 0 parameter inputs.\n",
    "- The code block within every function starts with a colon :\n",
    "- The statements that form the body of the function starts from the next line of function definition and must be indented.\n",
    "\n",
    "2 A block is a piece of Python program text that is executed as a unit.\n",
    "\n",
    "### Functions and Procedures\n",
    "See this procedure called hi that prints out Hi!"
   ]
  },
  {
   "cell_type": "code",
   "execution_count": null,
   "metadata": {},
   "outputs": [],
   "source": [
    "def hi(): \n",
    "    print(\"Hi!\")"
   ]
  },
  {
   "cell_type": "markdown",
   "metadata": {},
   "source": [
    "- Calling this procedure twice (we know exactly what to expect each time):"
   ]
  },
  {
   "cell_type": "code",
   "execution_count": null,
   "metadata": {},
   "outputs": [],
   "source": [
    "hi()"
   ]
  },
  {
   "cell_type": "markdown",
   "metadata": {},
   "source": [
    "- See this function called addf which adds two numbers (or concatenates two strings)\n",
    "   "
   ]
  },
  {
   "cell_type": "code",
   "execution_count": null,
   "metadata": {},
   "outputs": [],
   "source": [
    "def addf(x, y): \n",
    "    return x + y"
   ]
  },
  {
   "cell_type": "markdown",
   "metadata": {},
   "source": [
    "- Calling the function with integers vs. strings:"
   ]
  },
  {
   "cell_type": "code",
   "execution_count": null,
   "metadata": {},
   "outputs": [],
   "source": [
    "addf(2,5)\n"
   ]
  },
  {
   "cell_type": "code",
   "execution_count": null,
   "metadata": {},
   "outputs": [],
   "source": [
    "addf(\"2\",\"5\")"
   ]
  },
  {
   "cell_type": "markdown",
   "metadata": {},
   "source": [
    "### Defining and Calling a Function\n",
    "- Functionbodiescancontainoneormorereturnstatement. \n",
    "- The return statement exits a function and returns the value of the expression following the keyword.\n",
    "- Afunction without an explicit return statement returns None (usually suppressed by the interpreter).\n",
    "- Example:"
   ]
  },
  {
   "cell_type": "code",
   "execution_count": null,
   "metadata": {},
   "outputs": [],
   "source": [
    "def plus2(x):\n",
    "    x+2"
   ]
  },
  {
   "cell_type": "markdown",
   "metadata": {},
   "source": [
    "- Since we didn’t specify a return statement, the calculation is not provided as output."
   ]
  },
  {
   "cell_type": "code",
   "execution_count": null,
   "metadata": {},
   "outputs": [],
   "source": [
    "plus2(3)\n",
    "nothing = plus2(3)\n",
    "print(nothing)\n"
   ]
  },
  {
   "cell_type": "markdown",
   "metadata": {},
   "source": [
    "### Defining and Calling a Function\n",
    "-  A function can return exactly one object.\n",
    "-  If we want to return multiple values, we can return a list or a tuple, for example.\n",
    "\n",
    "- The following returns x and x + 2"
   ]
  },
  {
   "cell_type": "code",
   "execution_count": null,
   "metadata": {},
   "outputs": [],
   "source": [
    "# returning multiple values in a function using a list\n",
    "def plus2(x):\n",
    "    out = x + 2 \n",
    "    return [x,out]\n",
    "# returning multiple values in a function using a tuple\n",
    "def plus2(x):\n",
    "    out = x + 2\n",
    "    return (x,out)"
   ]
  },
  {
   "cell_type": "markdown",
   "metadata": {},
   "source": [
    "###   Functions and Procedures"
   ]
  },
  {
   "cell_type": "code",
   "execution_count": null,
   "metadata": {},
   "outputs": [],
   "source": [
    "def gradeLetter(pgrade):\n",
    "    if (pgrade >= 80):\n",
    "        return \"A\"\n",
    "    elif (pgrade >= 68):\n",
    "        return \"B\"\n",
    "    elif (pgrade >= 55):\n",
    "        return \"C\"\n",
    "    elif (pgrade >= 50):\n",
    "        return \"D\" \n",
    "    else:\n",
    "        return \"F\""
   ]
  },
  {
   "cell_type": "code",
   "execution_count": null,
   "metadata": {},
   "outputs": [],
   "source": [
    "gradeLetter(81)\n"
   ]
  },
  {
   "cell_type": "code",
   "execution_count": null,
   "metadata": {},
   "outputs": [],
   "source": [
    "gradeLetter(45)"
   ]
  },
  {
   "cell_type": "code",
   "execution_count": null,
   "metadata": {},
   "outputs": [],
   "source": [
    "def grade(pgrade): \n",
    "    if (pgrade >= 80):\n",
    "        grade = \"A\"\n",
    "    elif (pgrade >= 68):\n",
    "        grade = \"B\"\n",
    "    elif (pgrade >= 55):\n",
    "        grade = \"C\"\n",
    "    elif (pgrade >= 50):\n",
    "        grade = \"D\"\n",
    "    else:\n",
    "        grade = \"F\"\n",
    "    return [grade, pgrade]"
   ]
  },
  {
   "cell_type": "code",
   "execution_count": null,
   "metadata": {},
   "outputs": [],
   "source": [
    "grade(81)"
   ]
  },
  {
   "cell_type": "markdown",
   "metadata": {},
   "source": [
    "### unctions and Procedures\n",
    "We will often save our return value(s) to an object defined within the function to be returned."
   ]
  },
  {
   "cell_type": "code",
   "execution_count": null,
   "metadata": {},
   "outputs": [],
   "source": [
    "def testfun(x,y,z):\n",
    "    out = x+y/z\n",
    "    return out"
   ]
  },
  {
   "cell_type": "markdown",
   "metadata": {},
   "source": [
    "- Notice that the variables we define within our functions will not be defined outside of that function."
   ]
  },
  {
   "cell_type": "code",
   "execution_count": null,
   "metadata": {},
   "outputs": [],
   "source": [
    "testfun(3,8,4)"
   ]
  },
  {
   "cell_type": "code",
   "execution_count": null,
   "metadata": {},
   "outputs": [],
   "source": [
    "out"
   ]
  },
  {
   "cell_type": "markdown",
   "metadata": {},
   "source": [
    "- Traceback (most recent call last):\n",
    "    - File \"<stdin>\", line 1, in <module> \n",
    "- NameError: name 'out' is not defined\n",
    " "
   ]
  },
  {
   "cell_type": "markdown",
   "metadata": {},
   "source": [
    "### Python Built-in Math Functions\n",
    "\n",
    "- Last class we had to calculate the max and average value of 5 numbers inputted by the user. There are many useful mathematical functions available in the math module that can help us with such calculations."
   ]
  },
  {
   "cell_type": "code",
   "execution_count": null,
   "metadata": {},
   "outputs": [],
   "source": [
    "# Math\n",
    "import math \n",
    "print(math.sqrt(25))\n",
    "    \n",
    "# Import only a function\n",
    "from math import sqrt\n",
    "print(sqrt(25))\n",
    "\n",
    "# Print all math functions\n",
    "print(dir(math))"
   ]
  },
  {
   "cell_type": "markdown",
   "metadata": {},
   "source": [
    "### Other Python Built-in Functions"
   ]
  },
  {
   "cell_type": "code",
   "execution_count": null,
   "metadata": {},
   "outputs": [],
   "source": [
    "#max, min, abs:\n",
    "print(max(3, 5, 2)) # 5 \n",
    "print(min(3, 5, 2)) # 2 \n",
    "print(abs(-4)) # 4\n",
    "# type() returns the argument data type:\n",
    "print(type(42)) # <class 'int'> \n",
    "print(type(4.2)) # <class 'float'> \n",
    "print(type('spam')) # <class 'str'>"
   ]
  },
  {
   "cell_type": "markdown",
   "metadata": {},
   "source": [
    "### Python Random Numbers\n",
    "- Use random numbers to make the program have different behaviour when it runs."
   ]
  },
  {
   "cell_type": "code",
   "execution_count": 13,
   "metadata": {},
   "outputs": [
    {
     "name": "stdout",
     "output_type": "stream",
     "text": [
      "1\n",
      "2\n"
     ]
    }
   ],
   "source": [
    "from random import randint \n",
    "coin = randint(0, 1) # 0 or 1\n",
    "die = randint(1, 6) # 1 to 6 \n",
    "print(coin)\n",
    "print(die)"
   ]
  },
  {
   "cell_type": "markdown",
   "metadata": {},
   "source": [
    "### Advanced: Python Functions\n",
    "- Python supports functional programming allowing functions to be passed like variables to other functions.\n",
    "     - Lambda functions are functions that do not have a name. \n",
    "     - Example:"
   ]
  },
  {
   "cell_type": "code",
   "execution_count": 14,
   "metadata": {},
   "outputs": [],
   "source": [
    "def doFunc(func, val): \n",
    "    return func(val)\n"
   ]
  },
  {
   "cell_type": "code",
   "execution_count": 15,
   "metadata": {},
   "outputs": [
    {
     "ename": "NameError",
     "evalue": "name 'doubleNum' is not defined",
     "output_type": "error",
     "traceback": [
      "\u001b[0;31m---------------------------------------------------------------------------\u001b[0m",
      "\u001b[0;31mNameError\u001b[0m                                 Traceback (most recent call last)",
      "\u001b[0;32m<ipython-input-15-8b9ee754b4c1>\u001b[0m in \u001b[0;36m<module>\u001b[0;34m\u001b[0m\n\u001b[0;32m----> 1\u001b[0;31m \u001b[0mprint\u001b[0m\u001b[0;34m(\u001b[0m\u001b[0mdoFunc\u001b[0m\u001b[0;34m(\u001b[0m\u001b[0mdoubleNum\u001b[0m\u001b[0;34m,\u001b[0m\u001b[0;36m10\u001b[0m\u001b[0;34m)\u001b[0m\u001b[0;34m)\u001b[0m \u001b[0;31m# 20\u001b[0m\u001b[0;34m\u001b[0m\u001b[0;34m\u001b[0m\u001b[0m\n\u001b[0m\u001b[1;32m      2\u001b[0m \u001b[0mprint\u001b[0m\u001b[0;34m(\u001b[0m\u001b[0mdoFunc\u001b[0m\u001b[0;34m(\u001b[0m\u001b[0;32mlambda\u001b[0m \u001b[0mx\u001b[0m\u001b[0;34m:\u001b[0m \u001b[0mx\u001b[0m \u001b[0;34m*\u001b[0m \u001b[0;36m3\u001b[0m\u001b[0;34m,\u001b[0m \u001b[0;36m5\u001b[0m\u001b[0;34m)\u001b[0m\u001b[0;34m)\u001b[0m \u001b[0;31m# 15\u001b[0m\u001b[0;34m\u001b[0m\u001b[0;34m\u001b[0m\u001b[0m\n",
      "\u001b[0;31mNameError\u001b[0m: name 'doubleNum' is not defined"
     ]
    }
   ],
   "source": [
    "print(doFunc(doubleNum,10)) # 20\n",
    "print(doFunc(lambda x: x * 3, 5)) # 15"
   ]
  },
  {
   "cell_type": "markdown",
   "metadata": {},
   "source": [
    "```text\n",
    "Example 31\n",
    "What is the value printed:\n",
    "def triple(num):\n",
    "    return num * 3\n",
    "n=5 \n",
    "print(triple(n)+triple(2))\n",
    "A) 0 B) 6 C) 15 D) 21 E) error\n",
    "```"
   ]
  },
  {
   "cell_type": "markdown",
   "metadata": {},
   "source": [
    "```text\n",
    "Answer \n",
    "Example 31\n",
    "What is the value printed:\n",
    "def triple(num):\n",
    "    return num * 3\n",
    "n=5 \n",
    "print(triple(n)+triple(2))\n",
    "```\n",
    "A) 0  B) 6  C) 15  **D)21**  E) error"
   ]
  },
  {
   "cell_type": "markdown",
   "metadata": {},
   "source": [
    "### Practice Questions: Functions\n",
    "```text\n",
    "Example 32\n",
    "1) Write a function that returns the largest of two numbers.\n",
    "2) Write a function that prints the numbers from 1 to N where N is its input parameter.\n",
    "Call your functions several times to test that they work.\n",
    "```"
   ]
  },
  {
   "cell_type": "markdown",
   "metadata": {},
   "source": [
    "### Conclusion\n",
    "- Python is a general, high-level programming language designed for code readability and simplicity.\n",
    "- Programming concepts covered:\n",
    "    - variables, assignment, expressions, strings, string functions\n",
    "    - making decisions with conditions and if/elif/else\n",
    "    - repeating statements (loops) using for and while loops\n",
    "    - reading input with input() and printing with print()\n",
    "    - data structures including lists and dictionaries\n",
    "    - creating and calling functions, using built-in functions (math, random)\n",
    "\n",
    "- Python is a powerful tool for data analysis and automation."
   ]
  },
  {
   "cell_type": "markdown",
   "metadata": {},
   "source": [
    "### Objectives\n",
    "- Explain what is Python and note the difference between Python 2 and 3\n",
    "- Define: algorithm, program, language, programming \n",
    "- Follow Python basic syntax rules including indentation \n",
    "- Define and use variables and assignment\n",
    "- Apply Python variable naming rules\n",
    "- Perform math expressions and understand operator precedence \n",
    "- Use strings, character indexing, string functions\n",
    "- String functions: split, substr, concatenation\n",
    "- Use Python datetime and clock functions\n",
    "- Read input from standard input (keyboard)\n",
    "- Create comparisons and use them for decisions with if \n",
    "- Combine conditions with and, or, not\n",
    "- Use if/elif/else syntax\n",
    "- Looping with for and while\n",
    "- Create and use lists and list functions \n",
    "- Advanced: list comprehensions, list slicing Create and use dictionaries\n",
    "- Create and use Python functions\n",
    "- Use built-in functions in math library\n",
    "- Create random numbers\n",
    "- Advanced: passing functions, lambda functions"
   ]
  },
  {
   "cell_type": "markdown",
   "metadata": {},
   "source": [
    "### Intoduction\n",
    "Recall:\n",
    "- A Python module or library is code written by others for a specific purpose.\n",
    "- Whenever coding, make sure to look for modules that are already written for you to make your development faster! - Modules are imported using the import command:\n",
    "```\n",
    "    import <modulename>\n",
    "```\n",
    "\n",
    "### Useful Python Modules\n",
    "- Today we be discuss some useful Python modules for data analytics:\n",
    "-     NumPy (http://www.numpy.org/) - N-dimensional arrays, integrating C/C++ and Fortran code, linear algebra, Fourier transform, and random numbers\n",
    "-     SciPy (http://www.scipy.org/) - numerical integration and optimization\n",
    "-     pandas (http://pandas.pydata.org/) - data structures, reading/writing data, data merging/joining/slicing/grouping, time series\n",
    "-     scikit-learn (https://scikit-learn.org/stable/) - machine learning (built on NumPy, SciPy, and matplotlib)\n",
    "\n",
    "### Charts\n",
    "- In addition, we will also explore a useful module for creating visualizations in Python.\n",
    "-    matplotlib http://matplotlib.org/ - foundational 2D plotting\n",
    "\n",
    "N.B. here are numerous graphing and chart libraries:\n",
    "\n",
    "- ggplot http://ggplot.yhathq.com/ - based on R’s ggplot2 \n",
    "- pygal http://pygal.org/en/stable/ - dynamic chart library\n",
    "- Bokeh http://bokeh.pydata.org/ - goal is to produce charts similar to D3.js for browsers\n",
    "- Seaborn http://stanford.edu/ mwaskom/software/seaborn/ - based on matplotlib and designed for statistical graphics\n",
    "- NVD3 https://github.com/areski/python-nvd3\n",
    "\n",
    "### SciPy\n",
    "- [SciPy](https://www.scipy.org) (pronounced “Sigh Pie\") is group of Python libraries for scientific computing.\n",
    "- SciPy includes functions for some advanced math problems as listed on this slide, as well as data visualization.\n",
    "- Using data visualization methods is the best way to communicate with others. Showing them meaningful results of analysis. These libraries enable you to create graphs, charts and maps.\n",
    "\n",
    "### matplotlib\n",
    "- [matplotlib](https://matplotlib.org) is the most widely used plotting library in Python.\n",
    "- N.B. to have plots appear in Jupyter Notebook will use the command:\n",
    "```\n",
    "  %matplotlib inline\n",
    "```\n",
    "- (if you are not using Jupyter notebook, you don’t need this)\n",
    "\n",
    "### pyplot\n",
    "- [matplotlib.pyplot](https://matplotlib.org/api/pyplot_api.html) is a commonly used sub-library.\n",
    "- It is standard practice to shorten matplotlib.pyplot to plt:"
   ]
  },
  {
   "cell_type": "code",
   "execution_count": null,
   "metadata": {},
   "outputs": [],
   "source": [
    "import matplotlib.pyplot as plt"
   ]
  },
  {
   "cell_type": "markdown",
   "metadata": {},
   "source": [
    "- This will save us some typing (eg. we can type plt.bar)\n",
    "- instead of matplotlib.pyplot.bar)\n",
    "- See a helpful [pyplot tutorial](https://matplotlib.org/3.1.0/tutorials/introductory/pyplot.html)\n",
    "```text\n",
    "dotted module names\n",
    "Packages are a way of structuring Python’s module namespace by using dotted module names. For example, the module name A.B designates a submodule named B in a package named A.\n",
    "```  \n",
    "- As a very simple first example (from [pyplot tutorial](https://matplotlib.org/3.1.0/tutorials/introductory/pyplot.html)), lets create a line chart:"
   ]
  },
  {
   "cell_type": "code",
   "execution_count": null,
   "metadata": {},
   "outputs": [],
   "source": [
    "# x-values = 1,2,3,4\n",
    "# y-values = 1,4,9,16\n",
    "plt.plot([1, 2, 3, 4], [1, 4, 9, 16]) \n",
    "# plot wont be shown until we call: \n",
    "plt.show()"
   ]
  },
  {
   "cell_type": "markdown",
   "metadata": {},
   "source": [
    "- We can change the plot from lines - to points o and from blue (b) to red (r)."
   ]
  },
  {
   "cell_type": "code",
   "execution_count": null,
   "metadata": {},
   "outputs": [],
   "source": [
    "plt.plot([1, 2, 3, 4], [1, 4, 9, 16], 'ro')"
   ]
  },
  {
   "cell_type": "markdown",
   "metadata": {},
   "source": [
    "- Additionally we can change the axis ranges:"
   ]
  },
  {
   "cell_type": "code",
   "execution_count": null,
   "metadata": {},
   "outputs": [],
   "source": [
    "# x-axis from 0--6, y-axis from 0--20 \n",
    "plt.axis([0, 6, 0, 20])\n",
    "plt.show()\n"
   ]
  },
  {
   "cell_type": "markdown",
   "metadata": {},
   "source": [
    "See [here](https://matplotlib.org/3.1.0/api/_as_gen/matplotlib.pyplot.plot.html%23matplotlib.pyplot.plot) for more plotting options."
   ]
  },
  {
   "cell_type": "markdown",
   "metadata": {},
   "source": [
    "### numpy\n",
    "- In matplotlib were limited to working with lists.\n",
    "- To get over this limitation, we will generally also import the numpy module (pronounced num-pie) to make use of numpy arrays.\n",
    "- These arrays can be used for both input and output objects and perform fast array calculations.\n",
    "- Common practice is to shorten this module name to np using "
   ]
  },
  {
   "cell_type": "code",
   "execution_count": null,
   "metadata": {},
   "outputs": [],
   "source": [
    "import numpy as np"
   ]
  },
  {
   "cell_type": "markdown",
   "metadata": {},
   "source": [
    "- See a helpful [numpy tutorial](https://cs231n.github.io/python-numpy-tutorial/)\n",
    "### numpy arrays\n",
    "- A numpy array is a grid of values, all of the same type, and is indexed by a tuple of nonnegative integers.\n",
    "- rank The number of dimensions is the rank of the array\n",
    "- shape the shape of an array is a tuple of integers giving the size of the array along each dimension.\n",
    "- Consider the following examples taken from the [pyplot tutorial](https://matplotlib.org/3.1.0/tutorials/introductory/pyplot.html)"
   ]
  },
  {
   "cell_type": "code",
   "execution_count": null,
   "metadata": {},
   "outputs": [],
   "source": [
    "# Create a rank 1 array\n",
    "a = np.array([1, 2, 3])\n",
    "a[0] = 5 # Change an element of the array \n",
    "print(a.shape) # Prints \"(3,)\"\n",
    "a"
   ]
  },
  {
   "cell_type": "markdown",
   "metadata": {},
   "source": [
    "### numpy arrays\n",
    "Create a rank 2 array using Python nested lists, and access elements using square brackets:"
   ]
  },
  {
   "cell_type": "code",
   "execution_count": null,
   "metadata": {},
   "outputs": [],
   "source": [
    "b = np.array([[1,2,3],[4,5,6]])\n",
    "print(b.shape) # Prints \"(2, 3)\" \n"
   ]
  },
  {
   "cell_type": "code",
   "execution_count": null,
   "metadata": {},
   "outputs": [],
   "source": [
    "b\n"
   ]
  },
  {
   "cell_type": "code",
   "execution_count": null,
   "metadata": {},
   "outputs": [],
   "source": [
    "# extract element in row 1 (index 1) and column 3 (index 2) \n",
    "b[1,2]\n"
   ]
  },
  {
   "cell_type": "code",
   "execution_count": null,
   "metadata": {},
   "outputs": [],
   "source": [
    "b[(1,2)] # can also index using a tuple\n"
   ]
  },
  {
   "cell_type": "code",
   "execution_count": null,
   "metadata": {},
   "outputs": [],
   "source": [
    "# more examples:\n",
    "print(b[0,2],b[1,0])"
   ]
  },
  {
   "cell_type": "markdown",
   "metadata": {},
   "source": [
    "### numpy arrays indexing\n",
    "- Similar to Python lists, numpy arrays can be sliced. Since arrays may be multidimensional, you must specify a slice for each dimension of the array:"
   ]
  },
  {
   "cell_type": "code",
   "execution_count": null,
   "metadata": {},
   "outputs": [],
   "source": [
    "b\n"
   ]
  },
  {
   "cell_type": "code",
   "execution_count": null,
   "metadata": {},
   "outputs": [],
   "source": [
    "# first row:\n",
    "b[0, :]\n"
   ]
  },
  {
   "cell_type": "code",
   "execution_count": null,
   "metadata": {},
   "outputs": [],
   "source": [
    "# second column\n",
    "b[:,1]\n"
   ]
  },
  {
   "cell_type": "code",
   "execution_count": null,
   "metadata": {},
   "outputs": [],
   "source": [
    "# first 2 rows and columns 1 and 2\n",
    "b[:2, 1:3]"
   ]
  },
  {
   "cell_type": "markdown",
   "metadata": {},
   "source": [
    "### numpy arrays\n",
    "[np.arrange](https://numpy.org/doc/stable/reference/generated/numpy.arange.html%23numpy.arange) return evenly spaced values within a given interval. Eg, evenly sampled points between 0 and 5 at 0.2 intervals\n"
   ]
  },
  {
   "cell_type": "code",
   "execution_count": null,
   "metadata": {},
   "outputs": [],
   "source": [
    "t = np.arange(0, 1, 0.2)\n",
    "# array([0. , 0.2, 0.4, 0.6, 0.8])"
   ]
  },
  {
   "cell_type": "markdown",
   "metadata": {},
   "source": [
    "- General usage: np.arrange(start,stop,step).\n",
    "-  as before start and step defaults to 0 and 1, resp.\n",
    "- There are a number of [other methods](https://numpy.org/doc/stable/user/basics.creation.html%23arrays-creation) for array creation as well:"
   ]
  },
  {
   "cell_type": "code",
   "execution_count": null,
   "metadata": {},
   "outputs": [],
   "source": [
    "a = np.zeros((2,2)) # Create a 2x2 array of zeros\n",
    "b = np.ones((1,2)) # Create a 1x2 array of ones\n",
    "c = np.full((2,2), 7) # Creates 2x2 a array of 7s"
   ]
  },
  {
   "cell_type": "markdown",
   "metadata": {},
   "source": [
    "### matplotlib - Bar Chart Example\n"
   ]
  },
  {
   "cell_type": "code",
   "execution_count": null,
   "metadata": {},
   "outputs": [],
   "source": [
    "import matplotlib.pyplot as plt #[1] \n",
    "import numpy as np\n",
    "# number of dogs/group\n",
    "data1 = [25,45,35,20]\n",
    "# number of cats/group\n",
    "data2 = [35,40,25,30]\n",
    "index = np.arange(len(data1))\n",
    "bar_width = 0.35\n",
    "opacity = 0.4\n",
    "# cont'd on next slide\n",
    "# to create arrays for rect position \n",
    "index = np.arange(len(data1))\n",
    "index"
   ]
  },
  {
   "cell_type": "markdown",
   "metadata": {},
   "source": [
    "### matplotlib - Bar Chart Example"
   ]
  },
  {
   "cell_type": "code",
   "execution_count": null,
   "metadata": {},
   "outputs": [],
   "source": [
    "# continued from previous slide\n",
    "rects1 = plt.bar(index, data1, bar_width, alpha=opacity,color='b', label='Dogs')\n",
    "rects2 = plt.bar(index + bar_width, data2, bar_width,alpha=opacity, color='r', label='Cats') \n",
    "plt.xlabel('Group')\n",
    "plt.ylabel('Count')\n",
    "plt.title('Dogs versus Cats')\n",
    "plt.xticks(index + bar_width, ('1', '2', '3', '4')) \n",
    "plt.legend()\n",
    "plt.tight_layout() # to remove whitespace plt.show()\n"
   ]
  },
  {
   "cell_type": "code",
   "execution_count": null,
   "metadata": {},
   "outputs": [],
   "source": [
    "# NB\n",
    "index + bar_width "
   ]
  },
  {
   "cell_type": "markdown",
   "metadata": {},
   "source": [
    "### matplotlib - Bar Chart Example"
   ]
  },
  {
   "cell_type": "code",
   "execution_count": null,
   "metadata": {},
   "outputs": [],
   "source": [
    "# continued from previous slide\n",
    "rects1 = plt.bar(index, data1, bar_width, alpha=opacity,color='b', label='Dogs')\n",
    "rects2 = plt.bar(index + bar_width, data2, bar_width,alpha=opacity, color='r', label='Cats')\n",
    "plt.xlabel('Group')\n",
    "plt.ylabel('Count')\n",
    "plt.title('Dogs versus Cats')\n",
    "plt.xticks(index + bar_width, ('1', '2', '3', '4')) \n",
    "plt.legend()\n",
    "plt.tight_layout() # to remove whitespace plt.show()\n",
    "## NB\n",
    "index + bar_width"
   ]
  },
  {
   "cell_type": "markdown",
   "metadata": {},
   "source": [
    "### Some comments\n",
    "- Python starts plotting everything in the background and wont display the graph until plot.show() is called.\n",
    "- matplotlib colours are given here\n",
    "-    eg. rforredcforcyankforblack\n",
    "-    you can also use full names ('green'), hex strings('#008000'), or RGB/RGBA tuples ((0,1,0,1)).\n",
    "- Thelabelargumentwillbeusedwhenwecallplt.legend() 􏰀 the colours, and labels will be generated automatically (using the plt.x/ylabel)"
   ]
  },
  {
   "cell_type": "markdown",
   "metadata": {},
   "source": [
    "### matplotlib - Histograms\n",
    "Python [histograms](https://matplotlib.org/3.1.0/api/_as_gen/matplotlib.pyplot.hist.html)"
   ]
  },
  {
   "cell_type": "code",
   "execution_count": null,
   "metadata": {},
   "outputs": [],
   "source": [
    "import numpy as np\n",
    "import matplotlib.pyplot as plt\n",
    "num_bins = 5\n",
    "x = [5,3,8,5,2,7,2,4,6,2]\n",
    "# saves output to variables\n",
    "# (eg of tuple unpacking!)\n",
    "n, bins, patches = plt.hist(x, num_bins,density=False, facecolor='blue', alpha=0.5)\n",
    "plt.xlabel('Number') \n",
    "plt.ylabel('Count')\n",
    "plt.title('Histogram') \n",
    "plt.show()"
   ]
  },
  {
   "cell_type": "markdown",
   "metadata": {},
   "source": [
    "### matplotlib - Histograms comments\n",
    "- bins partition our range of values into a subsets\n",
    "- Histograms count the number of observations falling into each bin n: is the number of counts in each bin of the histogram\n",
    "- bins: is the left hand edge of each bin, example:"
   ]
  },
  {
   "cell_type": "code",
   "execution_count": null,
   "metadata": {},
   "outputs": [],
   "source": [
    "bins"
   ]
  },
  {
   "cell_type": "markdown",
   "metadata": {},
   "source": [
    "- patches: is the individual patches used to create the histogram, e.g a collection of rectangles:"
   ]
  },
  {
   "cell_type": "code",
   "execution_count": null,
   "metadata": {},
   "outputs": [],
   "source": [
    "print(patches[1])"
   ]
  },
  {
   "cell_type": "markdown",
   "metadata": {},
   "source": [
    "- density:  is a logical object that is False (or 0) if you want the y-axis to be in terms of counts, and True (or 1) when plotting the probability densities"
   ]
  },
  {
   "cell_type": "markdown",
   "metadata": {},
   "source": [
    "### SciPy stats\n",
    "- Another helpful module is [scipy.stats](https://docs.scipy.org/doc/scipy/reference/stats.html)\n",
    "- This module contains a large number of probability distributions as well as a growing library of statistical functions.\n",
    "- We will use the norm.pdf compare the probability density function (pdf) or a normal distribution with random data generated from a normal distribution.\n",
    " -    The [normal distribution](https://en.wikipedia.org/wiki/Normal_distribution) is a bell shaped distribution with a mean (i.e. center) given my μ (or mu in the code) and a standard deviation of σ (or sigma in the code).\n",
    " -    We generate random normal data using the [numpy.random.randn](https://numpy.org/doc/stable/reference/generated/numpy.random.randn.html) function (which return samples from the \"standard normal\"1 distribution).\n",
    "􏰀\n",
    "- N.B. we use [TeX markup](https://matplotlib.org/tutorials/text/mathtext.html) in the title eg. $\\mu$ appears μ\n",
    "\n",
    "- 1 Normal distribution with a μ=0, σ = 1"
   ]
  },
  {
   "cell_type": "markdown",
   "metadata": {},
   "source": [
    "### matplotlib - Histogram Example (2)"
   ]
  },
  {
   "cell_type": "code",
   "execution_count": null,
   "metadata": {},
   "outputs": [],
   "source": [
    "import numpy as np\n",
    "import matplotlib.pyplot as plt \n",
    "import scipy.stats\n",
    "mu = 100\n",
    "sigma = 15\n",
    "x = mu+sigma*np.random.randn(10000)\n",
    "num_bins = 50\n",
    "n, bins, patches = plt.hist(x, num_bins, edgecolor=\"k\",density=1, facecolor='green', alpha=0.5)\n",
    "y = scipy.stats.norm.pdf(bins, mu, sigma)\n",
    "plt.plot(bins, y, 'r--')\n",
    "plt.xlabel('Smarts')\n",
    "plt.ylabel('Probability')\n",
    "plt.title(r'Histogram of IQ: $\\mu=100$, $\\sigma=15$')\n",
    "plt.subplots_adjust(left=0.15)\n",
    "plt.show()"
   ]
  },
  {
   "cell_type": "markdown",
   "metadata": {},
   "source": [
    "```text\n",
    " Exercise\n",
    "1. How does your plot change when you update the number of bins from the previous example from 50 to 10.\n",
    "2. How does your plot change when you delete the edgecolor = \"k\"? (remember k stands for black)\n",
    "3. How does your plot change when you set density to False? \n",
    "4. How does your plot change when you set the facecolor to 'g'?\n",
    "5. How does your plot change when you set alpha to 0.1?\n",
    "```"
   ]
  },
  {
   "cell_type": "markdown",
   "metadata": {},
   "source": [
    "### Try in Charts\n",
    "```text\n",
    "Example 16\n",
    "Write a program to create a bar chart for this data:\n",
    "series1 = [40, 50, 60, 70, 80] \n",
    "series2 = [70, 50, 40, 90, 30] \n",
    "Output:\n",
    "```"
   ]
  },
  {
   "cell_type": "markdown",
   "metadata": {},
   "source": [
    "### SciPy stats\n",
    "- In addition the scipy.stats module has the linregress function for performing linear regression.\n",
    "- The gerenal syntax is:\n",
    "```\n",
    "scipy.stats.linregress(x, y)\n",
    "```\n",
    "- The above calculate a linear least-squares regression for two sets of measurements: the explanatory variable x and the response variable y."
   ]
  },
  {
   "cell_type": "markdown",
   "metadata": {},
   "source": [
    "### SciPy [Linear Regression](https://docs.scipy.org/doc/scipy/reference/generated/scipy.stats.linregress.html) Example"
   ]
  },
  {
   "cell_type": "code",
   "execution_count": null,
   "metadata": {},
   "outputs": [],
   "source": [
    "from scipy import stats\n",
    "import numpy as np\n",
    "import matplotlib.pyplot as plt\n",
    "x = np.array([5, 7, 9, 11, 13, 15])\n",
    "y = np.array([11, 14, 20, 24, 29, 31])\n",
    "slope, intercept, r_value, p_value,slope_std_error = stats.linregress(x, y)\n",
    "#Save the resulting tuple to variables that we can use later,. . ."
   ]
  },
  {
   "cell_type": "markdown",
   "metadata": {},
   "source": [
    "### SciPy [Linear Regression](https://docs.scipy.org/doc/scipy/reference/generated/scipy.stats.linregress.html) Example\n",
    "\n",
    "- Find the residuals, (observed y values minus the predicted y values produced by our fitted model):"
   ]
  },
  {
   "cell_type": "code",
   "execution_count": null,
   "metadata": {},
   "outputs": [],
   "source": [
    "predict_y = intercept + slope * x \n",
    "print(\"Predicted y-values:\",predict_y) \n",
    "pred_error = y - predict_y \n",
    "print(\"Prediction error:\",pred_error)"
   ]
  },
  {
   "cell_type": "markdown",
   "metadata": {},
   "source": [
    "- Compute the [residual standard error](https://www.investopedia.com/terms/r/residual-standard-deviation.asp) (a measure of prediction error)"
   ]
  },
  {
   "cell_type": "code",
   "execution_count": null,
   "metadata": {},
   "outputs": [],
   "source": [
    "degr_freedom = len(x) - 2\n",
    "residual_std_error = np.sqrt(np.sum(pred_error**2)/degr_freedom)\n",
    "print(\"Residual error:\",residual_std_error)"
   ]
  },
  {
   "cell_type": "markdown",
   "metadata": {},
   "source": [
    "### SciPy [Linear Regression](https://docs.scipy.org/doc/scipy/reference/generated/scipy.stats.linregress.html)Example\n",
    "- Plot the raw data with the fitted regression line:"
   ]
  },
  {
   "cell_type": "code",
   "execution_count": null,
   "metadata": {},
   "outputs": [],
   "source": [
    "plt.plot(x, y, 'o') # o for points\n",
    "plt.plot(x, predict_y, 'k-') # - for line, k for black \n",
    "plt.show()\n",
    "  "
   ]
  },
  {
   "cell_type": "markdown",
   "metadata": {},
   "source": [
    "### SciPy - K-means Clustering\n",
    "- Scipy also provides routines for conducting k-means clustering and vector quantization.\n",
    "- The input of k-means algorithm:\n",
    " - k the number of clusters to generate\n",
    " - x the set of observations to cluster\n",
    "- The output of k-means algorithm:\n",
    " - a set of centroids, one for each of the k clusters.\n",
    " - a classification vector: an observation is assigned to the cluster whose centroid is closest to it."
   ]
  },
  {
   "cell_type": "markdown",
   "metadata": {},
   "source": [
    "SciPy - [K-means Clustering](https://glowingpython.blogspot.com/2012/04/k-means-clustering-with-scipy.html)"
   ]
  },
  {
   "cell_type": "code",
   "execution_count": null,
   "metadata": {},
   "outputs": [],
   "source": [
    "from numpy import vstack,array\n",
    "from numpy.random import rand\n",
    "from scipy.cluster.vq import kmeans,vq\n",
    "# creates a 300x2 array of data\n",
    "data = vstack((rand(150,2) + array([.5,.5]),rand(150,2)))\n",
    "# computing K-Means with K = 2 (2 clusters)\n",
    "centroids,_ = kmeans(data,2)\n",
    "# assign each sample to a cluster\n",
    "idx,_ = vq(data,centroids)"
   ]
  },
  {
   "cell_type": "markdown",
   "metadata": {},
   "source": [
    "### Some comments\n",
    "rand(150,2) generates an np.array with 150 rows and 2 columns with random numbers from the interval (0, 1) more[here](https://docs.scipy.org/doc/numpy-1.15.1/reference/generated/numpy.random.rand.html)\n",
    "\n",
    "Alternatively, we could have used a loop and See [numpy.asarray](https://numpy.org/doc/stable/reference/generated/numpy.asarray.html)\n"
   ]
  },
  {
   "cell_type": "code",
   "execution_count": null,
   "metadata": {
    "scrolled": true
   },
   "outputs": [],
   "source": [
    "import random as rnd \n",
    "import numpy as np \n",
    "data = []\n",
    "for i in range(0,100):\n",
    "    data.append([rnd.random(), rnd.random()])\n",
    "# need to convert to array for kmeans \n",
    "data = np.asarray(data)\n",
    "# looks like:\n",
    "data"
   ]
  },
  {
   "cell_type": "markdown",
   "metadata": {},
   "source": [
    "### Some comments\n",
    "[vstack](https://numpy.org/doc/stable/reference/generated/numpy.vstack.html) stack arrays in sequence vertically (row wise).\n"
   ]
  },
  {
   "cell_type": "code",
   "execution_count": null,
   "metadata": {},
   "outputs": [],
   "source": [
    "a = np.array([1, 2, 3])\n",
    "b = np.array([[2, 3, 4], [5,6,7]])\n",
    "np.vstack((a,b))"
   ]
  },
  {
   "cell_type": "markdown",
   "metadata": {},
   "source": [
    "```text\n",
    "Tip:\n",
    "When you import a function named myfunction from a module named mymodule via import mymodule you need to use the dot notation, i.e. mymodule.myfunction to use it. If you import the function via from mymodule import myfunction, you can access the function by calling it directly, i.e myfunction\n",
    "\n",
    "```"
   ]
  },
  {
   "cell_type": "markdown",
   "metadata": {},
   "source": [
    "### Some comments\n",
    "The notation ,_ means we’ll be taking the first element of the tuple outputed from kmeans() (i.e. the k × N centroid array) and ignore the second argument."
   ]
  },
  {
   "cell_type": "code",
   "execution_count": null,
   "metadata": {},
   "outputs": [],
   "source": [
    "# a simple example (2 gets thrown away) \n",
    "A,_ = [1,2] # A = 1\n",
    "_,B = [1,2] # B=2\n",
    "A,_,_ = [1,2,3] # A = 1"
   ]
  },
  {
   "cell_type": "markdown",
   "metadata": {},
   "source": [
    "- Alternatively, we may think of this notation as doing the following:"
   ]
  },
  {
   "cell_type": "code",
   "execution_count": null,
   "metadata": {},
   "outputs": [],
   "source": [
    "km = kmeans(data,2)\n",
    "type(km)"
   ]
  },
  {
   "cell_type": "code",
   "execution_count": null,
   "metadata": {},
   "outputs": [],
   "source": [
    "centroids = km[0]\n",
    "centroids "
   ]
  },
  {
   "cell_type": "markdown",
   "metadata": {},
   "source": [
    "### SciPy - K means Clustering (2)\n"
   ]
  },
  {
   "cell_type": "code",
   "execution_count": null,
   "metadata": {},
   "outputs": [],
   "source": [
    "# Move data into individual lists based on clustering \n",
    "numclusters=5\n",
    "clusters = []\n",
    "for i in range(0, numclusters):\n",
    "    clusters.append([[],[]])\n",
    "clusters\n",
    "  \n",
    "\n"
   ]
  },
  {
   "cell_type": "markdown",
   "metadata": {},
   "source": [
    "- Creates a nested Pyhon list. First element is of clusters contains the data points from members assigned to group 0, the second elements contains the data pairs assigned to group 1."
   ]
  },
  {
   "cell_type": "code",
   "execution_count": null,
   "metadata": {},
   "outputs": [],
   "source": [
    "# run after the code from the next slide:\n",
    "clusters[0][0] # x values from cluster 0 (blue)\n",
    "clusters[0][1] # y values from cluster 0 (blue)\n",
    "clusters[1][0] # x values from cluster 1 (red)\n",
    "clusters[1][1] # y values from cluster 1 (red)"
   ]
  },
  {
   "cell_type": "markdown",
   "metadata": {},
   "source": [
    "### SciPy - K means Clustering (3)"
   ]
  },
  {
   "cell_type": "code",
   "execution_count": null,
   "metadata": {
    "scrolled": true
   },
   "outputs": [],
   "source": [
    "for i in range(0,len(idx)):\n",
    "    clusterIdx = idx[i]\n",
    "    # saving the x values for cluster = clusterIdx \n",
    "    clusters[clusterIdx][0].append(data[i][0])\n",
    "    # saving the y values for cluster = clusterIdx\n",
    "    clusters[clusterIdx][1].append(data[i][1])\n",
    "# Plot data points and cluster centroids\n",
    "# 'ob' for blue points (group index 0)\n",
    "# 'or' for red points (group index 1) \n",
    "plt.plot(clusters[0][0],clusters[0][1],'ob',clusters[1][0],clusters[1][1],'or')\n",
    "# centroids[:,0] = first column for centroid of group 0\n",
    "# centroids[:,1] = second column for centroid of group 1\n",
    "plt.plot(centroids[:,0],centroids[:,1],'sg',markersize=8)\n",
    "plt.show()"
   ]
  },
  {
   "cell_type": "markdown",
   "metadata": {},
   "source": [
    "### SciPy - K means Clustering\n",
    "- The plot argument ob/or stands for blue and red circle markers, resp. See more on plot formatting [here](https://www.python-course.eu/matplotlib.php)."
   ]
  },
  {
   "cell_type": "markdown",
   "metadata": {},
   "source": [
    "```text\n",
    "Example 17\n",
    "Write a program that uses SciPy to perform a linear regression on this data set:\n",
    "x = [1, 5, 10, 15, 20, 25]\n",
    "y = [-1, -12, -26, -40, -60, -73]\n",
    "Output:\n",
    "```\n",
    "put an image here "
   ]
  },
  {
   "cell_type": "markdown",
   "metadata": {},
   "source": [
    "### scikit-learn and BeautifulSoup\n",
    "- scikit-learn (http://scikit-learn.org/) is a machine learning library for Python.\n",
    " - Features:\n",
    " - classification\n",
    " - regression\n",
    " - clustering\n",
    " - dimensionality reduction\n",
    "BeautifulSoup \n",
    "(http://www.crummy.com/software/BeautifulSoup/) is a library to make it easy to search, navigate, and extract data from HTML and XML documents.\n"
   ]
  },
  {
   "cell_type": "markdown",
   "metadata": {},
   "source": [
    "### Python -Databases\n",
    "- [MySQL](https://www.mysql.com) is a popular open source relational database management system.\n",
    "- We can access this data via Python using the mysql.connector module. See the [developer guide](https://dev.mysql.com/doc/connector-python/en/) and [W3schools](https://www.w3schools.com/python/python_mysql_getstarted.asp) tutorial for more details\n",
    " - [notes](https://dev.mysql.com/doc/connector-python/en/connector-python-example-connecting.html) on connecting\n",
    " - [notes](https://dev.mysql.com/doc/connector-python/en/connector-python-example-ddl.html) on creating tables\n",
    " - [notes](https://dev.mysql.com/doc/connector-python/en/connector-python-example-cursor-select.html) on querying\n",
    "- Note that this code will require that we are on UBC secure wifi (off campus we must connect with VPN)."
   ]
  },
  {
   "cell_type": "markdown",
   "metadata": {},
   "source": [
    "### Try it - Databases\n",
    "```text \n",
    "Example 18\n",
    "Write a program that queries the WorksOn database and returns the employees grouped by title where the employee name is after 'J'. The output should display their title and the average salary for that title. Connection info:\n",
    "cnx = mysql.connector.connect(user='data301', password='ubc', host='cosc304.ok.ubc.ca', database='WorksOn')\n",
    "```\n",
    "  "
   ]
  },
  {
   "cell_type": "markdown",
   "metadata": {},
   "source": [
    "```\n",
    "# answer\n",
    "import mysql.connector try:\n",
    "cnx=mysql.connector.connect(user='data301', password='ubc', host='cosc304.ok.ubc.ca',database='WorksOn')\n",
    "cursor = cnx.cursor()\n",
    "query = (\"SELECT title, AVG(salary) as avgSalary\n",
    "FROM emp WHERE ename >= 'J' GROUP BY title\") cursor.execute(query)\n",
    "for (title, avgSalary) in cursor:\n",
    "         print(title, avgSalary) cursor.close()\n",
    "except mysql.connector.Error as err:\n",
    "         print(err)\n",
    "finally:\n",
    "         cnx.close()\n",
    "```"
   ]
  },
  {
   "cell_type": "markdown",
   "metadata": {},
   "source": [
    "### MapReduce\n",
    "- Map-Reduce is a technique for processing large data sets in a functional manner. See the [Wikipedia article](https://en.wikipedia.org/wiki/MapReduce)\n",
    "- The technique was invented by Google and is implemented in a variety of systems including Python, NoSQL databases, and a Big Data system called Hadoop.\n",
    "- In Hadoop, map takes as input key-value pairs and outputs key-value pairs. The shuffle step will move pairs to particular machines based on keys. The reduce step takes a list of key-value pairs (with same key) and reduces to one value.\n",
    "- It is possible to code map/reduce functions in Python for use in Hadoop cluster."
   ]
  },
  {
   "cell_type": "markdown",
   "metadata": {},
   "source": [
    "### MapReduce\n",
    "- Simpler version of Map-Reduce in Python without a cluster:\n",
    "- ***Map function*** takes as input a list and a function then applies function to each element of the list to produce a new list as output\n",
    "- ***Filter function*** only keeps list elements where filter function is True\n",
    "- ***Reduce function*** takes result of map/filter and produces single value from list\n",
    "\n",
    "- N.B. The reduce function has been moved to the functools module for Python3 with creator noting “99% of the time an explicit for loop is more readable\""
   ]
  },
  {
   "cell_type": "markdown",
   "metadata": {},
   "source": [
    "### map\n",
    "- General usage: map(function_to_apply, list_of_inputs) \n",
    "- Data: a1, a2, . . . , an (could be elements in a tuple or a list)\n",
    "- Function: f (x)\n",
    "- Calling map(f (x), Data) would return\n",
    " - f(a1),f(a2),...f(an)"
   ]
  },
  {
   "cell_type": "markdown",
   "metadata": {},
   "source": [
    "### filter\n",
    "- General usage: filter(function_to_apply, list_of_inputs)\n",
    "- Data: a1, a2, . . . , an (could be elements in a tuple or a list)\n",
    "- Function: f (x ) (this function should return True or False \n",
    "- Calling map(f (x), Data) would return:\n",
    " - all ai s for which f (ai ) returns True"
   ]
  },
  {
   "cell_type": "markdown",
   "metadata": {},
   "source": [
    "### reduce\n",
    "- General usage: reduce(function_to_apply, list_of_inputs) \n",
    "- Data: a1, a2, . . . , an (could be elements in a tuple or a list)\n",
    "- Function: f(x,y)\n",
    "- Calling reduce(f(x,y), Data) would perform: \n",
    " - Step 1: val1 = f (a1, a2)\n",
    " - Step 2: val2 = f (val1, a3)\n",
    " - Step 3: val3 = f (val2, a4)\n",
    " - ...\n",
    " - Step n-1 valn−1 = f (valn−2, an) and return: valn−1"
   ]
  },
  {
   "cell_type": "markdown",
   "metadata": {},
   "source": [
    "### Python - MapReduce Example"
   ]
  },
  {
   "cell_type": "code",
   "execution_count": null,
   "metadata": {},
   "outputs": [],
   "source": [
    "import functools     # For Reduce\n",
    "data = [1, 2, 3, 4, 5, 6]\n",
    "def triple(x):  # function to be used with map\n",
    "    return x*3\n",
    "def myfilter(x): # function to be used with filter \n",
    "    if x % 2 == 0:\n",
    "        return True\n",
    "    return False\n",
    "def sum(x, y):      # function to be used with reduce\n",
    "    return x+y"
   ]
  },
  {
   "cell_type": "markdown",
   "metadata": {},
   "source": [
    "### Python - map Example"
   ]
  },
  {
   "cell_type": "code",
   "execution_count": null,
   "metadata": {},
   "outputs": [],
   "source": [
    "result = list(map(triple, data)) \n",
    "print(\"Result after map:\",result) \n",
    "##Result after map:"
   ]
  },
  {
   "cell_type": "markdown",
   "metadata": {},
   "source": [
    "### To see this using a for loop:"
   ]
  },
  {
   "cell_type": "code",
   "execution_count": null,
   "metadata": {},
   "outputs": [],
   "source": [
    "items = [1, 2, 3, 4, 5, 6]\n",
    "output = []\n",
    "for i in items:\n",
    "    val = triple(i)\n",
    "    output.append(val)\n",
    "print(output)"
   ]
  },
  {
   "cell_type": "markdown",
   "metadata": {},
   "source": [
    "### Python - filter Example"
   ]
  },
  {
   "cell_type": "code",
   "execution_count": null,
   "metadata": {},
   "outputs": [],
   "source": [
    "result = list(filter(myfilter, result))\n",
    "print(\"Result after filter:\",result) \n",
    "### Result after filter: [6, 12, 18]"
   ]
  },
  {
   "cell_type": "code",
   "execution_count": null,
   "metadata": {},
   "outputs": [],
   "source": [
    "## Alternatively using a for loop:\n",
    "items = [3, 6, 9, 12, 15, 18]\n",
    "output = []\n",
    "for i in items:\n",
    "    val = myfilter(i)\n",
    "    if val:\n",
    "        output.append(i)\n",
    "print(output) # returns all the even numbers"
   ]
  },
  {
   "cell_type": "code",
   "execution_count": null,
   "metadata": {},
   "outputs": [],
   "source": [
    "### Python - reduce Example\n",
    "result = functools.reduce(sum, result)\n",
    "print(\"Result after reduce:\",result)\n",
    "# Result after reduce: 36\n"
   ]
  },
  {
   "cell_type": "code",
   "execution_count": null,
   "metadata": {},
   "outputs": [],
   "source": [
    "### To see this using a loop:\n",
    "\n",
    "items = [6, 12, 18]\n",
    "val = items[0]\n",
    "item2 = items[1:] \n",
    "for a in item2:\n",
    "    val = sum(val,a)\n",
    "    \n",
    "print(val)"
   ]
  },
  {
   "cell_type": "markdown",
   "metadata": {},
   "source": [
    "􏰀- Notice that when using map, the items in the result are values returned by the function triple.\n",
    "􏰀- In contrast, the values returned by myfilter in filter(f, ...) are not outputted results themselves, but rather an index of the values that returned True.\n",
    "􏰀- The values returned by the reduce function returns a single result."
   ]
  },
  {
   "cell_type": "markdown",
   "metadata": {},
   "source": [
    "### Try It - MapReduce\n",
    "```text\n",
    "Example 19\n",
    "Write a map-reduce program that during the map step will sub- tract 2 from each element. The reduce step should return the product of all the elements in the list.\n",
    "```"
   ]
  },
  {
   "cell_type": "markdown",
   "metadata": {},
   "source": [
    "### Pandas\n",
    "- Pandas is a very popular Python library for data analysis.\n",
    "- The library provides “high-performance, easy-to-use data analysis tools for the Python programming language” [Source: pandas.pydata.org]\n",
    "- By importing this module, you can create data frame which are two dimensional tables consisting of column and row labels (like a spreadsheet).\n",
    "- It is designed to provided easy indexing functionality.\n",
    "### Installing pandas\n",
    "- The easiest way to install pandas is to use the [Anaconda](https://www.anaconda.com/products/individual) distribution.\n",
    "- With Anaconda you can install pandas and any dependencies by typing the following in Terminal/Command Prompt:"
   ]
  },
  {
   "cell_type": "code",
   "execution_count": null,
   "metadata": {},
   "outputs": [],
   "source": [
    "conda install pandas"
   ]
  },
  {
   "cell_type": "code",
   "execution_count": null,
   "metadata": {},
   "outputs": [],
   "source": [
    "## Check to see if you have installed pandas properly in Python:\n",
    "import pandas\n",
    "pandas.__version__ "
   ]
  },
  {
   "cell_type": "markdown",
   "metadata": {},
   "source": [
    "Read more on pandas install using other methods [here](https://pandas.pydata.org/pandas-docs/stable/getting_started/install.html)."
   ]
  },
  {
   "cell_type": "markdown",
   "metadata": {},
   "source": [
    "### 􏰀                               At the core of pandas are three data structures:"
   ]
  },
  {
   "cell_type": "markdown",
   "metadata": {},
   "source": [
    "### Conclusion\n",
    "- Python has many libraries to help with data analysis tasks:\n",
    " - reading and write to files\n",
    " - csv module for processing CSV files\n",
    " - Biopython for bioinformatics\n",
    " - numerous chart libraries including matplotlib and ggplot 􏰀 \n",
    " - SciPy - collection of libraries for scientific computing\n",
    " - libraries for web access and parsing (BeautifulSoup)\n",
    " - database access libraries and connectors\n",
    "- The try-except statement is used to handle exceptions so that the program may continue when an error condition occurs."
   ]
  },
  {
   "cell_type": "markdown",
   "metadata": {},
   "source": [
    "### Objectives􏰀 􏰀 􏰀 􏰀 􏰀\n",
    "- Open, read, write, and close text files\n",
    "- Process CSV files including using the csv module\n",
    "- Define: IPv4/IPv6 address, domain, domain name, URL\n",
    "- Read URLs using urllib.request.\n",
    "- Define: exception, exception handling\n",
    "- Use try-except statement to handle exceptions and understand how each of try, except, else, finally blocks are used\n",
    "- Import Python modules\n",
    "- Use Biopython module to retrieve NCBI data and perform BLAST\n",
    "- Build charts using matplotlib\n",
    "- Perform linear regression and k-means clustering using SciPy \n",
    "- Connect to and query the MySQL database using Python\n",
    "- Write simple Map-Reduce programs"
   ]
  },
  {
   "cell_type": "code",
   "execution_count": null,
   "metadata": {},
   "outputs": [],
   "source": []
  },
  {
   "cell_type": "code",
   "execution_count": null,
   "metadata": {},
   "outputs": [],
   "source": []
  },
  {
   "cell_type": "code",
   "execution_count": null,
   "metadata": {},
   "outputs": [],
   "source": []
  }
 ],
 "metadata": {
  "kernelspec": {
   "display_name": "Python 3",
   "language": "python",
   "name": "python3"
  },
  "language_info": {
   "codemirror_mode": {
    "name": "ipython",
    "version": 3
   },
   "file_extension": ".py",
   "mimetype": "text/x-python",
   "name": "python",
   "nbconvert_exporter": "python",
   "pygments_lexer": "ipython3",
   "version": "3.8.3"
  }
 },
 "nbformat": 4,
 "nbformat_minor": 4
}
