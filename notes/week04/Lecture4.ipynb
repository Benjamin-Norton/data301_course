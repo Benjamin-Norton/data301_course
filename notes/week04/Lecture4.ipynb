{
 "cells": [
  {
   "cell_type": "markdown",
   "metadata": {},
   "source": [
    "# DATA 301"
   ]
  },
  {
   "cell_type": "markdown",
   "metadata": {},
   "source": [
    "### Why learn Python?\n",
    "Python is increasingly the most popular choice of programming language for data analysts because it is designed to be simple, efficient, and easy to read and write.\n",
    "There are many open source software and libraries that use Python and data analysis tools built on them.\n",
    "We will use Python to learn programming and explore fundamental programming concepts of commands, variables, decisions, repetition, and events."
   ]
  },
  {
   "cell_type": "markdown",
   "metadata": {},
   "source": [
    " ### What is Python?\n",
    "Python is a general, high-level programming language designed for code readability and simplicity.\n",
    "Python is available for free as open source and has a large community supporting its development and associated tools.\n",
    "Python was developed by Guido van Rossum and first released in 1991. Python 2.0 was released in 2000 (latest version 2.7), and a backwards-incompatible release Python 3 was in 2008.\n",
    "\n",
    "􏰀 - Our coding style will be Python 3 but most code will also work for Python 2.\n",
    "􏰀 - (P.S. the name comes from Monty Python)"
   ]
  },
  {
   "cell_type": "markdown",
   "metadata": {},
   "source": [
    "### Python Language Characteristics\n",
    "## Python supports:\n",
    "- [dynamic typing](https://pythonconquerstheuniverse.wordpress.com/2009/10/03/static-vs-dynamic-typing-of-programming-languages/) - types can change at run-time\n",
    "- [multi-paradigm](https://blog.newrelic.com/engineering/python-programming-styles/ ) – flexible in that is supports both procedural, object-oriented, and functional styles, for example.\n",
    "- automatic [memory management](https://www.youtube.com/watch?v=URNdRl97q_0) and [garbage collection](https://rushter.com/blog/python-garbage-collector/)\n",
    "- extensible – other languages such as C/C++ can be used to compile the code.\n",
    "- and [more](https://data-flair.training/blogs/features-of-python/) ...\n",
    " "
   ]
  },
  {
   "cell_type": "markdown",
   "metadata": {},
   "source": [
    "### Python Language Characteristics\n",
    "- Python core philosophies [(by Tim Peters)](https://www.python.org/dev/peps/pep-0020/) 􏰀 \n",
    "- Beautiful is better than ugly\n",
    "- Explicit is better than implicit\n",
    "- Simple is better than complex\n",
    "- Complex is better than complicated 􏰀 Readability counts\n",
    " \n",
    "###  Some Quotes\n",
    "If you can’t write it down in English, you can’t code it.\n",
    "- Peter Halpern\n",
    "I really hate this damn machine. I wish that I could sell it.\n",
    "I never does quite what I want. Just only what I tell it.\n",
    "- programmers lament\n",
    " "
   ]
  },
  {
   "cell_type": "markdown",
   "metadata": {},
   "source": [
    "### Introduction to Programming\n",
    "- Recall. . .\n",
    "- An algorithm is a precise sequence of steps to produce a result. A program is an encoding of an algorithm in a language to solve a particular problem.\n",
    "- There are numerous languages that programmers can use to specify instructions. Each language has its different features, benefits, and usefulness.\n",
    "- The goal is to understand fundamental programming concepts that apply to all languages."
   ]
  },
  {
   "cell_type": "markdown",
   "metadata": {},
   "source": [
    "### Python: Basic Rules\n",
    "􏰀\n",
    "- To program in Python you must follow a set of rules for specifying your commands. This set of rules is called a syntax.\n",
    "- Just like any other language, there are rules that you must follow if you are to communicate correctly and precisely.\n",
    "- For a more thorough overview of Python, you may have a look at [Python Essential Reference by David Beazley](https://www.bogotobogo.com/python/files/pytut/Python%20Essential%20Reference,%20Fourth%20Edition%20(2009).pdf )as well as countless website online, eg [w3schools](https://www.w3schools.com/python/), [codeacademy](https://www.codecademy.com/learn/learn-python-3), . . .\n",
    "- Other useful resources include: [documentation for Python 3.7.3](https://docs.python.org/3/),[Python.org (getting started)](https://www.python.org/about/gettingstarted/), and the [Pep 8 style guide](https://www.python.org/dev/peps/pep-0008/).\n",
    "􏰀"
   ]
  },
  {
   "cell_type": "markdown",
   "metadata": {},
   "source": [
    "### Python: Basic Rules\n",
    "- Important general rules of Python syntax:\n",
    "- Python is case-sensitive.\n",
    "- Python is particular on whitespace and indentation.\n",
    "- The end of command is the end of line (i.e semi-colons are not a required terminator).\n",
    "- Use four spaces for indentation whenever in a block.\n",
    "    - Spaces are the preferred indentation method.\n",
    "    - Tabs should be used solely to remain consistent with code that is already indented with tabs.\n",
    "    - Python 3 disallows mixing tabs and spaces for indentation.\n",
    "```text\n",
    " def spam(): \n",
    "   eggs = 12\n",
    "   return eggs\n",
    "print spam()\n",
    "```"
   ]
  },
  {
   "cell_type": "markdown",
   "metadata": {},
   "source": [
    "### Comments\n",
    "Comments are used by the programmer to document and explain the code. Comments are ignored by the computer.\n",
    "Type # before the comment and any characters to the end of line are ignored by the computer. Example:"
   ]
  },
  {
   "cell_type": "code",
   "execution_count": 1,
   "metadata": {},
   "outputs": [
    {
     "name": "stdout",
     "output_type": "stream",
     "text": [
      "1\n"
     ]
    }
   ],
   "source": [
    " # Single line comment\n",
    "print (1)  # Comment at end of line\n",
    " "
   ]
  },
  {
   "cell_type": "markdown",
   "metadata": {},
   "source": [
    "### Python Programming\n",
    "A Python program, like a book, is read left to right and top to bottom. Each command is on its own line."
   ]
  },
  {
   "cell_type": "code",
   "execution_count": 2,
   "metadata": {},
   "outputs": [
    {
     "name": "stdout",
     "output_type": "stream",
     "text": [
      "Hello\n",
      "Name: Joe\n"
     ]
    }
   ],
   "source": [
    "# Sample Python program\n",
    "name = \"Joe\" \n",
    "print(\"Hello\") \n",
    "print(\"Name: \"+name)"
   ]
  },
  {
   "cell_type": "markdown",
   "metadata": {},
   "source": [
    "A user types in a Python program in a text editor (some examples) or integrated development environment (IDE examples).\n",
    "To run the program we need a Python interpreter (i.e. a program that reads Python programs and carries out their instructions)."
   ]
  },
  {
   "cell_type": "markdown",
   "metadata": {},
   "source": [
    "### Installing and Using Python\n",
    "\n",
    "You may already have a version of python on your computer. You can check by opening the command window/terminal and\n",
    "typing py/python (Windows/Mac).\n",
    "To exit using Python in the console type Ctrl + keystrokeZ then\n",
    "ENTER (if using Windows) or Ctrl + keystrokeD on a Mac.\n",
    "Alternatively, you could also run the python command exit().\n",
    "Read more about running python through the console [here](https://opentechschool.github.io/python-beginners/en/getting_started.html).\n",
    "You could also use one of the various online [Python 3 compilers](https://www.tutorialspoint.com/execute_python3_online.php) for example."
   ]
  },
  {
   "cell_type": "markdown",
   "metadata": {},
   "source": [
    "### Installing and Using Python\n",
    "Python version\n",
    "If you haven’t done any of the installations above, this is probably going to be Python 2.\n",
    "<img src=\"../../images/06Python/pythonshell.png\" width=\"600px\">\n",
    "\n",
    "You can find out which version of Python you have by typing python -V in your console."
   ]
  },
  {
   "cell_type": "markdown",
   "metadata": {},
   "source": [
    "### Python Editor - Jupyter\n",
    "- “[Project Jupyter](https://jupyter.org) exists to develop open-source software, open-standards, and services for interactive computing across dozens of programming languages.”\n",
    "- Jupyter notebook is a graphical, browser-based application for editing and running Python. Follow the instructions [here](https://jupyter.org/install) to install.\n",
    "- To run, type jupyter notebook in your Command Prompt. \n",
    "- This action will start the notebook server in your default browser and echo information about the notebook server in your terminal. Read more about it by clicking Try Jupyter for Python [here](https://jupyter.org/try)"
   ]
  },
  {
   "cell_type": "markdown",
   "metadata": {},
   "source": [
    "### Python Editor - Jupyter\n",
    "- The Notebook Dashboard will list all of the notebooks (.ipynb), files, and subdirectories stored in the local working directory (i.e. the directory from which you launched jupyter)\n",
    "<img src=\"../../images/06Python/jnote.png\" width=\"600px\">\n"
   ]
  },
  {
   "cell_type": "markdown",
   "metadata": {},
   "source": [
    "### Python Editor - Jupyter\n",
    "To create anew notebook, select New, Python3.\n",
    "\n",
    "<img src=\"../../images/06Python/jupyter.png\" width=\"600px\">\n"
   ]
  },
  {
   "cell_type": "markdown",
   "metadata": {},
   "source": [
    "### Python Editor - Jupyter\n",
    "To close this program, navigate the the <b> Running</b> tab and click the orange Shutdown button. Closing the notebook's page is  not sufficient to shutdown.\n",
    "<img src=\"../../images/06Python/shutdown.png\" width=\"600px\">\n"
   ]
  },
  {
   "cell_type": "markdown",
   "metadata": {},
   "source": [
    "### Python Editor - Jupyter\n",
    "\n",
    "<img src=\"../../images/06Python/jupyterbutton.png\" width=\"600px\">\n"
   ]
  },
  {
   "cell_type": "markdown",
   "metadata": {},
   "source": [
    "### Python Editor – jupyter notebook\n",
    "\n",
    "- The body of the notbook is comprised of cells:\n",
    "   - Markdown cells are used to build write regular (non-code)\n",
    "  􏰀 text. More markdown [here](https://github.com/adam-p/markdown-here/wiki/Markdown-Cheatsheet) and see helpful [cheatsheet](https://guides.github.com/pdfs/markdown-cheatsheet-online.pdf). \n",
    "    - Code cells (default) are used to define the code which will be compiled (after pressing   or pressing Shift + Enter ) to produce output.\n",
    "- You can inserts cells (either code/markdown) anywhere by clicking Insert > Insert Cell Above (or Insert Cell Below)\n",
    "- Same thing goes for deleting/copying/pasting/undoing cells: see the Edit drop down menu bar."
   ]
  },
  {
   "cell_type": "markdown",
   "metadata": {},
   "source": [
    "### Python Editor – jupyter notebook\n",
    "\n",
    "- You can create regular text and headings in markdown mode. Headings are indicated using # (subheadings use ##)\n",
    "\n",
    "<img src=\"../../images/06Python/textbefore.png\" width=\"600px\">"
   ]
  },
  {
   "cell_type": "markdown",
   "metadata": {},
   "source": [
    "### Python Editor – jupyter notebook\n",
    "\n",
    "- This is what the markdown looks like after it is run:\n",
    "\n",
    "<img src=\"../../images/06Python/textafter.png\" width=\"600px\">"
   ]
  },
  {
   "cell_type": "markdown",
   "metadata": {},
   "source": [
    "### Python Editor – jupyter notebook\n",
    "- After a cell is run, a number will appear in the square parenthesis (an asterisk * will appear for cells that are currently running). Every time we run that cell, this number will increase.\n",
    "\n",
    "<img src=\"../../images/06Python/runnum.png\" width=\"600px\">\n"
   ]
  },
  {
   "cell_type": "markdown",
   "metadata": {},
   "source": [
    "### Python Editor – jupyter notebook\n",
    "- While jupyter notebook does autosave periodically, it is a good to save your work upon exiting (go to File > Save and Checkpoint or click the save icon).\n",
    "- When we open the file again, it is not guaranteed that everything we need is in memory.\n",
    "- It is good practice to “reset\" the session by clicking Kernel > Restart and Run all Cells to ensure everything we need has been loaded into our working session (note that this will reset all of our numbers in the square brackets)."
   ]
  },
  {
   "cell_type": "markdown",
   "metadata": {},
   "source": [
    "### Python: Hello World!\n",
    "A [traditional introduction](https://en.wikipedia.org/wiki/%22Hello,_World!%22_program) into programming involves outputting the message \"Hello World!\"\n",
    "In Python3, this is a simple as typing:"
   ]
  },
  {
   "cell_type": "code",
   "execution_count": 3,
   "metadata": {},
   "outputs": [
    {
     "name": "stdout",
     "output_type": "stream",
     "text": [
      "Hello World!\n"
     ]
    }
   ],
   "source": [
    "print(\"Hello World!\")"
   ]
  },
  {
   "cell_type": "markdown",
   "metadata": {},
   "source": [
    "The print function will print to the terminal (standard output)\n",
    "whatever data (number, string, variable) it is given.\n",
    "\n",
    "You can use double quotes (\"Hello world\") or single quotes ('Hello world') just be consistent! E.g. 'Hello World!\" will produce a error."
   ]
  },
  {
   "cell_type": "markdown",
   "metadata": {},
   "source": [
    "### Tripple Quotes\n",
    "\n",
    "- If your message runs across multiple lines, you can use 3 quotations to denote multi-line strings.\n",
    "- The sting begins with a ''' (or \"\"\") and ends with a (or \"\"\").\n",
    "- Note that in this environment, we can use linebreaks (ie we can start a new line by pressing ENTER) and include the single and double quotes with our string.\n",
    "\n",
    "<img src=\"../../images/06Python/tripplequotes.png\" width=\"300px\" align=\"left\">"
   ]
  },
  {
   "cell_type": "markdown",
   "metadata": {},
   "source": [
    "### Try It: Python Printing\n",
    "\n",
    "```text\n",
    " Example 1\n",
    "Write a Python program that prints \"I can start coding!\"\n",
    "```\n",
    "```text\n",
    "Example 2\n",
    "Write a Python program that prints these three lines:\n",
    "I know that I can program in Python. I am programming right now.\n",
    "My awesome program has three lines!\n",
    "```\n",
    "``` text\n",
    " Example 3\n",
    "How many of the following statements are TRUE?\n",
    "1. Python is case-sensitive.\n",
    "2. A command in Python must be terminated by a semi-colon. 3. Indentation does not matter in Python.\n",
    "4. A single line comment starts with \"\"\".\n",
    "5. The print command prints to standard input.\n",
    "A) 0 B) 1 C) 2 D) 3 E) 4\n",
    "```\n",
    "```text\n",
    " Answer:\n",
    "How many of the following statements are TRUE?\n",
    "1. Python is case-sensitive.\n",
    "2. A command in Python must be terminated by a semi-colon. 3. Indentation does not matter in Python.\n",
    "4. A single line comment starts with \"\"\"\"\".\n",
    "5. The print command prints to standard input.\n",
    "A) 0 B) 1 C) 2 D) 3 E) 4\n",
    "```\n",
    "``` text\n",
    " Answer:\n",
    "How many of the following statements are TRUE?\n",
    "1. Python is case-sensitive.\n",
    "2. A command in Python must be terminated by a semi-colon. 3. Indentation does not matter in Python.\n",
    "4. A single line comment starts with \"\"\"\"\".\n",
    "5. The print command prints to standard input.\n",
    "A) 0  B) 1  C) 2 D) 3 E) 4\n",
    "```\n",
    "### Variables\n",
    "\n",
    "Recall. . .\n",
    "A variable is a name that refers to a location that stores a data value.\n",
    "IMPORTANT: The value at a location can change using initialization or assignment.\n",
    "\n",
    "### Variable Assignment\n",
    "In python the assignment operator is “=\".\n",
    "We will use it to (re)set value of a variable.\n",
    "\n",
    "\n",
    "<img src=\"../../images/06Python/variables.png\" width=\"200px\">"
   ]
  },
  {
   "cell_type": "code",
   "execution_count": 16,
   "metadata": {},
   "outputs": [],
   "source": [
    "# Example: \n",
    "\n",
    "num = 10\n",
    "message = \"Hello world!\""
   ]
  },
  {
   "cell_type": "markdown",
   "metadata": {},
   "source": [
    "### Python Variables\n",
    "\n",
    "- Variables are created when first assigned.\n",
    "- A variable type is dynamic and do not need to be declared.\n",
    "- It can store any particular type (e.g. int, float, strings, or Boolean) at any given time."
   ]
  },
  {
   "cell_type": "code",
   "execution_count": 17,
   "metadata": {},
   "outputs": [],
   "source": [
    "# Example:\n",
    "\n",
    "val = 5\n",
    "val = \"Hello\" \n",
    "isAwesome = True"
   ]
  },
  {
   "cell_type": "markdown",
   "metadata": {},
   "source": [
    "Recall: Boolean values can be either True or False. N.B. in Python case matters.\n",
    "The type (string, int, float etc.) of the variable is determined by Python."
   ]
  },
  {
   "cell_type": "markdown",
   "metadata": {},
   "source": [
    "### Variable Rules\n",
    "\n",
    "- Variables are a name that must begin with a letter or an underscore and cannot contain spaces. All subsequent characters must be letters, numbers or underscores.\n",
    "\n",
    "- Variables are created when they are first used. There is no special syntax to declare (create) a variable.\n",
    "- Variable names are case-sensitive.\n",
    "- A programmer picks the names for variables, but try to make the names meaningful and explain their purpose.\n",
    "- Avoid naming variables as reserved words (e.g. if, for, else). A reserved word has special meaning in the language."
   ]
  },
  {
   "cell_type": "markdown",
   "metadata": {},
   "source": [
    "```text\n",
    "Example 4\n",
    "\n",
    "Which of the following variable names are valid? \n",
    "1. name\n",
    "2. string2\n",
    "3. 2cool\n",
    "4. under_score \n",
    "5. space name \n",
    "6. else\n",
    "\n",
    "```"
   ]
  },
  {
   "cell_type": "markdown",
   "metadata": {},
   "source": [
    "End of Lecture 4 on September 30, 2020"
   ]
  }
 ],
 "metadata": {
  "kernelspec": {
   "display_name": "Python 3",
   "language": "python",
   "name": "python3"
  },
  "language_info": {
   "codemirror_mode": {
    "name": "ipython",
    "version": 3
   },
   "file_extension": ".py",
   "mimetype": "text/x-python",
   "name": "python",
   "nbconvert_exporter": "python",
   "pygments_lexer": "ipython3",
   "version": "3.8.3"
  }
 },
 "nbformat": 4,
 "nbformat_minor": 4
}
