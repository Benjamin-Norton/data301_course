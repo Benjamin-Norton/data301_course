{
 "cells": [
  {
   "cell_type": "markdown",
   "metadata": {},
   "source": [
    "# Lecture 4A - Introduction to Data visualizations & EDA\n",
    "\n",
    "We will begin at around 12:00 PM! Until then, feel free to use the chat to socialize, and enjoy the music!\n",
    "\n",
    "<img src=\"images/pipelines.jpg\" width=50% style=\"margin-left:auto; margin-right:auto\">\n",
    "\n",
    "\n",
    "<div align = \"left\"> \n",
    "    <br>\n",
    "    <br>\n",
    "Image by <a href=\"https://pixabay.com/photos/lost-places-factory-old-abandoned-2178884/\">Hands off my tags! Michael Gaida</a> from Pixabay.\n",
    "</div>\n",
    "\n",
    "<div align = \"right\"> \n",
    "    July 27, 2021 <br>\n",
    "    Firas Moosvi\n",
    "</div>"
   ]
  },
  {
   "cell_type": "markdown",
   "metadata": {},
   "source": [
    "## Announcements\n"
   ]
  },
  {
   "cell_type": "markdown",
   "metadata": {},
   "source": [
    "- Lab 4, 5, and 6 are available for you to look at and accept"
   ]
  },
  {
   "cell_type": "markdown",
   "metadata": {},
   "source": [
    "- From now on, we will try and give feedback as you submit things, rather than wait until after the deadline + grace period."
   ]
  },
  {
   "cell_type": "markdown",
   "metadata": {},
   "source": [
    "- If you are feeling lost or frustrated about Python, come to Wednesday's class for a \"get back on the bus\" class - I will try to catch people up and go over some common issues I'm seeing.\n",
    "    - For those of you that are fine, you're still welcome to come and ask about seaborn-related questions."
   ]
  },
  {
   "cell_type": "markdown",
   "metadata": {},
   "source": [
    "## Class Outline"
   ]
  },
  {
   "cell_type": "markdown",
   "metadata": {},
   "source": [
    "1. Announcements (5 mins)\n",
    "\n",
    "2. Final Exam Information\n",
    "\n",
    "3. Introduction to Lab 4 (5 mins)\n",
    "\n",
    "4. Introduction to Milestone 2 (10 mins)\n",
    "    - Method Chaining\n",
    "    - Importing your own python functions --> [Demo Repository](https://github.com/firasm/demo_project_imports)\n",
    "\n",
    "5. Introduction to of Data Visualizations \n",
    "\n",
    "6. Importance of Data Visualizations\n",
    "\n",
    "7. Introduction to Exploratory Data Analyses"
   ]
  },
  {
   "cell_type": "markdown",
   "metadata": {},
   "source": [
    "## Final Exam Details\n",
    "\n",
    "Here are some details about the final exam.\n",
    "\n",
    "- The final exam will be a **take home final exam**, delivered as a GitHub Classroom assignment (similar to labs in this course)\n",
    "\n",
    "- There will be a 48 hour window during which you can start the exam at any time. \n",
    "\n",
    "- The final exam window will OPEN Sunday, Aug 15 at 18:00 (on Gradescope).\n",
    "\n",
    "- The final exam window will CLOSE Tuesday, Aug 17 at 18:00. \n",
    "\n",
    "- **Format:** you will get to work with a dataset you haven't seen before and be asked to do a comprehensive data analysis, some of it guided, and some of it unguided.\n",
    "    - You will need to do all the steps of a Data Analysis.\n",
    "    - You will be given some research questions to answer, based on the data.\n",
    "    - You will also need to do come up with your own research questions and answer them.\n",
    "    \n",
    "- The exam will not be proctored or invigilated, but the same rules as the Test apply.\n",
    "\n",
    "- Remember that you will need to accept a GH Classroom link (just like with the labs) and then submit your repository link once you are finished with the exam. \n",
    "\n",
    "- You will find the link to accept the GH Classroom link on Gradescope.\n",
    "\n",
    "- You will also need to commit to the repo and push to GitHub at various points during the exam (I will have instructions in the exam for when you should be committing, and pushing). \n",
    "\n",
    "- The exam is designed to be completed in 2 - 2.5 hours, but you will have the full 48 hour window to spend on the exam. I highly recommend that you block out a chunk of time and finish the exam in one sitting. You have other exams to deal with as well, and just because I give you 48 hours, does not mean you have to use all of it!! \n",
    "\n",
    "- You will need to make sure your JupyterLab installation is functioning, Git and Python is working, and all the packages used in the course are installed. This will be a required aspect of the final exam!\n",
    "\n",
    "- You will need to frequently commit your work using the Terminal (i.e. NOT GitHub desktop, or the web uploader!) so please make sure you know how to do that. It will be just like the labs and milestones, if you've been keeping up, I don't expect you'll have a problem.\n",
    "\n",
    "- The exam will contain everything in the course EXCEPT Tableau and Excel. With git, you will be expected to demonstrate proficiency of the basic commands while you are doing the Exam, but there are no specific questions about git.\n",
    "\n",
    "- I will post an Ed Discussion note about the Final Exam, if you have questions about it, you can ask them there."
   ]
  },
  {
   "cell_type": "markdown",
   "metadata": {},
   "source": [
    "### General Rules for the Test\n",
    "\n",
    "Read them carefully!\n",
    "\n",
    "- You will have 90 minutes to complete the test (unless you have an accommodation from the DRC).\n",
    "- You must complete the test BY YOURSELF (no friends, no tutors, no classmates, no humans - cats and dogs in the room are fine).\n",
    "- You will not be able to ask us questions during the quiz - do your best with your best interpretation of the question.\n",
    "- The test is open-book, open-notes, open-web EXCEPT you CANNOT use websites that help you cheat such as Chegg, Course Hero, Slader and other similar websites that have tutors answering questions you upload (Stack Overflow is allowed).\n",
    "- Using google to search for concepts is NOT cheating. For example, you can search for definitions of terms, and commands.\n",
    "- If you accidentally come across the same or similar test question on google, resist the temptation to keep reading, and just close your browser tab.\n",
    "- You can also use any code editor, or JupyterLab, etc to run and test your code.\n",
    "- Any form of communication with other humans, terrestrial or extraterrestrial is not allowed (Discord, Slack, WhatsApp, Terminal, Signal, iMessage, SMS, MMS, etc…) and IS CHEATING\n",
    "- Do NOT share test questions with your anyone - that IS CHEATING.\n",
    "- Do not be anxious about the test! If you don’t do well - review the material and try again next week - we will take the better of the two scores!\n",
    "- Overall, do not stress! You will be fine :-)"
   ]
  },
  {
   "cell_type": "markdown",
   "metadata": {},
   "source": [
    "## Introduction to Lab 4"
   ]
  },
  {
   "cell_type": "markdown",
   "metadata": {},
   "source": [
    "### [Lab 4A](https://firas.moosvi.com/courses/2021_ST2/data301/notes/week04/lab4/lab4A/lab4A.html)"
   ]
  },
  {
   "cell_type": "markdown",
   "metadata": {},
   "source": [
    "### [Lab 4B](https://firas.moosvi.com/courses/2021_ST2/data301/notes/week04/lab4/lab4B/lab4B.html)"
   ]
  },
  {
   "cell_type": "markdown",
   "metadata": {},
   "source": [
    "## [Introduction to Milestone 2](https://firas.moosvi.com/courses/2021_ST2/data301/project/milestone02.html)"
   ]
  },
  {
   "cell_type": "markdown",
   "metadata": {},
   "source": [
    "### Task 1. Set up an “Analysis Pipeline” (20%)\n",
    "\n",
    "### Common steps of a Data Analysis Pipeline\n",
    "\n",
    "Here are some common steps of an analysis pipeline (the order isn't set, and not all elements are necessary):\n",
    "\n",
    "1. Load Data\n",
    "    - Check file types and encodings.\n",
    "    - Check delimiters (space, comma, tab).\n",
    "    - Skip rows and columns as needed.\n",
    "2. Clean Data\n",
    "    - Remove columns not being used.\n",
    "    - Deal with \"incorrect\" data.\n",
    "    - Deal with missing data.\n",
    "3. Process Data\n",
    "    - Create any new columns needed that are combinations or aggregates of other columns (examples include weighted averages, categorizations, groups, etc...).\n",
    "    - Find and replace operations (examples inlcude replacing the string 'Strongly Agree' with the number 5).\n",
    "    - Other substitutions as needed.\n",
    "    - Deal with outliers.\n",
    "4. Wrangle Data\n",
    "    - Restructure data format (columns and rows).\n",
    "    - Merge other data sources into your dataset.\n",
    "5. Exploratory Data Analysis\n",
    "6. Data Analysis\n",
    "7. Export reports/data analyses and visualizations"
   ]
  },
  {
   "cell_type": "markdown",
   "metadata": {},
   "source": [
    "### Method chaining \n",
    "\n",
    "```\n",
    "import pandas as pd\n",
    "import numpy as np\n",
    "from sklearn.datasets import load_wine\n",
    "\n",
    "data = load_wine() # this a data file that gets loaded\n",
    "\n",
    "# Method chaining begins\n",
    "\n",
    "df = (   \n",
    "    pd.DataFrame(data.data,columns=data.feature_names)\n",
    "    .rename(columns={\"color_intensity\": \"ci\"})\n",
    "    .assign(color_filter=lambda x: np.where((x.hue > 1) & (x.ci > 7), 1, 0))\n",
    "    .loc[lambda x: x['alcohol']>14]\n",
    "    .sort_values(\"alcohol\", ascending=False)\n",
    "    .reset_index(drop=True)\n",
    "    .loc[:, [\"alcohol\", \"ci\", \"hue\"]]\n",
    ")\n",
    "\n",
    "df\n",
    "```"
   ]
  },
  {
   "cell_type": "markdown",
   "metadata": {},
   "source": [
    "### Import your own functions\n",
    "\n",
    "See example in this [Demo Repository](https://github.com/firasm/demo_project_imports)"
   ]
  },
  {
   "cell_type": "markdown",
   "metadata": {},
   "source": [
    "## Introduction to Data Visualizations\n",
    "\n",
    "[Slides available here](Class4A.pdf)"
   ]
  },
  {
   "cell_type": "code",
   "execution_count": 4,
   "metadata": {},
   "outputs": [
    {
     "data": {
      "text/html": [
       "\n",
       "        <iframe\n",
       "            width=\"900\"\n",
       "            height=\"800\"\n",
       "            src=\"Class4A.pdf\"\n",
       "            frameborder=\"0\"\n",
       "            allowfullscreen\n",
       "        ></iframe>\n",
       "        "
      ],
      "text/plain": [
       "<IPython.lib.display.IFrame at 0x10fc317c0>"
      ]
     },
     "execution_count": 4,
     "metadata": {},
     "output_type": "execute_result"
    }
   ],
   "source": [
    "from IPython.display import IFrame\n",
    "IFrame(\"Class4A.pdf\", width=900, height=800)"
   ]
  },
  {
   "cell_type": "markdown",
   "metadata": {},
   "source": [
    "## Motivating the need for EDA"
   ]
  },
  {
   "cell_type": "markdown",
   "metadata": {},
   "source": [
    "`bullet_data.csv` is available here: https://github.com/firasm/bits/raw/master/bullet_data.csv"
   ]
  },
  {
   "cell_type": "code",
   "execution_count": 1,
   "metadata": {},
   "outputs": [],
   "source": [
    "import pandas as pd\n",
    "import seaborn as sns\n",
    "import numpy as np\n",
    "import matplotlib.pyplot as plt\n",
    "\n",
    "sns.set_theme(style=\"white\",\n",
    "              font_scale=1.3)"
   ]
  },
  {
   "cell_type": "code",
   "execution_count": 3,
   "metadata": {},
   "outputs": [
    {
     "data": {
      "text/html": [
       "<div>\n",
       "<style scoped>\n",
       "    .dataframe tbody tr th:only-of-type {\n",
       "        vertical-align: middle;\n",
       "    }\n",
       "\n",
       "    .dataframe tbody tr th {\n",
       "        vertical-align: top;\n",
       "    }\n",
       "\n",
       "    .dataframe thead th {\n",
       "        text-align: right;\n",
       "    }\n",
       "</style>\n",
       "<table border=\"1\" class=\"dataframe\">\n",
       "  <thead>\n",
       "    <tr style=\"text-align: right;\">\n",
       "      <th></th>\n",
       "      <th>x</th>\n",
       "      <th>y</th>\n",
       "      <th>bullet</th>\n",
       "      <th>zone</th>\n",
       "    </tr>\n",
       "  </thead>\n",
       "  <tbody>\n",
       "    <tr>\n",
       "      <th>0</th>\n",
       "      <td>0</td>\n",
       "      <td>0</td>\n",
       "      <td>0.0</td>\n",
       "      <td>OutsidePlane</td>\n",
       "    </tr>\n",
       "    <tr>\n",
       "      <th>1</th>\n",
       "      <td>0</td>\n",
       "      <td>1</td>\n",
       "      <td>0.0</td>\n",
       "      <td>OutsidePlane</td>\n",
       "    </tr>\n",
       "    <tr>\n",
       "      <th>2</th>\n",
       "      <td>0</td>\n",
       "      <td>2</td>\n",
       "      <td>0.0</td>\n",
       "      <td>OutsidePlane</td>\n",
       "    </tr>\n",
       "    <tr>\n",
       "      <th>3</th>\n",
       "      <td>0</td>\n",
       "      <td>3</td>\n",
       "      <td>0.0</td>\n",
       "      <td>OutsidePlane</td>\n",
       "    </tr>\n",
       "    <tr>\n",
       "      <th>4</th>\n",
       "      <td>0</td>\n",
       "      <td>4</td>\n",
       "      <td>0.0</td>\n",
       "      <td>OutsidePlane</td>\n",
       "    </tr>\n",
       "  </tbody>\n",
       "</table>\n",
       "</div>"
      ],
      "text/plain": [
       "   x  y  bullet          zone\n",
       "0  0  0     0.0  OutsidePlane\n",
       "1  0  1     0.0  OutsidePlane\n",
       "2  0  2     0.0  OutsidePlane\n",
       "3  0  3     0.0  OutsidePlane\n",
       "4  0  4     0.0  OutsidePlane"
      ]
     },
     "execution_count": 3,
     "metadata": {},
     "output_type": "execute_result"
    }
   ],
   "source": [
    "df = pd.read_csv('https://github.com/firasm/bits/raw/master/bullet_data.csv')\n",
    "df.head()"
   ]
  },
  {
   "cell_type": "code",
   "execution_count": 4,
   "metadata": {},
   "outputs": [
    {
     "data": {
      "text/html": [
       "<div>\n",
       "<style scoped>\n",
       "    .dataframe tbody tr th:only-of-type {\n",
       "        vertical-align: middle;\n",
       "    }\n",
       "\n",
       "    .dataframe tbody tr th {\n",
       "        vertical-align: top;\n",
       "    }\n",
       "\n",
       "    .dataframe thead th {\n",
       "        text-align: right;\n",
       "    }\n",
       "</style>\n",
       "<table border=\"1\" class=\"dataframe\">\n",
       "  <thead>\n",
       "    <tr style=\"text-align: right;\">\n",
       "      <th></th>\n",
       "      <th>count</th>\n",
       "      <th>mean</th>\n",
       "      <th>std</th>\n",
       "      <th>min</th>\n",
       "      <th>25%</th>\n",
       "      <th>50%</th>\n",
       "      <th>75%</th>\n",
       "      <th>max</th>\n",
       "    </tr>\n",
       "  </thead>\n",
       "  <tbody>\n",
       "    <tr>\n",
       "      <th>x</th>\n",
       "      <td>87500.0</td>\n",
       "      <td>124.500000</td>\n",
       "      <td>72.168619</td>\n",
       "      <td>0.0</td>\n",
       "      <td>62.0</td>\n",
       "      <td>124.5</td>\n",
       "      <td>187.0</td>\n",
       "      <td>249.0</td>\n",
       "    </tr>\n",
       "    <tr>\n",
       "      <th>y</th>\n",
       "      <td>87500.0</td>\n",
       "      <td>174.500000</td>\n",
       "      <td>101.036462</td>\n",
       "      <td>0.0</td>\n",
       "      <td>87.0</td>\n",
       "      <td>174.5</td>\n",
       "      <td>262.0</td>\n",
       "      <td>349.0</td>\n",
       "    </tr>\n",
       "    <tr>\n",
       "      <th>bullet</th>\n",
       "      <td>68526.0</td>\n",
       "      <td>0.008741</td>\n",
       "      <td>0.093086</td>\n",
       "      <td>0.0</td>\n",
       "      <td>0.0</td>\n",
       "      <td>0.0</td>\n",
       "      <td>0.0</td>\n",
       "      <td>1.0</td>\n",
       "    </tr>\n",
       "  </tbody>\n",
       "</table>\n",
       "</div>"
      ],
      "text/plain": [
       "          count        mean         std  min   25%    50%    75%    max\n",
       "x       87500.0  124.500000   72.168619  0.0  62.0  124.5  187.0  249.0\n",
       "y       87500.0  174.500000  101.036462  0.0  87.0  174.5  262.0  349.0\n",
       "bullet  68526.0    0.008741    0.093086  0.0   0.0    0.0    0.0    1.0"
      ]
     },
     "execution_count": 4,
     "metadata": {},
     "output_type": "execute_result"
    }
   ],
   "source": [
    "# Use our standard tool first:\n",
    "\n",
    "df.describe().T"
   ]
  },
  {
   "cell_type": "markdown",
   "metadata": {},
   "source": [
    "mmm... well that's not super helpful. Let's try and figure out some more info manually"
   ]
  },
  {
   "cell_type": "code",
   "execution_count": 8,
   "metadata": {},
   "outputs": [
    {
     "name": "stdout",
     "output_type": "stream",
     "text": [
      "The zones are: ['A', 'B', 'C', 'D', 'E', 'OutsidePlane', 'Unknown'] \n",
      "\n",
      "Columns are: ['x', 'y', 'bullet', 'zone'] \n",
      "\n",
      "Values for 'bullet' column is [0.0, nan, 1.0] \n",
      "\n"
     ]
    }
   ],
   "source": [
    "print(\"The zones are: {0}\".format(sorted(set(df['zone']))),\"\\n\")\n",
    "\n",
    "print(\"Columns are: {0}\".format(list(df.columns)),\"\\n\")\n",
    "\n",
    "print(\"Values for 'bullet' column is {0}\".format(sorted(df['bullet'].unique())),\"\\n\")"
   ]
  },
  {
   "cell_type": "markdown",
   "metadata": {},
   "source": [
    "Let's wrangle the data a bit to try and see what's going on:"
   ]
  },
  {
   "cell_type": "code",
   "execution_count": 9,
   "metadata": {},
   "outputs": [
    {
     "data": {
      "text/html": [
       "<div>\n",
       "<style scoped>\n",
       "    .dataframe tbody tr th:only-of-type {\n",
       "        vertical-align: middle;\n",
       "    }\n",
       "\n",
       "    .dataframe tbody tr th {\n",
       "        vertical-align: top;\n",
       "    }\n",
       "\n",
       "    .dataframe thead th {\n",
       "        text-align: right;\n",
       "    }\n",
       "</style>\n",
       "<table border=\"1\" class=\"dataframe\">\n",
       "  <thead>\n",
       "    <tr style=\"text-align: right;\">\n",
       "      <th></th>\n",
       "      <th>x</th>\n",
       "      <th>y</th>\n",
       "      <th>bullet</th>\n",
       "      <th>zone</th>\n",
       "    </tr>\n",
       "  </thead>\n",
       "  <tbody>\n",
       "    <tr>\n",
       "      <th>36193</th>\n",
       "      <td>103</td>\n",
       "      <td>143</td>\n",
       "      <td>1.0</td>\n",
       "      <td>B</td>\n",
       "    </tr>\n",
       "    <tr>\n",
       "      <th>27132</th>\n",
       "      <td>77</td>\n",
       "      <td>182</td>\n",
       "      <td>1.0</td>\n",
       "      <td>B</td>\n",
       "    </tr>\n",
       "    <tr>\n",
       "      <th>27112</th>\n",
       "      <td>77</td>\n",
       "      <td>162</td>\n",
       "      <td>1.0</td>\n",
       "      <td>B</td>\n",
       "    </tr>\n",
       "    <tr>\n",
       "      <th>36885</th>\n",
       "      <td>105</td>\n",
       "      <td>135</td>\n",
       "      <td>1.0</td>\n",
       "      <td>B</td>\n",
       "    </tr>\n",
       "    <tr>\n",
       "      <th>37721</th>\n",
       "      <td>107</td>\n",
       "      <td>271</td>\n",
       "      <td>1.0</td>\n",
       "      <td>C</td>\n",
       "    </tr>\n",
       "  </tbody>\n",
       "</table>\n",
       "</div>"
      ],
      "text/plain": [
       "         x    y  bullet zone\n",
       "36193  103  143     1.0    B\n",
       "27132   77  182     1.0    B\n",
       "27112   77  162     1.0    B\n",
       "36885  105  135     1.0    B\n",
       "37721  107  271     1.0    C"
      ]
     },
     "execution_count": 9,
     "metadata": {},
     "output_type": "execute_result"
    }
   ],
   "source": [
    "# First, only consider the bullet 'hits':\n",
    "\n",
    "hits_df = df[df['bullet']==1]\n",
    "hits_df.sample(5)"
   ]
  },
  {
   "cell_type": "code",
   "execution_count": 10,
   "metadata": {},
   "outputs": [
    {
     "data": {
      "text/html": [
       "<div>\n",
       "<style scoped>\n",
       "    .dataframe tbody tr th:only-of-type {\n",
       "        vertical-align: middle;\n",
       "    }\n",
       "\n",
       "    .dataframe tbody tr th {\n",
       "        vertical-align: top;\n",
       "    }\n",
       "\n",
       "    .dataframe thead th {\n",
       "        text-align: right;\n",
       "    }\n",
       "</style>\n",
       "<table border=\"1\" class=\"dataframe\">\n",
       "  <thead>\n",
       "    <tr style=\"text-align: right;\">\n",
       "      <th></th>\n",
       "      <th>zone</th>\n",
       "      <th>x</th>\n",
       "      <th>y</th>\n",
       "      <th>bullet</th>\n",
       "    </tr>\n",
       "  </thead>\n",
       "  <tbody>\n",
       "    <tr>\n",
       "      <th>0</th>\n",
       "      <td>A</td>\n",
       "      <td>83</td>\n",
       "      <td>83</td>\n",
       "      <td>83</td>\n",
       "    </tr>\n",
       "    <tr>\n",
       "      <th>1</th>\n",
       "      <td>B</td>\n",
       "      <td>259</td>\n",
       "      <td>259</td>\n",
       "      <td>259</td>\n",
       "    </tr>\n",
       "    <tr>\n",
       "      <th>2</th>\n",
       "      <td>C</td>\n",
       "      <td>83</td>\n",
       "      <td>83</td>\n",
       "      <td>83</td>\n",
       "    </tr>\n",
       "    <tr>\n",
       "      <th>3</th>\n",
       "      <td>D</td>\n",
       "      <td>47</td>\n",
       "      <td>47</td>\n",
       "      <td>47</td>\n",
       "    </tr>\n",
       "    <tr>\n",
       "      <th>4</th>\n",
       "      <td>E</td>\n",
       "      <td>111</td>\n",
       "      <td>111</td>\n",
       "      <td>111</td>\n",
       "    </tr>\n",
       "    <tr>\n",
       "      <th>5</th>\n",
       "      <td>Unknown</td>\n",
       "      <td>16</td>\n",
       "      <td>16</td>\n",
       "      <td>16</td>\n",
       "    </tr>\n",
       "  </tbody>\n",
       "</table>\n",
       "</div>"
      ],
      "text/plain": [
       "      zone    x    y  bullet\n",
       "0        A   83   83      83\n",
       "1        B  259  259     259\n",
       "2        C   83   83      83\n",
       "3        D   47   47      47\n",
       "4        E  111  111     111\n",
       "5  Unknown   16   16      16"
      ]
     },
     "execution_count": 10,
     "metadata": {},
     "output_type": "execute_result"
    }
   ],
   "source": [
    "# Then, let's groupby the \"zone\" and look at the resulting dataframe\n",
    "# I have \"reset\" the index of the groupby object so we can have a continuous index\n",
    "summary = hits_df.groupby('zone').count().reset_index()\n",
    "summary"
   ]
  },
  {
   "cell_type": "code",
   "execution_count": 13,
   "metadata": {},
   "outputs": [
    {
     "data": {
      "image/png": "[encoded data removed]",
      "text/plain": [
       "<Figure size 432x288 with 1 Axes>"
      ]
     },
     "metadata": {},
     "output_type": "display_data"
    }
   ],
   "source": [
    "# Now let's visualize the table above:\n",
    "\n",
    "sns.countplot(data=hits_df, \n",
    "              y='zone', order = sorted(set(df['zone'])),color='skyblue')\n",
    "plt.ylabel('')\n",
    "plt.title('Bullet hit count by Airplane Zone')\n",
    "plt.xlabel('Bullet hits')\n",
    "sns.despine()"
   ]
  },
  {
   "cell_type": "code",
   "execution_count": 14,
   "metadata": {},
   "outputs": [
    {
     "data": {
      "text/plain": [
       "(0.0, 350.0, 250.0, 0.0)"
      ]
     },
     "execution_count": 14,
     "metadata": {},
     "output_type": "execute_result"
    },
    {
     "data": {
      "image/png": "[encoded data removed]",
      "text/plain": [
       "<Figure size 432x288 with 2 Axes>"
      ]
     },
     "metadata": {},
     "output_type": "display_data"
    }
   ],
   "source": [
    "df['outline'] = np.where(df['zone']=='OutsidePlane',0,1)\n",
    "\n",
    "sns.heatmap(data=df.pivot('x','y','outline'),cmap='Greys')\n",
    "plt.axis('off')"
   ]
  },
  {
   "cell_type": "code",
   "execution_count": 15,
   "metadata": {},
   "outputs": [
    {
     "data": {
      "text/plain": [
       "(0.0, 350.0, 250.0, 0.0)"
      ]
     },
     "execution_count": 15,
     "metadata": {},
     "output_type": "execute_result"
    },
    {
     "data": {
      "image/png": "[encoded data removed]",
      "text/plain": [
       "<Figure size 432x288 with 2 Axes>"
      ]
     },
     "metadata": {},
     "output_type": "display_data"
    }
   ],
   "source": [
    "sns.heatmap(data=df.pivot('x','y','bullet'),cmap='Spectral')\n",
    "plt.axis('off')\n"
   ]
  },
  {
   "cell_type": "markdown",
   "metadata": {},
   "source": [
    "## Debrief"
   ]
  },
  {
   "cell_type": "markdown",
   "metadata": {},
   "source": [
    "And that's it!"
   ]
  }
 ],
 "metadata": {
  "kernelspec": {
   "display_name": "Python 3",
   "language": "python",
   "name": "python3"
  },
  "language_info": {
   "codemirror_mode": {
    "name": "ipython",
    "version": 3
   },
   "file_extension": ".py",
   "mimetype": "text/x-python",
   "name": "python",
   "nbconvert_exporter": "python",
   "pygments_lexer": "ipython3",
   "version": "3.8.3"
  }
 },
 "nbformat": 4,
 "nbformat_minor": 4
}
