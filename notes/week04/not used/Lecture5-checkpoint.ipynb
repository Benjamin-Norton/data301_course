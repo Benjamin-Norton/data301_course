{
 "cells": [
  {
   "cell_type": "markdown",
   "metadata": {},
   "source": [
    "# DATA 301"
   ]
  },
  {
   "cell_type": "markdown",
   "metadata": {},
   "source": [
    "Slide formats:\n",
    "\n",
    "- [PDF](http://firas.moosvi.com/courses/data301/Lecture5_Python2.pdf)\n",
    "- [Powerpoint](http://firas.moosvi.com/courses/data301/Lecture5_Python2.pptx)"
   ]
  },
  {
   "cell_type": "markdown",
   "metadata": {},
   "source": [
    "## Projects in DATA 301\n",
    "\n",
    "- You will have a choice between doing an individual project vs. a group project\n",
    "- Group sizes will be set at 3 (no exceptions)\n",
    "- Expectations will be different for individual vs. group projects\n",
    "- I will assign groups for those that want to do group projects\n",
    "    - Time zones, skills/experience will be taken into account\n",
    "- The group will be a mix to pair those new to programming, with others"
   ]
  },
  {
   "cell_type": "markdown",
   "metadata": {},
   "source": [
    "### Python Math Expressions\n",
    "\n",
    "| Operation       | Syntax    | Example | Output   |\n",
    "| :------------- | :----------: | -----------:  | -----------: |\n",
    "|  Add |+  |5+3 |8  |\n",
    "|Subtract|-| 10 - 2 |8|\n",
    "|Multiply|* |5 * 3| 15|\n",
    "|Divide|/| 8/4| 2|\n",
    "|Modulus|% |9%4| 1|\n",
    "|Exponent|**|5 ** 2|25|\n",
    "\n",
    "### Expressions - Operator Precedence\n",
    "Each operator has its own priority similar to their priority in regular math expressions:\n",
    "1. Any expression in parentheses is evaluated first starting with the inner most nesting of parentheses.\n",
    "2. Exponents\n",
    "3. Multiplication and division (*, /, %)\n",
    "4. Addition and subtraction (+,-)\n",
    " Recall:BEDMAS Brackets Exponents Division, Multiplication, (modulus), Addition and Subtraction\n",
    " Example: 20 - ((4 + 5) - (3 * (6 - 2))) * 4 = 32\n",
    "### Python Expression Question\n",
    "``` text\n",
    " Example 5\n",
    "What is the value of this expression\n",
    "                       8∗∗2+12/4∗(3−1)%5\n",
    "```\n",
    "HINT: Modulo is executed after multiplication and division; more on this [here](https://en.wikipedia.org/wiki/Order_of_operations#Programming_languages).\n",
    "\n",
    "\n",
    "\n",
    "A) 69    B) 65   C) 36    D) 16    E) 70\n",
    "\n",
    "### Python Expression Question\n",
    "```text\n",
    "Answer:\n",
    "What is the value of this expression\n",
    "            8∗∗2+12/4∗(3−1)%5\n",
    "```            \n",
    "            \n",
    "HINT: Modulo is executed after multiplication and division; more on this [here](https://en.wikipedia.org/wiki/Order_of_operations#Programming_languages).\n",
    "\n",
    "A) 69 B) 65 C) 36 D) 16 E) 70\n",
    "I think it’s good practice to be explicit with brackets. I.e., I might have written the above as:\n",
    "```text\n",
    "            8**2 + ((12/4)*(3-1))%5\n",
    "```\n",
    "### Try it: Python Variables and Expressions\n",
    "```text\n",
    "Example 6\n",
    "Write a program that prints the result of 35 + 5*10 \n",
    "```\n",
    "```text\n",
    "Example 7\n",
    "Write a program that uses at least 3 operators to end up with the value 99.\n",
    "```\n",
    "```text\n",
    "Example 8\n",
    "Write a program that has a variable called name with the value of your name and a variable called height storing your height in feet. Print out your name and height using these variables.\n",
    "```\n",
    "### Rules for Strings in Python\n",
    "Strings are sequences of characters that must be surrounded by single or double quotes.\n",
    "Any number of characters is allowed. The minimum number of characters is zero \"\", which is called the empty string.\n",
    "Strings can contain most characters except enter, backspace, tab, and backslash. These special characters must be escaped by using the escape character: \\\n",
    "- Example:\n",
    "    new line \\n\n",
    "    single quote \\' \n",
    "    backslash \\\\ \n",
    "    double quote \\''\n",
    "### Strings\n",
    "As mentioned previously, we can use triple quotes \"\"\" for a strings that contain single/double quotes and/or line breaks.\n",
    "In addition, double quoted strings can contain single quoted strings and vice versa. \n",
    "Example:"
   ]
  },
  {
   "cell_type": "code",
   "execution_count": 5,
   "metadata": {},
   "outputs": [
    {
     "name": "stdout",
     "output_type": "stream",
     "text": [
      "Joe's Store\n",
      "this is anew line\n",
      "\n",
      "\n"
     ]
    }
   ],
   "source": [
    "storeName = \"\"\"Joe's Store\n",
    "this is anew line\n",
    "\n",
    "\"\"\"\n",
    "\n",
    "\n",
    "print(storeName)"
   ]
  },
  {
   "cell_type": "code",
   "execution_count": 1,
   "metadata": {},
   "outputs": [
    {
     "name": "stdout",
     "output_type": "stream",
     "text": [
      "String that is really long\n",
      "with multiple lines\n",
      "     and spaces is perfectly fine\n"
     ]
    }
   ],
   "source": [
    "name = 'Joseph \"Joe\" Jones'\n",
    "storeName = 'Joe\\'s Store'\n",
    "storeName = \"Joe's Store\" # alternatively height = '''5'9\"'''\n",
    "print(\"\"\"String that is really long\n",
    "with multiple lines\n",
    "     and spaces is perfectly fine\"\"\")\n",
    "     "
   ]
  },
  {
   "cell_type": "markdown",
   "metadata": {},
   "source": [
    "### Python String Indexing\n",
    "Individual characters of a string can be accessed using square brackets ([]); the first character indexed at 0.\n",
    "􏰀 - Example:"
   ]
  },
  {
   "cell_type": "code",
   "execution_count": 7,
   "metadata": {},
   "outputs": [
    {
     "name": "stdout",
     "output_type": "stream",
     "text": [
      "e\n",
      "A\n",
      "o\n"
     ]
    }
   ],
   "source": [
    "str = \"Hello\" \n",
    "print(str[1]) # e \n",
    "print(\"ABCD\"[0]) # A \n",
    "print(str[-1]) # o\n",
    "# Negative values start at end and go backward\n",
    "    "
   ]
  },
  {
   "cell_type": "markdown",
   "metadata": {},
   "source": [
    "Read all more about strings [here](https://www.python.org/dev/peps/pep-0498/).\n",
    "```text\n",
    " Example 9\n",
    "How many of the following are valid Python strings?\n",
    "1. \"\"\n",
    "2. ''\n",
    "3. \"a\"\n",
    "4. \" \"\n",
    "5. \"\"\"\n",
    "6. \"Joe\\' Smith\\\"\"\n",
    "A) 1 B) 2 C) 4 D) 5 E) 6\n",
    "```\n",
    "\n",
    "```text\n",
    "    Answer:\n",
    "How many of the following are valid Python strings?\n",
    "1. \"\"\n",
    "2. ''\n",
    "3. \"a\"\n",
    "4. \" \"\n",
    "5. \"\"\"\n",
    "6. \"Joe\\' Smith\\\"\"\n",
    "A) 1 B) 2 C) 4 D) 5 E) 6\n",
    "```\n",
    "### Python String Functions and Methods\n",
    "Suppose:\n",
    "    st = \"Hello\" \n",
    "    st2 = \"Goodbye\"\n",
    "| Operation       | Syntax    | Example | Output   |\n",
    "| :------------- | :----------: | -----------:  | -----------: |\n",
    "|  Length |len()  |len(st) |5 |\n",
    "|Upper case|upper()| st.upper() |HELLO|\n",
    "|Lower case|lower() |st.lower()|hello|\n",
    "|Convert to a string|str()| str(9)|\"9\"|\n",
    "|Concatenation|+ |st1 + st2|HelloGoodbye|\n",
    "|Substring|[]|st[0:3] st[1:]|Hel ello|\n",
    "|String to int|int()|int(\"99\")|99|\n",
    "## Dot Notation\n",
    "- Like VBA, you will notice that python uses the dot operator to perform methods on objects (read more [here](https://python4astronomers.github.io/python/objects.html)).\n",
    "- Every constant, variable, or function in Python is actually a object with a type and associated attributes and methods.\n",
    "- A method is a function that is attached to an object (read more about this [here](https://data-flair.training/blogs/python-method-and-function/))\n",
    "- [Here](https://www.w3schools.com/python/python_ref_string.asp) are some more examples of string methods.\n",
    "\n",
    "## String Operators: Concatenation\n",
    "The concatenation operator is used to combine two strings into a single string. The notation is a plus sign “+\".\n",
    "􏰀 - Example:"
   ]
  },
  {
   "cell_type": "code",
   "execution_count": 9,
   "metadata": {},
   "outputs": [
    {
     "name": "stdout",
     "output_type": "stream",
     "text": [
      "Hello5 World!\n"
     ]
    }
   ],
   "source": [
    "st1 = \"Hello\"\n",
    "st2 = \"World!\"\n",
    "num = 5\n",
    "\n",
    "print(st1 + str(num) + \" \" + st2)"
   ]
  },
  {
   "cell_type": "code",
   "execution_count": 8,
   "metadata": {},
   "outputs": [
    {
     "name": "stdout",
     "output_type": "stream",
     "text": [
      "HelloHello\n",
      "HelloWorld!\n"
     ]
    }
   ],
   "source": [
    "st3 = st1 + st2 # HelloWorld! \n",
    "print(st1+st1)\n",
    "print(st3)"
   ]
  },
  {
   "cell_type": "markdown",
   "metadata": {},
   "source": [
    " ### String Operators: Concatenation\n",
    " Note that we must hard code spaces if we want them:"
   ]
  },
  {
   "cell_type": "code",
   "execution_count": 9,
   "metadata": {},
   "outputs": [
    {
     "name": "stdout",
     "output_type": "stream",
     "text": [
      "Hello World!\n"
     ]
    }
   ],
   "source": [
    "st4 = st1 +\" \"+ st2 \n",
    "print(st4)z\n"
   ]
  },
  {
   "cell_type": "markdown",
   "metadata": {},
   "source": [
    " ```text\n",
    " Concatenate with numbers and strings\n",
    "We must convert numbers to strings before concatenation.\n",
    "\n",
    " ```"
   ]
  },
  {
   "cell_type": "code",
   "execution_count": 10,
   "metadata": {},
   "outputs": [
    {
     "ename": "TypeError",
     "evalue": "'str' object is not callable",
     "output_type": "error",
     "traceback": [
      "\u001b[0;31m---------------------------------------------------------------------------\u001b[0m",
      "\u001b[0;31mTypeError\u001b[0m                                 Traceback (most recent call last)",
      "\u001b[0;32m<ipython-input-10-cba2fe5c7a62>\u001b[0m in \u001b[0;36m<module>\u001b[0;34m\u001b[0m\n\u001b[1;32m      1\u001b[0m \u001b[0mnum\u001b[0m \u001b[0;34m=\u001b[0m \u001b[0;36m5\u001b[0m\u001b[0;34m\u001b[0m\u001b[0;34m\u001b[0m\u001b[0m\n\u001b[0;32m----> 2\u001b[0;31m \u001b[0mprint\u001b[0m\u001b[0;34m(\u001b[0m\u001b[0mst1\u001b[0m\u001b[0;34m+\u001b[0m\u001b[0mstr\u001b[0m\u001b[0;34m(\u001b[0m\u001b[0mnum\u001b[0m\u001b[0;34m)\u001b[0m\u001b[0;34m)\u001b[0m\u001b[0;34m\u001b[0m\u001b[0;34m\u001b[0m\u001b[0m\n\u001b[0m",
      "\u001b[0;31mTypeError\u001b[0m: 'str' object is not callable"
     ]
    }
   ],
   "source": [
    "num = 5\n",
    "print(st1+str(num)) "
   ]
  },
  {
   "cell_type": "markdown",
   "metadata": {},
   "source": [
    " N.B. we can mix types in the print() function, i.e. without concatenation. Notice how print() inserts spaces between inputs:"
   ]
  },
  {
   "cell_type": "code",
   "execution_count": null,
   "metadata": {},
   "outputs": [],
   "source": [
    "print(st1,num, 100, \"hi there\", \"byethere\")"
   ]
  },
  {
   "cell_type": "markdown",
   "metadata": {},
   "source": [
    "### String Operators: Deleting objects\n",
    "If you have been following along with me, you will find that the code on the previous slide does not work.\n",
    "This is because str is no longer treated as a function because I assigned \"Hello\" to this object on slide ??.\n",
    "To delete this object we can type:\n",
    "```text\n",
    "del str\n",
    "```\n",
    "Now we are free to use the function str() as desired.\n",
    "\n",
    "```text\n",
    " Example 10\n",
    "What is the output of this code?\n",
    "st1 = \"Hello\"\n",
    "st2 = \"World!\"\n",
    "num = 5\n",
    "print(st1 + str(num) + \" \" + st2)\n",
    "A) Error\n",
    "B) Hello5World! C) Hello5 World D) Hello 5 World\n",
    "```\n",
    "```text\n",
    " Answer:\n",
    "What is the output of this code?\n",
    "st1 = \"Hello\"\n",
    "st2 = \"World!\"\n",
    "num = 5\n",
    "print(st1 + str(num) + \" \" + st2)\n",
    "A) Error\n",
    "B) Hello5World! C) Hello5 World! D) Hello 5 World!\n",
    "```\n",
    "### Substrings (slicing)\n",
    "The substring function will return a range of characters from a string. The general syntax is st[start:end]\n",
    "```text\n",
    "Substring indexing/slicing\n",
    "􏰀 - The start is inclusive the end is exclusive.\n",
    "􏰀 - If start is not provided, it defaults to 0.\n",
    "􏰀 - If end is not provided, it defaults to the end of the string.\n",
    " \n",
    "```\n",
    " Example:\n",
    "```text\n",
    "st = \"Fantastic\" \n",
    "print(st[1])  # a\n",
    "print(st[0:6]) # Fantas\n",
    "print(st[4:]) # astic\n",
    "print(st[:5]) # Fanta\n",
    "print(st[-6:-2])# tast\n",
    "```\n",
    "```text\n",
    " Example 11\n",
    "What is the output of this code:\n",
    "st = \"ABCDEFG\"\n",
    "print(st[1] + st[2:4] + st[3:] + st[:4])\n",
    "A) ABCDCDEFGABCD \n",
    "B) ABCDEFGABC\n",
    "C) BCDDEFGABCDE\n",
    "D) BCDDEFGABCD \n",
    "E) BCDECDEFGABC\n",
    "```\n",
    "```text\n",
    " Answer:\n",
    "What is the output of this code:\n",
    "st = \"ABCDEFG\"\n",
    "print(st[1] + st[2:4] + st[3:] + st[:4])\n",
    "A) ABCDCDEFGABCD\n",
    "B) ABCDEFGABC\n",
    "C) BCDDEFGABCDE \n",
    "D) BCDDEFGABCD \n",
    "E) BCDECDEFGABC\n",
    "```\n",
    "### Split\n",
    "The split function will divide a string based on a separator. Without any arguments, it splits on whitespace,"
   ]
  },
  {
   "cell_type": "code",
   "execution_count": null,
   "metadata": {
    "scrolled": true
   },
   "outputs": [],
   "source": [
    "st = \"Awesome coding! Very good!\" \n",
    "print(st.split())"
   ]
  },
  {
   "cell_type": "markdown",
   "metadata": {},
   "source": [
    "```\n",
    "otherwise is splits where ever it sees the inputted separator:\n",
    "```"
   ]
  },
  {
   "cell_type": "code",
   "execution_count": null,
   "metadata": {},
   "outputs": [],
   "source": [
    "print(st.split(\"!\"))"
   ]
  },
  {
   "cell_type": "markdown",
   "metadata": {},
   "source": [
    "['Awesome coding', ' Very good', '']\n",
    "\n",
    "### Split\n",
    "This is very useful when we have, for example, comma separated values (csv):\n",
    "```text\n",
    ">>> st = 'data,csv,100,50,,25,\"use split\",99' \n",
    ">>> print(st.split(\",\"))\n",
    "['data', 'csv', '100', '50',\n",
    "'', '25', '\"use split\"', '99']\n",
    "```\n",
    "Note that the returned object is a Python [list](https://www.w3schools.com/python/python_lists.asp%7C) (more on these later).\n",
    "```text\n",
    " Example 12\n",
    "Assume:\n",
    "􏰀 - name = \"Joe\" \n",
    "     age = 25\n",
    "Write a Python program that prints out your name and age stored in variables like this:\n",
    "```\n",
    "```text\n",
    "Example 13\n",
    "Assume:\n",
    "􏰀 - name = \"Steve Smith\"\n",
    "Use substring, write a Python program that prints out the first\n",
    "name and last name of Steve Smith like below. 􏰀\n",
    "         - First Name: Steve\n",
    "            Last Name: Smith\n",
    "Bonus challenge: Recode so that it would work with any name.\n",
    "```"
   ]
  },
  {
   "cell_type": "code",
   "execution_count": 14,
   "metadata": {},
   "outputs": [
    {
     "data": {
      "text/plain": [
       "['Use', 'substring', 'write', 'a', 'Python', 'program']"
      ]
     },
     "execution_count": 14,
     "metadata": {},
     "output_type": "execute_result"
    }
   ],
   "source": [
    "stringA = \"Use, substring, write, a, Python, program\"\n",
    "\n",
    "stringA_aslist = stringA.split(', ')\n",
    "\n",
    "stringA_aslist"
   ]
  },
  {
   "cell_type": "code",
   "execution_count": 15,
   "metadata": {},
   "outputs": [
    {
     "data": {
      "text/plain": [
       "'a'"
      ]
     },
     "execution_count": 15,
     "metadata": {},
     "output_type": "execute_result"
    }
   ],
   "source": [
    "stringA_aslist[3]"
   ]
  },
  {
   "cell_type": "markdown",
   "metadata": {},
   "source": [
    "### Print Formatting\n",
    "One of the most obvious changes between Python 2 and Python 3 is how they use print:\n",
    "            print \"Hello\"\n",
    "and Python 3:\n",
    "           print(\"Hello\")\n",
    "In Python3, the print method can accept parameters for formatting. See some examples on the next slide . . .\n",
    "### Print Formatting\n",
    "```text\n",
    "print(\"Hi\", \"Amy\", \", your age is\", 21)\n",
    "print(\"Hi {}, your age is {}\".format(\"Amy\",21)) \n",
    "print(\"Hi {1}, your age is {0}\".format(21,\"Amy\")) print(\"Hi {name}, your age is {age}\".format(age=21, name=\"Amy\"))\n",
    "```\n",
    "- We can think of {} as placeholder arguments for the inputs given in format\n",
    "- By default, these inputs will be added in the string in order (the input0 will appear in the first place holder, input1 in the second place holder, etc.\n",
    "- If we want to read input1 before input0, we need to refer to it by its integer index via {1} or by its name if we have provided one {age}\n",
    "\n",
    "### List Overview\n",
    "\n",
    "- A list is a collection of data items that are referenced by index. I Lists in Python are similar to arrays in other programming languages\n",
    "    - A list allows multiple data items to be referenced by one name and retrieved by index.\n",
    "- I Python list:\n",
    "        ![alt text](../../images/06Python/pythonlist.png)\n",
    " "
   ]
  },
  {
   "cell_type": "code",
   "execution_count": 17,
   "metadata": {},
   "outputs": [
    {
     "name": "stdout",
     "output_type": "stream",
     "text": [
      "I like apple and apple dessert\n",
      "I like banana and banana dessert\n",
      "I like grapes and grapes dessert\n"
     ]
    }
   ],
   "source": [
    "fruits = ['apple', 'banana', 'grapes']\n",
    "\n",
    "for fr in fruits:\n",
    "    print(\"I like {0} and {1}\".format(fr,fr+\" dessert\"))"
   ]
  },
  {
   "cell_type": "code",
   "execution_count": 18,
   "metadata": {},
   "outputs": [],
   "source": [
    "from datetime import datetime "
   ]
  },
  {
   "cell_type": "code",
   "execution_count": 19,
   "metadata": {},
   "outputs": [
    {
     "data": {
      "text/plain": [
       "datetime.datetime(2020, 10, 7, 16, 17, 15, 661619)"
      ]
     },
     "execution_count": 19,
     "metadata": {},
     "output_type": "execute_result"
    }
   ],
   "source": [
    "datetime.now() - import "
   ]
  },
  {
   "cell_type": "code",
   "execution_count": 20,
   "metadata": {},
   "outputs": [
    {
     "data": {
      "text/plain": [
       "datetime.datetime"
      ]
     },
     "execution_count": 20,
     "metadata": {},
     "output_type": "execute_result"
    }
   ],
   "source": [
    "type(datetime.now())"
   ]
  },
  {
   "cell_type": "code",
   "execution_count": 22,
   "metadata": {},
   "outputs": [
    {
     "data": {
      "text/plain": [
       "1602112708.4995809"
      ]
     },
     "execution_count": 22,
     "metadata": {},
     "output_type": "execute_result"
    }
   ],
   "source": [
    "import time\n",
    "\n",
    "time.time()"
   ]
  },
  {
   "cell_type": "code",
   "execution_count": 29,
   "metadata": {},
   "outputs": [
    {
     "name": "stdout",
     "output_type": "stream",
     "text": [
      "two\n"
     ]
    }
   ],
   "source": [
    "n = 3\n",
    "\n",
    "if n<1:\n",
    "    print(\"one\")\n",
    "elif n>2:\n",
    "    print(\"two\")\n",
    "elif n == 3:\n",
    "    print(\"three\")"
   ]
  },
  {
   "cell_type": "markdown",
   "metadata": {},
   "source": [
    "### Retrieving Items from a list\n",
    "- Items are retrieved by index (starting from 0) using square brackets:"
   ]
  },
  {
   "cell_type": "code",
   "execution_count": null,
   "metadata": {},
   "outputs": [],
   "source": [
    "\n",
    "data = [100, 200, 300, 'one', 'two', 600]\n",
    "print(data[0])# 100\n",
    "print(data[4])# 'two'\n",
    "print(data[len(data)-1]) # 600\n",
    "print(data[-1])# 600\n",
    "print(data[2:4])# [300, 'one']\n",
    "print(data[6]) # error ? out of range\n",
    "\n"
   ]
  },
  {
   "cell_type": "markdown",
   "metadata": {},
   "source": [
    "- You can create an empty list using:"
   ]
  },
  {
   "cell_type": "code",
   "execution_count": null,
   "metadata": {},
   "outputs": [],
   "source": [
    "\n",
    "emptyList = []\n"
   ]
  },
  {
   "cell_type": "markdown",
   "metadata": {},
   "source": [
    "### List manipulation\n",
    "- We can modify a single value by use of indices and the assignment operator ="
   ]
  },
  {
   "cell_type": "code",
   "execution_count": null,
   "metadata": {},
   "outputs": [],
   "source": [
    "\n",
    "data = [1,2,3,5] \n",
    "data[2] = 7\n",
    "print(data)\n"
   ]
  },
  {
   "cell_type": "markdown",
   "metadata": {},
   "source": [
    "- We can also modify multiple values at a time in the following way:"
   ]
  },
  {
   "cell_type": "code",
   "execution_count": null,
   "metadata": {},
   "outputs": [],
   "source": [
    "\n",
    "data[0:1] = [\"one\",\"two\"]  \n",
    "print(data)\n"
   ]
  },
  {
   "cell_type": "markdown",
   "metadata": {},
   "source": [
    "### Appending to a list\n",
    "- I Notice that when we try to add a value to the end of the list, we get an error:"
   ]
  },
  {
   "cell_type": "code",
   "execution_count": null,
   "metadata": {},
   "outputs": [],
   "source": [
    "\n",
    "data[5] = 10\n"
   ]
  },
  {
   "cell_type": "markdown",
   "metadata": {},
   "source": [
    "-  To add an item to the end of the list, use append().\n",
    "### Appending to a list\n",
    "- Notice how append()doesn’t return a new list; rather it modifies the original list."
   ]
  },
  {
   "cell_type": "code",
   "execution_count": null,
   "metadata": {},
   "outputs": [],
   "source": [
    "data = [1,2,3,5] \n",
    "data.append(7) \n",
    "print(data)"
   ]
  },
  {
   "cell_type": "markdown",
   "metadata": {},
   "source": [
    "- I Alternatively we could have used"
   ]
  },
  {
   "cell_type": "code",
   "execution_count": null,
   "metadata": {},
   "outputs": [],
   "source": [
    "data = [1,2,3,5]\n",
    "data = data + [7]\n",
    "data"
   ]
  },
  {
   "cell_type": "markdown",
   "metadata": {},
   "source": [
    "### List in loops\n",
    "- We can iterate over a list in a for loop."
   ]
  },
  {
   "cell_type": "markdown",
   "metadata": {},
   "source": [
    "colours = ['red', 'yellow', 'green', 'blue'] \n",
    "for colour in colours:\n",
    "        print(colour)\n"
   ]
  },
  {
   "cell_type": "markdown",
   "metadata": {},
   "source": [
    "- Thefollowingcodeappendsthevaluesinione-by-onetothe empty list j."
   ]
  },
  {
   "cell_type": "code",
   "execution_count": null,
   "metadata": {},
   "outputs": [],
   "source": [
    "\n",
    "i = [1, 2, 3, 5, 8, 13] \n",
    "j = []\n",
    "for l in i:\n",
    "    j.append(l)\n"
   ]
  },
  {
   "cell_type": "markdown",
   "metadata": {},
   "source": [
    "### List append vs extend\n",
    "- append() adds its argument as a single element (eg. a number, a string or a another list) to the end of an existing list."
   ]
  },
  {
   "cell_type": "code",
   "execution_count": null,
   "metadata": {},
   "outputs": [],
   "source": [
    "x = [1, 2, 3] # len(x) = 3 \n",
    "x.append([4,5])\n",
    "x"
   ]
  },
  {
   "cell_type": "code",
   "execution_count": null,
   "metadata": {},
   "outputs": [],
   "source": [
    "len(x)"
   ]
  },
  {
   "cell_type": "markdown",
   "metadata": {},
   "source": [
    "- Notice how the length of the list increases by one.\n",
    "- If we want to add the elements one-by-one to the end of x we could either use a loop as we did in the previous slide of use the extend() function.\n",
    "\n",
    "### List extend\n",
    "- extend() iterates over its argument and adds each element to the list thereby extending the list.\n",
    "- The length of the list increases by number of elements in it’s argument."
   ]
  },
  {
   "cell_type": "code",
   "execution_count": null,
   "metadata": {},
   "outputs": [],
   "source": [
    "\n",
    "x = [1, 2, 3] # len(x) = 3 \n",
    "x.extend([4,5])\n",
    "x # len(x) = 5\n"
   ]
  },
  {
   "cell_type": "markdown",
   "metadata": {},
   "source": [
    "- Alternatively, we could have used"
   ]
  },
  {
   "cell_type": "code",
   "execution_count": null,
   "metadata": {},
   "outputs": [],
   "source": [
    "\n",
    "x = [1, 2, 3] # len(x) = 3\n",
    "x = x + [4,5]\n",
    "print(x)\n"
   ]
  },
  {
   "cell_type": "markdown",
   "metadata": {},
   "source": [
    "### List extend vs append example\n",
    "- Read more about the difference between the two [here](https://www.geeksforgeeks.org/append-extend-python/)"
   ]
  },
  {
   "cell_type": "code",
   "execution_count": null,
   "metadata": {},
   "outputs": [],
   "source": [
    "\n",
    "x = [1, 2, 3]\n",
    "x.append([4, 5]) \n",
    "print (x)\n"
   ]
  },
  {
   "cell_type": "code",
   "execution_count": null,
   "metadata": {},
   "outputs": [],
   "source": [
    "\n",
    "x[3]\n"
   ]
  },
  {
   "cell_type": "markdown",
   "metadata": {},
   "source": [
    "- where x[3] returns [4, 5] and x[4] returns an error."
   ]
  },
  {
   "cell_type": "code",
   "execution_count": null,
   "metadata": {},
   "outputs": [],
   "source": [
    "\n",
    "x = [1, 2, 3]\n",
    "x.extend([4, 5])\n",
    "print (x)\n",
    "\n",
    "x[3]    \n"
   ]
  },
  {
   "cell_type": "markdown",
   "metadata": {},
   "source": [
    "### List Operations\n",
    "- If data = [1, 2, 3, 5] and lst = []\n",
    "\n",
    "| Operation       | Syntax    | Example | Output   |\n",
    "| :------------- | :----------: | -----------:  | -----------: |\n",
    "|  Add item |<list>.append(val)  |data.append(1) |[1, 2, 3, 5, 1]  |\n",
    "|Insert item|<list>.insert(idx,val)| data.insert(3,4) |[1, 2, 3, 4, 5]|\n",
    "|Remove item|<list>.remove(val)|data.remove(5)|[1, 2, 3]|\n",
    "|Update item|list[idx]=val|data[0]=10|[10, 2, 3, 5]|\n",
    "|Length of list|len(<list>)|len(data)|4|\n",
    "|Slice of list|list[x:y]|data[0:3]|[1, 2, 3]|\n",
    "|Find index|<list>.index(val)|data.index(5)|3|\n",
    "|Sort list|<list>.sort()|data.sort()|[1, 2,3,5]|\n",
    "|Add|lst = []|lst.append(1)|[1]|\n",
    "\n",
    "- See more [here](https://www.programiz.com/python-programming/methods/list/insert)\n",
    "\n",
    "### List details\n",
    "- It was mentioned already but its worth repeating...\n",
    "- For loops that are used to iterate though items in a list:\n",
    "    "
   ]
  },
  {
   "cell_type": "code",
   "execution_count": null,
   "metadata": {},
   "outputs": [],
   "source": [
    "\n",
    "data = [5,9,-2,9] \n",
    "for v in data:\n",
    "    print(v)\n"
   ]
  },
  {
   "cell_type": "markdown",
   "metadata": {},
   "source": [
    "### List details\n",
    "\n",
    "- Note that this is not restricted to numbers:"
   ]
  },
  {
   "cell_type": "code",
   "execution_count": null,
   "metadata": {},
   "outputs": [],
   "source": [
    "data = [\"apples\", \"bananas\",\"oranges\"] \n",
    "for v in data:\n",
    "    print(v)\n"
   ]
  },
  {
   "cell_type": "markdown",
   "metadata": {},
   "source": [
    "- prints apples, bananas, oranges (each on a separate line).\n",
    "- We could even iterate through characters in a string:"
   ]
  },
  {
   "cell_type": "code",
   "execution_count": null,
   "metadata": {},
   "outputs": [],
   "source": [
    "\n",
    "for v in \"bananas\": \n",
    "    print(v)\n",
    "\n"
   ]
  },
  {
   "cell_type": "markdown",
   "metadata": {},
   "source": [
    "- prints b, a, n, a, n, a, s (each letter on a separate line)\n",
    "\n",
    "### List details\n",
    "- If we want to iterate through both index and value, we could use the [enumerate()](https://book.pythontips.com/en/latest/enumerate.html) function."
   ]
  },
  {
   "cell_type": "code",
   "execution_count": null,
   "metadata": {},
   "outputs": [],
   "source": [
    "\n",
    "data = ['apple', 'banana', 'grapes', 'pear'] \n",
    "for c, value in enumerate(data):\n",
    "        print(c, value)"
   ]
  },
  {
   "cell_type": "markdown",
   "metadata": {},
   "source": [
    "If we want our index to start at 1 rather than 0, we could specify that as the second argument: [enumerate()](https://book.pythontips.com/en/latest/enumerate.html) function."
   ]
  },
  {
   "cell_type": "code",
   "execution_count": null,
   "metadata": {},
   "outputs": [],
   "source": [
    "\n",
    "data = ['apple', 'banana', 'grapes', 'pear']\n",
    "for c, value in enumerate(data, 1):\n",
    "      print(c, value)\n"
   ]
  },
  {
   "cell_type": "markdown",
   "metadata": {},
   "source": [
    "### Advanced: Python List Comprehensions\n",
    "- [List comprehensions](https://docs.python.org/3/tutorial/datastructures.html%23list-comprehensions) build a list using values that satisfy a criteria. \n",
    "- Example:"
   ]
  },
  {
   "cell_type": "code",
   "execution_count": null,
   "metadata": {},
   "outputs": [],
   "source": [
    "\n",
    "evenNums100 = [n for n in range(101) if n%2==0]\n"
   ]
  },
  {
   "cell_type": "markdown",
   "metadata": {},
   "source": [
    "- Equivalent to:"
   ]
  },
  {
   "cell_type": "code",
   "execution_count": null,
   "metadata": {},
   "outputs": [],
   "source": [
    "\n",
    "evenNums100 = [] \n",
    "for n in range(101):\n",
    "      if n%2==0: \n",
    "        evenNums100.append(n)\n"
   ]
  },
  {
   "cell_type": "markdown",
   "metadata": {},
   "source": [
    "### Advanced: Python List Slicing\n",
    "- List slicing allows for using range notation to retrieve only certain elements in the list by index.\n",
    "- Syntax:\n",
    "-  list[start:end:step]\n",
    "- Example:"
   ]
  },
  {
   "cell_type": "code",
   "execution_count": null,
   "metadata": {},
   "outputs": [],
   "source": [
    "\n",
    "data = list(range(1,11))\n",
    "print(data) # [1, 2, 3, 4, 5, 6, 7, 8, 9, 10]\n",
    "print(data[1:8:2]) # [2, 4, 6, 8] \n",
    "print(data[1::3]) # [2, 5, 8]\n"
   ]
  },
  {
   "cell_type": "markdown",
   "metadata": {},
   "source": [
    "```\n",
    " Example 12\n",
    "At what index is item with value 3?\n",
    " data = [1, 2, 3, 4, 5]\n",
    " data.remove(3) \n",
    " data.insert(1, 3)\n",
    " data.append(2) \n",
    " data.sort()\n",
    " data = data[1:4]\n",
    "A) 0 B) 1 C) 2 D) 3E) not there\n",
    "```\n",
    "\n",
    "```\n",
    " Answer:\n",
    "At what index is item with value 3?\n",
    " data = [1, 2, 3, 4, 5] \n",
    " data.remove(3) \n",
    " data.insert(1, 3)\n",
    " data.append(2)\n",
    " data.sort()\n",
    " data = data[1:4]\n",
    "```\n",
    "A) 0 B) 1  ***C) 2***  D) 3E) not there\n",
    "\n",
    "### Try it: Lists\n",
    "```\n",
    "Example 13 (Question 1)\n",
    "Write a program that puts the numbers from 1 to 10 in a list then prints them by traversing the list.\n",
    "```\n",
    "```\n",
    "Example 14 (Question 2)\n",
    "Write a program that will multiply all elements in a list by 2. Bonus: try doing this using the enumerate() function.\n",
    "```\n",
    "```\n",
    "Example 15 (Question 3)\n",
    "Write a program that reads in a sentence from the user and splits the sentence into words using split(). Print only the words that are more than 3 characters long. At the end print the total num- ber of words.\n",
    "```    \n",
    "### Lists\n",
    "- In the previous example we use the list() function to create our list instead of the square brackets.\n",
    "- This constructs a list using the single input. This could be\n",
    "-  a sequence (eg. string, tuples) or\n",
    "-  a collection (set, dictionary) or\n",
    "-  a iterator object (like the objects iterated over in our for loops)\n",
    "- If no parameters are passed, it creates an empty list.\n",
    "\n",
    "### Tuples\n",
    "- A tuple is a collection which is ordered and unchangeable. To create tuples we use round brackets ()."
   ]
  },
  {
   "cell_type": "code",
   "execution_count": null,
   "metadata": {},
   "outputs": [],
   "source": [
    "\n",
    "thistuple = (\"apple\", \"banana\", \"cherry\") \n",
    "print(thistuple)\n"
   ]
  },
  {
   "cell_type": "markdown",
   "metadata": {},
   "source": [
    "- Elements in a tuple are referenced the same way as lists:"
   ]
  },
  {
   "cell_type": "code",
   "execution_count": null,
   "metadata": {},
   "outputs": [],
   "source": [
    "print(thistuple) \n",
    "thistuple[1]"
   ]
  },
  {
   "cell_type": "markdown",
   "metadata": {},
   "source": [
    "- Tuples are useful for storing some related information that belong together.\n",
    "\n",
    "- Unlike list, once a tuple is created, values can not be changed."
   ]
  },
  {
   "cell_type": "code",
   "execution_count": null,
   "metadata": {},
   "outputs": [],
   "source": [
    "\n",
    "thistuple[1]=\"pineapple\"\n"
   ]
  },
  {
   "cell_type": "markdown",
   "metadata": {},
   "source": [
    "- Notice that tuples are also iterable, meaning we can traverse through all the values. eg,"
   ]
  },
  {
   "cell_type": "code",
   "execution_count": null,
   "metadata": {},
   "outputs": [],
   "source": [
    "\n",
    "for i in thistuple:\n",
    "        print(i)\n",
    "# The above prints:\n"
   ]
  },
  {
   "cell_type": "markdown",
   "metadata": {},
   "source": [
    "### Python Sets\n",
    "- A set (like a mathematical set) is a collection which is unordered and unindexed.\n",
    "- Setsarewrittenwithcurlybrackets{}."
   ]
  },
  {
   "cell_type": "code",
   "execution_count": null,
   "metadata": {},
   "outputs": [],
   "source": [
    "# N.B they do not carry duplicates\n",
    "thisset = {\"apple\", \"banana\", \"cherry\", \"apple\"}\n",
    "print(thisset)\n"
   ]
  },
  {
   "cell_type": "markdown",
   "metadata": {},
   "source": [
    "- Since sets are unordered, the items will appear in a random order and elements cannot be reference by index.\n",
    "- Againwecaniteratethougheachitemusingaforloop.\n",
    "- Read more about these [here](https://www.programiz.com/python-programming/set).\n",
    "\n",
    "### Python Dictionary\n",
    "- A [dictionary](https://www.w3schools.com/python/python_dictionaries.asp) is a collection which is unordered, changeable and indexed. We create them with curly brackets and specify their keys and values."
   ]
  },
  {
   "cell_type": "code",
   "execution_count": null,
   "metadata": {},
   "outputs": [],
   "source": [
    "thisdict = {\n",
    "    \"key1\":\"value1\",\n",
    "    \"key2\":\"value2\",\n",
    "    \"key3\":\"value3\",\n",
    "}\n",
    "print(thisdict)\n"
   ]
  },
  {
   "cell_type": "markdown",
   "metadata": {},
   "source": [
    "- N.B Keys should be unique. If you create different values with the same key, Python will just overwrite the value of the duplicate keys."
   ]
  },
  {
   "cell_type": "code",
   "execution_count": null,
   "metadata": {},
   "outputs": [],
   "source": [
    "nono = {'key1':'this', 'key1':'that'} \n",
    "nono\n"
   ]
  },
  {
   "cell_type": "markdown",
   "metadata": {},
   "source": [
    "### Python Dictionary\n",
    "- We can now reference elements by a given name (i.e key) rather than the standard integers index."
   ]
  },
  {
   "cell_type": "code",
   "execution_count": null,
   "metadata": {},
   "outputs": [],
   "source": [
    "\n",
    "thisdict['key1']\n"
   ]
  },
  {
   "cell_type": "markdown",
   "metadata": {},
   "source": [
    "- Referencing by index won’t work (remember these are unordered)"
   ]
  },
  {
   "cell_type": "code",
   "execution_count": null,
   "metadata": {},
   "outputs": [],
   "source": [
    "thisdict[0]"
   ]
  },
  {
   "cell_type": "markdown",
   "metadata": {},
   "source": [
    "- Don’t get confused at try to do indexing using the values rather than the keys! For instance the following would produce an error:"
   ]
  },
  {
   "cell_type": "code",
   "execution_count": null,
   "metadata": {},
   "outputs": [],
   "source": [
    "\n",
    "thisdict['value1']\n"
   ]
  },
  {
   "cell_type": "markdown",
   "metadata": {},
   "source": [
    "### Python Dictionary\n",
    "- If we wanted to, we could always use integers for the keys (in that case we don’t need quotes around them when indexing using square brackets)."
   ]
  },
  {
   "cell_type": "code",
   "execution_count": null,
   "metadata": {},
   "outputs": [],
   "source": [
    "dict = {1:'one', 2:'two', 3:'three'}\n",
    "print(dict[1]) # one\n",
    "print(dict['one']) # error - key not found\n",
    "if 2 in dict:# check if key exists \n",
    "print(dict[2])# 'two'"
   ]
  },
  {
   "cell_type": "markdown",
   "metadata": {},
   "source": [
    "- We can add/delete and view keys/values using the following:"
   ]
  },
  {
   "cell_type": "code",
   "execution_count": null,
   "metadata": {},
   "outputs": [],
   "source": [
    "\n",
    "dict[4] = 'four' # Add 4:'four'\n",
    "del dict[1] # Remove key 1\n",
    "dict.keys() # Returns keys\n",
    "dict.values()# Returns values"
   ]
  },
  {
   "cell_type": "markdown",
   "metadata": {},
   "source": [
    "### Python Dictionary\n",
    "- Iterating over a dictionary will return the keys"
   ]
  },
  {
   "cell_type": "code",
   "execution_count": null,
   "metadata": {},
   "outputs": [],
   "source": [
    "dict = {'Martha':4, 'Janet':17, 'Peter':10}\n",
    "dict['Anna'] = 20 \n",
    "for i in dict:\n",
    "      print(i)"
   ]
  },
  {
   "cell_type": "markdown",
   "metadata": {},
   "source": [
    "- To get the values use:"
   ]
  },
  {
   "cell_type": "code",
   "execution_count": null,
   "metadata": {},
   "outputs": [],
   "source": [
    "for i in dict: \n",
    "      print(dict[i]) # or \n",
    "for i in dict.values(): \n",
    "      print(i)"
   ]
  },
  {
   "cell_type": "markdown",
   "metadata": {},
   "source": [
    "### Python Dictionary\n",
    "- To access both keys and values use:"
   ]
  },
  {
   "cell_type": "code",
   "execution_count": null,
   "metadata": {},
   "outputs": [],
   "source": [
    "\n",
    "# option 1:\n",
    "# i = key, dict[i] = value \n",
    "for i in dict:\n",
    "    print(\"key = \", i, \"value = \", dict[i])\n"
   ]
  },
  {
   "cell_type": "code",
   "execution_count": null,
   "metadata": {},
   "outputs": [],
   "source": [
    "\n",
    "# option 2:\n",
    "for key, val in dict.items():\n",
    "    print(\"key = \", key, \"values =\", val)\n"
   ]
  },
  {
   "cell_type": "markdown",
   "metadata": {},
   "source": [
    "### Summary of Python Structures\n",
    "- Lists can be altered and hold different data types:"
   ]
  },
  {
   "cell_type": "code",
   "execution_count": 11,
   "metadata": {},
   "outputs": [
    {
     "name": "stdout",
     "output_type": "stream",
     "text": [
      "<class 'int'>\n",
      "<class 'str'>\n",
      "<class 'list'>\n"
     ]
    }
   ],
   "source": [
    "lectures = [1,2,['excelI','excelII'],'CommandLine']\n",
    " # can delete individual items\n",
    "del lectures[3]\n",
    "# reassign values\n",
    "lectures[1] = 'Introduction' \n",
    "print(type(lectures[0])) # <class 'int'> \n",
    "print(type(lectures[1])) # <class 'str'> \n",
    "print(type(lectures[2])) # <class 'list'>"
   ]
  },
  {
   "cell_type": "markdown",
   "metadata": {},
   "source": [
    "- Tuples are immutable (we can’t change the values):"
   ]
  },
  {
   "cell_type": "code",
   "execution_count": 12,
   "metadata": {},
   "outputs": [
    {
     "ename": "TypeError",
     "evalue": "'tuple' object doesn't support item deletion",
     "output_type": "error",
     "traceback": [
      "\u001b[0;31m---------------------------------------------------------------------------\u001b[0m",
      "\u001b[0;31mTypeError\u001b[0m                                 Traceback (most recent call last)",
      "\u001b[0;32m<ipython-input-12-1998bcebb9c7>\u001b[0m in \u001b[0;36m<module>\u001b[0;34m\u001b[0m\n\u001b[1;32m      1\u001b[0m \u001b[0mtopics\u001b[0m\u001b[0;34m=\u001b[0m \u001b[0;34m(\u001b[0m\u001b[0;36m1\u001b[0m\u001b[0;34m,\u001b[0m\u001b[0;36m2\u001b[0m\u001b[0;34m,\u001b[0m\u001b[0;34m[\u001b[0m\u001b[0;34m'excel1'\u001b[0m\u001b[0;34m,\u001b[0m\u001b[0;34m'excel2'\u001b[0m\u001b[0;34m]\u001b[0m\u001b[0;34m,\u001b[0m\u001b[0;34m'CommandLine'\u001b[0m\u001b[0;34m)\u001b[0m\u001b[0;34m\u001b[0m\u001b[0;34m\u001b[0m\u001b[0m\n\u001b[0;32m----> 2\u001b[0;31m \u001b[0;32mdel\u001b[0m \u001b[0mtopics\u001b[0m\u001b[0;34m[\u001b[0m\u001b[0;36m3\u001b[0m\u001b[0;34m]\u001b[0m\u001b[0;34m\u001b[0m\u001b[0;34m\u001b[0m\u001b[0m\n\u001b[0m",
      "\u001b[0;31mTypeError\u001b[0m: 'tuple' object doesn't support item deletion"
     ]
    }
   ],
   "source": [
    "topics= (1,2,['excel1','excel2'],'CommandLine')\n",
    "del topics[3]"
   ]
  },
  {
   "cell_type": "code",
   "execution_count": null,
   "metadata": {},
   "outputs": [],
   "source": [
    "type(topics[2])"
   ]
  },
  {
   "cell_type": "markdown",
   "metadata": {},
   "source": [
    "- Sets do not hold duplicate values and are unordered."
   ]
  },
  {
   "cell_type": "code",
   "execution_count": null,
   "metadata": {},
   "outputs": [],
   "source": [
    "myset={3,1,2,3,2}\n",
    "myset"
   ]
  },
  {
   "cell_type": "code",
   "execution_count": null,
   "metadata": {},
   "outputs": [],
   "source": [
    "myset[1]"
   ]
  },
  {
   "cell_type": "markdown",
   "metadata": {},
   "source": [
    "- Dictionaries hold key-value pairs (just like real life dictionaries hold word-meaning pairs)."
   ]
  },
  {
   "cell_type": "code",
   "execution_count": null,
   "metadata": {},
   "outputs": [],
   "source": [
    "\n",
    "wordoftheday = {'persiflage':'light, bantering talk or writing' , 'foment':'to instigate or foster'}\n",
    "wordoftheday['foment']\n"
   ]
  },
  {
   "cell_type": "code",
   "execution_count": null,
   "metadata": {},
   "outputs": [],
   "source": [
    "\n",
    "wordoftheday[1] # produces an error\n"
   ]
  },
  {
   "cell_type": "markdown",
   "metadata": {},
   "source": [
    "```\n",
    "Example 16\n",
    "What value is printed?\n",
    "data = {'one':1, 'two':2, 'three':3} data['four'] = 4\n",
    "sum = 0\n",
    "for k in data.keys():\n",
    "if len(k) > 3:\n",
    "sum = sum + data[k]\n",
    "print(sum)\n",
    "A) 7 B) 0 C) 10 D) 6 E) error\n",
    "```\n",
    "```\n",
    "Answer:\n",
    "At what index is item with value 3?\n",
    "data['four'] = 4\n",
    "sum = 0\n",
    "for k in data.keys():\n",
    "if len(k) > 3:\n",
    "sum = sum + data[k]\n",
    "print(sum)\n",
    "```\n",
    "***A)*** 7 B) 0 C) 10 D) 6 E) error\n",
    "\n",
    "### Try it: Dictionary\n",
    "```\n",
    "Example 17\n",
    "Write a program that will use a dictionary to record the frequency of each letter in a sentence. Read a sentence from the user then print out the number of each letter.\n",
    "```\n",
    "- Code to create the dictionary of letters:\n",
    "```\n",
    "import string\n",
    "counts = {}\n",
    "for letter in string.ascii_uppercase:\n",
    "      counts[letter] = 0 \n",
    "print(counts)\n",
    "```\n",
    "```\n",
    "Example 18\n",
    "Create the following two variables and write a Python program that prints the following output:\n",
    " name = \"Joe\" age = 25\n",
    " \n",
    " output\n",
    " Name: Joe\n",
    " Age: 25\n",
    "```\n",
    "```\n",
    " Example 19\n",
    "Define the variable:\n",
    "name = \"Steve Smith\"\n",
    "Use substring to write a Python program that prints out the first name and last name of Steve Smith like below.\n",
    "\n",
    "OUTPUT\n",
    "\n",
    "First Name: Steve\n",
    "Last Name: Smith\n",
    "```"
   ]
  },
  {
   "cell_type": "markdown",
   "metadata": {},
   "source": [
    "    \n",
    "### Python Modules\n",
    "- A Python module or library is code written by others for a specific purpose. Whenever coding, make sure to look for modules that are already written for you to make your development faster! Modules are imported using the import command:\n",
    "```\n",
    "                 import <modulename>\n",
    "```\n",
    "- Useful modules for data analytics:\n",
    "- Biopython (bioinformatics),\n",
    "- NumPy (scientific computing/linear algebra),\n",
    "- scikit-learn (machine learning), pandas (data structures), 􏰀 \n",
    "- BeautifulSoup (HTML/Web)\n",
    " \n",
    "### Python Date and Time\n",
    "Python supports date and time data types and functions. To use, import the datetime module using the following:\n",
    " ```text\n",
    " import datetime\n",
    " ```\n",
    "The general syntax to import the module named mymodule is:\n",
    "```text\n",
    "import mymodule\n",
    "```\n",
    "You can choose to import only parts from a module, by using the from keyword. For example, if we just want the object person1 from mymodule type:\n",
    "```text\n",
    "from mymodule import person1\n",
    "```\n",
    "Read more about this [here](https://www.w3schools.com/python/python_modules.asp[).\n",
    "\n",
    "### Python Date and Time\n",
    "We may choose to only import the datetime object from the datetime module (which happens to be the same name) using the following:"
   ]
  },
  {
   "cell_type": "code",
   "execution_count": null,
   "metadata": {},
   "outputs": [],
   "source": [
    "\n",
    "from datetime import datetime\n"
   ]
  },
  {
   "cell_type": "markdown",
   "metadata": {},
   "source": [
    "The datetime object has a method for formatting date objects\n",
    "into readable strings. Read more [here](https://www.w3schools.com/python/python_datetime.asp).\n",
    "\n",
    "### Python Date and Time\n",
    "Methods:"
   ]
  },
  {
   "cell_type": "code",
   "execution_count": null,
   "metadata": {},
   "outputs": [],
   "source": [
    "now = datetime.now()\n",
    "now = datetime.now()\n",
    "print(now)"
   ]
  },
  {
   "cell_type": "code",
   "execution_count": null,
   "metadata": {},
   "outputs": [],
   "source": [
    "current_year = now.year\n",
    "current_month = now.month\n",
    "current_day = now.day\n",
    "print(\"{}-{}-{} {}:{}:{}\".format(now.year, now.month, now.day, now.hour, now.minute, now.second))\n",
    "print(\"{}-{}-{} {}:{}:{}\".format(now.year, now.month, now.day, now.hour, now.minute, now.second))\n"
   ]
  },
  {
   "cell_type": "markdown",
   "metadata": {},
   "source": [
    "### Python Clock\n",
    "- The time module, is another useful module for handle time-related tasks.\n",
    "- The time() function for example, returns the current time in seconds.\n",
    "- On Linux machines, this is an integer counting the number of seconds passed since January 1, 1970, 00:00:00 (recall from Lecture 2).\n",
    "- This function can be useful when we want to time how long a process takes within our program. See an example on the next slide."
   ]
  },
  {
   "cell_type": "markdown",
   "metadata": {},
   "source": [
    "### Python Clock\n",
    "- Example:"
   ]
  },
  {
   "cell_type": "code",
   "execution_count": null,
   "metadata": {},
   "outputs": [],
   "source": [
    "import time\n",
    "startTime = time.time()\n",
    "print(\"Start time:\", startTime)\n",
    "print(\"How long will this take?\")\n",
    "endTime = time.time()\n",
    "print(\"End time:\", endTime)\n",
    "print(\"Time elapsed:\", endTime-startTime) \n"
   ]
  },
  {
   "cell_type": "markdown",
   "metadata": {},
   "source": [
    "### Python Input\n",
    "To read from the keyboard (standard input), use the method input:1\n",
    "􏰀 - Example:\n",
    "  name = input(\"What's your name?\") \n",
    "  print(name)\n",
    "  age = input(\"What's your age?\") \n",
    "  print(age)\n",
    "  \n",
    "### Try it: Python Input, Output, and Dates\n",
    "```text\n",
    "Example 14\n",
    "Write a program that reads a name and prints out the name, the length of the name, the first five characters of the name.\n",
    "```\n",
    "\n",
    "```text\n",
    "Example 15\n",
    "Print out the current date in YYYY/MM/DD format.\n",
    "\n",
    "```\n",
    "### Comparisons \n",
    "- A comparison operator compares two values. 􏰀 􏰀 \n",
    "- Examples:"
   ]
  },
  {
   "cell_type": "code",
   "execution_count": null,
   "metadata": {},
   "outputs": [],
   "source": [
    "N=10  \n",
    "5 < 10\n",
    "N > 5 # N is a variable. Answer depends on N."
   ]
  },
  {
   "cell_type": "markdown",
   "metadata": {},
   "source": [
    " Comparison Operators in Python: \n",
    "\n",
    "| Syntax      |Description|\n",
    "| :-------------  |:-------------  |\n",
    "|> |Greater than|\n",
    "|>=| Greater than or equal|\n",
    "|< |Less than|\n",
    "|<=| Less than or equal|\n",
    "|==| Equal (Note: Not \"=\" which is used for assignment!)|\n",
    "|!=| Not equal|\n",
    "\n",
    "\n",
    "### The result of a comparison is a Boolean value which is either True or False.\n",
    "\n",
    "Conditions with and, or, not\n",
    "A condition is an expression that is either True or False and may contain one or more comparisons. Conditions may be combined using: and, or, not.\n",
    "Order of evaluation: not, and, or. May change order with parentheses.\n",
    "\n",
    " | True if:      |Syntax| Examples      |Outpu|\n",
    "| :-------------  |:-------------  |:-------------  |:-------------  |\n",
    "| both are true|and|True and True False and True|True False|\n",
    "| either or both are T|or|True or True False or True False or False|True True False|\n",
    "| false|not|not True not False| False True|\n",
    "\n",
    "### Condition Examples"
   ]
  },
  {
   "cell_type": "code",
   "execution_count": null,
   "metadata": {},
   "outputs": [],
   "source": [
    "n=5\n",
    "v=8\n",
    "print(n > 5) #False\n",
    "print(n == v) #False\n",
    "print(n != v) # True\n",
    "print((n == v) and (n+4>v)) # False\n",
    "print((n == v) or (n+4>v)) # True\n",
    "print((n+1) == (v-2) or (not v>4)) # True print((n+1) == (v-2) or not v>4) and (n>5)) # False"
   ]
  },
  {
   "cell_type": "markdown",
   "metadata": {},
   "source": [
    "### Order of Operations\n",
    "Table: The order of operations for logicals. See complete list here\n",
    "\n",
    "\n",
    "\n",
    "| Syntax      |Description|\n",
    "| :-------------  |:-------------  |\n",
    "|()|brackets|\n",
    "|**|exponents|\n",
    "|* / % MOD|Multiplication, division, modulo|\n",
    "|+ -|Addition and subtraction|\n",
    "|< <= > >=|Comparisons: less-than and greater-than|\n",
    "|== !=|Comparisons: equal and not equal|\n",
    "|and|and|\n",
    "|or|or|\n",
    "|nots always bind to the condition immediate next to it|\n",
    "\n",
    "```text\n",
    "### Tip:\n",
    "I recommend always using brackets to avoid confusion.\n",
    "```\n",
    "```text\n",
    " Example 16\n",
    "How many of the following conditions are TRUE? \n",
    "1. True and False\n",
    "2. not True or not False\n",
    "3. 3 + 2 == 5 or 5 > 3 and 4 != 4\n",
    "4. (1 < 2 or 3 > 5) and (2 == 2 and 4 != 5)\n",
    "5. not (True or False) or True and (not False)\n",
    "\n",
    "A) 1 B) 2 C) 3 D) 4 E) 5\n",
    "```"
   ]
  },
  {
   "cell_type": "markdown",
   "metadata": {},
   "source": [
    "Python Flow Control\n",
    "### Decisions\n",
    "- Decisions are used in programming to specify one or more conditions to be tested, along with statement(s) to execute if the condition is true.\n",
    "- Acondit\n",
    "ion is an expression that is either True or False.\n",
    "- These conditions control the flow of you program and different statements will be carried out depending on the outcome of these conditions.\n",
    "- To build conditional statements we need to be able to write Boolean expressions.\n",
    "### Boolean Expressions\n",
    "- A Boolean expression is an expression that evaluates to a Boolean value <sup>1 </sup>.\n",
    "- A Boolean value is either True or False.\n",
    "Boolean values\n",
    "Boolean values are not strings. The Python type for storing True and False values is called bool."
   ]
  },
  {
   "cell_type": "code",
   "execution_count": null,
   "metadata": {},
   "outputs": [],
   "source": [
    "print(type(True)) "
   ]
  },
  {
   "cell_type": "code",
   "execution_count": null,
   "metadata": {},
   "outputs": [],
   "source": [
    "print(type(\"True\"))"
   ]
  },
  {
   "cell_type": "markdown",
   "metadata": {},
   "source": [
    "1. The name comes from George Boole, who first defined an algebraic system of logic in the mid 19th century\n",
    "\n",
    "### Boolean Expressions\n",
    "We can create Boolean expressions using:\n",
    "Relational operators/Comparisons: used to compare two values\n",
    "- Examples:"
   ]
  },
  {
   "cell_type": "code",
   "execution_count": null,
   "metadata": {},
   "outputs": [],
   "source": [
    "5 < 10 # returns True "
   ]
  },
  {
   "cell_type": "code",
   "execution_count": null,
   "metadata": {},
   "outputs": [],
   "source": [
    "N > 5  # N is a variable. Answer depends on N."
   ]
  },
  {
   "cell_type": "markdown",
   "metadata": {},
   "source": [
    "Logical operators: the logical operators and, or and not are used to combine relational operators.\n",
    "- Example: "
   ]
  },
  {
   "cell_type": "code",
   "execution_count": null,
   "metadata": {},
   "outputs": [],
   "source": [
    "n=1\n",
    "(n>5)and(v!=n)"
   ]
  },
  {
   "cell_type": "markdown",
   "metadata": {},
   "source": [
    "- The result these expressions are a Boolean value which is either True or False\n",
    "\n",
    "### Comparisons\n",
    "A condition is a Boolean expression that is either True or False and may contain one or more comparisons.\n",
    "\n",
    "The comparison operators in Python are summarized below:\n",
    "\n",
    "\n",
    "|Syntax|Description|\n",
    "| :------------- | :----------: |\n",
    "|>| Greater than|\n",
    "|>= |Greater than or equal|\n",
    "|<| Less than|\n",
    "|<=| Less than or equal|\n",
    "|==| Equal (Note: Not \"=\" which is used for assignment!)|\n",
    "|!=| Not equal|\n",
    "\n",
    "### Conditions with and, or, not\n",
    "Conditions may be combined using the relational operators and, or, not.\n",
    "\n",
    "|Syntax|Description|Examples|Output|\n",
    "| :------------- | :----------: | :------------- | :----------: |\n",
    "|both are true|and|True and True <br>False and True|True <br>False|\n",
    "|either or both are T|or|True or True <br>False or True<br>False or False|True <brTrue<br>FLase|\n",
    "|false|not|not True <br>not False|False <br> True|\n",
    "\n",
    "### Condition Examples"
   ]
  },
  {
   "cell_type": "code",
   "execution_count": null,
   "metadata": {
    "scrolled": true
   },
   "outputs": [],
   "source": [
    "n=5\n",
    "v=8\n",
    "print(n > 5) #False\n",
    "print(n == v) #False\n",
    "print(n != v) # True\n",
    "print((n == v) and (n+4>v)) # False\n",
    "print((n == v) or (n+4>v)) # True\n",
    "print((n+1) == (v-2) or (not v>4)) # True print((n+1) == (v-2) or not v>4) and (n>5)) # False"
   ]
  },
  {
   "cell_type": "markdown",
   "metadata": {},
   "source": [
    "### Order of Operations\n",
    "Table: The order of operations; see complete list [here](https://en.wikipedia.org/wiki/Order_of_operations#Programming_languages).\n",
    "\n",
    "|||\n",
    "| :------------- | :----------: | \n",
    "|()<br>**<br>* / % MOD<br>+ -<br>< <= > >=<br>== != <br>and<br> or|brackets <br>exponents Multiplication, division, modulo <br>Addition and subtraction<br>Comparisons: less-than and greater-than <br>Comparisons: equal and not equal<br>and<br>or|nots always bind to the condition immediate next to it|\n",
    "```text\n",
    "Tip:\n",
    "I recommend always using brackets to avoid confusion.\n",
    "```\n",
    "\n",
    "```text\n",
    "Example 16\n",
    "How many of the following conditions are TRUE?\n",
    "1. True and False\n",
    "2. not True or not False\n",
    "3. 3+2==5or5>3and4!=4\n",
    "4. (1<2or3>5)and(2==2and4!=5)\n",
    "5. not (True or False) or True and (not False)\n",
    "A) 1 B) 2 C) 3 D) 4 E) 5\n",
    "```\n",
    "```text \n",
    "Answer:\n",
    "How many of the following conditions are TRUE?\n",
    "1. True and False = True or False\n",
    "2. not True or not False = (not True) or (not False)\n",
    "3. 3+2==5or5>3and4!=4\n",
    "= (5 == 5) or (5 > 3) and (4 != 4) =(5==5)or((5>3)and(4!=4))# and first\n",
    "4. (1<2or3>5)and(2==2and4!=5) (1 < 2 or 3 > 5) and (2 == 2 and 4 != 5) (1 < 2 or 3 > 5) and (2 == 2 and 4 != 5)\n",
    "5. not (True or False) or True and (not False) not (True or False) or True and (not False) not (True or False) or True and (not False)\n",
    "```\n",
    "A) 1 B) 2 C) 3 D) **4** E) 5 "
   ]
  },
  {
   "cell_type": "markdown",
   "metadata": {},
   "source": [
    "### Decisions\n",
    "In Python decision syntax:\n",
    "## put an image here\n",
    "\n",
    "- Thestatement(s)aftertheifconditionisonlyperformedif the condition (i.e. Boolean expression) returns True.\n",
    "- Anystatement(s)followingthe(optional)else:conditionis only performed if the condition is False.\n",
    "\n",
    "```text\n",
    "Python syntax\n",
    "Remember that the indentation and colons are not optional!\n",
    "```\n",
    "### Decision Block Syntax\n",
    "- Statementslistedafteranif/elif/esleclausearenotonly indented for readability.\n",
    "- These indentation is also how Python knows which statements are part of the group of statements to be executed.\n",
    "- Statements with the same indentation belong to the same group called a suite.\n",
    "- Be consistent with either using tabs or spaces (no mixing)\n",
    "```text\n",
    "Tip: one-line if clause\n",
    "If the suite of an if clause consists of a single line, it may go on the same line as the header statement.\n",
    "```"
   ]
  },
  {
   "cell_type": "code",
   "execution_count": null,
   "metadata": {},
   "outputs": [],
   "source": [
    "if (n > 100): \n",
    "    print(\"n is large\")"
   ]
  },
  {
   "cell_type": "markdown",
   "metadata": {},
   "source": [
    "### Decisions if/elif Syntax\n",
    "Check out the difference for age = 20:"
   ]
  },
  {
   "cell_type": "code",
   "execution_count": null,
   "metadata": {},
   "outputs": [],
   "source": [
    "age = 20\n",
    "if age > 19:\n",
    "    print(\"Not a teenager\")\n",
    "    print(\"Sorry\") \n",
    "else:\n",
    "    print(\"You're young\") \n",
    "    print(\"ID checked\")"
   ]
  },
  {
   "cell_type": "code",
   "execution_count": null,
   "metadata": {},
   "outputs": [],
   "source": [
    "age = 20\n",
    "if age > 19:\n",
    "    print(\"Not a teenager\")\n",
    "    print(\"Sorry\") \n",
    "else:\n",
    "    print(\"You're young\") \n",
    "print(\"ID checked\")"
   ]
  },
  {
   "cell_type": "markdown",
   "metadata": {},
   "source": [
    "### Generic code:\n",
    "\n",
    "```\n",
    "    if (cond1):\n",
    "          Process 1\n",
    "          \n",
    "```\n",
    "          \n",
    " Example 1: \n",
    " "
   ]
  },
  {
   "cell_type": "code",
   "execution_count": null,
   "metadata": {},
   "outputs": [],
   "source": [
    "n=5\n",
    "if (n < 10):\n",
    "    n = 10"
   ]
  },
  {
   "cell_type": "markdown",
   "metadata": {},
   "source": [
    "n is now 10\n",
    "\n",
    "Example 2:"
   ]
  },
  {
   "cell_type": "code",
   "execution_count": null,
   "metadata": {},
   "outputs": [],
   "source": [
    "   n=5\n",
    "if (n > 10):\n",
    "     n = 10"
   ]
  },
  {
   "cell_type": "markdown",
   "metadata": {},
   "source": [
    "- Generic code:\n",
    "```\n",
    " if (cond1):\n",
    "     Process 1\n",
    " else:\n",
    "     Process 2\n",
    "```\n",
    "- Example 3:"
   ]
  },
  {
   "cell_type": "code",
   "execution_count": null,
   "metadata": {},
   "outputs": [],
   "source": [
    "n=5\n",
    "if (n > 10):\n",
    "    n = 10 \n",
    "else:\n",
    "    n=3 \n",
    " ### n is now 3"
   ]
  },
  {
   "cell_type": "markdown",
   "metadata": {},
   "source": [
    "### Decisions if/elif Syntax\n",
    "If there are more than two choices, use if/elif/else statements.<br> N.B. once a condition is met, no subsequent conditions are checked\n",
    "```\n",
    "if condition1:\n",
    "     Process 1\n",
    " elif condition2:\n",
    "     Process 2\n",
    " elif condition3:\n",
    "     Process 3\n",
    " else:\n",
    "     Process 4\n",
    "```"
   ]
  },
  {
   "cell_type": "code",
   "execution_count": null,
   "metadata": {},
   "outputs": [],
   "source": [
    "if n == 1: \n",
    "    print(\"one\")\n",
    "elif n == 2: \n",
    "    print(\"two\")\n",
    "elif n == 3: \n",
    "    print(\"three\")\n",
    "else:\n",
    "    print(\"Too big!\")\n",
    "print(\"Done!\")"
   ]
  },
  {
   "cell_type": "markdown",
   "metadata": {},
   "source": [
    "```text\n",
    "else\n",
    "Again, the else statement is an optional. There could be at most one else statement following an if\n",
    "```\n",
    "### if, elif, else\n",
    "\n",
    "## need a flow chart \n",
    "\n",
    "\n",
    "### Decisions if/elif Syntax"
   ]
  },
  {
   "cell_type": "code",
   "execution_count": null,
   "metadata": {},
   "outputs": [],
   "source": [
    "n=1 \n",
    "if n==1:\n",
    "    print(\"one\")\n",
    "elif n>0: # this condition is never checked since the\n",
    "# condition on line 2 has already been satisfied\n",
    "    print(\"positive number\")\n",
    "elif n==3:\n",
    "    print(\"three\")\n",
    "else:\n",
    "      print(\"Too big!\")\n",
    "print(\"and Done!\") # not part of the if statement"
   ]
  },
  {
   "cell_type": "markdown",
   "metadata": {},
   "source": [
    "The above returns:\n",
    "```text\n",
    "one <br>\n",
    "and Done!\n",
    "```\n",
    "### Decisions if/elif Syntax"
   ]
  },
  {
   "cell_type": "code",
   "execution_count": null,
   "metadata": {},
   "outputs": [],
   "source": [
    "n=3 \n",
    "if n==1:\n",
    "    print(\"one\") \n",
    "elif n>0:\n",
    "   print(\"positive number\")\n",
    "elif n == 3: # this condition is never checked since\n",
    "     # condition on line 4 has already been satisfied\n",
    "     print(\"three\")\n",
    "else:\n",
    "     print(\"Too big!\")\n",
    "print(\"and Done!\") # not part of the if statement"
   ]
  },
  {
   "cell_type": "markdown",
   "metadata": {},
   "source": [
    "The above returns:\n",
    "```text\n",
    "positive number<br>\n",
    " and Done!\n",
    "```\n",
    "### Decisions Multiple if statements\n",
    "I As mentioned previously, once a condition is met in an if/elif\n",
    "statement, no subsequent conditions are checked.\n",
    "I If we want all conditions to be checked we could use multiple\n",
    "if statements:\n",
    "\n",
    "```\n",
    "if condition1:\n",
    "    Process 1\n",
    "if condition2:\n",
    "    Process 2\n",
    "if condition3:\n",
    "    Process 3\n",
    "if condition4:\n",
    "    Process 4\n",
    "```"
   ]
  },
  {
   "cell_type": "markdown",
   "metadata": {},
   "source": [
    "n=3 \n",
    "if n>0:\n",
    "   print(\"positive number\")\n",
    "if n==3:\n",
    "   print(\"three\") \n",
    "if n<10:\n",
    "   print(\"single digit\")"
   ]
  },
  {
   "cell_type": "markdown",
   "metadata": {},
   "source": [
    "```\n",
    "Example 17\n",
    "\n",
    "What is the output of the following code?\n",
    "n=3\n",
    "if n < 1:\n",
    "  print(\"one\") \n",
    "elif n > 2:\n",
    "  print(\"two\") \n",
    "elif n == 3:\n",
    "  print(\"three\")\n",
    "A) nothing\n",
    "B) one\n",
    "C) two\n",
    "D) three\n",
    "E) error\n",
    "```\n",
    "```\n",
    "Answer:\n",
    "What is the output of the following code?\n",
    "n=3\n",
    "if n < 1:\n",
    "print(\"one\") elif n > 2:\n",
    "print(\"two\") elif n == 3:\n",
    "print(\"three\")\n",
    "A) nothing\n",
    "B) one\n",
    "**C) two**\n",
    "D) three\n",
    "E) error\n",
    "```\n",
    "\n",
    "```\n",
    "Example 18\n",
    "\n",
    "What is the output of the following code?\n",
    "n=3\n",
    "if n < 1:\n",
    "  print(\"one\") \n",
    "elif n > 2\n",
    "  print(\"two\")\n",
    "else:\n",
    "  print(\"three\")\n",
    "A) nothing\n",
    "B) one\n",
    "C) two\n",
    "D) three\n",
    "E) error\n",
    "```\n",
    "```\n",
    "Answer:\n",
    "\n",
    "What is the output of the following code?\n",
    "n=3\n",
    "if n < 1:\n",
    "print(\"one\") elif n > 2\n",
    "print(\"two\") else:\n",
    "print(\"three\")\n",
    "```\n",
    "1. nothing\n",
    "2. one\n",
    "3. two\n",
    "4. three<br>\n",
    "**5. error (missing colon)**\n",
    "\n",
    "```\n",
    "Example 19\n",
    "What is the output of the following code?\n",
    "n=1\n",
    "if n < 1:\n",
    "  print(\"one\") \n",
    "elif n > 2:\n",
    "  print(\"two\")\n",
    "else:\n",
    "  print(\"three\") \n",
    "print(\"four\")\n",
    "A)nothing\n",
    "B) one  four\n",
    "C) three\n",
    "D) three four\n",
    "E) error\n",
    "```\n",
    "\n",
    "```\n",
    "Answer:\n",
    "What is the output of the following code?\n",
    "n=1\n",
    "if n < 1:\n",
    "  print(\"one\") \n",
    "elif n > 2:\n",
    "  print(\"two\")\n",
    "else:\n",
    "  print(\"three\") \n",
    "print(\"four\")\n",
    "```\n",
    "A)nothing\n",
    "B) one  four\n",
    "C) three\n",
    "**D) three four**\n",
    "E) error\n",
    "\n",
    "```\n",
    " Example 20\n",
    "What is the output of the following code?\n",
    "n=0\n",
    "if n < 1:\n",
    "   print(\"one\")\n",
    "   print(\"five\") \n",
    "elif n == 0:\n",
    "   print(\"zero\")\n",
    "else:\n",
    "   print(\"three\") \n",
    "print(\"four\")\n",
    "\n",
    "A)nothing \n",
    "B) one \n",
    "   four\n",
    "C) one \n",
    "   four\n",
    "   five\n",
    "D) one \n",
    "  five\n",
    "  zero \n",
    "  four\n",
    "E) error\n",
    "  \n",
    "```\n",
    "\n",
    "<pre><code>\n",
    " Example 20\n",
    "What is the output of the following code?\n",
    "n=0\n",
    "if n < 1:\n",
    "   print(\"one\")\n",
    "   print(\"five\") \n",
    "elif n == 0:\n",
    "   print(\"zero\")\n",
    "else:\n",
    "   print(\"three\") \n",
    "print(\"four\")\n",
    "\n",
    "A)nothing \n",
    "B) one \n",
    "   four\n",
    "<b>C) one \n",
    "   four\n",
    "   five</b>\n",
    "D) one \n",
    "  five\n",
    "  zero \n",
    "  four\n",
    "E) error\n",
    " </pre></code> \n",
    " "
   ]
  },
  {
   "cell_type": "code",
   "execution_count": null,
   "metadata": {},
   "outputs": [],
   "source": []
  }
 ],
 "metadata": {
  "kernelspec": {
   "display_name": "Python 3",
   "language": "python",
   "name": "python3"
  },
  "language_info": {
   "codemirror_mode": {
    "name": "ipython",
    "version": 3
   },
   "file_extension": ".py",
   "mimetype": "text/x-python",
   "name": "python",
   "nbconvert_exporter": "python",
   "pygments_lexer": "ipython3",
   "version": "3.8.5"
  }
 },
 "nbformat": 4,
 "nbformat_minor": 4
}
