{
 "cells": [
  {
   "cell_type": "code",
   "execution_count": 2,
   "source": [
    "from IPython.display import IFrame\n",
    "from IPython.display import Markdown\n",
    "# Additional styling ; should be moved into helpers\n",
    "from IPython.core.display import display, HTML\n",
    "HTML('<style>{}</style>'.format(open('rise.css').read()))"
   ],
   "outputs": [
    {
     "output_type": "execute_result",
     "data": {
      "text/html": [
       "<style>/*.container { width:100% !important; }*/\n",
       "\n",
       "div.prompt {display:none}\n",
       "\n",
       "div.output_subarea {max-width:100%}\n",
       "\n",
       "/* These below are from the altair_talk css */\n",
       "\n",
       "/* ---------- markdown cells\n",
       " */\n",
       "body.rise-enabled div.inner_cell>div.text_cell_render.rendered_html {\n",
       "    font-size: 100%;\n",
       "}\n",
       "\n",
       "\n",
       "/* ---------- code blocks inside markdown\n",
       "   i.e. within ``` lines, or 4-space indented\n",
       " */\n",
       "div.inner_cell>div.text_cell_render.rendered_html>pre {\n",
       "    margin: 0px;\n",
       "}\n",
       "\n",
       "/* ----------- code to remove space above markdown headers\n",
       " */\n",
       "div.inner_cell>div.text_cell_render.rendered_html h1 {\n",
       "    margin-top: 0px;\n",
       "}\n",
       "div.inner_cell>div.text_cell_render.rendered_html h2 {\n",
       "    margin-top: 0px;\n",
       "}\n",
       "div.inner_cell>div.text_cell_render.rendered_html h3 {\n",
       "    margin-top: 0px;\n",
       "}\n",
       "div.inner_cell>div.text_cell_render.rendered_html h4 {\n",
       "    margin-top: 0px;\n",
       "}\n",
       "\n",
       "div.inner_cell>div.text_cell_render.rendered_html>pre>code {\n",
       "    font-size: 70%;\n",
       "}\n",
       "\n",
       "/* ---------- tables (from SO)\n",
       " */\n",
       ".rendered_html table, .rendered_html th, .rendered_html tr, .rendered_html td {\n",
       "     font-size: 120%;\n",
       "}\n",
       "\n",
       "/* ---------- Left part of code cells\n",
       "    from this SO answer: https://stackoverflow.com/a/47263575;\n",
       " /* Narrow the prompts */\n",
       "div.prompt_container {\n",
       "    min-width: 5ex;\n",
       "}\n",
       "/* Hide prompts altogether for non-conda cells */\n",
       ".cell:not(.code_cell) .prompt {\n",
       "    display: none;\n",
       "}\n",
       "/* ---------- Width of cells\n",
       " */\n",
       ".container {\n",
       "    width:95% !important;\n",
       "}\n",
       "\n",
       "</style>"
      ],
      "text/plain": [
       "<IPython.core.display.HTML object>"
      ]
     },
     "metadata": {},
     "execution_count": 2
    }
   ],
   "metadata": {
    "slideshow": {
     "slide_type": "skip"
    },
    "tags": [
     "remove-cell"
    ]
   }
  },
  {
   "cell_type": "markdown",
   "source": [
    "Please make sure you [watch the first few assigned Git videos on this page](../videos.md) before this class"
   ],
   "metadata": {}
  },
  {
   "cell_type": "markdown",
   "source": [
    "# Version Control with Git\n",
    "\n",
    "<img src=\"http://www.phdcomics.com/comics/archive/phd101212s.gif\">"
   ],
   "metadata": {
    "slideshow": {
     "slide_type": "slide"
    }
   }
  },
  {
   "cell_type": "markdown",
   "source": [
    "## Version Control with Git"
   ],
   "metadata": {
    "slideshow": {
     "slide_type": "slide"
    }
   }
  },
  {
   "cell_type": "markdown",
   "source": [
    "### Why Git?\n",
    "\n",
    "<img src=\"http://www.phdcomics.com/comics/archive/phd101212s.gif\">"
   ],
   "metadata": {
    "slideshow": {
     "slide_type": "subslide"
    }
   }
  },
  {
   "cell_type": "markdown",
   "source": [
    "## A mental model of Git "
   ],
   "metadata": {
    "slideshow": {
     "slide_type": "subslide"
    }
   }
  },
  {
   "cell_type": "markdown",
   "source": [
    "### Activity \n",
    "\n",
    "Today we will try to make a mental model of git so you can understand what it is you have been doing when you type commands into the Terminal\n",
    "\n",
    "[Click this link](https://docs.google.com/spreadsheets/d/1Lt0zztZ7B4rdlKTFNROW7cWxmJ0wWWzU2KADjuYG9B4/edit?usp=sharing) and add your mental model.\n",
    "\n",
    "<img src=\"images/git_model_googledoc.png\">"
   ],
   "metadata": {
    "slideshow": {
     "slide_type": "fragment"
    }
   }
  },
  {
   "cell_type": "markdown",
   "source": [
    "### What is Git?\n",
    "\n",
    "<img src=\"https://www.nobledesktop.com/image/blog/git-branches-merge.png\">\n",
    "\n",
    "Image Source: [Noble Desktop](https://www.nobledesktop.com/blog/what-is-git-and-why-should-you-use-it)."
   ],
   "metadata": {
    "slideshow": {
     "slide_type": "subslide"
    }
   }
  },
  {
   "cell_type": "markdown",
   "source": [
    "### The GitHub Flow"
   ],
   "metadata": {
    "slideshow": {
     "slide_type": "subslide"
    }
   }
  },
  {
   "cell_type": "code",
   "execution_count": 4,
   "source": [
    "IFrame('https://guides.github.com/introduction/flow/',width=1200,height=800)\n",
    "\n"
   ],
   "outputs": [
    {
     "output_type": "execute_result",
     "data": {
      "text/html": [
       "\n",
       "        <iframe\n",
       "            width=\"1200\"\n",
       "            height=\"800\"\n",
       "            src=\"https://guides.github.com/introduction/flow/\"\n",
       "            frameborder=\"0\"\n",
       "            allowfullscreen\n",
       "        ></iframe>\n",
       "        "
      ],
      "text/plain": [
       "<IPython.lib.display.IFrame at 0x1121d2a60>"
      ]
     },
     "metadata": {},
     "execution_count": 4
    }
   ],
   "metadata": {
    "slideshow": {
     "slide_type": "fragment"
    },
    "tags": [
     "hide-input"
    ]
   }
  },
  {
   "cell_type": "markdown",
   "source": [
    "Markdown('Source: [GitHub Guides](https://guides.github.com/introduction/flow/)')"
   ],
   "metadata": {
    "slideshow": {
     "slide_type": "fragment"
    }
   }
  },
  {
   "cell_type": "markdown",
   "source": [
    "### Activity (continued)\n",
    "\n",
    "\n",
    "Let's now add the \"After\" version of your mental models\n",
    "\n",
    "[Click this link](https://docs.google.com/spreadsheets/d/1Lt0zztZ7B4rdlKTFNROW7cWxmJ0wWWzU2KADjuYG9B4/edit?usp=sharing) and add your mental model.\n",
    "\n",
    "<img src=\"images/git_model_googledoc.png\">"
   ],
   "metadata": {
    "slideshow": {
     "slide_type": "subslide"
    }
   }
  }
 ],
 "metadata": {
  "celltoolbar": "Slideshow",
  "interpreter": {
   "hash": "852908b3e087535644df2dcfc2c8e2e0756fb3e8a4901f95330a1b5c587ff934"
  },
  "kernelspec": {
   "display_name": "Python 3",
   "language": "python",
   "name": "python3"
  },
  "language_info": {
   "codemirror_mode": {
    "name": "ipython",
    "version": 3
   },
   "file_extension": ".py",
   "mimetype": "text/x-python",
   "name": "python",
   "nbconvert_exporter": "python",
   "pygments_lexer": "ipython3",
   "version": "3.8.3"
  }
 },
 "nbformat": 4,
 "nbformat_minor": 4
}