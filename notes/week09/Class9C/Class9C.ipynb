{
 "cells": [
  {
   "cell_type": "markdown",
   "id": "ecb24816-53c1-4c05-9a70-6d83a9b4f264",
   "metadata": {},
   "source": [
    "# Data 301 Review class"
   ]
  },
  {
   "cell_type": "markdown",
   "id": "d8c2176b-251e-411f-a290-c34ae5380f0d",
   "metadata": {},
   "source": [
    "## Announcements"
   ]
  },
  {
   "cell_type": "markdown",
   "id": "81b698ac-84bf-4ef7-b8b3-12e2125879aa",
   "metadata": {},
   "source": [
    "- Test 3 is now available, and will be until Sunday at 6 PM\n",
    "\n",
    "- You will now have **90 minutes** to do each test, to ensure that time isn't really a factor.\n",
    "    - I want you to demonstrate your knowledge, without feeling pressured for time\n",
    "    \n",
    "- You will need to write several functions for the Test, PLAN WISELY!\n",
    "\n",
    "- Read over the entire test before you start it."
   ]
  },
  {
   "cell_type": "markdown",
   "id": "ba4923c1-e6e7-4778-a151-f5323b08c6c3",
   "metadata": {},
   "source": [
    "## Review Session Outline\n",
    "\n",
    "1. Writing For loops from scratch\n",
    "    - Practice Questions\n",
    "\n",
    "1. Writing Assert statements\n",
    "\n",
    "1. Difference between try/except and assert\n",
    "\n",
    "1. Defining functions in a .py folder\n",
    "\n",
    "1. Method Chaining\n",
    "\n",
    "1. GroupBy vs. Merge"
   ]
  },
  {
   "cell_type": "code",
   "execution_count": 8,
   "id": "582e976a-a539-47aa-93d6-2682e408c0b8",
   "metadata": {},
   "outputs": [],
   "source": [
    "## Data and imports\n",
    "\n",
    "import pandas as pd\n",
    "import seaborn as sns\n",
    "\n",
    "pokemon = pd.read_csv('https://github.com/firasm/bits/raw/master/pokemon.csv')"
   ]
  },
  {
   "cell_type": "code",
   "execution_count": null,
   "id": "37868510-e299-4092-ab29-e94215766a5a",
   "metadata": {},
   "outputs": [],
   "source": []
  },
  {
   "cell_type": "markdown",
   "id": "35781a9d-45e9-475b-ac12-712ff4ac904a",
   "metadata": {},
   "source": [
    "## Writing for loops from scratch"
   ]
  },
  {
   "cell_type": "code",
   "execution_count": null,
   "id": "b0c8b582-27be-4428-aad6-152fb162050b",
   "metadata": {},
   "outputs": [],
   "source": []
  },
  {
   "cell_type": "markdown",
   "id": "d2ceb5ed-2ea4-459d-9136-1a02e868ff72",
   "metadata": {},
   "source": [
    "## Writing Assert statements"
   ]
  },
  {
   "cell_type": "code",
   "execution_count": null,
   "id": "a477a317-be78-4ffa-8f00-bbb60329b941",
   "metadata": {},
   "outputs": [],
   "source": []
  },
  {
   "cell_type": "markdown",
   "id": "fdb9db30-e638-4e3a-878b-f675eaa032b5",
   "metadata": {},
   "source": [
    "## Difference between `try/except` and `assert`"
   ]
  },
  {
   "cell_type": "code",
   "execution_count": null,
   "id": "659ef9d5-dc95-40da-a1c5-aad3607de187",
   "metadata": {},
   "outputs": [],
   "source": []
  },
  {
   "cell_type": "markdown",
   "id": "70079770-b727-49ce-af40-1b7643d8ef27",
   "metadata": {},
   "source": [
    "## Defining functions in a .py folder"
   ]
  },
  {
   "cell_type": "code",
   "execution_count": null,
   "id": "cd9293af-f6e8-4ee3-bb19-e7aecc2a59a7",
   "metadata": {},
   "outputs": [],
   "source": []
  },
  {
   "cell_type": "markdown",
   "id": "72f90418-1161-4366-a5d5-fb3fdc0d8197",
   "metadata": {},
   "source": [
    "## Method Chaining"
   ]
  },
  {
   "cell_type": "code",
   "execution_count": null,
   "id": "d84b0f95-c09e-479b-8122-d690d432c1d0",
   "metadata": {},
   "outputs": [],
   "source": []
  },
  {
   "cell_type": "markdown",
   "id": "71ed9ec1-e378-4d7a-8021-ceefedfa0c52",
   "metadata": {},
   "source": [
    "## GroupBy vs. Merge"
   ]
  },
  {
   "cell_type": "code",
   "execution_count": null,
   "id": "f0887c7f-692e-4917-8ee9-dc300feb63dd",
   "metadata": {},
   "outputs": [],
   "source": []
  }
 ],
 "metadata": {
  "kernelspec": {
   "display_name": "Python 3 (ipykernel)",
   "language": "python",
   "name": "python3"
  },
  "language_info": {
   "codemirror_mode": {
    "name": "ipython",
    "version": 3
   },
   "file_extension": ".py",
   "mimetype": "text/x-python",
   "name": "python",
   "nbconvert_exporter": "python",
   "pygments_lexer": "ipython3",
   "version": "3.9.7"
  }
 },
 "nbformat": 4,
 "nbformat_minor": 5
}
