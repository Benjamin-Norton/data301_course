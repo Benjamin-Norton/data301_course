{
 "cells": [
  {
   "cell_type": "markdown",
   "metadata": {
    "slideshow": {
     "slide_type": "slide"
    }
   },
   "source": [
    "# Lecture 9A - Motivating the need for EDA\n",
    "\n",
    "We will begin soon! Until then, feel free to use the chat to socialize, and enjoy the music!\n",
    "\n",
    "<img src=\"images/viz.jpg\" width=50% style=\"margin-left:auto; margin-right:auto\">\n",
    "\n",
    "\n",
    "<div align = \"left\"> \n",
    "    <br>\n",
    "    <br>\n",
    "    Photo by <a href=\"https://www.pexels.com/@rodnae-prod\">RODNAE Productions</a> from <a href=\"https://www.pexels.com/photo/magnifying-glass-on-white-paper-7948038/\">Pexels</a>\n",
    "</div>\n",
    "\n",
    "<div align = \"right\"> \n",
    "    Firas Moosvi\n",
    "</div>"
   ]
  },
  {
   "cell_type": "markdown",
   "metadata": {},
   "source": [
    "## Announcements"
   ]
  },
  {
   "cell_type": "markdown",
   "metadata": {},
   "source": [
    "- There were a couple of minor errors in Test 2\n",
    "    - I'll take a look and may adjust things if necessary, but I suggest you do the bonus test instead to be sure\n",
    "    \n",
    "- Bonus Test 2 will be this Thursday starting at 3:30 PM\n",
    "    - Read over the entire test before you start it!\n",
    "    \n",
    "- For Bonus Test 2 and Test 3 **only**, the tests will be done virtually, **so don't come to class!**\n",
    "\n",
    "- We will return to regularly scheduled class tests with Bonus Test 3 and Test 4\n",
    "\n",
    "- Discussion about Project Milestone 3"
   ]
  },
  {
   "cell_type": "markdown",
   "metadata": {
    "slideshow": {
     "slide_type": "slide"
    }
   },
   "source": [
    "## Class Outline"
   ]
  },
  {
   "cell_type": "markdown",
   "metadata": {
    "slideshow": {
     "slide_type": "fragment"
    },
    "tags": []
   },
   "source": [
    "1. Project milestone 3\n",
    "\n",
    "2. Motivating Exploratory Data Analyses (30 mins)\n",
    "\n",
    "3. Review of some concepts so far."
   ]
  },
  {
   "cell_type": "markdown",
   "metadata": {},
   "source": [
    "## Project Milestone 3\n",
    "\n",
    "Some good Examples from previous years:\n",
    "\n",
    "- [Group 15](https://github.com/ubco-W2021T1-data301/group15-project/blob/main/notebooks/analysis1.ipynb)\n",
    "- [Group 46](https://github.com/ubco-W2021T1-data301/project-group-46-project-1/blob/main/notebooks/analysis1.ipynb)"
   ]
  },
  {
   "cell_type": "markdown",
   "metadata": {
    "slideshow": {
     "slide_type": "slide"
    }
   },
   "source": [
    "## Motivating the need for EDA"
   ]
  },
  {
   "cell_type": "markdown",
   "metadata": {
    "slideshow": {
     "slide_type": "fragment"
    }
   },
   "source": [
    "`bullet_data.csv` is available here: https://github.com/firasm/bits/raw/master/bullet_data.csv"
   ]
  },
  {
   "cell_type": "code",
   "execution_count": null,
   "metadata": {
    "slideshow": {
     "slide_type": "fragment"
    }
   },
   "outputs": [
    {
     "ename": "ModuleNotFoundError",
     "evalue": "No module named 'pandas_profiling'",
     "output_type": "error",
     "traceback": [
      "\u001b[0;31m---------------------------------------------------------------------------\u001b[0m",
      "\u001b[0;31mModuleNotFoundError\u001b[0m                       Traceback (most recent call last)",
      "Input \u001b[0;32mIn [1]\u001b[0m, in \u001b[0;36m<cell line: 5>\u001b[0;34m()\u001b[0m\n\u001b[1;32m      3\u001b[0m \u001b[38;5;28;01mimport\u001b[39;00m \u001b[38;5;21;01mnumpy\u001b[39;00m \u001b[38;5;28;01mas\u001b[39;00m \u001b[38;5;21;01mnp\u001b[39;00m\n\u001b[1;32m      4\u001b[0m \u001b[38;5;28;01mimport\u001b[39;00m \u001b[38;5;21;01mmatplotlib\u001b[39;00m\u001b[38;5;21;01m.\u001b[39;00m\u001b[38;5;21;01mpyplot\u001b[39;00m \u001b[38;5;28;01mas\u001b[39;00m \u001b[38;5;21;01mplt\u001b[39;00m\n\u001b[0;32m----> 5\u001b[0m \u001b[38;5;28;01mfrom\u001b[39;00m \u001b[38;5;21;01mpandas_profiling\u001b[39;00m \u001b[38;5;28;01mimport\u001b[39;00m ProfileReport\n\u001b[1;32m      7\u001b[0m sns\u001b[38;5;241m.\u001b[39mset_theme(style\u001b[38;5;241m=\u001b[39m\u001b[38;5;124m\"\u001b[39m\u001b[38;5;124mwhite\u001b[39m\u001b[38;5;124m\"\u001b[39m, font_scale\u001b[38;5;241m=\u001b[39m\u001b[38;5;241m1.3\u001b[39m)\n",
      "\u001b[0;31mModuleNotFoundError\u001b[0m: No module named 'pandas_profiling'"
     ]
    }
   ],
   "source": [
    "import pandas as pd\n",
    "import seaborn as sns\n",
    "import numpy as np\n",
    "import matplotlib.pyplot as plt\n",
    "from pandas_profiling import ProfileReport\n",
    "\n",
    "sns.set_theme(style=\"white\", font_scale=1.3)"
   ]
  },
  {
   "cell_type": "code",
   "execution_count": null,
   "metadata": {
    "slideshow": {
     "slide_type": "fragment"
    }
   },
   "outputs": [],
   "source": [
    "df = pd.read_csv(\"https://github.com/firasm/bits/raw/master/bullet_data.csv\")\n",
    "df.head()"
   ]
  },
  {
   "cell_type": "code",
   "execution_count": null,
   "metadata": {
    "slideshow": {
     "slide_type": "fragment"
    }
   },
   "outputs": [],
   "source": [
    "# Use our standard tool first:\n",
    "\n",
    "df.describe().T"
   ]
  },
  {
   "cell_type": "code",
   "execution_count": null,
   "metadata": {
    "slideshow": {
     "slide_type": "subslide"
    }
   },
   "outputs": [],
   "source": [
    "# let's do some of this work manually\n",
    "\n",
    "print(\"The zones are: {0}\".format(sorted(set(df[\"zone\"]))), \"\\n\")\n",
    "\n",
    "print(\"Columns are: {0}\".format(list(df.columns)), \"\\n\")\n",
    "\n",
    "print(\"Values for 'bullet' column is {0}\".format(sorted(df[\"bullet\"].unique())), \"\\n\")"
   ]
  },
  {
   "cell_type": "markdown",
   "metadata": {
    "slideshow": {
     "slide_type": "subslide"
    }
   },
   "source": [
    "Let's wrangle the data a bit to try and see what's going on:"
   ]
  },
  {
   "cell_type": "code",
   "execution_count": null,
   "metadata": {
    "slideshow": {
     "slide_type": "fragment"
    }
   },
   "outputs": [],
   "source": [
    "# First, only consider the bullet 'hits':\n",
    "\n",
    "hits_df = df[df[\"bullet\"] == 1]\n",
    "hits_df.sample(5)"
   ]
  },
  {
   "cell_type": "code",
   "execution_count": null,
   "metadata": {
    "slideshow": {
     "slide_type": "fragment"
    }
   },
   "outputs": [],
   "source": [
    "# Then, let's groupby the \"zone\" and look at the resulting dataframe\n",
    "# I have \"reset\" the index of the groupby object so we can have a continuous index\n",
    "summary = hits_df.groupby(\"zone\").count().reset_index()\n",
    "summary"
   ]
  },
  {
   "cell_type": "code",
   "execution_count": null,
   "metadata": {
    "slideshow": {
     "slide_type": "subslide"
    }
   },
   "outputs": [],
   "source": [
    "# Now let's visualize the table above:\n",
    "\n",
    "sns.countplot(data=hits_df, y=\"zone\", order=sorted(set(df[\"zone\"])), color=\"skyblue\")\n",
    "plt.ylabel(\"\")\n",
    "plt.title(\"Bullet hit count by Airplane Zone\")\n",
    "plt.xlabel(\"Bullet hits\")\n",
    "sns.despine()"
   ]
  },
  {
   "cell_type": "code",
   "execution_count": null,
   "metadata": {
    "slideshow": {
     "slide_type": "subslide"
    }
   },
   "outputs": [],
   "source": [
    "# Another Visualization\n",
    "\n",
    "df[\"outline\"] = np.where(df[\"zone\"] == \"OutsidePlane\", 0, 1)\n",
    "\n",
    "sns.heatmap(data=df.pivot(\"x\", \"y\", \"outline\"), cmap=\"Greys\")\n",
    "plt.axis(\"off\")"
   ]
  },
  {
   "cell_type": "code",
   "execution_count": null,
   "metadata": {
    "slideshow": {
     "slide_type": "subslide"
    }
   },
   "outputs": [],
   "source": [
    "sns.heatmap(data=df.pivot(\"x\", \"y\", \"bullet\"), cmap=\"Spectral\")\n",
    "plt.axis(\"off\")"
   ]
  },
  {
   "cell_type": "markdown",
   "metadata": {
    "slideshow": {
     "slide_type": "subslide"
    }
   },
   "source": [
    "## Debrief"
   ]
  },
  {
   "cell_type": "markdown",
   "metadata": {},
   "source": [
    "## COSC 301 Review"
   ]
  },
  {
   "cell_type": "markdown",
   "metadata": {},
   "source": [
    "## Review Session Outline\n",
    "\n",
    "1. Writing For loops from scratch\n",
    "    - Practice Questions\n",
    "\n",
    "1. Writing Assert statements\n",
    "\n",
    "1. Difference between try/except and assert\n",
    "\n",
    "1. Defining functions in a .py file\n",
    "\n",
    "1. Method Chaining\n",
    "\n",
    "1. GroupBy vs. Merge"
   ]
  },
  {
   "cell_type": "code",
   "execution_count": null,
   "metadata": {},
   "outputs": [],
   "source": [
    "## Data and imports\n",
    "\n",
    "import pandas as pd\n",
    "import seaborn as sns\n",
    "import numpy as np\n",
    "\n",
    "pokemon = pd.read_csv(\"https://github.com/firasm/bits/raw/master/pokemon.csv\")"
   ]
  },
  {
   "cell_type": "code",
   "execution_count": null,
   "metadata": {},
   "outputs": [],
   "source": [
    "pokemon.head()"
   ]
  },
  {
   "cell_type": "markdown",
   "metadata": {},
   "source": [
    "## Writing for loops from scratch"
   ]
  },
  {
   "cell_type": "code",
   "execution_count": null,
   "metadata": {},
   "outputs": [],
   "source": [
    "numbers = [1, 3, 4, 6, 81, 80, 100, 95]"
   ]
  },
  {
   "cell_type": "code",
   "execution_count": null,
   "metadata": {},
   "outputs": [],
   "source": [
    "# Your solution here\n",
    "\n",
    "# Notes on how to write my for loop\n",
    "\n",
    "# 1. loop over all numbers and print them (`for`)\n",
    "# 2. write a conditional statement to see if the number is even or odd (`%2==0`)\n",
    "# 3. write a conditional statement to see if the number is divisible by 5 (`%5 == 0)\n",
    "# 4. add to `my_list` the appropriate string (`.append`)\n",
    "\n",
    "\n",
    "# full solution\n",
    "\n",
    "my_list = []\n",
    "for i in numbers:\n",
    "    if i % 5 == 0:  # checks if num is divisible by 5\n",
    "        if i % 2 == 0:\n",
    "            my_list.append(\"five even\")\n",
    "        else:\n",
    "            my_list.append(\"five odd\")\n",
    "\n",
    "    elif (i % 2 == 0) and (i % 5 != 0):  # checks if num is even and NOT divisible by 5\n",
    "        my_list.append(\"even\")\n",
    "\n",
    "    elif (i % 2 != 0) and (i % 5 != 0):  # checks if num is odd and NOT divisible by 5\n",
    "        my_list.append(\"odd\")\n",
    "\n",
    "\n",
    "# point 1\n",
    "\n",
    "# for i in numbers:\n",
    "#     print(i)\n",
    "\n",
    "# point 2\n",
    "\n",
    "# for i in numbers:\n",
    "#     if (i%2 == 0):\n",
    "#         print(i,'even')\n",
    "#     else:\n",
    "#         print(i,'odd')\n",
    "\n",
    "# point 3\n",
    "\n",
    "# for i in numbers:\n",
    "#     if (i%5 == 0):\n",
    "#         print(i,'divisble by 5')\n",
    "#     else:\n",
    "#         print(i,'NOT divisble by 5')\n",
    "\n",
    "# point 4\n",
    "\n",
    "# my_list = []\n",
    "\n",
    "# for i in numbers:\n",
    "#     if (i%5 == 0):\n",
    "#         my_list.append('divisble by 5')\n",
    "#     else:\n",
    "#         my_list.append('NOT divisble by 5')\n",
    "\n",
    "# my_list"
   ]
  },
  {
   "cell_type": "code",
   "execution_count": null,
   "metadata": {},
   "outputs": [],
   "source": [
    "assert my_list == [\n",
    "    \"odd\",\n",
    "    \"odd\",\n",
    "    \"even\",\n",
    "    \"even\",\n",
    "    \"odd\",\n",
    "    \"five even\",\n",
    "    \"five even\",\n",
    "    \"five odd\",\n",
    "]"
   ]
  },
  {
   "cell_type": "markdown",
   "metadata": {},
   "source": [
    "## Writing Assert statements"
   ]
  },
  {
   "cell_type": "code",
   "execution_count": null,
   "metadata": {},
   "outputs": [],
   "source": [
    "test = [\"1\", \"2\", 3, 4, 5]\n",
    "ans = [1, 2, 3, 4, 5]\n",
    "\n",
    "assert test == ans, \"Helium baloons fly\"  # Left side isn't the same as the right side"
   ]
  },
  {
   "cell_type": "code",
   "execution_count": null,
   "metadata": {},
   "outputs": [],
   "source": [
    "# method 1\n",
    "for i, t in enumerate(test):\n",
    "    test[i] = int(t)\n",
    "\n",
    "test\n",
    "\n",
    "assert test == ans, \"Failure! Left != Right\""
   ]
  },
  {
   "cell_type": "code",
   "execution_count": null,
   "metadata": {},
   "outputs": [],
   "source": [
    "# method 2\n",
    "\n",
    "assert [int(t) for t in test] == ans, \"Failure! Left != Right\""
   ]
  },
  {
   "cell_type": "markdown",
   "metadata": {},
   "source": [
    "## Difference between `try/except` and `assert`"
   ]
  },
  {
   "cell_type": "code",
   "execution_count": null,
   "metadata": {},
   "outputs": [],
   "source": [
    "num1 = 5\n",
    "num2 = 0\n",
    "\n",
    "\n",
    "def make_larger(n, denominator):\n",
    "    \"\"\"Makes the number larger\"\"\"\n",
    "\n",
    "    # assert num2 != 0, \"You provided 0 as the denominator - you are a terrible person\"\n",
    "    ret = np.nan\n",
    "    try:\n",
    "        ret = n**2 / denominator\n",
    "    except ZeroDivisionError as e:\n",
    "        print(\"You provided 0 as the denominator - you are a terrible person\")\n",
    "        raise e\n",
    "    finally:\n",
    "        print(\"Don't worry, you are the best coder in the history of the coders\")\n",
    "        return ret"
   ]
  },
  {
   "cell_type": "code",
   "execution_count": null,
   "metadata": {},
   "outputs": [],
   "source": [
    "make_larger(num1, num2)"
   ]
  },
  {
   "cell_type": "markdown",
   "metadata": {},
   "source": [
    "## Defining functions in a .py folder"
   ]
  },
  {
   "cell_type": "code",
   "execution_count": null,
   "metadata": {},
   "outputs": [],
   "source": [
    "# first, create a .py file (NOT a .ipynb file) to add your functions\n",
    "\n",
    "# next, import that .py file:\n",
    "\n",
    "import my_functions as mf\n",
    "\n",
    "# next, you can now use the functions in the .py file\n",
    "\n",
    "mf.make_larger2(10, 4)"
   ]
  },
  {
   "cell_type": "markdown",
   "metadata": {},
   "source": [
    "## Method Chaining"
   ]
  },
  {
   "cell_type": "code",
   "execution_count": null,
   "metadata": {},
   "outputs": [],
   "source": [
    "pokemon.head()"
   ]
  },
  {
   "cell_type": "code",
   "execution_count": null,
   "metadata": {},
   "outputs": [],
   "source": [
    "pokemon = (\n",
    "    pokemon.rename(columns={\"Type 1\": \"t1\"})\n",
    "    .rename(columns={\"Type 2\": \"t2\"})\n",
    "    .rename(columns={\"Total\": \"tot\"})\n",
    ")\n",
    "\n",
    "pokemon.head()"
   ]
  },
  {
   "cell_type": "code",
   "execution_count": null,
   "metadata": {},
   "outputs": [],
   "source": [
    "pokemon = pokemon.rename(columns={\"Type 1\": \"t1\", \"Type 2\": \"t2\", \"Total\": \"tot\"})\n",
    "\n",
    "pokemon.head()"
   ]
  },
  {
   "cell_type": "markdown",
   "metadata": {},
   "source": [
    "## GroupBy vs. Merge"
   ]
  },
  {
   "cell_type": "code",
   "execution_count": null,
   "metadata": {},
   "outputs": [],
   "source": [
    "gb_df = pokemon.groupby(\"t1\").sum()  # .reset_index()[['t1','tot','HP','Attack']]\n",
    "gb_df"
   ]
  },
  {
   "cell_type": "code",
   "execution_count": null,
   "metadata": {
    "jupyter": {
     "source_hidden": true
    },
    "tags": []
   },
   "outputs": [],
   "source": [
    "gb_df2 = pokemon.groupby(\"t1\").sum().reset_index()[[\"t1\", \"tot\", \"HP\", \"Attack\"]]"
   ]
  },
  {
   "cell_type": "markdown",
   "metadata": {
    "slideshow": {
     "slide_type": "fragment"
    }
   },
   "source": [
    "And that's it!"
   ]
  },
  {
   "cell_type": "code",
   "execution_count": null,
   "metadata": {},
   "outputs": [],
   "source": []
  }
 ],
 "metadata": {
  "celltoolbar": "Slideshow",
  "kernelspec": {
   "display_name": "Python 3 (ipykernel)",
   "language": "python",
   "name": "python3"
  },
  "language_info": {
   "codemirror_mode": {
    "name": "ipython",
    "version": 3
   },
   "file_extension": ".py",
   "mimetype": "text/x-python",
   "name": "python",
   "nbconvert_exporter": "python",
   "pygments_lexer": "ipython3",
   "version": "3.10.2"
  },
  "nteract": {
   "version": "0.28.0"
  },
  "vscode": {
   "interpreter": {
    "hash": "4a3006030bc8f073e17f416a7c98291111bc2dc23e3286a5e86c679c75d3e5ba"
   }
  }
 },
 "nbformat": 4,
 "nbformat_minor": 4
}
