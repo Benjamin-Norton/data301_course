{
 "cells": [
  {
   "cell_type": "code",
   "execution_count": 1,
   "metadata": {
    "slideshow": {
     "slide_type": "skip"
    },
    "tags": [
     "remove-cell"
    ]
   },
   "outputs": [
    {
     "data": {
      "text/html": [
       "<style>/*.container { width:100% !important; }*/\n",
       "\n",
       "div.prompt {display:none}\n",
       "\n",
       "div.output_subarea {max-width:100%}\n",
       "\n",
       "/* These below are from the altair_talk css */\n",
       "\n",
       "/* ---------- markdown cells\n",
       " */\n",
       "body.rise-enabled div.inner_cell>div.text_cell_render.rendered_html {\n",
       "    font-size: 100%;\n",
       "}\n",
       "\n",
       "\n",
       "/* ---------- code blocks inside markdown\n",
       "   i.e. within ``` lines, or 4-space indented\n",
       " */\n",
       "div.inner_cell>div.text_cell_render.rendered_html>pre {\n",
       "    margin: 0px;\n",
       "}\n",
       "\n",
       "/* ----------- code to remove space above markdown headers\n",
       " */\n",
       "div.inner_cell>div.text_cell_render.rendered_html h1 {\n",
       "    margin-top: 0px;\n",
       "}\n",
       "div.inner_cell>div.text_cell_render.rendered_html h2 {\n",
       "    margin-top: 0px;\n",
       "}\n",
       "div.inner_cell>div.text_cell_render.rendered_html h3 {\n",
       "    margin-top: 0px;\n",
       "}\n",
       "div.inner_cell>div.text_cell_render.rendered_html h4 {\n",
       "    margin-top: 0px;\n",
       "}\n",
       "\n",
       "div.inner_cell>div.text_cell_render.rendered_html>pre>code {\n",
       "    font-size: 70%;\n",
       "}\n",
       "\n",
       "/* ---------- tables (from SO)\n",
       " */\n",
       ".rendered_html table, .rendered_html th, .rendered_html tr, .rendered_html td {\n",
       "     font-size: 120%;\n",
       "}\n",
       "\n",
       "/* ---------- Left part of code cells\n",
       "    from this SO answer: https://stackoverflow.com/a/47263575;\n",
       " /* Narrow the prompts */\n",
       "div.prompt_container {\n",
       "    min-width: 5ex;\n",
       "}\n",
       "/* Hide prompts altogether for non-conda cells */\n",
       ".cell:not(.code_cell) .prompt {\n",
       "    display: none;\n",
       "}\n",
       "/* ---------- Width of cells\n",
       " */\n",
       ".container {\n",
       "    width:95% !important;\n",
       "}\n",
       "\n",
       "</style>"
      ],
      "text/plain": [
       "<IPython.core.display.HTML object>"
      ]
     },
     "execution_count": 1,
     "metadata": {},
     "output_type": "execute_result"
    }
   ],
   "source": [
    "from IPython.display import IFrame\n",
    "from IPython.display import Markdown\n",
    "\n",
    "# Additional styling ; should be moved into helpers\n",
    "from IPython.display import display, HTML\n",
    "\n",
    "HTML(\"<style>{}</style>\".format(open(\"rise.css\").read()))"
   ]
  },
  {
   "cell_type": "markdown",
   "metadata": {
    "slideshow": {
     "slide_type": "slide"
    }
   },
   "source": [
    "# Class 2A. Introduction to the File System, and the Terminal (Command line)"
   ]
  },
  {
   "cell_type": "markdown",
   "metadata": {
    "cell_style": "center",
    "slideshow": {
     "slide_type": "fragment"
    }
   },
   "source": [
    "<img src=\"images/Terminal.png\" alt=\"CommandPrompt\" width=\"450px\" >"
   ]
  },
  {
   "cell_type": "markdown",
   "metadata": {
    "cell_style": "center",
    "slideshow": {
     "slide_type": "fragment"
    }
   },
   "source": [
    "<img src=\"https://gitforwindows.org/img/gw1.png\" alt=\"CommandPrompt\" width=\"450px\" >"
   ]
  },
  {
   "cell_type": "markdown",
   "metadata": {
    "slideshow": {
     "slide_type": "slide"
    }
   },
   "source": [
    "## Lecture Outline"
   ]
  },
  {
   "cell_type": "markdown",
   "metadata": {
    "slideshow": {
     "slide_type": "fragment"
    }
   },
   "source": [
    "**1. Announcements (5 mins)**"
   ]
  },
  {
   "cell_type": "markdown",
   "metadata": {},
   "source": [
    "**2. The File System (20 mins)**"
   ]
  },
  {
   "cell_type": "markdown",
   "metadata": {
    "slideshow": {
     "slide_type": "fragment"
    }
   },
   "source": [
    "**3. The Command Line (45 mins)**"
   ]
  },
  {
   "cell_type": "markdown",
   "metadata": {
    "slideshow": {
     "slide_type": "slide"
    }
   },
   "source": [
    "## Part 1. Announcements (5 mins)"
   ]
  },
  {
   "cell_type": "markdown",
   "metadata": {
    "slideshow": {
     "slide_type": "fragment"
    }
   },
   "source": [
    "- Lab 1 will be due **Wednesday January 18, 2023 at 6 PM**"
   ]
  },
  {
   "cell_type": "markdown",
   "metadata": {
    "slideshow": {
     "slide_type": "fragment"
    }
   },
   "source": [
    "- My office hours will be for 60 minutes after class on Mondays in EME 0050 and Fridays from 1-2 PM [via Zoom](https://ubc.zoom.us/j/67640303816?pwd=anVOVTJSSnA3T2hCK09idDF5Z0tEQT09). You can also ask for help anytime on Ed Discussion, as well as visiting any of the labs."
   ]
  },
  {
   "cell_type": "markdown",
   "metadata": {
    "slideshow": {
     "slide_type": "fragment"
    }
   },
   "source": [
    "- Lab sessions start this week, and will not be recorded."
   ]
  },
  {
   "cell_type": "markdown",
   "metadata": {},
   "source": [
    "- Here are some keyboard shortcuts in VS Code to do some cool things:\n",
    "\n",
    "| Action | Shortcut on Mac | Shortcut on Windows | \n",
    "| ------ | --------------- | ------------------- |\n",
    "| Insert additional cursor | Option + Click |  Alt + Click|\n",
    "| Insert cursor at end of each selected line | Shift + Option + I | Shift + Alt + I | \n",
    "| Select all occurrences of current selection | Shift + Cmd + L | Shift + Ctrl + L|\n",
    "| Select all occurrences of current word | Cmd + F2 | Ctrl + F2|\n",
    "| Add selection to next Find match | Cmd + D | Ctrl + D|\n",
    "| Select current Line | Cmd + L | Ctrl + L|\n",
    "\n",
    "There are dozens more shortcuts, you can find the shortcuts here for:\n",
    "- [Windows](https://go.microsoft.com/fwlink/?linkid=832145)\n",
    "- [macOS](https://go.microsoft.com/fwlink/?linkid=832143)"
   ]
  },
  {
   "cell_type": "markdown",
   "metadata": {
    "slideshow": {
     "slide_type": "subslide"
    }
   },
   "source": [
    "## Part 2. File System (30 mins)\n",
    "\n",
    "The file system organizes data on a device as a hierarchy of directories and files (like a tree).\n",
    "Each folder (AKA directory) has a name and can contain any number of files or subdirectories.\n",
    "Each file has a name.\n",
    "The user can change (navigate) directories in the hierarchy.\n",
    "\n",
    "<img src=\"images/filesystem.png\" alt=\"File System\" width=\"500px\" >\n"
   ]
  },
  {
   "cell_type": "markdown",
   "metadata": {
    "slideshow": {
     "slide_type": "subslide"
    }
   },
   "source": [
    "### File System Root - Children and Parents\n",
    "\n",
    "The tree is rooted at, well, the **root**.\n",
    "- There is only one root of a directory hierarchy.\n",
    "Every item in the tree is either a file or a directory (AKA folder).\n",
    "- You can think of a directory as a container that may contains files and/or other directories.\n",
    "- Files on the other hand hold information (and cannot contain other files or directories) .\n",
    "\n",
    "If `directoryC` is contained in `directoryP`, then `directoryC` is a child of `directoryP` and `directoryP` is said to be the parent to `directoryC`.\n",
    "- A directory may have many children, but can only have one parent."
   ]
  },
  {
   "cell_type": "markdown",
   "metadata": {
    "slideshow": {
     "slide_type": "subslide"
    }
   },
   "source": [
    "### Absolute versus Relative Path\n",
    "\n",
    "- The root of the file system is the directory \"/\" \n",
    "- There is only one root of a directory hierarchy.\n",
    "- A path to a new location (from your current location) can be specified as an absolute path from the root (this will work no matter where we are in the file system):\n",
    "\n"
   ]
  },
  {
   "cell_type": "markdown",
   "metadata": {
    "slideshow": {
     "slide_type": "subslide"
    }
   },
   "source": [
    "### Navigating relative paths\n",
    "\n",
    "- `.` is the short-form for the current directory\n",
    "- `..` signifies the parent directory (akin to pressing Cmnd + ↑ on a Mac, on Windows the shortcut is Alt+↑)\n",
    "- For example, to navigate (i.e. change directories) to the parent directory of the current directory, use the command:\n",
    "     `cd ..`\n",
    "- Note that this command is dependant on your current directory (i.e. the folder you are currently in).\n",
    "- To print the current working directory, type in `pwd`"
   ]
  },
  {
   "cell_type": "markdown",
   "metadata": {
    "cell_style": "split",
    "slideshow": {
     "slide_type": "subslide"
    }
   },
   "source": [
    "#### Absolute versus Relative Path Question\n",
    "\n",
    "Consider this directory hierarchy.\n",
    "\n",
    "- The user is currently in the directory `level2`\n",
    "- The `level1` directory contains a file called `test.txt`. \n",
    "\n",
    "Which of the following statements are TRUE?\n",
    "\n",
    "1. A relative path to change to directory 301 is `..`\n",
    "2. Absolute path to `test.txt` is `/Users/ivrbik/301/level1/test.txt`\n",
    "3. Relative path to `test.txt` is ../test.txt\n",
    "4. Relative path to `test.txt` is different if user was currently in `level3` directory.\n",
    "5. There is only one root of the directory hierarchy."
   ]
  },
  {
   "cell_type": "markdown",
   "metadata": {
    "cell_style": "split",
    "slideshow": {
     "slide_type": "fragment"
    }
   },
   "source": [
    "<img src=\"images/relativepath.png\" width=\"700px\">"
   ]
  },
  {
   "cell_type": "markdown",
   "metadata": {
    "slideshow": {
     "slide_type": "subslide"
    }
   },
   "source": [
    "### Activity: Let's try to re-create that directory and file structure "
   ]
  },
  {
   "cell_type": "markdown",
   "metadata": {
    "cell_style": "split",
    "slideshow": {
     "slide_type": "fragment"
    }
   },
   "source": [
    "You will need the following commands:\n",
    "\n",
    "- [`cd`](https://man7.org/linux/man-pages/man1/cd.1p.html) : change directory\n",
    "- [`pwd`](https://man7.org/linux/man-pages/man1/pwd.1.html) : print working directory\n",
    "- [`mkdir`](https://man7.org/linux/man-pages/man1/mkdir.1.html): make directory\n",
    "- [`ls`](https://man7.org/linux/man-pages/man1/ls.1.html): list directory contents\n",
    "- [`touch`](https://man7.org/linux/man-pages/man1/touch.1.html): create an empty file with a specific name\n",
    "- [`rm`](https://man7.org/linux/man-pages/man1/rm.1.html): Delete a file (if you make a mistake)\n",
    "- [`rm -r`](https://man7.org/linux/man-pages/man1/rm.1.html): Delete a directory (if you make a mistake)\n",
    "- `code`: edit the file in the VS Code editor"
   ]
  },
  {
   "cell_type": "markdown",
   "metadata": {
    "cell_style": "split",
    "slideshow": {
     "slide_type": "fragment"
    }
   },
   "source": [
    "<img src=\"images/relativepath.png\" width=\"700px\">"
   ]
  },
  {
   "cell_type": "markdown",
   "metadata": {
    "slideshow": {
     "slide_type": "slide"
    }
   },
   "source": [
    "## That's it! See you Next Class!"
   ]
  },
  {
   "cell_type": "markdown",
   "metadata": {
    "slideshow": {
     "slide_type": "slide"
    }
   },
   "source": [
    "## Additional Resources"
   ]
  },
  {
   "cell_type": "markdown",
   "metadata": {
    "slideshow": {
     "slide_type": "fragment"
    }
   },
   "source": [
    "### Supplementary video on absolute vs. relative paths"
   ]
  },
  {
   "cell_type": "code",
   "execution_count": 2,
   "metadata": {
    "slideshow": {
     "slide_type": "fragment"
    }
   },
   "outputs": [
    {
     "data": {
      "text/html": [
       "\n",
       "        <iframe\n",
       "            width=\"100%\"\n",
       "            height=\"500px\"\n",
       "            src=\"https://www.youtube-nocookie.com/embed/sqX6hu7oEew\"\n",
       "            frameborder=\"0\"\n",
       "            allowfullscreen\n",
       "            \n",
       "        ></iframe>\n",
       "        "
      ],
      "text/plain": [
       "<IPython.lib.display.IFrame at 0x1203a28f0>"
      ]
     },
     "execution_count": 2,
     "metadata": {},
     "output_type": "execute_result"
    }
   ],
   "source": [
    "IFrame(\n",
    "    \"https://www.youtube-nocookie.com/embed/sqX6hu7oEew\", width=\"100%\", height=\"500px\"\n",
    ")"
   ]
  },
  {
   "cell_type": "markdown",
   "metadata": {
    "slideshow": {
     "slide_type": "subslide"
    }
   },
   "source": [
    "## Guide to the operating system for macOS users"
   ]
  },
  {
   "cell_type": "code",
   "execution_count": 3,
   "metadata": {
    "slideshow": {
     "slide_type": "fragment"
    }
   },
   "outputs": [
    {
     "data": {
      "text/html": [
       "\n",
       "        <iframe\n",
       "            width=\"100%\"\n",
       "            height=\"500px\"\n",
       "            src=\"https://www.youtube-nocookie.com/embed/RX160bcMFuA\"\n",
       "            frameborder=\"0\"\n",
       "            allowfullscreen\n",
       "            \n",
       "        ></iframe>\n",
       "        "
      ],
      "text/plain": [
       "<IPython.lib.display.IFrame at 0x1203a35b0>"
      ]
     },
     "execution_count": 3,
     "metadata": {},
     "output_type": "execute_result"
    }
   ],
   "source": [
    "IFrame(\n",
    "    \"https://www.youtube-nocookie.com/embed/RX160bcMFuA\", width=\"100%\", height=\"500px\"\n",
    ")"
   ]
  },
  {
   "cell_type": "markdown",
   "metadata": {
    "slideshow": {
     "slide_type": "subslide"
    }
   },
   "source": [
    "## Guide to the operating system for Windows 10 users"
   ]
  },
  {
   "cell_type": "code",
   "execution_count": 5,
   "metadata": {
    "slideshow": {
     "slide_type": "fragment"
    }
   },
   "outputs": [
    {
     "data": {
      "text/html": [
       "\n",
       "        <iframe\n",
       "            width=\"100%\"\n",
       "            height=\"500px\"\n",
       "            src=\"https://www.youtube-nocookie.com/embed/egK5BKEn87c\"\n",
       "            frameborder=\"0\"\n",
       "            allowfullscreen\n",
       "            \n",
       "        ></iframe>\n",
       "        "
      ],
      "text/plain": [
       "<IPython.lib.display.IFrame at 0x1203a2e00>"
      ]
     },
     "execution_count": 5,
     "metadata": {},
     "output_type": "execute_result"
    }
   ],
   "source": [
    "IFrame(\n",
    "    \"https://www.youtube-nocookie.com/embed/egK5BKEn87c\", width=\"100%\", height=\"500px\"\n",
    ")"
   ]
  },
  {
   "cell_type": "code",
   "execution_count": 6,
   "metadata": {
    "slideshow": {
     "slide_type": "skip"
    },
    "tags": [
     "remove-cell"
    ]
   },
   "outputs": [],
   "source": [
    "## Code required for Jupyter RISE\n",
    "### RISE Template\n",
    "\n",
    "from traitlets.config.manager import BaseJSONConfigManager\n",
    "from pathlib import Path\n",
    "\n",
    "path = Path.home() / \".jupyter\" / \"nbconfig\"\n",
    "cm = BaseJSONConfigManager(config_dir=str(path))\n",
    "tmp = cm.update(\n",
    "    \"rise\",\n",
    "    {\n",
    "        \"theme\": \"blood\",  # https://revealjs.com/themes/\n",
    "        \"transition\": \"fade\",\n",
    "        \"start_slideshow_at\": \"selected\",\n",
    "        \"autolaunch\": False,\n",
    "        \"width\": \"100%\",\n",
    "        \"height\": \"100%\",\n",
    "        \"header\": \"\",\n",
    "        \"footer\": \"\",\n",
    "        \"scroll\": True,\n",
    "        \"enable_chalkboard\": True,\n",
    "        \"slideNumber\": True,\n",
    "        \"center\": False,\n",
    "        \"controlsLayout\": \"edges\",\n",
    "        \"slideNumber\": True,\n",
    "        \"hash\": True,\n",
    "    },\n",
    ")"
   ]
  }
 ],
 "metadata": {
  "celltoolbar": "Slideshow",
  "kernelspec": {
   "display_name": "Python 3 (ipykernel)",
   "language": "python",
   "name": "python3"
  },
  "language_info": {
   "codemirror_mode": {
    "name": "ipython",
    "version": 3
   },
   "file_extension": ".py",
   "mimetype": "text/x-python",
   "name": "python",
   "nbconvert_exporter": "python",
   "pygments_lexer": "ipython3",
   "version": "3.10.2"
  },
  "vscode": {
   "interpreter": {
    "hash": "4a3006030bc8f073e17f416a7c98291111bc2dc23e3286a5e86c679c75d3e5ba"
   }
  }
 },
 "nbformat": 4,
 "nbformat_minor": 4
}
