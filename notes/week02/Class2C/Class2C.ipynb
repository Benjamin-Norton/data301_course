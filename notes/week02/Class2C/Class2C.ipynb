{
 "cells": [
  {
   "cell_type": "markdown",
   "metadata": {
    "slideshow": {
     "slide_type": "slide"
    },
    "tags": []
   },
   "source": [
    "# Class 2C: Jupyter Notebook\n",
    "\n",
    "We will begin at 2:00 PM! Until then, feel free to use the chat to socialize, and enjoy the music!\n",
    "\n",
    "<img src=\"images/programming.jpg\" width=50% style=\"margin-left:auto; margin-right:auto\">\n",
    "\n",
    "\n",
    "<div align = \"left\"> \n",
    "    <br>\n",
    "    <br>\n",
    "    Photo by <a href=\"https://www.pexels.com/photo/two-women-sitting-on-sofa-holding-laptop-computers-1181268\">Christina Morillo</a> from Pexels\n",
    "</div>\n",
    "\n",
    "<div align = \"right\"> \n",
    "    June 13, 2021 <br>\n",
    "    Firas Moosvi\n",
    "</div>"
   ]
  },
  {
   "cell_type": "markdown",
   "metadata": {
    "slideshow": {
     "slide_type": "slide"
    },
    "tags": []
   },
   "source": [
    "## Lecture Outline"
   ]
  },
  {
   "cell_type": "markdown",
   "metadata": {
    "slideshow": {
     "slide_type": "fragment"
    }
   },
   "source": [
    "**1. Announcements (5 mins)**"
   ]
  },
  {
   "cell_type": "markdown",
   "metadata": {
    "slideshow": {
     "slide_type": "fragment"
    }
   },
   "source": [
    "**2. Tour of the Jupyter Notebook Interface (15 mins)**"
   ]
  },
  {
   "cell_type": "markdown",
   "metadata": {},
   "source": [
    "**3. Introduction to the Project and finding team members (10 min)**"
   ]
  },
  {
   "cell_type": "markdown",
   "metadata": {},
   "source": [
    "**4. Markdown Syntax (10 mins)** "
   ]
  },
  {
   "cell_type": "markdown",
   "metadata": {
    "slideshow": {
     "slide_type": "slide"
    }
   },
   "source": [
    "## Announcements"
   ]
  },
  {
   "cell_type": "markdown",
   "metadata": {
    "slideshow": {
     "slide_type": "fragment"
    }
   },
   "source": [
    "- Lab 1 will be due **Saturday September 18, 2021 at 6 PM**"
   ]
  },
  {
   "cell_type": "markdown",
   "metadata": {},
   "source": [
    "- Lab 2 will be due **Saturday September 25, 2021 at 6 PM**"
   ]
  },
  {
   "cell_type": "markdown",
   "metadata": {},
   "source": [
    "- Learning Log 1 is now released on Gradescope! It is due on Sunday Sept 19, 2021 at 6 PM (It has a grace period if you need it)"
   ]
  },
  {
   "cell_type": "markdown",
   "metadata": {
    "slideshow": {
     "slide_type": "fragment"
    }
   },
   "source": [
    "- Everybody should now be on Ed Discussion by now! \n",
    "    - We will be using it for all course-related announcements"
   ]
  },
  {
   "cell_type": "markdown",
   "metadata": {
    "slideshow": {
     "slide_type": "fragment"
    }
   },
   "source": [
    "- My office hours will be 30 minutes after every class on Monday, Wednesday, and Friday 15:00 - 15:30"
   ]
  },
  {
   "cell_type": "markdown",
   "metadata": {
    "slideshow": {
     "slide_type": "fragment"
    }
   },
   "source": [
    "- Lab sessions will be on Zoom, find the link to your Zoom link on Canvas.\n",
    "\n",
    "<img src=\"images/zoom.png\">\n"
   ]
  },
  {
   "cell_type": "markdown",
   "metadata": {
    "slideshow": {
     "slide_type": "subslide"
    }
   },
   "source": [
    "## Tour of the Jupyter Notebook Interface\n",
    "\n",
    "<img src=\"images/base.png\" width=80% style=\"margin-left:auto; margin-right:auto\">"
   ]
  },
  {
   "cell_type": "markdown",
   "metadata": {
    "slideshow": {
     "slide_type": "subslide"
    }
   },
   "source": [
    "<img src=\"images/notebook1.png\" width=80% style=\"margin-left:auto; margin-right:auto\">"
   ]
  },
  {
   "cell_type": "markdown",
   "metadata": {
    "slideshow": {
     "slide_type": "subslide"
    }
   },
   "source": [
    "<img src=\"images/notebook2.png\" width=80% style=\"margin-left:auto; margin-right:auto\">"
   ]
  },
  {
   "cell_type": "markdown",
   "metadata": {
    "slideshow": {
     "slide_type": "subslide"
    }
   },
   "source": [
    "<img src=\"images/notebook3.png\" width=80% style=\"margin-left:auto; margin-right:auto\">"
   ]
  },
  {
   "cell_type": "markdown",
   "metadata": {
    "slideshow": {
     "slide_type": "subslide"
    }
   },
   "source": [
    "<img src=\"images/notebook4.png\" width=80% style=\"margin-left:auto; margin-right:auto\">"
   ]
  },
  {
   "cell_type": "markdown",
   "metadata": {
    "slideshow": {
     "slide_type": "subslide"
    }
   },
   "source": [
    "<img src=\"images/notebook5.png\" width=80% style=\"margin-left:auto; margin-right:auto\">"
   ]
  },
  {
   "cell_type": "markdown",
   "metadata": {
    "slideshow": {
     "slide_type": "subslide"
    }
   },
   "source": [
    "<img src=\"images/notebook6.png\" width=80% style=\"margin-left:auto; margin-right:auto\">"
   ]
  },
  {
   "cell_type": "markdown",
   "metadata": {},
   "source": [
    "## Introduction to the Project and finding team members (10 min)"
   ]
  },
  {
   "cell_type": "markdown",
   "metadata": {},
   "source": [
    "### Milestone 1 - Find Dataset\n",
    "\n",
    "<head>\n",
    "  <base target=\"_blank\">\n",
    "</head>\n",
    "\n",
    "In this milestone you will be expected to choose a dataset appropriate for the DATA 301 project.\n",
    "The most important task for this milestone is to select an appropriate dataset and load your data.\n",
    "\n",
    "### Overall Expectations\n",
    "\n",
    "- On average, all team members should be contributing to the project equally!\n",
    "- Each team member is responsible for their own research question(s), but the data processing, wrangling, and cleaning steps can be shared.\n",
    "- Your question, analysis and visualizations should make sense, be well-formed, and it does not have to be complicated.\n",
    "- You should use proper grammar and full sentences. Point form may occur, but should be less than 30% of your written documents.\n",
    "- You must use proper English, spelling, and grammar and you should write concisely.\n",
    "- There should be a plan in place to to deal with any teamwork conflicts and issues.\n",
    "\n",
    "### Task 1. Choosing a topic and a dataset and get it approved (50%)\n",
    "\n",
    "1. **YOU MUST HAVE YOUR DATA SET APPROVED BY A TA or the instructor.**\n",
    "    - To get a dataset approved, fill out the questions on Gradescope. The requirements to choose a dataset are below.\n",
    "\n",
    "2. **Note: Though it may sound easy, it is not trivial to choose an interesting and relevant dataset. There are many, many thousands out there and the [tyranny of choice](https://www.economist.com/christmas-specials/2010/12/16/you-choose) is pretty overwhelming. I suggest you choose an \"industry/sector\" (health, technology, finance, sports, etc...), then set a 60 minute timer, start searching, and then choose one before the timer expires. You are welcome to post an issue on Ed Discussion if you want advice or approval of a dataset.**\n",
    "\n",
    "3. Here are the requirements for choosing a dataset:\n",
    "\n",
    "**Permission to use and distribute**\n",
    "\n",
    "- Look for a creative commons license (CC4 for e.g.) or Public Domain and check to make sure you can make it publicly available\n",
    "- Do not use datasets that require authentication, or APIs\n",
    "\n",
    "**Data quality**\n",
    "\n",
    "- Try to choose datasets that have no more than 5-10% missing values\n",
    "- Ensure there are over 5000 observations in the dataset (this means that you can have 5 columns and 1000 rows, or 10 columns and 500 rows, etc...)\n",
    "- Ensure there are at least 5 variables of potential interest in the dataset\n",
    "\n",
    "**Interesting (to you)**\n",
    "\n",
    "- Make sure you have some basic interest in the subject matter!\n",
    "- There's nothing worse than doing a 6 week project on the a boring dataset (please don't pick a movies dataset)\n",
    "- In the final weeks of the course you will be building a Dashboard with your data so choose wisely!\n",
    "\n",
    "**Add your dataset to the repository**\n",
    "\n",
    "- If your dataset is a file, and you have permission to redistribute it, you should add it to the `data/raw` directory\n",
    "\n",
    "5. Below are some examples of datasets you are welcome to use for your project: \n",
    "  \n",
    "- [Bike sharing](https://archive.ics.uci.edu/ml/datasets/bike+sharing+dataset)\n",
    "- [Medical expenses](https://gist.github.com/meperezcuello/82a9f1c1c473d6585e750ad2e3c05a41)\n",
    "- [Default of credit card](https://archive.ics.uci.edu/ml/datasets/default+of+credit+card+clients)\n",
    "- [Adult incomes](https://archive.ics.uci.edu/ml/datasets/adult)\n",
    "- [Parkinsons Telemonitoring](https://archive.ics.uci.edu/ml/datasets/Parkinsons+Telemonitoring)\n",
    "- [Airbnb dataset](http://insideairbnb.com/get-the-data.html) (you can find information about several cities here and pick the one you want)\n",
    "- [Air quality dataset](https://archive.ics.uci.edu/ml/datasets/Air+Quality)\n",
    "\n",
    "There are literally hundreds of thousands of datasets available, I will point you to some high quality sources (keep in mind that I have not personally checked every single dataset):\n",
    "\n",
    "- [fivethirtyeight](https://data.fivethirtyeight.com)\n",
    "- [pudding.cool](https://github.com/the-pudding/data)\n",
    "- [Buzzfeed](https://github.com/BuzzFeedNews/everything)\n",
    "- [Data.gov](https://www.data.gov/)\n",
    "- [data.world](https://data.world/) (requires free account)\n",
    "- [kaggle](https://www.kaggle.com/datasets?license=cc)\n",
    "\n",
    "6. There are a list of datasets that you are **not** allowed to choose either because A) I know them to be popular not but not great for this project, B) too complicated, C) too simple, or D) many students have chosen it in the past and I am now sick of seeing the same analyses :-).\n",
    "\n",
    "- ~[Wine quality](http://archive.ics.uci.edu/ml/datasets/Wine+Quality)~\n",
    "- ~[Pokemon](https://www.kaggle.com/rounakbanik/pokemon)~\n",
    "- ~[Any YouTube Data](https://www.kaggle.com/rsrishav/youtube-trending-video-dataset)~\n",
    "- ~[Spotify Dataset](https://www.kaggle.com/yamaerenay/spotify-dataset-19212020-160k-tracks)~\n",
    "\n",
    "### Task 2. Introduce and describe your dataset and topic. (30%)\n",
    "\n",
    "Once you choose your dataset, you will need to describe your dataset, as well as the topic(s) or research questions you are interested in.\n",
    "\n",
    "**If you are doing a group project, you should do this task together and only one response should be submitted.**\n",
    "Feel free to personalize it a bit though and add sentences or points about individual members of the team. \n",
    "\n",
    "The answers to these questions should be placed in the project's **main** README.md file (located in the main repository).\n",
    "\n",
    "1. Describe your dataset in about 150-200 words\n",
    "\n",
    "Consider the following questions to guide you in your exploration:\n",
    "\n",
    "- Who: Which company/agency/organization provided this data?\n",
    "- What: What is in your data?\n",
    "- When: When was your data collected (for example, for which years)?\n",
    "- Why: What is the purpose of your dataset? Is it for transparency/accountability, public interest, fun, learning, etc...\n",
    "- How: How was your data collected? Was it a human collecting the data? Historical records digitized? Server logs?\n",
    "\n",
    "*Additional Guidance: Your audience is fellow data scientists. You probably will not need more than 150 words to describe your dataset. All the questions above do not need to be answered, it's more to guide your exploration and think a little bit about the context of your data. It is also possible you will not know the answers to some of the questions above, that is FINE - data scientists are often faced with the challenge of analyzing data from unknown sources. Do your best, acknowledge the limitations of your data as well as your understanding of it. Also, make it clear what you're speculating about. For example, \"I speculate that the {...column_name...} column must be related to {....} because {....}.\"*\n",
    "\n",
    "2. Describe your topic/interest in this dataset - answer in about 150-200 words\n",
    "\n",
    "Some questions you may wish to consider:\n",
    "\n",
    "- What do you hope to do with your analytics project? \n",
    "- Why are you interested in this topic or dataset?\n",
    "- Do you have any questions you specifically want to explore?\n",
    "- Could you imagine building a user-facing [Dashboard](https://www.datapine.com/blog/data-dashboards-definition-examples-templates/) with this dataset? \n",
    "  - Note: In the final weeks of the course you will be building a Dashboard with your data so choose wisely!\n",
    "\n",
    "### Task 3: Submission (20%)\n",
    "\n",
    "For each Milestone there will be two submissions on Gradescope:\n",
    "\n",
    "1. Submit your progress to date\n",
    "\n",
    "1. Each team member will also submit a teamwork reflection on Gradescope.\n",
    "> The purpose of this individual report is to give you an avenue to present your viewpoint as to how the project went, how the group worked together, and your role in the group.\n",
    "> Each group member must complete this form to report on the contributions of **yourself** and the other group members.\n",
    "> That information can, if needed, be used to adjust final grades of individuals. \n",
    "> This is a report private between you and the instructors, meaning that none of your classmates will see this report.\n",
    "\n",
    "### Team Assignments\n",
    "\n",
    "You should try to reach out to your teammates as soon as possible via Canvas messages, email, text, etc.\n"
   ]
  },
  {
   "cell_type": "markdown",
   "metadata": {},
   "source": [
    "### Project Teams"
   ]
  },
  {
   "cell_type": "code",
   "execution_count": null,
   "metadata": {},
   "outputs": [],
   "source": []
  },
  {
   "cell_type": "markdown",
   "metadata": {},
   "source": [
    "## Markdown Syntax (10 mins)"
   ]
  },
  {
   "cell_type": "code",
   "execution_count": null,
   "metadata": {},
   "outputs": [],
   "source": []
  },
  {
   "cell_type": "code",
   "execution_count": null,
   "metadata": {},
   "outputs": [],
   "source": []
  },
  {
   "cell_type": "code",
   "execution_count": null,
   "metadata": {},
   "outputs": [],
   "source": []
  },
  {
   "cell_type": "code",
   "execution_count": null,
   "metadata": {},
   "outputs": [],
   "source": []
  },
  {
   "cell_type": "code",
   "execution_count": null,
   "metadata": {},
   "outputs": [],
   "source": []
  },
  {
   "cell_type": "code",
   "execution_count": 5,
   "metadata": {},
   "outputs": [],
   "source": [
    "## That's it! See you next week!"
   ]
  },
  {
   "cell_type": "code",
   "execution_count": null,
   "metadata": {
    "slideshow": {
     "slide_type": "skip"
    },
    "tags": [
     "remove-cell"
    ]
   },
   "outputs": [],
   "source": [
    "## RISE settings \n",
    "\n",
    "from IPython.display import IFrame\n",
    "\n",
    "from traitlets.config.manager import BaseJSONConfigManager\n",
    "from pathlib import Path\n",
    "path = Path.home() / \".jupyter\" / \"nbconfig\"\n",
    "cm = BaseJSONConfigManager(config_dir=str(path))\n",
    "tmp = cm.update(\n",
    "        \"rise\",\n",
    "        {\n",
    "            \"theme\": \"sky\", #blood is dark, nice\n",
    "            \"transition\": \"fade\",\n",
    "            \"start_slideshow_at\": \"selected\",\n",
    "            \"autolaunch\": False,\n",
    "            \"width\": \"100%\",\n",
    "            \"height\": \"100%\",\n",
    "            \"header\": \"\",\n",
    "            \"footer\":\"\",\n",
    "            \"scroll\": True,\n",
    "            \"enable_chalkboard\": True,\n",
    "            \"slideNumber\": True,\n",
    "            \"center\": False,\n",
    "            \"controlsLayout\": \"edges\",\n",
    "            \"slideNumber\": True,\n",
    "            \"hash\": True,\n",
    "        }\n",
    "    )"
   ]
  },
  {
   "cell_type": "code",
   "execution_count": 6,
   "metadata": {},
   "outputs": [
    {
     "data": {
      "text/html": [
       "<style>/* ---------- markdown cells\n",
       " */\n",
       "body.rise-enabled div.inner_cell>div.text_cell_render.rendered_html {\n",
       "    font-size: 120%;\n",
       "}\n",
       "\n",
       "\n",
       "/* ---------- code blocks inside markdown\n",
       "   i.e. within ``` lines, or 4-space indented\n",
       " */\n",
       "div.inner_cell>div.text_cell_render.rendered_html>pre {\n",
       "    margin: 0px;\n",
       "}\n",
       "\n",
       "/* ----------- code to remove space above markdown headers\n",
       " */\n",
       "div.inner_cell>div.text_cell_render.rendered_html h1 {\n",
       "    margin-top: 0px;\n",
       "}\n",
       "div.inner_cell>div.text_cell_render.rendered_html h2 {\n",
       "    margin-top: 0px;\n",
       "}\n",
       "div.inner_cell>div.text_cell_render.rendered_html h3 {\n",
       "    margin-top: 0px;\n",
       "}\n",
       "div.inner_cell>div.text_cell_render.rendered_html h4 {\n",
       "    margin-top: 0px;\n",
       "}\n",
       "\n",
       "div.inner_cell>div.text_cell_render.rendered_html>pre>code {\n",
       "    font-size: 70%;\n",
       "}\n",
       "\n",
       "/* ---------- tables (from SO)\n",
       " */\n",
       ".rendered_html table, .rendered_html th, .rendered_html tr, .rendered_html td {\n",
       "     font-size: 120%;\n",
       "}\n",
       "\n",
       "/* ---------- Left part of code cells\n",
       "    from this SO answer: https://stackoverflow.com/a/47263575;\n",
       " /* Narrow the prompts */\n",
       "div.prompt_container {\n",
       "    min-width: 5ex;\n",
       "}\n",
       "/* Hide prompts altogether for non-code cells */\n",
       ".cell:not(.code_cell) .prompt {\n",
       "    display: none;\n",
       "}\n",
       "/* ---------- Width of cells\n",
       " */\n",
       ".container {\n",
       "    width:95% !important;\n",
       "}\n",
       "\n",
       "\n",
       "/* ---------- Vertical Whitespace\n",
       " */\n",
       ".vspace {\n",
       "    margin-top:50px;\n",
       "}\n",
       "/* \n",
       "div.cell.code_cell.rendered.selected, {\n",
       "    border-width:10px;\n",
       "    border-style:solid;\n",
       "    border-color:red;    \n",
       "} */\n",
       "\n",
       "\n",
       "/* Removes the border of cells */\n",
       "\n",
       "div.cell {\n",
       "    border-width:0px;\n",
       "}\n",
       "\n",
       "/* Increases the thickness of the blue and green (whether or not the cell is selected */\n",
       "\n",
       "div.cell.selected:before; .edit_mode div.cell.selected:before {\n",
       "    width: 20px;\n",
       "}\n",
       "</style>"
      ],
      "text/plain": [
       "<IPython.core.display.HTML object>"
      ]
     },
     "execution_count": 6,
     "metadata": {},
     "output_type": "execute_result"
    }
   ],
   "source": [
    "from IPython.display import IFrame\n",
    "from IPython.display import Markdown\n",
    "# Additional styling ; should be moved into helpers\n",
    "from IPython.core.display import display, HTML\n",
    "HTML('<style>{}</style>'.format(open('rise.css').read()))"
   ]
  }
 ],
 "metadata": {
  "celltoolbar": "Slideshow",
  "kernelspec": {
   "display_name": "Python 3 (ipykernel)",
   "language": "python",
   "name": "python3"
  },
  "language_info": {
   "codemirror_mode": {
    "name": "ipython",
    "version": 3
   },
   "file_extension": ".py",
   "mimetype": "text/x-python",
   "name": "python",
   "nbconvert_exporter": "python",
   "pygments_lexer": "ipython3",
   "version": "3.9.7"
  }
 },
 "nbformat": 4,
 "nbformat_minor": 4
}
