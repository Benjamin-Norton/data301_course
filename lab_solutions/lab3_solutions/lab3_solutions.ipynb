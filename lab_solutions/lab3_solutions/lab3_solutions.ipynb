{
  "cells": [
    {
      "cell_type": "markdown",
      "source": [
        "# Lab 3: Python Functions, Lists, and Dictionaries\n",
        "In this lab you will be working on python basics.\n",
        "\n",
        "**This lab must be completed individually.**\n",
        "\n",
        "Where provided, try your best to match the **Sample Output** as best as you can.\n",
        "\n",
        "## Accept the lab\n",
        "\n",
        "To accept this lab on GitHub Classroom, [you must click this link](https://classroom.github.com/a/6V9fm8Hj)."
      ],
      "metadata": {}
    },
    {
      "cell_type": "markdown",
      "source": [
        "## Objectives\n",
        "\n",
        "1. Practice Python loops and conditions\n",
        "2. Practice Python lists and dictionaries\n",
        "3. Practice string manipulation in Python\n",
        "4. Practice importing and using the Pandas module"
      ],
      "metadata": {}
    },
    {
      "cell_type": "markdown",
      "source": [
        "## Part 1: Python Fundamentals (10 marks)\n",
        "\n",
        "This part of the lab takes you through some of the fundamental components of Python."
      ],
      "metadata": {}
    },
    {
      "cell_type": "markdown",
      "source": [
        "### 1A: `if-elif-else` statements (2 marks)\n",
        "\n",
        "Fill in missing pieces of the following code such that print statements make sense. You should replace <YOUR_CODE_HERE> with your code."
      ],
      "metadata": {}
    },
    {
      "cell_type": "code",
      "source": [],
      "outputs": [],
      "execution_count": 1,
      "metadata": {}
    },
    {
      "cell_type": "code",
      "source": [
        "name = 'Jon kflk'\n",
        "\n",
        "### Your solution here\n",
        "\n",
        "if len(name)>18:\n",
        "    print('Name \"{}\" is more than 18 chars long'.format(name))\n",
        "    length_description = 'long'\n",
        "elif len(name) > 15:\n",
        "    print('Name \"{}\" is more than 15 chars long'.format(name))\n",
        "    length_description = 'semi long'\n",
        "elif len(name) > 12:\n",
        "    print('Name \"{}\" is more than 12 chars long'.format(name))\n",
        "    length_description = 'semi long'\n",
        "elif 9 <= len(name) <= 11:\n",
        "    print('Name \"{}\" is 9, 10 or 11 chars long'.format(name))\n",
        "    length_description = 'semi short'\n",
        "else:\n",
        "    print('Name \"{}\" is a short name'.format(name))\n",
        "    length_description = 'short'"
      ],
      "outputs": [
        {
          "output_type": "stream",
          "name": "stdout",
          "text": [
            "Name \"Jon kflk\" is a short name\n"
          ]
        }
      ],
      "execution_count": 20,
      "metadata": {
        "execution": {
          "shell.execute_reply": "2020-11-19T16:51:29.564Z",
          "iopub.status.busy": "2020-11-19T16:51:29.534Z",
          "iopub.execute_input": "2020-11-19T16:51:29.541Z",
          "iopub.status.idle": "2020-11-19T16:51:29.557Z"
        }
      }
    },
    {
      "cell_type": "markdown",
      "source": [
        "### 1B: `for` loops (2 marks)\n",
        "\n",
        "Fill <YOUR_CODE_HERE> in the code snippet below so that this sample output is printed:\n",
        "\n",
        "#### Sample Output\n",
        "> A<br>\n",
        "> AA<br>\n",
        "> AAA<br>\n",
        "> AAAA<br>\n",
        "> AAAAA<br>\n",
        "> AAAA<br>\n",
        "> AAA<br>\n",
        "> AA<br>\n",
        "> A<br>"
      ],
      "metadata": {}
    },
    {
      "cell_type": "code",
      "source": [
        "### Your solution here\n",
        "\n",
        "n = 10\n",
        "for i in range(1,n):\n",
        "    if i < n/2:\n",
        "        print(\"A\" * i)\n",
        "    else:\n",
        "        print(\"A\" * (n-i))"
      ],
      "outputs": [
        {
          "output_type": "stream",
          "name": "stdout",
          "text": [
            "A\n",
            "AA\n",
            "AAA\n",
            "AAAA\n",
            "AAAAA\n",
            "AAAA\n",
            "AAA\n",
            "AA\n",
            "A\n"
          ]
        }
      ],
      "execution_count": 23,
      "metadata": {
        "execution": {
          "iopub.status.busy": "2020-11-19T16:53:46.295Z",
          "iopub.execute_input": "2020-11-19T16:53:46.303Z",
          "iopub.status.idle": "2020-11-19T16:53:46.321Z",
          "shell.execute_reply": "2020-11-19T16:53:46.329Z"
        }
      }
    },
    {
      "cell_type": "markdown",
      "source": [
        "### 1C: `for` loops and `lists`\n",
        "\n",
        "We have given you some sample code, as well as a list called `data`. \n",
        "\n",
        "> data = [53,9,5,90,63,5,97,40,92,48,53,8,38,63,13,15,66,81,57,79,42,91,25,89,66,4,73,45,80,17]\n",
        "\n",
        "For each of the exercises 1C1 - 1CX, use the `data` list to answer the question by writing the appropriate bits of python code."
      ],
      "metadata": {}
    },
    {
      "cell_type": "markdown",
      "source": [
        "#### 1C1. Print values that are within the upper and lower bounds of 15 and 40 (2 marks)\n",
        "\n",
        "*Hint: Use a for loop and loop through each of the elements in data*\n",
        "\n",
        "##### Sample output (it's okay if yours is vertical rather than horizontally printed):\n",
        "\n",
        "> [40, 38, 15, 25, 17]\n"
      ],
      "metadata": {}
    },
    {
      "cell_type": "code",
      "source": [
        "data = [53,9,5,90,63,5,97,40,92,48,53,8,38,63,13,15,66,81,57,79,42,91,25,89,66,4,73,45,80,17]\n",
        "\n",
        "### Your solution here\n",
        "\n",
        "for d in data:\n",
        "  if 15 <= d <= 40:\n",
        "    print(d)"
      ],
      "outputs": [
        {
          "output_type": "stream",
          "name": "stdout",
          "text": [
            "40\n",
            "38\n",
            "15\n",
            "25\n",
            "17\n"
          ]
        }
      ],
      "execution_count": 25,
      "metadata": {
        "execution": {
          "iopub.status.busy": "2020-11-19T16:56:11.357Z",
          "iopub.execute_input": "2020-11-19T16:56:11.365Z",
          "iopub.status.idle": "2020-11-19T16:56:11.386Z",
          "shell.execute_reply": "2020-11-19T16:56:11.395Z"
        }
      }
    },
    {
      "cell_type": "markdown",
      "source": [
        "#### 1C2. Write code to calculate and print the maximum, minimum, sum, count, and average of items in `data`  (4 marks)\n",
        "\n",
        "*Hint: for the mean, you will need to combine the sum and the count*\n",
        "\n",
        "##### Sample output\n",
        "\n",
        "> The max is: 97 <br/>\n",
        "> The min is: 4 <br/>\n",
        "> The sum is: 1507 <br/>\n",
        "> The count is: 30 <br/>\n",
        "> The mean is: 50.233333333333334 <br/>"
      ],
      "metadata": {}
    },
    {
      "cell_type": "code",
      "source": [
        "min(data)"
      ],
      "outputs": [
        {
          "output_type": "execute_result",
          "execution_count": 30,
          "data": {
            "text/plain": "4"
          },
          "metadata": {}
        }
      ],
      "execution_count": 30,
      "metadata": {
        "collapsed": true,
        "jupyter": {
          "source_hidden": false,
          "outputs_hidden": false
        },
        "nteract": {
          "transient": {
            "deleting": false
          }
        },
        "execution": {
          "iopub.status.busy": "2020-11-19T16:57:25.017Z",
          "iopub.execute_input": "2020-11-19T16:57:25.024Z",
          "iopub.status.idle": "2020-11-19T16:57:25.110Z",
          "shell.execute_reply": "2020-11-19T16:57:25.117Z"
        }
      }
    },
    {
      "cell_type": "code",
      "source": [
        "### Your solution here\n",
        "\n",
        "print('The max is: {0}'.format(max(data)))\n",
        "print('The min is: {0}'.format(min(data)))\n",
        "print('The sum is: {0}'.format(sum(data)))\n",
        "print('The count is: {0}'.format(len(data)))\n",
        "print('The mean is: {0}'.format(sum(data)/len(data)))"
      ],
      "outputs": [
        {
          "output_type": "stream",
          "name": "stdout",
          "text": [
            "The max is: 97\n",
            "The min is: 4\n",
            "The sum is: 1507\n",
            "The count is: 30\n",
            "The mean is: 50.233333333333334\n"
          ]
        }
      ],
      "execution_count": 40,
      "metadata": {
        "execution": {
          "iopub.status.busy": "2020-11-19T16:59:12.634Z",
          "iopub.execute_input": "2020-11-19T16:59:12.643Z",
          "iopub.status.idle": "2020-11-19T16:59:12.666Z",
          "shell.execute_reply": "2020-11-19T16:59:12.674Z"
        }
      }
    },
    {
      "cell_type": "markdown",
      "source": [
        "#### 1D3. (Optional) Using list comprehension (NOT for loops), print out the numbers within the specified upper and lower bounds (inclusive) of 12 and 80 (0 marks).\n",
        "\n",
        "#### Sample output:\n",
        "> [53, 63, 40, 48, 53, 38, 63, 13, 15, 66, 57, 79, 42, 25, 66, 73, 45, 80, 17]"
      ],
      "metadata": {}
    },
    {
      "cell_type": "code",
      "source": [
        "### Your solution here\n",
        "\n",
        "[d for d in data if 12 <= d <= 80]"
      ],
      "outputs": [
        {
          "output_type": "execute_result",
          "execution_count": 41,
          "data": {
            "text/plain": "[53, 63, 40, 48, 53, 38, 63, 13, 15, 66, 57, 79, 42, 25, 66, 73, 45, 80, 17]"
          },
          "metadata": {}
        }
      ],
      "execution_count": 41,
      "metadata": {
        "execution": {
          "iopub.status.busy": "2020-11-19T16:59:49.025Z",
          "iopub.execute_input": "2020-11-19T16:59:49.034Z",
          "iopub.status.idle": "2020-11-19T16:59:49.051Z",
          "shell.execute_reply": "2020-11-19T16:59:49.060Z"
        }
      }
    },
    {
      "cell_type": "markdown",
      "source": [
        "## Part 2: Working with data using pandas (12 marks)\n",
        "\n",
        "In this part of the lab, we will practice loading in a sample data set using pandas, and doing some basic operations."
      ],
      "metadata": {}
    },
    {
      "cell_type": "markdown",
      "source": [
        "### 2A1. Load in the data (4 marks)\n",
        "\n",
        "Here is the URL of the `pokemon` dataset inside the `data` folder.\n",
        "\n",
        "Your task is to use the pandas [`read_csv()`](https://pandas.pydata.org/pandas-docs/stable/reference/api/pandas.read_csv.html) function to read this dataset, assign it to a dataframe called `df`, and then print its [`head`](https://pandas.pydata.org/pandas-docs/stable/reference/api/pandas.DataFrame.head.html) also known as the first 5 lines of the dataframe.\n",
        "\n",
        "*Hint: don't forget to first `import pandas as pd` to use `read_csv` and other pandas function.*"
      ],
      "metadata": {}
    },
    {
      "cell_type": "code",
      "source": [
        "### Your solution here\n",
        "import pandas as pd\n",
        "\n",
        "df = pd.read_csv('https://raw.githubusercontent.com/firasm/bits/master/pokemon.csv')\n",
        "df.head()\n",
        "# or \n",
        "\n",
        "# df = pd.read_csv('data/pokemon.csv')\n",
        "# df.head()"
      ],
      "outputs": [
        {
          "output_type": "execute_result",
          "execution_count": 46,
          "data": {
            "text/plain": "   #                   Name Type 1  Type 2  Total  HP  Attack  Defense  \\\n0  1              Bulbasaur  Grass  Poison    318  45      49       49   \n1  2                Ivysaur  Grass  Poison    405  60      62       63   \n2  3               Venusaur  Grass  Poison    525  80      82       83   \n3  3  VenusaurMega Venusaur  Grass  Poison    625  80     100      123   \n4  4             Charmander   Fire     NaN    309  39      52       43   \n\n   Sp. Atk  Sp. Def  Speed  Generation  Legendary  \n0       65       65     45           1      False  \n1       80       80     60           1      False  \n2      100      100     80           1      False  \n3      122      120     80           1      False  \n4       60       50     65           1      False  ",
            "text/html": "<div>\n<style scoped>\n    .dataframe tbody tr th:only-of-type {\n        vertical-align: middle;\n    }\n\n    .dataframe tbody tr th {\n        vertical-align: top;\n    }\n\n    .dataframe thead th {\n        text-align: right;\n    }\n</style>\n<table border=\"1\" class=\"dataframe\">\n  <thead>\n    <tr style=\"text-align: right;\">\n      <th></th>\n      <th>#</th>\n      <th>Name</th>\n      <th>Type 1</th>\n      <th>Type 2</th>\n      <th>Total</th>\n      <th>HP</th>\n      <th>Attack</th>\n      <th>Defense</th>\n      <th>Sp. Atk</th>\n      <th>Sp. Def</th>\n      <th>Speed</th>\n      <th>Generation</th>\n      <th>Legendary</th>\n    </tr>\n  </thead>\n  <tbody>\n    <tr>\n      <th>0</th>\n      <td>1</td>\n      <td>Bulbasaur</td>\n      <td>Grass</td>\n      <td>Poison</td>\n      <td>318</td>\n      <td>45</td>\n      <td>49</td>\n      <td>49</td>\n      <td>65</td>\n      <td>65</td>\n      <td>45</td>\n      <td>1</td>\n      <td>False</td>\n    </tr>\n    <tr>\n      <th>1</th>\n      <td>2</td>\n      <td>Ivysaur</td>\n      <td>Grass</td>\n      <td>Poison</td>\n      <td>405</td>\n      <td>60</td>\n      <td>62</td>\n      <td>63</td>\n      <td>80</td>\n      <td>80</td>\n      <td>60</td>\n      <td>1</td>\n      <td>False</td>\n    </tr>\n    <tr>\n      <th>2</th>\n      <td>3</td>\n      <td>Venusaur</td>\n      <td>Grass</td>\n      <td>Poison</td>\n      <td>525</td>\n      <td>80</td>\n      <td>82</td>\n      <td>83</td>\n      <td>100</td>\n      <td>100</td>\n      <td>80</td>\n      <td>1</td>\n      <td>False</td>\n    </tr>\n    <tr>\n      <th>3</th>\n      <td>3</td>\n      <td>VenusaurMega Venusaur</td>\n      <td>Grass</td>\n      <td>Poison</td>\n      <td>625</td>\n      <td>80</td>\n      <td>100</td>\n      <td>123</td>\n      <td>122</td>\n      <td>120</td>\n      <td>80</td>\n      <td>1</td>\n      <td>False</td>\n    </tr>\n    <tr>\n      <th>4</th>\n      <td>4</td>\n      <td>Charmander</td>\n      <td>Fire</td>\n      <td>NaN</td>\n      <td>309</td>\n      <td>39</td>\n      <td>52</td>\n      <td>43</td>\n      <td>60</td>\n      <td>50</td>\n      <td>65</td>\n      <td>1</td>\n      <td>False</td>\n    </tr>\n  </tbody>\n</table>\n</div>"
          },
          "metadata": {}
        }
      ],
      "execution_count": 46,
      "metadata": {
        "execution": {
          "iopub.status.busy": "2020-11-19T17:01:14.004Z",
          "iopub.execute_input": "2020-11-19T17:01:14.012Z",
          "iopub.status.idle": "2020-11-19T17:01:14.076Z",
          "shell.execute_reply": "2020-11-19T17:01:14.274Z"
        }
      }
    },
    {
      "cell_type": "markdown",
      "source": [
        "### 2A2. How many total pokemon are there in the dataset? (2 mark)\n",
        "\n",
        "Make sure to use the `dataframe.count()` function to print the total number of entries in each column of the dataframe before you answer!"
      ],
      "metadata": {}
    },
    {
      "cell_type": "code",
      "source": [
        "### Your solution here\n",
        "\n",
        "df.count()"
      ],
      "outputs": [
        {
          "output_type": "execute_result",
          "execution_count": 47,
          "data": {
            "text/plain": "#             800\nName          800\nType 1        800\nType 2        414\nTotal         800\nHP            800\nAttack        800\nDefense       800\nSp. Atk       800\nSp. Def       800\nSpeed         800\nGeneration    800\nLegendary     800\ndtype: int64"
          },
          "metadata": {}
        }
      ],
      "execution_count": 47,
      "metadata": {
        "execution": {
          "iopub.status.busy": "2020-11-19T17:01:27.216Z",
          "iopub.execute_input": "2020-11-19T17:01:27.225Z",
          "iopub.status.idle": "2020-11-19T17:01:27.243Z",
          "shell.execute_reply": "2020-11-19T17:01:27.251Z"
        }
      }
    },
    {
      "cell_type": "markdown",
      "source": [
        "### 2A3. Create a new dataframe `df2` that only includes the Pokemon from the first generation. (2 marks)\n",
        "\n",
        "*Hint: Remember that you can subset dataframes using the `[]` syntax. [More on this here](https://pandas.pydata.org/docs/getting_started/intro_tutorials/03_subset_data.html)*"
      ],
      "metadata": {}
    },
    {
      "cell_type": "code",
      "source": [
        "### Your solution here\n",
        "\n",
        "df2 = df[df['Generation']==1]\n",
        "\n",
        "df2"
      ],
      "outputs": [
        {
          "output_type": "execute_result",
          "execution_count": 58,
          "data": {
            "text/plain": "       #                   Name   Type 1    Type 2  Total   HP  Attack  \\\n0      1              Bulbasaur    Grass    Poison    318   45      49   \n1      2                Ivysaur    Grass    Poison    405   60      62   \n2      3               Venusaur    Grass    Poison    525   80      82   \n3      3  VenusaurMega Venusaur    Grass    Poison    625   80     100   \n4      4             Charmander     Fire       NaN    309   39      52   \n..   ...                    ...      ...       ...    ...  ...     ...   \n161  149              Dragonite   Dragon    Flying    600   91     134   \n162  150                 Mewtwo  Psychic       NaN    680  106     110   \n163  150    MewtwoMega Mewtwo X  Psychic  Fighting    780  106     190   \n164  150    MewtwoMega Mewtwo Y  Psychic       NaN    780  106     150   \n165  151                    Mew  Psychic       NaN    600  100     100   \n\n     Defense  Sp. Atk  Sp. Def  Speed  Generation  Legendary  \n0         49       65       65     45           1      False  \n1         63       80       80     60           1      False  \n2         83      100      100     80           1      False  \n3        123      122      120     80           1      False  \n4         43       60       50     65           1      False  \n..       ...      ...      ...    ...         ...        ...  \n161       95      100      100     80           1      False  \n162       90      154       90    130           1       True  \n163      100      154      100    130           1       True  \n164       70      194      120    140           1       True  \n165      100      100      100    100           1      False  \n\n[166 rows x 13 columns]",
            "text/html": "<div>\n<style scoped>\n    .dataframe tbody tr th:only-of-type {\n        vertical-align: middle;\n    }\n\n    .dataframe tbody tr th {\n        vertical-align: top;\n    }\n\n    .dataframe thead th {\n        text-align: right;\n    }\n</style>\n<table border=\"1\" class=\"dataframe\">\n  <thead>\n    <tr style=\"text-align: right;\">\n      <th></th>\n      <th>#</th>\n      <th>Name</th>\n      <th>Type 1</th>\n      <th>Type 2</th>\n      <th>Total</th>\n      <th>HP</th>\n      <th>Attack</th>\n      <th>Defense</th>\n      <th>Sp. Atk</th>\n      <th>Sp. Def</th>\n      <th>Speed</th>\n      <th>Generation</th>\n      <th>Legendary</th>\n    </tr>\n  </thead>\n  <tbody>\n    <tr>\n      <th>0</th>\n      <td>1</td>\n      <td>Bulbasaur</td>\n      <td>Grass</td>\n      <td>Poison</td>\n      <td>318</td>\n      <td>45</td>\n      <td>49</td>\n      <td>49</td>\n      <td>65</td>\n      <td>65</td>\n      <td>45</td>\n      <td>1</td>\n      <td>False</td>\n    </tr>\n    <tr>\n      <th>1</th>\n      <td>2</td>\n      <td>Ivysaur</td>\n      <td>Grass</td>\n      <td>Poison</td>\n      <td>405</td>\n      <td>60</td>\n      <td>62</td>\n      <td>63</td>\n      <td>80</td>\n      <td>80</td>\n      <td>60</td>\n      <td>1</td>\n      <td>False</td>\n    </tr>\n    <tr>\n      <th>2</th>\n      <td>3</td>\n      <td>Venusaur</td>\n      <td>Grass</td>\n      <td>Poison</td>\n      <td>525</td>\n      <td>80</td>\n      <td>82</td>\n      <td>83</td>\n      <td>100</td>\n      <td>100</td>\n      <td>80</td>\n      <td>1</td>\n      <td>False</td>\n    </tr>\n    <tr>\n      <th>3</th>\n      <td>3</td>\n      <td>VenusaurMega Venusaur</td>\n      <td>Grass</td>\n      <td>Poison</td>\n      <td>625</td>\n      <td>80</td>\n      <td>100</td>\n      <td>123</td>\n      <td>122</td>\n      <td>120</td>\n      <td>80</td>\n      <td>1</td>\n      <td>False</td>\n    </tr>\n    <tr>\n      <th>4</th>\n      <td>4</td>\n      <td>Charmander</td>\n      <td>Fire</td>\n      <td>NaN</td>\n      <td>309</td>\n      <td>39</td>\n      <td>52</td>\n      <td>43</td>\n      <td>60</td>\n      <td>50</td>\n      <td>65</td>\n      <td>1</td>\n      <td>False</td>\n    </tr>\n    <tr>\n      <th>...</th>\n      <td>...</td>\n      <td>...</td>\n      <td>...</td>\n      <td>...</td>\n      <td>...</td>\n      <td>...</td>\n      <td>...</td>\n      <td>...</td>\n      <td>...</td>\n      <td>...</td>\n      <td>...</td>\n      <td>...</td>\n      <td>...</td>\n    </tr>\n    <tr>\n      <th>161</th>\n      <td>149</td>\n      <td>Dragonite</td>\n      <td>Dragon</td>\n      <td>Flying</td>\n      <td>600</td>\n      <td>91</td>\n      <td>134</td>\n      <td>95</td>\n      <td>100</td>\n      <td>100</td>\n      <td>80</td>\n      <td>1</td>\n      <td>False</td>\n    </tr>\n    <tr>\n      <th>162</th>\n      <td>150</td>\n      <td>Mewtwo</td>\n      <td>Psychic</td>\n      <td>NaN</td>\n      <td>680</td>\n      <td>106</td>\n      <td>110</td>\n      <td>90</td>\n      <td>154</td>\n      <td>90</td>\n      <td>130</td>\n      <td>1</td>\n      <td>True</td>\n    </tr>\n    <tr>\n      <th>163</th>\n      <td>150</td>\n      <td>MewtwoMega Mewtwo X</td>\n      <td>Psychic</td>\n      <td>Fighting</td>\n      <td>780</td>\n      <td>106</td>\n      <td>190</td>\n      <td>100</td>\n      <td>154</td>\n      <td>100</td>\n      <td>130</td>\n      <td>1</td>\n      <td>True</td>\n    </tr>\n    <tr>\n      <th>164</th>\n      <td>150</td>\n      <td>MewtwoMega Mewtwo Y</td>\n      <td>Psychic</td>\n      <td>NaN</td>\n      <td>780</td>\n      <td>106</td>\n      <td>150</td>\n      <td>70</td>\n      <td>194</td>\n      <td>120</td>\n      <td>140</td>\n      <td>1</td>\n      <td>True</td>\n    </tr>\n    <tr>\n      <th>165</th>\n      <td>151</td>\n      <td>Mew</td>\n      <td>Psychic</td>\n      <td>NaN</td>\n      <td>600</td>\n      <td>100</td>\n      <td>100</td>\n      <td>100</td>\n      <td>100</td>\n      <td>100</td>\n      <td>100</td>\n      <td>1</td>\n      <td>False</td>\n    </tr>\n  </tbody>\n</table>\n<p>166 rows × 13 columns</p>\n</div>"
          },
          "metadata": {}
        }
      ],
      "execution_count": 58,
      "metadata": {
        "execution": {
          "iopub.status.busy": "2020-11-19T17:02:34.397Z",
          "iopub.execute_input": "2020-11-19T17:02:34.407Z",
          "iopub.status.idle": "2020-11-19T17:02:34.425Z",
          "shell.execute_reply": "2020-11-19T17:02:34.434Z"
        }
      }
    },
    {
      "cell_type": "markdown",
      "source": [
        "### 2A4. Print ONLY the mean HP, Attack, Defense, and Speed of all pokemon in the first generation using pandas functions (4 marks)"
      ],
      "metadata": {}
    },
    {
      "cell_type": "code",
      "source": [
        "### Your solution here\n",
        "\n",
        "df[df['Generation']==1][['HP','Attack','Defense','Speed']].mean()\n",
        "\n",
        "# OR \n",
        "\n",
        "df2[['HP','Attack','Defense','Speed']].mean()"
      ],
      "outputs": [
        {
          "output_type": "execute_result",
          "execution_count": 59,
          "data": {
            "text/plain": "HP         65.819277\nAttack     76.638554\nDefense    70.861446\nSpeed      72.584337\ndtype: float64"
          },
          "metadata": {}
        }
      ],
      "execution_count": 59,
      "metadata": {
        "execution": {
          "iopub.status.busy": "2020-11-19T17:02:36.109Z",
          "iopub.execute_input": "2020-11-19T17:02:36.118Z",
          "iopub.status.idle": "2020-11-19T17:02:36.135Z",
          "shell.execute_reply": "2020-11-19T17:02:36.144Z"
        }
      }
    },
    {
      "cell_type": "markdown",
      "source": [
        "## Part 3 - Dictionaries, Lists and data manapulation (10 marks)\n",
        "\n",
        "In this part we explore another fundamental data structure in python, called Dictionaries."
      ],
      "metadata": {}
    },
    {
      "cell_type": "markdown",
      "source": [
        "### 3A. Create a dictionary that has 3 keys: name, age and salary, and enter in the following dummy information. (2 marks)\n",
        "\n",
        "#### Sample output\n",
        "> {'name': 'Tim Cook', 'age': 59, 'salary': 3000000.0}"
      ],
      "metadata": {}
    },
    {
      "cell_type": "code",
      "source": [
        "### Your solution here\n",
        "\n",
        "test_dict = {'name':'Tim Cook',\n",
        "             'age': 59,\n",
        "             'salary':3E7}\n",
        "\n",
        "test_dict"
      ],
      "outputs": [
        {
          "output_type": "execute_result",
          "execution_count": 61,
          "data": {
            "text/plain": "{'name': 'Tim Cook', 'age': 59, 'salary': 30000000.0}"
          },
          "metadata": {}
        }
      ],
      "execution_count": 61,
      "metadata": {
        "execution": {
          "iopub.status.busy": "2020-11-19T17:02:48.154Z",
          "iopub.execute_input": "2020-11-19T17:02:48.165Z",
          "iopub.status.idle": "2020-11-19T17:02:48.184Z",
          "shell.execute_reply": "2020-11-19T17:02:48.193Z"
        }
      }
    },
    {
      "cell_type": "markdown",
      "source": [
        "### 3B. Create a second dictionary, this time with at least 5 different names, ages, and salaries. (2 marks)\n",
        "\n",
        "*Hint: There should only be three keys, and the values should be a list.*\n",
        "\n",
        "#### Sample Output\n",
        "\n",
        "> {'name': ['Tim Cook', 'Person 2', 'Person 3'],\n",
        "> 'age': [59, 24, 40],\n",
        "> 'salary': [30000000.0, 200000.0, 900000.0]}"
      ],
      "metadata": {}
    },
    {
      "cell_type": "code",
      "source": [
        "### Your solution here\n",
        "\n",
        "test_dict = {'name':['Tim Cook','Person 2','Person 3'],\n",
        "             'age': [59,24,40],\n",
        "             'salary':[3E7,2E5,9E5]}"
      ],
      "outputs": [],
      "execution_count": 63,
      "metadata": {
        "execution": {
          "iopub.status.busy": "2020-11-19T17:03:00.153Z",
          "iopub.execute_input": "2020-11-19T17:03:00.162Z",
          "iopub.status.idle": "2020-11-19T17:03:00.176Z",
          "shell.execute_reply": "2020-11-19T17:03:00.185Z"
        }
      }
    },
    {
      "cell_type": "markdown",
      "source": [
        "### 3C. Create a pandas dataframe using the dictionary you created above (2 marks)\n",
        "\n",
        "**Hint: Use the `pd.DataFrame.from_dict()` method**\n",
        "\n",
        "#### Sample output\n",
        "<img src=\"images/df.png\" width=\"300px\">"
      ],
      "metadata": {}
    },
    {
      "cell_type": "code",
      "source": [
        "### Your solution here\n",
        "\n",
        "df_salary = pd.DataFrame.from_dict(test_dict)\n",
        "\n",
        "df_salary"
      ],
      "outputs": [
        {
          "output_type": "execute_result",
          "execution_count": 64,
          "data": {
            "text/plain": "       name  age      salary\n0  Tim Cook   59  30000000.0\n1  Person 2   24    200000.0\n2  Person 3   40    900000.0",
            "text/html": "<div>\n<style scoped>\n    .dataframe tbody tr th:only-of-type {\n        vertical-align: middle;\n    }\n\n    .dataframe tbody tr th {\n        vertical-align: top;\n    }\n\n    .dataframe thead th {\n        text-align: right;\n    }\n</style>\n<table border=\"1\" class=\"dataframe\">\n  <thead>\n    <tr style=\"text-align: right;\">\n      <th></th>\n      <th>name</th>\n      <th>age</th>\n      <th>salary</th>\n    </tr>\n  </thead>\n  <tbody>\n    <tr>\n      <th>0</th>\n      <td>Tim Cook</td>\n      <td>59</td>\n      <td>30000000.0</td>\n    </tr>\n    <tr>\n      <th>1</th>\n      <td>Person 2</td>\n      <td>24</td>\n      <td>200000.0</td>\n    </tr>\n    <tr>\n      <th>2</th>\n      <td>Person 3</td>\n      <td>40</td>\n      <td>900000.0</td>\n    </tr>\n  </tbody>\n</table>\n</div>"
          },
          "metadata": {}
        }
      ],
      "execution_count": 64,
      "metadata": {
        "execution": {
          "iopub.status.busy": "2020-11-19T17:03:13.018Z",
          "iopub.execute_input": "2020-11-19T17:03:13.029Z",
          "iopub.status.idle": "2020-11-19T17:03:13.054Z",
          "shell.execute_reply": "2020-11-19T17:03:13.062Z"
        }
      }
    },
    {
      "cell_type": "markdown",
      "source": [
        "### 3D. Rename all three columns of the dataframe (4 mark)\n",
        "\n",
        "*Hint: you should use the pandas function [rename()](https://pandas.pydata.org/pandas-docs/stable/reference/api/pandas.DataFrame.rename.html) to accomplish this. You can rename it to whatever you like, just show us you are able to use this function*\n"
      ],
      "metadata": {}
    },
    {
      "cell_type": "code",
      "source": [
        "### Your solution here\n",
        "df_salary.rename(columns={\"name\":\"Full Name\",\n",
        "                          \"age\": \"Age\",\n",
        "                          \"salary\": \"Annual Salary\"})"
      ],
      "outputs": [
        {
          "output_type": "execute_result",
          "execution_count": 65,
          "data": {
            "text/plain": "  Full Name  Age  Annual Salary\n0  Tim Cook   59     30000000.0\n1  Person 2   24       200000.0\n2  Person 3   40       900000.0",
            "text/html": "<div>\n<style scoped>\n    .dataframe tbody tr th:only-of-type {\n        vertical-align: middle;\n    }\n\n    .dataframe tbody tr th {\n        vertical-align: top;\n    }\n\n    .dataframe thead th {\n        text-align: right;\n    }\n</style>\n<table border=\"1\" class=\"dataframe\">\n  <thead>\n    <tr style=\"text-align: right;\">\n      <th></th>\n      <th>Full Name</th>\n      <th>Age</th>\n      <th>Annual Salary</th>\n    </tr>\n  </thead>\n  <tbody>\n    <tr>\n      <th>0</th>\n      <td>Tim Cook</td>\n      <td>59</td>\n      <td>30000000.0</td>\n    </tr>\n    <tr>\n      <th>1</th>\n      <td>Person 2</td>\n      <td>24</td>\n      <td>200000.0</td>\n    </tr>\n    <tr>\n      <th>2</th>\n      <td>Person 3</td>\n      <td>40</td>\n      <td>900000.0</td>\n    </tr>\n  </tbody>\n</table>\n</div>"
          },
          "metadata": {}
        }
      ],
      "execution_count": 65,
      "metadata": {
        "execution": {
          "iopub.status.busy": "2020-11-19T17:03:16.006Z",
          "iopub.execute_input": "2020-11-19T17:03:16.016Z",
          "iopub.status.idle": "2020-11-19T17:03:16.036Z",
          "shell.execute_reply": "2020-11-19T17:03:16.044Z"
        }
      }
    },
    {
      "cell_type": "markdown",
      "source": [
        "## Part 4 - More dictionary practice (4 marks - Bonus)\n",
        "\n",
        "**(Bonus)** (3 marks) Create a Python program that takes a string text and calculates the frequency of each letter. Data set (copy as string into Python code)\n",
        "\n",
        "text = \"\"\"Elephants are mammals of the family Elephantidae and the largest existing land animals. Three species are currently recognised: the African bush elephant, the African forest elephant, and the Asian elephant. Elephantidae is the only surviving family of the order Proboscidea; extinct members include the mastodons. The family Elephantidae also contains several now-extinct groups, including the mammoths and straight-tusked elephants. African elephants have larger ears and concave backs, whereas Asian elephants have smaller ears, and convex or level backs. Distinctive features of all elephants include a long trunk, tusks, large ear flaps, massive legs, and tough but sensitive skin. The trunk, also called a proboscis, is used for breathing, bringing food and water to the mouth, and grasping objects. Tusks, which are derived from the incisor teeth, serve both as weapons and as tools for moving objects and digging. The large ear flaps assist in maintaining a constant body temperature as well as in communication. The pillar-like legs carry their great weight. Elephants are scattered throughout sub-Saharan Africa, South Asia, and Southeast Asia and are found in different habitats, including savannahs, forests, deserts, and marshes. They are herbivorous, and they stay near water when it is accessible. They are considered to be keystone species, due to their impact on their environments.[1] Other animals tend to keep their distance from elephants; the exception is their predators such as lions, tigers, hyenas, and wild dogs, which usually target only young elephants (calves). Elephants have a fission–fusion society, in which multiple family groups come together to socialise. Females (cows) tend to live in family groups, which can consist of one female with her calves or several related females with offspring. The groups, which do not include bulls, are led by the (usually) oldest cow, known as the matriarch.\"\"\"\n",
        "\n",
        "*Hint: There are many ways to do this, the most \"elegant\" way uses a mixture of sets, and the `Counter` modules from [`collections`](https://docs.python.org/3/library/collections.html#counter-objects)*\n",
        "\n",
        "\n",
        "#### Sample output:\n",
        "\n",
        ">' ': Count of 293 and Percentage of 15.2%<br>\n",
        ">'(': Count of 3 and Percentage of 0.2%<br>\n",
        ">')': Count of 3 and Percentage of 0.2%<br>\n",
        ">',': Count of 32 and Percentage of 1.7%<br>\n",
        ">'-': Count of 4 and Percentage of 0.2%<br>\n",
        ">'.': Count of 17 and Percentage of 0.9%<br>\n",
        ">'1': Count of 1 and Percentage of 0.1%<br>\n",
        ">':': Count of 1 and Percentage of 0.1%<br>\n",
        ">';': Count of 2 and Percentage of 0.1%<br>\n",
        ">'A': Count of 8 and Percentage of 0.4%<br>\n",
        ">'D': Count of 1 and Percentage of 0.1%<br>\n",
        ">'E': Count of 6 and Percentage of 0.3%<br>\n",
        ">'F': Count of 1 and Percentage of 0.1%<br>\n",
        ">'O': Count of 1 and Percentage of 0.1%<br>\n",
        ">'P': Count of 1 and Percentage of 0.1%<br>\n",
        ">'S': Count of 3 and Percentage of 0.2%<br>\n",
        ">'T': Count of 9 and Percentage of 0.5%<br>\n",
        ">'[': Count of 1 and Percentage of 0.1%<br>\n",
        ">']': Count of 1 and Percentage of 0.1%<br>\n",
        ">'a': Count of 147 and Percentage of 7.6%<br>\n",
        ">'b': Count of 20 and Percentage of 1.0%<br>\n",
        ">'c': Count of 55 and Percentage of 2.8%<br>\n",
        ">'d': Count of 53 and Percentage of 2.7%<br>\n",
        ">'e': Count of 189 and Percentage of 9.8%<br>\n",
        ">'f': Count of 32 and Percentage of 1.7%<br>\n",
        ">'g': Count of 37 and Percentage of 1.9%<br>\n",
        ">'h': Count of 84 and Percentage of 4.4%<br>\n",
        ">'i': Count of 109 and Percentage of 5.6%<br>\n",
        ">'j': Count of 2 and Percentage of 0.1%<br>\n",
        ">'k': Count of 12 and Percentage of 0.6%<br>\n",
        ">'l': Count of 80 and Percentage of 4.1%<br>\n",
        ">'m': Count of 35 and Percentage of 1.8%<br>\n",
        ">'n': Count of 114 and Percentage of 5.9%<br>\n",
        ">'o': Count of 87 and Percentage of 4.5%<br>\n",
        ">'p': Count of 34 and Percentage of 1.8%<br>\n",
        ">'r': Count of 92 and Percentage of 4.8%<br>\n",
        ">'s': Count of 131 and Percentage of 6.8%<br>\n",
        ">'t': Count of 120 and Percentage of 6.2%<br>\n",
        ">'u': Count of 41 and Percentage of 2.1%<br>\n",
        ">'v': Count of 22 and Percentage of 1.1%<br>\n",
        ">'w': Count of 19 and Percentage of 1.0%<br>\n",
        ">'x': Count of 5 and Percentage of 0.3%<br>\n",
        ">'y': Count of 21 and Percentage of 1.1%<br>\n",
        ">'–': Count of 1 and Percentage of 0.1%<br>"
      ],
      "metadata": {}
    },
    {
      "cell_type": "code",
      "source": [
        "text = \"\"\"Elephants are mammals of the family Elephantidae and the largest existing land animals. Three species are currently recognised: the African bush elephant, the African forest elephant, and the Asian elephant. Elephantidae is the only surviving family of the order Proboscidea; extinct members include the mastodons. The family Elephantidae also contains several now-extinct groups, including the mammoths and straight-tusked elephants. African elephants have larger ears and concave backs, whereas Asian elephants have smaller ears, and convex or level backs. Distinctive features of all elephants include a long trunk, tusks, large ear flaps, massive legs, and tough but sensitive skin. The trunk, also called a proboscis, is used for breathing, bringing food and water to the mouth, and grasping objects. Tusks, which are derived from the incisor teeth, serve both as weapons and as tools for moving objects and digging. The large ear flaps assist in maintaining a constant body temperature as well as in communication. The pillar-like legs carry their great weight. Elephants are scattered throughout sub-Saharan Africa, South Asia, and Southeast Asia and are found in different habitats, including savannahs, forests, deserts, and marshes. They are herbivorous, and they stay near water when it is accessible. They are considered to be keystone species, due to their impact on their environments.[1] Other animals tend to keep their distance from elephants; the exception is their predators such as lions, tigers, hyenas, and wild dogs, which usually target only young elephants (calves). Elephants have a fission–fusion society, in which multiple family groups come together to socialise. Females (cows) tend to live in family groups, which can consist of one female with her calves or several related females with offspring. The groups, which do not include bulls, are led by the (usually) oldest cow, known as the matriarch.\"\"\"\n",
        "\n",
        "### Your solution here\n",
        "\n",
        "from collections import Counter\n",
        "counts=Counter(text)\n",
        "\n",
        "for i in sorted(set(text)):\n",
        "    print(\"'{0}': Count of {1} and Percentage of {2:.1f}%\".format(i,counts[i],100*counts[i]/len(text)))"
      ],
      "outputs": [
        {
          "output_type": "stream",
          "name": "stdout",
          "text": [
            "' ': Count of 293 and Percentage of 15.2%\n",
            "'(': Count of 3 and Percentage of 0.2%\n",
            "')': Count of 3 and Percentage of 0.2%\n",
            "',': Count of 32 and Percentage of 1.7%\n",
            "'-': Count of 4 and Percentage of 0.2%\n",
            "'.': Count of 17 and Percentage of 0.9%\n",
            "'1': Count of 1 and Percentage of 0.1%\n",
            "':': Count of 1 and Percentage of 0.1%\n",
            "';': Count of 2 and Percentage of 0.1%\n",
            "'A': Count of 8 and Percentage of 0.4%\n",
            "'D': Count of 1 and Percentage of 0.1%\n",
            "'E': Count of 6 and Percentage of 0.3%\n",
            "'F': Count of 1 and Percentage of 0.1%\n",
            "'O': Count of 1 and Percentage of 0.1%\n",
            "'P': Count of 1 and Percentage of 0.1%\n",
            "'S': Count of 3 and Percentage of 0.2%\n",
            "'T': Count of 9 and Percentage of 0.5%\n",
            "'[': Count of 1 and Percentage of 0.1%\n",
            "']': Count of 1 and Percentage of 0.1%\n",
            "'a': Count of 147 and Percentage of 7.6%\n",
            "'b': Count of 20 and Percentage of 1.0%\n",
            "'c': Count of 55 and Percentage of 2.8%\n",
            "'d': Count of 53 and Percentage of 2.7%\n",
            "'e': Count of 189 and Percentage of 9.8%\n",
            "'f': Count of 32 and Percentage of 1.7%\n",
            "'g': Count of 37 and Percentage of 1.9%\n",
            "'h': Count of 84 and Percentage of 4.4%\n",
            "'i': Count of 109 and Percentage of 5.6%\n",
            "'j': Count of 2 and Percentage of 0.1%\n",
            "'k': Count of 12 and Percentage of 0.6%\n",
            "'l': Count of 80 and Percentage of 4.1%\n",
            "'m': Count of 35 and Percentage of 1.8%\n",
            "'n': Count of 114 and Percentage of 5.9%\n",
            "'o': Count of 87 and Percentage of 4.5%\n",
            "'p': Count of 34 and Percentage of 1.8%\n",
            "'r': Count of 92 and Percentage of 4.8%\n",
            "'s': Count of 131 and Percentage of 6.8%\n",
            "'t': Count of 120 and Percentage of 6.2%\n",
            "'u': Count of 41 and Percentage of 2.1%\n",
            "'v': Count of 22 and Percentage of 1.1%\n",
            "'w': Count of 19 and Percentage of 1.0%\n",
            "'x': Count of 5 and Percentage of 0.3%\n",
            "'y': Count of 21 and Percentage of 1.1%\n",
            "'–': Count of 1 and Percentage of 0.1%\n"
          ]
        }
      ],
      "execution_count": 66,
      "metadata": {
        "execution": {
          "iopub.status.busy": "2020-11-19T17:03:25.476Z",
          "iopub.execute_input": "2020-11-19T17:03:25.485Z",
          "iopub.status.idle": "2020-11-19T17:03:25.509Z",
          "shell.execute_reply": "2020-11-19T17:03:25.519Z"
        }
      }
    },
    {
      "cell_type": "code",
      "source": [],
      "outputs": [],
      "execution_count": null,
      "metadata": {
        "collapsed": true,
        "jupyter": {
          "source_hidden": false,
          "outputs_hidden": false
        },
        "nteract": {
          "transient": {
            "deleting": false
          }
        }
      }
    }
  ],
  "metadata": {
    "kernelspec": {
      "display_name": "Python 3",
      "language": "python",
      "name": "python3"
    },
    "language_info": {
      "name": "python",
      "version": "3.8.3",
      "mimetype": "text/x-python",
      "codemirror_mode": {
        "name": "ipython",
        "version": 3
      },
      "pygments_lexer": "ipython3",
      "nbconvert_exporter": "python",
      "file_extension": ".py"
    },
    "nteract": {
      "version": "0.26.0"
    }
  },
  "nbformat": 4,
  "nbformat_minor": 4
}