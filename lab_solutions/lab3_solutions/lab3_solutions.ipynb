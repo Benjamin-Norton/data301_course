{
 "cells": [
  {
   "cell_type": "markdown",
   "metadata": {},
   "source": [
    "# Lab 3: Python Functions, Lists, and Dictionaries\n",
    "In this lab you will be working on python basics.\n",
    "\n",
    "**This lab must be completed individually.**\n",
    "\n",
    "Where provided, try your best to match the **Sample Output** as best as you can.\n",
    "\n",
    "## Accept the lab\n",
    "\n",
    "To accept this lab on GitHub Classroom, [you must click this link](https://classroom.github.com/a/6V9fm8Hj)."
   ]
  },
  {
   "cell_type": "markdown",
   "metadata": {},
   "source": [
    "## Objectives\n",
    "\n",
    "1. Practice Python loops and conditions\n",
    "2. Practice Python lists and dictionaries\n",
    "3. Practice string manipulation in Python\n",
    "4. Practice importing and using the Pandas module"
   ]
  },
  {
   "cell_type": "markdown",
   "metadata": {},
   "source": [
    "## Part 1: Python Fundamentals (10 marks)\n",
    "\n",
    "This part of the lab takes you through some of the fundamental components of Python."
   ]
  },
  {
   "cell_type": "markdown",
   "metadata": {},
   "source": [
    "### 1A: `if-elif-else` statements (2 marks)\n",
    "\n",
    "Fill in missing pieces of the following code such that print statements make sense. You should replace `<YOUR_CODE_HERE>` with your code."
   ]
  },
  {
   "cell_type": "code",
   "execution_count": 1,
   "metadata": {},
   "outputs": [],
   "source": []
  },
  {
   "cell_type": "code",
   "execution_count": 2,
   "metadata": {},
   "outputs": [
    {
     "name": "stdout",
     "output_type": "stream",
     "text": [
      "Name \"Terry lkjsfkdjk\" is more than 10 chars long\n"
     ]
    }
   ],
   "source": [
    "name = 'Terry lkjsfkdjk'\n",
    "\n",
    "### Your solution here\n",
    "\n",
    "if len(name)>20:\n",
    "    print('Name \"{}\" is more than 20 chars long'.format(name))\n",
    "    length_description = 'long'\n",
    "elif len(name) > 15:\n",
    "    print('Name \"{}\" is more than 15 chars long'.format(name))\n",
    "    length_description = 'semi long'\n",
    "elif len(name) > 10:\n",
    "    print('Name \"{}\" is more than 10 chars long'.format(name))\n",
    "    length_description = 'semi long'\n",
    "elif 8 <= len(name) <= 10:\n",
    "    print('Name \"{}\" is 8, 9 or 10 chars long'.format(name))\n",
    "    length_description = 'semi short'\n",
    "else:\n",
    "    print('Name \"{}\" is a short name'.format(name))\n",
    "    length_description = 'short'"
   ]
  },
  {
   "cell_type": "markdown",
   "metadata": {},
   "source": [
    "### 1B: `for` loops (2 marks)\n",
    "\n",
    "Fill `<YOUR_CODE_HERE>` in the code snippet below so that this sample output is printed:\n",
    "\n",
    "#### Sample Output\n",
    "<img src=\"images/pattern.png\" width=\"300px\">"
   ]
  },
  {
   "cell_type": "code",
   "execution_count": 3,
   "metadata": {},
   "outputs": [
    {
     "name": "stdout",
     "output_type": "stream",
     "text": [
      "        A\n",
      "       AA\n",
      "      AAA\n",
      "     AAAA\n",
      "    AAAAA\n",
      "     AAAA\n",
      "      AAA\n",
      "       AA\n",
      "        A\n"
     ]
    }
   ],
   "source": [
    "### Your solution here\n",
    "\n",
    "n = 10\n",
    "for i in range(1,n):\n",
    "    if i <= n/2:\n",
    "        print(\" \" * (n-1-i) + \"A\"*i)\n",
    "    else:\n",
    "        print(\" \" * (i-1) + \"A\"*(n-i))"
   ]
  },
  {
   "cell_type": "markdown",
   "metadata": {},
   "source": [
    "### 1C: `for` loops and `lists`\n",
    "\n",
    "We have given you some sample code, as well as a list called `data`. \n",
    "\n",
    "> data = [53,9,5,90,63,5,97,40,92,48,53,8,38,63,13,15,66,81,57,79,42,91,25,89,66,4,73,45,80,17]\n",
    "\n",
    "For each of the exercises 1C1 - 1CX, use the `data` list to answer the question by writing the appropriate bits of python code."
   ]
  },
  {
   "cell_type": "markdown",
   "metadata": {},
   "source": [
    "#### 1C1. Print values that are outside of the upper and lower bounds of 10 and 90 (2 marks)\n",
    "\n",
    "*Hint: Use a for loop and loop through each of the elements in data*\n",
    "\n",
    "##### Sample output (it's okay if yours is vertical rather than horizontally printed):\n",
    "\n",
    "> [9, 5, 5, 97, 92, 8, 91, 4] \n"
   ]
  },
  {
   "cell_type": "code",
   "execution_count": 23,
   "metadata": {},
   "outputs": [
    {
     "name": "stdout",
     "output_type": "stream",
     "text": [
      "5 1 7 100 4 "
     ]
    }
   ],
   "source": [
    "data = [50,10,5,90,62,12,90,40,12,18,1,7,42,12,16,17,88,81,100,51,32,81,54,32,43,4,23,48,60,19]\n",
    "\n",
    "### Your solution here\n",
    "\n",
    "for d in data:\n",
    "  if d < 10:\n",
    "    print(d, end=\" \")\n",
    "  elif d > 90:\n",
    "    print(d, end=\" \")"
   ]
  },
  {
   "cell_type": "markdown",
   "metadata": {},
   "source": [
    "#### 1C2. Write code to calculate and print the maximum, minimum, sum, count, and average of items in `data`  (4 marks)\n",
    "\n",
    "*Hint: for the mean, you will need to combine the sum and the count*\n",
    "\n",
    "##### Sample output\n",
    "\n",
    "> The max is: 97 <br/>\n",
    "> The min is: 4 <br/>\n",
    "> The sum is: 1507 <br/>\n",
    "> The count is: 30 <br/>\n",
    "> The mean is: 50.233333333333334 <br/>"
   ]
  },
  {
   "cell_type": "code",
   "execution_count": 30,
   "metadata": {
    "collapsed": true,
    "execution": {
     "iopub.execute_input": "2020-11-19T16:57:25.024Z",
     "iopub.status.busy": "2020-11-19T16:57:25.017Z",
     "iopub.status.idle": "2020-11-19T16:57:25.110Z",
     "shell.execute_reply": "2020-11-19T16:57:25.117Z"
    },
    "jupyter": {
     "outputs_hidden": true,
     "source_hidden": false
    },
    "nteract": {
     "transient": {
      "deleting": false
     }
    }
   },
   "outputs": [
    {
     "data": {
      "text/plain": [
       "4"
      ]
     },
     "execution_count": 30,
     "metadata": {},
     "output_type": "execute_result"
    }
   ],
   "source": [
    "min(data)"
   ]
  },
  {
   "cell_type": "code",
   "execution_count": 40,
   "metadata": {
    "execution": {
     "iopub.execute_input": "2020-11-19T16:59:12.643Z",
     "iopub.status.busy": "2020-11-19T16:59:12.634Z",
     "iopub.status.idle": "2020-11-19T16:59:12.666Z",
     "shell.execute_reply": "2020-11-19T16:59:12.674Z"
    }
   },
   "outputs": [
    {
     "name": "stdout",
     "output_type": "stream",
     "text": [
      "The max is: 97\n",
      "The min is: 4\n",
      "The sum is: 1507\n",
      "The count is: 30\n",
      "The mean is: 50.233333333333334\n"
     ]
    }
   ],
   "source": [
    "### Your solution here\n",
    "\n",
    "print('The max is: {0}'.format(max(data)))\n",
    "print('The min is: {0}'.format(min(data)))\n",
    "print('The sum is: {0}'.format(sum(data)))\n",
    "print('The count is: {0}'.format(len(data)))\n",
    "print('The mean is: {0}'.format(sum(data)/len(data)))"
   ]
  },
  {
   "cell_type": "markdown",
   "metadata": {},
   "source": [
    "#### 1D3. (Optional) Using list comprehension (NOT for loops), print out the numbers outside the specified upper and lower bounds (inclusive) of 10 and 90 (0 marks).\n",
    "\n",
    "#### Sample output:\n",
    "> [9, 5, 5, 97, 92, 8, 91, 4]"
   ]
  },
  {
   "cell_type": "code",
   "execution_count": 20,
   "metadata": {},
   "outputs": [
    {
     "data": {
      "text/plain": [
       "[5, 1, 7, 100, 4]"
      ]
     },
     "execution_count": 20,
     "metadata": {},
     "output_type": "execute_result"
    }
   ],
   "source": [
    "### Your solution here\n",
    "[d for d in data if d < 10 or d > 90]"
   ]
  },
  {
   "cell_type": "markdown",
   "metadata": {},
   "source": [
    "## Part 2: Working with data using pandas (12 marks)\n",
    "\n",
    "In this part of the lab, we will practice loading in a sample data set using pandas, and doing some basic operations."
   ]
  },
  {
   "cell_type": "markdown",
   "metadata": {},
   "source": [
    "### 2A1. Load in the data (4 marks)\n",
    "\n",
    "Here is the URL of the `pokemon` dataset inside the `data` folder.\n",
    "\n",
    "Your task is to use the pandas [`read_csv()`](https://pandas.pydata.org/pandas-docs/stable/reference/api/pandas.read_csv.html) function to read this dataset, assign it to a dataframe called `df`, and then print its [`head`](https://pandas.pydata.org/pandas-docs/stable/reference/api/pandas.DataFrame.head.html) also known as the first 5 lines of the dataframe.\n",
    "\n",
    "*Hint: don't forget to first `import pandas as pd` to use `read_csv` and other pandas function.*"
   ]
  },
  {
   "cell_type": "code",
   "execution_count": 24,
   "metadata": {},
   "outputs": [
    {
     "data": {
      "text/html": [
       "<div>\n",
       "<style scoped>\n",
       "    .dataframe tbody tr th:only-of-type {\n",
       "        vertical-align: middle;\n",
       "    }\n",
       "\n",
       "    .dataframe tbody tr th {\n",
       "        vertical-align: top;\n",
       "    }\n",
       "\n",
       "    .dataframe thead th {\n",
       "        text-align: right;\n",
       "    }\n",
       "</style>\n",
       "<table border=\"1\" class=\"dataframe\">\n",
       "  <thead>\n",
       "    <tr style=\"text-align: right;\">\n",
       "      <th></th>\n",
       "      <th>#</th>\n",
       "      <th>Name</th>\n",
       "      <th>Type 1</th>\n",
       "      <th>Type 2</th>\n",
       "      <th>Total</th>\n",
       "      <th>HP</th>\n",
       "      <th>Attack</th>\n",
       "      <th>Defense</th>\n",
       "      <th>Sp. Atk</th>\n",
       "      <th>Sp. Def</th>\n",
       "      <th>Speed</th>\n",
       "      <th>Generation</th>\n",
       "      <th>Legendary</th>\n",
       "    </tr>\n",
       "  </thead>\n",
       "  <tbody>\n",
       "    <tr>\n",
       "      <th>0</th>\n",
       "      <td>1</td>\n",
       "      <td>Bulbasaur</td>\n",
       "      <td>Grass</td>\n",
       "      <td>Poison</td>\n",
       "      <td>318</td>\n",
       "      <td>45</td>\n",
       "      <td>49</td>\n",
       "      <td>49</td>\n",
       "      <td>65</td>\n",
       "      <td>65</td>\n",
       "      <td>45</td>\n",
       "      <td>1</td>\n",
       "      <td>False</td>\n",
       "    </tr>\n",
       "    <tr>\n",
       "      <th>1</th>\n",
       "      <td>2</td>\n",
       "      <td>Ivysaur</td>\n",
       "      <td>Grass</td>\n",
       "      <td>Poison</td>\n",
       "      <td>405</td>\n",
       "      <td>60</td>\n",
       "      <td>62</td>\n",
       "      <td>63</td>\n",
       "      <td>80</td>\n",
       "      <td>80</td>\n",
       "      <td>60</td>\n",
       "      <td>1</td>\n",
       "      <td>False</td>\n",
       "    </tr>\n",
       "    <tr>\n",
       "      <th>2</th>\n",
       "      <td>3</td>\n",
       "      <td>Venusaur</td>\n",
       "      <td>Grass</td>\n",
       "      <td>Poison</td>\n",
       "      <td>525</td>\n",
       "      <td>80</td>\n",
       "      <td>82</td>\n",
       "      <td>83</td>\n",
       "      <td>100</td>\n",
       "      <td>100</td>\n",
       "      <td>80</td>\n",
       "      <td>1</td>\n",
       "      <td>False</td>\n",
       "    </tr>\n",
       "    <tr>\n",
       "      <th>3</th>\n",
       "      <td>3</td>\n",
       "      <td>VenusaurMega Venusaur</td>\n",
       "      <td>Grass</td>\n",
       "      <td>Poison</td>\n",
       "      <td>625</td>\n",
       "      <td>80</td>\n",
       "      <td>100</td>\n",
       "      <td>123</td>\n",
       "      <td>122</td>\n",
       "      <td>120</td>\n",
       "      <td>80</td>\n",
       "      <td>1</td>\n",
       "      <td>False</td>\n",
       "    </tr>\n",
       "    <tr>\n",
       "      <th>4</th>\n",
       "      <td>4</td>\n",
       "      <td>Charmander</td>\n",
       "      <td>Fire</td>\n",
       "      <td>NaN</td>\n",
       "      <td>309</td>\n",
       "      <td>39</td>\n",
       "      <td>52</td>\n",
       "      <td>43</td>\n",
       "      <td>60</td>\n",
       "      <td>50</td>\n",
       "      <td>65</td>\n",
       "      <td>1</td>\n",
       "      <td>False</td>\n",
       "    </tr>\n",
       "  </tbody>\n",
       "</table>\n",
       "</div>"
      ],
      "text/plain": [
       "   #                   Name Type 1  Type 2  Total  HP  Attack  Defense  \\\n",
       "0  1              Bulbasaur  Grass  Poison    318  45      49       49   \n",
       "1  2                Ivysaur  Grass  Poison    405  60      62       63   \n",
       "2  3               Venusaur  Grass  Poison    525  80      82       83   \n",
       "3  3  VenusaurMega Venusaur  Grass  Poison    625  80     100      123   \n",
       "4  4             Charmander   Fire     NaN    309  39      52       43   \n",
       "\n",
       "   Sp. Atk  Sp. Def  Speed  Generation  Legendary  \n",
       "0       65       65     45           1      False  \n",
       "1       80       80     60           1      False  \n",
       "2      100      100     80           1      False  \n",
       "3      122      120     80           1      False  \n",
       "4       60       50     65           1      False  "
      ]
     },
     "execution_count": 24,
     "metadata": {},
     "output_type": "execute_result"
    }
   ],
   "source": [
    "### Your solution here\n",
    "import pandas as pd\n",
    "\n",
    "df = pd.read_csv('https://raw.githubusercontent.com/firasm/bits/master/pokemon.csv')\n",
    "df.head()\n",
    "# or \n",
    "\n",
    "# df = pd.read_csv('data/pokemon.csv')\n",
    "# df.head()"
   ]
  },
  {
   "cell_type": "markdown",
   "metadata": {},
   "source": [
    "### 2A2. How many total pokemon are there in the dataset? (2 mark)\n",
    "\n",
    "Make sure to use the `dataframe.count()` function to print the total number of entries in each column of the dataframe before you answer!"
   ]
  },
  {
   "cell_type": "code",
   "execution_count": 25,
   "metadata": {},
   "outputs": [
    {
     "data": {
      "text/plain": [
       "#             800\n",
       "Name          800\n",
       "Type 1        800\n",
       "Type 2        414\n",
       "Total         800\n",
       "HP            800\n",
       "Attack        800\n",
       "Defense       800\n",
       "Sp. Atk       800\n",
       "Sp. Def       800\n",
       "Speed         800\n",
       "Generation    800\n",
       "Legendary     800\n",
       "dtype: int64"
      ]
     },
     "execution_count": 25,
     "metadata": {},
     "output_type": "execute_result"
    }
   ],
   "source": [
    "### Your solution here\n",
    "\n",
    "df.count()"
   ]
  },
  {
   "cell_type": "markdown",
   "metadata": {},
   "source": [
    "### 2A3. Create a new dataframe `df2` that only includes the Pokemon that are Legendary Pokemon. (2 marks)\n",
    "\n",
    "*Hint: Remember that you can subset dataframes using the `[]` syntax. [More on this here](https://pandas.pydata.org/docs/getting_started/intro_tutorials/03_subset_data.html)*"
   ]
  },
  {
   "cell_type": "code",
   "execution_count": 26,
   "metadata": {},
   "outputs": [
    {
     "data": {
      "text/html": [
       "<div>\n",
       "<style scoped>\n",
       "    .dataframe tbody tr th:only-of-type {\n",
       "        vertical-align: middle;\n",
       "    }\n",
       "\n",
       "    .dataframe tbody tr th {\n",
       "        vertical-align: top;\n",
       "    }\n",
       "\n",
       "    .dataframe thead th {\n",
       "        text-align: right;\n",
       "    }\n",
       "</style>\n",
       "<table border=\"1\" class=\"dataframe\">\n",
       "  <thead>\n",
       "    <tr style=\"text-align: right;\">\n",
       "      <th></th>\n",
       "      <th>#</th>\n",
       "      <th>Name</th>\n",
       "      <th>Type 1</th>\n",
       "      <th>Type 2</th>\n",
       "      <th>Total</th>\n",
       "      <th>HP</th>\n",
       "      <th>Attack</th>\n",
       "      <th>Defense</th>\n",
       "      <th>Sp. Atk</th>\n",
       "      <th>Sp. Def</th>\n",
       "      <th>Speed</th>\n",
       "      <th>Generation</th>\n",
       "      <th>Legendary</th>\n",
       "    </tr>\n",
       "  </thead>\n",
       "  <tbody>\n",
       "    <tr>\n",
       "      <th>156</th>\n",
       "      <td>144</td>\n",
       "      <td>Articuno</td>\n",
       "      <td>Ice</td>\n",
       "      <td>Flying</td>\n",
       "      <td>580</td>\n",
       "      <td>90</td>\n",
       "      <td>85</td>\n",
       "      <td>100</td>\n",
       "      <td>95</td>\n",
       "      <td>125</td>\n",
       "      <td>85</td>\n",
       "      <td>1</td>\n",
       "      <td>True</td>\n",
       "    </tr>\n",
       "    <tr>\n",
       "      <th>157</th>\n",
       "      <td>145</td>\n",
       "      <td>Zapdos</td>\n",
       "      <td>Electric</td>\n",
       "      <td>Flying</td>\n",
       "      <td>580</td>\n",
       "      <td>90</td>\n",
       "      <td>90</td>\n",
       "      <td>85</td>\n",
       "      <td>125</td>\n",
       "      <td>90</td>\n",
       "      <td>100</td>\n",
       "      <td>1</td>\n",
       "      <td>True</td>\n",
       "    </tr>\n",
       "    <tr>\n",
       "      <th>158</th>\n",
       "      <td>146</td>\n",
       "      <td>Moltres</td>\n",
       "      <td>Fire</td>\n",
       "      <td>Flying</td>\n",
       "      <td>580</td>\n",
       "      <td>90</td>\n",
       "      <td>100</td>\n",
       "      <td>90</td>\n",
       "      <td>125</td>\n",
       "      <td>85</td>\n",
       "      <td>90</td>\n",
       "      <td>1</td>\n",
       "      <td>True</td>\n",
       "    </tr>\n",
       "    <tr>\n",
       "      <th>162</th>\n",
       "      <td>150</td>\n",
       "      <td>Mewtwo</td>\n",
       "      <td>Psychic</td>\n",
       "      <td>NaN</td>\n",
       "      <td>680</td>\n",
       "      <td>106</td>\n",
       "      <td>110</td>\n",
       "      <td>90</td>\n",
       "      <td>154</td>\n",
       "      <td>90</td>\n",
       "      <td>130</td>\n",
       "      <td>1</td>\n",
       "      <td>True</td>\n",
       "    </tr>\n",
       "    <tr>\n",
       "      <th>163</th>\n",
       "      <td>150</td>\n",
       "      <td>MewtwoMega Mewtwo X</td>\n",
       "      <td>Psychic</td>\n",
       "      <td>Fighting</td>\n",
       "      <td>780</td>\n",
       "      <td>106</td>\n",
       "      <td>190</td>\n",
       "      <td>100</td>\n",
       "      <td>154</td>\n",
       "      <td>100</td>\n",
       "      <td>130</td>\n",
       "      <td>1</td>\n",
       "      <td>True</td>\n",
       "    </tr>\n",
       "    <tr>\n",
       "      <th>...</th>\n",
       "      <td>...</td>\n",
       "      <td>...</td>\n",
       "      <td>...</td>\n",
       "      <td>...</td>\n",
       "      <td>...</td>\n",
       "      <td>...</td>\n",
       "      <td>...</td>\n",
       "      <td>...</td>\n",
       "      <td>...</td>\n",
       "      <td>...</td>\n",
       "      <td>...</td>\n",
       "      <td>...</td>\n",
       "      <td>...</td>\n",
       "    </tr>\n",
       "    <tr>\n",
       "      <th>795</th>\n",
       "      <td>719</td>\n",
       "      <td>Diancie</td>\n",
       "      <td>Rock</td>\n",
       "      <td>Fairy</td>\n",
       "      <td>600</td>\n",
       "      <td>50</td>\n",
       "      <td>100</td>\n",
       "      <td>150</td>\n",
       "      <td>100</td>\n",
       "      <td>150</td>\n",
       "      <td>50</td>\n",
       "      <td>6</td>\n",
       "      <td>True</td>\n",
       "    </tr>\n",
       "    <tr>\n",
       "      <th>796</th>\n",
       "      <td>719</td>\n",
       "      <td>DiancieMega Diancie</td>\n",
       "      <td>Rock</td>\n",
       "      <td>Fairy</td>\n",
       "      <td>700</td>\n",
       "      <td>50</td>\n",
       "      <td>160</td>\n",
       "      <td>110</td>\n",
       "      <td>160</td>\n",
       "      <td>110</td>\n",
       "      <td>110</td>\n",
       "      <td>6</td>\n",
       "      <td>True</td>\n",
       "    </tr>\n",
       "    <tr>\n",
       "      <th>797</th>\n",
       "      <td>720</td>\n",
       "      <td>HoopaHoopa Confined</td>\n",
       "      <td>Psychic</td>\n",
       "      <td>Ghost</td>\n",
       "      <td>600</td>\n",
       "      <td>80</td>\n",
       "      <td>110</td>\n",
       "      <td>60</td>\n",
       "      <td>150</td>\n",
       "      <td>130</td>\n",
       "      <td>70</td>\n",
       "      <td>6</td>\n",
       "      <td>True</td>\n",
       "    </tr>\n",
       "    <tr>\n",
       "      <th>798</th>\n",
       "      <td>720</td>\n",
       "      <td>HoopaHoopa Unbound</td>\n",
       "      <td>Psychic</td>\n",
       "      <td>Dark</td>\n",
       "      <td>680</td>\n",
       "      <td>80</td>\n",
       "      <td>160</td>\n",
       "      <td>60</td>\n",
       "      <td>170</td>\n",
       "      <td>130</td>\n",
       "      <td>80</td>\n",
       "      <td>6</td>\n",
       "      <td>True</td>\n",
       "    </tr>\n",
       "    <tr>\n",
       "      <th>799</th>\n",
       "      <td>721</td>\n",
       "      <td>Volcanion</td>\n",
       "      <td>Fire</td>\n",
       "      <td>Water</td>\n",
       "      <td>600</td>\n",
       "      <td>80</td>\n",
       "      <td>110</td>\n",
       "      <td>120</td>\n",
       "      <td>130</td>\n",
       "      <td>90</td>\n",
       "      <td>70</td>\n",
       "      <td>6</td>\n",
       "      <td>True</td>\n",
       "    </tr>\n",
       "  </tbody>\n",
       "</table>\n",
       "<p>65 rows × 13 columns</p>\n",
       "</div>"
      ],
      "text/plain": [
       "       #                 Name    Type 1    Type 2  Total   HP  Attack  \\\n",
       "156  144             Articuno       Ice    Flying    580   90      85   \n",
       "157  145               Zapdos  Electric    Flying    580   90      90   \n",
       "158  146              Moltres      Fire    Flying    580   90     100   \n",
       "162  150               Mewtwo   Psychic       NaN    680  106     110   \n",
       "163  150  MewtwoMega Mewtwo X   Psychic  Fighting    780  106     190   \n",
       "..   ...                  ...       ...       ...    ...  ...     ...   \n",
       "795  719              Diancie      Rock     Fairy    600   50     100   \n",
       "796  719  DiancieMega Diancie      Rock     Fairy    700   50     160   \n",
       "797  720  HoopaHoopa Confined   Psychic     Ghost    600   80     110   \n",
       "798  720   HoopaHoopa Unbound   Psychic      Dark    680   80     160   \n",
       "799  721            Volcanion      Fire     Water    600   80     110   \n",
       "\n",
       "     Defense  Sp. Atk  Sp. Def  Speed  Generation  Legendary  \n",
       "156      100       95      125     85           1       True  \n",
       "157       85      125       90    100           1       True  \n",
       "158       90      125       85     90           1       True  \n",
       "162       90      154       90    130           1       True  \n",
       "163      100      154      100    130           1       True  \n",
       "..       ...      ...      ...    ...         ...        ...  \n",
       "795      150      100      150     50           6       True  \n",
       "796      110      160      110    110           6       True  \n",
       "797       60      150      130     70           6       True  \n",
       "798       60      170      130     80           6       True  \n",
       "799      120      130       90     70           6       True  \n",
       "\n",
       "[65 rows x 13 columns]"
      ]
     },
     "execution_count": 26,
     "metadata": {},
     "output_type": "execute_result"
    }
   ],
   "source": [
    "### Your solution here\n",
    "\n",
    "df2 = df[df['Legendary']==True]\n",
    "\n",
    "df2"
   ]
  },
  {
   "cell_type": "markdown",
   "metadata": {},
   "source": [
    "### 2A4. Print ONLY the mean HP, Attack, Defense, and Speed of all pokemon in the first generation using pandas functions (4 marks)"
   ]
  },
  {
   "cell_type": "code",
   "execution_count": 27,
   "metadata": {},
   "outputs": [
    {
     "data": {
      "text/plain": [
       "HP          92.738462\n",
       "Attack     116.676923\n",
       "Defense     99.661538\n",
       "Speed      100.184615\n",
       "dtype: float64"
      ]
     },
     "execution_count": 27,
     "metadata": {},
     "output_type": "execute_result"
    }
   ],
   "source": [
    "### Your solution here\n",
    "\n",
    "df[df['Legendary']==True][['HP','Attack','Defense','Speed']].mean()\n",
    "\n",
    "# OR \n",
    "\n",
    "df2[['HP','Attack','Defense','Speed']].mean()"
   ]
  },
  {
   "cell_type": "markdown",
   "metadata": {},
   "source": [
    "## Part 3 - Dictionaries, Lists and data manipulation (10 marks)\n",
    "\n",
    "In this part we explore another fundamental data structure in python, called Dictionaries."
   ]
  },
  {
   "cell_type": "markdown",
   "metadata": {},
   "source": [
    "### 3A. Create a dictionary that has 3 keys: name, age and salary, and enter in the following dummy information. (2 marks)\n",
    "\n",
    "#### Sample output\n",
    "> {'name': 'Tim Cook', 'age': 59, 'salary': 3000000.0}"
   ]
  },
  {
   "cell_type": "code",
   "execution_count": 61,
   "metadata": {
    "execution": {
     "iopub.execute_input": "2020-11-19T17:02:48.165Z",
     "iopub.status.busy": "2020-11-19T17:02:48.154Z",
     "iopub.status.idle": "2020-11-19T17:02:48.184Z",
     "shell.execute_reply": "2020-11-19T17:02:48.193Z"
    }
   },
   "outputs": [
    {
     "data": {
      "text/plain": [
       "{'name': 'Tim Cook', 'age': 59, 'salary': 30000000.0}"
      ]
     },
     "execution_count": 61,
     "metadata": {},
     "output_type": "execute_result"
    }
   ],
   "source": [
    "### Your solution here\n",
    "\n",
    "test_dict = {'name':'Tim Cook',\n",
    "             'age': 59,\n",
    "             'salary':3E7}\n",
    "\n",
    "test_dict"
   ]
  },
  {
   "cell_type": "markdown",
   "metadata": {},
   "source": [
    "### 3B. Create a second dictionary, this time with at least 5 different names, ages, and salaries. (2 marks)\n",
    "\n",
    "*Hint: There should only be three keys, and the values should be a list.*\n",
    "\n",
    "#### Sample Output\n",
    "\n",
    "> {'name': ['Tim Cook', 'Person 2', 'Person 3'],\n",
    "> 'age': [59, 24, 40],\n",
    "> 'salary': [30000000.0, 200000.0, 900000.0]}"
   ]
  },
  {
   "cell_type": "code",
   "execution_count": 63,
   "metadata": {
    "execution": {
     "iopub.execute_input": "2020-11-19T17:03:00.162Z",
     "iopub.status.busy": "2020-11-19T17:03:00.153Z",
     "iopub.status.idle": "2020-11-19T17:03:00.176Z",
     "shell.execute_reply": "2020-11-19T17:03:00.185Z"
    }
   },
   "outputs": [],
   "source": [
    "### Your solution here\n",
    "\n",
    "test_dict = {'name':['Tim Cook','Person 2','Person 3'],\n",
    "             'age': [59,24,40],\n",
    "             'salary':[3E7,2E5,9E5]}"
   ]
  },
  {
   "cell_type": "markdown",
   "metadata": {},
   "source": [
    "### 3C. Create a pandas dataframe using the dictionary you created above (2 marks)\n",
    "\n",
    "**Hint: Use the `pd.DataFrame.from_dict()` method**\n",
    "\n",
    "#### Sample output\n",
    "<img src=\"images/df.png\" width=\"300px\">"
   ]
  },
  {
   "cell_type": "code",
   "execution_count": 64,
   "metadata": {
    "execution": {
     "iopub.execute_input": "2020-11-19T17:03:13.029Z",
     "iopub.status.busy": "2020-11-19T17:03:13.018Z",
     "iopub.status.idle": "2020-11-19T17:03:13.054Z",
     "shell.execute_reply": "2020-11-19T17:03:13.062Z"
    }
   },
   "outputs": [
    {
     "data": {
      "text/html": [
       "<div>\n",
       "<style scoped>\n",
       "    .dataframe tbody tr th:only-of-type {\n",
       "        vertical-align: middle;\n",
       "    }\n",
       "\n",
       "    .dataframe tbody tr th {\n",
       "        vertical-align: top;\n",
       "    }\n",
       "\n",
       "    .dataframe thead th {\n",
       "        text-align: right;\n",
       "    }\n",
       "</style>\n",
       "<table border=\"1\" class=\"dataframe\">\n",
       "  <thead>\n",
       "    <tr style=\"text-align: right;\">\n",
       "      <th></th>\n",
       "      <th>name</th>\n",
       "      <th>age</th>\n",
       "      <th>salary</th>\n",
       "    </tr>\n",
       "  </thead>\n",
       "  <tbody>\n",
       "    <tr>\n",
       "      <th>0</th>\n",
       "      <td>Tim Cook</td>\n",
       "      <td>59</td>\n",
       "      <td>30000000.0</td>\n",
       "    </tr>\n",
       "    <tr>\n",
       "      <th>1</th>\n",
       "      <td>Person 2</td>\n",
       "      <td>24</td>\n",
       "      <td>200000.0</td>\n",
       "    </tr>\n",
       "    <tr>\n",
       "      <th>2</th>\n",
       "      <td>Person 3</td>\n",
       "      <td>40</td>\n",
       "      <td>900000.0</td>\n",
       "    </tr>\n",
       "  </tbody>\n",
       "</table>\n",
       "</div>"
      ],
      "text/plain": [
       "       name  age      salary\n",
       "0  Tim Cook   59  30000000.0\n",
       "1  Person 2   24    200000.0\n",
       "2  Person 3   40    900000.0"
      ]
     },
     "execution_count": 64,
     "metadata": {},
     "output_type": "execute_result"
    }
   ],
   "source": [
    "### Your solution here\n",
    "\n",
    "df_salary = pd.DataFrame.from_dict(test_dict)\n",
    "\n",
    "df_salary"
   ]
  },
  {
   "cell_type": "markdown",
   "metadata": {},
   "source": [
    "### 3D. Rename all three columns of the dataframe (4 mark)\n",
    "\n",
    "*Hint: you should use the pandas function [rename()](https://pandas.pydata.org/pandas-docs/stable/reference/api/pandas.DataFrame.rename.html) to accomplish this. You can rename it to whatever you like, just show us you are able to use this function*\n"
   ]
  },
  {
   "cell_type": "code",
   "execution_count": 65,
   "metadata": {
    "execution": {
     "iopub.execute_input": "2020-11-19T17:03:16.016Z",
     "iopub.status.busy": "2020-11-19T17:03:16.006Z",
     "iopub.status.idle": "2020-11-19T17:03:16.036Z",
     "shell.execute_reply": "2020-11-19T17:03:16.044Z"
    }
   },
   "outputs": [
    {
     "data": {
      "text/html": [
       "<div>\n",
       "<style scoped>\n",
       "    .dataframe tbody tr th:only-of-type {\n",
       "        vertical-align: middle;\n",
       "    }\n",
       "\n",
       "    .dataframe tbody tr th {\n",
       "        vertical-align: top;\n",
       "    }\n",
       "\n",
       "    .dataframe thead th {\n",
       "        text-align: right;\n",
       "    }\n",
       "</style>\n",
       "<table border=\"1\" class=\"dataframe\">\n",
       "  <thead>\n",
       "    <tr style=\"text-align: right;\">\n",
       "      <th></th>\n",
       "      <th>Full Name</th>\n",
       "      <th>Age</th>\n",
       "      <th>Annual Salary</th>\n",
       "    </tr>\n",
       "  </thead>\n",
       "  <tbody>\n",
       "    <tr>\n",
       "      <th>0</th>\n",
       "      <td>Tim Cook</td>\n",
       "      <td>59</td>\n",
       "      <td>30000000.0</td>\n",
       "    </tr>\n",
       "    <tr>\n",
       "      <th>1</th>\n",
       "      <td>Person 2</td>\n",
       "      <td>24</td>\n",
       "      <td>200000.0</td>\n",
       "    </tr>\n",
       "    <tr>\n",
       "      <th>2</th>\n",
       "      <td>Person 3</td>\n",
       "      <td>40</td>\n",
       "      <td>900000.0</td>\n",
       "    </tr>\n",
       "  </tbody>\n",
       "</table>\n",
       "</div>"
      ],
      "text/plain": [
       "  Full Name  Age  Annual Salary\n",
       "0  Tim Cook   59     30000000.0\n",
       "1  Person 2   24       200000.0\n",
       "2  Person 3   40       900000.0"
      ]
     },
     "execution_count": 65,
     "metadata": {},
     "output_type": "execute_result"
    }
   ],
   "source": [
    "### Your solution here\n",
    "df_salary.rename(columns={\"name\":\"Full Name\",\n",
    "                          \"age\": \"Age\",\n",
    "                          \"salary\": \"Annual Salary\"})"
   ]
  },
  {
   "cell_type": "markdown",
   "metadata": {},
   "source": [
    "## Part 4 - More dictionary practice (3 marks - Bonus)\n",
    "\n",
    "**(Bonus)** (3 marks) Create a Python program that takes a string text and calculates the frequency of each word. Data set (copy as string into Python code)\n",
    "\n",
    "text = \"\"\"Elephants are mammals of the family Elephantidae and the largest existing land animals. Three species are currently recognised: the African bush elephant, the African forest elephant, and the Asian elephant. Elephantidae is the only surviving family of the order Proboscidea; extinct members include the mastodons. The family Elephantidae also contains several now-extinct groups, including the mammoths and straight-tusked elephants. African elephants have larger ears and concave backs, whereas Asian elephants have smaller ears, and convex or level backs. Distinctive features of all elephants include a long trunk, tusks, large ear flaps, massive legs, and tough but sensitive skin. The trunk, also called a proboscis, is used for breathing, bringing food and water to the mouth, and grasping objects. Tusks, which are derived from the incisor teeth, serve both as weapons and as tools for moving objects and digging. The large ear flaps assist in maintaining a constant body temperature as well as in communication. The pillar-like legs carry their great weight. Elephants are scattered throughout sub-Saharan Africa, South Asia, and Southeast Asia and are found in different habitats, including savannahs, forests, deserts, and marshes. They are herbivorous, and they stay near water when it is accessible. They are considered to be keystone species, due to their impact on their environments.[1] Other animals tend to keep their distance from elephants; the exception is their predators such as lions, tigers, hyenas, and wild dogs, which usually target only young elephants (calves). Elephants have a fission–fusion society, in which multiple family groups come together to socialise. Females (cows) tend to live in family groups, which can consist of one female with her calves or several related females with offspring. The groups, which do not include bulls, are led by the (usually) oldest cow, known as the matriarch.\"\"\"\n",
    "\n",
    "*Hint: There are many ways to do this, the most \"elegant\" way uses a mixture of regular expressions on the `findall` function from the `re` library, and the `Counter` modules from [`collections`](https://docs.python.org/3/library/collections.html#counter-objects)* \n",
    "\n",
    "\n",
    "#### Sample output:\n",
    "\n",
    ">'1': Count of 1 and Percentage of 0.1% <br>\n",
    ">'a': Count of 4 and Percentage of 0.2% <br>\n",
    ">'accessible': Count of 1 and Percentage of 0.1% <br>\n",
    ">'africa': Count of 1 and Percentage of 0.1% <br>\n",
    ">'african': Count of 3 and Percentage of 0.2% <br>\n",
    ">'all': Count of 1 and Percentage of 0.1% <br>\n",
    ">'also': Count of 2 and Percentage of 0.1% <br>\n",
    ">'and': Count of 15 and Percentage of 0.8% <br>\n",
    ">'animals': Count of 2 and Percentage of 0.1% <br>\n",
    ">'are': Count of 8 and Percentage of 0.4% <br>\n",
    ">'as': Count of 6 and Percentage of 0.3% <br>\n",
    "> ...\n",
    ">'the': Count of 19 and Percentage of 1.0% <br>\n",
    ">'their': Count of 5 and Percentage of 0.3% <br>\n",
    ">'they': Count of 3 and Percentage of 0.2% <br>\n",
    ">'three': Count of 1 and Percentage of 0.1% <br>\n",
    ">'throughout': Count of 1 and Percentage of 0.1% <br>\n",
    ">'tigers': Count of 1 and Percentage of 0.1% <br>\n",
    ">'to': Count of 6 and Percentage of 0.3% <br>\n",
    ">'together': Count of 1 and Percentage of 0.1% <br>\n",
    ">... <br>\n",
    ">'usually': Count of 2 and Percentage of 0.1% <br>\n",
    ">'water': Count of 2 and Percentage of 0.1% <br>\n",
    ">'weapons': Count of 1 and Percentage of 0.1% <br>\n",
    ">'weight': Count of 1 and Percentage of 0.1% <br>\n",
    ">'well': Count of 1 and Percentage of 0.1% <br>\n",
    ">'when': Count of 1 and Percentage of 0.1% <br>\n",
    ">'whereas': Count of 1 and Percentage of 0.1% <br>\n",
    ">'which': Count of 5 and Percentage of 0.3% <br>\n",
    ">'wild': Count of 1 and Percentage of 0.1% <br>\n",
    ">'with': Count of 2 and Percentage of 0.1% <br>\n",
    ">'young': Count of 1 and Percentage of 0.1% <br>"
   ]
  },
  {
   "cell_type": "code",
   "execution_count": 44,
   "metadata": {},
   "outputs": [
    {
     "name": "stdout",
     "output_type": "stream",
     "text": [
      "'1': Count of 1 and Percentage of 0.1%\n",
      "'a': Count of 4 and Percentage of 0.2%\n",
      "'accessible': Count of 1 and Percentage of 0.1%\n",
      "'africa': Count of 1 and Percentage of 0.1%\n",
      "'african': Count of 3 and Percentage of 0.2%\n",
      "'all': Count of 1 and Percentage of 0.1%\n",
      "'also': Count of 2 and Percentage of 0.1%\n",
      "'and': Count of 15 and Percentage of 0.8%\n",
      "'animals': Count of 2 and Percentage of 0.1%\n",
      "'are': Count of 8 and Percentage of 0.4%\n",
      "'as': Count of 6 and Percentage of 0.3%\n",
      "'asia': Count of 2 and Percentage of 0.1%\n",
      "'asian': Count of 2 and Percentage of 0.1%\n",
      "'assist': Count of 1 and Percentage of 0.1%\n",
      "'backs': Count of 2 and Percentage of 0.1%\n",
      "'be': Count of 1 and Percentage of 0.1%\n",
      "'body': Count of 1 and Percentage of 0.1%\n",
      "'both': Count of 1 and Percentage of 0.1%\n",
      "'breathing': Count of 1 and Percentage of 0.1%\n",
      "'bringing': Count of 1 and Percentage of 0.1%\n",
      "'bulls': Count of 1 and Percentage of 0.1%\n",
      "'bush': Count of 1 and Percentage of 0.1%\n",
      "'but': Count of 1 and Percentage of 0.1%\n",
      "'by': Count of 1 and Percentage of 0.1%\n",
      "'called': Count of 1 and Percentage of 0.1%\n",
      "'calves': Count of 2 and Percentage of 0.1%\n",
      "'can': Count of 1 and Percentage of 0.1%\n",
      "'carry': Count of 1 and Percentage of 0.1%\n",
      "'come': Count of 1 and Percentage of 0.1%\n",
      "'communication': Count of 1 and Percentage of 0.1%\n",
      "'concave': Count of 1 and Percentage of 0.1%\n",
      "'considered': Count of 1 and Percentage of 0.1%\n",
      "'consist': Count of 1 and Percentage of 0.1%\n",
      "'constant': Count of 1 and Percentage of 0.1%\n",
      "'contains': Count of 1 and Percentage of 0.1%\n",
      "'convex': Count of 1 and Percentage of 0.1%\n",
      "'cow': Count of 1 and Percentage of 0.1%\n",
      "'cows': Count of 1 and Percentage of 0.1%\n",
      "'currently': Count of 1 and Percentage of 0.1%\n",
      "'derived': Count of 1 and Percentage of 0.1%\n",
      "'deserts': Count of 1 and Percentage of 0.1%\n",
      "'different': Count of 1 and Percentage of 0.1%\n",
      "'digging': Count of 1 and Percentage of 0.1%\n",
      "'distance': Count of 1 and Percentage of 0.1%\n",
      "'distinctive': Count of 1 and Percentage of 0.1%\n",
      "'do': Count of 1 and Percentage of 0.1%\n",
      "'dogs': Count of 1 and Percentage of 0.1%\n",
      "'due': Count of 1 and Percentage of 0.1%\n",
      "'ear': Count of 2 and Percentage of 0.1%\n",
      "'ears': Count of 2 and Percentage of 0.1%\n",
      "'elephant': Count of 3 and Percentage of 0.2%\n",
      "'elephantidae': Count of 3 and Percentage of 0.2%\n",
      "'elephants': Count of 9 and Percentage of 0.5%\n",
      "'environments': Count of 1 and Percentage of 0.1%\n",
      "'exception': Count of 1 and Percentage of 0.1%\n",
      "'existing': Count of 1 and Percentage of 0.1%\n",
      "'extinct': Count of 2 and Percentage of 0.1%\n",
      "'family': Count of 5 and Percentage of 0.3%\n",
      "'features': Count of 1 and Percentage of 0.1%\n",
      "'female': Count of 1 and Percentage of 0.1%\n",
      "'females': Count of 2 and Percentage of 0.1%\n",
      "'fission': Count of 1 and Percentage of 0.1%\n",
      "'flaps': Count of 2 and Percentage of 0.1%\n",
      "'food': Count of 1 and Percentage of 0.1%\n",
      "'for': Count of 2 and Percentage of 0.1%\n",
      "'forest': Count of 1 and Percentage of 0.1%\n",
      "'forests': Count of 1 and Percentage of 0.1%\n",
      "'found': Count of 1 and Percentage of 0.1%\n",
      "'from': Count of 2 and Percentage of 0.1%\n",
      "'fusion': Count of 1 and Percentage of 0.1%\n",
      "'grasping': Count of 1 and Percentage of 0.1%\n",
      "'great': Count of 1 and Percentage of 0.1%\n",
      "'groups': Count of 4 and Percentage of 0.2%\n",
      "'habitats': Count of 1 and Percentage of 0.1%\n",
      "'have': Count of 3 and Percentage of 0.2%\n",
      "'her': Count of 1 and Percentage of 0.1%\n",
      "'herbivorous': Count of 1 and Percentage of 0.1%\n",
      "'hyenas': Count of 1 and Percentage of 0.1%\n",
      "'impact': Count of 1 and Percentage of 0.1%\n",
      "'in': Count of 5 and Percentage of 0.3%\n",
      "'incisor': Count of 1 and Percentage of 0.1%\n",
      "'include': Count of 3 and Percentage of 0.2%\n",
      "'including': Count of 2 and Percentage of 0.1%\n",
      "'is': Count of 4 and Percentage of 0.2%\n",
      "'it': Count of 1 and Percentage of 0.1%\n",
      "'keep': Count of 1 and Percentage of 0.1%\n",
      "'keystone': Count of 1 and Percentage of 0.1%\n",
      "'known': Count of 1 and Percentage of 0.1%\n",
      "'land': Count of 1 and Percentage of 0.1%\n",
      "'large': Count of 2 and Percentage of 0.1%\n",
      "'larger': Count of 1 and Percentage of 0.1%\n",
      "'largest': Count of 1 and Percentage of 0.1%\n",
      "'led': Count of 1 and Percentage of 0.1%\n",
      "'legs': Count of 2 and Percentage of 0.1%\n",
      "'level': Count of 1 and Percentage of 0.1%\n",
      "'like': Count of 1 and Percentage of 0.1%\n",
      "'lions': Count of 1 and Percentage of 0.1%\n",
      "'live': Count of 1 and Percentage of 0.1%\n",
      "'long': Count of 1 and Percentage of 0.1%\n",
      "'maintaining': Count of 1 and Percentage of 0.1%\n",
      "'mammals': Count of 1 and Percentage of 0.1%\n",
      "'mammoths': Count of 1 and Percentage of 0.1%\n",
      "'marshes': Count of 1 and Percentage of 0.1%\n",
      "'massive': Count of 1 and Percentage of 0.1%\n",
      "'mastodons': Count of 1 and Percentage of 0.1%\n",
      "'matriarch': Count of 1 and Percentage of 0.1%\n",
      "'members': Count of 1 and Percentage of 0.1%\n",
      "'mouth': Count of 1 and Percentage of 0.1%\n",
      "'moving': Count of 1 and Percentage of 0.1%\n",
      "'multiple': Count of 1 and Percentage of 0.1%\n",
      "'near': Count of 1 and Percentage of 0.1%\n",
      "'not': Count of 1 and Percentage of 0.1%\n",
      "'now': Count of 1 and Percentage of 0.1%\n",
      "'objects': Count of 2 and Percentage of 0.1%\n",
      "'of': Count of 4 and Percentage of 0.2%\n",
      "'offspring': Count of 1 and Percentage of 0.1%\n",
      "'oldest': Count of 1 and Percentage of 0.1%\n",
      "'on': Count of 1 and Percentage of 0.1%\n",
      "'one': Count of 1 and Percentage of 0.1%\n",
      "'only': Count of 2 and Percentage of 0.1%\n",
      "'or': Count of 2 and Percentage of 0.1%\n",
      "'order': Count of 1 and Percentage of 0.1%\n",
      "'other': Count of 1 and Percentage of 0.1%\n",
      "'pillar': Count of 1 and Percentage of 0.1%\n",
      "'predators': Count of 1 and Percentage of 0.1%\n",
      "'proboscidea': Count of 1 and Percentage of 0.1%\n",
      "'proboscis': Count of 1 and Percentage of 0.1%\n",
      "'recognised': Count of 1 and Percentage of 0.1%\n",
      "'related': Count of 1 and Percentage of 0.1%\n",
      "'saharan': Count of 1 and Percentage of 0.1%\n",
      "'savannahs': Count of 1 and Percentage of 0.1%\n",
      "'scattered': Count of 1 and Percentage of 0.1%\n",
      "'sensitive': Count of 1 and Percentage of 0.1%\n",
      "'serve': Count of 1 and Percentage of 0.1%\n",
      "'several': Count of 2 and Percentage of 0.1%\n",
      "'skin': Count of 1 and Percentage of 0.1%\n",
      "'smaller': Count of 1 and Percentage of 0.1%\n",
      "'socialise': Count of 1 and Percentage of 0.1%\n",
      "'society': Count of 1 and Percentage of 0.1%\n",
      "'south': Count of 1 and Percentage of 0.1%\n",
      "'southeast': Count of 1 and Percentage of 0.1%\n",
      "'species': Count of 2 and Percentage of 0.1%\n",
      "'stay': Count of 1 and Percentage of 0.1%\n",
      "'straight': Count of 1 and Percentage of 0.1%\n",
      "'sub': Count of 1 and Percentage of 0.1%\n",
      "'such': Count of 1 and Percentage of 0.1%\n",
      "'surviving': Count of 1 and Percentage of 0.1%\n",
      "'target': Count of 1 and Percentage of 0.1%\n",
      "'teeth': Count of 1 and Percentage of 0.1%\n",
      "'temperature': Count of 1 and Percentage of 0.1%\n",
      "'tend': Count of 2 and Percentage of 0.1%\n",
      "'the': Count of 19 and Percentage of 1.0%\n",
      "'their': Count of 5 and Percentage of 0.3%\n",
      "'they': Count of 3 and Percentage of 0.2%\n",
      "'three': Count of 1 and Percentage of 0.1%\n",
      "'throughout': Count of 1 and Percentage of 0.1%\n",
      "'tigers': Count of 1 and Percentage of 0.1%\n",
      "'to': Count of 6 and Percentage of 0.3%\n",
      "'together': Count of 1 and Percentage of 0.1%\n",
      "'tools': Count of 1 and Percentage of 0.1%\n",
      "'tough': Count of 1 and Percentage of 0.1%\n",
      "'trunk': Count of 2 and Percentage of 0.1%\n",
      "'tusked': Count of 1 and Percentage of 0.1%\n",
      "'tusks': Count of 2 and Percentage of 0.1%\n",
      "'used': Count of 1 and Percentage of 0.1%\n",
      "'usually': Count of 2 and Percentage of 0.1%\n",
      "'water': Count of 2 and Percentage of 0.1%\n",
      "'weapons': Count of 1 and Percentage of 0.1%\n",
      "'weight': Count of 1 and Percentage of 0.1%\n",
      "'well': Count of 1 and Percentage of 0.1%\n",
      "'when': Count of 1 and Percentage of 0.1%\n",
      "'whereas': Count of 1 and Percentage of 0.1%\n",
      "'which': Count of 5 and Percentage of 0.3%\n",
      "'wild': Count of 1 and Percentage of 0.1%\n",
      "'with': Count of 2 and Percentage of 0.1%\n",
      "'young': Count of 1 and Percentage of 0.1%\n"
     ]
    }
   ],
   "source": [
    "text = \"\"\"Elephants are mammals of the family Elephantidae and the largest existing land animals. Three species are currently recognised: the African bush elephant, the African forest elephant, and the Asian elephant. Elephantidae is the only surviving family of the order Proboscidea; extinct members include the mastodons. The family Elephantidae also contains several now-extinct groups, including the mammoths and straight-tusked elephants. African elephants have larger ears and concave backs, whereas Asian elephants have smaller ears, and convex or level backs. Distinctive features of all elephants include a long trunk, tusks, large ear flaps, massive legs, and tough but sensitive skin. The trunk, also called a proboscis, is used for breathing, bringing food and water to the mouth, and grasping objects. Tusks, which are derived from the incisor teeth, serve both as weapons and as tools for moving objects and digging. The large ear flaps assist in maintaining a constant body temperature as well as in communication. The pillar-like legs carry their great weight. Elephants are scattered throughout sub-Saharan Africa, South Asia, and Southeast Asia and are found in different habitats, including savannahs, forests, deserts, and marshes. They are herbivorous, and they stay near water when it is accessible. They are considered to be keystone species, due to their impact on their environments.[1] Other animals tend to keep their distance from elephants; the exception is their predators such as lions, tigers, hyenas, and wild dogs, which usually target only young elephants (calves). Elephants have a fission–fusion society, in which multiple family groups come together to socialise. Females (cows) tend to live in family groups, which can consist of one female with her calves or several related females with offspring. The groups, which do not include bulls, are led by the (usually) oldest cow, known as the matriarch.\"\"\"\n",
    "\n",
    "### Your solution here\n",
    "\n",
    "import re\n",
    "from collections import Counter\n",
    "counts=Counter(re.findall(r\"[\\w']+\", text.lower()))\n",
    "\n",
    "for i in sorted(counts):\n",
    "    print(\"'{0}': Count of {1} and Percentage of {2:.1f}%\".format(i,counts[i],100*counts[i]/len(text)))"
   ]
  },
  {
   "cell_type": "code",
   "execution_count": null,
   "metadata": {
    "collapsed": true,
    "jupyter": {
     "outputs_hidden": true,
     "source_hidden": false
    },
    "nteract": {
     "transient": {
      "deleting": false
     }
    }
   },
   "outputs": [],
   "source": []
  }
 ],
 "metadata": {
  "kernelspec": {
   "display_name": "Python 3",
   "language": "python",
   "name": "python3"
  },
  "language_info": {
   "codemirror_mode": {
    "name": "ipython",
    "version": 3
   },
   "file_extension": ".py",
   "mimetype": "text/x-python",
   "name": "python",
   "nbconvert_exporter": "python",
   "pygments_lexer": "ipython3",
   "version": "3.8.5"
  },
  "nteract": {
   "version": "0.26.0"
  }
 },
 "nbformat": 4,
 "nbformat_minor": 4
}
