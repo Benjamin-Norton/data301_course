{
  "cells": [
    {
      "cell_type": "markdown",
      "source": [
        "# Lab 4: Data analysis with Python\n",
        "In this lab you work on applying your new Python skills to work with data - finally!\n",
        "\n",
        "**This lab must be completed individually.**\n",
        "\n",
        "Where provided, try your best to match the **Sample Output** as best as you can.\n",
        "\n",
        "## Accept the lab\n",
        "\n",
        "To accept this lab on GitHub Classroom, ***LINK***"
      ],
      "metadata": {}
    },
    {
      "cell_type": "markdown",
      "source": [
        "## Objectives\n",
        "\n",
        "1. Practice Python functions\n",
        "2. Practice Python mathematical operations\n",
        "3. Practice importing and using the Pandas module\n",
        "4. Practice working with seaborn plots"
      ],
      "metadata": {}
    },
    {
      "cell_type": "code",
      "source": [
        "# Usually all the import statements are at the top of the file\n",
        "\n",
        "import pandas as pd\n",
        "import seaborn as sns\n",
        "import numpy as np\n",
        "import os"
      ],
      "outputs": [],
      "execution_count": 2,
      "metadata": {
        "execution": {
          "iopub.status.busy": "2020-11-19T17:05:57.582Z",
          "iopub.execute_input": "2020-11-19T17:05:57.595Z",
          "iopub.status.idle": "2020-11-19T17:05:58.768Z",
          "shell.execute_reply": "2020-11-19T17:05:58.834Z"
        }
      }
    },
    {
      "cell_type": "markdown",
      "source": [
        "## A: Creating Functions (3 marks)\n",
        "\n",
        "In your projects, you may need to create your own functions to do some complex calculations (beyond mean, median etc...). In this question you will write a function to find the roots of a quadratic equation.\n",
        "\n",
        "To refresh your memory from high school math, a quadratic function looks like this:\n",
        "\n",
        "<img src=\"quadratic.png\" width=\"500px\">\n",
        "\n",
        "Given the standard form of a quadratic equation, $ax^2 + bx + c = 0$ where *a, b, c* are known real numbers and $a\\neq0$, the quadratic formula to find unknown $x$ is:\n",
        "$$x=\\frac{-b ± \\sqrt{b^2-4ac}}{2a}$$\n",
        "\n",
        "Write a python function that calculates and prints all possible real (i.e. non-complex) answers for $x$. \n",
        "\n",
        "Check your function by running it on some test data points:\n",
        "\n",
        "- `solution(1,1,1)`,\n",
        "- `solution(1,0,-4)`,\n",
        "- `solution(1,2,1)`. \n",
        "\n",
        "#### Sample Output\n",
        ">--> For a=1, b=1, and c=1:<br>\n",
        ">The equation does not have any real solution<br>\n",
        ">--> For a=1, b=0, and c=-4:<br>\n",
        ">x1 = 2.0 and x2 = -2.0<br>\n",
        ">--> For a=1, b=2, and c=1:<br>\n",
        ">x = -1.0<br>"
      ],
      "metadata": {}
    },
    {
      "cell_type": "code",
      "source": [
        "def solution(a, b, c):\n",
        "    # Your solution here\n",
        "    \n",
        "    if a==0:\n",
        "        print(\"Please try again, the `a` term needs to be non-zero.\")\n",
        "    else:\n",
        "        print(\"--> For a={}, b={}, and c={}:\".format(a,b,c))\n",
        "        if (b**2-4*a*c) <0:\n",
        "            print(\"This equation does not have a real solution\")\n",
        "        elif (b**2-4*a*c) ==0:\n",
        "            x = (-b)/(2*a)\n",
        "            print(\"x = {}\".format(x))\n",
        "        else:\n",
        "            x1 = (-b + (b**2-4*a*c)**0.5)/(2*a)\n",
        "            x2 = (-b - (b**2-4*a*c)**0.5)/(2*a)\n",
        "            print(\"x1 = {} and x2 = {}\".format(x1,x2))\n"
      ],
      "outputs": [],
      "execution_count": 3,
      "metadata": {
        "execution": {
          "iopub.status.busy": "2020-11-19T17:05:58.789Z",
          "iopub.execute_input": "2020-11-19T17:05:58.800Z",
          "iopub.status.idle": "2020-11-19T17:05:58.819Z",
          "shell.execute_reply": "2020-11-19T17:05:58.841Z"
        }
      }
    },
    {
      "cell_type": "code",
      "source": [
        "solution(1,1,1)"
      ],
      "outputs": [
        {
          "output_type": "stream",
          "name": "stdout",
          "text": [
            "--> For a=1, b=1, and c=1:\n",
            "This equation does not have a real solution\n"
          ]
        }
      ],
      "execution_count": 4,
      "metadata": {
        "execution": {
          "iopub.status.busy": "2020-11-19T17:05:58.919Z",
          "iopub.execute_input": "2020-11-19T17:05:58.931Z",
          "iopub.status.idle": "2020-11-19T17:05:58.955Z",
          "shell.execute_reply": "2020-11-19T17:05:58.966Z"
        }
      }
    },
    {
      "cell_type": "code",
      "source": [
        "solution(1,0,-4)"
      ],
      "outputs": [
        {
          "output_type": "stream",
          "name": "stdout",
          "text": [
            "--> For a=1, b=0, and c=-4:\n",
            "x1 = 2.0 and x2 = -2.0\n"
          ]
        }
      ],
      "execution_count": 5,
      "metadata": {
        "execution": {
          "iopub.status.busy": "2020-11-19T17:05:59.415Z",
          "iopub.execute_input": "2020-11-19T17:05:59.426Z",
          "iopub.status.idle": "2020-11-19T17:05:59.451Z",
          "shell.execute_reply": "2020-11-19T17:05:59.463Z"
        }
      }
    },
    {
      "cell_type": "code",
      "source": [
        "solution(1,2,1)"
      ],
      "outputs": [
        {
          "output_type": "stream",
          "name": "stdout",
          "text": [
            "--> For a=1, b=2, and c=1:\n",
            "x = -1.0\n"
          ]
        }
      ],
      "execution_count": 6,
      "metadata": {
        "execution": {
          "iopub.status.busy": "2020-11-19T17:05:59.762Z",
          "iopub.execute_input": "2020-11-19T17:05:59.774Z",
          "iopub.status.idle": "2020-11-19T17:05:59.796Z",
          "shell.execute_reply": "2020-11-19T17:05:59.809Z"
        }
      }
    },
    {
      "cell_type": "markdown",
      "source": [
        "## B: Functions (Total: 6 marks)\n",
        "\n",
        "Remember in lab 2, you used *tree* to show a map of all directories and files within a directory. \n",
        "In this section, we want to make a similar program, but using python instead. "
      ],
      "metadata": {}
    },
    {
      "cell_type": "markdown",
      "source": [
        "### B1. `ListFiles()` (2 marks): \n",
        "\n",
        "**Task: Your task is to create a python function called `ListFiles()` that takes in a directory path and then finds and print all the files (not directories) in a given directory (relative to `./`).**\n",
        "\n",
        "We suggest you use the [`listdir()` function](https://docs.python.org/3/library/os.html#os.listdir) and `isfile()` functions from the `os` module.\n",
        "\n",
        "In your GitHub repository, there is a folder called `directory_list` which contains some sample files. \n",
        "\n",
        "*Hint 1: don't forget to first `import os` to use `os.listdir()` and `os.path.isfile()`.*\n",
        "\n",
        "*Hint 2: You can see the following tutorials if you need some extra help or some worked examples: [link1](https://www.tutorialspoint.com/python/os_listdir.htm) and [link2](https://www.geeksforgeeks.org/python-os-path-isfile-method/)*.\n",
        "\n",
        "#### Sample Output\n",
        ">directory/file1.txt<br>\n",
        ">directory/file2.txt<br>\n",
        ">directory/file3.txt<br>\n",
        ">directory/file4.txt<br>"
      ],
      "metadata": {}
    },
    {
      "cell_type": "code",
      "source": [
        "import os"
      ],
      "outputs": [],
      "execution_count": 7,
      "metadata": {
        "execution": {
          "iopub.status.busy": "2020-11-19T17:06:00.640Z",
          "iopub.execute_input": "2020-11-19T17:06:00.651Z",
          "iopub.status.idle": "2020-11-19T17:06:00.669Z",
          "shell.execute_reply": "2020-11-19T17:06:00.678Z"
        }
      }
    },
    {
      "cell_type": "code",
      "source": [
        "def ListFiles(address):\n",
        "    # Your Solution here\n",
        "    \n",
        "    for i in os.listdir(address):\n",
        "        if os.path.isfile(\"{}/{}\".format(address,i)):\n",
        "            print(\"{}/{}\".format(address,i))    "
      ],
      "outputs": [],
      "execution_count": 8,
      "metadata": {
        "execution": {
          "iopub.status.busy": "2020-11-19T17:06:00.925Z",
          "iopub.execute_input": "2020-11-19T17:06:00.936Z",
          "iopub.status.idle": "2020-11-19T17:06:00.954Z",
          "shell.execute_reply": "2020-11-19T17:06:00.965Z"
        }
      }
    },
    {
      "cell_type": "code",
      "source": [
        "ListFiles(\"directory_list\")"
      ],
      "outputs": [
        {
          "output_type": "error",
          "ename": "FileNotFoundError",
          "evalue": "[Errno 2] No such file or directory: 'directory_list'",
          "traceback": [
            "\u001b[0;31m---------------------------------------------------------------------------\u001b[0m",
            "\u001b[0;31mFileNotFoundError\u001b[0m                         Traceback (most recent call last)",
            "\u001b[0;32m<ipython-input-9-6a896d3fc113>\u001b[0m in \u001b[0;36m<module>\u001b[0;34m\u001b[0m\n\u001b[0;32m----> 1\u001b[0;31m \u001b[0mListFiles\u001b[0m\u001b[0;34m(\u001b[0m\u001b[0;34m\"directory_list\"\u001b[0m\u001b[0;34m)\u001b[0m\u001b[0;34m\u001b[0m\u001b[0;34m\u001b[0m\u001b[0m\n\u001b[0m",
            "\u001b[0;32m<ipython-input-8-122538586970>\u001b[0m in \u001b[0;36mListFiles\u001b[0;34m(address)\u001b[0m\n\u001b[1;32m      2\u001b[0m     \u001b[0;31m# Your Solution here\u001b[0m\u001b[0;34m\u001b[0m\u001b[0;34m\u001b[0m\u001b[0;34m\u001b[0m\u001b[0m\n\u001b[1;32m      3\u001b[0m \u001b[0;34m\u001b[0m\u001b[0m\n\u001b[0;32m----> 4\u001b[0;31m     \u001b[0;32mfor\u001b[0m \u001b[0mi\u001b[0m \u001b[0;32min\u001b[0m \u001b[0mos\u001b[0m\u001b[0;34m.\u001b[0m\u001b[0mlistdir\u001b[0m\u001b[0;34m(\u001b[0m\u001b[0maddress\u001b[0m\u001b[0;34m)\u001b[0m\u001b[0;34m:\u001b[0m\u001b[0;34m\u001b[0m\u001b[0;34m\u001b[0m\u001b[0m\n\u001b[0m\u001b[1;32m      5\u001b[0m         \u001b[0;32mif\u001b[0m \u001b[0mos\u001b[0m\u001b[0;34m.\u001b[0m\u001b[0mpath\u001b[0m\u001b[0;34m.\u001b[0m\u001b[0misfile\u001b[0m\u001b[0;34m(\u001b[0m\u001b[0;34m\"{}/{}\"\u001b[0m\u001b[0;34m.\u001b[0m\u001b[0mformat\u001b[0m\u001b[0;34m(\u001b[0m\u001b[0maddress\u001b[0m\u001b[0;34m,\u001b[0m\u001b[0mi\u001b[0m\u001b[0;34m)\u001b[0m\u001b[0;34m)\u001b[0m\u001b[0;34m:\u001b[0m\u001b[0;34m\u001b[0m\u001b[0;34m\u001b[0m\u001b[0m\n\u001b[1;32m      6\u001b[0m             \u001b[0mprint\u001b[0m\u001b[0;34m(\u001b[0m\u001b[0;34m\"{}/{}\"\u001b[0m\u001b[0;34m.\u001b[0m\u001b[0mformat\u001b[0m\u001b[0;34m(\u001b[0m\u001b[0maddress\u001b[0m\u001b[0;34m,\u001b[0m\u001b[0mi\u001b[0m\u001b[0;34m)\u001b[0m\u001b[0;34m)\u001b[0m\u001b[0;34m\u001b[0m\u001b[0;34m\u001b[0m\u001b[0m\n",
            "\u001b[0;31mFileNotFoundError\u001b[0m: [Errno 2] No such file or directory: 'directory_list'"
          ]
        }
      ],
      "execution_count": 9,
      "metadata": {
        "execution": {
          "iopub.status.busy": "2020-11-19T17:06:01.231Z",
          "iopub.execute_input": "2020-11-19T17:06:01.240Z",
          "iopub.status.idle": "2020-11-19T17:06:01.326Z",
          "shell.execute_reply": "2020-11-19T17:06:01.351Z"
        }
      }
    },
    {
      "cell_type": "markdown",
      "source": [
        "### B2. `ListDirectories()` (2 marks): \n",
        "\n",
        "**Task: Use the `os.listdir()` and `os.path.isdir()` function to find and print all the directories (not files) in a given folder.\n",
        "Create a python function `ListDirectories(path)` that prints all the directories in that folder (and subfolders).***\n",
        "\n",
        "#### Sample Output (order does not matter)\n",
        "> directory_list/dir2/ <br>\n",
        "> directory_list/dir4/ <br>\n",
        "> directory_list/dir3/ <br>\n",
        "> directory_list/dir1/ <br>"
      ],
      "metadata": {}
    },
    {
      "cell_type": "code",
      "source": [
        "def ListDirectories(address):\n",
        "    # Your Solution here\n",
        "\n",
        "    for i in os.listdir(address):\n",
        "        if os.path.isdir(\"{}/{}\".format(address,i)):\n",
        "            print(\"{}/{}/\".format(address,i))"
      ],
      "outputs": [],
      "execution_count": 10,
      "metadata": {
        "execution": {
          "iopub.status.busy": "2020-11-19T17:06:01.798Z",
          "iopub.execute_input": "2020-11-19T17:06:01.809Z",
          "iopub.status.idle": "2020-11-19T17:06:01.826Z",
          "shell.execute_reply": "2020-11-19T17:06:01.836Z"
        }
      }
    },
    {
      "cell_type": "code",
      "source": [
        "ListDirectories(\"directory_list\")"
      ],
      "outputs": [
        {
          "output_type": "error",
          "ename": "FileNotFoundError",
          "evalue": "[Errno 2] No such file or directory: 'directory_list'",
          "traceback": [
            "\u001b[0;31m---------------------------------------------------------------------------\u001b[0m",
            "\u001b[0;31mFileNotFoundError\u001b[0m                         Traceback (most recent call last)",
            "\u001b[0;32m<ipython-input-11-4c89510a0842>\u001b[0m in \u001b[0;36m<module>\u001b[0;34m\u001b[0m\n\u001b[0;32m----> 1\u001b[0;31m \u001b[0mListDirectories\u001b[0m\u001b[0;34m(\u001b[0m\u001b[0;34m\"directory_list\"\u001b[0m\u001b[0;34m)\u001b[0m\u001b[0;34m\u001b[0m\u001b[0;34m\u001b[0m\u001b[0m\n\u001b[0m",
            "\u001b[0;32m<ipython-input-10-0063707bee4c>\u001b[0m in \u001b[0;36mListDirectories\u001b[0;34m(address)\u001b[0m\n\u001b[1;32m      2\u001b[0m     \u001b[0;31m# Your Solution here\u001b[0m\u001b[0;34m\u001b[0m\u001b[0;34m\u001b[0m\u001b[0;34m\u001b[0m\u001b[0m\n\u001b[1;32m      3\u001b[0m \u001b[0;34m\u001b[0m\u001b[0m\n\u001b[0;32m----> 4\u001b[0;31m     \u001b[0;32mfor\u001b[0m \u001b[0mi\u001b[0m \u001b[0;32min\u001b[0m \u001b[0mos\u001b[0m\u001b[0;34m.\u001b[0m\u001b[0mlistdir\u001b[0m\u001b[0;34m(\u001b[0m\u001b[0maddress\u001b[0m\u001b[0;34m)\u001b[0m\u001b[0;34m:\u001b[0m\u001b[0;34m\u001b[0m\u001b[0;34m\u001b[0m\u001b[0m\n\u001b[0m\u001b[1;32m      5\u001b[0m         \u001b[0;32mif\u001b[0m \u001b[0mos\u001b[0m\u001b[0;34m.\u001b[0m\u001b[0mpath\u001b[0m\u001b[0;34m.\u001b[0m\u001b[0misdir\u001b[0m\u001b[0;34m(\u001b[0m\u001b[0;34m\"{}/{}\"\u001b[0m\u001b[0;34m.\u001b[0m\u001b[0mformat\u001b[0m\u001b[0;34m(\u001b[0m\u001b[0maddress\u001b[0m\u001b[0;34m,\u001b[0m\u001b[0mi\u001b[0m\u001b[0;34m)\u001b[0m\u001b[0;34m)\u001b[0m\u001b[0;34m:\u001b[0m\u001b[0;34m\u001b[0m\u001b[0;34m\u001b[0m\u001b[0m\n\u001b[1;32m      6\u001b[0m             \u001b[0mprint\u001b[0m\u001b[0;34m(\u001b[0m\u001b[0;34m\"{}/{}/\"\u001b[0m\u001b[0;34m.\u001b[0m\u001b[0mformat\u001b[0m\u001b[0;34m(\u001b[0m\u001b[0maddress\u001b[0m\u001b[0;34m,\u001b[0m\u001b[0mi\u001b[0m\u001b[0;34m)\u001b[0m\u001b[0;34m)\u001b[0m\u001b[0;34m\u001b[0m\u001b[0;34m\u001b[0m\u001b[0m\n",
            "\u001b[0;31mFileNotFoundError\u001b[0m: [Errno 2] No such file or directory: 'directory_list'"
          ]
        }
      ],
      "execution_count": 11,
      "metadata": {
        "execution": {
          "iopub.status.busy": "2020-11-19T17:06:02.106Z",
          "iopub.execute_input": "2020-11-19T17:06:02.116Z",
          "iopub.status.idle": "2020-11-19T17:06:02.138Z",
          "shell.execute_reply": "2020-11-19T17:06:02.149Z"
        }
      }
    },
    {
      "cell_type": "markdown",
      "source": [
        "### B3. `tree()` (2 marks): \n",
        "\n",
        "**Task: Write a function `tree(path)` that prints a map of all directories AND files within a directory.**\n",
        "\n",
        "*Hint: you can use the functions you created above, or you may use the [`os.walk()`](https://www.tutorialspoint.com/python/os_walk.htm) function to complete this task (there are many ways to do it). Another option is to use [glob](https://www.geeksforgeeks.org/how-to-use-glob-function-to-find-files-recursively-in-python/).* You can explore multiple solutions if you like.\n",
        "\n",
        "#### Sample Output\n",
        "> directory_list/file1.txt <br>\n",
        "> directory_list/file2.txt <br>\n",
        "> directory_list/file3.txt <br>\n",
        "> directory_list/file4.txt <br>\n",
        "> directory_list/dir1/ <br>\n",
        "> directory_list/dir1/file24.txt <br>\n",
        "> directory_list/dir1/file23.txt <br>\n",
        "> directory_list/dir2/ <br>\n",
        "> directory_list/dir2/file34.txt <br>\n",
        "> directory_list/dir3/ <br>\n",
        "> directory_list/dir3/file110.txt <br>\n",
        "> directory_list/dir3/file140.txt <br>\n",
        "> directory_list/dir3/file130.txt <br>\n",
        "> directory_list/dir3/file120.txt <br>\n",
        "> directory_list/dir4/ <br>\n",
        "> directory_list/dir4/file11.txt <br>\n",
        "> directory_list/dir4/file12.txt <br>\n",
        "> directory_list/dir4/file13.txt <br>\n",
        "> directory_list/dir4/file14.txt <br>"
      ],
      "metadata": {}
    },
    {
      "cell_type": "code",
      "source": [
        "def tree(path):\n",
        "    # Your Solution here\n",
        "    for i in os.listdir(path):\n",
        "        if os.path.isdir(\"{}/{}\".format(path,i)):\n",
        "            print(\"{}/{}/\".format(path,i))\n",
        "            tree(\"{}/{}\".format(path,i))\n",
        "        else:\n",
        "            print(\"{}/{}\".format(path,i))\n",
        "                        "
      ],
      "outputs": [],
      "execution_count": 12,
      "metadata": {
        "execution": {
          "iopub.status.busy": "2020-11-19T17:06:02.882Z",
          "iopub.execute_input": "2020-11-19T17:06:02.891Z",
          "iopub.status.idle": "2020-11-19T17:06:02.906Z",
          "shell.execute_reply": "2020-11-19T17:06:02.915Z"
        }
      }
    },
    {
      "cell_type": "code",
      "source": [
        "# Test your function\n",
        "tree(\"directory_list\")"
      ],
      "outputs": [
        {
          "output_type": "error",
          "ename": "FileNotFoundError",
          "evalue": "[Errno 2] No such file or directory: 'directory_list'",
          "traceback": [
            "\u001b[0;31m---------------------------------------------------------------------------\u001b[0m",
            "\u001b[0;31mFileNotFoundError\u001b[0m                         Traceback (most recent call last)",
            "\u001b[0;32m<ipython-input-13-3ee0fa59eab9>\u001b[0m in \u001b[0;36m<module>\u001b[0;34m\u001b[0m\n\u001b[1;32m      1\u001b[0m \u001b[0;31m# Test your function\u001b[0m\u001b[0;34m\u001b[0m\u001b[0;34m\u001b[0m\u001b[0;34m\u001b[0m\u001b[0m\n\u001b[0;32m----> 2\u001b[0;31m \u001b[0mtree\u001b[0m\u001b[0;34m(\u001b[0m\u001b[0;34m\"directory_list\"\u001b[0m\u001b[0;34m)\u001b[0m\u001b[0;34m\u001b[0m\u001b[0;34m\u001b[0m\u001b[0m\n\u001b[0m",
            "\u001b[0;32m<ipython-input-12-0ed2a508d6f3>\u001b[0m in \u001b[0;36mtree\u001b[0;34m(path)\u001b[0m\n\u001b[1;32m      1\u001b[0m \u001b[0;32mdef\u001b[0m \u001b[0mtree\u001b[0m\u001b[0;34m(\u001b[0m\u001b[0mpath\u001b[0m\u001b[0;34m)\u001b[0m\u001b[0;34m:\u001b[0m\u001b[0;34m\u001b[0m\u001b[0;34m\u001b[0m\u001b[0m\n\u001b[1;32m      2\u001b[0m     \u001b[0;31m# Your Solution here\u001b[0m\u001b[0;34m\u001b[0m\u001b[0;34m\u001b[0m\u001b[0;34m\u001b[0m\u001b[0m\n\u001b[0;32m----> 3\u001b[0;31m     \u001b[0;32mfor\u001b[0m \u001b[0mi\u001b[0m \u001b[0;32min\u001b[0m \u001b[0mos\u001b[0m\u001b[0;34m.\u001b[0m\u001b[0mlistdir\u001b[0m\u001b[0;34m(\u001b[0m\u001b[0mpath\u001b[0m\u001b[0;34m)\u001b[0m\u001b[0;34m:\u001b[0m\u001b[0;34m\u001b[0m\u001b[0;34m\u001b[0m\u001b[0m\n\u001b[0m\u001b[1;32m      4\u001b[0m         \u001b[0;32mif\u001b[0m \u001b[0mos\u001b[0m\u001b[0;34m.\u001b[0m\u001b[0mpath\u001b[0m\u001b[0;34m.\u001b[0m\u001b[0misdir\u001b[0m\u001b[0;34m(\u001b[0m\u001b[0;34m\"{}/{}\"\u001b[0m\u001b[0;34m.\u001b[0m\u001b[0mformat\u001b[0m\u001b[0;34m(\u001b[0m\u001b[0mpath\u001b[0m\u001b[0;34m,\u001b[0m\u001b[0mi\u001b[0m\u001b[0;34m)\u001b[0m\u001b[0;34m)\u001b[0m\u001b[0;34m:\u001b[0m\u001b[0;34m\u001b[0m\u001b[0;34m\u001b[0m\u001b[0m\n\u001b[1;32m      5\u001b[0m             \u001b[0mprint\u001b[0m\u001b[0;34m(\u001b[0m\u001b[0;34m\"{}/{}/\"\u001b[0m\u001b[0;34m.\u001b[0m\u001b[0mformat\u001b[0m\u001b[0;34m(\u001b[0m\u001b[0mpath\u001b[0m\u001b[0;34m,\u001b[0m\u001b[0mi\u001b[0m\u001b[0;34m)\u001b[0m\u001b[0;34m)\u001b[0m\u001b[0;34m\u001b[0m\u001b[0;34m\u001b[0m\u001b[0m\n",
            "\u001b[0;31mFileNotFoundError\u001b[0m: [Errno 2] No such file or directory: 'directory_list'"
          ]
        }
      ],
      "execution_count": 13,
      "metadata": {
        "execution": {
          "iopub.status.busy": "2020-11-19T17:06:03.233Z",
          "iopub.execute_input": "2020-11-19T17:06:03.243Z",
          "iopub.status.idle": "2020-11-19T17:06:03.267Z",
          "shell.execute_reply": "2020-11-19T17:06:03.277Z"
        }
      }
    },
    {
      "cell_type": "markdown",
      "source": [
        "## C: `numpy` (Total: 8 marks)\n",
        "\n",
        "In this section, we will practive using the `numpy` library.\n",
        "First, import the `numpy` library\n",
        "\n",
        "```\n",
        "import numpy as np\n",
        "```"
      ],
      "metadata": {}
    },
    {
      "cell_type": "markdown",
      "source": [
        "### C1. Create a vector (3 marks)\n",
        "\n",
        "**Task: Create an empty vector of size 10 filled with NaN.**\n",
        "\n",
        "*Hint: you need to use [`zeros()` method](https://numpy.org/doc/stable/reference/generated/numpy.zeros.html) or the [`empty()` method](https://numpy.org/doc/stable/reference/generated/numpy.empty.html?highlight=empty#numpy.empty)*"
      ],
      "metadata": {}
    },
    {
      "cell_type": "code",
      "source": [
        "# Your Solution here\n",
        "\n",
        "np.empty(10) + np.nan"
      ],
      "outputs": [
        {
          "output_type": "execute_result",
          "execution_count": 14,
          "data": {
            "text/plain": "array([nan, nan, nan, nan, nan, nan, nan, nan, nan, nan])"
          },
          "metadata": {}
        }
      ],
      "execution_count": 14,
      "metadata": {
        "execution": {
          "iopub.status.busy": "2020-11-19T17:06:15.938Z",
          "iopub.execute_input": "2020-11-19T17:06:15.946Z",
          "iopub.status.idle": "2020-11-19T17:06:15.969Z",
          "shell.execute_reply": "2020-11-19T17:06:15.979Z"
        }
      }
    },
    {
      "cell_type": "markdown",
      "source": [
        "### C2. Working with Vectors (2 marks)\n",
        "\n",
        "**Task: Create a random vector of size 10 and then find its mean, max, min, and sum value.**\n",
        "\n",
        "*Hint: for random vector you need to use `np.random.random()` and for the mean, max, min, sum you need to use build-in numpy methods `mean()`,`max()`,`min()`,`sum()`*.\n",
        "\n",
        "#### Sample output (Your numbers will be different)\n",
        "\n",
        ">[0.66698639 0.32937943 0.12074085 0.21788496 0.75628444 0.56461791\n",
        " 0.38162184 0.60966053 0.00491222 0.80007239]<br/>\n",
        ">The max is: 0.800<br/>\n",
        ">The min is: 0.005<br/>\n",
        ">The sum is: 4.452<br/>\n",
        ">The mean is: 0.445<br/>"
      ],
      "metadata": {}
    },
    {
      "cell_type": "code",
      "source": [
        "# Your Solution here\n",
        "\n",
        "v = np.random.random(10)\n",
        "print(v)\n",
        "print('The max is: {:0.3f}'.format(v.max()))\n",
        "print('The min is: {:0.3f}'.format(v.min()))\n",
        "print('The sum is: {:0.3f}'.format(v.sum()))\n",
        "print('The mean is: {:0.3f}'.format(v.mean()))"
      ],
      "outputs": [
        {
          "output_type": "stream",
          "name": "stdout",
          "text": [
            "[0.79815213 0.08737428 0.3237815  0.26334844 0.82504506 0.6862381\n",
            " 0.30573611 0.95406859 0.7034509  0.34440498]\n",
            "The max is: 0.954\n",
            "The min is: 0.087\n",
            "The sum is: 5.292\n",
            "The mean is: 0.529\n"
          ]
        }
      ],
      "execution_count": 15,
      "metadata": {
        "execution": {
          "iopub.status.busy": "2020-11-19T17:06:16.928Z",
          "iopub.execute_input": "2020-11-19T17:06:16.938Z",
          "iopub.status.idle": "2020-11-19T17:06:16.958Z",
          "shell.execute_reply": "2020-11-19T17:06:16.967Z"
        }
      }
    },
    {
      "cell_type": "markdown",
      "source": [
        "### C4. More vectors (3 marks)\n",
        "\n",
        "**Task: Using `numpy` Create a vector of size 15 which contains random values ranging from 10 to 90 and replace the minimum value with 100 and maximum value with 0. Print the mean, befor and after.**\n",
        "\n",
        "*Hint: you may need to use `argmax()` and `argmin()`. \n",
        "Documentation for that can be found [here](https://numpy.org/doc/stable/reference/generated/numpy.argmax.html).*\n",
        "\n",
        "\n",
        "##### Sample output\n",
        ">before: [20 27 10 63 57 71 50 18 76 56 38 62 10  9 12]<br>\n",
        ">mean: 38.6<br>\n",
        ">after: [ 20  27  10  63  57  71  50  18 100  56  38  62  10   9  12]<br>\n",
        ">mean: 40.2<br>"
      ],
      "metadata": {}
    },
    {
      "cell_type": "code",
      "source": [
        "# Your solution\n",
        "\n",
        "v = np.random.randint(10,90,15)\n",
        "print(\"before:\", v)\n",
        "print(\"mean:\", v.mean())\n",
        "v[v.argmax()] = 0\n",
        "v[v.argmin()] = 100\n",
        "print(\"after:\", v)\n",
        "print(\"mean:\", v.mean())"
      ],
      "outputs": [
        {
          "output_type": "stream",
          "name": "stdout",
          "text": [
            "before: [11 40 19 85 36 17 31 72 76 18 70 35 23 23 85]\n",
            "mean: 42.733333333333334\n",
            "after: [ 11  40  19 100  36  17  31  72  76  18  70  35  23  23  85]\n",
            "mean: 43.733333333333334\n"
          ]
        }
      ],
      "execution_count": 16,
      "metadata": {
        "execution": {
          "iopub.status.busy": "2020-11-19T17:06:18.172Z",
          "iopub.execute_input": "2020-11-19T17:06:18.181Z",
          "iopub.status.idle": "2020-11-19T17:06:18.203Z",
          "shell.execute_reply": "2020-11-19T17:06:18.211Z"
        }
      }
    },
    {
      "cell_type": "markdown",
      "source": [
        "## D. Plotting using Seaborn (and matplotlib) (Total: 16 marks)\n",
        "\n",
        "`matplotlib` is a Python library for data visualization. \n",
        "`seaborn` is a statistical data visualization library layer that provides a high-level interface for drawing statistical graphics and some convenient functions for plotting data frames.\n",
        "\n",
        "You may need to install `seaborn` and `matplotlib`\n",
        "\n",
        "`conda install seaborn`<br>\n",
        "`conda install matplotlib`\n",
        "\n",
        "and just in case it's not the latest version, go ahead and update it:\n",
        "\n",
        "`conda update matplotlib`<br>\n",
        "`conda update seaborn`\n",
        "\n"
      ],
      "metadata": {}
    },
    {
      "cell_type": "code",
      "source": [
        "import matplotlib.pyplot as plt\n",
        "import seaborn as sns\n",
        "\n",
        "# There are five preset seaborn themes: darkgrid, whitegrid, dark, white, and ticks. \n",
        "# They are each suited to different applications and personal preferences.\n",
        "# You can see what they look like [here](https://seaborn.pydata.org/tutorial/aesthetics.html#seaborn-figure-styles)\n",
        "\n",
        "# Just for fun, we're going to set the theme to be a nice one:\n",
        "sns.set_theme(style=\"ticks\",\n",
        "              font_scale=1.3, # This scales the fonts slightly higher\n",
        "             )\n",
        "# And we're going to remove the top and right axis lines\n",
        "plt.rc(\"axes.spines\", top=False, right=False)"
      ],
      "outputs": [],
      "execution_count": 17,
      "metadata": {
        "execution": {
          "iopub.status.busy": "2020-11-19T17:06:19.479Z",
          "iopub.execute_input": "2020-11-19T17:06:19.489Z",
          "iopub.status.idle": "2020-11-19T17:06:19.508Z",
          "shell.execute_reply": "2020-11-19T17:06:19.517Z"
        }
      }
    },
    {
      "cell_type": "markdown",
      "source": [
        "### D1. Load data (1 mark)\n",
        "\n",
        "Without downloading the csv file to your repo, load the \"*BCCDC_COVID19.csv*\" file using the direct URL: \"http://www.bccdc.ca/Health-Info-Site/Documents/BCCDC_COVID19_Dashboard_Case_Details.csv\".\n",
        "\n",
        "**DO NOT DOWNLOAD THE DATA TO YOUR REPOSITORY!**\n",
        "\n",
        "Use `pandas` module/package and the `read_csv()` function to load the data by passing in the URL and then save the data in a variable called `df`."
      ],
      "metadata": {}
    },
    {
      "cell_type": "code",
      "source": [
        "# Your solution\n",
        "import pandas as pd\n",
        "df = pd.read_csv('http://www.bccdc.ca/Health-Info-Site/Documents/BCCDC_COVID19_Dashboard_Case_Details.csv')"
      ],
      "outputs": [],
      "execution_count": 18,
      "metadata": {
        "execution": {
          "iopub.status.busy": "2020-11-19T17:06:20.495Z",
          "iopub.execute_input": "2020-11-19T17:06:20.506Z",
          "shell.execute_reply": "2020-11-19T17:06:21.025Z",
          "iopub.status.idle": "2020-11-19T17:06:21.038Z"
        }
      }
    },
    {
      "cell_type": "markdown",
      "source": [
        "### D2. Counts of cases by Sex (2 marks)\n",
        "Using [`sns.countplot()`](https://seaborn.pydata.org/generated/seaborn.countplot.html?highlight=countplot#seaborn.countplot), plot the number of all female and male cases. \n",
        "\n",
        "Set the title to be \"Number of COVID-19 cases by Sex\". \n",
        "\n",
        "*Hint: The documentation above contains some examples that might help you get started*\n",
        "#### Sample output\n",
        "<img src=\"bar1.png\" width=\"400px\">"
      ],
      "metadata": {}
    },
    {
      "cell_type": "code",
      "source": [
        "# Your Solution here\n",
        "sns.countplot(y='Sex',data=df)\n",
        "plt.title('Number of COVID-19 cases by Sex')\n",
        "plt.xlabel('Count of cases')\n",
        "plt.ylabel('Sex of patients')"
      ],
      "outputs": [
        {
          "output_type": "execute_result",
          "execution_count": 19,
          "data": {
            "text/plain": "Text(0, 0.5, 'Sex of patients')"
          },
          "metadata": {}
        },
        {
          "output_type": "display_data",
          "data": {
            "text/plain": "<Figure size 432x288 with 1 Axes>",
            "image/png": "[encoded data removed]"
          },
          "metadata": {}
        }
      ],
      "execution_count": 19,
      "metadata": {
        "execution": {
          "iopub.status.busy": "2020-11-19T17:06:21.498Z",
          "iopub.execute_input": "2020-11-19T17:06:21.509Z",
          "iopub.status.idle": "2020-11-19T17:06:21.624Z",
          "shell.execute_reply": "2020-11-19T17:06:21.634Z"
        }
      }
    },
    {
      "cell_type": "markdown",
      "source": [
        "### D3. Counts of cases by Age Group (2 marks)\n",
        "\n",
        "Plot the counts of cases by age group, and order the y-axis by increasing age (use the `order` parameter of the `countplot()` function).\n",
        "\n",
        "<img src=\"bar_age.png\" width=\"400px\">"
      ],
      "metadata": {}
    },
    {
      "cell_type": "code",
      "source": [
        "# Your Solution here\n",
        "\n",
        "order = ['<10',\n",
        "         '10-19',\n",
        "         '20-29',\n",
        "         '30-39',\n",
        "         '40-49',\n",
        "         '50-59',\n",
        "         '60-69',\n",
        "         '70-79',\n",
        "         '80-89',\n",
        "         '90+',\n",
        "         'Unknown']\n",
        "\n",
        "sns.countplot(y='Age_Group',data=df,order=order)\n",
        "plt.title('Number of COVID-19 cases by Age Group')\n",
        "plt.xlabel('Count of cases')\n",
        "plt.ylabel('Age Group')"
      ],
      "outputs": [
        {
          "output_type": "execute_result",
          "execution_count": 20,
          "data": {
            "text/plain": "Text(0, 0.5, 'Age Group')"
          },
          "metadata": {}
        },
        {
          "output_type": "display_data",
          "data": {
            "text/plain": "<Figure size 432x288 with 1 Axes>",
            "image/png": "[encoded data removed]"
          },
          "metadata": {}
        }
      ],
      "execution_count": 20,
      "metadata": {
        "execution": {
          "iopub.status.busy": "2020-11-19T17:06:22.415Z",
          "iopub.execute_input": "2020-11-19T17:06:22.425Z",
          "iopub.status.idle": "2020-11-19T17:06:22.582Z",
          "shell.execute_reply": "2020-11-19T17:06:22.602Z"
        }
      }
    },
    {
      "cell_type": "markdown",
      "source": [
        "### D4. Cases by regional health authority (3 marks)\n",
        "\n",
        "Using `set()` data type, find the all the different regions in `df['HA']`. In the next step, calculate the count of all cases in each of those regions. Finally, using [`plt.barh`](https://matplotlib.org/3.1.1/api/_as_gen/matplotlib.pyplot.barh.html), plot a horizontal bar chart of number of cases based on their regions.\n",
        "\n",
        "*Hint: More information and examples can be find in [link](https://www.geeksforgeeks.org/matplotlib-axes-axes-barh-in-python/)*\n",
        "\n",
        "*Hint: Your plot doesn't have to look exactly like this, but please do explore the [possible color palettes](https://seaborn.pydata.org/tutorial/color_palettes.html). You can specify the colour palette by passing in the keyword like this: `palette='colorblind'`.*\n",
        "\n",
        "#### Sample output\n",
        "<img src=\"hbar.png\" width=\"400px\">"
      ],
      "metadata": {}
    },
    {
      "cell_type": "code",
      "source": [
        "# Your solution here\n",
        "\n",
        "sns.countplot(y='HA',data=df,hue='Sex',\n",
        "              palette='pastel')\n",
        "plt.xlabel('Case count')\n",
        "plt.ylabel('')\n",
        "plt.title('Cases by Regional Health authority split by sex')"
      ],
      "outputs": [
        {
          "output_type": "execute_result",
          "execution_count": 21,
          "data": {
            "text/plain": "Text(0.5, 1.0, 'Cases by Regional Health authority split by sex')"
          },
          "metadata": {}
        },
        {
          "output_type": "display_data",
          "data": {
            "text/plain": "<Figure size 432x288 with 1 Axes>",
            "image/png": "[encoded data removed]"
          },
          "metadata": {}
        }
      ],
      "execution_count": 21,
      "metadata": {
        "execution": {
          "iopub.status.busy": "2020-11-19T17:06:23.685Z",
          "iopub.execute_input": "2020-11-19T17:06:23.695Z",
          "iopub.status.idle": "2020-11-19T17:06:23.902Z",
          "shell.execute_reply": "2020-11-19T17:06:23.926Z"
        }
      }
    },
    {
      "cell_type": "markdown",
      "source": [
        "### D5. Data Wrangling I (2 marks)\n",
        "\n",
        "**Task: Add a new column to the dataframe to convert the \"Reported_Date\" column to a datetime object**\n",
        "\n",
        "To do this, first we need to add a new column to our dataset to turn the column \"Reported_Date\" into a proper datetime object so we can do operations on it.\n",
        "\n",
        "*Hint: Use to [to_datetime()](https://pandas.pydata.org/pandas-docs/stable/reference/api/pandas.to_datetime.html) function to help you first convert it into a datetime object, and then remove the timezone information and HH:MM:SS using [`.dt.date`](https://pandas.pydata.org/pandas-docs/stable/reference/api/pandas.Series.dt.date.html).*"
      ],
      "metadata": {}
    },
    {
      "cell_type": "code",
      "source": [
        "# Your Solution here\n",
        "\n",
        "df['Reported_Date_Object'] = pd.to_datetime(df['Reported_Date']).dt.date"
      ],
      "outputs": [],
      "execution_count": 22,
      "metadata": {
        "execution": {
          "iopub.status.busy": "2020-11-19T17:06:24.832Z",
          "iopub.execute_input": "2020-11-19T17:06:24.842Z",
          "iopub.status.idle": "2020-11-19T17:06:24.858Z",
          "shell.execute_reply": "2020-11-19T17:06:24.868Z"
        }
      }
    },
    {
      "cell_type": "markdown",
      "source": [
        "### D6. Data Wrangling II (1 mark)\n",
        "\n",
        "**Task: Find the earliest reported case and the latest reported case of COVID-19 in the dataset**\n",
        "\n",
        "You should use the pandas .min() and .max() functions here, now that your date string is converted to a DateTime object.\n",
        "\n",
        "#### Sample Output\n",
        "\n",
        "> The earliest reported case of COVID-19 was: 2020-01-26 <br>\n",
        "> The latest reported case of COVID-19 was: 2020-10-23 <br>"
      ],
      "metadata": {}
    },
    {
      "cell_type": "code",
      "source": [
        "# Your Solution here\n",
        "\n",
        "print('The earliest reported case of COVID-19 was: {0}.'.format(df['Reported_Date_Object'].min()))\n",
        "print('The latest reported case of COVID-19 was: {0}.'.format(df['Reported_Date_Object'].max()))"
      ],
      "outputs": [
        {
          "output_type": "stream",
          "name": "stdout",
          "text": [
            "The earliest reported case of COVID-19 was: 2020-01-26.\n",
            "The latest reported case of COVID-19 was: 2020-11-18.\n"
          ]
        }
      ],
      "execution_count": 23,
      "metadata": {
        "execution": {
          "iopub.status.busy": "2020-11-19T17:06:28.146Z",
          "iopub.execute_input": "2020-11-19T17:06:28.156Z",
          "iopub.status.idle": "2020-11-19T17:06:28.176Z",
          "shell.execute_reply": "2020-11-19T17:06:28.185Z"
        }
      }
    },
    {
      "cell_type": "markdown",
      "source": [
        "### D7. Data Wrangling III (2 marks)\n",
        "\n",
        "**Task: Create a new column in the data frame called \"days_since\".**\n",
        "\n",
        "This column will be of type integer, and will simply show the days since the first reported case of COVID-19.\n",
        "\n",
        "*Hint: Subtracting the earliest reported date from the `Reported_Date_Object` column will get you most of the way there. After that, the only thing left to is to turn the result (a datetime object) into an integer using [`.dt.days`](https://pandas.pydata.org/pandas-docs/stable/reference/api/pandas.Series.dt.days.html?highlight=dt.days#pandas.Series.dt.days).*"
      ],
      "metadata": {}
    },
    {
      "cell_type": "code",
      "source": [
        "# Your Solution here\n",
        "\n",
        "df['days_since'] = (df['Reported_Date_Object'] - df['Reported_Date_Object'].min()).dt.days"
      ],
      "outputs": [],
      "execution_count": 24,
      "metadata": {
        "execution": {
          "iopub.status.busy": "2020-11-19T17:06:29.412Z",
          "iopub.execute_input": "2020-11-19T17:06:29.423Z",
          "iopub.status.idle": "2020-11-19T17:06:29.459Z",
          "shell.execute_reply": "2020-11-19T17:06:29.474Z"
        }
      }
    },
    {
      "cell_type": "markdown",
      "source": [
        "### D8. Plot the COVID-19 cases plotted over time by sex (3 mark)\n",
        "\n",
        "Using `sns.displot`, plot the histogram of females and males cases over time.\n",
        "\n",
        "*Hint 1: [Here is a nice tutorial](https://seaborn.pydata.org/tutorial/distributions.html) of all the different options that are possible when creating a histogram.*\n",
        "\n",
        "#### Sample output\n",
        "<img src=\"hist.png\" width=\"600px\">"
      ],
      "metadata": {}
    },
    {
      "cell_type": "code",
      "source": [
        "# Your solution here \n",
        "\n",
        "ax = sns.displot(df,\n",
        "            x='days_since',\n",
        "            hue='Sex',\n",
        "            multiple='dodge',\n",
        "            aspect=2,\n",
        "           )\n",
        "\n",
        "plt.xlabel('Days since first reported case')\n",
        "plt.ylabel('Number of reported cases')\n",
        "plt.title('Reported COVID-19 cases by sex')"
      ],
      "outputs": [
        {
          "output_type": "execute_result",
          "execution_count": 26,
          "data": {
            "text/plain": "Text(0.5, 1.0, 'Reported COVID-19 cases by sex')"
          },
          "metadata": {}
        },
        {
          "output_type": "display_data",
          "data": {
            "text/plain": "<Figure size 783.355x360 with 1 Axes>",
            "image/png": "[encoded data removed]"
          },
          "metadata": {}
        }
      ],
      "execution_count": 26,
      "metadata": {
        "execution": {
          "iopub.status.busy": "2020-11-19T17:06:50.297Z",
          "iopub.execute_input": "2020-11-19T17:06:50.310Z",
          "iopub.status.idle": "2020-11-19T17:06:50.915Z",
          "shell.execute_reply": "2020-11-19T17:06:50.932Z"
        }
      }
    },
    {
      "cell_type": "markdown",
      "source": [
        "### D8. BONUS - For a bonus mark, move the legend to the top left of the plot (1 mark)"
      ],
      "metadata": {}
    },
    {
      "cell_type": "code",
      "source": [
        "# Your solution here"
      ],
      "outputs": [],
      "execution_count": 25,
      "metadata": {}
    },
    {
      "cell_type": "markdown",
      "source": [
        "### D8. BONUS - For a bonus mark, order the Health authorities on the y-axis (1 mark)\n",
        "\n",
        "You can order it by some metric (either alphabetically, or by total counts, or some other sensible metric)"
      ],
      "metadata": {}
    }
  ],
  "metadata": {
    "kernelspec": {
      "display_name": "Python 3",
      "language": "python",
      "name": "python3"
    },
    "language_info": {
      "name": "python",
      "version": "3.8.3",
      "mimetype": "text/x-python",
      "codemirror_mode": {
        "name": "ipython",
        "version": 3
      },
      "pygments_lexer": "ipython3",
      "nbconvert_exporter": "python",
      "file_extension": ".py"
    },
    "nteract": {
      "version": "0.26.0"
    }
  },
  "nbformat": 4,
  "nbformat_minor": 4
}